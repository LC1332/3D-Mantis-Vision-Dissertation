{
  "nbformat": 4,
  "nbformat_minor": 0,
  "metadata": {
    "colab": {
      "provenance": [],
      "authorship_tag": "ABX9TyO/LU7PZ/h8YbriIw56pmHl",
      "include_colab_link": true
    },
    "kernelspec": {
      "name": "python3",
      "display_name": "Python 3"
    },
    "language_info": {
      "name": "python"
    }
  },
  "cells": [
    {
      "cell_type": "markdown",
      "metadata": {
        "id": "view-in-github",
        "colab_type": "text"
      },
      "source": [
        "<a href=\"https://colab.research.google.com/github/LC1332/3D-Mantis-Vision-Dissertation/blob/main/%E6%89%B9%E9%87%8F%E8%AF%AD%E9%9F%B3%E5%90%88%E6%88%90%E7%81%AB%E5%B1%B1%E7%89%88%E6%9C%AC.ipynb\" target=\"_parent\"><img src=\"https://colab.research.google.com/assets/colab-badge.svg\" alt=\"Open In Colab\"/></a>"
      ]
    },
    {
      "cell_type": "code",
      "execution_count": null,
      "metadata": {
        "colab": {
          "base_uri": "https://localhost:8080/"
        },
        "id": "9rpeVEq0iCmT",
        "outputId": "c410a712-1be1-4cbe-a92c-a4271763dd02"
      },
      "outputs": [
        {
          "output_type": "stream",
          "name": "stdout",
          "text": [
            "Mounted at /content/drive\n"
          ]
        }
      ],
      "source": [
        "from google.colab import drive\n",
        "drive.mount('/content/drive')"
      ]
    },
    {
      "cell_type": "code",
      "source": [
        "import json\n",
        "\n",
        "# 文件路径\n",
        "file_path = '/content/drive/MyDrive/shiwan/output/10kqs_with_NER_fix.jsonl'\n",
        "\n",
        "# 初始化一个空列表，用于存储字典\n",
        "datas = []\n",
        "\n",
        "# 打开文件并读取每一行\n",
        "with open(file_path, 'r', encoding='utf-8') as file:\n",
        "    for line in file:\n",
        "        # 将每行的JSON字符串转换为字典\n",
        "        datas.append(json.loads(line))\n"
      ],
      "metadata": {
        "id": "nKHy_4D3iIj0"
      },
      "execution_count": null,
      "outputs": []
    },
    {
      "cell_type": "code",
      "source": [
        "import re\n",
        "\n",
        "def extract_keyword(json_text, keyword):\n",
        "    # 正则表达式模式，用于匹配关键词及其值\n",
        "    pattern = fr'\"\\s*{keyword}\\s*\"\\s*:\\s*\"\\s*([^\"]+)\\s*\"\\s*'\n",
        "\n",
        "    # 使用正则表达式搜索匹配项\n",
        "    match = re.search(pattern, json_text)\n",
        "\n",
        "    # 如果找到匹配项，返回匹配的值；否则返回 None\n",
        "    return match.group(1) if match else None\n",
        "\n",
        "\n",
        "def get_major_word( data ):\n",
        "    NER_response_str = data[\"NER_response\"]\n",
        "    # 解析字符串为字典\n",
        "    NER_response_str = NER_response_str.replace(\"(\", \"[\").replace(\")\", \"]\")\n",
        "\n",
        "    question = data[\"question\"]  # 问题\n",
        "\n",
        "    try:\n",
        "        NER_response = json.loads(NER_response_str)\n",
        "        major_keyword = NER_response[\"关键实体\"]  # 自动抽取的关键字\n",
        "    except:\n",
        "        major_keyword = extract_keyword(NER_response_str, \"关键实体\")\n",
        "        NER_response = None\n",
        "        if major_keyword is None:\n",
        "            major_keyword = data['question']\n",
        "\n",
        "    return major_keyword"
      ],
      "metadata": {
        "id": "CvYXnFnaiTLO"
      },
      "execution_count": null,
      "outputs": []
    },
    {
      "cell_type": "code",
      "source": [
        "\n",
        "def remove_punctuation(input_string):\n",
        "    # 定义需要去除的标点符号\n",
        "    punctuation = r\"\"\"[!\\\"#$%&\\'()*+,\\-./:;<=>?@\\[\\\\\\]^_`{|}~]\"\"\"\n",
        "    # 使用 re.sub() 替换掉所有的标点符号\n",
        "    output_string = re.sub(punctuation, '', input_string)\n",
        "    output_string = output_string.replace(\"，\", \"_\")\n",
        "    return output_string"
      ],
      "metadata": {
        "id": "0nLbT1MGiaJJ"
      },
      "execution_count": null,
      "outputs": []
    },
    {
      "cell_type": "code",
      "source": [
        "import base64\n",
        "import json\n",
        "import uuid\n",
        "import requests\n",
        "from google.colab import userdata\n",
        "\n",
        "class VolcanoTTS:\n",
        "    def __init__(self, voice_type = None, speed = None):\n",
        "        # 填写平台申请的appid, access_token以及cluster\n",
        "        self.appid = userdata.get('volcano_app_id')\n",
        "        self.access_token = userdata.get('volcano_access_token')\n",
        "        self.cluster = \"volcano_tts\"\n",
        "        if voice_type is None:\n",
        "            self.voice_type = \"BV426_streaming\"\n",
        "        else:\n",
        "            self.voice_type = voice_type\n",
        "        if speed is None:\n",
        "            self.speed = 0.9\n",
        "        else:\n",
        "            self.speed = speed\n",
        "        self.host = \"openspeech.bytedance.com\"\n",
        "        self.api_url = f\"https://{self.host}/api/v1/tts\"\n",
        "        self.header = {\"Authorization\": f\"Bearer;{self.access_token}\"}\n",
        "\n",
        "    def text2audio(self, content, save_name):\n",
        "        request_json = {\n",
        "            \"app\": {\n",
        "                \"appid\": self.appid,\n",
        "                \"token\": \"access_token\",\n",
        "                \"cluster\": self.cluster\n",
        "            },\n",
        "            \"user\": {\n",
        "                \"uid\": \"388808087185088\"\n",
        "            },\n",
        "            \"audio\": {\n",
        "                \"voice_type\": self.voice_type,\n",
        "                \"encoding\": \"mp3\",\n",
        "                \"speed_ratio\": self.speed,\n",
        "                \"volume_ratio\": 1.0,\n",
        "                \"pitch_ratio\": 1.0,\n",
        "            },\n",
        "            \"request\": {\n",
        "                \"reqid\": str(uuid.uuid4()),\n",
        "                \"text\": content,\n",
        "                \"text_type\": \"plain\",\n",
        "                \"operation\": \"query\",\n",
        "                \"with_frontend\": 1,\n",
        "                \"frontend_type\": \"unitTson\"\n",
        "            }\n",
        "        }\n",
        "\n",
        "        try:\n",
        "            resp = requests.post(self.api_url, json.dumps(request_json), headers=self.header, timeout = 40)\n",
        "            # print(f\"resp body: \\n{resp.json()}\")\n",
        "            if \"data\" in resp.json():\n",
        "                data = resp.json()[\"data\"]\n",
        "                with open(save_name, \"wb\") as file_to_save:\n",
        "                    file_to_save.write(base64.b64decode(data))\n",
        "        except Exception as e:\n",
        "            print(f\"An error occurred: {e}\")\n",
        "            raise\n",
        "\n",
        "# 使用示例\n",
        "# tts = VolcanoTTS(voice_type=\"BV700_streaming\")\n",
        "# tts.text2audio(content=\"字节跳动语音合成\", save_name=\"test_submit.mp3\")\n"
      ],
      "metadata": {
        "id": "peUE1-1uiy_5"
      },
      "execution_count": null,
      "outputs": []
    },
    {
      "cell_type": "code",
      "source": [
        "import os\n",
        "import shutil\n",
        "from tqdm import tqdm\n",
        "import zipfile\n",
        "\n",
        "save_step = 50\n",
        "target_folder = '/content/drive/MyDrive/shiwan/audios_volc'\n",
        "\n",
        "def check_and_create_directory(path):\n",
        "    \"\"\"确保目录存在，如果不存在则创建\"\"\"\n",
        "    if not os.path.exists(path):\n",
        "        os.makedirs(path)\n",
        "\n",
        "check_and_create_directory(target_folder)\n",
        "\n",
        "def zip_directory(source_dir, output_filename):\n",
        "    \"\"\"将指定目录压缩成zip文件\"\"\"\n",
        "    with zipfile.ZipFile(output_filename, 'w', zipfile.ZIP_DEFLATED) as zipf:\n",
        "        for root, dirs, files in os.walk(source_dir):\n",
        "            for file in files:\n",
        "                zipf.write(os.path.join(root, file), arcname=os.path.relpath(os.path.join(root, file), os.path.join(source_dir, '..')))\n",
        "\n",
        "tts = VolcanoTTS(voice_type=\"BV426_streaming\")\n",
        "\n",
        "def text2audio(content, save_name):\n",
        "    tts.text2audio(content, save_name)\n",
        "\n",
        "for data in tqdm(datas):\n",
        "    id = data['id']\n",
        "    batch_id = id // save_step\n",
        "\n",
        "    zip_file_path = os.path.join(target_folder, f'audio_in_batch_{batch_id}.zip')\n",
        "    batch_folder_path = f'audio_batch_{batch_id}'\n",
        "\n",
        "    # 检查是否存在zip文件\n",
        "    if os.path.exists(zip_file_path):\n",
        "        continue\n",
        "\n",
        "    # 确保批次文件夹存在\n",
        "    check_and_create_directory(batch_folder_path)\n",
        "\n",
        "    # 准备文件名和文本\n",
        "    question_text = data['question'] + \"?\"\n",
        "    short_answer = data['summary']\n",
        "    question_no_punc = remove_punctuation(data['question'])\n",
        "    category = data['category']\n",
        "    save_name_prefix = f\"{id}_{category}_{question_no_punc}\"\n",
        "    question_save_name = os.path.join(batch_folder_path, f\"{save_name_prefix}_question.mp3\")\n",
        "    short_answer_save_name = os.path.join(batch_folder_path, f\"{save_name_prefix}_short_answer.mp3\")\n",
        "\n",
        "    for _ in range(3):\n",
        "        # 生成音频文件\n",
        "        if not os.path.exists(question_save_name):\n",
        "            try:\n",
        "                text2audio(question_text, question_save_name)\n",
        "            except:\n",
        "                pass\n",
        "        if not os.path.exists(short_answer_save_name):\n",
        "            try:\n",
        "                text2audio(short_answer, short_answer_save_name)\n",
        "            except:\n",
        "                pass\n",
        "\n",
        "    # 如果是批次的最后一个文件\n",
        "    if (id + 1) % save_step == 0 or id == len(datas) - 1:\n",
        "        # 压缩文件夹\n",
        "        zip_directory(batch_folder_path, zip_file_path)\n",
        "        # 清理临时文件夹\n",
        "        shutil.rmtree(batch_folder_path)\n",
        "        print(f\"Batch {batch_id} processed and moved to {zip_file_path}\")\n",
        "\n",
        "print(\"All data processed.\")\n"
      ],
      "metadata": {
        "colab": {
          "base_uri": "https://localhost:8080/"
        },
        "id": "wNKVJ_XFjGj6",
        "outputId": "3a242cce-65c4-49aa-b660-30d8e679c695"
      },
      "execution_count": null,
      "outputs": [
        {
          "metadata": {
            "tags": null
          },
          "name": "stderr",
          "output_type": "stream",
          "text": [
            "  9%|▉         | 278/3107 [00:19<00:38, 73.83it/s]"
          ]
        },
        {
          "metadata": {
            "tags": null
          },
          "name": "stdout",
          "output_type": "stream",
          "text": [
            "An error occurred: ('Connection aborted.', ConnectionResetError(104, 'Connection reset by peer'))\n"
          ]
        },
        {
          "metadata": {
            "tags": null
          },
          "name": "stderr",
          "output_type": "stream",
          "text": [
            "  9%|▉         | 282/3107 [00:36<09:16,  5.07it/s]"
          ]
        },
        {
          "metadata": {
            "tags": null
          },
          "name": "stdout",
          "output_type": "stream",
          "text": [
            "An error occurred: ('Connection aborted.', ConnectionResetError(104, 'Connection reset by peer'))\n",
            "An error occurred: ('Connection aborted.', ConnectionResetError(104, 'Connection reset by peer'))\n"
          ]
        },
        {
          "metadata": {
            "tags": null
          },
          "name": "stderr",
          "output_type": "stream",
          "text": [
            "  9%|▉         | 285/3107 [01:10<21:02,  2.24it/s]"
          ]
        },
        {
          "metadata": {
            "tags": null
          },
          "name": "stdout",
          "output_type": "stream",
          "text": [
            "An error occurred: ('Connection aborted.', ConnectionResetError(104, 'Connection reset by peer'))\n"
          ]
        },
        {
          "metadata": {
            "tags": null
          },
          "name": "stderr",
          "output_type": "stream",
          "text": [
            " 10%|▉         | 298/3107 [02:52<4:58:56,  6.39s/it]"
          ]
        },
        {
          "metadata": {
            "tags": null
          },
          "name": "stdout",
          "output_type": "stream",
          "text": [
            "An error occurred: ('Connection aborted.', ConnectionResetError(104, 'Connection reset by peer'))\n"
          ]
        },
        {
          "metadata": {
            "tags": null
          },
          "name": "stderr",
          "output_type": "stream",
          "text": [
            " 10%|▉         | 300/3107 [03:09<5:31:40,  7.09s/it]"
          ]
        },
        {
          "metadata": {
            "tags": null
          },
          "name": "stdout",
          "output_type": "stream",
          "text": [
            "Batch 5 processed and moved to /content/drive/MyDrive/shiwan/audios_volc/audio_in_batch_5.zip\n"
          ]
        },
        {
          "metadata": {
            "tags": null
          },
          "name": "stderr",
          "output_type": "stream",
          "text": [
            " 10%|▉         | 305/3107 [03:57<6:55:27,  8.90s/it]"
          ]
        },
        {
          "metadata": {
            "tags": null
          },
          "name": "stdout",
          "output_type": "stream",
          "text": [
            "An error occurred: ('Connection aborted.', ConnectionResetError(104, 'Connection reset by peer'))\n"
          ]
        },
        {
          "metadata": {
            "tags": null
          },
          "name": "stderr",
          "output_type": "stream",
          "text": [
            " 10%|█         | 322/3107 [06:16<6:18:49,  8.16s/it]"
          ]
        },
        {
          "metadata": {
            "tags": null
          },
          "name": "stdout",
          "output_type": "stream",
          "text": [
            "An error occurred: ('Connection aborted.', ConnectionResetError(104, 'Connection reset by peer'))\n"
          ]
        },
        {
          "metadata": {
            "tags": null
          },
          "name": "stderr",
          "output_type": "stream",
          "text": [
            " 11%|█         | 334/3107 [08:00<5:12:43,  6.77s/it]"
          ]
        },
        {
          "metadata": {
            "tags": null
          },
          "name": "stdout",
          "output_type": "stream",
          "text": [
            "An error occurred: ('Connection aborted.', ConnectionResetError(104, 'Connection reset by peer'))\n"
          ]
        },
        {
          "metadata": {
            "tags": null
          },
          "name": "stderr",
          "output_type": "stream",
          "text": [
            " 11%|█         | 336/3107 [08:17<5:52:04,  7.62s/it]"
          ]
        },
        {
          "metadata": {
            "tags": null
          },
          "name": "stdout",
          "output_type": "stream",
          "text": [
            "An error occurred: ('Connection aborted.', ConnectionResetError(104, 'Connection reset by peer'))\n"
          ]
        },
        {
          "metadata": {
            "tags": null
          },
          "name": "stderr",
          "output_type": "stream",
          "text": [
            " 11%|█▏        | 350/3107 [10:22<7:46:30, 10.15s/it]"
          ]
        },
        {
          "metadata": {
            "tags": null
          },
          "name": "stdout",
          "output_type": "stream",
          "text": [
            "Batch 6 processed and moved to /content/drive/MyDrive/shiwan/audios_volc/audio_in_batch_6.zip\n",
            "An error occurred: ('Connection aborted.', ConnectionResetError(104, 'Connection reset by peer'))\n"
          ]
        },
        {
          "metadata": {
            "tags": null
          },
          "name": "stderr",
          "output_type": "stream",
          "text": [
            "\r 11%|█▏        | 351/3107 [10:33<7:55:39, 10.36s/it]"
          ]
        },
        {
          "metadata": {
            "tags": null
          },
          "name": "stdout",
          "output_type": "stream",
          "text": [
            "An error occurred: ('Connection aborted.', ConnectionResetError(104, 'Connection reset by peer'))\n"
          ]
        },
        {
          "metadata": {
            "tags": null
          },
          "name": "stderr",
          "output_type": "stream",
          "text": [
            " 11%|█▏        | 355/3107 [11:07<6:34:50,  8.61s/it]"
          ]
        },
        {
          "metadata": {
            "tags": null
          },
          "name": "stdout",
          "output_type": "stream",
          "text": [
            "An error occurred: ('Connection aborted.', ConnectionResetError(104, 'Connection reset by peer'))\n"
          ]
        },
        {
          "metadata": {
            "tags": null
          },
          "name": "stderr",
          "output_type": "stream",
          "text": [
            " 12%|█▏        | 360/3107 [11:45<5:34:51,  7.31s/it]"
          ]
        },
        {
          "metadata": {
            "tags": null
          },
          "name": "stdout",
          "output_type": "stream",
          "text": [
            "An error occurred: ('Connection aborted.', ConnectionResetError(104, 'Connection reset by peer'))\n",
            "An error occurred: ('Connection aborted.', ConnectionResetError(104, 'Connection reset by peer'))\n"
          ]
        },
        {
          "metadata": {
            "tags": null
          },
          "name": "stderr",
          "output_type": "stream",
          "text": [
            " 12%|█▏        | 363/3107 [12:16<6:39:34,  8.74s/it]"
          ]
        },
        {
          "metadata": {
            "tags": null
          },
          "name": "stdout",
          "output_type": "stream",
          "text": [
            "An error occurred: ('Connection aborted.', ConnectionResetError(104, 'Connection reset by peer'))\n"
          ]
        },
        {
          "metadata": {
            "tags": null
          },
          "name": "stderr",
          "output_type": "stream",
          "text": [
            " 12%|█▏        | 376/3107 [14:10<5:21:17,  7.06s/it]"
          ]
        },
        {
          "metadata": {
            "tags": null
          },
          "name": "stdout",
          "output_type": "stream",
          "text": [
            "An error occurred: ('Connection aborted.', ConnectionResetError(104, 'Connection reset by peer'))\n"
          ]
        },
        {
          "metadata": {
            "tags": null
          },
          "name": "stderr",
          "output_type": "stream",
          "text": [
            " 13%|█▎        | 396/3107 [17:51<7:12:38,  9.58s/it]"
          ]
        },
        {
          "metadata": {
            "tags": null
          },
          "name": "stdout",
          "output_type": "stream",
          "text": [
            "An error occurred: ('Connection aborted.', ConnectionResetError(104, 'Connection reset by peer'))\n"
          ]
        },
        {
          "metadata": {
            "tags": null
          },
          "name": "stderr",
          "output_type": "stream",
          "text": [
            "\r 13%|█▎        | 397/3107 [18:00<7:06:14,  9.44s/it]"
          ]
        },
        {
          "metadata": {
            "tags": null
          },
          "name": "stdout",
          "output_type": "stream",
          "text": [
            "An error occurred: ('Connection aborted.', ConnectionResetError(104, 'Connection reset by peer'))\n"
          ]
        },
        {
          "metadata": {
            "tags": null
          },
          "name": "stderr",
          "output_type": "stream",
          "text": [
            " 13%|█▎        | 399/3107 [18:17<6:36:26,  8.78s/it]"
          ]
        },
        {
          "metadata": {
            "tags": null
          },
          "name": "stdout",
          "output_type": "stream",
          "text": [
            "An error occurred: ('Connection aborted.', ConnectionResetError(104, 'Connection reset by peer'))\n"
          ]
        },
        {
          "metadata": {
            "tags": null
          },
          "name": "stderr",
          "output_type": "stream",
          "text": [
            "\r 13%|█▎        | 400/3107 [18:26<6:43:22,  8.94s/it]"
          ]
        },
        {
          "metadata": {
            "tags": null
          },
          "name": "stdout",
          "output_type": "stream",
          "text": [
            "Batch 7 processed and moved to /content/drive/MyDrive/shiwan/audios_volc/audio_in_batch_7.zip\n",
            "An error occurred: ('Connection aborted.', ConnectionResetError(104, 'Connection reset by peer'))\n"
          ]
        },
        {
          "metadata": {
            "tags": null
          },
          "name": "stderr",
          "output_type": "stream",
          "text": [
            " 13%|█▎        | 409/3107 [19:42<6:46:59,  9.05s/it]"
          ]
        },
        {
          "metadata": {
            "tags": null
          },
          "name": "stdout",
          "output_type": "stream",
          "text": [
            "An error occurred: ('Connection aborted.', ConnectionResetError(104, 'Connection reset by peer'))\n"
          ]
        },
        {
          "metadata": {
            "tags": null
          },
          "name": "stderr",
          "output_type": "stream",
          "text": [
            "\r 13%|█▎        | 410/3107 [19:49<6:19:30,  8.44s/it]"
          ]
        },
        {
          "metadata": {
            "tags": null
          },
          "name": "stdout",
          "output_type": "stream",
          "text": [
            "An error occurred: ('Connection aborted.', ConnectionResetError(104, 'Connection reset by peer'))\n"
          ]
        },
        {
          "metadata": {
            "tags": null
          },
          "name": "stderr",
          "output_type": "stream",
          "text": [
            " 13%|█▎        | 416/3107 [20:35<5:48:50,  7.78s/it]"
          ]
        },
        {
          "metadata": {
            "tags": null
          },
          "name": "stdout",
          "output_type": "stream",
          "text": [
            "An error occurred: ('Connection aborted.', ConnectionResetError(104, 'Connection reset by peer'))\n"
          ]
        },
        {
          "metadata": {
            "tags": null
          },
          "name": "stderr",
          "output_type": "stream",
          "text": [
            " 14%|█▎        | 421/3107 [21:16<5:23:03,  7.22s/it]"
          ]
        },
        {
          "metadata": {
            "tags": null
          },
          "name": "stdout",
          "output_type": "stream",
          "text": [
            "An error occurred: ('Connection aborted.', ConnectionResetError(104, 'Connection reset by peer'))\n"
          ]
        },
        {
          "metadata": {
            "tags": null
          },
          "name": "stderr",
          "output_type": "stream",
          "text": [
            " 14%|█▎        | 425/3107 [21:56<6:29:53,  8.72s/it]"
          ]
        },
        {
          "metadata": {
            "tags": null
          },
          "name": "stdout",
          "output_type": "stream",
          "text": [
            "An error occurred: ('Connection aborted.', ConnectionResetError(104, 'Connection reset by peer'))\n"
          ]
        },
        {
          "metadata": {
            "tags": null
          },
          "name": "stderr",
          "output_type": "stream",
          "text": [
            " 14%|█▍        | 443/3107 [24:06<5:19:01,  7.19s/it]"
          ]
        },
        {
          "metadata": {
            "tags": null
          },
          "name": "stdout",
          "output_type": "stream",
          "text": [
            "An error occurred: ('Connection aborted.', ConnectionResetError(104, 'Connection reset by peer'))\n"
          ]
        },
        {
          "metadata": {
            "tags": null
          },
          "name": "stderr",
          "output_type": "stream",
          "text": [
            " 14%|█▍        | 445/3107 [24:23<5:43:54,  7.75s/it]"
          ]
        },
        {
          "metadata": {
            "tags": null
          },
          "name": "stdout",
          "output_type": "stream",
          "text": [
            "An error occurred: ('Connection aborted.', ConnectionResetError(104, 'Connection reset by peer'))\n"
          ]
        },
        {
          "metadata": {
            "tags": null
          },
          "name": "stderr",
          "output_type": "stream",
          "text": [
            " 14%|█▍        | 450/3107 [25:11<6:17:07,  8.52s/it]"
          ]
        },
        {
          "metadata": {
            "tags": null
          },
          "name": "stdout",
          "output_type": "stream",
          "text": [
            "Batch 8 processed and moved to /content/drive/MyDrive/shiwan/audios_volc/audio_in_batch_8.zip\n",
            "An error occurred: ('Connection aborted.', ConnectionResetError(104, 'Connection reset by peer'))\n",
            "An error occurred: HTTPSConnectionPool(host='openspeech.bytedance.com', port=443): Read timed out.\n"
          ]
        },
        {
          "metadata": {
            "tags": null
          },
          "name": "stderr",
          "output_type": "stream",
          "text": [
            "\r 15%|█▍        | 451/3107 [26:06<16:32:52, 22.43s/it]"
          ]
        },
        {
          "metadata": {
            "tags": null
          },
          "name": "stdout",
          "output_type": "stream",
          "text": [
            "An error occurred: ('Connection aborted.', ConnectionResetError(104, 'Connection reset by peer'))\n"
          ]
        },
        {
          "metadata": {
            "tags": null
          },
          "name": "stderr",
          "output_type": "stream",
          "text": [
            "\r 15%|█▍        | 452/3107 [26:18<14:22:10, 19.48s/it]"
          ]
        },
        {
          "metadata": {
            "tags": null
          },
          "name": "stdout",
          "output_type": "stream",
          "text": [
            "An error occurred: ('Connection aborted.', ConnectionResetError(104, 'Connection reset by peer'))\n"
          ]
        },
        {
          "metadata": {
            "tags": null
          },
          "name": "stderr",
          "output_type": "stream",
          "text": [
            "\r 15%|█▍        | 453/3107 [26:30<12:31:57, 17.00s/it]"
          ]
        },
        {
          "metadata": {
            "tags": null
          },
          "name": "stdout",
          "output_type": "stream",
          "text": [
            "An error occurred: ('Connection aborted.', ConnectionResetError(104, 'Connection reset by peer'))\n"
          ]
        },
        {
          "metadata": {
            "tags": null
          },
          "name": "stderr",
          "output_type": "stream",
          "text": [
            " 15%|█▍        | 456/3107 [26:57<8:48:58, 11.97s/it]"
          ]
        },
        {
          "metadata": {
            "tags": null
          },
          "name": "stdout",
          "output_type": "stream",
          "text": [
            "An error occurred: ('Connection aborted.', ConnectionResetError(104, 'Connection reset by peer'))\n"
          ]
        },
        {
          "metadata": {
            "tags": null
          },
          "name": "stderr",
          "output_type": "stream",
          "text": [
            "\r 15%|█▍        | 457/3107 [27:13<9:30:49, 12.92s/it]"
          ]
        },
        {
          "metadata": {
            "tags": null
          },
          "name": "stdout",
          "output_type": "stream",
          "text": [
            "An error occurred: ('Connection aborted.', ConnectionResetError(104, 'Connection reset by peer'))\n"
          ]
        },
        {
          "metadata": {
            "tags": null
          },
          "name": "stderr",
          "output_type": "stream",
          "text": [
            " 15%|█▌        | 477/3107 [29:50<6:10:19,  8.45s/it]"
          ]
        },
        {
          "metadata": {
            "tags": null
          },
          "name": "stdout",
          "output_type": "stream",
          "text": [
            "An error occurred: ('Connection aborted.', ConnectionResetError(104, 'Connection reset by peer'))\n",
            "An error occurred: ('Connection aborted.', ConnectionResetError(104, 'Connection reset by peer'))\n"
          ]
        },
        {
          "metadata": {
            "tags": null
          },
          "name": "stderr",
          "output_type": "stream",
          "text": [
            " 16%|█▌        | 484/3107 [30:48<5:21:50,  7.36s/it]"
          ]
        },
        {
          "metadata": {
            "tags": null
          },
          "name": "stdout",
          "output_type": "stream",
          "text": [
            "An error occurred: ('Connection aborted.', ConnectionResetError(104, 'Connection reset by peer'))\n"
          ]
        },
        {
          "metadata": {
            "tags": null
          },
          "name": "stderr",
          "output_type": "stream",
          "text": [
            " 16%|█▌        | 486/3107 [31:10<6:34:06,  9.02s/it]"
          ]
        },
        {
          "metadata": {
            "tags": null
          },
          "name": "stdout",
          "output_type": "stream",
          "text": [
            "An error occurred: ('Connection aborted.', ConnectionResetError(104, 'Connection reset by peer'))\n"
          ]
        },
        {
          "metadata": {
            "tags": null
          },
          "name": "stderr",
          "output_type": "stream",
          "text": [
            " 16%|█▌        | 494/3107 [32:59<7:44:37, 10.67s/it]"
          ]
        },
        {
          "metadata": {
            "tags": null
          },
          "name": "stdout",
          "output_type": "stream",
          "text": [
            "An error occurred: ('Connection aborted.', ConnectionResetError(104, 'Connection reset by peer'))\n"
          ]
        },
        {
          "metadata": {
            "tags": null
          },
          "name": "stderr",
          "output_type": "stream",
          "text": [
            " 16%|█▌        | 500/3107 [33:53<7:34:13, 10.45s/it]"
          ]
        },
        {
          "metadata": {
            "tags": null
          },
          "name": "stdout",
          "output_type": "stream",
          "text": [
            "Batch 9 processed and moved to /content/drive/MyDrive/shiwan/audios_volc/audio_in_batch_9.zip\n"
          ]
        },
        {
          "metadata": {
            "tags": null
          },
          "name": "stderr",
          "output_type": "stream",
          "text": [
            " 16%|█▋        | 509/3107 [35:08<6:05:22,  8.44s/it]"
          ]
        },
        {
          "metadata": {
            "tags": null
          },
          "name": "stdout",
          "output_type": "stream",
          "text": [
            "An error occurred: ('Connection aborted.', ConnectionResetError(104, 'Connection reset by peer'))\n"
          ]
        },
        {
          "metadata": {
            "tags": null
          },
          "name": "stderr",
          "output_type": "stream",
          "text": [
            " 17%|█▋        | 515/3107 [36:08<6:40:11,  9.26s/it]"
          ]
        },
        {
          "metadata": {
            "tags": null
          },
          "name": "stdout",
          "output_type": "stream",
          "text": [
            "An error occurred: ('Connection aborted.', ConnectionResetError(104, 'Connection reset by peer'))\n"
          ]
        },
        {
          "metadata": {
            "tags": null
          },
          "name": "stderr",
          "output_type": "stream",
          "text": [
            "\r 17%|█▋        | 516/3107 [36:34<10:15:05, 14.24s/it]"
          ]
        },
        {
          "metadata": {
            "tags": null
          },
          "name": "stdout",
          "output_type": "stream",
          "text": [
            "An error occurred: ('Connection aborted.', ConnectionResetError(104, 'Connection reset by peer'))\n"
          ]
        },
        {
          "metadata": {
            "tags": null
          },
          "name": "stderr",
          "output_type": "stream",
          "text": [
            "\r 17%|█▋        | 517/3107 [36:44<9:21:36, 13.01s/it] "
          ]
        },
        {
          "metadata": {
            "tags": null
          },
          "name": "stdout",
          "output_type": "stream",
          "text": [
            "An error occurred: ('Connection aborted.', ConnectionResetError(104, 'Connection reset by peer'))\n"
          ]
        },
        {
          "metadata": {
            "tags": null
          },
          "name": "stderr",
          "output_type": "stream",
          "text": [
            " 17%|█▋        | 534/3107 [39:35<5:48:50,  8.13s/it]"
          ]
        },
        {
          "metadata": {
            "tags": null
          },
          "name": "stdout",
          "output_type": "stream",
          "text": [
            "An error occurred: ('Connection aborted.', ConnectionResetError(104, 'Connection reset by peer'))\n"
          ]
        },
        {
          "metadata": {
            "tags": null
          },
          "name": "stderr",
          "output_type": "stream",
          "text": [
            " 17%|█▋        | 539/3107 [40:25<5:54:25,  8.28s/it]"
          ]
        },
        {
          "metadata": {
            "tags": null
          },
          "name": "stdout",
          "output_type": "stream",
          "text": [
            "An error occurred: ('Connection aborted.', ConnectionResetError(104, 'Connection reset by peer'))\n"
          ]
        },
        {
          "metadata": {
            "tags": null
          },
          "name": "stderr",
          "output_type": "stream",
          "text": [
            " 18%|█▊        | 548/3107 [41:38<5:43:27,  8.05s/it]"
          ]
        },
        {
          "metadata": {
            "tags": null
          },
          "name": "stdout",
          "output_type": "stream",
          "text": [
            "An error occurred: ('Connection aborted.', ConnectionResetError(104, 'Connection reset by peer'))\n"
          ]
        },
        {
          "metadata": {
            "tags": null
          },
          "name": "stderr",
          "output_type": "stream",
          "text": [
            " 18%|█▊        | 550/3107 [41:58<6:22:22,  8.97s/it]"
          ]
        },
        {
          "metadata": {
            "tags": null
          },
          "name": "stdout",
          "output_type": "stream",
          "text": [
            "Batch 10 processed and moved to /content/drive/MyDrive/shiwan/audios_volc/audio_in_batch_10.zip\n"
          ]
        },
        {
          "metadata": {
            "tags": null
          },
          "name": "stderr",
          "output_type": "stream",
          "text": [
            " 18%|█▊        | 556/3107 [42:38<4:41:27,  6.62s/it]"
          ]
        },
        {
          "metadata": {
            "tags": null
          },
          "name": "stdout",
          "output_type": "stream",
          "text": [
            "An error occurred: ('Connection aborted.', ConnectionResetError(104, 'Connection reset by peer'))\n"
          ]
        },
        {
          "metadata": {
            "tags": null
          },
          "name": "stderr",
          "output_type": "stream",
          "text": [
            " 18%|█▊        | 558/3107 [42:56<5:49:47,  8.23s/it]"
          ]
        },
        {
          "metadata": {
            "tags": null
          },
          "name": "stdout",
          "output_type": "stream",
          "text": [
            "An error occurred: ('Connection aborted.', ConnectionResetError(104, 'Connection reset by peer'))\n"
          ]
        },
        {
          "metadata": {
            "tags": null
          },
          "name": "stderr",
          "output_type": "stream",
          "text": [
            " 18%|█▊        | 568/3107 [44:56<5:45:46,  8.17s/it]"
          ]
        },
        {
          "metadata": {
            "tags": null
          },
          "name": "stdout",
          "output_type": "stream",
          "text": [
            "An error occurred: ('Connection aborted.', ConnectionResetError(104, 'Connection reset by peer'))\n"
          ]
        },
        {
          "metadata": {
            "tags": null
          },
          "name": "stderr",
          "output_type": "stream",
          "text": [
            " 18%|█▊        | 573/3107 [45:40<5:52:26,  8.35s/it]"
          ]
        },
        {
          "metadata": {
            "tags": null
          },
          "name": "stdout",
          "output_type": "stream",
          "text": [
            "An error occurred: HTTPSConnectionPool(host='openspeech.bytedance.com', port=443): Read timed out.\n"
          ]
        },
        {
          "metadata": {
            "tags": null
          },
          "name": "stderr",
          "output_type": "stream",
          "text": [
            " 19%|█▉        | 589/3107 [48:13<4:59:54,  7.15s/it]"
          ]
        },
        {
          "metadata": {
            "tags": null
          },
          "name": "stdout",
          "output_type": "stream",
          "text": [
            "An error occurred: ('Connection aborted.', ConnectionResetError(104, 'Connection reset by peer'))\n"
          ]
        },
        {
          "metadata": {
            "tags": null
          },
          "name": "stderr",
          "output_type": "stream",
          "text": [
            " 19%|█▉        | 593/3107 [48:45<5:12:04,  7.45s/it]"
          ]
        },
        {
          "metadata": {
            "tags": null
          },
          "name": "stdout",
          "output_type": "stream",
          "text": [
            "An error occurred: ('Connection aborted.', ConnectionResetError(104, 'Connection reset by peer'))\n"
          ]
        },
        {
          "metadata": {
            "tags": null
          },
          "name": "stderr",
          "output_type": "stream",
          "text": [
            " 19%|█▉        | 599/3107 [49:33<5:35:55,  8.04s/it]"
          ]
        },
        {
          "metadata": {
            "tags": null
          },
          "name": "stdout",
          "output_type": "stream",
          "text": [
            "An error occurred: ('Connection aborted.', ConnectionResetError(104, 'Connection reset by peer'))\n"
          ]
        },
        {
          "metadata": {
            "tags": null
          },
          "name": "stderr",
          "output_type": "stream",
          "text": [
            "\r 19%|█▉        | 600/3107 [49:41<5:34:04,  8.00s/it]"
          ]
        },
        {
          "metadata": {
            "tags": null
          },
          "name": "stdout",
          "output_type": "stream",
          "text": [
            "Batch 11 processed and moved to /content/drive/MyDrive/shiwan/audios_volc/audio_in_batch_11.zip\n"
          ]
        },
        {
          "metadata": {
            "tags": null
          },
          "name": "stderr",
          "output_type": "stream",
          "text": [
            " 20%|█▉        | 613/3107 [51:33<7:57:05, 11.48s/it]"
          ]
        },
        {
          "metadata": {
            "tags": null
          },
          "name": "stdout",
          "output_type": "stream",
          "text": [
            "An error occurred: HTTPSConnectionPool(host='openspeech.bytedance.com', port=443): Read timed out. (read timeout=40)\n"
          ]
        },
        {
          "metadata": {
            "tags": null
          },
          "name": "stderr",
          "output_type": "stream",
          "text": [
            "\r 20%|█▉        | 614/3107 [52:27<16:48:14, 24.27s/it]"
          ]
        },
        {
          "metadata": {
            "tags": null
          },
          "name": "stdout",
          "output_type": "stream",
          "text": [
            "An error occurred: ('Connection aborted.', ConnectionResetError(104, 'Connection reset by peer'))\n"
          ]
        },
        {
          "metadata": {
            "tags": null
          },
          "name": "stderr",
          "output_type": "stream",
          "text": [
            " 20%|██        | 627/3107 [54:21<5:29:42,  7.98s/it]"
          ]
        },
        {
          "metadata": {
            "tags": null
          },
          "name": "stdout",
          "output_type": "stream",
          "text": [
            "An error occurred: ('Connection aborted.', ConnectionResetError(104, 'Connection reset by peer'))\n"
          ]
        },
        {
          "metadata": {
            "tags": null
          },
          "name": "stderr",
          "output_type": "stream",
          "text": [
            "\r 20%|██        | 628/3107 [55:02<12:20:17, 17.92s/it]"
          ]
        },
        {
          "metadata": {
            "tags": null
          },
          "name": "stdout",
          "output_type": "stream",
          "text": [
            "An error occurred: ('Connection aborted.', ConnectionResetError(104, 'Connection reset by peer'))\n",
            "An error occurred: ('Connection aborted.', ConnectionResetError(104, 'Connection reset by peer'))\n"
          ]
        },
        {
          "metadata": {
            "tags": null
          },
          "name": "stderr",
          "output_type": "stream",
          "text": [
            " 20%|██        | 632/3107 [55:36<7:03:56, 10.28s/it]"
          ]
        },
        {
          "metadata": {
            "tags": null
          },
          "name": "stdout",
          "output_type": "stream",
          "text": [
            "An error occurred: ('Connection aborted.', ConnectionResetError(104, 'Connection reset by peer'))\n",
            "An error occurred: ('Connection aborted.', ConnectionResetError(104, 'Connection reset by peer'))\n"
          ]
        },
        {
          "metadata": {
            "tags": null
          },
          "name": "stderr",
          "output_type": "stream",
          "text": [
            " 20%|██        | 634/3107 [56:02<7:34:10, 11.02s/it]"
          ]
        },
        {
          "metadata": {
            "tags": null
          },
          "name": "stdout",
          "output_type": "stream",
          "text": [
            "An error occurred: ('Connection aborted.', ConnectionResetError(104, 'Connection reset by peer'))\n"
          ]
        },
        {
          "metadata": {
            "tags": null
          },
          "name": "stderr",
          "output_type": "stream",
          "text": [
            " 21%|██        | 650/3107 [58:31<6:38:50,  9.74s/it]"
          ]
        },
        {
          "metadata": {
            "tags": null
          },
          "name": "stdout",
          "output_type": "stream",
          "text": [
            "Batch 12 processed and moved to /content/drive/MyDrive/shiwan/audios_volc/audio_in_batch_12.zip\n"
          ]
        },
        {
          "metadata": {
            "tags": null
          },
          "name": "stderr",
          "output_type": "stream",
          "text": [
            " 21%|██        | 653/3107 [58:54<5:35:06,  8.19s/it]"
          ]
        },
        {
          "metadata": {
            "tags": null
          },
          "name": "stdout",
          "output_type": "stream",
          "text": [
            "An error occurred: ('Connection aborted.', ConnectionResetError(104, 'Connection reset by peer'))\n"
          ]
        },
        {
          "metadata": {
            "tags": null
          },
          "name": "stderr",
          "output_type": "stream",
          "text": [
            " 21%|██        | 655/3107 [59:11<5:44:26,  8.43s/it]"
          ]
        },
        {
          "metadata": {
            "tags": null
          },
          "name": "stdout",
          "output_type": "stream",
          "text": [
            "An error occurred: ('Connection aborted.', ConnectionResetError(104, 'Connection reset by peer'))\n"
          ]
        },
        {
          "metadata": {
            "tags": null
          },
          "name": "stderr",
          "output_type": "stream",
          "text": [
            " 22%|██▏       | 696/3107 [1:04:36<4:43:37,  7.06s/it]"
          ]
        },
        {
          "metadata": {
            "tags": null
          },
          "name": "stdout",
          "output_type": "stream",
          "text": [
            "An error occurred: ('Connection aborted.', ConnectionResetError(104, 'Connection reset by peer'))\n"
          ]
        },
        {
          "metadata": {
            "tags": null
          },
          "name": "stderr",
          "output_type": "stream",
          "text": [
            " 23%|██▎       | 700/3107 [1:05:13<5:29:20,  8.21s/it]"
          ]
        },
        {
          "metadata": {
            "tags": null
          },
          "name": "stdout",
          "output_type": "stream",
          "text": [
            "Batch 13 processed and moved to /content/drive/MyDrive/shiwan/audios_volc/audio_in_batch_13.zip\n"
          ]
        },
        {
          "metadata": {
            "tags": null
          },
          "name": "stderr",
          "output_type": "stream",
          "text": [
            " 23%|██▎       | 721/3107 [1:07:54<4:41:43,  7.08s/it]"
          ]
        },
        {
          "metadata": {
            "tags": null
          },
          "name": "stdout",
          "output_type": "stream",
          "text": [
            "An error occurred: ('Connection aborted.', ConnectionResetError(104, 'Connection reset by peer'))\n"
          ]
        },
        {
          "metadata": {
            "tags": null
          },
          "name": "stderr",
          "output_type": "stream",
          "text": [
            " 23%|██▎       | 724/3107 [1:08:15<4:31:32,  6.84s/it]"
          ]
        },
        {
          "metadata": {
            "tags": null
          },
          "name": "stdout",
          "output_type": "stream",
          "text": [
            "An error occurred: ('Connection aborted.', ConnectionResetError(104, 'Connection reset by peer'))\n"
          ]
        },
        {
          "metadata": {
            "tags": null
          },
          "name": "stderr",
          "output_type": "stream",
          "text": [
            " 24%|██▎       | 735/3107 [1:09:35<4:40:23,  7.09s/it]"
          ]
        },
        {
          "metadata": {
            "tags": null
          },
          "name": "stdout",
          "output_type": "stream",
          "text": [
            "An error occurred: ('Connection aborted.', ConnectionResetError(104, 'Connection reset by peer'))\n"
          ]
        },
        {
          "metadata": {
            "tags": null
          },
          "name": "stderr",
          "output_type": "stream",
          "text": [
            "\r 24%|██▎       | 736/3107 [1:09:45<5:18:01,  8.05s/it]"
          ]
        },
        {
          "metadata": {
            "tags": null
          },
          "name": "stdout",
          "output_type": "stream",
          "text": [
            "An error occurred: ('Connection aborted.', ConnectionResetError(104, 'Connection reset by peer'))\n"
          ]
        },
        {
          "metadata": {
            "tags": null
          },
          "name": "stderr",
          "output_type": "stream",
          "text": [
            " 24%|██▍       | 740/3107 [1:10:29<6:19:13,  9.61s/it]"
          ]
        },
        {
          "metadata": {
            "tags": null
          },
          "name": "stdout",
          "output_type": "stream",
          "text": [
            "An error occurred: ('Connection aborted.', ConnectionResetError(104, 'Connection reset by peer'))\n"
          ]
        },
        {
          "metadata": {
            "tags": null
          },
          "name": "stderr",
          "output_type": "stream",
          "text": [
            " 24%|██▍       | 750/3107 [1:11:43<5:09:03,  7.87s/it]"
          ]
        },
        {
          "metadata": {
            "tags": null
          },
          "name": "stdout",
          "output_type": "stream",
          "text": [
            "Batch 14 processed and moved to /content/drive/MyDrive/shiwan/audios_volc/audio_in_batch_14.zip\n"
          ]
        },
        {
          "metadata": {
            "tags": null
          },
          "name": "stderr",
          "output_type": "stream",
          "text": [
            " 24%|██▍       | 755/3107 [1:12:16<4:11:49,  6.42s/it]"
          ]
        },
        {
          "metadata": {
            "tags": null
          },
          "name": "stdout",
          "output_type": "stream",
          "text": [
            "An error occurred: ('Connection aborted.', ConnectionResetError(104, 'Connection reset by peer'))\n"
          ]
        },
        {
          "metadata": {
            "tags": null
          },
          "name": "stderr",
          "output_type": "stream",
          "text": [
            " 25%|██▍       | 765/3107 [1:13:32<4:47:23,  7.36s/it]"
          ]
        },
        {
          "metadata": {
            "tags": null
          },
          "name": "stdout",
          "output_type": "stream",
          "text": [
            "An error occurred: ('Connection aborted.', ConnectionResetError(104, 'Connection reset by peer'))\n"
          ]
        },
        {
          "metadata": {
            "tags": null
          },
          "name": "stderr",
          "output_type": "stream",
          "text": [
            "\r 25%|██▍       | 766/3107 [1:13:39<4:46:02,  7.33s/it]"
          ]
        },
        {
          "metadata": {
            "tags": null
          },
          "name": "stdout",
          "output_type": "stream",
          "text": [
            "An error occurred: ('Connection aborted.', ConnectionResetError(104, 'Connection reset by peer'))\n"
          ]
        },
        {
          "metadata": {
            "tags": null
          },
          "name": "stderr",
          "output_type": "stream",
          "text": [
            " 25%|██▌       | 779/3107 [1:15:19<4:49:59,  7.47s/it]"
          ]
        },
        {
          "metadata": {
            "tags": null
          },
          "name": "stdout",
          "output_type": "stream",
          "text": [
            "An error occurred: ('Connection aborted.', ConnectionResetError(104, 'Connection reset by peer'))\n"
          ]
        },
        {
          "metadata": {
            "tags": null
          },
          "name": "stderr",
          "output_type": "stream",
          "text": [
            "\r 25%|██▌       | 780/3107 [1:15:29<5:19:38,  8.24s/it]"
          ]
        },
        {
          "metadata": {
            "tags": null
          },
          "name": "stdout",
          "output_type": "stream",
          "text": [
            "An error occurred: ('Connection aborted.', ConnectionResetError(104, 'Connection reset by peer'))\n"
          ]
        },
        {
          "metadata": {
            "tags": null
          },
          "name": "stderr",
          "output_type": "stream",
          "text": [
            " 25%|██▌       | 783/3107 [1:16:03<6:32:02, 10.12s/it]"
          ]
        },
        {
          "metadata": {
            "tags": null
          },
          "name": "stdout",
          "output_type": "stream",
          "text": [
            "An error occurred: ('Connection aborted.', ConnectionResetError(104, 'Connection reset by peer'))\n",
            "An error occurred: HTTPSConnectionPool(host='openspeech.bytedance.com', port=443): Read timed out.\n"
          ]
        },
        {
          "metadata": {
            "tags": null
          },
          "name": "stderr",
          "output_type": "stream",
          "text": [
            " 25%|██▌       | 785/3107 [1:17:03<11:37:13, 18.02s/it]"
          ]
        },
        {
          "metadata": {
            "tags": null
          },
          "name": "stdout",
          "output_type": "stream",
          "text": [
            "An error occurred: ('Connection aborted.', ConnectionResetError(104, 'Connection reset by peer'))\n"
          ]
        },
        {
          "metadata": {
            "tags": null
          },
          "name": "stderr",
          "output_type": "stream",
          "text": [
            "\r 25%|██▌       | 786/3107 [1:17:11<9:46:11, 15.15s/it] "
          ]
        },
        {
          "metadata": {
            "tags": null
          },
          "name": "stdout",
          "output_type": "stream",
          "text": [
            "An error occurred: ('Connection aborted.', ConnectionResetError(104, 'Connection reset by peer'))\n",
            "An error occurred: ('Connection aborted.', ConnectionResetError(104, 'Connection reset by peer'))\n"
          ]
        },
        {
          "metadata": {
            "tags": null
          },
          "name": "stderr",
          "output_type": "stream",
          "text": [
            " 25%|██▌       | 788/3107 [1:17:27<7:14:23, 11.24s/it]"
          ]
        },
        {
          "metadata": {
            "tags": null
          },
          "name": "stdout",
          "output_type": "stream",
          "text": [
            "An error occurred: ('Connection aborted.', ConnectionResetError(104, 'Connection reset by peer'))\n"
          ]
        },
        {
          "metadata": {
            "tags": null
          },
          "name": "stderr",
          "output_type": "stream",
          "text": [
            " 25%|██▌       | 790/3107 [1:17:48<6:57:14, 10.80s/it]"
          ]
        },
        {
          "metadata": {
            "tags": null
          },
          "name": "stdout",
          "output_type": "stream",
          "text": [
            "An error occurred: ('Connection aborted.', ConnectionResetError(104, 'Connection reset by peer'))\n"
          ]
        },
        {
          "metadata": {
            "tags": null
          },
          "name": "stderr",
          "output_type": "stream",
          "text": [
            "\r 25%|██▌       | 791/3107 [1:18:05<8:09:30, 12.68s/it]"
          ]
        },
        {
          "metadata": {
            "tags": null
          },
          "name": "stdout",
          "output_type": "stream",
          "text": [
            "An error occurred: ('Connection aborted.', ConnectionResetError(104, 'Connection reset by peer'))\n"
          ]
        },
        {
          "metadata": {
            "tags": null
          },
          "name": "stderr",
          "output_type": "stream",
          "text": [
            " 26%|██▌       | 798/3107 [1:18:55<4:36:16,  7.18s/it]"
          ]
        },
        {
          "metadata": {
            "tags": null
          },
          "name": "stdout",
          "output_type": "stream",
          "text": [
            "An error occurred: ('Connection aborted.', ConnectionResetError(104, 'Connection reset by peer'))\n"
          ]
        },
        {
          "metadata": {
            "tags": null
          },
          "name": "stderr",
          "output_type": "stream",
          "text": [
            " 26%|██▌       | 800/3107 [1:19:13<5:12:12,  8.12s/it]"
          ]
        },
        {
          "metadata": {
            "tags": null
          },
          "name": "stdout",
          "output_type": "stream",
          "text": [
            "Batch 15 processed and moved to /content/drive/MyDrive/shiwan/audios_volc/audio_in_batch_15.zip\n"
          ]
        },
        {
          "metadata": {
            "tags": null
          },
          "name": "stderr",
          "output_type": "stream",
          "text": [
            " 26%|██▌       | 802/3107 [1:19:27<4:52:55,  7.63s/it]"
          ]
        },
        {
          "metadata": {
            "tags": null
          },
          "name": "stdout",
          "output_type": "stream",
          "text": [
            "An error occurred: ('Connection aborted.', ConnectionResetError(104, 'Connection reset by peer'))\n"
          ]
        },
        {
          "metadata": {
            "tags": null
          },
          "name": "stderr",
          "output_type": "stream",
          "text": [
            " 26%|██▌       | 804/3107 [1:19:47<5:21:26,  8.37s/it]"
          ]
        },
        {
          "metadata": {
            "tags": null
          },
          "name": "stdout",
          "output_type": "stream",
          "text": [
            "An error occurred: ('Connection aborted.', ConnectionResetError(104, 'Connection reset by peer'))\n"
          ]
        },
        {
          "metadata": {
            "tags": null
          },
          "name": "stderr",
          "output_type": "stream",
          "text": [
            " 26%|██▌       | 813/3107 [1:20:59<4:31:39,  7.11s/it]"
          ]
        },
        {
          "metadata": {
            "tags": null
          },
          "name": "stdout",
          "output_type": "stream",
          "text": [
            "An error occurred: ('Connection aborted.', ConnectionResetError(104, 'Connection reset by peer'))\n"
          ]
        },
        {
          "metadata": {
            "tags": null
          },
          "name": "stderr",
          "output_type": "stream",
          "text": [
            " 26%|██▋       | 823/3107 [1:22:19<4:57:22,  7.81s/it]"
          ]
        },
        {
          "metadata": {
            "tags": null
          },
          "name": "stdout",
          "output_type": "stream",
          "text": [
            "An error occurred: ('Connection aborted.', ConnectionResetError(104, 'Connection reset by peer'))\n"
          ]
        },
        {
          "metadata": {
            "tags": null
          },
          "name": "stderr",
          "output_type": "stream",
          "text": [
            " 27%|██▋       | 833/3107 [1:23:53<6:05:41,  9.65s/it]"
          ]
        },
        {
          "metadata": {
            "tags": null
          },
          "name": "stdout",
          "output_type": "stream",
          "text": [
            "An error occurred: ('Connection aborted.', ConnectionResetError(104, 'Connection reset by peer'))\n"
          ]
        },
        {
          "metadata": {
            "tags": null
          },
          "name": "stderr",
          "output_type": "stream",
          "text": [
            " 27%|██▋       | 835/3107 [1:24:08<5:20:12,  8.46s/it]"
          ]
        },
        {
          "metadata": {
            "tags": null
          },
          "name": "stdout",
          "output_type": "stream",
          "text": [
            "An error occurred: ('Connection aborted.', ConnectionResetError(104, 'Connection reset by peer'))\n"
          ]
        },
        {
          "metadata": {
            "tags": null
          },
          "name": "stderr",
          "output_type": "stream",
          "text": [
            " 27%|██▋       | 839/3107 [1:24:37<4:31:40,  7.19s/it]"
          ]
        },
        {
          "metadata": {
            "tags": null
          },
          "name": "stdout",
          "output_type": "stream",
          "text": [
            "An error occurred: ('Connection aborted.', ConnectionResetError(104, 'Connection reset by peer'))\n"
          ]
        },
        {
          "metadata": {
            "tags": null
          },
          "name": "stderr",
          "output_type": "stream",
          "text": [
            " 27%|██▋       | 842/3107 [1:24:59<4:29:31,  7.14s/it]"
          ]
        },
        {
          "metadata": {
            "tags": null
          },
          "name": "stdout",
          "output_type": "stream",
          "text": [
            "An error occurred: ('Connection aborted.', ConnectionResetError(104, 'Connection reset by peer'))\n"
          ]
        },
        {
          "metadata": {
            "tags": null
          },
          "name": "stderr",
          "output_type": "stream",
          "text": [
            " 27%|██▋       | 850/3107 [1:26:02<5:01:55,  8.03s/it]"
          ]
        },
        {
          "metadata": {
            "tags": null
          },
          "name": "stdout",
          "output_type": "stream",
          "text": [
            "Batch 16 processed and moved to /content/drive/MyDrive/shiwan/audios_volc/audio_in_batch_16.zip\n"
          ]
        },
        {
          "metadata": {
            "tags": null
          },
          "name": "stderr",
          "output_type": "stream",
          "text": [
            " 28%|██▊       | 861/3107 [1:27:42<5:06:55,  8.20s/it]"
          ]
        },
        {
          "metadata": {
            "tags": null
          },
          "name": "stdout",
          "output_type": "stream",
          "text": [
            "An error occurred: ('Connection aborted.', ConnectionResetError(104, 'Connection reset by peer'))\n",
            "An error occurred: ('Connection aborted.', ConnectionResetError(104, 'Connection reset by peer'))\n"
          ]
        },
        {
          "metadata": {
            "tags": null
          },
          "name": "stderr",
          "output_type": "stream",
          "text": [
            " 28%|██▊       | 875/3107 [1:29:31<5:07:24,  8.26s/it]"
          ]
        },
        {
          "metadata": {
            "tags": null
          },
          "name": "stdout",
          "output_type": "stream",
          "text": [
            "An error occurred: ('Connection aborted.', ConnectionResetError(104, 'Connection reset by peer'))\n"
          ]
        },
        {
          "metadata": {
            "tags": null
          },
          "name": "stderr",
          "output_type": "stream",
          "text": [
            "\r 28%|██▊       | 876/3107 [1:29:38<4:56:09,  7.96s/it]"
          ]
        },
        {
          "metadata": {
            "tags": null
          },
          "name": "stdout",
          "output_type": "stream",
          "text": [
            "An error occurred: ('Connection aborted.', ConnectionResetError(104, 'Connection reset by peer'))\n"
          ]
        },
        {
          "metadata": {
            "tags": null
          },
          "name": "stderr",
          "output_type": "stream",
          "text": [
            "\r 28%|██▊       | 877/3107 [1:29:49<5:29:47,  8.87s/it]"
          ]
        },
        {
          "metadata": {
            "tags": null
          },
          "name": "stdout",
          "output_type": "stream",
          "text": [
            "An error occurred: ('Connection aborted.', ConnectionResetError(104, 'Connection reset by peer'))\n"
          ]
        },
        {
          "metadata": {
            "tags": null
          },
          "name": "stderr",
          "output_type": "stream",
          "text": [
            " 28%|██▊       | 885/3107 [1:30:45<3:52:43,  6.28s/it]"
          ]
        },
        {
          "metadata": {
            "tags": null
          },
          "name": "stdout",
          "output_type": "stream",
          "text": [
            "An error occurred: ('Connection aborted.', ConnectionResetError(104, 'Connection reset by peer'))\n"
          ]
        },
        {
          "output_type": "stream",
          "name": "stderr",
          "text": [
            " 29%|██▊       | 892/3107 [1:31:44<4:57:42,  8.06s/it]"
          ]
        },
        {
          "output_type": "stream",
          "name": "stdout",
          "text": [
            "An error occurred: ('Connection aborted.', ConnectionResetError(104, 'Connection reset by peer'))\n"
          ]
        },
        {
          "output_type": "stream",
          "name": "stderr",
          "text": [
            " 29%|██▉       | 900/3107 [1:32:58<6:10:57, 10.09s/it]"
          ]
        },
        {
          "output_type": "stream",
          "name": "stdout",
          "text": [
            "Batch 17 processed and moved to /content/drive/MyDrive/shiwan/audios_volc/audio_in_batch_17.zip\n"
          ]
        },
        {
          "output_type": "stream",
          "name": "stderr",
          "text": [
            " 29%|██▉       | 903/3107 [1:33:27<5:59:19,  9.78s/it]"
          ]
        },
        {
          "output_type": "stream",
          "name": "stdout",
          "text": [
            "An error occurred: ('Connection aborted.', ConnectionResetError(104, 'Connection reset by peer'))\n",
            "An error occurred: ('Connection aborted.', ConnectionResetError(104, 'Connection reset by peer'))\n"
          ]
        },
        {
          "output_type": "stream",
          "name": "stderr",
          "text": [
            "\r 29%|██▉       | 904/3107 [1:33:35<5:38:02,  9.21s/it]"
          ]
        },
        {
          "output_type": "stream",
          "name": "stdout",
          "text": [
            "An error occurred: ('Connection aborted.', ConnectionResetError(104, 'Connection reset by peer'))\n"
          ]
        },
        {
          "output_type": "stream",
          "name": "stderr",
          "text": [
            " 29%|██▉       | 907/3107 [1:33:59<4:53:45,  8.01s/it]"
          ]
        },
        {
          "output_type": "stream",
          "name": "stdout",
          "text": [
            "An error occurred: ('Connection aborted.', ConnectionResetError(104, 'Connection reset by peer'))\n"
          ]
        },
        {
          "output_type": "stream",
          "name": "stderr",
          "text": [
            " 29%|██▉       | 911/3107 [1:34:32<4:24:52,  7.24s/it]"
          ]
        },
        {
          "output_type": "stream",
          "name": "stdout",
          "text": [
            "An error occurred: HTTPSConnectionPool(host='openspeech.bytedance.com', port=443): Read timed out.\n",
            "An error occurred: HTTPSConnectionPool(host='openspeech.bytedance.com', port=443): Read timed out. (read timeout=40)\n"
          ]
        },
        {
          "output_type": "stream",
          "name": "stderr",
          "text": [
            "\r 29%|██▉       | 912/3107 [1:36:57<29:32:30, 48.45s/it]"
          ]
        },
        {
          "output_type": "stream",
          "name": "stdout",
          "text": [
            "An error occurred: ('Connection aborted.', ConnectionResetError(104, 'Connection reset by peer'))\n"
          ]
        },
        {
          "output_type": "stream",
          "name": "stderr",
          "text": [
            " 30%|██▉       | 918/3107 [1:37:38<7:02:34, 11.58s/it]"
          ]
        },
        {
          "output_type": "stream",
          "name": "stdout",
          "text": [
            "An error occurred: ('Connection aborted.', ConnectionResetError(104, 'Connection reset by peer'))\n"
          ]
        },
        {
          "output_type": "stream",
          "name": "stderr",
          "text": [
            " 30%|██▉       | 924/3107 [1:38:19<4:38:11,  7.65s/it]"
          ]
        },
        {
          "output_type": "stream",
          "name": "stdout",
          "text": [
            "An error occurred: ('Connection aborted.', ConnectionResetError(104, 'Connection reset by peer'))\n"
          ]
        },
        {
          "output_type": "stream",
          "name": "stderr",
          "text": [
            " 30%|███       | 935/3107 [1:39:40<4:05:10,  6.77s/it]"
          ]
        },
        {
          "output_type": "stream",
          "name": "stdout",
          "text": [
            "An error occurred: ('Connection aborted.', ConnectionResetError(104, 'Connection reset by peer'))\n"
          ]
        },
        {
          "output_type": "stream",
          "name": "stderr",
          "text": [
            " 30%|███       | 937/3107 [1:40:08<6:01:28,  9.99s/it]"
          ]
        },
        {
          "output_type": "stream",
          "name": "stdout",
          "text": [
            "An error occurred: ('Connection aborted.', ConnectionResetError(104, 'Connection reset by peer'))\n"
          ]
        },
        {
          "output_type": "stream",
          "name": "stderr",
          "text": [
            " 31%|███       | 950/3107 [1:41:53<4:46:11,  7.96s/it]"
          ]
        },
        {
          "output_type": "stream",
          "name": "stdout",
          "text": [
            "Batch 18 processed and moved to /content/drive/MyDrive/shiwan/audios_volc/audio_in_batch_18.zip\n"
          ]
        },
        {
          "output_type": "stream",
          "name": "stderr",
          "text": [
            " 31%|███       | 956/3107 [1:42:54<6:07:03, 10.24s/it]"
          ]
        },
        {
          "output_type": "stream",
          "name": "stdout",
          "text": [
            "An error occurred: ('Connection aborted.', ConnectionResetError(104, 'Connection reset by peer'))\n",
            "An error occurred: ('Connection aborted.', ConnectionResetError(104, 'Connection reset by peer'))\n"
          ]
        },
        {
          "output_type": "stream",
          "name": "stderr",
          "text": [
            " 31%|███       | 964/3107 [1:44:05<5:19:20,  8.94s/it]"
          ]
        },
        {
          "output_type": "stream",
          "name": "stdout",
          "text": [
            "An error occurred: ('Connection aborted.', ConnectionResetError(104, 'Connection reset by peer'))\n",
            "An error occurred: ('Connection aborted.', ConnectionResetError(104, 'Connection reset by peer'))\n"
          ]
        },
        {
          "output_type": "stream",
          "name": "stderr",
          "text": [
            "\r 31%|███       | 965/3107 [1:44:15<5:27:09,  9.16s/it]"
          ]
        },
        {
          "output_type": "stream",
          "name": "stdout",
          "text": [
            "An error occurred: HTTPSConnectionPool(host='openspeech.bytedance.com', port=443): Read timed out. (read timeout=40)\n"
          ]
        },
        {
          "output_type": "stream",
          "name": "stderr",
          "text": [
            " 31%|███       | 969/3107 [1:46:13<10:08:58, 17.09s/it]"
          ]
        },
        {
          "output_type": "stream",
          "name": "stdout",
          "text": [
            "An error occurred: ('Connection aborted.', ConnectionResetError(104, 'Connection reset by peer'))\n"
          ]
        },
        {
          "output_type": "stream",
          "name": "stderr",
          "text": [
            " 31%|███▏      | 978/3107 [1:47:33<5:44:48,  9.72s/it]"
          ]
        },
        {
          "output_type": "stream",
          "name": "stdout",
          "text": [
            "An error occurred: ('Connection aborted.', ConnectionResetError(104, 'Connection reset by peer'))\n"
          ]
        },
        {
          "output_type": "stream",
          "name": "stderr",
          "text": [
            "\r 32%|███▏      | 979/3107 [1:47:47<6:35:23, 11.15s/it]"
          ]
        },
        {
          "output_type": "stream",
          "name": "stdout",
          "text": [
            "An error occurred: ('Connection aborted.', ConnectionResetError(104, 'Connection reset by peer'))\n"
          ]
        },
        {
          "output_type": "stream",
          "name": "stderr",
          "text": [
            " 32%|███▏      | 992/3107 [1:49:38<4:30:00,  7.66s/it]"
          ]
        },
        {
          "output_type": "stream",
          "name": "stdout",
          "text": [
            "An error occurred: ('Connection aborted.', ConnectionResetError(104, 'Connection reset by peer'))\n"
          ]
        },
        {
          "output_type": "stream",
          "name": "stderr",
          "text": [
            " 32%|███▏      | 1000/3107 [1:50:31<3:50:02,  6.55s/it]"
          ]
        },
        {
          "output_type": "stream",
          "name": "stdout",
          "text": [
            "Batch 19 processed and moved to /content/drive/MyDrive/shiwan/audios_volc/audio_in_batch_19.zip\n"
          ]
        },
        {
          "output_type": "stream",
          "name": "stderr",
          "text": [
            " 32%|███▏      | 1004/3107 [1:50:56<3:45:49,  6.44s/it]"
          ]
        },
        {
          "output_type": "stream",
          "name": "stdout",
          "text": [
            "An error occurred: ('Connection aborted.', ConnectionResetError(104, 'Connection reset by peer'))\n"
          ]
        },
        {
          "output_type": "stream",
          "name": "stderr",
          "text": [
            "\r 32%|███▏      | 1005/3107 [1:51:07<4:39:51,  7.99s/it]"
          ]
        },
        {
          "output_type": "stream",
          "name": "stdout",
          "text": [
            "An error occurred: ('Connection aborted.', ConnectionResetError(104, 'Connection reset by peer'))\n"
          ]
        },
        {
          "output_type": "stream",
          "name": "stderr",
          "text": [
            " 33%|███▎      | 1024/3107 [1:53:44<5:08:52,  8.90s/it]"
          ]
        },
        {
          "output_type": "stream",
          "name": "stdout",
          "text": [
            "An error occurred: HTTPSConnectionPool(host='openspeech.bytedance.com', port=443): Read timed out.\n",
            "An error occurred: ('Connection aborted.', ConnectionResetError(104, 'Connection reset by peer'))\n"
          ]
        },
        {
          "output_type": "stream",
          "name": "stderr",
          "text": [
            "\r 33%|███▎      | 1025/3107 [1:55:43<24:20:54, 42.10s/it]"
          ]
        },
        {
          "output_type": "stream",
          "name": "stdout",
          "text": [
            "An error occurred: HTTPSConnectionPool(host='openspeech.bytedance.com', port=443): Read timed out. (read timeout=40)\n",
            "An error occurred: HTTPSConnectionPool(host='openspeech.bytedance.com', port=443): Read timed out. (read timeout=40)\n"
          ]
        },
        {
          "output_type": "stream",
          "name": "stderr",
          "text": [
            " 33%|███▎      | 1029/3107 [1:57:31<13:46:30, 23.86s/it]"
          ]
        },
        {
          "output_type": "stream",
          "name": "stdout",
          "text": [
            "An error occurred: ('Connection aborted.', ConnectionResetError(104, 'Connection reset by peer'))\n"
          ]
        },
        {
          "output_type": "stream",
          "name": "stderr",
          "text": [
            "\r 33%|███▎      | 1030/3107 [1:57:40<11:16:52, 19.55s/it]"
          ]
        },
        {
          "output_type": "stream",
          "name": "stdout",
          "text": [
            "An error occurred: ('Connection aborted.', ConnectionResetError(104, 'Connection reset by peer'))\n",
            "An error occurred: ('Connection aborted.', ConnectionResetError(104, 'Connection reset by peer'))\n"
          ]
        },
        {
          "output_type": "stream",
          "name": "stderr",
          "text": [
            " 34%|███▎      | 1048/3107 [2:00:20<3:58:29,  6.95s/it]"
          ]
        },
        {
          "output_type": "stream",
          "name": "stdout",
          "text": [
            "An error occurred: ('Connection aborted.', ConnectionResetError(104, 'Connection reset by peer'))\n"
          ]
        },
        {
          "output_type": "stream",
          "name": "stderr",
          "text": [
            " 34%|███▍      | 1050/3107 [2:00:41<4:57:20,  8.67s/it]"
          ]
        },
        {
          "output_type": "stream",
          "name": "stdout",
          "text": [
            "Batch 20 processed and moved to /content/drive/MyDrive/shiwan/audios_volc/audio_in_batch_20.zip\n"
          ]
        },
        {
          "output_type": "stream",
          "name": "stderr",
          "text": [
            " 35%|███▍      | 1079/3107 [2:03:51<3:38:56,  6.48s/it]"
          ]
        },
        {
          "output_type": "stream",
          "name": "stdout",
          "text": [
            "An error occurred: ('Connection aborted.', ConnectionResetError(104, 'Connection reset by peer'))\n"
          ]
        },
        {
          "output_type": "stream",
          "name": "stderr",
          "text": [
            " 35%|███▍      | 1082/3107 [2:04:23<4:50:01,  8.59s/it]"
          ]
        },
        {
          "output_type": "stream",
          "name": "stdout",
          "text": [
            "An error occurred: ('Connection aborted.', ConnectionResetError(104, 'Connection reset by peer'))\n"
          ]
        },
        {
          "output_type": "stream",
          "name": "stderr",
          "text": [
            " 35%|███▌      | 1088/3107 [2:05:09<4:40:13,  8.33s/it]"
          ]
        },
        {
          "output_type": "stream",
          "name": "stdout",
          "text": [
            "An error occurred: ('Connection aborted.', ConnectionResetError(104, 'Connection reset by peer'))\n"
          ]
        },
        {
          "output_type": "stream",
          "name": "stderr",
          "text": [
            "\r 35%|███▌      | 1089/3107 [2:05:18<4:40:50,  8.35s/it]"
          ]
        },
        {
          "output_type": "stream",
          "name": "stdout",
          "text": [
            "An error occurred: ('Connection aborted.', ConnectionResetError(104, 'Connection reset by peer'))\n"
          ]
        },
        {
          "output_type": "stream",
          "name": "stderr",
          "text": [
            " 35%|███▌      | 1095/3107 [2:05:58<3:41:51,  6.62s/it]"
          ]
        },
        {
          "output_type": "stream",
          "name": "stdout",
          "text": [
            "An error occurred: HTTPSConnectionPool(host='openspeech.bytedance.com', port=443): Read timed out.\n",
            "An error occurred: HTTPSConnectionPool(host='openspeech.bytedance.com', port=443): Read timed out. (read timeout=40)\n"
          ]
        },
        {
          "output_type": "stream",
          "name": "stderr",
          "text": [
            "\r 35%|███▌      | 1096/3107 [2:08:54<32:01:37, 57.33s/it]"
          ]
        },
        {
          "output_type": "stream",
          "name": "stdout",
          "text": [
            "An error occurred: HTTPSConnectionPool(host='openspeech.bytedance.com', port=443): Read timed out. (read timeout=40)\n",
            "An error occurred: HTTPSConnectionPool(host='openspeech.bytedance.com', port=443): Read timed out.\n",
            "An error occurred: HTTPSConnectionPool(host='openspeech.bytedance.com', port=443): Read timed out.\n"
          ]
        },
        {
          "output_type": "stream",
          "name": "stderr",
          "text": [
            " 35%|███▌      | 1100/3107 [2:13:56<28:42:22, 51.49s/it]"
          ]
        },
        {
          "output_type": "stream",
          "name": "stdout",
          "text": [
            "Batch 21 processed and moved to /content/drive/MyDrive/shiwan/audios_volc/audio_in_batch_21.zip\n"
          ]
        },
        {
          "output_type": "stream",
          "name": "stderr",
          "text": [
            " 36%|███▌      | 1113/3107 [2:15:51<5:32:09,  9.99s/it]"
          ]
        },
        {
          "output_type": "stream",
          "name": "stdout",
          "text": [
            "An error occurred: ('Connection aborted.', ConnectionResetError(104, 'Connection reset by peer'))\n"
          ]
        },
        {
          "output_type": "stream",
          "name": "stderr",
          "text": [
            " 36%|███▌      | 1119/3107 [2:16:42<4:30:19,  8.16s/it]"
          ]
        },
        {
          "output_type": "stream",
          "name": "stdout",
          "text": [
            "An error occurred: ('Connection aborted.', ConnectionResetError(104, 'Connection reset by peer'))\n"
          ]
        },
        {
          "output_type": "stream",
          "name": "stderr",
          "text": [
            " 36%|███▌      | 1122/3107 [2:17:09<4:37:18,  8.38s/it]"
          ]
        },
        {
          "output_type": "stream",
          "name": "stdout",
          "text": [
            "An error occurred: HTTPSConnectionPool(host='openspeech.bytedance.com', port=443): Read timed out.\n"
          ]
        },
        {
          "output_type": "stream",
          "name": "stderr",
          "text": [
            " 36%|███▋      | 1133/3107 [2:19:21<4:03:25,  7.40s/it]"
          ]
        },
        {
          "output_type": "stream",
          "name": "stdout",
          "text": [
            "An error occurred: ('Connection aborted.', ConnectionResetError(104, 'Connection reset by peer'))\n"
          ]
        },
        {
          "output_type": "stream",
          "name": "stderr",
          "text": [
            " 37%|███▋      | 1135/3107 [2:19:36<4:00:58,  7.33s/it]"
          ]
        },
        {
          "output_type": "stream",
          "name": "stdout",
          "text": [
            "An error occurred: ('Connection aborted.', ConnectionResetError(104, 'Connection reset by peer'))\n"
          ]
        },
        {
          "output_type": "stream",
          "name": "stderr",
          "text": [
            " 37%|███▋      | 1150/3107 [2:21:36<4:20:37,  7.99s/it]"
          ]
        },
        {
          "output_type": "stream",
          "name": "stdout",
          "text": [
            "Batch 22 processed and moved to /content/drive/MyDrive/shiwan/audios_volc/audio_in_batch_22.zip\n",
            "An error occurred: ('Connection aborted.', ConnectionResetError(104, 'Connection reset by peer'))\n"
          ]
        },
        {
          "output_type": "stream",
          "name": "stderr",
          "text": [
            " 37%|███▋      | 1153/3107 [2:22:03<4:31:17,  8.33s/it]"
          ]
        },
        {
          "output_type": "stream",
          "name": "stdout",
          "text": [
            "An error occurred: HTTPSConnectionPool(host='openspeech.bytedance.com', port=443): Read timed out. (read timeout=40)\n"
          ]
        },
        {
          "output_type": "stream",
          "name": "stderr",
          "text": [
            " 37%|███▋      | 1156/3107 [2:23:09<7:52:01, 14.52s/it]"
          ]
        },
        {
          "output_type": "stream",
          "name": "stdout",
          "text": [
            "An error occurred: ('Connection aborted.', ConnectionResetError(104, 'Connection reset by peer'))\n"
          ]
        },
        {
          "output_type": "stream",
          "name": "stderr",
          "text": [
            "\r 37%|███▋      | 1157/3107 [2:23:21<7:22:40, 13.62s/it]"
          ]
        },
        {
          "output_type": "stream",
          "name": "stdout",
          "text": [
            "An error occurred: ('Connection aborted.', ConnectionResetError(104, 'Connection reset by peer'))\n"
          ]
        },
        {
          "output_type": "stream",
          "name": "stderr",
          "text": [
            "\r 37%|███▋      | 1158/3107 [2:23:33<7:03:00, 13.02s/it]"
          ]
        },
        {
          "output_type": "stream",
          "name": "stdout",
          "text": [
            "An error occurred: ('Connection aborted.', ConnectionResetError(104, 'Connection reset by peer'))\n"
          ]
        },
        {
          "output_type": "stream",
          "name": "stderr",
          "text": [
            " 37%|███▋      | 1160/3107 [2:23:50<5:42:58, 10.57s/it]"
          ]
        },
        {
          "output_type": "stream",
          "name": "stdout",
          "text": [
            "An error occurred: HTTPSConnectionPool(host='openspeech.bytedance.com', port=443): Read timed out.\n",
            "An error occurred: HTTPSConnectionPool(host='openspeech.bytedance.com', port=443): Read timed out. (read timeout=40)\n"
          ]
        },
        {
          "output_type": "stream",
          "name": "stderr",
          "text": [
            " 38%|███▊      | 1174/3107 [2:28:20<3:53:39,  7.25s/it]"
          ]
        },
        {
          "output_type": "stream",
          "name": "stdout",
          "text": [
            "An error occurred: ('Connection aborted.', ConnectionResetError(104, 'Connection reset by peer'))\n"
          ]
        },
        {
          "output_type": "stream",
          "name": "stderr",
          "text": [
            " 38%|███▊      | 1178/3107 [2:28:56<4:48:09,  8.96s/it]"
          ]
        },
        {
          "output_type": "stream",
          "name": "stdout",
          "text": [
            "An error occurred: ('Connection aborted.', ConnectionResetError(104, 'Connection reset by peer'))\n"
          ]
        },
        {
          "output_type": "stream",
          "name": "stderr",
          "text": [
            " 38%|███▊      | 1181/3107 [2:29:22<4:27:58,  8.35s/it]"
          ]
        },
        {
          "output_type": "stream",
          "name": "stdout",
          "text": [
            "An error occurred: ('Connection aborted.', ConnectionResetError(104, 'Connection reset by peer'))\n"
          ]
        },
        {
          "output_type": "stream",
          "name": "stderr",
          "text": [
            "\r 38%|███▊      | 1182/3107 [2:29:34<4:57:25,  9.27s/it]"
          ]
        },
        {
          "output_type": "stream",
          "name": "stdout",
          "text": [
            "An error occurred: ('Connection aborted.', ConnectionResetError(104, 'Connection reset by peer'))\n"
          ]
        },
        {
          "output_type": "stream",
          "name": "stderr",
          "text": [
            " 38%|███▊      | 1196/3107 [2:31:21<3:33:36,  6.71s/it]"
          ]
        },
        {
          "output_type": "stream",
          "name": "stdout",
          "text": [
            "An error occurred: ('Connection aborted.', ConnectionResetError(104, 'Connection reset by peer'))\n"
          ]
        },
        {
          "output_type": "stream",
          "name": "stderr",
          "text": [
            " 39%|███▊      | 1200/3107 [2:31:57<4:28:28,  8.45s/it]"
          ]
        },
        {
          "output_type": "stream",
          "name": "stdout",
          "text": [
            "Batch 23 processed and moved to /content/drive/MyDrive/shiwan/audios_volc/audio_in_batch_23.zip\n"
          ]
        },
        {
          "output_type": "stream",
          "name": "stderr",
          "text": [
            " 39%|███▉      | 1205/3107 [2:32:43<4:09:19,  7.87s/it]"
          ]
        },
        {
          "output_type": "stream",
          "name": "stdout",
          "text": [
            "An error occurred: ('Connection aborted.', ConnectionResetError(104, 'Connection reset by peer'))\n"
          ]
        },
        {
          "output_type": "stream",
          "name": "stderr",
          "text": [
            " 39%|███▉      | 1215/3107 [2:34:30<5:07:21,  9.75s/it]"
          ]
        },
        {
          "output_type": "stream",
          "name": "stdout",
          "text": [
            "An error occurred: ('Connection aborted.', ConnectionResetError(104, 'Connection reset by peer'))\n"
          ]
        },
        {
          "output_type": "stream",
          "name": "stderr",
          "text": [
            " 40%|███▉      | 1233/3107 [2:37:03<4:40:14,  8.97s/it]"
          ]
        },
        {
          "output_type": "stream",
          "name": "stdout",
          "text": [
            "An error occurred: ('Connection aborted.', ConnectionResetError(104, 'Connection reset by peer'))\n",
            "An error occurred: ('Connection aborted.', ConnectionResetError(104, 'Connection reset by peer'))\n"
          ]
        },
        {
          "output_type": "stream",
          "name": "stderr",
          "text": [
            " 40%|████      | 1248/3107 [2:38:51<3:54:29,  7.57s/it]"
          ]
        },
        {
          "output_type": "stream",
          "name": "stdout",
          "text": [
            "An error occurred: ('Connection aborted.', ConnectionResetError(104, 'Connection reset by peer'))\n"
          ]
        },
        {
          "output_type": "stream",
          "name": "stderr",
          "text": [
            " 40%|████      | 1250/3107 [2:39:09<4:11:06,  8.11s/it]"
          ]
        },
        {
          "output_type": "stream",
          "name": "stdout",
          "text": [
            "Batch 24 processed and moved to /content/drive/MyDrive/shiwan/audios_volc/audio_in_batch_24.zip\n"
          ]
        },
        {
          "output_type": "stream",
          "name": "stderr",
          "text": [
            " 40%|████      | 1253/3107 [2:39:34<4:21:56,  8.48s/it]"
          ]
        },
        {
          "output_type": "stream",
          "name": "stdout",
          "text": [
            "An error occurred: ('Connection aborted.', ConnectionResetError(104, 'Connection reset by peer'))\n"
          ]
        },
        {
          "output_type": "stream",
          "name": "stderr",
          "text": [
            " 41%|████      | 1261/3107 [2:40:37<3:44:43,  7.30s/it]"
          ]
        },
        {
          "output_type": "stream",
          "name": "stdout",
          "text": [
            "An error occurred: ('Connection aborted.', ConnectionResetError(104, 'Connection reset by peer'))\n",
            "An error occurred: ('Connection aborted.', ConnectionResetError(104, 'Connection reset by peer'))\n"
          ]
        },
        {
          "output_type": "stream",
          "name": "stderr",
          "text": [
            " 41%|████      | 1278/3107 [2:43:00<3:38:57,  7.18s/it]"
          ]
        },
        {
          "output_type": "stream",
          "name": "stdout",
          "text": [
            "An error occurred: HTTPSConnectionPool(host='openspeech.bytedance.com', port=443): Read timed out. (read timeout=40)\n"
          ]
        },
        {
          "output_type": "stream",
          "name": "stderr",
          "text": [
            " 41%|████▏     | 1283/3107 [2:44:26<5:11:40, 10.25s/it]"
          ]
        },
        {
          "output_type": "stream",
          "name": "stdout",
          "text": [
            "An error occurred: ('Connection aborted.', ConnectionResetError(104, 'Connection reset by peer'))\n"
          ]
        },
        {
          "output_type": "stream",
          "name": "stderr",
          "text": [
            " 41%|████▏     | 1287/3107 [2:44:54<4:14:07,  8.38s/it]"
          ]
        },
        {
          "output_type": "stream",
          "name": "stdout",
          "text": [
            "An error occurred: ('Connection aborted.', ConnectionResetError(104, 'Connection reset by peer'))\n"
          ]
        },
        {
          "output_type": "stream",
          "name": "stderr",
          "text": [
            " 42%|████▏     | 1293/3107 [2:45:42<3:59:26,  7.92s/it]"
          ]
        },
        {
          "output_type": "stream",
          "name": "stdout",
          "text": [
            "An error occurred: ('Connection aborted.', ConnectionResetError(104, 'Connection reset by peer'))\n"
          ]
        },
        {
          "output_type": "stream",
          "name": "stderr",
          "text": [
            "\r 42%|████▏     | 1294/3107 [2:45:52<4:12:59,  8.37s/it]"
          ]
        },
        {
          "output_type": "stream",
          "name": "stdout",
          "text": [
            "An error occurred: ('Connection aborted.', ConnectionResetError(104, 'Connection reset by peer'))\n"
          ]
        },
        {
          "output_type": "stream",
          "name": "stderr",
          "text": [
            " 42%|████▏     | 1300/3107 [2:46:43<4:20:27,  8.65s/it]"
          ]
        },
        {
          "output_type": "stream",
          "name": "stdout",
          "text": [
            "Batch 25 processed and moved to /content/drive/MyDrive/shiwan/audios_volc/audio_in_batch_25.zip\n"
          ]
        },
        {
          "output_type": "stream",
          "name": "stderr",
          "text": [
            " 42%|████▏     | 1310/3107 [2:47:55<3:28:16,  6.95s/it]"
          ]
        },
        {
          "output_type": "stream",
          "name": "stdout",
          "text": [
            "An error occurred: ('Connection aborted.', ConnectionResetError(104, 'Connection reset by peer'))\n"
          ]
        },
        {
          "output_type": "stream",
          "name": "stderr",
          "text": [
            " 43%|████▎     | 1322/3107 [2:49:22<3:10:40,  6.41s/it]"
          ]
        },
        {
          "output_type": "stream",
          "name": "stdout",
          "text": [
            "An error occurred: ('Connection aborted.', ConnectionResetError(104, 'Connection reset by peer'))\n"
          ]
        },
        {
          "output_type": "stream",
          "name": "stderr",
          "text": [
            " 43%|████▎     | 1347/3107 [2:52:16<3:39:40,  7.49s/it]"
          ]
        },
        {
          "output_type": "stream",
          "name": "stdout",
          "text": [
            "An error occurred: ('Connection aborted.', ConnectionResetError(104, 'Connection reset by peer'))\n"
          ]
        },
        {
          "output_type": "stream",
          "name": "stderr",
          "text": [
            " 43%|████▎     | 1350/3107 [2:52:41<3:49:41,  7.84s/it]"
          ]
        },
        {
          "output_type": "stream",
          "name": "stdout",
          "text": [
            "Batch 26 processed and moved to /content/drive/MyDrive/shiwan/audios_volc/audio_in_batch_26.zip\n"
          ]
        },
        {
          "output_type": "stream",
          "name": "stderr",
          "text": [
            "\r 43%|████▎     | 1351/3107 [2:53:04<6:07:54, 12.57s/it]"
          ]
        },
        {
          "output_type": "stream",
          "name": "stdout",
          "text": [
            "An error occurred: ('Connection aborted.', ConnectionResetError(104, 'Connection reset by peer'))\n"
          ]
        },
        {
          "output_type": "stream",
          "name": "stderr",
          "text": [
            " 44%|████▎     | 1353/3107 [2:53:20<4:52:36, 10.01s/it]"
          ]
        },
        {
          "output_type": "stream",
          "name": "stdout",
          "text": [
            "An error occurred: ('Connection aborted.', ConnectionResetError(104, 'Connection reset by peer'))\n"
          ]
        },
        {
          "output_type": "stream",
          "name": "stderr",
          "text": [
            " 44%|████▍     | 1361/3107 [2:54:19<4:08:49,  8.55s/it]"
          ]
        },
        {
          "output_type": "stream",
          "name": "stdout",
          "text": [
            "An error occurred: ('Connection aborted.', ConnectionResetError(104, 'Connection reset by peer'))\n"
          ]
        },
        {
          "output_type": "stream",
          "name": "stderr",
          "text": [
            "\r 44%|████▍     | 1362/3107 [2:54:27<3:59:22,  8.23s/it]"
          ]
        },
        {
          "output_type": "stream",
          "name": "stdout",
          "text": [
            "An error occurred: ('Connection aborted.', ConnectionResetError(104, 'Connection reset by peer'))\n"
          ]
        },
        {
          "output_type": "stream",
          "name": "stderr",
          "text": [
            " 44%|████▍     | 1373/3107 [2:55:58<4:32:33,  9.43s/it]"
          ]
        },
        {
          "output_type": "stream",
          "name": "stdout",
          "text": [
            "An error occurred: ('Connection aborted.', ConnectionResetError(104, 'Connection reset by peer'))\n"
          ]
        },
        {
          "output_type": "stream",
          "name": "stderr",
          "text": [
            " 45%|████▍     | 1387/3107 [2:57:43<3:18:49,  6.94s/it]"
          ]
        },
        {
          "output_type": "stream",
          "name": "stdout",
          "text": [
            "An error occurred: ('Connection aborted.', ConnectionResetError(104, 'Connection reset by peer'))\n"
          ]
        },
        {
          "output_type": "stream",
          "name": "stderr",
          "text": [
            " 45%|████▌     | 1400/3107 [2:59:23<3:23:54,  7.17s/it]"
          ]
        },
        {
          "output_type": "stream",
          "name": "stdout",
          "text": [
            "Batch 27 processed and moved to /content/drive/MyDrive/shiwan/audios_volc/audio_in_batch_27.zip\n"
          ]
        },
        {
          "output_type": "stream",
          "name": "stderr",
          "text": [
            " 45%|████▌     | 1402/3107 [2:59:35<3:09:35,  6.67s/it]"
          ]
        },
        {
          "output_type": "stream",
          "name": "stdout",
          "text": [
            "An error occurred: ('Connection aborted.', ConnectionResetError(104, 'Connection reset by peer'))\n"
          ]
        },
        {
          "output_type": "stream",
          "name": "stderr",
          "text": [
            "\r 45%|████▌     | 1403/3107 [2:59:45<3:43:08,  7.86s/it]"
          ]
        },
        {
          "output_type": "stream",
          "name": "stdout",
          "text": [
            "An error occurred: ('Connection aborted.', ConnectionResetError(104, 'Connection reset by peer'))\n"
          ]
        },
        {
          "output_type": "stream",
          "name": "stderr",
          "text": [
            " 45%|████▌     | 1410/3107 [3:00:47<3:53:47,  8.27s/it]"
          ]
        },
        {
          "output_type": "stream",
          "name": "stdout",
          "text": [
            "An error occurred: ('Connection aborted.', ConnectionResetError(104, 'Connection reset by peer'))\n"
          ]
        },
        {
          "output_type": "stream",
          "name": "stderr",
          "text": [
            " 46%|████▌     | 1418/3107 [3:02:04<4:10:23,  8.89s/it]"
          ]
        },
        {
          "output_type": "stream",
          "name": "stdout",
          "text": [
            "An error occurred: ('Connection aborted.', ConnectionResetError(104, 'Connection reset by peer'))\n"
          ]
        },
        {
          "output_type": "stream",
          "name": "stderr",
          "text": [
            " 46%|████▌     | 1420/3107 [3:02:19<3:42:42,  7.92s/it]"
          ]
        },
        {
          "output_type": "stream",
          "name": "stdout",
          "text": [
            "An error occurred: ('Connection aborted.', ConnectionResetError(104, 'Connection reset by peer'))\n"
          ]
        },
        {
          "output_type": "stream",
          "name": "stderr",
          "text": [
            " 46%|████▌     | 1436/3107 [3:04:32<3:58:53,  8.58s/it]"
          ]
        },
        {
          "output_type": "stream",
          "name": "stdout",
          "text": [
            "An error occurred: ('Connection aborted.', ConnectionResetError(104, 'Connection reset by peer'))\n"
          ]
        },
        {
          "output_type": "stream",
          "name": "stderr",
          "text": [
            " 46%|████▋     | 1444/3107 [3:05:51<4:12:44,  9.12s/it]"
          ]
        },
        {
          "output_type": "stream",
          "name": "stdout",
          "text": [
            "An error occurred: ('Connection aborted.', ConnectionResetError(104, 'Connection reset by peer'))\n"
          ]
        },
        {
          "output_type": "stream",
          "name": "stderr",
          "text": [
            "\r 47%|████▋     | 1445/3107 [3:05:57<3:51:05,  8.34s/it]"
          ]
        },
        {
          "output_type": "stream",
          "name": "stdout",
          "text": [
            "An error occurred: ('Connection aborted.', ConnectionResetError(104, 'Connection reset by peer'))\n"
          ]
        },
        {
          "output_type": "stream",
          "name": "stderr",
          "text": [
            " 47%|████▋     | 1450/3107 [3:06:55<4:46:18, 10.37s/it]"
          ]
        },
        {
          "output_type": "stream",
          "name": "stdout",
          "text": [
            "Batch 28 processed and moved to /content/drive/MyDrive/shiwan/audios_volc/audio_in_batch_28.zip\n",
            "An error occurred: ('Connection aborted.', ConnectionResetError(104, 'Connection reset by peer'))\n"
          ]
        },
        {
          "output_type": "stream",
          "name": "stderr",
          "text": [
            " 47%|████▋     | 1465/3107 [3:08:50<4:07:53,  9.06s/it]"
          ]
        },
        {
          "output_type": "stream",
          "name": "stdout",
          "text": [
            "An error occurred: ('Connection aborted.', ConnectionResetError(104, 'Connection reset by peer'))\n"
          ]
        },
        {
          "output_type": "stream",
          "name": "stderr",
          "text": [
            " 47%|████▋     | 1469/3107 [3:09:29<4:21:36,  9.58s/it]"
          ]
        },
        {
          "output_type": "stream",
          "name": "stdout",
          "text": [
            "An error occurred: ('Connection aborted.', ConnectionResetError(104, 'Connection reset by peer'))\n"
          ]
        },
        {
          "output_type": "stream",
          "name": "stderr",
          "text": [
            " 48%|████▊     | 1481/3107 [3:10:54<3:24:36,  7.55s/it]"
          ]
        },
        {
          "output_type": "stream",
          "name": "stdout",
          "text": [
            "An error occurred: ('Connection aborted.', ConnectionResetError(104, 'Connection reset by peer'))\n"
          ]
        },
        {
          "output_type": "stream",
          "name": "stderr",
          "text": [
            " 48%|████▊     | 1499/3107 [3:13:08<3:23:43,  7.60s/it]"
          ]
        },
        {
          "output_type": "stream",
          "name": "stdout",
          "text": [
            "An error occurred: ('Connection aborted.', ConnectionResetError(104, 'Connection reset by peer'))\n"
          ]
        },
        {
          "output_type": "stream",
          "name": "stderr",
          "text": [
            "\r 48%|████▊     | 1500/3107 [3:13:17<3:34:26,  8.01s/it]"
          ]
        },
        {
          "output_type": "stream",
          "name": "stdout",
          "text": [
            "Batch 29 processed and moved to /content/drive/MyDrive/shiwan/audios_volc/audio_in_batch_29.zip\n",
            "An error occurred: ('Connection aborted.', ConnectionResetError(104, 'Connection reset by peer'))\n"
          ]
        },
        {
          "output_type": "stream",
          "name": "stderr",
          "text": [
            " 49%|████▊     | 1510/3107 [3:14:30<3:34:52,  8.07s/it]"
          ]
        },
        {
          "output_type": "stream",
          "name": "stdout",
          "text": [
            "An error occurred: ('Connection aborted.', ConnectionResetError(104, 'Connection reset by peer'))\n"
          ]
        },
        {
          "output_type": "stream",
          "name": "stderr",
          "text": [
            "\r 49%|████▊     | 1511/3107 [3:14:47<4:43:48, 10.67s/it]"
          ]
        },
        {
          "output_type": "stream",
          "name": "stdout",
          "text": [
            "An error occurred: ('Connection aborted.', ConnectionResetError(104, 'Connection reset by peer'))\n"
          ]
        },
        {
          "output_type": "stream",
          "name": "stderr",
          "text": [
            " 49%|████▉     | 1519/3107 [3:16:05<4:38:59, 10.54s/it]"
          ]
        },
        {
          "output_type": "stream",
          "name": "stdout",
          "text": [
            "An error occurred: ('Connection aborted.', ConnectionResetError(104, 'Connection reset by peer'))\n"
          ]
        },
        {
          "output_type": "stream",
          "name": "stderr",
          "text": [
            " 49%|████▉     | 1523/3107 [3:16:56<4:42:37, 10.71s/it]"
          ]
        },
        {
          "output_type": "stream",
          "name": "stdout",
          "text": [
            "An error occurred: ('Connection aborted.', ConnectionResetError(104, 'Connection reset by peer'))\n"
          ]
        },
        {
          "output_type": "stream",
          "name": "stderr",
          "text": [
            " 49%|████▉     | 1528/3107 [3:17:37<3:57:12,  9.01s/it]"
          ]
        },
        {
          "output_type": "stream",
          "name": "stdout",
          "text": [
            "An error occurred: ('Connection aborted.', ConnectionResetError(104, 'Connection reset by peer'))\n"
          ]
        },
        {
          "output_type": "stream",
          "name": "stderr",
          "text": [
            " 49%|████▉     | 1531/3107 [3:18:04<3:48:23,  8.69s/it]"
          ]
        },
        {
          "output_type": "stream",
          "name": "stdout",
          "text": [
            "An error occurred: ('Connection aborted.', ConnectionResetError(104, 'Connection reset by peer'))\n"
          ]
        },
        {
          "output_type": "stream",
          "name": "stderr",
          "text": [
            " 49%|████▉     | 1536/3107 [3:19:16<5:16:21, 12.08s/it]"
          ]
        },
        {
          "output_type": "stream",
          "name": "stdout",
          "text": [
            "An error occurred: ('Connection aborted.', ConnectionResetError(104, 'Connection reset by peer'))\n"
          ]
        },
        {
          "output_type": "stream",
          "name": "stderr",
          "text": [
            " 50%|████▉     | 1540/3107 [3:19:44<3:32:01,  8.12s/it]"
          ]
        },
        {
          "output_type": "stream",
          "name": "stdout",
          "text": [
            "An error occurred: ('Connection aborted.', ConnectionResetError(104, 'Connection reset by peer'))\n"
          ]
        },
        {
          "output_type": "stream",
          "name": "stderr",
          "text": [
            " 50%|████▉     | 1546/3107 [3:20:38<3:57:26,  9.13s/it]"
          ]
        },
        {
          "output_type": "stream",
          "name": "stdout",
          "text": [
            "An error occurred: ('Connection aborted.', ConnectionResetError(104, 'Connection reset by peer'))\n"
          ]
        },
        {
          "output_type": "stream",
          "name": "stderr",
          "text": [
            " 50%|████▉     | 1550/3107 [3:21:11<3:32:15,  8.18s/it]"
          ]
        },
        {
          "output_type": "stream",
          "name": "stdout",
          "text": [
            "Batch 30 processed and moved to /content/drive/MyDrive/shiwan/audios_volc/audio_in_batch_30.zip\n"
          ]
        },
        {
          "output_type": "stream",
          "name": "stderr",
          "text": [
            " 50%|████▉     | 1553/3107 [3:21:29<2:56:19,  6.81s/it]"
          ]
        },
        {
          "output_type": "stream",
          "name": "stdout",
          "text": [
            "An error occurred: ('Connection aborted.', ConnectionResetError(104, 'Connection reset by peer'))\n"
          ]
        },
        {
          "output_type": "stream",
          "name": "stderr",
          "text": [
            " 50%|█████     | 1556/3107 [3:21:58<3:42:37,  8.61s/it]"
          ]
        },
        {
          "output_type": "stream",
          "name": "stdout",
          "text": [
            "An error occurred: ('Connection aborted.', ConnectionResetError(104, 'Connection reset by peer'))\n"
          ]
        },
        {
          "output_type": "stream",
          "name": "stderr",
          "text": [
            "\r 50%|█████     | 1557/3107 [3:22:38<7:49:49, 18.19s/it]"
          ]
        },
        {
          "output_type": "stream",
          "name": "stdout",
          "text": [
            "An error occurred: ('Connection aborted.', ConnectionResetError(104, 'Connection reset by peer'))\n"
          ]
        },
        {
          "output_type": "stream",
          "name": "stderr",
          "text": [
            " 50%|█████     | 1561/3107 [3:23:06<4:07:09,  9.59s/it]"
          ]
        },
        {
          "output_type": "stream",
          "name": "stdout",
          "text": [
            "An error occurred: ('Connection aborted.', ConnectionResetError(104, 'Connection reset by peer'))\n"
          ]
        },
        {
          "output_type": "stream",
          "name": "stderr",
          "text": [
            "\r 50%|█████     | 1562/3107 [3:23:13<3:46:50,  8.81s/it]"
          ]
        },
        {
          "output_type": "stream",
          "name": "stdout",
          "text": [
            "An error occurred: ('Connection aborted.', ConnectionResetError(104, 'Connection reset by peer'))\n"
          ]
        },
        {
          "output_type": "stream",
          "name": "stderr",
          "text": [
            " 51%|█████     | 1583/3107 [3:25:49<2:49:26,  6.67s/it]"
          ]
        },
        {
          "output_type": "stream",
          "name": "stdout",
          "text": [
            "An error occurred: ('Connection aborted.', ConnectionResetError(104, 'Connection reset by peer'))\n"
          ]
        },
        {
          "output_type": "stream",
          "name": "stderr",
          "text": [
            "\r 51%|█████     | 1584/3107 [3:26:01<3:28:19,  8.21s/it]"
          ]
        },
        {
          "output_type": "stream",
          "name": "stdout",
          "text": [
            "An error occurred: ('Connection aborted.', ConnectionResetError(104, 'Connection reset by peer'))\n",
            "An error occurred: ('Connection aborted.', ConnectionResetError(104, 'Connection reset by peer'))\n"
          ]
        },
        {
          "output_type": "stream",
          "name": "stderr",
          "text": [
            " 51%|█████     | 1590/3107 [3:26:56<3:33:09,  8.43s/it]"
          ]
        },
        {
          "output_type": "stream",
          "name": "stdout",
          "text": [
            "An error occurred: ('Connection aborted.', ConnectionResetError(104, 'Connection reset by peer'))\n"
          ]
        },
        {
          "output_type": "stream",
          "name": "stderr",
          "text": [
            " 51%|█████▏    | 1598/3107 [3:27:58<3:12:05,  7.64s/it]"
          ]
        },
        {
          "output_type": "stream",
          "name": "stdout",
          "text": [
            "An error occurred: ('Connection aborted.', ConnectionResetError(104, 'Connection reset by peer'))\n"
          ]
        },
        {
          "output_type": "stream",
          "name": "stderr",
          "text": [
            "\r 51%|█████▏    | 1599/3107 [3:28:08<3:26:07,  8.20s/it]"
          ]
        },
        {
          "output_type": "stream",
          "name": "stdout",
          "text": [
            "An error occurred: ('Connection aborted.', ConnectionResetError(104, 'Connection reset by peer'))\n"
          ]
        },
        {
          "output_type": "stream",
          "name": "stderr",
          "text": [
            "\r 51%|█████▏    | 1600/3107 [3:28:18<3:40:06,  8.76s/it]"
          ]
        },
        {
          "output_type": "stream",
          "name": "stdout",
          "text": [
            "Batch 31 processed and moved to /content/drive/MyDrive/shiwan/audios_volc/audio_in_batch_31.zip\n"
          ]
        },
        {
          "output_type": "stream",
          "name": "stderr",
          "text": [
            " 52%|█████▏    | 1608/3107 [3:29:56<3:34:13,  8.57s/it]"
          ]
        },
        {
          "output_type": "stream",
          "name": "stdout",
          "text": [
            "An error occurred: ('Connection aborted.', ConnectionResetError(104, 'Connection reset by peer'))\n"
          ]
        },
        {
          "output_type": "stream",
          "name": "stderr",
          "text": [
            " 52%|█████▏    | 1631/3107 [3:33:36<3:16:02,  7.97s/it]"
          ]
        },
        {
          "output_type": "stream",
          "name": "stdout",
          "text": [
            "An error occurred: ('Connection aborted.', ConnectionResetError(104, 'Connection reset by peer'))\n"
          ]
        },
        {
          "output_type": "stream",
          "name": "stderr",
          "text": [
            "\r 53%|█████▎    | 1632/3107 [3:33:43<3:04:12,  7.49s/it]"
          ]
        },
        {
          "output_type": "stream",
          "name": "stdout",
          "text": [
            "An error occurred: ('Connection aborted.', ConnectionResetError(104, 'Connection reset by peer'))\n"
          ]
        },
        {
          "output_type": "stream",
          "name": "stderr",
          "text": [
            "\r 53%|█████▎    | 1633/3107 [3:33:51<3:08:01,  7.65s/it]"
          ]
        },
        {
          "output_type": "stream",
          "name": "stdout",
          "text": [
            "An error occurred: ('Connection aborted.', ConnectionResetError(104, 'Connection reset by peer'))\n"
          ]
        },
        {
          "output_type": "stream",
          "name": "stderr",
          "text": [
            "\r 53%|█████▎    | 1634/3107 [3:33:59<3:11:06,  7.78s/it]"
          ]
        },
        {
          "output_type": "stream",
          "name": "stdout",
          "text": [
            "An error occurred: ('Connection aborted.', ConnectionResetError(104, 'Connection reset by peer'))\n"
          ]
        },
        {
          "output_type": "stream",
          "name": "stderr",
          "text": [
            " 53%|█████▎    | 1642/3107 [3:34:56<2:34:07,  6.31s/it]"
          ]
        },
        {
          "output_type": "stream",
          "name": "stdout",
          "text": [
            "An error occurred: ('Connection aborted.', ConnectionResetError(104, 'Connection reset by peer'))\n"
          ]
        },
        {
          "output_type": "stream",
          "name": "stderr",
          "text": [
            " 53%|█████▎    | 1644/3107 [3:35:23<3:53:18,  9.57s/it]"
          ]
        },
        {
          "output_type": "stream",
          "name": "stdout",
          "text": [
            "An error occurred: HTTPSConnectionPool(host='openspeech.bytedance.com', port=443): Read timed out.\n"
          ]
        },
        {
          "output_type": "stream",
          "name": "stderr",
          "text": [
            "\r 53%|█████▎    | 1645/3107 [3:36:19<9:34:44, 23.59s/it]"
          ]
        },
        {
          "output_type": "stream",
          "name": "stdout",
          "text": [
            "An error occurred: ('Connection aborted.', ConnectionResetError(104, 'Connection reset by peer'))\n",
            "An error occurred: ('Connection aborted.', ConnectionResetError(104, 'Connection reset by peer'))\n"
          ]
        },
        {
          "output_type": "stream",
          "name": "stderr",
          "text": [
            " 53%|█████▎    | 1647/3107 [3:36:42<7:07:24, 17.56s/it]"
          ]
        },
        {
          "output_type": "stream",
          "name": "stdout",
          "text": [
            "An error occurred: ('Connection aborted.', ConnectionResetError(104, 'Connection reset by peer'))\n"
          ]
        },
        {
          "output_type": "stream",
          "name": "stderr",
          "text": [
            " 53%|█████▎    | 1649/3107 [3:37:00<5:22:18, 13.26s/it]"
          ]
        },
        {
          "output_type": "stream",
          "name": "stdout",
          "text": [
            "An error occurred: ('Connection aborted.', ConnectionResetError(104, 'Connection reset by peer'))\n"
          ]
        },
        {
          "output_type": "stream",
          "name": "stderr",
          "text": [
            "\r 53%|█████▎    | 1650/3107 [3:37:17<5:47:49, 14.32s/it]"
          ]
        },
        {
          "output_type": "stream",
          "name": "stdout",
          "text": [
            "Batch 32 processed and moved to /content/drive/MyDrive/shiwan/audios_volc/audio_in_batch_32.zip\n"
          ]
        },
        {
          "output_type": "stream",
          "name": "stderr",
          "text": [
            " 54%|█████▎    | 1667/3107 [3:39:17<3:00:55,  7.54s/it]"
          ]
        },
        {
          "output_type": "stream",
          "name": "stdout",
          "text": [
            "An error occurred: ('Connection aborted.', ConnectionResetError(104, 'Connection reset by peer'))\n"
          ]
        },
        {
          "output_type": "stream",
          "name": "stderr",
          "text": [
            " 54%|█████▍    | 1686/3107 [3:42:23<3:57:29, 10.03s/it]"
          ]
        },
        {
          "output_type": "stream",
          "name": "stdout",
          "text": [
            "An error occurred: ('Connection aborted.', ConnectionResetError(104, 'Connection reset by peer'))\n",
            "An error occurred: ('Connection aborted.', ConnectionResetError(104, 'Connection reset by peer'))\n"
          ]
        },
        {
          "output_type": "stream",
          "name": "stderr",
          "text": [
            " 55%|█████▍    | 1695/3107 [3:43:23<2:36:19,  6.64s/it]"
          ]
        },
        {
          "output_type": "stream",
          "name": "stdout",
          "text": [
            "An error occurred: ('Connection aborted.', ConnectionResetError(104, 'Connection reset by peer'))\n"
          ]
        },
        {
          "output_type": "stream",
          "name": "stderr",
          "text": [
            "\r 55%|█████▍    | 1696/3107 [3:43:31<2:40:53,  6.84s/it]"
          ]
        },
        {
          "output_type": "stream",
          "name": "stdout",
          "text": [
            "An error occurred: ('Connection aborted.', ConnectionResetError(104, 'Connection reset by peer'))\n"
          ]
        },
        {
          "output_type": "stream",
          "name": "stderr",
          "text": [
            " 55%|█████▍    | 1699/3107 [3:43:51<2:38:36,  6.76s/it]"
          ]
        },
        {
          "output_type": "stream",
          "name": "stdout",
          "text": [
            "An error occurred: ('Connection aborted.', ConnectionResetError(104, 'Connection reset by peer'))\n"
          ]
        },
        {
          "output_type": "stream",
          "name": "stderr",
          "text": [
            "\r 55%|█████▍    | 1700/3107 [3:44:15<4:42:31, 12.05s/it]"
          ]
        },
        {
          "output_type": "stream",
          "name": "stdout",
          "text": [
            "Batch 33 processed and moved to /content/drive/MyDrive/shiwan/audios_volc/audio_in_batch_33.zip\n"
          ]
        },
        {
          "output_type": "stream",
          "name": "stderr",
          "text": [
            " 55%|█████▍    | 1702/3107 [3:44:28<3:29:19,  8.94s/it]"
          ]
        },
        {
          "output_type": "stream",
          "name": "stdout",
          "text": [
            "An error occurred: ('Connection aborted.', ConnectionResetError(104, 'Connection reset by peer'))\n"
          ]
        },
        {
          "output_type": "stream",
          "name": "stderr",
          "text": [
            " 55%|█████▍    | 1705/3107 [3:44:53<3:16:27,  8.41s/it]"
          ]
        },
        {
          "output_type": "stream",
          "name": "stdout",
          "text": [
            "An error occurred: ('Connection aborted.', ConnectionResetError(104, 'Connection reset by peer'))\n"
          ]
        },
        {
          "output_type": "stream",
          "name": "stderr",
          "text": [
            " 55%|█████▍    | 1708/3107 [3:45:18<3:16:51,  8.44s/it]"
          ]
        },
        {
          "output_type": "stream",
          "name": "stdout",
          "text": [
            "An error occurred: ('Connection aborted.', ConnectionResetError(104, 'Connection reset by peer'))\n"
          ]
        },
        {
          "output_type": "stream",
          "name": "stderr",
          "text": [
            "\r 55%|█████▌    | 1709/3107 [3:45:28<3:29:21,  8.99s/it]"
          ]
        },
        {
          "output_type": "stream",
          "name": "stdout",
          "text": [
            "An error occurred: ('Connection aborted.', ConnectionResetError(104, 'Connection reset by peer'))\n"
          ]
        },
        {
          "output_type": "stream",
          "name": "stderr",
          "text": [
            " 55%|█████▌    | 1712/3107 [3:45:55<3:39:11,  9.43s/it]"
          ]
        },
        {
          "output_type": "stream",
          "name": "stdout",
          "text": [
            "An error occurred: HTTPSConnectionPool(host='openspeech.bytedance.com', port=443): Read timed out.\n"
          ]
        },
        {
          "output_type": "stream",
          "name": "stderr",
          "text": [
            " 55%|█████▌    | 1721/3107 [3:47:40<2:47:23,  7.25s/it]"
          ]
        },
        {
          "output_type": "stream",
          "name": "stdout",
          "text": [
            "An error occurred: ('Connection aborted.', ConnectionResetError(104, 'Connection reset by peer'))\n"
          ]
        },
        {
          "output_type": "stream",
          "name": "stderr",
          "text": [
            " 55%|█████▌    | 1723/3107 [3:47:58<3:08:26,  8.17s/it]"
          ]
        },
        {
          "output_type": "stream",
          "name": "stdout",
          "text": [
            "An error occurred: ('Connection aborted.', ConnectionResetError(104, 'Connection reset by peer'))\n"
          ]
        },
        {
          "output_type": "stream",
          "name": "stderr",
          "text": [
            " 56%|█████▌    | 1725/3107 [3:48:16<3:12:22,  8.35s/it]"
          ]
        },
        {
          "output_type": "stream",
          "name": "stdout",
          "text": [
            "An error occurred: ('Connection aborted.', ConnectionResetError(104, 'Connection reset by peer'))\n"
          ]
        },
        {
          "output_type": "stream",
          "name": "stderr",
          "text": [
            " 56%|█████▌    | 1741/3107 [3:50:27<3:07:55,  8.25s/it]"
          ]
        },
        {
          "output_type": "stream",
          "name": "stdout",
          "text": [
            "An error occurred: HTTPSConnectionPool(host='openspeech.bytedance.com', port=443): Read timed out.\n"
          ]
        },
        {
          "output_type": "stream",
          "name": "stderr",
          "text": [
            " 56%|█████▌    | 1743/3107 [3:51:23<6:10:12, 16.28s/it]"
          ]
        },
        {
          "output_type": "stream",
          "name": "stdout",
          "text": [
            "An error occurred: ('Connection aborted.', ConnectionResetError(104, 'Connection reset by peer'))\n",
            "An error occurred: ('Connection aborted.', ConnectionResetError(104, 'Connection reset by peer'))\n"
          ]
        },
        {
          "output_type": "stream",
          "name": "stderr",
          "text": [
            "\r 56%|█████▌    | 1744/3107 [3:51:31<5:12:39, 13.76s/it]"
          ]
        },
        {
          "output_type": "stream",
          "name": "stdout",
          "text": [
            "An error occurred: ('Connection aborted.', ConnectionResetError(104, 'Connection reset by peer'))\n",
            "An error occurred: ('Connection aborted.', ConnectionResetError(104, 'Connection reset by peer'))\n"
          ]
        },
        {
          "output_type": "stream",
          "name": "stderr",
          "text": [
            " 56%|█████▌    | 1746/3107 [3:51:50<4:15:14, 11.25s/it]"
          ]
        },
        {
          "output_type": "stream",
          "name": "stdout",
          "text": [
            "An error occurred: ('Connection aborted.', ConnectionResetError(104, 'Connection reset by peer'))\n",
            "An error occurred: ('Connection aborted.', ConnectionResetError(104, 'Connection reset by peer'))\n"
          ]
        },
        {
          "output_type": "stream",
          "name": "stderr",
          "text": [
            " 56%|█████▋    | 1749/3107 [3:52:17<3:35:25,  9.52s/it]"
          ]
        },
        {
          "output_type": "stream",
          "name": "stdout",
          "text": [
            "An error occurred: ('Connection aborted.', ConnectionResetError(104, 'Connection reset by peer'))\n"
          ]
        },
        {
          "output_type": "stream",
          "name": "stderr",
          "text": [
            "\r 56%|█████▋    | 1750/3107 [3:52:26<3:30:16,  9.30s/it]"
          ]
        },
        {
          "output_type": "stream",
          "name": "stdout",
          "text": [
            "Batch 34 processed and moved to /content/drive/MyDrive/shiwan/audios_volc/audio_in_batch_34.zip\n"
          ]
        },
        {
          "output_type": "stream",
          "name": "stderr",
          "text": [
            "\r 56%|█████▋    | 1751/3107 [3:52:32<3:06:26,  8.25s/it]"
          ]
        },
        {
          "output_type": "stream",
          "name": "stdout",
          "text": [
            "An error occurred: ('Connection aborted.', ConnectionResetError(104, 'Connection reset by peer'))\n"
          ]
        },
        {
          "output_type": "stream",
          "name": "stderr",
          "text": [
            " 57%|█████▋    | 1760/3107 [3:53:43<3:27:59,  9.26s/it]"
          ]
        },
        {
          "output_type": "stream",
          "name": "stdout",
          "text": [
            "An error occurred: ('Connection aborted.', ConnectionResetError(104, 'Connection reset by peer'))\n"
          ]
        },
        {
          "output_type": "stream",
          "name": "stderr",
          "text": [
            " 57%|█████▋    | 1779/3107 [3:56:27<3:15:12,  8.82s/it]"
          ]
        },
        {
          "output_type": "stream",
          "name": "stdout",
          "text": [
            "An error occurred: ('Connection aborted.', ConnectionResetError(104, 'Connection reset by peer'))\n"
          ]
        },
        {
          "output_type": "stream",
          "name": "stderr",
          "text": [
            " 57%|█████▋    | 1785/3107 [3:57:19<3:13:25,  8.78s/it]"
          ]
        },
        {
          "output_type": "stream",
          "name": "stdout",
          "text": [
            "An error occurred: ('Connection aborted.', ConnectionResetError(104, 'Connection reset by peer'))\n"
          ]
        },
        {
          "output_type": "stream",
          "name": "stderr",
          "text": [
            " 58%|█████▊    | 1787/3107 [3:57:38<3:15:13,  8.87s/it]"
          ]
        },
        {
          "output_type": "stream",
          "name": "stdout",
          "text": [
            "An error occurred: ('Connection aborted.', ConnectionResetError(104, 'Connection reset by peer'))\n",
            "An error occurred: ('Connection aborted.', ConnectionResetError(104, 'Connection reset by peer'))\n"
          ]
        },
        {
          "output_type": "stream",
          "name": "stderr",
          "text": [
            " 58%|█████▊    | 1800/3107 [3:59:33<4:22:56, 12.07s/it]"
          ]
        },
        {
          "output_type": "stream",
          "name": "stdout",
          "text": [
            "Batch 35 processed and moved to /content/drive/MyDrive/shiwan/audios_volc/audio_in_batch_35.zip\n"
          ]
        },
        {
          "output_type": "stream",
          "name": "stderr",
          "text": [
            "\r 58%|█████▊    | 1801/3107 [3:59:41<3:59:54, 11.02s/it]"
          ]
        },
        {
          "output_type": "stream",
          "name": "stdout",
          "text": [
            "An error occurred: ('Connection aborted.', ConnectionResetError(104, 'Connection reset by peer'))\n"
          ]
        },
        {
          "output_type": "stream",
          "name": "stderr",
          "text": [
            "\r 58%|█████▊    | 1802/3107 [3:59:50<3:46:31, 10.41s/it]"
          ]
        },
        {
          "output_type": "stream",
          "name": "stdout",
          "text": [
            "An error occurred: ('Connection aborted.', ConnectionResetError(104, 'Connection reset by peer'))\n"
          ]
        },
        {
          "output_type": "stream",
          "name": "stderr",
          "text": [
            " 58%|█████▊    | 1807/3107 [4:00:29<2:59:40,  8.29s/it]"
          ]
        },
        {
          "output_type": "stream",
          "name": "stdout",
          "text": [
            "An error occurred: ('Connection aborted.', ConnectionResetError(104, 'Connection reset by peer'))\n"
          ]
        },
        {
          "output_type": "stream",
          "name": "stderr",
          "text": [
            " 58%|█████▊    | 1813/3107 [4:01:14<2:35:10,  7.20s/it]"
          ]
        },
        {
          "output_type": "stream",
          "name": "stdout",
          "text": [
            "An error occurred: ('Connection aborted.', ConnectionResetError(104, 'Connection reset by peer'))\n"
          ]
        },
        {
          "output_type": "stream",
          "name": "stderr",
          "text": [
            " 59%|█████▊    | 1818/3107 [4:01:53<2:53:33,  8.08s/it]"
          ]
        },
        {
          "output_type": "stream",
          "name": "stdout",
          "text": [
            "An error occurred: ('Connection aborted.', ConnectionResetError(104, 'Connection reset by peer'))\n"
          ]
        },
        {
          "output_type": "stream",
          "name": "stderr",
          "text": [
            " 59%|█████▉    | 1831/3107 [4:03:44<2:42:54,  7.66s/it]"
          ]
        },
        {
          "output_type": "stream",
          "name": "stdout",
          "text": [
            "An error occurred: ('Connection aborted.', ConnectionResetError(104, 'Connection reset by peer'))\n"
          ]
        },
        {
          "output_type": "stream",
          "name": "stderr",
          "text": [
            " 59%|█████▉    | 1833/3107 [4:04:03<2:55:39,  8.27s/it]"
          ]
        },
        {
          "output_type": "stream",
          "name": "stdout",
          "text": [
            "An error occurred: ('Connection aborted.', ConnectionResetError(104, 'Connection reset by peer'))\n"
          ]
        },
        {
          "output_type": "stream",
          "name": "stderr",
          "text": [
            " 59%|█████▉    | 1843/3107 [4:05:24<2:27:31,  7.00s/it]"
          ]
        },
        {
          "output_type": "stream",
          "name": "stdout",
          "text": [
            "An error occurred: ('Connection aborted.', ConnectionResetError(104, 'Connection reset by peer'))\n"
          ]
        },
        {
          "output_type": "stream",
          "name": "stderr",
          "text": [
            " 59%|█████▉    | 1847/3107 [4:05:54<2:25:11,  6.91s/it]"
          ]
        },
        {
          "output_type": "stream",
          "name": "stdout",
          "text": [
            "An error occurred: ('Connection aborted.', RemoteDisconnected('Remote end closed connection without response'))\n"
          ]
        },
        {
          "output_type": "stream",
          "name": "stderr",
          "text": [
            " 60%|█████▉    | 1850/3107 [4:06:59<4:53:08, 13.99s/it]"
          ]
        },
        {
          "output_type": "stream",
          "name": "stdout",
          "text": [
            "Batch 36 processed and moved to /content/drive/MyDrive/shiwan/audios_volc/audio_in_batch_36.zip\n"
          ]
        },
        {
          "output_type": "stream",
          "name": "stderr",
          "text": [
            " 60%|█████▉    | 1854/3107 [4:07:46<4:20:18, 12.47s/it]"
          ]
        },
        {
          "output_type": "stream",
          "name": "stdout",
          "text": [
            "An error occurred: ('Connection aborted.', ConnectionResetError(104, 'Connection reset by peer'))\n"
          ]
        },
        {
          "output_type": "stream",
          "name": "stderr",
          "text": [
            " 60%|██████    | 1869/3107 [4:10:03<3:35:58, 10.47s/it]"
          ]
        },
        {
          "output_type": "stream",
          "name": "stdout",
          "text": [
            "An error occurred: ('Connection aborted.', ConnectionResetError(104, 'Connection reset by peer'))\n"
          ]
        },
        {
          "output_type": "stream",
          "name": "stderr",
          "text": [
            " 60%|██████    | 1874/3107 [4:10:37<2:25:15,  7.07s/it]"
          ]
        },
        {
          "output_type": "stream",
          "name": "stdout",
          "text": [
            "An error occurred: ('Connection aborted.', ConnectionResetError(104, 'Connection reset by peer'))\n"
          ]
        },
        {
          "output_type": "stream",
          "name": "stderr",
          "text": [
            " 61%|██████    | 1900/3107 [4:14:13<2:12:09,  6.57s/it]"
          ]
        },
        {
          "output_type": "stream",
          "name": "stdout",
          "text": [
            "Batch 37 processed and moved to /content/drive/MyDrive/shiwan/audios_volc/audio_in_batch_37.zip\n"
          ]
        },
        {
          "output_type": "stream",
          "name": "stderr",
          "text": [
            " 61%|██████    | 1903/3107 [4:14:34<2:16:50,  6.82s/it]"
          ]
        },
        {
          "output_type": "stream",
          "name": "stdout",
          "text": [
            "An error occurred: ('Connection aborted.', ConnectionResetError(104, 'Connection reset by peer'))\n"
          ]
        },
        {
          "output_type": "stream",
          "name": "stderr",
          "text": [
            " 61%|██████▏   | 1908/3107 [4:15:16<2:50:43,  8.54s/it]"
          ]
        },
        {
          "output_type": "stream",
          "name": "stdout",
          "text": [
            "An error occurred: ('Connection aborted.', ConnectionResetError(104, 'Connection reset by peer'))\n"
          ]
        },
        {
          "output_type": "stream",
          "name": "stderr",
          "text": [
            " 62%|██████▏   | 1921/3107 [4:16:54<2:29:34,  7.57s/it]"
          ]
        },
        {
          "output_type": "stream",
          "name": "stdout",
          "text": [
            "An error occurred: ('Connection aborted.', ConnectionResetError(104, 'Connection reset by peer'))\n"
          ]
        },
        {
          "output_type": "stream",
          "name": "stderr",
          "text": [
            " 62%|██████▏   | 1932/3107 [4:18:32<3:10:46,  9.74s/it]"
          ]
        },
        {
          "output_type": "stream",
          "name": "stdout",
          "text": [
            "An error occurred: ('Connection aborted.', ConnectionResetError(104, 'Connection reset by peer'))\n"
          ]
        },
        {
          "output_type": "stream",
          "name": "stderr",
          "text": [
            " 62%|██████▏   | 1937/3107 [4:19:05<2:12:24,  6.79s/it]"
          ]
        },
        {
          "output_type": "stream",
          "name": "stdout",
          "text": [
            "An error occurred: ('Connection aborted.', ConnectionResetError(104, 'Connection reset by peer'))\n",
            "An error occurred: ('Connection aborted.', ConnectionResetError(104, 'Connection reset by peer'))\n"
          ]
        },
        {
          "output_type": "stream",
          "name": "stderr",
          "text": [
            " 63%|██████▎   | 1950/3107 [4:21:07<2:34:18,  8.00s/it]"
          ]
        },
        {
          "output_type": "stream",
          "name": "stdout",
          "text": [
            "Batch 38 processed and moved to /content/drive/MyDrive/shiwan/audios_volc/audio_in_batch_38.zip\n"
          ]
        },
        {
          "output_type": "stream",
          "name": "stderr",
          "text": [
            " 63%|██████▎   | 1968/3107 [4:23:45<2:57:42,  9.36s/it]"
          ]
        },
        {
          "output_type": "stream",
          "name": "stdout",
          "text": [
            "An error occurred: ('Connection aborted.', ConnectionResetError(104, 'Connection reset by peer'))\n"
          ]
        },
        {
          "output_type": "stream",
          "name": "stderr",
          "text": [
            " 64%|██████▍   | 2000/3107 [4:28:34<2:24:40,  7.84s/it]"
          ]
        },
        {
          "output_type": "stream",
          "name": "stdout",
          "text": [
            "Batch 39 processed and moved to /content/drive/MyDrive/shiwan/audios_volc/audio_in_batch_39.zip\n"
          ]
        },
        {
          "output_type": "stream",
          "name": "stderr",
          "text": [
            " 65%|██████▍   | 2011/3107 [4:30:17<3:06:32, 10.21s/it]"
          ]
        },
        {
          "output_type": "stream",
          "name": "stdout",
          "text": [
            "An error occurred: ('Connection aborted.', ConnectionResetError(104, 'Connection reset by peer'))\n",
            "An error occurred: ('Connection aborted.', ConnectionResetError(104, 'Connection reset by peer'))\n"
          ]
        },
        {
          "output_type": "stream",
          "name": "stderr",
          "text": [
            " 65%|██████▍   | 2014/3107 [4:30:44<2:45:54,  9.11s/it]"
          ]
        },
        {
          "output_type": "stream",
          "name": "stdout",
          "text": [
            "An error occurred: ('Connection aborted.', ConnectionResetError(104, 'Connection reset by peer'))\n"
          ]
        },
        {
          "output_type": "stream",
          "name": "stderr",
          "text": [
            " 65%|██████▍   | 2019/3107 [4:31:26<2:33:42,  8.48s/it]"
          ]
        },
        {
          "output_type": "stream",
          "name": "stdout",
          "text": [
            "An error occurred: ('Connection aborted.', ConnectionResetError(104, 'Connection reset by peer'))\n"
          ]
        },
        {
          "output_type": "stream",
          "name": "stderr",
          "text": [
            " 65%|██████▌   | 2033/3107 [4:33:10<2:01:22,  6.78s/it]"
          ]
        },
        {
          "output_type": "stream",
          "name": "stdout",
          "text": [
            "An error occurred: ('Connection aborted.', ConnectionResetError(104, 'Connection reset by peer'))\n"
          ]
        },
        {
          "output_type": "stream",
          "name": "stderr",
          "text": [
            " 65%|██████▌   | 2035/3107 [4:33:26<2:09:05,  7.23s/it]"
          ]
        },
        {
          "output_type": "stream",
          "name": "stdout",
          "text": [
            "An error occurred: ('Connection aborted.', ConnectionResetError(104, 'Connection reset by peer'))\n",
            "An error occurred: ('Connection aborted.', ConnectionResetError(104, 'Connection reset by peer'))\n"
          ]
        },
        {
          "output_type": "stream",
          "name": "stderr",
          "text": [
            " 66%|██████▌   | 2044/3107 [4:34:59<2:37:36,  8.90s/it]"
          ]
        },
        {
          "output_type": "stream",
          "name": "stdout",
          "text": [
            "An error occurred: ('Connection aborted.', ConnectionResetError(104, 'Connection reset by peer'))\n"
          ]
        },
        {
          "output_type": "stream",
          "name": "stderr",
          "text": [
            " 66%|██████▌   | 2048/3107 [4:35:50<3:32:13, 12.02s/it]"
          ]
        },
        {
          "output_type": "stream",
          "name": "stdout",
          "text": [
            "An error occurred: ('Connection aborted.', ConnectionResetError(104, 'Connection reset by peer'))\n"
          ]
        },
        {
          "output_type": "stream",
          "name": "stderr",
          "text": [
            " 66%|██████▌   | 2050/3107 [4:36:18<3:41:56, 12.60s/it]"
          ]
        },
        {
          "output_type": "stream",
          "name": "stdout",
          "text": [
            "Batch 40 processed and moved to /content/drive/MyDrive/shiwan/audios_volc/audio_in_batch_40.zip\n"
          ]
        },
        {
          "output_type": "stream",
          "name": "stderr",
          "text": [
            " 67%|██████▋   | 2082/3107 [4:40:12<2:08:21,  7.51s/it]"
          ]
        },
        {
          "output_type": "stream",
          "name": "stdout",
          "text": [
            "An error occurred: ('Connection aborted.', ConnectionResetError(104, 'Connection reset by peer'))\n"
          ]
        },
        {
          "output_type": "stream",
          "name": "stderr",
          "text": [
            " 67%|██████▋   | 2087/3107 [4:40:56<2:34:02,  9.06s/it]"
          ]
        },
        {
          "output_type": "stream",
          "name": "stdout",
          "text": [
            "An error occurred: ('Connection aborted.', ConnectionResetError(104, 'Connection reset by peer'))\n"
          ]
        },
        {
          "output_type": "stream",
          "name": "stderr",
          "text": [
            " 67%|██████▋   | 2089/3107 [4:41:18<2:46:00,  9.78s/it]"
          ]
        },
        {
          "output_type": "stream",
          "name": "stdout",
          "text": [
            "An error occurred: ('Connection aborted.', ConnectionResetError(104, 'Connection reset by peer'))\n"
          ]
        },
        {
          "output_type": "stream",
          "name": "stderr",
          "text": [
            " 67%|██████▋   | 2094/3107 [4:42:02<2:21:06,  8.36s/it]"
          ]
        },
        {
          "output_type": "stream",
          "name": "stdout",
          "text": [
            "An error occurred: ('Connection aborted.', ConnectionResetError(104, 'Connection reset by peer'))\n"
          ]
        },
        {
          "output_type": "stream",
          "name": "stderr",
          "text": [
            " 67%|██████▋   | 2096/3107 [4:42:25<2:43:43,  9.72s/it]"
          ]
        },
        {
          "output_type": "stream",
          "name": "stdout",
          "text": [
            "An error occurred: ('Connection aborted.', ConnectionResetError(104, 'Connection reset by peer'))\n"
          ]
        },
        {
          "output_type": "stream",
          "name": "stderr",
          "text": [
            "\r 67%|██████▋   | 2097/3107 [4:42:34<2:41:08,  9.57s/it]"
          ]
        },
        {
          "output_type": "stream",
          "name": "stdout",
          "text": [
            "An error occurred: ('Connection aborted.', ConnectionResetError(104, 'Connection reset by peer'))\n"
          ]
        },
        {
          "output_type": "stream",
          "name": "stderr",
          "text": [
            " 68%|██████▊   | 2100/3107 [4:43:05<2:56:51, 10.54s/it]"
          ]
        },
        {
          "output_type": "stream",
          "name": "stdout",
          "text": [
            "Batch 41 processed and moved to /content/drive/MyDrive/shiwan/audios_volc/audio_in_batch_41.zip\n"
          ]
        },
        {
          "output_type": "stream",
          "name": "stderr",
          "text": [
            " 68%|██████▊   | 2121/3107 [4:45:30<1:48:19,  6.59s/it]"
          ]
        },
        {
          "output_type": "stream",
          "name": "stdout",
          "text": [
            "An error occurred: ('Connection aborted.', ConnectionResetError(104, 'Connection reset by peer'))\n"
          ]
        },
        {
          "output_type": "stream",
          "name": "stderr",
          "text": [
            " 69%|██████▊   | 2135/3107 [4:47:28<2:05:36,  7.75s/it]"
          ]
        },
        {
          "output_type": "stream",
          "name": "stdout",
          "text": [
            "An error occurred: ('Connection aborted.', ConnectionResetError(104, 'Connection reset by peer'))\n"
          ]
        },
        {
          "output_type": "stream",
          "name": "stderr",
          "text": [
            " 69%|██████▉   | 2143/3107 [4:48:40<2:31:07,  9.41s/it]"
          ]
        },
        {
          "output_type": "stream",
          "name": "stdout",
          "text": [
            "An error occurred: ('Connection aborted.', ConnectionResetError(104, 'Connection reset by peer'))\n"
          ]
        },
        {
          "output_type": "stream",
          "name": "stderr",
          "text": [
            " 69%|██████▉   | 2145/3107 [4:48:58<2:24:37,  9.02s/it]"
          ]
        },
        {
          "output_type": "stream",
          "name": "stdout",
          "text": [
            "An error occurred: ('Connection aborted.', ConnectionResetError(104, 'Connection reset by peer'))\n"
          ]
        },
        {
          "output_type": "stream",
          "name": "stderr",
          "text": [
            " 69%|██████▉   | 2150/3107 [4:49:38<1:55:27,  7.24s/it]"
          ]
        },
        {
          "output_type": "stream",
          "name": "stdout",
          "text": [
            "Batch 42 processed and moved to /content/drive/MyDrive/shiwan/audios_volc/audio_in_batch_42.zip\n"
          ]
        },
        {
          "output_type": "stream",
          "name": "stderr",
          "text": [
            " 69%|██████▉   | 2153/3107 [4:50:02<2:02:42,  7.72s/it]"
          ]
        },
        {
          "output_type": "stream",
          "name": "stdout",
          "text": [
            "An error occurred: ('Connection aborted.', ConnectionResetError(104, 'Connection reset by peer'))\n"
          ]
        },
        {
          "output_type": "stream",
          "name": "stderr",
          "text": [
            " 69%|██████▉   | 2155/3107 [4:50:19<2:07:44,  8.05s/it]"
          ]
        },
        {
          "output_type": "stream",
          "name": "stdout",
          "text": [
            "An error occurred: ('Connection aborted.', ConnectionResetError(104, 'Connection reset by peer'))\n"
          ]
        },
        {
          "output_type": "stream",
          "name": "stderr",
          "text": [
            "\r 69%|██████▉   | 2156/3107 [4:50:28<2:11:15,  8.28s/it]"
          ]
        },
        {
          "output_type": "stream",
          "name": "stdout",
          "text": [
            "An error occurred: ('Connection aborted.', ConnectionResetError(104, 'Connection reset by peer'))\n"
          ]
        },
        {
          "output_type": "stream",
          "name": "stderr",
          "text": [
            " 70%|██████▉   | 2166/3107 [4:51:51<1:57:31,  7.49s/it]"
          ]
        },
        {
          "output_type": "stream",
          "name": "stdout",
          "text": [
            "An error occurred: ('Connection aborted.', ConnectionResetError(104, 'Connection reset by peer'))\n"
          ]
        },
        {
          "output_type": "stream",
          "name": "stderr",
          "text": [
            " 70%|██████▉   | 2173/3107 [4:52:44<1:52:28,  7.23s/it]"
          ]
        },
        {
          "output_type": "stream",
          "name": "stdout",
          "text": [
            "An error occurred: ('Connection aborted.', ConnectionResetError(104, 'Connection reset by peer'))\n"
          ]
        },
        {
          "output_type": "stream",
          "name": "stderr",
          "text": [
            " 70%|███████   | 2185/3107 [4:54:40<2:27:18,  9.59s/it]"
          ]
        },
        {
          "output_type": "stream",
          "name": "stdout",
          "text": [
            "An error occurred: ('Connection aborted.', ConnectionResetError(104, 'Connection reset by peer'))\n"
          ]
        },
        {
          "output_type": "stream",
          "name": "stderr",
          "text": [
            " 70%|███████   | 2189/3107 [4:55:04<1:42:21,  6.69s/it]"
          ]
        },
        {
          "output_type": "stream",
          "name": "stdout",
          "text": [
            "An error occurred: ('Connection aborted.', ConnectionResetError(104, 'Connection reset by peer'))\n"
          ]
        },
        {
          "output_type": "stream",
          "name": "stderr",
          "text": [
            " 71%|███████   | 2195/3107 [4:55:54<1:56:59,  7.70s/it]"
          ]
        },
        {
          "output_type": "stream",
          "name": "stdout",
          "text": [
            "An error occurred: ('Connection aborted.', ConnectionResetError(104, 'Connection reset by peer'))\n"
          ]
        },
        {
          "output_type": "stream",
          "name": "stderr",
          "text": [
            " 71%|███████   | 2200/3107 [4:56:50<2:37:49, 10.44s/it]"
          ]
        },
        {
          "output_type": "stream",
          "name": "stdout",
          "text": [
            "Batch 43 processed and moved to /content/drive/MyDrive/shiwan/audios_volc/audio_in_batch_43.zip\n"
          ]
        },
        {
          "output_type": "stream",
          "name": "stderr",
          "text": [
            " 71%|███████   | 2205/3107 [4:57:32<2:10:48,  8.70s/it]"
          ]
        },
        {
          "output_type": "stream",
          "name": "stdout",
          "text": [
            "An error occurred: ('Connection aborted.', ConnectionResetError(104, 'Connection reset by peer'))\n"
          ]
        },
        {
          "output_type": "stream",
          "name": "stderr",
          "text": [
            " 71%|███████▏  | 2220/3107 [4:59:47<2:40:00, 10.82s/it]"
          ]
        },
        {
          "output_type": "stream",
          "name": "stdout",
          "text": [
            "An error occurred: ('Connection aborted.', ConnectionResetError(104, 'Connection reset by peer'))\n"
          ]
        },
        {
          "output_type": "stream",
          "name": "stderr",
          "text": [
            "\r 71%|███████▏  | 2221/3107 [4:59:53<2:22:00,  9.62s/it]"
          ]
        },
        {
          "output_type": "stream",
          "name": "stdout",
          "text": [
            "An error occurred: ('Connection aborted.', ConnectionResetError(104, 'Connection reset by peer'))\n"
          ]
        },
        {
          "output_type": "stream",
          "name": "stderr",
          "text": [
            " 72%|███████▏  | 2244/3107 [5:03:14<2:53:14, 12.04s/it]"
          ]
        },
        {
          "output_type": "stream",
          "name": "stdout",
          "text": [
            "An error occurred: ('Connection aborted.', ConnectionResetError(104, 'Connection reset by peer'))\n"
          ]
        },
        {
          "output_type": "stream",
          "name": "stderr",
          "text": [
            " 72%|███████▏  | 2247/3107 [5:03:35<2:00:25,  8.40s/it]"
          ]
        },
        {
          "output_type": "stream",
          "name": "stdout",
          "text": [
            "An error occurred: ('Connection aborted.', ConnectionResetError(104, 'Connection reset by peer'))\n",
            "An error occurred: ('Connection aborted.', ConnectionResetError(104, 'Connection reset by peer'))\n"
          ]
        },
        {
          "output_type": "stream",
          "name": "stderr",
          "text": [
            " 72%|███████▏  | 2250/3107 [5:04:06<2:10:50,  9.16s/it]"
          ]
        },
        {
          "output_type": "stream",
          "name": "stdout",
          "text": [
            "Batch 44 processed and moved to /content/drive/MyDrive/shiwan/audios_volc/audio_in_batch_44.zip\n",
            "An error occurred: ('Connection aborted.', ConnectionResetError(104, 'Connection reset by peer'))\n"
          ]
        },
        {
          "output_type": "stream",
          "name": "stderr",
          "text": [
            " 73%|███████▎  | 2253/3107 [5:04:32<1:57:56,  8.29s/it]"
          ]
        },
        {
          "output_type": "stream",
          "name": "stdout",
          "text": [
            "An error occurred: ('Connection aborted.', ConnectionResetError(104, 'Connection reset by peer'))\n"
          ]
        },
        {
          "output_type": "stream",
          "name": "stderr",
          "text": [
            "\r 73%|███████▎  | 2254/3107 [5:04:45<2:17:24,  9.67s/it]"
          ]
        },
        {
          "output_type": "stream",
          "name": "stdout",
          "text": [
            "An error occurred: ('Connection aborted.', ConnectionResetError(104, 'Connection reset by peer'))\n"
          ]
        },
        {
          "output_type": "stream",
          "name": "stderr",
          "text": [
            " 73%|███████▎  | 2256/3107 [5:04:58<1:55:30,  8.14s/it]"
          ]
        },
        {
          "output_type": "stream",
          "name": "stdout",
          "text": [
            "An error occurred: ('Connection aborted.', ConnectionResetError(104, 'Connection reset by peer'))\n"
          ]
        },
        {
          "output_type": "stream",
          "name": "stderr",
          "text": [
            " 73%|███████▎  | 2259/3107 [5:05:25<1:57:48,  8.33s/it]"
          ]
        },
        {
          "output_type": "stream",
          "name": "stdout",
          "text": [
            "An error occurred: ('Connection aborted.', ConnectionResetError(104, 'Connection reset by peer'))\n"
          ]
        },
        {
          "output_type": "stream",
          "name": "stderr",
          "text": [
            " 73%|███████▎  | 2264/3107 [5:06:13<2:06:11,  8.98s/it]"
          ]
        },
        {
          "output_type": "stream",
          "name": "stdout",
          "text": [
            "An error occurred: ('Connection aborted.', ConnectionResetError(104, 'Connection reset by peer'))\n"
          ]
        },
        {
          "output_type": "stream",
          "name": "stderr",
          "text": [
            " 73%|███████▎  | 2271/3107 [5:07:55<3:12:11, 13.79s/it]"
          ]
        },
        {
          "output_type": "stream",
          "name": "stdout",
          "text": [
            "An error occurred: ('Connection aborted.', ConnectionResetError(104, 'Connection reset by peer'))\n"
          ]
        },
        {
          "output_type": "stream",
          "name": "stderr",
          "text": [
            " 73%|███████▎  | 2275/3107 [5:08:34<2:31:32, 10.93s/it]"
          ]
        },
        {
          "output_type": "stream",
          "name": "stdout",
          "text": [
            "An error occurred: ('Connection aborted.', ConnectionResetError(104, 'Connection reset by peer'))\n"
          ]
        },
        {
          "output_type": "stream",
          "name": "stderr",
          "text": [
            " 74%|███████▎  | 2286/3107 [5:10:01<1:54:35,  8.37s/it]"
          ]
        },
        {
          "output_type": "stream",
          "name": "stdout",
          "text": [
            "An error occurred: ('Connection aborted.', ConnectionResetError(104, 'Connection reset by peer'))\n",
            "An error occurred: ('Connection aborted.', ConnectionResetError(104, 'Connection reset by peer'))\n"
          ]
        },
        {
          "output_type": "stream",
          "name": "stderr",
          "text": [
            " 74%|███████▎  | 2289/3107 [5:10:42<2:38:05, 11.60s/it]"
          ]
        },
        {
          "output_type": "stream",
          "name": "stdout",
          "text": [
            "An error occurred: ('Connection aborted.', ConnectionResetError(104, 'Connection reset by peer'))\n"
          ]
        },
        {
          "output_type": "stream",
          "name": "stderr",
          "text": [
            " 74%|███████▍  | 2296/3107 [5:11:44<1:50:43,  8.19s/it]"
          ]
        },
        {
          "output_type": "stream",
          "name": "stdout",
          "text": [
            "An error occurred: ('Connection aborted.', ConnectionResetError(104, 'Connection reset by peer'))\n"
          ]
        },
        {
          "output_type": "stream",
          "name": "stderr",
          "text": [
            " 74%|███████▍  | 2300/3107 [5:12:23<2:01:11,  9.01s/it]"
          ]
        },
        {
          "output_type": "stream",
          "name": "stdout",
          "text": [
            "Batch 45 processed and moved to /content/drive/MyDrive/shiwan/audios_volc/audio_in_batch_45.zip\n"
          ]
        },
        {
          "output_type": "stream",
          "name": "stderr",
          "text": [
            "\r 74%|███████▍  | 2301/3107 [5:12:32<2:01:51,  9.07s/it]"
          ]
        },
        {
          "output_type": "stream",
          "name": "stdout",
          "text": [
            "An error occurred: ('Connection aborted.', ConnectionResetError(104, 'Connection reset by peer'))\n"
          ]
        },
        {
          "output_type": "stream",
          "name": "stderr",
          "text": [
            "\r 74%|███████▍  | 2302/3107 [5:12:38<1:51:51,  8.34s/it]"
          ]
        },
        {
          "output_type": "stream",
          "name": "stdout",
          "text": [
            "An error occurred: ('Connection aborted.', ConnectionResetError(104, 'Connection reset by peer'))\n"
          ]
        },
        {
          "output_type": "stream",
          "name": "stderr",
          "text": [
            " 74%|███████▍  | 2305/3107 [5:13:22<2:21:29, 10.59s/it]"
          ]
        },
        {
          "output_type": "stream",
          "name": "stdout",
          "text": [
            "An error occurred: ('Connection aborted.', ConnectionResetError(104, 'Connection reset by peer'))\n"
          ]
        },
        {
          "output_type": "stream",
          "name": "stderr",
          "text": [
            " 74%|███████▍  | 2309/3107 [5:13:54<1:54:34,  8.62s/it]"
          ]
        },
        {
          "output_type": "stream",
          "name": "stdout",
          "text": [
            "An error occurred: ('Connection aborted.', ConnectionResetError(104, 'Connection reset by peer'))\n"
          ]
        },
        {
          "output_type": "stream",
          "name": "stderr",
          "text": [
            " 75%|███████▍  | 2315/3107 [5:14:42<1:50:43,  8.39s/it]"
          ]
        },
        {
          "output_type": "stream",
          "name": "stdout",
          "text": [
            "An error occurred: ('Connection aborted.', ConnectionResetError(104, 'Connection reset by peer'))\n",
            "An error occurred: ('Connection aborted.', ConnectionResetError(104, 'Connection reset by peer'))\n"
          ]
        },
        {
          "output_type": "stream",
          "name": "stderr",
          "text": [
            "\r 75%|███████▍  | 2316/3107 [5:14:55<2:08:49,  9.77s/it]"
          ]
        },
        {
          "output_type": "stream",
          "name": "stdout",
          "text": [
            "An error occurred: ('Connection aborted.', ConnectionResetError(104, 'Connection reset by peer'))\n"
          ]
        },
        {
          "output_type": "stream",
          "name": "stderr",
          "text": [
            "\r 75%|███████▍  | 2317/3107 [5:15:06<2:14:34, 10.22s/it]"
          ]
        },
        {
          "output_type": "stream",
          "name": "stdout",
          "text": [
            "An error occurred: ('Connection aborted.', ConnectionResetError(104, 'Connection reset by peer'))\n"
          ]
        },
        {
          "output_type": "stream",
          "name": "stderr",
          "text": [
            " 75%|███████▍  | 2323/3107 [5:15:49<1:35:36,  7.32s/it]"
          ]
        },
        {
          "output_type": "stream",
          "name": "stdout",
          "text": [
            "An error occurred: HTTPSConnectionPool(host='openspeech.bytedance.com', port=443): Read timed out. (read timeout=40)\n"
          ]
        },
        {
          "output_type": "stream",
          "name": "stderr",
          "text": [
            " 75%|███████▌  | 2332/3107 [5:17:48<2:08:37,  9.96s/it]"
          ]
        },
        {
          "output_type": "stream",
          "name": "stdout",
          "text": [
            "An error occurred: ('Connection aborted.', ConnectionResetError(104, 'Connection reset by peer'))\n"
          ]
        },
        {
          "output_type": "stream",
          "name": "stderr",
          "text": [
            " 75%|███████▌  | 2336/3107 [5:18:15<1:31:23,  7.11s/it]"
          ]
        },
        {
          "output_type": "stream",
          "name": "stdout",
          "text": [
            "An error occurred: ('Connection aborted.', ConnectionResetError(104, 'Connection reset by peer'))\n"
          ]
        },
        {
          "output_type": "stream",
          "name": "stderr",
          "text": [
            " 75%|███████▌  | 2339/3107 [5:18:48<2:00:51,  9.44s/it]"
          ]
        },
        {
          "output_type": "stream",
          "name": "stdout",
          "text": [
            "An error occurred: ('Connection aborted.', ConnectionResetError(104, 'Connection reset by peer'))\n"
          ]
        },
        {
          "output_type": "stream",
          "name": "stderr",
          "text": [
            " 75%|███████▌  | 2341/3107 [5:19:12<2:12:31, 10.38s/it]"
          ]
        },
        {
          "output_type": "stream",
          "name": "stdout",
          "text": [
            "An error occurred: ('Connection aborted.', ConnectionResetError(104, 'Connection reset by peer'))\n"
          ]
        },
        {
          "output_type": "stream",
          "name": "stderr",
          "text": [
            " 76%|███████▌  | 2350/3107 [5:20:23<1:32:41,  7.35s/it]"
          ]
        },
        {
          "output_type": "stream",
          "name": "stdout",
          "text": [
            "Batch 46 processed and moved to /content/drive/MyDrive/shiwan/audios_volc/audio_in_batch_46.zip\n",
            "An error occurred: ('Connection aborted.', ConnectionResetError(104, 'Connection reset by peer'))\n"
          ]
        },
        {
          "output_type": "stream",
          "name": "stderr",
          "text": [
            " 76%|███████▌  | 2358/3107 [5:21:26<1:41:34,  8.14s/it]"
          ]
        },
        {
          "output_type": "stream",
          "name": "stdout",
          "text": [
            "An error occurred: ('Connection aborted.', ConnectionResetError(104, 'Connection reset by peer'))\n"
          ]
        },
        {
          "output_type": "stream",
          "name": "stderr",
          "text": [
            " 76%|███████▌  | 2360/3107 [5:21:41<1:35:21,  7.66s/it]"
          ]
        },
        {
          "output_type": "stream",
          "name": "stdout",
          "text": [
            "An error occurred: ('Connection aborted.', ConnectionResetError(104, 'Connection reset by peer'))\n"
          ]
        },
        {
          "output_type": "stream",
          "name": "stderr",
          "text": [
            " 76%|███████▋  | 2373/3107 [5:23:30<1:30:38,  7.41s/it]"
          ]
        },
        {
          "output_type": "stream",
          "name": "stdout",
          "text": [
            "An error occurred: HTTPSConnectionPool(host='openspeech.bytedance.com', port=443): Read timed out. (read timeout=40)\n"
          ]
        },
        {
          "output_type": "stream",
          "name": "stderr",
          "text": [
            " 76%|███████▋  | 2376/3107 [5:24:47<3:33:30, 17.52s/it]"
          ]
        },
        {
          "output_type": "stream",
          "name": "stdout",
          "text": [
            "An error occurred: ('Connection aborted.', ConnectionResetError(104, 'Connection reset by peer'))\n"
          ]
        },
        {
          "output_type": "stream",
          "name": "stderr",
          "text": [
            " 77%|███████▋  | 2380/3107 [5:25:30<2:45:55, 13.69s/it]"
          ]
        },
        {
          "output_type": "stream",
          "name": "stdout",
          "text": [
            "An error occurred: ('Connection aborted.', ConnectionResetError(104, 'Connection reset by peer'))\n"
          ]
        },
        {
          "output_type": "stream",
          "name": "stderr",
          "text": [
            " 77%|███████▋  | 2382/3107 [5:25:49<2:16:49, 11.32s/it]"
          ]
        },
        {
          "output_type": "stream",
          "name": "stdout",
          "text": [
            "An error occurred: ('Connection aborted.', ConnectionResetError(104, 'Connection reset by peer'))\n"
          ]
        },
        {
          "output_type": "stream",
          "name": "stderr",
          "text": [
            " 77%|███████▋  | 2384/3107 [5:26:10<2:10:31, 10.83s/it]"
          ]
        },
        {
          "output_type": "stream",
          "name": "stdout",
          "text": [
            "An error occurred: ('Connection aborted.', ConnectionResetError(104, 'Connection reset by peer'))\n"
          ]
        },
        {
          "output_type": "stream",
          "name": "stderr",
          "text": [
            " 77%|███████▋  | 2386/3107 [5:26:26<1:51:10,  9.25s/it]"
          ]
        },
        {
          "output_type": "stream",
          "name": "stdout",
          "text": [
            "An error occurred: ('Connection aborted.', ConnectionResetError(104, 'Connection reset by peer'))\n"
          ]
        },
        {
          "output_type": "stream",
          "name": "stderr",
          "text": [
            " 77%|███████▋  | 2394/3107 [5:27:32<1:39:23,  8.36s/it]"
          ]
        },
        {
          "output_type": "stream",
          "name": "stdout",
          "text": [
            "An error occurred: ('Connection aborted.', ConnectionResetError(104, 'Connection reset by peer'))\n"
          ]
        },
        {
          "output_type": "stream",
          "name": "stderr",
          "text": [
            " 77%|███████▋  | 2400/3107 [5:28:26<1:39:40,  8.46s/it]"
          ]
        },
        {
          "output_type": "stream",
          "name": "stdout",
          "text": [
            "Batch 47 processed and moved to /content/drive/MyDrive/shiwan/audios_volc/audio_in_batch_47.zip\n"
          ]
        },
        {
          "output_type": "stream",
          "name": "stderr",
          "text": [
            " 78%|███████▊  | 2411/3107 [5:30:03<1:30:19,  7.79s/it]"
          ]
        },
        {
          "output_type": "stream",
          "name": "stdout",
          "text": [
            "An error occurred: ('Connection aborted.', ConnectionResetError(104, 'Connection reset by peer'))\n"
          ]
        },
        {
          "output_type": "stream",
          "name": "stderr",
          "text": [
            " 78%|███████▊  | 2422/3107 [5:31:36<1:50:29,  9.68s/it]"
          ]
        },
        {
          "output_type": "stream",
          "name": "stdout",
          "text": [
            "An error occurred: ('Connection aborted.', ConnectionResetError(104, 'Connection reset by peer'))\n"
          ]
        },
        {
          "output_type": "stream",
          "name": "stderr",
          "text": [
            " 78%|███████▊  | 2424/3107 [5:31:51<1:37:59,  8.61s/it]"
          ]
        },
        {
          "output_type": "stream",
          "name": "stdout",
          "text": [
            "An error occurred: ('Connection aborted.', ConnectionResetError(104, 'Connection reset by peer'))\n"
          ]
        },
        {
          "output_type": "stream",
          "name": "stderr",
          "text": [
            " 78%|███████▊  | 2427/3107 [5:32:12<1:23:06,  7.33s/it]"
          ]
        },
        {
          "output_type": "stream",
          "name": "stdout",
          "text": [
            "An error occurred: ('Connection aborted.', ConnectionResetError(104, 'Connection reset by peer'))\n"
          ]
        },
        {
          "output_type": "stream",
          "name": "stderr",
          "text": [
            " 78%|███████▊  | 2429/3107 [5:32:29<1:23:36,  7.40s/it]"
          ]
        },
        {
          "output_type": "stream",
          "name": "stdout",
          "text": [
            "An error occurred: ('Connection aborted.', ConnectionResetError(104, 'Connection reset by peer'))\n",
            "An error occurred: ('Connection aborted.', ConnectionResetError(104, 'Connection reset by peer'))\n"
          ]
        },
        {
          "output_type": "stream",
          "name": "stderr",
          "text": [
            " 78%|███████▊  | 2433/3107 [5:33:13<1:49:31,  9.75s/it]"
          ]
        },
        {
          "output_type": "stream",
          "name": "stdout",
          "text": [
            "An error occurred: ('Connection aborted.', ConnectionResetError(104, 'Connection reset by peer'))\n"
          ]
        },
        {
          "output_type": "stream",
          "name": "stderr",
          "text": [
            " 79%|███████▊  | 2442/3107 [5:35:05<1:59:39, 10.80s/it]"
          ]
        },
        {
          "output_type": "stream",
          "name": "stdout",
          "text": [
            "An error occurred: ('Connection aborted.', ConnectionResetError(104, 'Connection reset by peer'))\n"
          ]
        },
        {
          "output_type": "stream",
          "name": "stderr",
          "text": [
            " 79%|███████▉  | 2450/3107 [5:36:28<1:37:06,  8.87s/it]"
          ]
        },
        {
          "output_type": "stream",
          "name": "stdout",
          "text": [
            "Batch 48 processed and moved to /content/drive/MyDrive/shiwan/audios_volc/audio_in_batch_48.zip\n"
          ]
        },
        {
          "output_type": "stream",
          "name": "stderr",
          "text": [
            " 79%|███████▉  | 2455/3107 [5:37:06<1:25:24,  7.86s/it]"
          ]
        },
        {
          "output_type": "stream",
          "name": "stdout",
          "text": [
            "An error occurred: ('Connection aborted.', ConnectionResetError(104, 'Connection reset by peer'))\n"
          ]
        },
        {
          "output_type": "stream",
          "name": "stderr",
          "text": [
            " 79%|███████▉  | 2457/3107 [5:37:22<1:25:58,  7.94s/it]"
          ]
        },
        {
          "output_type": "stream",
          "name": "stdout",
          "text": [
            "An error occurred: ('Connection aborted.', ConnectionResetError(104, 'Connection reset by peer'))\n"
          ]
        },
        {
          "output_type": "stream",
          "name": "stderr",
          "text": [
            " 80%|███████▉  | 2471/3107 [5:39:23<1:12:14,  6.82s/it]"
          ]
        },
        {
          "output_type": "stream",
          "name": "stdout",
          "text": [
            "An error occurred: HTTPSConnectionPool(host='openspeech.bytedance.com', port=443): Read timed out. (read timeout=40)\n"
          ]
        },
        {
          "output_type": "stream",
          "name": "stderr",
          "text": [
            " 80%|████████  | 2494/3107 [5:43:15<1:13:01,  7.15s/it]"
          ]
        },
        {
          "output_type": "stream",
          "name": "stdout",
          "text": [
            "An error occurred: ('Connection aborted.', ConnectionResetError(104, 'Connection reset by peer'))\n"
          ]
        },
        {
          "output_type": "stream",
          "name": "stderr",
          "text": [
            " 80%|████████  | 2500/3107 [5:44:09<1:26:32,  8.55s/it]"
          ]
        },
        {
          "output_type": "stream",
          "name": "stdout",
          "text": [
            "Batch 49 processed and moved to /content/drive/MyDrive/shiwan/audios_volc/audio_in_batch_49.zip\n"
          ]
        },
        {
          "output_type": "stream",
          "name": "stderr",
          "text": [
            " 81%|████████  | 2504/3107 [5:44:50<1:40:58, 10.05s/it]"
          ]
        },
        {
          "output_type": "stream",
          "name": "stdout",
          "text": [
            "An error occurred: ('Connection aborted.', ConnectionResetError(104, 'Connection reset by peer'))\n",
            "An error occurred: ('Connection aborted.', ConnectionResetError(104, 'Connection reset by peer'))\n",
            "An error occurred: ('Connection aborted.', ConnectionResetError(104, 'Connection reset by peer'))\n"
          ]
        },
        {
          "output_type": "stream",
          "name": "stderr",
          "text": [
            " 81%|████████  | 2518/3107 [5:46:47<1:15:28,  7.69s/it]"
          ]
        },
        {
          "output_type": "stream",
          "name": "stdout",
          "text": [
            "An error occurred: ('Connection aborted.', ConnectionResetError(104, 'Connection reset by peer'))\n"
          ]
        },
        {
          "output_type": "stream",
          "name": "stderr",
          "text": [
            " 81%|████████▏ | 2526/3107 [5:47:48<1:10:18,  7.26s/it]"
          ]
        },
        {
          "output_type": "stream",
          "name": "stdout",
          "text": [
            "An error occurred: ('Connection aborted.', ConnectionResetError(104, 'Connection reset by peer'))\n"
          ]
        },
        {
          "output_type": "stream",
          "name": "stderr",
          "text": [
            " 81%|████████▏ | 2528/3107 [5:48:04<1:13:17,  7.60s/it]"
          ]
        },
        {
          "output_type": "stream",
          "name": "stdout",
          "text": [
            "An error occurred: ('Connection aborted.', ConnectionResetError(104, 'Connection reset by peer'))\n"
          ]
        },
        {
          "output_type": "stream",
          "name": "stderr",
          "text": [
            " 81%|████████▏ | 2530/3107 [5:48:15<1:02:44,  6.52s/it]"
          ]
        },
        {
          "output_type": "stream",
          "name": "stdout",
          "text": [
            "An error occurred: ('Connection aborted.', ConnectionResetError(104, 'Connection reset by peer'))\n"
          ]
        },
        {
          "output_type": "stream",
          "name": "stderr",
          "text": [
            " 82%|████████▏ | 2546/3107 [5:50:37<1:17:39,  8.31s/it]"
          ]
        },
        {
          "output_type": "stream",
          "name": "stdout",
          "text": [
            "An error occurred: ('Connection aborted.', ConnectionResetError(104, 'Connection reset by peer'))\n"
          ]
        },
        {
          "output_type": "stream",
          "name": "stderr",
          "text": [
            "\r 82%|████████▏ | 2547/3107 [5:50:53<1:38:00, 10.50s/it]"
          ]
        },
        {
          "output_type": "stream",
          "name": "stdout",
          "text": [
            "An error occurred: ('Connection aborted.', ConnectionResetError(104, 'Connection reset by peer'))\n"
          ]
        },
        {
          "output_type": "stream",
          "name": "stderr",
          "text": [
            " 82%|████████▏ | 2550/3107 [5:51:19<1:28:23,  9.52s/it]"
          ]
        },
        {
          "output_type": "stream",
          "name": "stdout",
          "text": [
            "Batch 50 processed and moved to /content/drive/MyDrive/shiwan/audios_volc/audio_in_batch_50.zip\n"
          ]
        },
        {
          "output_type": "stream",
          "name": "stderr",
          "text": [
            " 83%|████████▎ | 2564/3107 [5:53:23<1:10:32,  7.79s/it]"
          ]
        },
        {
          "output_type": "stream",
          "name": "stdout",
          "text": [
            "An error occurred: ('Connection aborted.', ConnectionResetError(104, 'Connection reset by peer'))\n"
          ]
        },
        {
          "output_type": "stream",
          "name": "stderr",
          "text": [
            "\r 83%|████████▎ | 2565/3107 [5:53:33<1:14:41,  8.27s/it]"
          ]
        },
        {
          "output_type": "stream",
          "name": "stdout",
          "text": [
            "An error occurred: ('Connection aborted.', ConnectionResetError(104, 'Connection reset by peer'))\n"
          ]
        },
        {
          "output_type": "stream",
          "name": "stderr",
          "text": [
            " 83%|████████▎ | 2568/3107 [5:54:12<1:52:56, 12.57s/it]"
          ]
        },
        {
          "output_type": "stream",
          "name": "stdout",
          "text": [
            "An error occurred: ('Connection aborted.', ConnectionResetError(104, 'Connection reset by peer'))\n"
          ]
        },
        {
          "output_type": "stream",
          "name": "stderr",
          "text": [
            " 83%|████████▎ | 2573/3107 [5:54:49<1:09:58,  7.86s/it]"
          ]
        },
        {
          "output_type": "stream",
          "name": "stdout",
          "text": [
            "An error occurred: ('Connection aborted.', ConnectionResetError(104, 'Connection reset by peer'))\n"
          ]
        },
        {
          "output_type": "stream",
          "name": "stderr",
          "text": [
            " 83%|████████▎ | 2579/3107 [5:55:45<1:18:45,  8.95s/it]"
          ]
        },
        {
          "output_type": "stream",
          "name": "stdout",
          "text": [
            "An error occurred: ('Connection aborted.', ConnectionResetError(104, 'Connection reset by peer'))\n"
          ]
        },
        {
          "output_type": "stream",
          "name": "stderr",
          "text": [
            " 83%|████████▎ | 2587/3107 [5:56:49<1:10:48,  8.17s/it]"
          ]
        },
        {
          "output_type": "stream",
          "name": "stdout",
          "text": [
            "An error occurred: ('Connection aborted.', ConnectionResetError(104, 'Connection reset by peer'))\n"
          ]
        },
        {
          "output_type": "stream",
          "name": "stderr",
          "text": [
            " 83%|████████▎ | 2589/3107 [5:57:06<1:12:47,  8.43s/it]"
          ]
        },
        {
          "output_type": "stream",
          "name": "stdout",
          "text": [
            "An error occurred: ('Connection aborted.', ConnectionResetError(104, 'Connection reset by peer'))\n"
          ]
        },
        {
          "output_type": "stream",
          "name": "stderr",
          "text": [
            " 84%|████████▎ | 2600/3107 [5:58:47<1:31:59, 10.89s/it]"
          ]
        },
        {
          "output_type": "stream",
          "name": "stdout",
          "text": [
            "Batch 51 processed and moved to /content/drive/MyDrive/shiwan/audios_volc/audio_in_batch_51.zip\n",
            "An error occurred: ('Connection aborted.', ConnectionResetError(104, 'Connection reset by peer'))\n"
          ]
        },
        {
          "output_type": "stream",
          "name": "stderr",
          "text": [
            " 84%|████████▎ | 2602/3107 [5:59:07<1:26:47, 10.31s/it]"
          ]
        },
        {
          "output_type": "stream",
          "name": "stdout",
          "text": [
            "An error occurred: ('Connection aborted.', ConnectionResetError(104, 'Connection reset by peer'))\n"
          ]
        },
        {
          "output_type": "stream",
          "name": "stderr",
          "text": [
            " 84%|████████▍ | 2607/3107 [5:59:47<1:08:10,  8.18s/it]"
          ]
        },
        {
          "output_type": "stream",
          "name": "stdout",
          "text": [
            "An error occurred: ('Connection aborted.', ConnectionResetError(104, 'Connection reset by peer'))\n"
          ]
        },
        {
          "output_type": "stream",
          "name": "stderr",
          "text": [
            " 84%|████████▍ | 2616/3107 [6:01:02<1:03:20,  7.74s/it]"
          ]
        },
        {
          "output_type": "stream",
          "name": "stdout",
          "text": [
            "An error occurred: ('Connection aborted.', ConnectionResetError(104, 'Connection reset by peer'))\n"
          ]
        },
        {
          "output_type": "stream",
          "name": "stderr",
          "text": [
            " 85%|████████▍ | 2627/3107 [6:02:36<1:18:13,  9.78s/it]"
          ]
        },
        {
          "output_type": "stream",
          "name": "stdout",
          "text": [
            "An error occurred: ('Connection aborted.', ConnectionResetError(104, 'Connection reset by peer'))\n"
          ]
        },
        {
          "output_type": "stream",
          "name": "stderr",
          "text": [
            "\r 85%|████████▍ | 2628/3107 [6:02:44<1:13:07,  9.16s/it]"
          ]
        },
        {
          "output_type": "stream",
          "name": "stdout",
          "text": [
            "An error occurred: ('Connection aborted.', ConnectionResetError(104, 'Connection reset by peer'))\n"
          ]
        },
        {
          "output_type": "stream",
          "name": "stderr",
          "text": [
            " 85%|████████▍ | 2630/3107 [6:02:57<1:01:27,  7.73s/it]"
          ]
        },
        {
          "output_type": "stream",
          "name": "stdout",
          "text": [
            "An error occurred: ('Connection aborted.', ConnectionResetError(104, 'Connection reset by peer'))\n"
          ]
        },
        {
          "output_type": "stream",
          "name": "stderr",
          "text": [
            " 85%|████████▍ | 2633/3107 [6:03:23<1:02:50,  7.95s/it]"
          ]
        },
        {
          "output_type": "stream",
          "name": "stdout",
          "text": [
            "An error occurred: ('Connection aborted.', ConnectionResetError(104, 'Connection reset by peer'))\n"
          ]
        },
        {
          "output_type": "stream",
          "name": "stderr",
          "text": [
            "\r 85%|████████▍ | 2634/3107 [6:03:35<1:10:52,  8.99s/it]"
          ]
        },
        {
          "output_type": "stream",
          "name": "stdout",
          "text": [
            "An error occurred: ('Connection aborted.', ConnectionResetError(104, 'Connection reset by peer'))\n"
          ]
        },
        {
          "output_type": "stream",
          "name": "stderr",
          "text": [
            " 85%|████████▍ | 2640/3107 [6:04:24<1:02:32,  8.04s/it]"
          ]
        },
        {
          "output_type": "stream",
          "name": "stdout",
          "text": [
            "An error occurred: ('Connection aborted.', ConnectionResetError(104, 'Connection reset by peer'))\n"
          ]
        },
        {
          "output_type": "stream",
          "name": "stderr",
          "text": [
            "\r 85%|████████▌ | 2641/3107 [6:04:33<1:06:26,  8.55s/it]"
          ]
        },
        {
          "output_type": "stream",
          "name": "stdout",
          "text": [
            "An error occurred: ('Connection aborted.', ConnectionResetError(104, 'Connection reset by peer'))\n"
          ]
        },
        {
          "output_type": "stream",
          "name": "stderr",
          "text": [
            " 85%|████████▌ | 2650/3107 [6:05:58<1:06:37,  8.75s/it]"
          ]
        },
        {
          "output_type": "stream",
          "name": "stdout",
          "text": [
            "Batch 52 processed and moved to /content/drive/MyDrive/shiwan/audios_volc/audio_in_batch_52.zip\n"
          ]
        },
        {
          "output_type": "stream",
          "name": "stderr",
          "text": [
            " 86%|████████▌ | 2663/3107 [6:08:10<1:17:55, 10.53s/it]"
          ]
        },
        {
          "output_type": "stream",
          "name": "stdout",
          "text": [
            "An error occurred: ('Connection aborted.', ConnectionResetError(104, 'Connection reset by peer'))\n"
          ]
        },
        {
          "output_type": "stream",
          "name": "stderr",
          "text": [
            " 86%|████████▌ | 2665/3107 [6:08:30<1:15:05, 10.19s/it]"
          ]
        },
        {
          "output_type": "stream",
          "name": "stdout",
          "text": [
            "An error occurred: ('Connection aborted.', ConnectionResetError(104, 'Connection reset by peer'))\n"
          ]
        },
        {
          "output_type": "stream",
          "name": "stderr",
          "text": [
            " 86%|████████▌ | 2670/3107 [6:09:33<1:36:28, 13.25s/it]"
          ]
        },
        {
          "output_type": "stream",
          "name": "stdout",
          "text": [
            "An error occurred: ('Connection aborted.', ConnectionResetError(104, 'Connection reset by peer'))\n"
          ]
        },
        {
          "output_type": "stream",
          "name": "stderr",
          "text": [
            " 87%|████████▋ | 2688/3107 [6:11:58<53:18,  7.63s/it]"
          ]
        },
        {
          "output_type": "stream",
          "name": "stdout",
          "text": [
            "An error occurred: ('Connection aborted.', ConnectionResetError(104, 'Connection reset by peer'))\n"
          ]
        },
        {
          "output_type": "stream",
          "name": "stderr",
          "text": [
            " 87%|████████▋ | 2700/3107 [6:13:40<58:16,  8.59s/it]"
          ]
        },
        {
          "output_type": "stream",
          "name": "stdout",
          "text": [
            "Batch 53 processed and moved to /content/drive/MyDrive/shiwan/audios_volc/audio_in_batch_53.zip\n"
          ]
        },
        {
          "output_type": "stream",
          "name": "stderr",
          "text": [
            " 87%|████████▋ | 2713/3107 [6:15:25<1:00:11,  9.17s/it]"
          ]
        },
        {
          "output_type": "stream",
          "name": "stdout",
          "text": [
            "An error occurred: ('Connection aborted.', ConnectionResetError(104, 'Connection reset by peer'))\n",
            "An error occurred: HTTPSConnectionPool(host='openspeech.bytedance.com', port=443): Read timed out.\n"
          ]
        },
        {
          "output_type": "stream",
          "name": "stderr",
          "text": [
            "\r 87%|████████▋ | 2714/3107 [6:16:20<2:30:38, 23.00s/it]"
          ]
        },
        {
          "output_type": "stream",
          "name": "stdout",
          "text": [
            "An error occurred: ('Connection aborted.', ConnectionResetError(104, 'Connection reset by peer'))\n"
          ]
        },
        {
          "output_type": "stream",
          "name": "stderr",
          "text": [
            "\r 87%|████████▋ | 2715/3107 [6:16:27<1:59:22, 18.27s/it]"
          ]
        },
        {
          "output_type": "stream",
          "name": "stdout",
          "text": [
            "An error occurred: ('Connection aborted.', ConnectionResetError(104, 'Connection reset by peer'))\n"
          ]
        },
        {
          "output_type": "stream",
          "name": "stderr",
          "text": [
            "\r 87%|████████▋ | 2716/3107 [6:16:41<1:49:16, 16.77s/it]"
          ]
        },
        {
          "output_type": "stream",
          "name": "stdout",
          "text": [
            "An error occurred: ('Connection aborted.', ConnectionResetError(104, 'Connection reset by peer'))\n"
          ]
        },
        {
          "output_type": "stream",
          "name": "stderr",
          "text": [
            "\r 87%|████████▋ | 2717/3107 [6:16:49<1:33:31, 14.39s/it]"
          ]
        },
        {
          "output_type": "stream",
          "name": "stdout",
          "text": [
            "An error occurred: ('Connection aborted.', ConnectionResetError(104, 'Connection reset by peer'))\n"
          ]
        },
        {
          "output_type": "stream",
          "name": "stderr",
          "text": [
            "\r 87%|████████▋ | 2718/3107 [6:17:06<1:37:46, 15.08s/it]"
          ]
        },
        {
          "output_type": "stream",
          "name": "stdout",
          "text": [
            "An error occurred: ('Connection aborted.', ConnectionResetError(104, 'Connection reset by peer'))\n"
          ]
        },
        {
          "output_type": "stream",
          "name": "stderr",
          "text": [
            " 88%|████████▊ | 2725/3107 [6:18:07<55:53,  8.78s/it]  "
          ]
        },
        {
          "output_type": "stream",
          "name": "stdout",
          "text": [
            "An error occurred: ('Connection aborted.', ConnectionResetError(104, 'Connection reset by peer'))\n"
          ]
        },
        {
          "output_type": "stream",
          "name": "stderr",
          "text": [
            " 88%|████████▊ | 2729/3107 [6:18:37<46:28,  7.38s/it]"
          ]
        },
        {
          "output_type": "stream",
          "name": "stdout",
          "text": [
            "An error occurred: ('Connection aborted.', ConnectionResetError(104, 'Connection reset by peer'))\n"
          ]
        },
        {
          "output_type": "stream",
          "name": "stderr",
          "text": [
            " 88%|████████▊ | 2736/3107 [6:19:51<54:23,  8.80s/it]  "
          ]
        },
        {
          "output_type": "stream",
          "name": "stdout",
          "text": [
            "An error occurred: ('Connection aborted.', ConnectionResetError(104, 'Connection reset by peer'))\n"
          ]
        },
        {
          "output_type": "stream",
          "name": "stderr",
          "text": [
            " 88%|████████▊ | 2742/3107 [6:21:20<1:08:39, 11.29s/it]"
          ]
        },
        {
          "output_type": "stream",
          "name": "stdout",
          "text": [
            "An error occurred: ('Connection aborted.', ConnectionResetError(104, 'Connection reset by peer'))\n"
          ]
        },
        {
          "output_type": "stream",
          "name": "stderr",
          "text": [
            " 88%|████████▊ | 2744/3107 [6:21:40<1:05:15, 10.79s/it]"
          ]
        },
        {
          "output_type": "stream",
          "name": "stdout",
          "text": [
            "An error occurred: ('Connection aborted.', ConnectionResetError(104, 'Connection reset by peer'))\n"
          ]
        },
        {
          "output_type": "stream",
          "name": "stderr",
          "text": [
            " 89%|████████▊ | 2750/3107 [6:22:37<1:00:44, 10.21s/it]"
          ]
        },
        {
          "output_type": "stream",
          "name": "stdout",
          "text": [
            "Batch 54 processed and moved to /content/drive/MyDrive/shiwan/audios_volc/audio_in_batch_54.zip\n",
            "An error occurred: ('Connection aborted.', ConnectionResetError(104, 'Connection reset by peer'))\n"
          ]
        },
        {
          "output_type": "stream",
          "name": "stderr",
          "text": [
            " 89%|████████▊ | 2757/3107 [6:23:37<49:36,  8.50s/it]"
          ]
        },
        {
          "output_type": "stream",
          "name": "stdout",
          "text": [
            "An error occurred: ('Connection aborted.', ConnectionResetError(104, 'Connection reset by peer'))\n"
          ]
        },
        {
          "output_type": "stream",
          "name": "stderr",
          "text": [
            "\r 89%|████████▉ | 2758/3107 [6:23:50<57:27,  9.88s/it]"
          ]
        },
        {
          "output_type": "stream",
          "name": "stdout",
          "text": [
            "An error occurred: ('Connection aborted.', ConnectionResetError(104, 'Connection reset by peer'))\n"
          ]
        },
        {
          "output_type": "stream",
          "name": "stderr",
          "text": [
            " 89%|████████▉ | 2761/3107 [6:24:20<56:59,  9.88s/it]"
          ]
        },
        {
          "output_type": "stream",
          "name": "stdout",
          "text": [
            "An error occurred: ('Connection aborted.', ConnectionResetError(104, 'Connection reset by peer'))\n"
          ]
        },
        {
          "output_type": "stream",
          "name": "stderr",
          "text": [
            " 89%|████████▉ | 2767/3107 [6:25:11<45:25,  8.02s/it]"
          ]
        },
        {
          "output_type": "stream",
          "name": "stdout",
          "text": [
            "An error occurred: ('Connection aborted.', ConnectionResetError(104, 'Connection reset by peer'))\n"
          ]
        },
        {
          "output_type": "stream",
          "name": "stderr",
          "text": [
            " 89%|████████▉ | 2773/3107 [6:25:56<38:24,  6.90s/it]"
          ]
        },
        {
          "output_type": "stream",
          "name": "stdout",
          "text": [
            "An error occurred: ('Connection aborted.', ConnectionResetError(104, 'Connection reset by peer'))\n"
          ]
        },
        {
          "output_type": "stream",
          "name": "stderr",
          "text": [
            " 89%|████████▉ | 2780/3107 [6:27:07<54:39, 10.03s/it]"
          ]
        },
        {
          "output_type": "stream",
          "name": "stdout",
          "text": [
            "An error occurred: ('Connection aborted.', ConnectionResetError(104, 'Connection reset by peer'))\n",
            "An error occurred: ('Connection aborted.', ConnectionResetError(104, 'Connection reset by peer'))\n",
            "An error occurred: ('Connection aborted.', ConnectionResetError(104, 'Connection reset by peer'))\n"
          ]
        },
        {
          "output_type": "stream",
          "name": "stderr",
          "text": [
            "\r 90%|████████▉ | 2781/3107 [6:27:22<1:02:12, 11.45s/it]"
          ]
        },
        {
          "output_type": "stream",
          "name": "stdout",
          "text": [
            "An error occurred: ('Connection aborted.', ConnectionResetError(104, 'Connection reset by peer'))\n"
          ]
        },
        {
          "output_type": "stream",
          "name": "stderr",
          "text": [
            " 90%|████████▉ | 2791/3107 [6:29:00<55:31, 10.54s/it]  "
          ]
        },
        {
          "output_type": "stream",
          "name": "stdout",
          "text": [
            "An error occurred: ('Connection aborted.', ConnectionResetError(104, 'Connection reset by peer'))\n"
          ]
        },
        {
          "output_type": "stream",
          "name": "stderr",
          "text": [
            " 90%|█████████ | 2799/3107 [6:30:33<1:03:12, 12.31s/it]"
          ]
        },
        {
          "output_type": "stream",
          "name": "stdout",
          "text": [
            "An error occurred: ('Connection aborted.', ConnectionResetError(104, 'Connection reset by peer'))\n"
          ]
        },
        {
          "output_type": "stream",
          "name": "stderr",
          "text": [
            "\r 90%|█████████ | 2800/3107 [6:30:42<57:34, 11.25s/it]  "
          ]
        },
        {
          "output_type": "stream",
          "name": "stdout",
          "text": [
            "Batch 55 processed and moved to /content/drive/MyDrive/shiwan/audios_volc/audio_in_batch_55.zip\n"
          ]
        },
        {
          "output_type": "stream",
          "name": "stderr",
          "text": [
            " 90%|█████████ | 2806/3107 [6:31:31<43:42,  8.71s/it]"
          ]
        },
        {
          "output_type": "stream",
          "name": "stdout",
          "text": [
            "An error occurred: ('Connection aborted.', ConnectionResetError(104, 'Connection reset by peer'))\n"
          ]
        },
        {
          "output_type": "stream",
          "name": "stderr",
          "text": [
            "\r 90%|█████████ | 2807/3107 [6:31:40<44:20,  8.87s/it]"
          ]
        },
        {
          "output_type": "stream",
          "name": "stdout",
          "text": [
            "An error occurred: ('Connection aborted.', ConnectionResetError(104, 'Connection reset by peer'))\n"
          ]
        },
        {
          "output_type": "stream",
          "name": "stderr",
          "text": [
            " 91%|█████████ | 2812/3107 [6:32:18<38:31,  7.84s/it]"
          ]
        },
        {
          "output_type": "stream",
          "name": "stdout",
          "text": [
            "An error occurred: ('Connection aborted.', ConnectionResetError(104, 'Connection reset by peer'))\n"
          ]
        },
        {
          "output_type": "stream",
          "name": "stderr",
          "text": [
            " 91%|█████████ | 2817/3107 [6:32:54<36:47,  7.61s/it]"
          ]
        },
        {
          "output_type": "stream",
          "name": "stdout",
          "text": [
            "An error occurred: ('Connection aborted.', ConnectionResetError(104, 'Connection reset by peer'))\n"
          ]
        },
        {
          "output_type": "stream",
          "name": "stderr",
          "text": [
            " 91%|█████████ | 2820/3107 [6:33:25<45:17,  9.47s/it]"
          ]
        },
        {
          "output_type": "stream",
          "name": "stdout",
          "text": [
            "An error occurred: ('Connection aborted.', ConnectionResetError(104, 'Connection reset by peer'))\n"
          ]
        },
        {
          "output_type": "stream",
          "name": "stderr",
          "text": [
            " 92%|█████████▏| 2849/3107 [6:37:59<39:37,  9.22s/it]"
          ]
        },
        {
          "output_type": "stream",
          "name": "stdout",
          "text": [
            "An error occurred: ('Connection aborted.', ConnectionResetError(104, 'Connection reset by peer'))\n"
          ]
        },
        {
          "output_type": "stream",
          "name": "stderr",
          "text": [
            "\r 92%|█████████▏| 2850/3107 [6:38:08<39:27,  9.21s/it]"
          ]
        },
        {
          "output_type": "stream",
          "name": "stdout",
          "text": [
            "Batch 56 processed and moved to /content/drive/MyDrive/shiwan/audios_volc/audio_in_batch_56.zip\n"
          ]
        },
        {
          "output_type": "stream",
          "name": "stderr",
          "text": [
            " 92%|█████████▏| 2865/3107 [6:40:30<43:51, 10.87s/it]"
          ]
        },
        {
          "output_type": "stream",
          "name": "stdout",
          "text": [
            "An error occurred: ('Connection aborted.', ConnectionResetError(104, 'Connection reset by peer'))\n"
          ]
        },
        {
          "output_type": "stream",
          "name": "stderr",
          "text": [
            " 93%|█████████▎| 2877/3107 [6:42:15<30:27,  7.94s/it]"
          ]
        },
        {
          "output_type": "stream",
          "name": "stdout",
          "text": [
            "An error occurred: ('Connection aborted.', ConnectionResetError(104, 'Connection reset by peer'))\n"
          ]
        },
        {
          "output_type": "stream",
          "name": "stderr",
          "text": [
            " 93%|█████████▎| 2879/3107 [6:42:36<34:41,  9.13s/it]"
          ]
        },
        {
          "output_type": "stream",
          "name": "stdout",
          "text": [
            "An error occurred: ('Connection aborted.', ConnectionResetError(104, 'Connection reset by peer'))\n"
          ]
        },
        {
          "output_type": "stream",
          "name": "stderr",
          "text": [
            " 93%|█████████▎| 2881/3107 [6:43:02<40:44, 10.82s/it]"
          ]
        },
        {
          "output_type": "stream",
          "name": "stdout",
          "text": [
            "An error occurred: ('Connection aborted.', ConnectionResetError(104, 'Connection reset by peer'))\n",
            "An error occurred: ('Connection aborted.', ConnectionResetError(104, 'Connection reset by peer'))\n"
          ]
        },
        {
          "output_type": "stream",
          "name": "stderr",
          "text": [
            " 93%|█████████▎| 2884/3107 [6:43:31<35:21,  9.52s/it]"
          ]
        },
        {
          "output_type": "stream",
          "name": "stdout",
          "text": [
            "An error occurred: ('Connection aborted.', ConnectionResetError(104, 'Connection reset by peer'))\n"
          ]
        },
        {
          "output_type": "stream",
          "name": "stderr",
          "text": [
            " 93%|█████████▎| 2898/3107 [6:45:28<25:51,  7.42s/it]"
          ]
        },
        {
          "output_type": "stream",
          "name": "stdout",
          "text": [
            "An error occurred: ('Connection aborted.', ConnectionResetError(104, 'Connection reset by peer'))\n"
          ]
        },
        {
          "output_type": "stream",
          "name": "stderr",
          "text": [
            " 93%|█████████▎| 2900/3107 [6:45:45<26:46,  7.76s/it]"
          ]
        },
        {
          "output_type": "stream",
          "name": "stdout",
          "text": [
            "Batch 57 processed and moved to /content/drive/MyDrive/shiwan/audios_volc/audio_in_batch_57.zip\n"
          ]
        },
        {
          "output_type": "stream",
          "name": "stderr",
          "text": [
            "\r 93%|█████████▎| 2901/3107 [6:45:53<27:36,  8.04s/it]"
          ]
        },
        {
          "output_type": "stream",
          "name": "stdout",
          "text": [
            "An error occurred: ('Connection aborted.', ConnectionResetError(104, 'Connection reset by peer'))\n"
          ]
        },
        {
          "output_type": "stream",
          "name": "stderr",
          "text": [
            " 93%|█████████▎| 2903/3107 [6:46:11<28:47,  8.47s/it]"
          ]
        },
        {
          "output_type": "stream",
          "name": "stdout",
          "text": [
            "An error occurred: ('Connection aborted.', ConnectionResetError(104, 'Connection reset by peer'))\n"
          ]
        },
        {
          "output_type": "stream",
          "name": "stderr",
          "text": [
            " 94%|█████████▎| 2909/3107 [6:46:59<25:13,  7.64s/it]"
          ]
        },
        {
          "output_type": "stream",
          "name": "stdout",
          "text": [
            "An error occurred: ('Connection aborted.', ConnectionResetError(104, 'Connection reset by peer'))\n"
          ]
        },
        {
          "output_type": "stream",
          "name": "stderr",
          "text": [
            "\r 94%|█████████▎| 2910/3107 [6:47:11<29:06,  8.87s/it]"
          ]
        },
        {
          "output_type": "stream",
          "name": "stdout",
          "text": [
            "An error occurred: ('Connection aborted.', ConnectionResetError(104, 'Connection reset by peer'))\n"
          ]
        },
        {
          "output_type": "stream",
          "name": "stderr",
          "text": [
            " 94%|█████████▍| 2918/3107 [6:48:24<22:53,  7.27s/it]"
          ]
        },
        {
          "output_type": "stream",
          "name": "stdout",
          "text": [
            "An error occurred: ('Connection aborted.', ConnectionResetError(104, 'Connection reset by peer'))\n"
          ]
        },
        {
          "output_type": "stream",
          "name": "stderr",
          "text": [
            " 94%|█████████▍| 2921/3107 [6:48:47<24:24,  7.87s/it]"
          ]
        },
        {
          "output_type": "stream",
          "name": "stdout",
          "text": [
            "An error occurred: ('Connection aborted.', ConnectionResetError(104, 'Connection reset by peer'))\n"
          ]
        },
        {
          "output_type": "stream",
          "name": "stderr",
          "text": [
            " 94%|█████████▍| 2924/3107 [6:49:19<29:58,  9.83s/it]"
          ]
        },
        {
          "output_type": "stream",
          "name": "stdout",
          "text": [
            "An error occurred: ('Connection aborted.', ConnectionResetError(104, 'Connection reset by peer'))\n",
            "An error occurred: ('Connection aborted.', ConnectionResetError(104, 'Connection reset by peer'))\n"
          ]
        },
        {
          "output_type": "stream",
          "name": "stderr",
          "text": [
            " 94%|█████████▍| 2926/3107 [6:49:45<32:45, 10.86s/it]"
          ]
        },
        {
          "output_type": "stream",
          "name": "stdout",
          "text": [
            "An error occurred: ('Connection aborted.', ConnectionResetError(104, 'Connection reset by peer'))\n"
          ]
        },
        {
          "output_type": "stream",
          "name": "stderr",
          "text": [
            " 95%|█████████▍| 2938/3107 [6:51:44<25:04,  8.90s/it]"
          ]
        },
        {
          "output_type": "stream",
          "name": "stdout",
          "text": [
            "An error occurred: ('Connection aborted.', ConnectionResetError(104, 'Connection reset by peer'))\n"
          ]
        },
        {
          "output_type": "stream",
          "name": "stderr",
          "text": [
            " 95%|█████████▍| 2945/3107 [6:53:06<27:42, 10.27s/it]"
          ]
        },
        {
          "output_type": "stream",
          "name": "stdout",
          "text": [
            "An error occurred: ('Connection aborted.', ConnectionResetError(104, 'Connection reset by peer'))\n"
          ]
        },
        {
          "output_type": "stream",
          "name": "stderr",
          "text": [
            " 95%|█████████▍| 2950/3107 [6:53:49<23:01,  8.80s/it]"
          ]
        },
        {
          "output_type": "stream",
          "name": "stdout",
          "text": [
            "Batch 58 processed and moved to /content/drive/MyDrive/shiwan/audios_volc/audio_in_batch_58.zip\n",
            "An error occurred: ('Connection aborted.', ConnectionResetError(104, 'Connection reset by peer'))\n"
          ]
        },
        {
          "output_type": "stream",
          "name": "stderr",
          "text": [
            " 95%|█████████▌| 2955/3107 [6:54:34<22:06,  8.73s/it]"
          ]
        },
        {
          "output_type": "stream",
          "name": "stdout",
          "text": [
            "An error occurred: ('Connection aborted.', ConnectionResetError(104, 'Connection reset by peer'))\n"
          ]
        },
        {
          "output_type": "stream",
          "name": "stderr",
          "text": [
            " 95%|█████████▌| 2964/3107 [6:55:51<19:05,  8.01s/it]"
          ]
        },
        {
          "output_type": "stream",
          "name": "stdout",
          "text": [
            "An error occurred: ('Connection aborted.', ConnectionResetError(104, 'Connection reset by peer'))\n"
          ]
        },
        {
          "output_type": "stream",
          "name": "stderr",
          "text": [
            "\r 95%|█████████▌| 2965/3107 [6:56:00<20:05,  8.49s/it]"
          ]
        },
        {
          "output_type": "stream",
          "name": "stdout",
          "text": [
            "An error occurred: ('Connection aborted.', ConnectionResetError(104, 'Connection reset by peer'))\n"
          ]
        },
        {
          "output_type": "stream",
          "name": "stderr",
          "text": [
            " 96%|█████████▌| 2974/3107 [6:57:26<18:21,  8.28s/it]"
          ]
        },
        {
          "output_type": "stream",
          "name": "stdout",
          "text": [
            "An error occurred: ('Connection aborted.', ConnectionResetError(104, 'Connection reset by peer'))\n"
          ]
        },
        {
          "output_type": "stream",
          "name": "stderr",
          "text": [
            " 96%|█████████▌| 2977/3107 [6:57:53<18:24,  8.50s/it]"
          ]
        },
        {
          "output_type": "stream",
          "name": "stdout",
          "text": [
            "An error occurred: ('Connection aborted.', ConnectionResetError(104, 'Connection reset by peer'))\n",
            "An error occurred: ('Connection aborted.', ConnectionResetError(104, 'Connection reset by peer'))\n"
          ]
        },
        {
          "output_type": "stream",
          "name": "stderr",
          "text": [
            "\r 96%|█████████▌| 2978/3107 [6:58:10<24:00, 11.17s/it]"
          ]
        },
        {
          "output_type": "stream",
          "name": "stdout",
          "text": [
            "An error occurred: ('Connection aborted.', ConnectionResetError(104, 'Connection reset by peer'))\n"
          ]
        },
        {
          "output_type": "stream",
          "name": "stderr",
          "text": [
            " 96%|█████████▌| 2980/3107 [6:58:28<21:14, 10.03s/it]"
          ]
        },
        {
          "output_type": "stream",
          "name": "stdout",
          "text": [
            "An error occurred: ('Connection aborted.', ConnectionResetError(104, 'Connection reset by peer'))\n"
          ]
        },
        {
          "output_type": "stream",
          "name": "stderr",
          "text": [
            " 96%|█████████▌| 2984/3107 [6:58:58<16:33,  8.08s/it]"
          ]
        },
        {
          "output_type": "stream",
          "name": "stdout",
          "text": [
            "An error occurred: ('Connection aborted.', ConnectionResetError(104, 'Connection reset by peer'))\n",
            "An error occurred: ('Connection aborted.', ConnectionResetError(104, 'Connection reset by peer'))\n"
          ]
        },
        {
          "output_type": "stream",
          "name": "stderr",
          "text": [
            " 96%|█████████▋| 2993/3107 [7:00:58<23:55, 12.59s/it]"
          ]
        },
        {
          "output_type": "stream",
          "name": "stdout",
          "text": [
            "An error occurred: ('Connection aborted.', ConnectionResetError(104, 'Connection reset by peer'))\n"
          ]
        },
        {
          "output_type": "stream",
          "name": "stderr",
          "text": [
            " 97%|█████████▋| 3000/3107 [7:02:03<15:49,  8.87s/it]"
          ]
        },
        {
          "output_type": "stream",
          "name": "stdout",
          "text": [
            "Batch 59 processed and moved to /content/drive/MyDrive/shiwan/audios_volc/audio_in_batch_59.zip\n"
          ]
        },
        {
          "output_type": "stream",
          "name": "stderr",
          "text": [
            " 97%|█████████▋| 3007/3107 [7:03:03<13:39,  8.19s/it]"
          ]
        },
        {
          "output_type": "stream",
          "name": "stdout",
          "text": [
            "An error occurred: ('Connection aborted.', ConnectionResetError(104, 'Connection reset by peer'))\n"
          ]
        },
        {
          "output_type": "stream",
          "name": "stderr",
          "text": [
            "\r 97%|█████████▋| 3008/3107 [7:03:22<19:14, 11.66s/it]"
          ]
        },
        {
          "output_type": "stream",
          "name": "stdout",
          "text": [
            "An error occurred: ('Connection aborted.', ConnectionResetError(104, 'Connection reset by peer'))\n"
          ]
        },
        {
          "output_type": "stream",
          "name": "stderr",
          "text": [
            " 97%|█████████▋| 3010/3107 [7:03:54<21:57, 13.58s/it]"
          ]
        },
        {
          "output_type": "stream",
          "name": "stdout",
          "text": [
            "An error occurred: ('Connection aborted.', ConnectionResetError(104, 'Connection reset by peer'))\n"
          ]
        },
        {
          "output_type": "stream",
          "name": "stderr",
          "text": [
            " 97%|█████████▋| 3020/3107 [7:05:24<15:07, 10.43s/it]"
          ]
        },
        {
          "output_type": "stream",
          "name": "stdout",
          "text": [
            "An error occurred: ('Connection aborted.', ConnectionResetError(104, 'Connection reset by peer'))\n"
          ]
        },
        {
          "output_type": "stream",
          "name": "stderr",
          "text": [
            " 97%|█████████▋| 3025/3107 [7:06:00<10:06,  7.40s/it]"
          ]
        },
        {
          "output_type": "stream",
          "name": "stdout",
          "text": [
            "An error occurred: ('Connection aborted.', ConnectionResetError(104, 'Connection reset by peer'))\n"
          ]
        },
        {
          "output_type": "stream",
          "name": "stderr",
          "text": [
            " 98%|█████████▊| 3031/3107 [7:07:14<14:02, 11.09s/it]"
          ]
        },
        {
          "output_type": "stream",
          "name": "stdout",
          "text": [
            "An error occurred: ('Connection aborted.', ConnectionResetError(104, 'Connection reset by peer'))\n"
          ]
        },
        {
          "output_type": "stream",
          "name": "stderr",
          "text": [
            " 98%|█████████▊| 3044/3107 [7:08:59<10:24,  9.92s/it]"
          ]
        },
        {
          "output_type": "stream",
          "name": "stdout",
          "text": [
            "An error occurred: ('Connection aborted.', ConnectionResetError(104, 'Connection reset by peer'))\n"
          ]
        },
        {
          "output_type": "stream",
          "name": "stderr",
          "text": [
            "\r 98%|█████████▊| 3045/3107 [7:09:08<10:07,  9.80s/it]"
          ]
        },
        {
          "output_type": "stream",
          "name": "stdout",
          "text": [
            "An error occurred: ('Connection aborted.', ConnectionResetError(104, 'Connection reset by peer'))\n"
          ]
        },
        {
          "output_type": "stream",
          "name": "stderr",
          "text": [
            " 98%|█████████▊| 3050/3107 [7:10:38<12:32, 13.21s/it]"
          ]
        },
        {
          "output_type": "stream",
          "name": "stdout",
          "text": [
            "Batch 60 processed and moved to /content/drive/MyDrive/shiwan/audios_volc/audio_in_batch_60.zip\n"
          ]
        },
        {
          "output_type": "stream",
          "name": "stderr",
          "text": [
            " 98%|█████████▊| 3059/3107 [7:12:03<07:14,  9.05s/it]"
          ]
        },
        {
          "output_type": "stream",
          "name": "stdout",
          "text": [
            "An error occurred: ('Connection aborted.', ConnectionResetError(104, 'Connection reset by peer'))\n"
          ]
        },
        {
          "output_type": "stream",
          "name": "stderr",
          "text": [
            " 99%|█████████▊| 3063/3107 [7:12:46<07:22, 10.06s/it]"
          ]
        },
        {
          "output_type": "stream",
          "name": "stdout",
          "text": [
            "An error occurred: ('Connection aborted.', ConnectionResetError(104, 'Connection reset by peer'))\n"
          ]
        },
        {
          "output_type": "stream",
          "name": "stderr",
          "text": [
            " 99%|█████████▊| 3065/3107 [7:13:07<07:16, 10.40s/it]"
          ]
        },
        {
          "output_type": "stream",
          "name": "stdout",
          "text": [
            "An error occurred: ('Connection aborted.', ConnectionResetError(104, 'Connection reset by peer'))\n"
          ]
        },
        {
          "output_type": "stream",
          "name": "stderr",
          "text": [
            " 99%|█████████▉| 3071/3107 [7:14:27<08:33, 14.26s/it]"
          ]
        },
        {
          "output_type": "stream",
          "name": "stdout",
          "text": [
            "An error occurred: ('Connection aborted.', ConnectionResetError(104, 'Connection reset by peer'))\n"
          ]
        },
        {
          "output_type": "stream",
          "name": "stderr",
          "text": [
            " 99%|█████████▉| 3075/3107 [7:15:08<05:36, 10.52s/it]"
          ]
        },
        {
          "output_type": "stream",
          "name": "stdout",
          "text": [
            "An error occurred: ('Connection aborted.', ConnectionResetError(104, 'Connection reset by peer'))\n"
          ]
        },
        {
          "output_type": "stream",
          "name": "stderr",
          "text": [
            " 99%|█████████▉| 3077/3107 [7:15:27<05:00, 10.03s/it]"
          ]
        },
        {
          "output_type": "stream",
          "name": "stdout",
          "text": [
            "An error occurred: ('Connection aborted.', ConnectionResetError(104, 'Connection reset by peer'))\n",
            "An error occurred: ('Connection aborted.', ConnectionResetError(104, 'Connection reset by peer'))\n"
          ]
        },
        {
          "output_type": "stream",
          "name": "stderr",
          "text": [
            " 99%|█████████▉| 3079/3107 [7:16:10<07:18, 15.67s/it]"
          ]
        },
        {
          "output_type": "stream",
          "name": "stdout",
          "text": [
            "An error occurred: ('Connection aborted.', ConnectionResetError(104, 'Connection reset by peer'))\n"
          ]
        },
        {
          "output_type": "stream",
          "name": "stderr",
          "text": [
            " 99%|█████████▉| 3089/3107 [7:17:49<03:26, 11.44s/it]"
          ]
        },
        {
          "output_type": "stream",
          "name": "stdout",
          "text": [
            "An error occurred: ('Connection aborted.', ConnectionResetError(104, 'Connection reset by peer'))\n"
          ]
        },
        {
          "output_type": "stream",
          "name": "stderr",
          "text": [
            "100%|█████████▉| 3093/3107 [7:18:51<03:01, 12.95s/it]"
          ]
        },
        {
          "output_type": "stream",
          "name": "stdout",
          "text": [
            "An error occurred: ('Connection aborted.', ConnectionResetError(104, 'Connection reset by peer'))\n"
          ]
        },
        {
          "output_type": "stream",
          "name": "stderr",
          "text": [
            "100%|█████████▉| 3100/3107 [7:20:10<01:09,  9.92s/it]"
          ]
        },
        {
          "output_type": "stream",
          "name": "stdout",
          "text": [
            "Batch 61 processed and moved to /content/drive/MyDrive/shiwan/audios_volc/audio_in_batch_61.zip\n"
          ]
        },
        {
          "output_type": "stream",
          "name": "stderr",
          "text": [
            "100%|█████████▉| 3102/3107 [7:20:26<00:44,  8.88s/it]"
          ]
        },
        {
          "output_type": "stream",
          "name": "stdout",
          "text": [
            "An error occurred: ('Connection aborted.', ConnectionResetError(104, 'Connection reset by peer'))\n"
          ]
        },
        {
          "output_type": "stream",
          "name": "stderr",
          "text": [
            "100%|██████████| 3107/3107 [7:21:38<00:00,  8.53s/it]"
          ]
        },
        {
          "output_type": "stream",
          "name": "stdout",
          "text": [
            "Batch 62 processed and moved to /content/drive/MyDrive/shiwan/audios_volc/audio_in_batch_62.zip\n",
            "All data processed.\n"
          ]
        },
        {
          "output_type": "stream",
          "name": "stderr",
          "text": [
            "\n"
          ]
        }
      ]
    },
    {
      "cell_type": "code",
      "source": [
        "from IPython.display import Audio\n",
        "\n",
        "# 替换'url_to_mp3'为你的MP3文件的URL\n",
        "Audio(question_save_name, autoplay=True)\n"
      ],
      "metadata": {
        "colab": {
          "base_uri": "https://localhost:8080/",
          "height": 75
        },
        "id": "3W8-fOZAi-vX",
        "outputId": "0920cfe1-fdbf-46ef-c768-84eb56f8320a"
      },
      "execution_count": null,
      "outputs": [
        {
          "output_type": "execute_result",
          "data": {
            "text/plain": [
              "<IPython.lib.display.Audio object>"
            ],
            "text/html": [
              "\n",
              "                <audio  controls=\"controls\" autoplay=\"autoplay\">\n",
              "                    <source src=\"data:audio/mpeg;base64,//PkxAAAAAAAAAAAAAAAAAAAAAAAAAAAAAAAAAAAAAAAAAAAAAAAAAAAAAAAAAAAAAAAAAAAAAAAAAAAAAAAAAAAAAAAAAAAAAAAAAAAAAAAAAAAAAAAAAAAAAAAAAAAAAAAAAAAAAAAAAAAAAAAAAAAAAAAAAAAAAAAAAAAAAAAAAAAAAAAAAAAAAAAAAAAAAAAAAAAAAAAAAAAAAAAAAAAAAAAAAAAAAAAAAAAAAAAAAAAAAAAAAAAAAAAAAAAAAAAAAAAAAAAAAAAAAAAAAAAAAAAAAAAAAAAAAAAAAAAAAAAAAAAAAAAAAAAAAAAAAAAAAAAAAAAAAAAAAAAAAAAAAAAAAAAAAAAAAAAAAAAAAAAAAAAAAAAAAAAAAAAAAAAAAAAAAAAAAAAAAAAAAAAAAAAAAAAAAAAAAAAAAAAAAAAAAAAAAAAAAAAAAAAAAAAAAAAAAAAAAAAAAAAAAAAAAAAAAAAAAAAAAAAAAAAAAAAAAAAAAAAAAAAAAAAAAAAAAAAAAAAAAAAAAAAAAAAAAAAAAAAAAAAAAAAAAAAAAAAAAAAAAAAAAAAAAAAAAAAAAAAAAAAAAAAAAAAAAAAAAAAAAAAAAAAAAAAAAAAAAAAAAAAAAAAAAAAAAAA//PkxABhfDnQCuawjGuNNEoyy1TY4NNKHoyq7Tc5rMGBwxugTHZkOEs8MS5ECzIB4NBHQzAMjBwTfjyECbBYZo4bKIcJkZgABBxqHBskRmChrU5oTJlyply5lSpkx4ctVRBwAlN+T708zAU1r24mztkjPwSEzpNazOUzrOdzvE8QNzDQAvxRRNncXwjimCYixIEtyiC4HjbMEiIRQLkRUQkIOJjrro5t/5e7aw6EsxCARC2hchFBlk65c9G4Aiqc5d8tOXHUHdeYcizblEsr32kIB0A5adFNx427cXaWW0U0dSJx5hi7FAEiEH1jrDpDmEJccu+xd3MYu7FhkCDi6IpEGvzTuSyPqZrHYe8yY8LfR3GsMsj8XoFh23diAYW5D4l10B7OETEwGuMMYhLHAgScjccgR92vtbaflEGUKkYgnIWkV5fawsd+4DWHdfK8+7vtYVJB0PvA4lihh9wFSOQpgkQkIppLKSnjdPT1nYZw7ksuOxFJuX56rxukcBLxFRMRIRAIkQuhd6w7E4vqkpKSMBLwFwbxQScHETmIyCCZEw0BheFmGvZHkccyeRjak7mTkOUYSwwJkgimmBIMcZGBTRlwEcHPnecjJx4a0HpaCcbJZoxvGKl6blLZph8G//PkxE1wdDnwMPcwjIQIEAuGkqaycRtBdGghkYtL5QojFA2EBgcJURWgFkNAARS0Avm84s4yQV2GUHqiBJe8vILoQEo5iIpcNOAOilOFwtGQ0VXXZIqqy4uHMUHRhgl0yb5et0ECkZmeK7V+/qDDAUVwAYeIuVbiYqjymKQ71KRVytmIRCH0yBoDesLamCBL1MYwVRu7MAIIvw44IULAQHqEoT2rpGOyim+BbhNiOIoJalk0BQKAg2ayoXrHZPBjBC9jKTakvEgIDplsFAFNQg7/pbonoSwMCKN2T4BqUujEZUpftEQKhQqDgJVrXWIhglwYhKKoHApgWEBmFQ6QZfyjWPADDUH3bUPT7UEUZLuLLAIUc0qHdFBKEgQSsE+FAKWobHYwzMFrMtTysQgOjkC0Wi2DQXuaopBBta6hiXDyLbc9ScjZWuJhjDGWl5y6d1/H/Ze/YFGLDSoSQUcLgFmDVADcbq1+mTodJYCC0f09FcLQTgbG+kMMnXM1imj0kmKAIRW7WORuXmhyvDNqhgMIBAXM1G4yuF2XtZdGlnzBxBMugExGMwMBGaWZCYYKxgQ+GeHOdjWpuqmGhySJENE1WNLRVcxIYjJQMWqwVMBhalyIJIYJAo8+zToUnuW8//PkxF5VpDZxvuYfPgEsUAKhsoBGNiATbpWFVKsbDkC1jxlkDOUe1N1h5FOY4SGRQw6kbf+XTnKOlhtp8olleX5duxxllFqxUqPowx1L01HIzq7t22X2LMXt1VbS0aqSljkw+mQsKXfMBjYpOBtFDk+E93uS0BQ0JaI7/xJeic5fNK9BgFEfhQR3E52bF0FjtiW4utY8xPOO3j+QXedqAX7k8Y7TsjWdhcFRKzVQyCp0PbnSvjyqTUGEn4zpjhK+yonTiUdp1BsZ+MDKe6Fro8M9/NHc5lO3Q1I3s8OG3LskZFlzfwGdqRjm2pGKlHZY1oOg9zmfvGNFsBO1HGrqHCmhqOfDykxBTUUzLjEwMKqqqqqqqqqqqqqqqqqqqqqqqqqqqqqqqqqqqqqqqqqqqqqqgCzT0k4J3W+d6QXMREAhgKE5tnD5k2RhEALvsjLmTQODMxmI03EOYxAEAwGBMwRAdMgVD0wVA4xPCwxKmY/Vgs+RiM6vo8yPT03JR0yFEkw2AwytFMUnj9uA+ltDCcwEJUCd1aT+ypn5cRgjwKWLHawZxCKEthiWQhiqtLWwSKmpGImzp830gRw1jQ5Yuw7XgOHFSTD5zbgTMoUbLjjwctsvww9xlwGCGaprVF2L//PkxK5ghDpZHO7zABFcK7RMQuCCDOAnHbZGX/LiI3gqQvIZJZihsAdx8gSSWcOdc331XKqJEDAUfNCgwXQCaIRg6BuGLG3THgAAcYgwYYytajmRiUikwKoaChG6qFDeu4HALBhUEVBQ+V5Zp41FoVEq0zQXL8Tl92zrlJMRR9Y2pm5csWI38yyzO3RYPA+sbh9y3AmYYlkFy7DdA8udigkd2tQW3upqWDbMsqbtXqlPHe/YjFiR240+dmVyN8XaXmoOyR46OZbuY4bvP4/E9CJZ2OrEfyQZ2LsrmmAQJbv9TEFNRTMuMTAwqqqqqqqqqqqqqqqqqqqqqqqqqqqqqqqqqqqqqqqqqqqqqqqqqqqqqqqqqqqqqqqqqqqqqqqqqqqqqqqqqqqqqqqqqqqqqqqqqqqqqqqqqqqqqqqqqqqqqqqqqqqqqqqqqqqqqqqqqqqqqqqqqqqqqqqqqqqqqqqqqqqqqqqqqqqqqqqqqqqqqqqqqqqqqqqqqqqqqqqqqvQ4GHZd9XJK/L409jOx9AUBBdWlprdNfmGYEwyOgEIkMS/6IqgUKLPISnabZ2mkmTkZmf8cWVnLthlhmYOLAQHW+FljeSATCeEMSCtSOoFhG1euU0WEoeFkbrsm1CLN//PkxF9MrDq2Xt5fMv+SpDuDI3rfxjkNumgHSujLYWprzjDK25JyoRqjg2T30qE6DGwH/E5XxcsW86i5qY5EaqKsafTh1FtHEQpPRVCrZiQGprcReZyeJwBjOUtqw9jNkQ64cWDGqumMTwfKijkuTbWfsQSRPsyOZo8W8mGeFFrVympqAxZh7i7htB7GohXbkWqFUZC5VttnA1KBgljxZVZEgKB5Gf+fOoTgyLbxnyt3kmljbw5TZvmGuKl0cznOgei4w0JwWB6ypM004c8djq1Ma+LmsucGBKzMh2QXmG6tTEFNRTMuMTAwVVVVVVVVVVVVVVVVVVVVVVVVVVVVVVWAAvawhOeIKroCAuEpgCdhy6YZgOFYYOwKBUmAJUZYAIw1GQ0h0k2+F8CkoeV4sB2oINmDzKcRcJ7p7gJOlQEGFwUlig8YECxicdHDnyaUH4EAhaFsAICphAJpPmaVUZLApj4mmQAKQgYu8AAo04GQGsigo7q67CDJmmmrmYryxm2pI65pf8SHDlGLuRJV3s3BIqJ7MN07izLLEHFlmgkqdc7SFb0BBmMDTAqRDpiKpmgUEaENRY4njMqM5YeOYK6bS1LFwqHlc5rvCUcPueCA1nJZgAVdyPcWBJQWQAVg//PkxN9snDpVQO8ysiFAtOedwA5BUyXZeIMIARgVDBKwiXMpcFBCMoACGAgIAASeDTAUcoMAnEEgIEBQCR44dBiYyNjXnYYm9UggdkTIGt12CzbP4KX9dd58FMW50T/S6NuxHZA+8DwBXW/HF9mgGIhi3wCgFozDHFr0U39ghuaSKdiabbKnUSZmrYqQs6kkHIMDJQH7ZanUnUnIyeLUjL1ywDDT9tlg1xom09+xgBKEt2ydQZlKz1tJEo3jw6WxfNc0mj6aJEY4NDUdxyVnNkfB822fqSZwC+i7pbZlFNNqTEFNRTMuMTAwqqqqqqqqqqqqqqqqqqqqqqqqqqqqqqqqqqqqqqqqqqqqqqqqqqqqqqqqqqqqqqqqqqqqqqrWBWIx6XRtxyBULGIg+YZDUReIGAFhxiw5GlQ4YKJJi8Og4FCwcBohMMLI0kyjaZcBIPYOWhoHbXWYBhJnwZkQtSuflrzZQaVN21OMlCICMV2CU9wKXGgIOAoquE8bWn8ABItyaZWDlK5HmboW7DkBj34R0DGQEFuQtsAjTKkQKnOclCgFBgvQzMxqE2q0qnAAHkz/yaOqnEIcaBEpB/YbaVHGuBeoP9LXgWW/QiQCoF3TqoQjLko5O63RMgeBAQGE//PkxMFlRDp6/uaw9L2YNDrQmILThliqu3hdBQl+mkBditT0pzJDJ8PS1GVO0vluQiEAkOqzoLgUFGguIKiTuL0CQi7L9kC0bUL27LUb6yvFDVgjO2zVsW0eeXUkSvzEZpJ6loo9Q2LUtfSUU0NyFsKxGeogQ4hLd5u0YHiIc0rEalnLUjCSbjJnCg2cIKOLHVVF4rJWMWglL1LQiqJRgoLUUzc5uDeMPdwYm4jrQVbj8WdVbCVjoyew2BrrkDSGbqWl8VyMVqMoUpkzwUcHuXaycJ5IcnL0tpa9y9hcp7UiTEFNRTMuMTAwqqqqqqqqqqqqqqqqqqqqqqqqqqqqqqqqqqqqqqqqqqqqqpAAQBBWi4AEEg2oCYFCw1tOQGgaYODAYd7EY+CQYKBEYIAQJAOYEAAYChOYGlUGWMYMgYslX6SqAKwATE70uWe/OYVFVmGLkhwDCf6OAIUMFERAOqGFsRIXMwizMBcBChiouYEUjg2huKWRoOCaQFua6bxvqngZHPnKshgo6YsIg4KZ2BhEAmhyh8Cn4xAXJSExEZDgkwwWKoGZcXAoTWDTJRBk5doICDKwJNJSpOaQQwpsFHG0yAJR9kLSe5Hcosl5bFpR9VERMAi04VeQJadaMqXu//PkxNRpzDpbHO7wvMIJlhnlurHWBM4kAUIno8zJTlpIadvHihm4tJUwIQsOxGMO8zlabNkyyIjTGTSNW5PEETHBwy2sy+Mw6Tlu9E4lEpCyCA4Ehrkuh61WpamdmlpcmBL1dqR23hRNX6n0kADQLGS9clAKhJZMg4psnuglUtbMkajhTIkuTRrkdRfDNyQYdROJQdgjXm6L2aDbXOzt9pcmAnE4jRYzC2tyFTRY6zU6l5qDpgoYMbTlL7JfJXIMtLdKCkyVK5Q5Dgt/MOkjC7MAsdUtlzop/zcUoZfYcm3VTEFNRVVVVeAASA5ACAwH0mAtDAAXAVvMBwCQwLRNTRdZPMS4CcwAgODDDBIMCYAglADFgGDAfDFMKQQARAKpaOUCgGOAURCox8eTWoARxQvWa8CXZgAKGCE8NCpHNVoyAS/JgMCmJTSZzCg4DC4paIiDAJA4YOzIEUASXDC0hajOqYoBpKFDSA/BAOCwCR2UxCwAFACYLBQBAQ0AWIPazgueIBkFkSY4DpiIQFy0MzAYXL4GLB4ZpDhikCI9tbWqQjEURikkQMDpqrXiYOTLhnNUOQJeDoBWYXDTfO386SBYYDOlAAJcDKFJGwgW0KEm6zQjBSaC4sgljlMlVKt1//PkxPhy5DpGUvcyvCKBTBvpBETAFOYCQ+fUwwkUkkpG/krXuu1aVOsXF3wYK3oBAbiwJfLLXhcKYb2DmtSeJMjaw7rNpmGYElMSzp5XRTMjiU/T1ar/rBOtQKrOiZQ6dKA5Dmm2LCF4R4FjyvJpiU6ic1IvEYB6EABEYOHAopmMKQrCpgkGZRoEBAqYZauhBMWeTcXEt5P5S94AEVDKHEa2TPFRQYCTTqCyohDSGLbOIIUQCcmsl+AAE3TRHRvW8XNdcClA0VPtMS28tx0WAtXBwsFw7Fa3GpQ7SRaBYNm1TEFNRTMuMTAwVVVVVVVVVVVVVVVVVVVVVVVVVVVVVVVVVVVVVVVVVVVVVVVVVVVVVVVVVVVVVVVVVVVVVVVVVVVVVVVVVVVVVVVVVVVVVVVVVVVVVVVVVVVVVVVVVVVVVbUBhGaLnuW369jyEgRg5YvdMwAvzONk+3bRphxuYhPlvTOBXcrRRnoNDiWILHAMqTJVcWrNU4NkhPiGNEpDhC5zDgwETMuzNJXMIQHpYwCRIJABMIC5V5zaASz4Gfgk6qyIC6E9y7aJoiYFlonrfWitSA5W0JHhisuLpl2yYS6WkPU6hf54os0h01HEAjO3HZe08OAqRoCT5AxH9IRg//PkxJ5cfDqPHtYfWO+6Q6igOqvZnK6lrJyJ0KbKYyaOsDVUdyVuBEHufRlDeP5H5Dxeb/yhrdd35cwxNsFDh6Juk6ryP2rY7rE4Jd5aJnKliy/F33rW0WkT4nZLD6Ri4YMVIm+WjauASqiXyl+ZRBFyhZpiGKhwPdbmVZsMhO0cWBhN1lOMhZjnGrlYn4hkI1C8ZbmCI+XCGNB0E3Vcq5H2XtpVcFtbzQLw1agOTMdbM4GSrswUyeLEHWAsnUly7ykEGGri2mAJocZNkYNFQGWf8uIdDTWGWVDGZhdVScZ4TEFNRTMuMTAwqqqqqqqqqqqqqqqUADVjkCmVpAKGzEhF4kwQSdG5dZ2SOCgRlgQBLRUtMSGzEgtI1cw8GuqyNNEDAJaGAk12WCgGhKAwTbZ3sWnIDnRTTddoa+IypFb6iooMm4YTICOQoQvTHAASNLktNN28zYRowxskfGsr0B2408MhmgCPMCMILogmY0AQaiRTCEZwChExXQVRKAbI/w8cODjBhW2XlOVV2AuuxwzgQTwD6S7RtCgI4KhnUkTXhcE2njxzAX4L4GixwAE1riOgQAahEYM0NQxOtwyu02Qg2FQasmLCGGFmjGHIBEx44zowwcPCGTFIwjRgRKh6//PkxOtvjDpq1N50/BGCHGYPAgqKJUuAIGOMANAgMoIQEDptjBaAqgTIiUW27pvCQtpCZJZ9AGYUKCQ4EEBxyGxwMxFHhFRVB2zFgUey5qLgwNQRlx3PFQbro7GUFAJW2wILEQBd68TBgwSJZGW3XYi2gABI9WJdzX0qGdg4GYggBiCN77pfpBomsFQ+SWR9kbGWtFty9ZciTMWZApi6zNWqMcb5TARgVjrdMCDg+EMQWBRDQcc2EQtkTZlA3Hkbb9UPXW1RQBnDLIg3Nk7kSqMvvGIBiMOQXH3nbBTSSd5VgEoonGKaHRGEGBLReyYnpTej81UhFJYykEGR5/3KgNu0XcBo8FxR6GmqJNrtkrAGruM/gwCuuAS0JoBtupgWZHAUe0RAqGICkzQYWNCKbInBG5gHGGWOAGGOjWgMKhwANAgRtzAKkZLAAAgMMEYW5IkiJgPOOwQy4kMtDwSGGCBQFDg4+MuQAUZgcCM+FDE0o18gCokYaLgEBMEIjWGAEyNSBMqVMEGNoPNKBAzcgAjhcItGSICEWFWhiHRxEACCmADGAHGDTmHQg2ATWDjlV/msXEZI0pAxpA0IINCio8CmiqWHDJk6Il3JqRjBxpgRAYBIMInGTIB0NEAwBIOY//PkxP91dDphQM71oJMiMQKKLafhhBpkg6DJnkYhKlQgVUxwQA83MeTQsMUAL5iIsDFZryRkiYiSmFKLAOcqqIA6FZjA5d8WWmCHmeRltgKHAr8y4YEkTLiASnRzIjhMUTwJTZWDJQK/xYoYwqgFJiZbxXQgCgYMQBzHDn0T2OWPFiokxLigUMYk2YAICkgEGOS9wJEjARqoyEV4yIhBoJC56wLDlhGmmABDwRnIIFCwwBEwoDTRAwMvUpu7RMFeVE511fIzPigCU1tkQhTNgEvpWqNmXI7jBZJGKN7nYbWENng5TEFNRTMuMTAwVVVVVVVVVVVVVVVVVVVVVaMoJp4KlsDSqB6tPMSymuRKmt00jvyLCWwbhPy5lbxPA153nbfZkbwsn9Cx9mmPExVRVxVFm8BIc89rcEwRgGkLchQcKQBCplDggE4V0wQCqZaAlQDXBYVOVdYSgYAoPaf0BZJzhYcogBBZ7VGOkZphjBJl15nCYcqArIAATCtwUqBnUYAkFQVEGZUhxQHfSwrDmYMKgoCbFKQAizCl4JTmKXgps0sxhM5gEWZBSQFh4OVgZyYMuLLDSjh1O94UHm8cir4xZw7ItQEx4YdDGQMmybAYeImcNk0MEuBc0ZwuA3AO//PkxONtvDpkoM6zrCxgiRuR5hQiEICJGUMGTJGXPGbZA4YFUKRAGHF8TGgi+ByBA8CCEyc7CBCACBxlVq8DMnyqKPJgSKEAyxmZofkwRmiGUGDDiyJbYLBjQpVLGjgaAyFlDDGTNhOBBmAkeMlsOSbcUWZV+TAo9AoAvEpBzBosLNqcsiRsc1AMbgQqiNfgQhgzYm2CwzgqpwbD7BHLKoaGgGHU2UufxKBTMFICANJBKoidYY/SBNoxct20q1HIAQfepTBynrgtKuMOG8DLRwNLpab9J9wKXjpU6KNsKlk4TEFNRaqqqpY+k1LX9Bp5hgHJINCmEEzVYeB7roPI9EUqU9C99C1teDisHa4xOG2lz7yNJSUbu01ZV6HoZrPoma09PQBQGg8ABCgxDxH4HCmaWZggDXAEYKCmtLoFAoacc2ZBMuhHswQMt+JARZsx0xANkIGMSwEBi5YCbglM9SsYwoQuMAcIQYKrGirBcWYQ6IIBjiYF/mHvmqNHFTm/CmhFmiCmzRG0Pmlkm0AGSTAUKPAxUUYEub4gRDjUGBL2bNUc4AQ2ywJM8GPK3MmQOgOAIFIAxIkxaMAWwAET6NKBC60dXAJmY1kHVzOCkHwq7ANI0hEsBTIozbABVUD6//PkxPhyzDpkAM6zcIOQCswweCsICJlQdeZopoBhU8QlgpMqzm5kE9jSCmikRACKQAJg1FzYYMBcw2ik5EkHEyE1SUcTXONz8xUD0VQ3DTS25nHISkbFzmVgbC6pDVjASw0ihsJZA4WXoioQB0w6UOAr7JgkrC1pAABmzE6Mwc33GMHCUGEFB5qCoKmuwTClsmEK3F4UVrQORDAi/Saq6ziQEJqA9BwKgLZMpVLREwcLGBUwkQ07wsAlMX/V8rG/aCVJgv0xFHKOsCYOtZl8ZjbXl1pbVkmFAupUt2jiu4xVTEFNRTMuMTAwVVVVVVUAA2NL7ZxWTfMEAMgDh9vwmMweYID4kE0kTAocMODM0WXzKqLMvggHEyVJahwiMqEo0gBHQaFIaLGNIWMXjOq/MGHWCL+O0FCBhiJ2qwC0M5UZZcrsQDh4gnoEMy8RqRo8yOoDBtEB4xGnIvpIIMgNERYvUi2ZQmYQgRNwcdX2OAS0JWGAogHClov4pcns/yJsVS1aCBQy1S0SeLzs5MAdEjCZ6lJiBhoyxmF5zrpyDqAY0TcFeEOgdUDRi5oEFGgUKzkjKDF1GOEbchvLotm8CAiREKNUoJlFQxkQGKahURTcMFBi4dTIzEXRGMlAxQkk//PkxPFxDDpd4Oay3JZpd4zYDfYJSTRYASUEpgpRMQcJOYaCGQkzgKEZIwFQNUBkYAHL0rZc2ZLwl9lslqQUCjINEodjNCV0r5NJPMQBhBrBgoGsAyoFDFgE2CTKHaapcKglxRgAzQgCQHNGQWHCqzmMOgFX4g0Bgh0Mzi0LVlGGICilhmymACQgGm8UNK5BwJaV/IAbqBgVQNOf9jokCla7q4IrCGmxJAcqJExACXRXqxNW1k6qSyHikcAvsrc/0fdeWzr3uU/UFsitONB6xZDLoapI7DTdmvU8WhqXRu8qTEFNRTMuMTAwqqqqqqqqqqqqqqqqqqrkhdABATMFYCkVAYQGmAaAOYIALBhdltmNmXoYaICJgHgdlYLxgQAJmB6CAYlhzBsoHdmrqGgYzISJh4gZmDQWiCYILIO2YQQwcGECQ0JJgwCIze+TNRIAwqAgaB2xCQVMNo84PDTMKHAStUqIgfCzCQqNEUo2c/zGIRCgDHAyYCE4KkGabHwpiy8iAusnQDRZhTJzzJ6DpmgbKmDiICIwhlAgkHZbdYYuR+kyAgE8EGP9KnVaKLDm9XMyxlKi7ZjCCAgsWaZGodAjet6tdbBgRCPzowSZMuCFxmSA0eUFEhiHBCakqra4//PkxOhvBDpR4vc0sAk0swzAwMGmhGmoDrqVlQIqBoRo+MPf5/YKd2B2GKDyFYF0WNUBZOB0qk1nlWKnvRNTY89soV1AzjQqKxeW2Ini15v5c6zxLWhp64jXnH9eOG25N0YIpvAyeiwMDrOjUQst1g2Kyy01pd0qYI0xl7AWcMMaWwtUzQVdFwRGDXW5SkUEz8hQqjyv5Y6dKwj9MHIgKCijTh16bOKwE7ZUCoao/W04F4MPSGZLAUPqb07X0NwYBQ+THR1RpghoSgsCRCkbk1RrjBINkEXduH6b34wjTYX1TEFNRTMuMTAwqqqqqqqqqqqqqqqqqqqqqqqqqqqqqqqqqqqqqqqqqqqqqqqqqqqqqqqqqqqqqqqqqqqqqrIAAMVdPGzXwYMWC8yw7BUAmFBCZNdxw7smZoqYkPxgQeGNwiOD8wWqjb9UO8xg28RAS6YOQERAGBRkDabwigEqAoOiKYQPlUWM+PzUE8ywNMAA01C/Zlpaa5JnDJ6z1FCYHLsmGF5piyaQKmCjxELqxVl/FujfYDei7bPDEZ1ygsUaS47B07UXmrKVKXKYqdLqbqhJStyhT+tKk6Xz5vEzstktswBRpbKtxPqmiblNaooIa9KZJEmElxoijj2USpry//PkxMJlbDpitubwlLqXR9nLIgCAusAQAZzcwgMAs5cBOqbXkilAzIkiViwQ/zXnSkbXU/gEEtKWRSRTgQmpw0t9YEwNQkvRDsAuoxFnMHQ67U7KFBlzrZXTClKYo3btPRT1DXTldVDIvkytTGXR1+0iXVgp5oBa61l3aeHWmwc/z9NxWLOVIvSy2oqsFQF6nDfNpL4IrLTXLWf2o+r6tZZK7tRgTTnrZUrqDXFvbya0pkpisVdqpWzQUicXacFl2a8UTS6peFOlwX9tyRrS5rTWXdcWQ4yRwl1QpwZQyJg1TEFNRTMuMTAwACIwVMYwCwBZMAjAiDATgXkwQMQaMOdoRjFuhRgwFUGFMCBAmTBZAOAwUwA5MCrBHjCuwcMwMcBcMJRkHAfEQMAgBTDIVzIkIgcEDXW4GCQNmFghmOz4nYhrGOwYmIIVCEBjBcDDD4vTJbwDR4IwEIYqC5goBRiAA4OAo0QC4KB8oSQAOYIASmuYSDKDQuFgWgBMZqgwCZgAUAgBMFAcv8hBkwOA0wWD8x4E4Rg0is0geAJrLBiAAk4FzpqqmUNN3xpLMWeqwv8FinLSwbImGxKyypARA7KFkLxuiEARiGp5ukQa6IHm6SXsChcCQqBpnoa0qyER//PkxPZyTDohQv9wnBhbZ0egdZrj/KLO8oCx1b6E9iUrg5wbqdcgdglCOiVysCIhv2uVpqzIHa2KlWsKAf6QzMfgeKNZ0165LpO3RMGciy6pI4bIU6cYchpEFRRGlkUXU1dFMUDWUHJgLlZmsPDqkV2swYNRwiIq5W2/EfjURe184Ydh9tTaYwkc6oX211m69lQr9a5F4+0htV2FxIXLHSZYwNTRT0bjb6Qh53/h5ypc/z9jAy0pIII8hPL7IxsILMl6m+dplzwwENfXcn8zCMwO3AaA20nlia0IGBMGZbgqTEFNRTMuMTAwqqqqqqqqqqqqqqqqqqqqqqqqqqqqqqqqqqqqqqqqqqqqqqqqqqqqqqqqqqqqqqqqqqqqqqqqqqqqqqqqqqqqqqqqqqqqqqqqqqqqqqqqqqqqqqqqqqqqqqqqqqqqqqqqqqqqqqqqqqqqqqqqqqqqqqqqqqqqqqqqqqqqqqqqqqqqqqqqqqpUEHj6Xbbb/7xdzVxKgEgseWQxrKLxe8reigAyOeldGUioJBioYSIFnAANMKZNCVUUcVMh4QZNNcLaxANJiqqacGegwLDF2ModJlhsQgsFVXd5tH7gwBPQ4PMYxeuMljHFAwBAF7GZBoYuy5ydcq5E//PkxHBQ7Dqm/t6eniGdqSsJnbzxSz9janE9iCNR+LDnKd0NHqBrnZEcTguBLHBOJwGaVZ1lvUx+E8JEhikL46T78SigUJb3NWATqFHtFeNCvJg1uWUmxPixPFQsrhkNHRJlhTsw+xd0qhpC1XBfsCuctr12Tqs3TjVEFMopCUIfpBglRIXacQxmOVdGkhsOOvwnenrk9hyYky93qJ3qaL+0zNzo/Vc6jQ26PI0KZkrhrTighQ9OokJ7EVj1XswtipL+Qc6V4zA6zuudSlhOkgSk5GyArmE6G1grmMixXG/dTEFNRTMuMTAwVVVVVVVVVVVVVVVVVVVVVVVVVVVVVVVVVVVVVVVVVVVVVVVVVVVVVVVVVVVVVVVVVVVVVVVVVVVVVVVVVVVVVVVVVVVVVVVVVVVVVVVVVVVVVVVVVVVVVVVVVVVVVVVVVVVVVVVVVVVVVVVVVVVVVVVVVVVVVVVVVVVVVVVVVVVVVVVVVVVVVVVVVVVVVVVVVVVVQQNJ7bklsttn3Ylnei4EAHEgSGDgEAFkCXYgABMBMC4wfgdDKYLZMmkbgyzBQDBWCcMBgPUxawdDPCYYMLIIISBoTrUHbgWAjBVEoxgJZjjvyhQSKnhEEMWc5Q6rUTDLDC3T//PkxGNNjB62/vZe+rUNRKFTLD6O5Uk76wE1iKaqQ9W7DEs3KJ+W00MRilhqSzEvjLO6L5I3Nujd3gC4oYO+tAzirBDKIpmbDJKo8Uku8dD7H+iFyxRHg+wERDT8YY6fHOA7iHn1+p2knhwQppoCkTigdMcVzPxxUzxQNjyzYaaFuf+sYYHO8Z5nV2xQGmr0ftuy3oe/bCcMskrGh8NXlsTUeGxq+2bbgPKPKqSIuH0BOEoMhtV7+8NdEITrme63gvgdbcrHqvsciscMJxkziHPnF5cQZbaga/38/ebSUdWqAAFwBnj3twVTUwAADJgmjYGe6OKYMYGQMAGMH0BQwNQFBQBEwLgQTK3DoMCQGwAhYmDMJQYRQGBhYg5mQIJObIbiBuJEcmFAAAIwGjAMAXBwCIsKxjEFZtITpkkMICGkaBAwIB4w3HYxtBU5XOQSP8wuDkwpEcxVD9TYwDBw0MYwxGA4wmBZFVSSQrsmJxEGLoLMBZgpvi0sCFg6Oj6z5T1LKYUBj69XKXjLo24iu2oyJ1Ia24IXGpNw/dgZ+GmmHVm7VGlFKFERQuiikwA0+EBOYi/7JoTaMOlhiDx0K+7iIJjBmSYyw8vSNJ0KS7RosB5kpeox4wyaFtyQCYAg//PkxP909DpOIPd07BJQGhFYkr0XlDSoKNAOAUKUIlQLLUbgAIUKeVgqIsQsmYMGCKgoa7BaESFrhe4xBRR6G5xr8OwCyhkLespc5/o6lrStycZNNRB3n6MSHQ5Fn1bVMTDDVU1HUyB0GMi3XbksAg4kHKFrvMz1PZT8Gsqk4YWU5aMsOgTrw2CQLA4yvMKmmeuCWAokOhxoKWyAlJlPeLo3BUAhwQmKFJfgIG8TBgKBTLSJYGLIy6MMLsZrOMygx7qGQrnS6cpLxPmecuAk2lfxNjcBrQ2saN32saaU6jgK6oC/6+FB00AKASYAwIBgrixmduNYYSYKJgXgbmDYAMJAwo6DQFxl8DGkQXYcAYXwMAQAswHQiDBECMMViXM6GU8HE8UDaYQhCFQMHQLMRT+NLAqKARFAfZCYFAOSgIAhmMuygMeANCBhMHxYEQIiQlmG4oGCKXHLB9Bh7mCoMM0MCACQGGL5IGEgWDwOp1lQCYs+oJdHHZgKO0h0mz0alYoKT4bmoc97tx4ACwEbWCSIYc2iZIWTPcXfedOSHGAGcjmJEo3koZQGTuaVUx10SkNpjtckC2UPDEh011+LAua64McuEjInASAIaRJNT0BiU3jAxRgeBIfgoWVIhjyY//PkxP51lDpMoPd00ij6maAYDECIArebVMYgMYoInLVnYoZE81xQcLhWstyjZo3CwpZdC4LhC/TzpzmiGsUdB26OAoouV1OvGv1pT7rVeqORRVBtWssxoVRNATqKAK/F8lsEAqPY0gAxZQOFQa7QUDF52NqQTGUCaogoKizCBHcae3AtyrVKyQUrfB6PYCJizBU4ICLejCJy0FlrmAwEmHrjfSfMgJc4vuCQTDVg2bEwhXyO5QVSMil5YKhsiEKxN5GDOij9ASRz+rGdaNmCAydczJiEQzlriUrnQAxdQxc7+CMAtOpMQU1FMy4xMDCqqqqqqqqqqqqqqqqqqqqqqqqqqqqqqqqqqqqqqqqqqqqqqqqqqqqqqqqqqqqqqqqqqqqqqqqqqqqqqqqqqqqqqqqqqqqq6KNFuRtORwzAJEIsYoEy5+UBQQOH0FFd6EzU+IZAIibjNHVIBjwiyaV5oSjCg8xggSrcp54NWWKCxkg011zpmNw0AAAKmgQorziQQHwWXPMRHDOY0HZ5f9RcFDRlhUYwGGbr50TwDnRMABAa6E3wScgLieSWNhZyrUCBAQA6PdqtKZW3csKZq+UInHblgVg0R2oqqpZWMvUMQ+biSt9E5Igtl/IlYzrwG4ab//PkxKtflDqSPt4zljCIq1+ZhtVVJmKOD9R0CwYwZHwDwmxvI4j8pGjwLT6JVLEa+nMEOGiPdGXbdOBmhGsawawSai6Q4YqBGa7DVeGXCeppW4Eg2m+VYSicm681Oz6aTbPm70QzjrdRYMsL+A4Cxy/iVSsSVS9oArRiQF4kry6MZcV8ZQ7LCZyXU01arMDT6edrN9S1/WiLehT7R95mZXWG1Im/D6NeaSoAX5btF4qmMo2icRzscpITTUauUESlbyNzXWyxTBQZJ+eedpzkSeswRxH3VkVhpHmh5p8SbtbqTEFNRTMuMTAwqqqqqqqqqqqqqqqqqqqqqqqqqqqqqqqqqqqqqqqqqqqqqqqqqqqqqqqqqqqqqqqqqqqqkwEFMU5RmYjsYgFsYjbsCMdMbiDdC9pTTTCQhtpMYUTmjFppwaHCQYoag4twZaGDAcyNMp1gsDBZQFqfHsQhT4uwzpQwBNbyLe4OSsJZ5g7tkIBAssCAzgu09VCQoPwtwCUZxCCpAhxq2TXSxEYy5wXY3hhOiXDimjiWl6qcrYZYzhxVRMCERhIEMs3fhlyWimqg6GoNCxc03LbstX4xdRtIEQpAT0vkjF6MpddBGVujaNkBjIy6VIXHgZayfIXApdsv//PkxMNltDp61t40/HOWqqmhW7KJ6927plpfp1tVTrWIszJsRpAQGVmvegnQdYaGICEQbB8aIwaogXrAQwAFDPKgzuVAYOHmRRmLGiQYuACCRQsZIgkMMBN27FQBf0vml+YceZYUEAGUJgI2FwC8BaR1XZlBc9ay+QcHgEhAExiU1ZM3RUCdeExNp7gIG5/uAsSBXba+1iCYW/tacl1WH60y/dJ2/P15qFzbvvZCXLgOIMMYaz6UP66KUcibdmsThpEysr2A55XSCBRlm7aUjdk6FMH5brGH8ljsSqdlb9RKhp47MYUGECM7FkoMJjqfYUlHDMbUCVMyWqwWWopBYFVqUBdVmAiCFDFdrTgZ/WATLs0TyxuMNpIV5uMtJYUdhUVBVQogXoTAJARqIRnGGqfp4CECmB2CBYkaeQElpkEQQ0W3DCzXMUtMUARThQwccKNF/Gu8di5spjSgdkHCFQYZteCm5khJwS4IAnFImFQgg2DKZ50pNjA2AFKTqkwoQFU5oEYKcm2fGkqGQwEAIxZ85cUSIAkMdlecQscAYbVOUXTiZDIKQCFMPQMSCL2nczE0kwiQ3qcwjA3CMzqQz5sHBDNODP8TQmzc6Qd+MKHB6QYKAIQYhQaMaBXwFWBV//PkxP94xDpkANZ0vDA7kYt6aQEYYkRRTSBBGnQjCgoKiQVCMWQCHpl5JnxpgQJhwJoBRjQBvBZCVEaAzLERoAokMsJAT4xqOBwGFRwEmIBGkwIyQgzUQyMMMFIA0DQywYtejECXA0xjJdA1pUy6sCjBIgsswQIt+VBQECjUgyhwLpTNhQMXBJADGwSdMcJKoYWytfC58eToAgEQGgLZEugaRMCNVkX6qR81QixMcDDQAGDFglITspAAAqiUnyImCQMvUzS7SmeUtWNCU+wIESpHAxfhCQCBygBaRCQwBcAKBq+StySQgeQvE/rsWptu3EyaCzAlqXw5NxeEWZTE5PdpprWovPRJ2YjJnqp3bdZ+IMeSkjUNvAvWHKWEwixRsqcNz1BWALOWM4LQQFYdMx10CoQvYERTJXOSFfNRoDPOpzGs1kZuIykyeCiAUmBNl7wSMGha3xUGX9FA4aXAI4HNgKDMgWMmfA1Qwy41KwtMYeUQXoqYVQ4JWmMksBCsOIGKKGPMgBmCDAVOGSWg1eARIOAAkca8+Zc6nmBTJlBBuFQBLgkSY2CYYqbSQImCw5mBZrWJjBgjIDoYqnzEpzKEzJNyNKZh4GLhCzM+ZBIo1Y0x5owZsxCAIJmDHGVg//PkxO5wbDpxQMazkAogUgEQCyxrCxmD5QPERo0hMvQ5jOzIiQqlL0OsXUMCKBzQ0ZgIFGzThHxjjmJC3Eo2NNMORLhgGM7jgdqkeI0wDMJSBU8erNgwHSgRUw1jDMMFIIMCghmpm+OXuLaFoWWjzalwBaBSgscYBAsSMxhDo8qDFzaFNsUyyhUkQQkQphAjoAKnizxFw2sIRIYJnAUtj6XLEEnlICQIACEnjDCZUXADCXxEA6py6QjFHohw1MYMDkCJ5fsvY2RyWBtYe5TuC2mtLVK4qhsDNdfqM13WeVq9TEFNRTMuMTAwVVVVVVVVVVVVVVVVVVVVVVVVVVVVVVVVVVWKEB/Y1DUtopiPMwlF+LWJqWWI5KJT9SMSm89T5y2CoVEXSpYnGIhFYMrxrGOX9Q0zF3xEBRYuQrA4LFW2Ui/xfkGkTre0BQBESgo6kISAmB9iEbkFzUPmOoOiMhdIuQ8iS4OIFppwiBIGkQkg5M2ESBtdNABMGWEoKFYGOiPYYgKZ9qBRYBGAsABiAGBmUhGdNGgFBCAsPgMGMQzNEwNQsMEYNEFNOaMkOOCPMmMNEPMWFGpRi+KDJgZxl1ZpUAPliA+TZB4UZgAYYWEOALbCwcxJQEiSwuAQQvWD//PkxNxr1Dp14MazqMeoei0SCiZD/nKSYdQCRMNQmZELJ7JhxwckIrAEEaY4CLgMgQMi0BEAhBCeFRV/EhwGSMS8MqWgRVEI4ceOUuygyZAggWaSxVQAZXYQlCCmCEpxJCTXjDwjJNDA1Ry75nkJEiEUEuBkyhAZWQpPvPFzQrATdJyIoBUEOeAQrmqPmgAIk2CQwjcKBpLA4R/FK0x0ygxYAgthbZsJdYwxyySBzLF0iMB3gsELBIMxgcHW81lRJYqbMIcJnjRWXO6lvLH1e5njbw25C55PHI3D7vPw+kmVTE4CJiAW+vSKAH5cN9JNH4hck0pgu5doZfE4W/O3YhUOw1TveuC68jI1pUEhirtuPOu9Lmiuuu9/1SOgpm4yCBCYZQz8iyIhMThKoYcur8HFNHYcGLiJAGiFxgIeAQTHCSKGvgQM0w6BmSjkYOFBoSM40jMkKNAZNG4MajNUQMZAMU0NvcN+vMqmN01MnAOCyDHppahI5GGYQqM0gCC4ohIkIKHmyOhBcxiJA4BHDLHhRaDiZjThN0M+dNVaMQ9bAPfjYHzBMiqBCJpq3pFjDwhjxBmixyWBrDxjFgWimCThYkaViZEMZIqYcwEPTXEwYqNQMMGGKgcvcc1IaJiZ//PkxP50XDpt4M6zsMHAyACCKrUAhmyYYFNEHSsGjJtTJjzojGABKaAWb4OYoMl0AF41GEYQMABgM1yIxIAlDFYgAAwIwBUIBTDDkzhAzIHBCLMa0A0UeYlgIcJeAqgICmMIglEqFOEGgzJjDLrzasPUYveYcQeAZDg1qCQgYAYVo1YEKLRITEeRb8CtQKGQhxIGQLMCyDJRo5DZCQCEAgAGBrQEZg0AHBKxkxJfsWEKgCJSVZa1OBYBkxahdi7lsK1I/o9P8sVlyPSC7A3FTpQ9j6eEyw1x3YgXSfUCPtRKTEFNRTMuMTAwqqqqqqqqqqpYD68Up3pu0tNA7lyV/r1+RVIbodXqRwX+m4Fctz4yvjJgl5/liRLBrj/pyNmiz9xZexdxcsNLsbpCkLRUTZqLDCgRERA4nCo0XFLPoOlpAwIdwqCoOAAcAIqqphYCRHC4APE48MplmMjQACDFhIeBw4HEk0wkKMSDioQmPFY00mJi4CzxEMmKnZi4KcQRGCgAgFACXCyIakDpBmdWGUBiiYGohwEu4BJELTIgxCIKgY0JoyY0DeUejAoiskcdASCTBujLiTThjTBzlITYJwoQBowoXBVSbcwZVCPgTGDDC6hRSIx6pjTIhAMDkQVT//PkxO5wbDpxQN6zxCfSsBJWNAgA04Fl0GJAbuhh3gQY9FTUBMotPoZSWqAGiEEwEA5wwxxSMwjQQSJCv0RMmemGGEypvCmmYIhwrMZoBM0ZpIiTFiEURqUWZL7I+l4ncGXAh9FYaNHDDBOVuQngq4sBFBhm8AkIwTQhFXQFEAAgtU6hsiBAa3gsWhg76uxAWpqiIDQUIQSKIgS9UpSPMMEWGVhYCDQREEYQK/EHYqXDKgJEGuhL+A17SFyoZYDaTGT6bs0ywprBatbbO0052nTfVOliCBTImLRCTpmyqbk1TEFNRTMuMTAwVVVVVVVVVVVVVVVVVVVVVVVVVVVVVVVVVVVVVVVVVVVVVVVVVVVVVVVVVVVVVVVVVVVVVVVVVVVVVVVVVVVV2nnsu5ho0EQXF2CFQVGINBohmSnAaIZlyDn5k1oJBRwlCCwIErzGgzUAhweYUyEDWAmMgARI4kDYLMKIHWKrHGG1seNGgaMLEgccVNLeDQSgasiYj7IgJEJtkpgAEFlS7zXSgEwBUVgvOYkJeYWgHBslQjY6XRaGlKuqB6qgqpka5Wv9pGa0Fwq0IhI/sZW0FhoC3IfVlFCBoqnXhHjlVG+AR4aOKPAkgDHV+czFYGPmouhSK6U///PkxLdixDqXHtZw0FvUN10t8liRDQSoLMFl7xqbvqtJdzS00pO6y2l2OgrGXuXUBwrxT7UZLVFyoZi6w0kdz0UZmAaZBZuS5VgnYZOldF6eJqowxZhtaCAZqa1WvN3VUf9YVI+VU6UEfZtNN+VlfBpzcC88MPrF3JZo5bOnXUBWK+7CgCxQZFFlXiEaqiaYq4QFhxFZYqcqtsHKoMnaCnzTMVgR/mcROAm9gxLubiaezr14AaY+YXEwOGWG2FvSJ9oQ3N2VM2kQMu9jj+Yr9jrWsGwyeWuZBMAXu3orRwxbTEFNyaKxWlL7GBQMY7Eh/K+GSi8hOMs1WKIEQRtUG40JAO43dYQaWYodIZmggI1WYCilZJMKYoI1M/RchIdER72LoRsAV00FpDaqrLoU8PYGuABgIWGAk4EJxEQHQQ0BM2AExQQdMEAC4ImMDKRK9A1L9XgiBpWJJmQAgIAYkQuQQDlvESYxIg1pIORmgnmeSj144hAz6Y3toxosRPDTlTfIxEDIkp7bBiN53s4EAFkVug4MDDZm1hozBowwGHmKQiQEiFm0YihMkPDI41rQO7GFFGPQAoELHjEJUEygCJxcoBHizI8AMsTdEwJwyZg0ZYCJTjOQdlDiBiwSRKdI//PkxPxz7DpcAOZ0XCQxg2hMLZAQDTKCy8DqM4cUx4QRCzAEDNmjbnC0STZEaBgcyTMMQSYINGGQmmRmaHvGVQKfJiA6tyBELhFroHGJFGRKFgSBgqIDM0kDSklaCAuagGMhwIMByJChixgQiE5AQY0IWiSTAxFrwiAs4FQhkiJAIMmKS6ka5QsHNEjKCKpnJZoyJnSJ0aRBDBq5lTRSbfRuSsSpZ1ShT8xIErlpN+YIGYIKxdhz/MmlTzNyaE7rckroBcFnTrQM7U1KXkWvKGXNCVK/0W1Dz/P7BEug+WzCTEFNRTMuMTAwqqqqqqqqqqqqqqqqqqqqqqqqqqqqqqqqqqqqqqqqqqqqqqqqqqqqqqqqqqqqqqqqqqqqqqqq5gzTtuSlcYAAaSBGIASctlBeMx6HY6/5A8CFolCwgBJWMQguFAwMfRmNVyJMCgDHACfpz22QCGCYHmoofoS0ZoGQng4IGhIy7CM1Fw4tMFEmSITFBAwVKzJPldpZNnqAptjAhA05BMEB1BViu0/aeCjRlwE4aEkzLESzChuQNyJoVWV03jsM2jJIF52dtzdhaSb4oMjC77dxYyPK0kkywdF5KAHJi7WVjS18kN05YCtsJh1n1GzdZcEOyuhG0qRC//PkxMBk5DpmTu7w7OlrE+1teJeaeXennKK6vnnTIiTrNMquPL1Dy6zwIu21zuW3qkWQw2sLG2ejyFbpYjgtxMZQ5kyfb0pIw/UaWzVlTdWYparxdZ5nwV9PRNestWzA9h4qN/k6ldMbkwoFcbSw6LNizyx2etGlFh7Mb/IBjkALyTHaXI3bUPo4PBpUV5tHJeTO2zJ/BS7bAx7EZbI4o2JYOWsxZkmM2HB5GQxVH9hqwcNS5aCk1M1IwzOvWh3LAn+Cw1CVytebVuzXG7p8xRZiw0RexxVBRKk+3egm2k3aTEFNRTMuMTAwqqqqqqqqqqqqqqqqqqqqqqqqqqqqqqqqqqqqqqqqqqqqqqqqqqqgBhDhLLul/BkAlJYlAFEAFgBC/MZVS0xWAgRCFjIYcIh6BQSYIABIqzhSYZXSIgwYDgS2Qw61TZpoCAO3RmbzplIIgY3gcQlOwoCQZBoQZDAoAByZkB6kFylvUoQaaQOPqkAoBm5d5AEDixjQZhaJ5losEQQ0jjJ2BA4yDkzgsIdOi1lf6lrOSaQIxqkdoJREDLQgoYjySAGvmMEg4iEFC/ZtXoHWmAOhikAkFZVgTGhTAlAUKRWYVDZf0dFmCLI8qVsFUjATKFhi8KIyP6cy//PkxNBozDpKJPc0VFk0VAYBhAskDH6FFZlC9WPrXQ8bg9qdSCdO0VFgkWrIpatFSpiAyaSKT0ASNpzzMhQiXAieYwAxAGgJbEy5KDrxjQMv88RZ2EoSFgUzojLmCvjAN1eWTp0d2HYo6VHAdtsy/WQs1FgVCq2DJGzltnefGFtCuw2yFayNSXDZ190z/wlnrLEPiQFIk3mZwJGkF23iWcpwuRqKtTgCYrS+Uzzcs6eWu60l5Kr7M4YMwJn64XCiiOSsbLZJArDYFrJHiwpEJoUtas8TpNkU1Z05crgiVOzVTEFNRTMuMTAwVVVVVVVVVVVVVVVVVVVVVVVVVVVVVVVVVVVVVVVVVVVVVVVVVVVVVVVVVVVVVVVVVVVVVVVVVVVVVVVVVVVVVVVVVVVVVVVVVVVVVVVVVVVVVVVVVVVVVVVVVVVVVVVVVVVVVVVVhQBVzlqpEuUv00FRWfhSAUgCR4x3CQvWmYaB8WVCgHMWI41koTCwKLbmDQCFAMheYBFRlI8jwXThZM9bspoBQgGPhCEBhSbyNLZyz1ApfrMWhKAPc3piOCtwk0m9DMcag4Q0KYZidLF4/IFNgquAkk6mNPs/9K6KEZdmEPrNQ2/qmaCZazW4jBqwN1VdDWEp//PkxJBY/Dpm9uZfGNjvRtnaAdDF1KaRZVWwv0EMsheuIQE/yARIlFbKBI9GBQRboY05qe7AqUgZDIhCypT4XA/AWAJk0EGkWVCiGLBlktYVU5hqADgkpsmiZLm+U71ien8c5rOC5XSoYhPTFdZZX6fUxhoeyQmdpdkiZWMTcnZ4khHoFheryqWT6PZ6vl5L6XNlLU6QF6hjLy6bkkaRLZB7C0IG75kZMuv54Lkp0ioJZnbyArUILYz5PwpDoL4yjhIWehPSiSRbC/HyfaplOm4o2ZaPBUyrkT1tTp+aZojeTEFNRTMuMTAwqqqqqqqqqqqqqqqqqqqqqqqqqqqqqqqqqqqqqqqqqqqqqqqqqqqqqqqqqqqqqqrgASgMwAoHAwX7BADypoAyAJgATR8vcZkmCZCEmmrCu17KLha6OjWjMhIsCJkDqb5FGuNJnsgbPKLCjwHLWhl65caCpC1iXNchWNZrKy3YGkYAsK3RqMeZeYeAKYSVWeVQ1JKpgSIDXhC6GhivlyhZUdFM7E0xwyd4DBLha1RAWPaL0XRDsE3lsE0gJJQJo2MlhhAaPBgo5DQBEhQhMSATDBOLkAGVl6QOoGpo0ISxL4LXgV8V+IKArIFNmWSSgMWkzOxAgGFL//PkxMdmnDpKZO7yVCocQ3WHbN44+zFwElU+4u+RjjAgNPIv0gEWAZTAxd9aDLlOVBGPo4A4sM5WQsI1+AFeNLehGsiARngtWNh0YZC/bSWtK/RrclusPRRsEcU0caFPHQwPccVcSe5e0eFSxQSobtAjDA06I88JZyTLFb6OscWqQjJXGGOAiVgC3aEmE1JMxZaqkl2rQdFy1TxxMRIDOnlcSdGCi76TDgM4eRkCli/2kQ7BsTcxWOHHxVWU+6VNayT4b5d8bbO1B235b4aDWm+8PyiHoKQ7QmHGCRvcBKH1TEFNRTMuMTAwVVVVVVVVVVVVVVVVVVVVVVVVVVVVVVVVVVVVVVVVVVVVVVVVVVVVVVVVVVVVVVVVVVVVVVVVVVVVVVVVVVVVVVVVVVVVVVVVVVVVVVVVVVVVVVVVVVVVVVVVVVVVVVVVVVVVVVVVVVVVVVVVVVVVVVVVVVVVVVVVVVVVVVVVVVVVVVVVVVVVVVVVzCiTscTbbjjc4gkfHImpRDY0hA0ssDUjXydpeQowOW3M6Hfa8090HZCw090waUKnegYBiMGLDB20JHRAYcVx26soRkLmImqncJyHxyfY/rDIGMABE4CCGcUxEGunAmNJoczNX2ETUvICuJhp//PkxGxQBDqWXtZfClx+IYogz38OGyv0PYDeHwpi2q5WsCJ0XVOw5i5E6H+DcSHWmJJLkTgt5IFhTqQwiVDAG4biVUqtVCGKFTmTDep1oJYO8+2Inx3LhmL+qmFDjhVLG4uMO2Iacir6TOMrjGfnKnrp5ohRIsNtjSz32+fKZuaG1KpWZPK4zTdFyhpl+1EEG4X5SKd2qoK7Z2W1ZWF52V46xRzgYXUHMCBR+zUeMjNdlZk1vEGG1LBKiJYDIdGsjkNYIhAx6FI8iVKolp5Lp6rWM7koaTqG36bTpRCBtWLBTEFNRTMuMTAwVVVVVVVVVVVVVVVVVVVVVVVVVVVVVVVVVVVVVVVVVVVVVVVVVVVVVVVVVVVVVVVVVVVVVVVVVVVVVVVVVVVVVVVVVVVVVVVVVVVVVVVVVVVVVVVVVVVVVVVVVVVVVVXVB1R367aubbozs6Ij96bnEk7AH0Zl5FUxR+SEQwJzQd5OUhseBCYkpYApoCSCaFGZoATMGQGNNLJsjKBcMIIyicR4XII1zFxwIDDBZDNGtcSUQ8DAgBq/LbGEwOYdQxmgpBIoKLEQSwLBluGbMbqp42oRKUw1KEjEqzWJEIcvrvy/SWAMNZ0lfGoel9MuxYNwmcUcv3EI//PkxJdalCqW/s8ylTn3eJyK0Lv2HggNyKCktVazwLKWY4FPEKeISiWuw+kojMfcvQVHUZltNI5+Ru878MP5huJz6xFhE63bygeRPNBDSIBirPZtprKpZDL4P9DWErlk3We2tWytz9aWUkBv/fcuN3nrcNp89flPIebg9Div3I2SZNIfmTv+9F+lhuLvQ/jaM0fiQ5zTYEE48WweLwbuLrvV+3KBJfDdLAUjgN1G3dCvKuu8X/SArzjss1a6zeEI9wMjexWFOqzxKhrrusjyksRdBfDqw3L/pLMENgkOUUAVTEFNRTMuMTAwVVVVVVVVVVVVVVVVVVVVVVVVVVVVVVVVVVVVVVVVVVVVVVVVVVVVVVVVVVVVVVVVVVVVVVVVVVVVVVVVVVVVVVVVVVVVVVVVVVVVVfUFYSMoX2bTV4yIRAAOIhSrNNxeIKHA0HJKuC0J9RgFMAnDrg4aO0RW6MxVVumAIphT4mc191XhfRkwhTTjzYx8OMmgkHD4wWDjJQkMLtg6VwTzrUKoPDgCnQKgIAgAAAAx6njIouMhiQBA5BZlYcADBogMIoQyuQDFIAhmWsijcCGY7En3ncYblywRgaAiwNT8pJQw4bC7rX2qwE19mxjWREkGnzrOMvJg//PkxKpfTDqXHt8xCLBd6WX5BTMaJht7RM6f6VtxTSKqQcV1VLS8qRCRqNB+Kz9nrBYrB0ohDBmAz1JLaqj4XNDbg3rt6AQKMDGXpC3ekd+AEhFTxdmkXtustBPh+4YoZVGInOyZ8LVNTSmXypcDcnqdWUx12XagmdbhDb30jqLukDDYHgC7aGivi7jFM9RtrrWGtxXC9IndGC0sDRGOROOypmN2TY1qd9ZVQ3/5956Ibbes16HYaXiBALrb1gKmCYthuqeitzNmEug16+7LInDeeNulPzsCv0wmxZ1bpI2qwAo1To6MrL2AUA0wDAWDDlNqMaAIIwPgWBUBYwEQAVkoLg4IE4HRVzExATIggVDw4PxQLDBMKjCIxTkqezDoAjBAOS6hhSBw0BBh+Kxm1HoQ7YkDZi2FphmFw0DBhEARhiUhrTZBk2IQCJQhEBoCFwh4GxGMRIsIqOyiPszaoYGKGRGadrLGZ7fVoZIJEyMv1g0hizK1YQaWAYKS/ZHFpWmgCQACLYsQqKMDYsno10Cj5qxmWVTWWw1mG1SGBlAsVLScluLvzS8AKDApLSHchm7R0/lAwSYJRoIWkKyViEAMHDDt4YWYg4+MkGpQQh5gpYY2XGMgiUaRqVidqRDJ//PkxP93xDpNQPd2rIwpvM4DGGjIOrQgEC4IYELmYD5MBkQUJBC32dIyloAFHu49KEZZNTlIEwMMAQWtOCwSAtyfl12TTzaxFh7Sm0dJGgoFwaFFvEMwgmTUEYYiM6zXw4FMRBy15ZUBAynIUAxQABQQlPARcUBCwMG1EGtRUmCC+hhAOIgtrcNF9UAw0AmBCRhZuhyQABAENBiw6wgUKQSKwTKJVLXnXesK3Znz9LiaSw5CQLAyUFO7jY2LEgCFhwOA0Z3XIQpINOdCh2WQpJqinXde19pSBAhazbQ5Emlw/DpgYIvJ9YYiz4qmTEFNRTMuMTAwqqqqqqqqqqqqqqqqqqqqqqqqqqqqqqqqqqqqqqqqqqqqqqqqqqqqqqqqqqqqqqqqqqqqqqqqqqqqqqqqqqqqqqqqqqqqqqqqqqqqqqqqqqqqqqqqqqqqqqqqqqqqqqqqqqqqqqqqqqqqqqqqqqqqqqqqqqqqqpU0UHHPrtXbaY4iRG10U0CtneU1MEfIggkno6iWqmBkhZRBb+9DjVW6x10jT1EDoUsLDUCs+FA5sDTyl4GWtfXnCySEWdM+qTSLZpIWhGEBNMXDuTIYq9MqgMEJGqyifuPBx3y70LnLNPbmWUBx1rT9iU0r//PkxHRSBDq2/tYfdnBJdE5+Hfs34bUNQ8cuRPg7UZlMCQHEophal0ugxISG45HInBa5HfTbe9USl3Fklm2YixrFT6Winoad+krU32KVR9zMM885tRQwiDgsUetJSkFTtuAAtHoJEzlTmtG4vtvvkMnlsXv3H13x3IcZKcN44j+JEebw/ZmY3WESayWOxDE9IzoM5G9vPpuVisJi2pQ4lEzqFPAToL8/D8ZE+1FUXBH96xNTYmEzZrZYFPIsty40srg3jTNJFGkJuQeKoG88h/LhmYnzDGQ2+rRor1QwP6YnTEFNRTMuMTAwqqqqqqqqqqqqqqqqqqqqqqqqqqqqqqqqqqqqqqqqqqqqqqqqqqqqqqqqqqqqqqqqqqqqqqqqqqqqqqqqqqqqqqqqqqqqqqqqqqqqqqqqqqqqqqqqqqqqqqqqqqqqqqqqqqqqqqqqqoIFAEkpZa27IafAjrAasH2nxKg4YYRGcFo0chGiKn5lYBebmKghjIwPBT8xhQ1VKJrAnJ+AwAwd6lKgaGaSgSGLclUcaFXq05hiOQ6UEDnD8CDRo4SFMsIKkAIYIfQmiyQYQBmzQCEJ5lstyb9pr/rEvyRIWA4RFn4lzqg0oaKZ9AL2K5X2soUDVa3im5Ph//PkxI9YlDKW/t5evxsRYu5ymIT9KNaM7ECZJyhhDzlXlw1umZrhRquYQITJLRVMXJPK8gp8mqqyEp2KdwOYl0BrbVaTl0fpyslmZEl1OAR8sB2GeAvAUhDS2tzEoW9GwETeAxO25jhNLhGqhxfRCi+k9HqQTUqgkQF06y0UTKmTSFYowhxNkchSFkoW0igXMco6GtwJ8WKEh5gK0vQ7i2HmrmJUpFDEWiC+nQ1q16nU6eK+5TLlG3ZU8rjqbi3GUXI6kOQ44gkqqJs/sbqp1I9jTqVZOZmYdSTKZVWkjWmqTEFNRTMuMTAwqqqqqqoQTAyBtMMACUwUwFjACBuMFwLcxV43DoTlrDCTTCcDtNaiw2XWjnJeMCskzBNjyeUPyqY10rzB56NIGQwqZzKQ3FiKYJJgcozDw0MLiE1E3TKI9N9OUEkgxuxzaRVMlGsy4ZQU2TAhxNJooBFoyalDVIwNXLUxQSAhno6EAPZ4Y1GhEJi0oYamMMhp4iBESWNi84g3dgtmpkwFDy1GQOsX6fQxylHx0IDBAIJ9WNGKEpym0JDW0tkPUbSYZL0vYCCxkYskhE6ctL6jQKGTH4HhxVZbzojoBb4xwAgqVNOXc4IVGNtoIKmIHlhaovEyt/2H//PkxPFxNDoQCvcyXDkN0XGxV4npT6SqMEBO8FAgAkFGuKFAzIBZm2RhYCBTsKk59OjhRrhMoamKjIDzQXAyruFnXiIQgg5LUvzF3VcRJMxmxUceJd6HndiqDsofdrUucKA2gFkioCEGtdcplaA0RhIxl0YGkarS8qhDEotEnbQku4X+jUplKGRICkwY4zrplI6CRSaLQCzzJ2ap6lrREGLCv26LWPoVpN1bi5OExBjLqrlQXG26MGYCsK3kAtdXyYqCB6GrovQ2zgwdKn5gJQaFQyzxc0Wk+9Tszat0kDSCTEFNRTMuMTAwqqqqqqqqqqqqqqqqqqqqqqqqqqqqqqqqqqqqqqqqqqqqqqqqqqqqqqqqqqqqqqqqqqqqqqqqqqqqqqqqqqqqqqqqqqqqqqqqqqqqqqqqqqqqqqqqqqqqqqqqqqqqqqqqqqqqqqqqqqqqqqqqqqqqqqqqqqqqqqqqqqqqgJTtcv/2/347gDTDOT8VLjAswsFWlwH3XSl6pqAAmoyCOXl3gMdW2glLwsRIQCwp93nSbqtVW9DRyYHZ7EmqqwryDFrwcVMmHX/glflOXyVhR1bjWZjAjsP6nKiwoZEHKaE7sjlTdWW0Duu++r+xHONMRcGVVHTZzAjz//PkxHtTnDpmX1jAAtDCG+gGKQuIOfRV5ZLqWw+zOn/oo1KbEnjLWXVjVuMxKR0rosFpF/SpymnPslWgurhaSwzXG1kb+rlgO64UPs+Z2zF3ZRAkAsHdAvkka/L/Oe4zsOlynaI3zLpxecCPq2naj/PdLqtPZfecyu525TKLz6ymAIjHbLdn6pvl9PTS9/KKMx9lsNUztvzT00Ql6+ovDsw+y6WnQ65jsv6+001xo3Iu0meZPfa1B92DopNM4dWKyKN2ozSW60rgSNSuLRCkidBPQPFHaqymxKoXLnfl9+UVTEFNRTMuMTAwVVVVVVVVVVVVVVVVVVVVVVVVVVVVVVVVVVVVVVVVVVVVVVVVVVVVVVVVVVVVVVVVVVVVVVVVVVVVVVVVVVVVVVVVVVVVVVVVVVVVVVVVVVVVVVVVVVVVVVVVVVVVVVVVVW1LbrHbbrtvt7dHElGICMIlzAQamDBbrgMDgpOvClMTgNOmgLMHwXNXCnFQrBJHGB4oGB4nGD5PFzzC4Nx9NKJNcttJYuAJUCkD1LBCkCRS5EOmOIwdoZgEgq0mQVvL2GAWsJSMWbEXOftfs2vNMUtY/AkGyprrrMxV2zFns6xBr5dyPJfInqDjx6lStDqM1X/GZCpu//PkxJVaHCoiX53IAd9BLu3H/aGr4UFVKZAT8ggACFSkzhkwIeyjUjZ9L6zBIy4eUAStkTaPFLnaUiCBFiItkUAgBR7ThgutBbl1HYsTD7u5HXMi8/QyKUS+akNWiybxWdcSKbQ2tIluAuGXo8PyLCTzr0nLNPlPX6ScculppyR12+/nZNVp6slsSjmGpqAXzfd37DN4AgSWTGLXHYsLomYxJHWlUfsPzMxmUyCGqaM0MZn6SV0FqQXOfO3alp2qkJsYY1/rzlJTUmfJ+KSuRv/I6zv0EsoIxehy7T2acHKKTEFNRTMuMTAwqqqqqqqqqqqqqqqqqqqqqqpgYDgOAOASAYCgUCCDCy85gqDIVAwwwGUwMAJvmCgYIDNobjHVbTzhDWnJ8GAYjmIIKmFAomGx7IKfEwMOzBQiAw0PrksdJ5iFdtort7IuAQWXaL0JRm9CgpUYqLRlMSpeCwASYlYGAhexqIBBZEAleAICgIAjQCCgJMCBGc1RjwLYoimYHCY8GgEFDCwaJQqUBNFwAggwiIo8zp21/yldb9zUCJmIdFBWbEIMAQwLJjoHazFlzI3IPK2GJBBAfYfjMXmbjLG0RaR8Xs0yGBgDGGgsnymCYiAKq9K0PNkI0CSUFGGA//PkxOVuLDpifZ3gABTMnf+DHcYJL8+1pBSJBgIAFxgYATFodHi6AgvBAKBbZFpgYWA4IpEgEDgoChYImKRYPBoqgUvQ/RgcDCoBiLrsniHKTLlbdPR1aen4IgUYwDxlMGrCOmFQKDgOy9S0wKCVvP83d6EalQO0YTJBhIapwKdlti+bWXHSSUqVVQda6VAGIgLYk1WtVmqkotXe/e5jzH//LFAGCgYWwTUWvxd6FjD6ONO5K20dufXe/zTEAbf2IAAoHQElAVSYTYWCWSwFwmMJJMOXOqdjcFMDVXYu3FT1TEFNRTMuMTAwVVVVVVVVVVVVVVVVVVVVVVVVVVVVVVVVVVVVVVVVVVVVVVVVVVVVVVVVVVVVVVVVVVVVVVVVVVVVVVVVVVVVVVVVVVVVVVVVVVVVVVVVVVVVVVVVVVVVVVVVVVVVVVVVVVVVVVVVVVVVVVVVVVVVVVVVVVVVVVVVVdBIo3JvrZJKMCRjIEitLr60cZSMi5rpKZoMmFBIsCIBkMpocCgIqHsuBl4gDiJAY0l0VUzCUEy2NPhHjC1G5Q6zKJgEWaWWcUNF6CHrdDOQylqyGd7IJHOPPK0w3Htymcm4HZylWwtsctnn+uxmH+uGzamgZ/uxB/GWIoKW//PkxH1ULDq2X9vQAtLHJTG4Nly+SE6huhiunB9mzvfTt8j07z7RamdxljDFgQIFcWX+wtXqdDMQqDQXR9lr8y6FvHStiZ4taNSqMPE+reO/SKDQNL5Q+E/DcPv9jUcty4XK6eKQ5f5b5LKe/czc19/k0Qm9Sp6Hja1FHFnYpTXIZxlkD0sgVrgFi7JqWikM9STdmjwo47WkSyUkIIzmX1WzAdmLKtk2NrCCLN2tU5XpqkzU1TT1+NvO3dL9xIZlcVppEuqTxGlvxmFWZVLqCXXpyGH+q3mhTtqQxplET06STEFNRSUAhMdpTrBQAAwDwDzAmAsMIEJszqlgzGMCdDgJjAOADJAHDALARMCYEYwNQjzBANCMIts0yHQlzA7B/MA8C4GgGiQrgMDVMRkEMxVkvTl3NCMLwTcDEtmDKEkYHYHZgVAABwKw4BAL4+JMzZE1wNC1Olx2WhUKacQGBnSaEzpp1unEY1KRTeH4EfmhsQGxGzL5FL7+DsPG/zZ4/L5a82TtlQEzNaqwUmbnADRHCMYGNi0NCKKoEFAkzqywKojPCAEmYs7MMQ5x7xEAKARd1iSES3RYMmsFixqBh8dRnwQCjDhlMEv6CSIseNQgOq8CgJUKtACCIig4OZBI//PkxPtztDpAAPazHBdCZoChLR6RTTkXKkURHCQcusBShYQtsYAoXFEaRxLmD4Dkn1T1T+bGnEg4DRSYBzYIKhZuGihBjDFmxWgAquEyZUpdEoDS2LuhiQYCZg0QLYKDQPAKZabRepEIUXMJEWRXevsWvEArJlYSYYTNHg5e6Q8YJPv4t0YKDaYg18GojuACng8iIMnYTUe2KA0c1CXAh5oBbpKh93NbIzZ9VZF4KaRmAWiHQAJHu7NLUYLIXZWDaY+3XlTQfWVv47DVWAyJeC67cRgYEEqguSgdCTXfqVxKwZQwZLQqgBJvmA6BQYRANZnCzIBcNwwBAGgEBOYBoApgTgRhcAYwHRvzFFQYPw0LYwsiCzEvATMMwCAwEAXTChDxMAYFYwZzcztp1iNE0W04WiT1xEM7B0w4UTHAYTFGSWa9MwsGm9RhZU9zlhgANMMCXFGWt15Aoe+qEmHGiP47Dvu1GFjOz2jvVoKjTvUtNBsdoc8l4qCpgyt3X5dpxngZsGHWmsGfp25Gt8CHDDUzHAxIC+zMHElKX5mQYQZZA27mtKRyUHDCBiUosMayBBPl+guFBRgwxw/jsFhQwIl8MChgELCzWUDmZTaMzIGXPRCWkqYHDgacMcXDgAVC//PkxP92DDo0APc05CSQQIMsQKgcxIUy0syBsyQNYQAjjAjkSAICNgANEFMQHDBr6zCkKIvECSDaGWFrLEgwkLCAyBBNMQjisMkwNCm3LsgIUnUn0j08bJDAATAES1g8GGiTfmqGGIEjS1IhtVLkyXFBQpsicr+AkNBYcAcFLs3NglXEzs0gU7BNIoKJAKHBhoyYUIXgQCkw3dTZkKN7dUmX2X+hs3dpELHQTbUpcgqCQdBQuYM263pY+6a6pIaHAa1kvkoWCNKedhSXgYHBAMkWFQcz2jlKZJgBzDBQeHQw4c6r/uBVTEFNRTMuMTAwVVVVVVVVVVVVVVVVgAAtGAK0OAXfSELNmAYA8YJoLJhsGeG9IcWYlYL5gqgtkICQCAFEYKRgzg2mEMTQbSlSBppkbGBACyYagN5g+g7BYHMwbwfjC/EpNBF8s0riNTD+BgNhgA98H9GymGHmVVhNwGOBRLMww1iY4GQInSUpi+iaxeZQdk5f8AwoInuvSSy46ewEUBgK9Yj9LKorMMoikNKLNowBv2EtCWUyqOu4u+QPo0hurqzteW144oGXuVuZs4tA8IoABDDbJLwuKu2QRx5GesuGQGBReQtyW0Kmjxwl4bj5oBhYIGgigCCw6mdt//PkxORt9DpBmPay4CdBamgQUo5dZOsuJlvV3LlhpdCRQESOIxIcyhQUCmuzZfZjtnKaHEK3I5ICnkbxsaN7TlptZicXHBoSnyiioyCGSIReLtK2MSQ+SKhh0ojBrSIKQYgRNQhES7FCiktYAHEqPoGMYbm+1Evdc5KamfZoi75coSSB0gFVAqJsmEx4EVB0JcxYYKBBrwO/QXVWXPSr1RuKaWmrIbutp44+u8wQAqCDTCIVrDAl6uHHKRzGxO6yNuzrlz2Tus+8hawzNnzEkj0KbbdoGhxk7XhkNMaeqX51TEFNRTMuMTAwVVVVVVVVVVVVVVVVVVVVVVVVVVVVVVVVVVVVVVVVVVVVVVVVVVVVVVVVVVVVVVVVVVVVVVVVVVVVVVVVVVVVVVVVVVVVVVVVVVVVVVVVVVVVVVVVVVVVVVVVVVVVVVVVVVVVVVVVVVVVVVVVVVVVVVVVVVVVVVVVVVVVVVVVVVVVVVVVVVVVVVVVVVVVVVVV7LIECh9/rJHExVjIzxyJtwbKKvjplxwiJRl2XcGfkgg3qmCoAGgTX3ZijXzUAXbsPAzdyZZbgk7aQJCOZJlGTEEwYJMnBfFWidjbLW4v+QlgKaQS5y30vPSjIcqbJJx/WvQ7MMqQ//PkxGZOhCqiftZfV/5BGlOmnv/Kn2XjHZPDr7wzLHjwY7HZZDNd2+SyAoBnYrBjkr7HQBVXUPxGR8qPqsLGZPcisqhtdwiJqyaV1pmlmUZB5pm2EnpoYpF3vdMWopYrwtRwcrHIsPorccQTphnSZihY5nzKl6MC7Zz3Jqnk6tEqEMTZ4IdLp3dsZZdsDUztqFKl0ssp0I1hT6MZYMp2sKsQbmsIZtuMwzzTPxe25TRleEeRi1Ou8tqrKYvEKI9+4bGhq3E1TbQ+hsk8mnGou4hCMmzbtjCl2DWJdXiHtgrBTEFNRTMuMTAwVVVVVVVVVVVVVVVVVVVVVVVVVVVVVVVVVVVVVVVVVVVVVVVVVVVVVVVVVVVVVVVVVVVVVVVVVVVVVVVVVVVVVVVVVVVVVVVVVVVVVVVVVVVVVVVVVVVVVVVVVVVVVVVVVVVVVVVVVVVV8CYJX+/zkag0EgZuDgnKA0EUEiMcD1owgxDip9VgA4HMKCBUTOPPhIDVOWteS5AYgCHDNMSsuEzGAICZ4yQCQwEhLvBxIvgOhC2J5lodOqF2FL16Bgcxwg8LWmSBw43DLbLQACB7lIcXTcqAXIhwSELlPrXXc5asnCqEXactmcSgllL/xFAC2sijk9D0//PkxI1YRDqOXt6ysq4dROlMPuK+TVEAIrOIQFrVqajoY1PSLPV/lSnhuCp6zDcid2UVhhQHRLaYC9spa+wNHV5H+kMlh542lJSJxOA6M5G1yMJXkoqwSJPveVWadDL/s0f+Yhh6meP4nOmkZIbrsEjbvL/k0bf+XzdTvOxqH4u+jMYsw9W99ndlcri8ZZxI6sYlcSqzUjq8uS6ZZDLn5lM33sA5Lml2NNPROMwwrDR3rU12pMF4Y5Bk3Grddz5xpzP5ZWp1G06QuGgNhmXX7TvxJc8xnSx6niL6yeK3KuEqTEFNRTMuMTAwVVVVVVVVVVVVVVVVVVVVVVVVVVVVVVVVVVVVVVVVVVVVVVVVVVVVVVVVVVVVVVVVVVVVVVVVVVVVVVVVVVVVVVVVVVVVVVVVVVVVVVVVVVVVVVVVVVVVVVVVVVVVVVVVVVVVVVVVVVVVVVVVVVVVVVVVVVVVVVWsGEGX/+yNphcCJhFJ6ItaRReYyZkPLEAoVgoLa8gYYYCmjphkDmHSZMCzDRZbTxMLhwcFVzacRBacQdLCSbHhzz9hllLpAVWHfSAKDAMPLwMaHMu9O/4NeKDja6Uti1TpmLOmtUIbDydgbUGGOTFyIEmss592Fv63q6wAATMe//PkxH9UjDqCXt6evmhTiqlVOFQpbALgG+PFipNga+r2RgZD1UZLT3Uq2vMakCgnsJ8nqsj96W86FDHfRHBciPAPIDaZJ5FqLGvh/i4qtzg5b8j0kxBUppmu5Q4hbjRRsTx2WV6fHhjvaSlivzGPJZYCTDnJ6xjljE6DYJEIadB8qfEjxHkMDqDhDvZ2CDFEJU6WVpeWW9H2XiOWnFlvIoTua0jtutHO9DmuAhqEL5fmwIeOU25YqqVJwNyu1W9ME+UjKuWVyVDEnxFhhLfOA6XOMXRIMb1ZTbvdYjVDrGsqTEFNRTMuMTAwqqqqqqqqqqqqqqqqqqqqqqqqqqqqqqqqqqqqqqqqqqqqqqqqqqqqqqqqqqqqqqqqqqqqqqqqqqqqqqqqqqqqqqqqqqqqqqqqqqqqqqqqqqqqqqqqqqqqqqqqqqqqqqqqqqqqyBSjl//10ciHhiYKYcIQ2sIWnCwEWPYxUITUCAB35Ixwxt3PZogU9JYrNKgmBhlWMEBYsrR+elPvsiaDQ8wIFaQqeU1H9NWk5zErk4WtJlmcIYYIMjARpmKoaLiQGigpm0nacleECslXTB5dRXAYW7tEzlxHtQXAyS0WQr9btJ2VsMgF+aSq/s/L2zRGklmEPTjO//PkxJNZlDKGXt5fHtYyevuxG3QXoyBBIocXud5+Kd01xuc+0jfVxZhU7bO830QV6nMDRy1qOo0SUFFnWLNbYY1+KUT9wRLnbZ5FIc3DcG9/hEKVWTphT7MNQEoFzQhiISl1SBmO5xSxvJd1FYjRVabOomaqbJYSiZToD4P9JEtC+RUJUG4xyH6pnK7AeZYi3zLxFs5YlYdJvCHC0micYmx7kIGA0t6oaQqRFivOlUYUR+nQTo9Tp6FQmpyOonRhkDJ+YDccZtG+jAOiJOs7iXLphGCTRVNSfzKdCFuCtgrqTEFNRTMuMTAwqqqqqqqqqqqqqqqqqqqqqqqqqqqqLgCuGbpCCEAEwCAFjAfBJMDIpgzIcTzLQDGMEINIyPwNSgN8wLADjCBDNMPV0cxpHcyMBUxPCUAAOFgsLA7muORn7YjmUoVDINgQNBUETOiCODGKO0J2FNzIGSlEY5tXmnkrU4CsLB3yLrASmH3vgyNzTczBlTqa2p0suB1HxCKfZ6TCXafLhrkaWZ5oKNd1StczSXrRDdYeGQig6O3EQlXv7QX55ub9Nqt6NSJ9pVRy1S4hJLax5RpJdCslFdoIJXYsRAsWDJQQKEBB1LWpO/IwCKroCChArKYk11hj/JMJ//PkxOFtNDosGPdyiK0tgeFIOF3Iqx+Lu7Ar7ww1trz1tkcJiyaSeqiidbeOEoEBqUVQgVKqH1Lk5ksyB0vqlooCCpnlBwCQrZEw0hThKAMJpgCsC9hQFUhVCLliAQywEoiihS9XZEC4SaYhTQLa614tKHAN1fYIBBWBapu6m5jlo1LmMkQu80tHIL8m+E6QGYDwwEKvIcPWMkWXKSzlcEKaJhv+zyGUf8S8BhHIisjL+Fz0s0BCDjGAYUYha504XncBTVG4OFQRKucSRzzKEAL/M6eaGGuNJbWayeRtIebyTEFNRTMuMTAwqqqqqqoKgAoiAUAcwEACjApAdMHoGQxXTJznVWKMUcMcwWwnTEaALMGwBowRAIDC2DSM4ZlwwPwAzAKA+AoDQMAsMAAAsGCTmMC1eb/ZV5hvgPmAGCSYN4IIAAiMYmUy2cDp06NTC4wwHDEgAdUwCDTCQ0NlmVDZhLTl8JUEI41GATIHaMpww9KYDGFsn8ijjWFzgEsxxFvS+Q27SyFQKUPZF4xEY38SgihrRGB3ggOA8puULBgUUaCanefhsQAASIMZbTzwpCQmcFGDooN0RNZNFIdgSKhk0myIXyFRjQAL5jBgKkC5LIUM23WDLxo/qngZe5bx//PkxPFxDDowAPcy5GEUEaiYSDY0NGcqTafWTTXcyagrzzJE/QMe0ldbwLngZ6ESlH3DZiypiKlbO9LZSqXIx4tOBRIEb1vyqADhlEAdSYkIUQLrtyVhVWNscDUjIwOuKzDZLeiCUYDEARsRlBw4IMA1gOCMBZcoHEPrAvSBh26GAsgCHhEcVhoZAoRKqLzOUUDISGmJSDgAGQbVhSBjPWVrELSI6ITDNHVdArOyYooMLtgu9eDlr2L6MJUbiSgDpy5wmptJeVTZzF0OItd3XQhMokE6IgH/qR5YFi+UsY7VTEFNRTMuMTAwVVVVVVVVVVVVVVVVVVVVVVVVVVVVVVVVVVVVVVVVVVVVVVVVVVVVVVVVVVVVVVVVVVVVVVVVVVVVVVVVVVVVVVVVVVVVVVVVVVVVVVVVVVVVVVVVVVVVVVVVVVVVVVVVVVVVVVVVVVVVVVVVVVVVVVVVVVVVVVVVVVVVVVVVVVVVVVXIAQyWW6ORNrVlyy6kFqoFUShw4h3k5CYuOBIxIAzMQKZCqpelkrMXAAs+EE0tqTAwQDwwaPzQ2ENnGcwwEw4DgUEiMBmNBQY1EhlJIGPgeNBdcKPazkTUYXNppdYbQhUzKOW4eZ3Ik7V/QfKphu6mZZRl//PkxHNRjDqWXuYfMjLX9d9KRHAvYiJBSdBfU0xBTwDERsCCKHoqJgM4L+KYww4kU2ywtgZxlrX1sOwfg3BCly3zwz/NMgBvwI92clYQwx4aWyvDcAfYcgcy23szweg81asM5poeeRe547SpjQHCOpxQqA4WepVTGktZYzeVi70pGpnP1Mzq2XyVrinfyrlqh9iw2ro6bvsQWp64qBDe+uiT4IKyOcJMIgXBkV2Iiw6R6ReOWLrmrOr4vYzAiqxXMTU3Kw8T91LrzxnkJ+0yKCBvUO0eFFrub7xHx9ZzmWIqTEFNRTMuMTAwqqqqqqqqqqqqqqqqqqqqqqqqqqqqqqqqqqqqqqqqqqqqqqqqqqqqqqqqqqqqqqqqqqqqqqqqqqqqqqqqqqqqqqqqqqqqqqqqqqqqqqqqqqqqqqqqqqqqqqqqqqqqqqrkQwoybaS2SAYUYDMdeaTQMyAEWmgi8x6jtCOsAedOmgO6NYuWFUCgtv2BAR4GjcJtl0hYFKAAwMGSSiNCAB4ys7PE4TM184ILM1EDHAcuGFB4ycDAgAkKDQERgC2yYTKGgMjzVCIzdBMmQjLBQMK2mGGB5EdgIsASOVlgKFyIKfsqgA4OmJBgOSjEA9DJG11DEwgxQ1EQ//PkxJdanDqWX1nYApGHiQ0NOMYEG2W/MGCS7K9XelteddGHmBPfOzNBNNecJ5YfhiH2spCstd1wrz/QW/MRfxxpmBZ1ylpK+dWRqAxSJQ67UWpaFrrwJVL2oZ3JlT3yxh0vpLNLjSym9n+GEdf2K26XVNTxbs9MW4ZfntmzM2Iaf63KItqrGbNE/2VDRZ5PtN0FNFtP80pdri1KtyVRZASmrTfPSRrztR+crTt9/ZhrT9VoakbKoPjN7tW5bVtcbOW67qm1bm5Nm3FgskfqMx6xDVuU0ut1pdh3n1pmW2d1IDNjBAMBsBFzAW0TgwHMHWMJERyDAngMgxJ85UOFjDEjAbRdQ2NkRyMCcDnDVpww0wgYBCMezCZDA9wOYwnEDgMBBAITAaQOUwAsA8PhEToqsFfBmACZkKgKwMOLgxtNAATVjE1psNfAgQhmvwxuwgYfYmIGBhyqaYHhWOVvMMjTxqcwZGAsEb2XDpqaqQGylocyGBChsZYZwrABGAQKxMRmRn4gYEON6DgAw0MJhQxElEgAMAlBDACcw4HRoBAAYUDhUQZ0FxUwoFMGBEdjDQgeOBgLCAcWFDCgwqhAiCAcjGCAj2saQBp8u4NCA0MoAGeg4BWIIAFMNvS/g8AE//PkxP93HDoMM5/YAKEpFmABxjwgHBie6T6mxcQOBwYKGHAQGJgwNDilK0HBBQILecJuqAFhanUxDlOqrHKsUaxGKjpSOXQE8D2Rd+FKkFBYFBwMioXcZfOF/GVvWjesEthIlp6srZUdkqIcszDiSKWR+GYDX016Cp3TQJ55ZyCoFopdDMBxBsqgLyyZRGG8lTPQ8b+ouqXsGW4rAqkv9gMuQzfxpURazGqN8WvNafZPmZjVPBknZdRwFOO85MNzkfj2U07j+QHLqaXSGd3Xk76DIHEFKnBbdlb6QC7sEQw7bhOqyyvEpBTUikxBTUUzLjEwMK2QNHjBBWSAQGAwKAYqNmrshhwiY4GoHx84dsAw+YEZp0GAgiWBEbg4AMECzKBx3R0AWsYwoZoQloX1CE7PGdCgUrEgwYBkA0TAI8vIEFCIAzVHlTZRxCQwQEADEAi/AXLtzDhRbREcKg1SmXMiMMISw4AMYGTMAABFUDEzIDTOi1zF4Cy5iRQkRTySFUCXGuRBxmj/g4A0lK8BDFzMgVeYE2YMUZQoFgzovSgRHCoruNSZNsvX6j+YwA0FXZdB2VN0uAoRNOHDjCumULaAwsoBsEBo4uCaw+aEiNPi3ZiEYcIFhYhAg4ePBEM0//PkxOxv5DpuP5vQADdTyma13hWPI1h26P3GE9lqU79JIOe6KY7JEKEBgQGMSGLihYKwdNEDFCzJiCzImTygturHUh+POI1+XQ4oO6ymgKDqDhYAGHFY0e1N2BhQMLLCyj2Q8xF+homNDFeCpceOKLlQeKDgcpGBg1yM0AChZgg6Ua6mEtF7kRyzhgACSCqiPjqO8kI0yMUrvoUR9+1+MDV3Arvy9HxoTO2Ls9cdpCg7F8FbEUIyjQ+0sp4DkUnhx90YS26FCwyJC72AIbCRBQgrEUaNL/xVTpVy3Zc7kto6mXDU/cYqrJzkw1eyKxlU65VaNX0aVTCijgLUSYOFlqvE8kaF3uK5aXTerpYuxBvUx4PcdCQWgaIAniAQqAwc3WKAha7zUiQQGAgBLUdEsRAgROlD5drTH7JhS6FeuAn+wKcmBCBR+MQAWuISRnA4kdBJYaDB2oyzsKyhRkZnKZM0eLYbtUZAudkOYlKCtRrmRvGpiEggLEoA2JIEg1uGqAFUUEGwqLMiYInRtoBkJgWOJigZSc+uZA4IVAILnKSGUfOICi5gDQsMBwkGnQaoF24qPKgI2ipQcATTRkASWMwmOiPFkoGaAAUAiwcUEIMgBm7LgSodpQDYoZKMIVLI//PkxP93VDpkAc/QAJMHMMIMMCASQLkAuXBgE2IQOMmbJiIWY0gNGyqlEJwFehQODiRfMwQQ7iYzbM0xYMfjRs1Dw4TQFaTSFTgpzBLQMSMu7B006YkdontYmGGmlPkyo5h6EmuHGTCl4jEiS9Bgh60C8o0tCqXbMFvA0yYRwaUGb8OFiQsWM0sYmZhEPWTZiTFmwdANSABAAumBBCL4qDBWIsATFgSybcBq+agGBi4qcFSJIFFRQ8IVlQSkw8vAnK5YjCkRZEWTFgK1otovZMcRAVOWEgwAt2Wlyi1CnamcUUzYFHm6NxaC0KpMQU1FMy4xMDCqqqqqqqqqqqqqqqqqqqqqqqqqzLzLmHVHSAAxihS/jZNjjsgIDU1XcaNkHMhReDQhnZJmwQCHCAsghMQmL7LCAqGoYBVxfK2RPIsAmEwozDdRUM98y0BpZNZG1XLYGRCWgBCBSgQaFzl+JWh2U6AQC+JVoISjJECERUQyCCIBHczjjNWArBalAgZaxiCgEEx0kHgETBCxGnOs3xbCEQ+nwuURgL6SaXYCSgNw+QscZphk9CAYwyCw+c0JlSCchjuEVIJETDa4JIFpiIIEYXCCBF9kSwUNyzHeZf1HoEoQRg0RqINAAS3idFrL//PkxNhq/DqDHNZw3OiRRaMxIW1aBRQU4haD7JzBME8g4y/nRXk3dFAtqXBTjcaH75dhFJHcGvHkCgS6xa9p72SNOVG5QIQpDKuoBpmJaRLeulBzougbVAk4LEKtIQmQYWjLxUxMFPwsg3xbgwDGgNBoWtqYoODx1MRpVCpWt0RnHhBYq7I8u5d5bgIS0xHp7oBimI0hpUCl7gaNgstjMDKcKRYIAoI/PC6xACHJZBCKqxzCBPoaCsWJLjAUFg1NE6y6yB0DJppoLrZHAidTTajP0ArT4CjDULUMM6ciVX4zTEFNRTMuMTAwVVVj8I5Vl0Xin4PPMxy7UgCcnMotJ5hy3XfSGlM1ME5XTThYPDb4xCAF6uqxOMQUqoRFkReiVlyTYoVgXXMVEEAEIEcVUTHSZYipigACoEfBZsNwC7KykK3kUoWa3FU6RSNQiBruQQhgUILhkEeTjwcLhQeTOIFJnxlxBloRrzxjnJGoAgYyUg3jMxRwM/AaocsmZMSYF8ckwRWDMIQcVARIwaUUImHBCi01Y0z5Axxw4gwmzQyJ3xEyN4DMKBMMTR0MOEBpUCjTPmgKgLrmOAGfYAyYahiZ2QYAaZ0yZcsYeUTERIAxkRnwcOEihoExkFRgFBlz//PkxPRx3DpsoMazkOaSMYssZd+Yk8v8z4Q1aU0g41ABAGIxhAOASkwhIMMjwAx88CLjkpjcETXIO4AMTA8hgolpTRiMYMWAOmsGF5HegyQKSnUib7RmGGiuYAJrqkwQiRDkRHGZpiO4FEFCDEfBDwKDDmQYSDBhEWFxDBRHpTRLMNBDAsEg0QGHi0aAEHJiIF1kKRg0GhCgNov0ukw1AUuBqoaFU0CAksnyg29CQTwq4jrBoBWa5wGOSQQ4J9jgDgQOhCtchJeRoLJ1HXuZS+rGy9cIXAsVg6mE07D8vPRKTEFNRTMuMTAwqqqqqqqqqqr4G/MgIMQIqOjJyw5e0003zMI4eJNwhYWLosF/B4UGkk0QGVH3QBIGMBYhAUm45M6k0ZAivGfQ0iaz6VFALQH8TXVO3JXq9EGi9SJINGD3BYM31AoMVFQ6ISkMIFPsyBDRLbSNpACRr7zgJBXQyzFw2Kvi3KOtu4qOA0WzoBIFgo1yTSsMzCAKAgIkMtQDRg86A1DDQAhYOXjBUc2ACM9AQMODAmYwHhUJNiIwiwsgJHBkKui0xOMHNmWgoaIgTEaDkzeNARoESMFkKOmVsagZmshkq/y9ppZjwALNM6BBCGGmFIYmpbJOR6Bq8zhT//PkxO5wXDpySM7zoGQSnw2VjOCF0jAMOFExil1Es7pGtWZ8IO0d8yHQdgBlwqCyM1ljDIC7hnmgQoV/F7QdYG5C5QXUFq010zTJQOF4ZIMZwDXGXKKBmwyOEDZwNFLSK7FuAQ2jmapQtUn0BqnYSDLSBcBh63hZRPpB1RVuKawcgBmTFQbsowXxFjWvgwFiKU6fiki7Y0yy0WBT3UFQApagZFXhVCjiqq30jXHZIrWg8nq15ONOiLvivZpzhwy2J26y0Vis/aGtBuEIcSldNrkrdyX34Jb1pzvQuYhD+qZVTEFNRTMuMTAwVZIoUgzBACRCAAQBcOiAFxkQjS0yDK7hznI6ggXULwMCwcDxgwDYwCgXDExLHkx2EAOBkaAIFAcz4SFgYeaB0ZA4clWARykknSyCTdgvGBjRkxKWwkYDiwKSmBDmNEmRPnTxmqSmEVCTsyUoy5EyEszjAAgjHA2IgUgFxQWHqIK0r6VcXtbunKlC6bqvssEpy4CuY2rYTBkYS8SNAkaSYDBrjhcYZhiY4IbGEdVkaaebZiCTISBEhbPAScNqaEg5hFgkJroABQ0NuI2QiAkzlzOTDHQqIbNx37EBY0g+4YEx0rFLbFkgE6SLEQSHyqppOrZERZsG//PkxPVyFDpl4O6y3IJOOC9BMZAZiHqoNoAMzgVHJDNKEqzwjRzDNELQAGFAQIIt9A4ABmKMikBUi1JiEoCSVQ0TBJZghnmAZJWtACmMvWAkEKFoWJFmAQCWtRUVrM5saJbIFxjTCRlQgMMpAMXTQ1VsFkkeWdK+adDyZ6YyXyaUjL2jA5dlW5PNWBCcFxEARa14E+nGoE5nlvJdIJn6QEqwIRLNedDFTVmLQEB0FrVbKmpCnBUyddflJDMYkUCstiTSnZgRYJtqa+3KDIegd2brPHzn3jfqPvS4N7CNTcmVTEFNRTMuMTAwVVVVVVVVVVVVVVVVVVVVVVXMgCAUAaYBwAosAgHApI8FQAVM0hAVMEIB4wpyRTQoD9BQVhQAAYDAHLVlAYDgYDZh5HpxHOJgYGhgIAywKBrE2PmFIPGJalHFpHGHAHmBoDiMARYBELzAsEjCIGgwJzZg4jCYAQKBxg4BBEETBBYjwKLoFTI1cIQwoAB+xJUEjIIwECKlBixgprJaYApmiqJI/MqVMu5GmidKD12qMopJagE4oZiaAFLlfSlAILTISUYSzBby0UhVIlzgCACgQKElFCJPEmBMjdkteIHIURFS1VhgjJPrBFgQa+RCDJktjHETGUuY//PkxOVuDDpWGvdyeKK9MZRG1sUtflrzBnDXOqDa+nJiDOwQCYxqnyXsOaWoEImCEQhmouMGqDmA6nkiig+h8OpvmqV03Xca04wgFEgVSpgzzDpUypoy2XYXfE0qUoYCrINJnKAp/Mocl2WDFlmVs6YkiCMhqqvqjZkisUGzaEnSRSdoWCRGYaqpHYis+OOUlWx1cSwb5Ou7Ema0xeXV0i2YrVbVrTXkXEDZE/iQq/CEluLQU0C/M0rY9rbrpcNyUqJDEiz76NCn2WuDi/iXycwOCba5QQ8lXhEnDIi2wOuqTEFNRTMuMTAwqqqqqqqqqqqqqqqqqqqqqqqqqqqqqqqqqqqqqqqqqqqqqqqqqqqqqqqqqqqqqqqqqqqqqqqqqqqqqqqqqqqqqqqqqqqqqqqqqqqqqqqqqqqqqqqqqqqqqqqqqqqqqqqqqqqqqqqqqqqqqqqqqqqqqqqqqqqqqqqqqqqqqqqqqqqqqqqqqqqqqqqqlgFCSzd/0ctoCmAUWJAYZd5YXvipMoW4+9b9u1LIgIVJ9wT3z05N2pKOBjWVjsewDBC5EIHgCOaWQUDDPkzfBDpGQwE4L6RuUSNSovsAkubdf3OH4YcOCEvoVIGBzDzyaw3RW1WF+351K3so//PkxGxP1Dqy/tYfPloAAOr2LOS1qLSx/o6/0/ak9Ws8T0TbLqbcodqA3qnp5mLEX5cGM1bsTXvD8Ew5VkcqpWxvm152ZNF53UsrQxQU1jc+/kAIqNdZKyp7pcy6VSmmdVeqzQ47X4FWK70CVqOz3meU/rvc+/aTGHTi4KJl8CZreKJWvm58ik+oTWUowTliJ2seG4s0N7K9PVwUr1TxSCzoeSFCkMRr909fQE4ptq9WMJvDtRKJZTuL8pH5KENT4fo4RbgfDCZSFq4wRO2GMT7M2MPGzeo02U61QFYaU6kqTEFNRTMuMTAwqqqqqqqqqqqqqqqqqqqqqqqqqqqqqqqqqqqqqqqqqqqqqqqqqqqqqqqqqqqqqqqqqqqqqqqqqqqqqqqqqqqqqqqqqqqqqqqqqqqqqqqqqqqqqqqqqqqqqqqqqqrwFgFqb/NuSIeg4eki1ViCM7SDCIDtQzeGUwvMqNMQCk7gCAQZLiEZmQuBHUPTBQcysbMohDgRc6UeCFYIGDCAgw0DLghUhkqOKSIVeyWmTNXU2FEguFKGvQhuSDWbNQukDddFTVaRWRNeLLNTyWFL+TcVf1gdHFAuByl5MBZGoc3JvVblFygkBSlhcjex2YkxFilI1WGk64Gf//PkxJpbTDqOXtbwxjS8jV/OhkNBEoozhNKFQEzluMefd9GgyR9F4O7RuA3VsUfQVZK3r9XHwSPHCBllBW7LMUGRSjK13ULJM6XwXMfMxsDhsQfpzmssspGvP9fuasUNvtLS6mYfp8ZFNyT5ZG41B9PDkTo7N2XwqXO+7bpMOZ9M0Dfu+4bv3mstu1+2w9aiYboMjTUVjZEqGJgIK10vINdeWXbjSmVRCNSd83o1ILDB3Elz8OC5EeXGl4gnkCZBQBYSnjLui0VRtxiEmp5ZK36klHadKDofmIclrXZ+hYFVTEFNRTMuMTAwVVVVVTAkKTDcDSzyRxg0DYOEMwPTQ+TuY8X2Q4Zfj3qCAR1MFhsykGTBoQMWI8+Xejgj1NTJczEEzJgPMdgEwobDB5FO3XsyA8DPYLNfkIyech4LGNTEZ1GQXDJIOMAB2xWGoATBoIR4BeIKJXoWDkeWoppFzazDXNa1DTDy/pfyLNJcCKOM9ExhXa1AUtl1A9EWjlZ2FN2bxSHLUtfp84ozppzwSqehqkdp8HNZdIKBMiKNKfBUQNQKOguQGDF+gwkYDER5aEaLM601hDBqY0OkjhINSPExzF8stJITDYAwgsMDqUbJhB0DAmWMLLhi6hyqoWCY//PkxPJxZDooAO8yVDNNV2YBBxnQYVhmqIApyRpZyT5ghCpIkaqMCihYFKoBBAxUUAWmtYgDVOkTLCIBqI0EnAyVIJPBY8AtSbghNDjEekxgEEIjRUIMZJgAaSAAwIW7xoMoSXKLwsGTIQlPqaHIlSkggcqYyRhYcyYjIINIQzQEmRkFFNREs0cV4O6EQ5CMX/CgBlhA5VMEGPhhyJUhYBHlKjANStTEXSmYKIrTBpZKSngTIF+hdQWkLkIT4MA07IWYigCZYJNKiptipCL6CFIaWMsxKx4R4tjCg61Uw1HVTEFNRTMuMTAwVVVVVVVVVVVVVVVVVVVVVVVVVVVVVVVVVVVVVVVVVVVVVVVVVVVVVVVVVVVVVVVVVVVVVVVVVVVVVVVVVVVVVVVVVVVVVVVVVVVVVVVVVVVVVVVVVVVVVVVV1Ciadt2rkjgCdDKIU4snD7mxaPkQTJVrM+2dxoO0YoEjWLDUSiQ2oa8tMLnbiXULkDBENTcISq0peSXDpo0jWgKEuYGEFlQAMDKgnfEbWTM0UVbklwh2YqmArE3yE9CNbYie3yCM2zLdJWtNdxpj4tAWAY+yQdEiko6FhNcS0CiEMXMLorpZmsPK4YrtkilNAU26cYel4E9Y3X3J//PkxJxcBDp+Xt4wAqLu/afSHIbn5E5dBDKsMZlUBsZQGtXSRX+yRC9UrOJ1pi1WfwXBdZuLjMKYSnyuV+KeTxCIPk/iTBQlEZSpPBgySqRyR7JkkkhEmEN4iztVRxGAIzr7eqNxaCpDH5XAcMw7x0nrY86ai7I4Pb5EeD3fadNxl9oPfFUa8WmwNuWUsBSplcHrFhDiP++8GQ5Acod5kcKizeR+XSC3UpnAj8xPUEWnVqzEcbVuMtX00OMtbaywCeWEkjOtJyo2RducFpJQa7LcrcSiMfbo67EncfxzGAsTTEFNRTMuMTAwVVVVVVVVVVVVVVVVVVVVVVVVVVVVVVVVVVVVVVVVVVVVVVVVVVVVVVVVVVVVVVVVVVVVVVVVVVVVVVVVVVVVVVVVVVVVVVVVVVVVVVVVljYcls/rTai336DgPMAQYFgPDAGFQbMsgRM3jqPBuEOADuIh8MFgEbqlAzkwhBegOc1D3tI/6MNmHHGMstDIYk3iUOBuTcckxjQO0dAxpMFBx5AMRBECQsTGRhIGFEVTAwcLhDbvsnDImVIS2iDQIvRp1psMQfSuoEYkADQQwRJmBFY43OR9MRbLF1M3CjLTF2pUXAoBMSLvtYZWjiXHoEejkADSQlpQ//PkxKhe9DpmXu7evJOEsLw0B4BDE4vDyJALCoESHsYBIA0h6y6p00T1TxlncUJwIs9jTXKmXZK1GZyhLgzNLnAfP04kjQiKI4DmMUwplgVI0gV4cB7nkaRYyXplhRDki1wkEaN9CS9G4TUki0eon6bOtpYqKI/RFyWFzWkOJgbT9SNpqFAuD/JUIAdamVDiZRcFcp0qr2E0GQfIdAIwRzKX5LJ5UwV0PQJI4JprYrR7KBQPXCHCYCNr6SuJ6iSMjgDgJGWbGXkmQb6HkKYdvEi8sLGhaHKfamPpEn8Zq8OBTEFNRTMuMTAwVVVVVVVVVVVVVVVVVeCDDlSEQuA0r9YdGQiALQ0MBcCALBeGFaAeYzo6BscDAGAkD2YWAJJgZASmAmA4NAuGAmA+YJYBxg1h2GJayoahBAxgsgnmYE+aAU5lspIom5AAYmApg8dgDpm41yZVE4GEhZtLxictXSguYJMeBcqqq1+W2h1QVUIhCHsKJAtdL1LsacomBgooINOgB4kw4Vx5M762E+mLLIWGQTob2HDsTz2xlpTJkE6a8mkNJKJDOvQCA4CJmCCJwLEQkNotGNJzBUeZQQYYQphAE29Lwu8pUOjEDI8v1NeMNUa2q8AhTcKgALHgxjBC//PkxOlvLDpJmvc0xEwku1pWJcwhGgoAWwMIEXrNLxHhMlSOGgRoiBCLIh8MF/FgU8lcJpAYkYYAuBQ5pr/raV9XhhK5xHDRSd4KgViwE4jXU5YMcFnqCQva099mWPipWtdEFH5tgYGCA9LAyAN413raVyydnxfd/prJ+WIBQMEIC8gOCNbdZpkWdiAF8AZ5PA5m/Wi9jjs8LyGDNHISNJUtR4WpJ3zcBNxFMs4xVWjUYZWie0Quy4RaAUHoqMHd92GzrsXMHFmCLIqx9/22huLtARkQMmK8YaNLI5AqGKwiTEFNRTMuMTAwqqqq7AQCCrjQBQML/EACz3oikwCaPBgSgrGCSAsYSgthpJBoggAxTQIAFEYDREAuAhUwwG0wGwfTAeRQNFQb0wFgWAgMoMANMEABswRQeh4GEwJQBjAfANMBgFczrBkjCVBdMGMFc1EeMDBzBSsaVU12iGLHx10+aqamHk5ioyPDYCOwCBhgfKxJKN1VUjntfmC3XfRiCGAkDhlOWQUElWTVl2PrI0jDBC5asRdRuERZxFZWm4ZEMKaRuhhhkMCvU/ACAQxKKDlqVA5C+1DkCn7GQ4FJw8io/v27DS8XSfwQggFHiYhZu7rEG71mutKMbGADAGME//PkxPNxnDpSWPbzHGvV71fT6dk2/JCABYYJkl9oFk1tm8OMYLNBfA3X0fF6PtWULauXEJBhlIeIbgx+eazBigbcGfNuj247S1b0e0TwcGFhkph0tCsFAIyK+SpDSDDFLZphg4BokDmEIWwaSMANCNAZ1zGULalwVbGlQpExW9kSZiLD/J4p0vyyKD2Do5KgJgC86AJ5Kduc0rkKkGoCbyN8FFA0FgbO4PUuox4kmFQ2Jl4ixyHYHXcps9LgxwRAOPCHYljGlgpVOUziNdn4YgRRmwrtubQ38kVzkdbvKGv1TEFNRTMuMTAwVVVVVVVVVVVVVVVVVVVVVVVVVVVVVVVVVVVVVVVVVVVVVVVVVVVVVVVVVVVVVVVVVVVVVVVVVVVVVVVVVVVVVVVVVVVVVVVVVVVVVVVVVVVVVVVVVVVVVVVVVVVVVVVVVVVVVVVVVVVVVVVVVVVVVVVVVVVVVVVVVVVVVVVVVVVVVVVVVVVVVVVVVVVVVVVVVVVVVVVVVVVVVVVVVVVVVVVVVVVVVVVVVVVVVVVVVVVVVVVVVVVVVVVVVVWIImIZTf+2ySwJahuDHrdD5JRkFCMtMyuB1++29asKOavlCwaVbKa6nFLZR4DjKmb6Bnhfx/XKZwIh//PkxDpDdDrG/sZfOh6FM7cGAblW1QNiAzp6iYwJYmK89yFiFOtOwLN4X5XVstaStoLkSu3qHN+AQM/2H6/l2mji7IzFbtitdvyiJFv1LWu3s9brUlVwKX7tx/KtI70IMZBSSg2MAwRKYOn0Qy+0dl16xa+1JGxDgLEeTNDjfeObjkrvieuKSOrR/S9XsejEhTdHleOY8WteVqvW4rysRli7ftceJ4bc1y6Xqx3HfpDwrEhtTutfU3bBkOV4sGm8VpAmlfUl3WCoHBXrcHUsKmnGSesWFW0WtEy42r9e1bqdTEFNRTMuMTAwVVVVVVVVVVVVVVVVVVVVVVVVVVVVVVVVVVVVVVVVVVVVVVVVVVVVVVVVVVVVVVVVVVVVVVVVVVVVVVVVVVVVVVVVVVVVVVVVVVVVVVVVVVVVhiFCFVt+sckpggE9w4ArkUPHAqCyQEYmISQrRpE4qpkJ7cC00DMAMPbmaPOTLJMDp/DSuYiDVwITGQSyIrr1hIaKB56AEUGBKRjoQNLQnmsAaxD6Q0/ByEwLBwjcDCwO2y90aWitjoQYUSGmFBlIa0FOt0IfbqyNBdrhkVxaG4u/MYbCqqXXVEZ74cZWgaJ0kFrtbmX6AY5QvK1Nmyu42VMlSbbB//PkxKVePDqi/t5fmgQqeUyq9TYUsbagBA2nPuuyGmGMtTdAQA0Ibx40NDLyXaZ9ZVJUbUWY3WmbdWgsTTsEoaVTstUeCOy+GOL1LUtCqSGSSx8FKHYfSG6zcWmsT3EYHk7E5heEoVpTqXcspFZHJTdCciwhuISEvEzGQyJqrMVqpfL+fx5XkfaTxJ8pYiiwteT8Py68bfR/mAQCok069DLoP1E6YQkDJKb6voNYnDTWG9Tsf1SlaBjlyJ4dSElJOmQvQLANpQssh0k0R7o3UJTq+mYVD5RqNQd9xc31dLGoTEFNRTMuMTAwqqqqqqqqqqqqqqqqqqqqqqqqqqqqqqqqqqqqqqqqqqqqqqqqqqqqqqqqqqqqqqqqqqqqqqqqqqqqqqqqqqqqqqqqqqqqqqqqqqqqqqqqqqqqqqqqqqqqhhAxLTt1jbcpn6Z84oJREwQxo8GToOBok27kQwRKS35dgaBrta0rE6Y4WHIpFYVcmi/YkHGQQBchZBNPhjFUEWHEQmCMeQ+QMBWCP5jOnpOcAojMLhlvmEptjIwwEDhzyHMMQEIDwlRSa2muGjsPJOUjtTrUQIJWK6VlLtIBlLofjN/vvsz1fqW0rbvbqSCVwAouXZf5dsqfXFVd1Exw//PkxJ9cvDqW/tby4hIugmFLIavUlDJJWxF3Z6LSNgrXkfS5xYLNAdWJuyNy+VrIQpnL1lcOtZqXblqDaCbZ070qo5qOw7jUgppzXpdWi3ZTUlrpMOf9Us5Dz4xKJSNrspcl2XYgFyoU6s1Fr8ofqXRGNclqNxaJcT8P1b0/cOSuCrUupuxZrCsVNLo0oErqNW40xJ7CyTR0lkFnHcJW5sSYSGTF3CkcrfuMwVRqBQEj8g8klVXSpU0pAM7aUgctGpuZdWOvA78QeekfdQGmkL7Su5FnLfGBUxpFVh1rUOw1TEFNRTMuMTAwVVVVVVVVVVVVVVVVVVVVVVVVVVVVVVVVVVVVVVVVVVVVVVVVVVVVVVVVgAAAJKxSW8EAuYWB2YbBCo+DgRMJQVMPR4NIwTPpziNGwWMTgSMFwkMSaWWYAkWIAzYArY0Mo44wHBDMmgMmJhwyDNruMlLNupM1ROkNNPJMoXbyTIkmHLJUBxJpxapIqGzKmneStVjTQUuUgpAHAitYWoSUQbMYPUEJBKxAdLIklkOmKWUvay4ywaoENErBoyvnWhhFpWxKiJIhsAcyRqmWozRxUe26NwWGe5rLaoAQIFabC5c+6PaHFnsAI7zsAvE4b3F+2JoEHEYm//PkxMxn5DpKPu6wfN0Kvzg8JQDnLFBBl9t418EiQ2TFSJS9a0oi+8aZa7MUj9twGcl3QQFgTO0QYFlTrOEsMwl9rcNyzrAWGrCpayVnKgSqRbJeKA1bAIWvlRBiT106mSg2qkEI3I5SGOoCWOufAbXk0VmQM+qvlywI3Jlq1pC8i5nelK5VDX1LylyXFYCxVRoCmDlorLwQlLDpLKBQepetFsaGrkM2pXmVnJoS94VhVIw+kUoMTHRtBQWpwlwlMVkCES/qdlckVMJSmEYCKikkFlrJalyXBYEWejDuvBClTEFNRTMuMTAwVVVVVVVVVVVVVVVVVVVVBYAAOmA4CILBdK5DAnjBSDjMR4NszCoCTgoM1MYQB0yYB7TAeAgMKOjKz4Ekx8NQZdsnBKgGY0azHBMxcQMeMQEYmUUp8EqF7gg6jmwM87hMjGjCDQlMTKCC5apjDMFSzeTKDR2c2mwMy3MIYNasHiOKYMZ2UncCFTw4QwZoFEARgiNiHWySAvOS1FLYwSmerAlENIpxAolQ9HggIC4pKErEjIQkhQgLhylW8HEhcRqbMW1WHFiV2hYFdC/mmqYtGQSmAK1smfehYU2DRI0zZDTsOMoZGNQVrphoFY6/U8UBwkAZIBkv//PkxOduxDoUBPbycBriGu8ZMZmGnJycQo0EwQCBCXZoAq+CgoyAyZYrM2DA0RUYQKCQi2ym6ZSOrOpSmCpswpf7wQ69FA2BPJzHzd2NtActcyqZUECEoBnFzInK2GYevSNttLIqvFsEGus4DhyhlLsx2UPzHVAWgyaeYEtZ6HXSVSJR9Zk39M9TrLDJjF9U/FfOmXBTsfMCjJOQtAMsKtFjqmUNKXQMrlRZd78M6eNTGCJQpbvrKp2A2ItEf1Om3JoW/jBl4Nfa1HoJTag1AUBgok3F2niDgkEquYEgtyn0TEFNRTMuMTAwVVVVVVVVVVVVVVVVVVVVVVVVVVVVVVVVVVVVVVVVVVVVVVVVVVVVVVVVVVVVVVVVVVVVVVVVVVVVVVVVVSga8DI5a5t8FRAyUeFgcEkxhImZ8EAQKNgJDoWg25JBgIYMDmQCphBQQCZmQyZsHmlQZsZiHdoyBBgwrcxJ2ltGHjxyKgUoFBCI8SdQlCyygRhOmeEspIZFJgycqSgJIMsBPlHQx0FEXVRuX8WdUil6pwrcZJCtazUtk6lTpDSeMx9TItkW+oHaV0q9HlPlZDLkZhIoKAsPU15nXfhsrys6kTUFDVqw0poFwlxPAFBzOBLovk5TYZhl//PkxLljPDoaX1vIAEgGZg96YqdMMQqUqVBAT+uqW6LpJUuQ1tIWWAUIWGfWLqYl4WSNelbVcm4KmV20xr6AljSBgNODjmUq3JxhYFPl0mmzSbaiDEVKWQxhuMGMNXRBstsKUrFUqbCpdFV2zUqux6AIeiEigtpCjieq6S6VmcrLGi/WxsGcxbYWFbJNsBaw/blumrG4i63froAVu2H0S5lKNsvaExGKq6XsnK6rYoafl73efOOy+JM6fZfseXfCYtGbUucqO0MEtyZVRxJxYwhlCqZyn+jj/xmJU7WIg6M+TEFNRTMuMTAwqqqqqqqqqqqqqqqqqqqqqqqqqqqqqqqqqqqqqqqqqqqqqqqqqqqqqqqqqqqqqqqqqqqqqqqqqqqqqqqqqqqqqqqqqqqqqqokthuNpNOOROJx1TVUTy3INDjuaEeBm8oGIQmY+EoQJzURUMvhVVMVACGhfQ1pEAM1SgEcdNijWC9BtJlGmBIZLINmlvaTMbm8j5G7DsQkcyqJzHwIvzVT7rKEFELGvIqGTWWcJT5n4DGPT2afMb/Z7lsqi4YCGYtfTDaKqczoSjJRSMmB4xQFFyGFghYw5uzNX0z20Ymq+s1tV5hsKGQioZSEQcfzFxcM0DIzSKa1//PkxK9grDpKXZzgArlfd2N1uX595pI7jaQ+/DsCMIBAQMRhUw+NzI4pMNmcz2XTFYDMronWXea/f5/vmd+f3X+pOSz6nDIYXAACMch8BBtWNgBKBTEIPMlBokA4CEY6Df3f3/e7/ff1+895c5/81Y5r991ow2HwMLzAwIMGAwWABkgdBA4WHBIbMXjUxCATBobAQvYYAAMCgJ3W9483+8uf/Py/u+c7U5SWKfPW/1j+FjO/vHfceUINBphEDtTVuMDAB5TEAkMPAReaAEwmIzE4NEhKAgnACG7PEfED45DlTEFNRVVVVQQIIAEDDQBjEsaxoHjEALzA0BBQHzBAqTLYkiqJZ3gJxmjOJyTFpi0NphAAYKDEwVGkxbGozsg4SEMwxEUKgCdapyYdgkEB2fxawAjtMdB7MaRtMKQMEYKLKMhwzBxfNlLMGMAdCwHqxEIFgQAzBkHgwEjDMAAqBpgEAQhAstUSgKu1lqwsGIUUJheCSPJhQCJhcCJMEgNBACAGhsYBgkirAilNIk1HIMWrTAQBUNE8IkBQOYaCAAWWqsRAIuxZK+ITJmfOY2SA25sYd0vIjGgqlOqsxMwEAdQBdIsAoCBKIozP4W5YszIwBAYweAVwWcTUaftMsICg//PkxPhy1DpRRZ3oAL0iECVkgQASECCIAFNhUBQCACGyo4HQ4qtQFM6YZTv+yyWOU1iDhoBHBZG3y9wUCiuKha9U6/9rTTChAhBRhgXAtChd6Q7c15F+VtMNawvWWJbJ4LplDRGhpJpeqKrXV6qd4VzJztYU5AQHEIPgILkHUpS3yl5MDq7okpm1ZbacTGWemCYBIjI5M7Zcqo4StyzZOg63ZiThu6jiqyRxC2+b9LmZe2zDn6pJ+AJU/UxHYBbO90ck8asRaCVuJqvxKwqB7tyhlDm00PamG0ezu5LMXnVVTEFNRTMuMTAwVVVVVVVVVVVVVVVVVVVVVVVVVVVVVVVVVVVVVVVVVVVVVVVVVVVVVVVVVVVVVVVVVVVVVVVVVVVVVVVVVVVVVVVVVVVVyAABL9+SlswcQTBg8Mcghhy5zAQJBgBFgqoGb+vxrscGEQEmE8ywwVAAOGQYJjIY6O44kzsRTBALCwDj6v0ql5S0waI9odoMDRt0oUpJFJloEbBg00wg0hEFES244AICREMN6eOvpQNcVmKiSxFMa6aAB+nqWGkGp8NyMUCAQ4MQmlUGFKGY7EzcZAKmhb9tBSGW2ChZwRpMUWGQe1+dPFJ9KCXbpLsEx11mLGMTDVd7//PkxLFhPDpyXdzQAmIXofo5x+nmHQ7+TUjo2kQWwBB0EGQY2fxgrlsQX0/jUXUZC2ziPdKGzv468bgMGjlm2YpLX8i8sjaxB4Q50GQ3AEF/JKBpDT5iUw85LXptVVSbgs2fB2nha2kjDLG2Jy1qa9HjquGkVOpfNjXy60zHmoQ7hPTsanr9+gaZKFtrCCw9/4lCsmfLEZQXNMAMUJhqVzD10a+x0CkoUEnnW4yKWRFss/GAoJgegpov18FSQytRMJZqX8on4tDdNADCWOwC396SU2cXj9KyeBIf583qkj0+TEFNRUJ8qCverwFABgQCQwOQOzCCDcMaMi84kxjDCHDSMBsBUHAdAIAMaAaBIAphGClmHeQya4xDxo4mUGIGBmYDAFgQE0YHoDxgPALggHMxyynTK0A3MY0X4w/wegEAypowNHswJExYUeMDR5SPIfsUK5AEALA4GB1UkAWVBBzP1Ay56HBQMsqiK+UiomuMMcuMOU06BsKktft7J+Halm3Jbk/QR1sUPMBeV+FuO6tlOwZLpcGRMG3LA6+Y0KgjamibASy1qrDBcRQpQILmEBGRFgoYAmxj45lvZlQmiuYoQeqDzjWBNEQLimIOZR7JBCCFBBkt0DLDKqLTjD0B//PkxPtzvDo8CPazGIOPQgqcuYQDoAGACgZAqHeg4sxijBHAgABFFRwFMr44xDFaAwbXi4KqzPiLYw0jIPShHTDTIDqxYUsqa1hZYFSG4OKFFQEy9iQE4qTDlAcRYkEcaAwUESHTSLfGVUIEBwcoLd+G3GUDKoYCTDjniR9bT5C7ZCAg43FigZErMZYBmhjQoCXTXQaX+PCjAgNJACQ10jIhKHA3pWcWXVUEQJnAqyyFqjrXy7SkH4f5VifKd4IDiUrRHbuy9abA1Pusv9abX2hPsohQQfRR6KQZLYrBTyQDTEFNRTMuMTAwVVVVVVVVVVVVVVVVVVVVVVVVVVVVVVVVVVVVVVVVVVVVVVVVVVVVVVVVVVVVVVVVVVVVVVVVVVVVVVVVVVVVVVVVVVVVVVVVVVVVVVVVVVVVVVVVVVVVVVVVVVVVVVVVVVVVVVVVVVVVVVVVVVVVVVVVVVVVVVVVVVVVVVVVVVVVVVVVVVVVhAJASl32tslwKGtwERSljjI6BKgQGwVqZjTM+eFwLj1ioorOP9blVLAy1DBkzgNQU6ibiT8Qkr3FBFDZOBrDuPxKGBhQA5CKTJZbI0TC0DVi/YOEIQCwtCQrAvAtA6jDGQu/KHI24D8FwO8hbHWR//PkxG9QtDqq/tPxmgxlT4t7Onznmb1e5wDcNBDNsj02B8kKEZIIXZanZHsZ6n3x+XYGxFuwh5umwuiC1ERHGaBI3irZyFkoOiqOXbazxWs1HEu5hqeOurOLSxuTuZgc1erm+XCgUB3k7P9hnYGw/Hr66uCRE/W5lOnIKrVRhJZ2qVUmVeokOhPlLL2fWGRdK6Cdioith4Fsb04rC+I08kOEeLGq4qhV1YrWv2eOb5Osq5YJJS/FSJy2nYc88SbaNNwdxvJW6IVM4+cZcJrkORVaDEuPw4EQl8skM6/Upo6FTEFNRTMuMTAwRzKoGiAAldFoUyTAEsDtXgBoFjfDox1AL9kQAn0WBowgUMWlTIgMOTDDjBOIGi5ghuY8GgoMNEcTRhg3wwFOblxunAF4JeCz5jEogAlcxwXpDyyJPAoJIkC3ib4hPDhAUeRRA4MLos8OR49VxEEbQwNIEIAOVACcDGKMY4yHEve1pBqLMpJUi6icS3ysEISEjDEKMIQWxFQw4xbiWQ6eWVKEx80AMmCCrgwqBv1WwJOS5Xmt9UxASh2ccDHGMgmkBhyEUUVLSA0UuaZASchcMaDRdBRBgEhRASZLcqHAwYElgL9DAmWJTUIRg6HREgYYaBQ1C6xZ//PkxPZyhDo8AO7yUNKwGLABBDxyCYNW5KkeoLQIvgoR6VNXcSGYIxQCKEUCQAERKha/kxQaGZpyCoFDRVUpcMUEEIQGJDs1gCyDdkczGMM9I5wQ7ZOsmhCwxjkGUQYyiFoQio01lDipaBBx0lX4MMGgSzy6EYQVis9MBdxeIGDCSRsXCOlGN5G6mCIVVh4EEZBQddoYG116GEEwheEwmE6UN2SqGpvr5LvCEstq+bDVISlStIIZJQDMDcd7V6qqp/lk1C4+ypQtFd9UCQBFHAHiY3DTN0ZECwaAiYiGWvT7TEFNRTMuMTAwVVVVVVVVVVVVVVVVVVVVVVVVVVVVVVVVVVVVVVVVVVVVuTJiiardKMZ0WGpjQhFTGSISADHCoZNTjGsQrRXRJISqIwjUjUUDqSvLAzgtWI7vMIB1UaBSB6QJKaHppmUpb4xrMyEEhjOPrhRdEGABhjOqzfgTUrTMpThFjrsBMgUCZt7kEbO0j2nL/EQoaFpRPoNCHRUbEAkhAQwAhwOAICEo2WjABNMOHlVgSiRoUn2p8hCBEAxJEBAE6lmDABBlLlfpZtKQBAwxE0xHBVhbFm6ANBV413L0YivxS9aDyumsAhgypU5KAMEFZmg+0JAIn2TAGSCw//PkxNVqJDpe9N40WIe0sixNmzgoaQCxBK4EAWXZDAEEhULV9yBi6z1bSASwJ8KCeeJReouV9XYTeYQioiYjsjUutaLElvvCopMM/i0KeSWsjZ22FvnAUQYZNwc7rUi/DzvrHnuTlU8sSA2nxBZrJ5iQJLLaUyb5OpJZD5pwkACAAoASlgVk6IitqlCYD2PKpQ9skdCPt6oesMwYQg0snsWY3ZEgZPhk6DFFUVDAjUpUSk60+jEEE4FYFM1jln0Rx0GlskECAakkyn2vXQqFL7qqt6X3CByoE+0Jb7iIEHBFTEFNRTMuMTAwVVVVe1Yjgu4yxotGDmwuICSkfVwtFdUvyqqkKXECAouIBQKcJNgJpuAJAJY0Vg4Ay6D3KMZFIo6xzKOCFgSIMNgABoQG5N0IREnASmsaE4FLDjzCCRxTKRGMAI1QgaOZCZ2pLnMXdNUAmBUZPkDWirBMKW2HgjWPTPNIMDGmsaHIGtCI3hQheI9sBIUdSEskSN00ZDCF1yA54Ahl+YsiyBrDiLUrESZclUENKJ8Q+UuFnrCrmEBRYxbVTQWItsRsNoCIDmgI0DHiopYGVnLE6n1TgV0mFQmEBSXysYqInCmiIBoIAQ4BRoVGxoECiIKsICDGllgA//PkxPNxrDpEAM4zwLyJuOOIRmCFmzJELtkqDAFwCqyPiBoqeOAGsKl8BQlDy+iaQMEZMJUvcBgR4djpKClos8EhPKpVBYMIKgpghUZgFF/HYh5gj8lgGkQWTAYOJAAAshKMkgQmBdBCohKNAskSNRcSaBhCH5huE1BvkDJagxmBmKKIgDJKICEAJiqDwoOnRPQEgYI5ZDYTROMco2PUWQQMAAjBMBSQjUKOQ4MDSGAClubpgXDEbQQUQHgJsHNAZcLQGYUWdNBk12awk2bjgiBFGywkpgNVKxACMRKBQ1daTEFNRTMuMTAwqqqqqqqqqqqqqqqqqqqqqqqqqqqqqqqqqqqqqqqqqqqqqqqqqqqIVpaotEKaSQGWDQEijliQEoJjKIBDkAkA0ajUAZGwGEoIZxA75NdCjJiY0IcMSEjFhCsxhHgoovKBl0iCCwMTLck0wcgtQs4YSpggh1Bt3m0CW5dFJVoKE46MNCDIwK6M21+W3PQaMI2YO6kCdXL1N8QtgtYkKaxmE6NoUEeerUCtQ44oIe9SGYRe2Fq0GEZgEv0LjHggoCVgxMRESIpzUQaXH1gw1RiKkUywzFTSSwXGsAjupsXFbxpbdQA1STWmdt1c5MsS0CU0aK7OQxbq//PkxNBo3DpW8N5wrAVWXPFhIUtKBBG5LzQWbiztE8QHZOuROktUx1Vcu23Vt1ZgKJV7XV3NMYohm3FXbXEmytaJpM8LHRxWkt1MVLlsQEGWVlttI0aIremCxVQR41oIl4q3tUb9EQGjCwWaPa4a7S3kPJ5LYdRfciYamGoGkzKIOR7oWGJoF6l8u6z+C1AxwC6EbUWhYK7G6NrHkuWHzSsajD6V04aViaC0lZc2gJQ6KVEMraeF4pENhWOwcxBXaiAghpioZpLJnXc93m4IHKtVMnetl3kp0VWAIEbLXlp1TEFNRTMuMTAwVVVVVVVVVVVVVVVVVVVVVVVVVVVVVVVVVVVVVVVVVVVVVVVVVVVVVVVVVVVVVVVVVVVVVVVVeHmnuJQaSWcKgZmDCAMYDwBI8AuYEAB5bgRgSmBwFUYBwMZl9pDmOCdUZyQM5lPgWmMQAqYroOZg6BWGCsBEYFQExlQG5GFesaaHbLR6kbWGakJOBjBjCIC9MTsSUeCiOGt80eUjqW6O8BgwtNj7RkMfiMyUcjFgbMkCJDoYUGhmx1GmlsacLxMNGvlm05Ybm1HFwgEDl0487iZ75q2v71sI6B063eZ63eQQDIYfiLK2HxqBqeSXa7cXFirVq0/Q//PkxMBk7Dp7FPce+M07LMoQiojOYHAa62iOpFGHizBHGPEBpOmKcjcozJcmh23EsQlWE9DAP8DUKR+CfEyCMPTkEnJOwnGxx1SbiLR7gxqtyY1VGo/vEZFQT0n5xjwRadXm8tg3GAfguZf2VnS6LZ4o+x8nIORC9RbHYlghDYrlpcqNT4XB2xz2Zi3nIxpzEdlQ1+q476srBAQpPoQTw6ryrhiX0PQh03PZ3iGIgzFZIqQIY4UPSJxJ+4ag0xDiUIeYx+DrNxIvz8V7CXJNk8RI4jnRRcEOmGomIRaIaxLCTEFNRTMuMTAwqqqqqqqqqqqqqqqqqqqqqqqqqqqqqqqqqqqqqqqqqqqqqqqqqqqqqqqqqqqqqqqqqqqqqqqqqqqqqqqqqqqqqqqqqqqqqqqqqqqqqqqqqqqqqqqqqqqqqqqqqqqqqqqqqqqqqqqqqqqqqqqqqqqqqqqqqqqqqqqqqqqqqqqqqqqqqqqqqqqqqqqqqqqqqqqqqqqqqqqqqqqqqqqqqqqqqqqqqqqqqqqqqqqqqqqqqqqqqqqqqqqqqqqqqqqq2DajcUsRqsuSw1ZsPSKK/qiMBBdFk5Twa9DM1Br9tyojDIdjmJSzJ4AzAsEi9zNWXg4JVihQDjAE//PkxDlDPDqyXO7XHr03FOIRgqqgTCZdV3jBhYEgoqTGNpZwbuCilrTOmdXtz0PMOMcE2z8ldFm6DoNPZENHqa0NwRRSWpyX1E01RWqO7jr41Lk04F5layyy+owNej9SmW4dw1yJy7L/w7v8JXKL9neNnChm31BwO13CtPc7d22RUFNas63y6uUAgk6V3HlDZygFFGks3H0nkwjKkEIJJVzZOHpKprmJhkHD9Tnmn6gkGWhW05eYmccVoLZgW169aNRXxTYS1QTVoWVQH4sPloelD1rORZtYv38Jcs/NjY8pTEFNRTMuMTAwVVVVVVVVVVXBRzOGHfeJraPAjAAuGYKD6Cw0IhsEgLhtrJgKAxhCBhgUCJgICJjW2By6tplKIwsBpgKE5gEFgXAowbAIKAXGCGCYYMQ0ZySBoGGAI4YXAChgGgAmBoByYHgLQ8AApgIgHDBxFRMwAlIwjAmjBCAqSCHgAgKAWhsrINAOGAGAmYKYhxhkA5DQIkDIrpTRFibZkFzK341o2ASQoIo3DVDSQUmiOoSdag7tvC/cewfpvDDiIzAkARgtdw4m8TEUfjCAcyDVNuYjOhIKg6C7LnJTAli5zHB8DGRiwAj6mGyu44he5ghgSuZcfGkGgYSF//PkxO5wVDpcoO+27JMDB6gi6wSCrcMSMDdw4w4OAgAjsjSpayVrLfmAmRo5OMAiwkPNmVYw4vsscvEZyQLyaY77cHUeJ3i7T6GEEbIkvQUBKOr1EAGjyu4DFJCQhYGXcPBr6ozsXX840WeZq0rftwnkgSKOSuZXSNzX1NXVVSXjFFfLqZyBhhZAABFFgwHS9lKF6sQIEQSFP7MuI7jdm3SDi7sKFtgTgVpa17uKrM7lkKajF68joYJYDLXRdFzKexd+UMY/rs5TspprdixL4jD3cJfT3NyqhvUG9VbuN+YVTEFNRTMuMTAwVVVVVVVVVVVVVVVVVVVVVVVVVVVVVVVVVVVVVVVVVVVVVVVVVVVVVVVVVVVVVVVVVVVVVVVVVVVVVVWWAGAgGAMNC6CgYJAIcowEAcSC50Q4AmHCoAGBJqhA5mAoLDoHAkG2GsyY27ABAIw3UYyPEcZBBItASluYbgOFwOMDg/BBOG6vCHbv8nQ62nAlIOFSyBhRAg4FAMeCTWdg6W9OAhhKkZ2lYmIRAL1ocUABhI2b0QJ9mFhaXTBS7xb1rhCAGPiRhCGELCC0CVc5t2WRAFQIdGojMERoa3LKeYS+dkGJmccKsm6ajErAq9E0YDNBk4sTmGN1//PkxLtjnDpyzO7zDLSaY2473ciK0UApgBiEYaFBQbHl8tPQZL0oomQ6YDBVRNU81jho11FUVKUHSyqARccbeKGXmyaSiaWpIhUDUIy7iDiYC81iw6yFFZhb7PY5bD6ORui5T9PHGJTcXq150VzOc9DbRKLyy9JbOq0afaIxCbjcmuy6JPtlNuw0WxFco04y7pQnE4MQd+BJQmjNTDrR90pM1KEVJW193pHL3KaZBUszyvWqPkugiWRexSw+99zd63KLkquV5XG56xGeNbge/LJRI4XXh2VRp36exa3ft7rKTEFNRTMuMTAwqqqqqqqqqqqqqqqqqqqqqqrwBkwwBUOBKHHALZhUFi+pVBkLgABg2MxHYMcRGMQgHAwfGAAJBUBSgPWKLrVyYEi0edmAZViKFwGBgBgUGjDwURUAJYEwGgKzB9FYMNZVE2uRsDGXA/GgthGAaBAGh0FNDgYBgAIFAoMDoFgLILmEaIGYQoD5gKgYgUBhp6EuFK+SxMAECoxIQvA4CMwAADF4OKkNLG6uAmsYKpHTjoQjrSgWXCwRR00ibGY6mky6orFo04Sv4u6YhBDDyECVxghcogj+9gWCGuNNVWQXGFs64gMeCn4V43RoNaSO4RAxgCMbyDkx//PkxOVuNDpd4O+27EDQGpchJhoZA2CAECMRHTXTo2IWJj2A5hqCdaObT4uQBZjAwYEALMd97EAL/MSaCVgA8BlARB8fhigvrXoai501AwHZPGGJtehTZlpvcvJQVt2eLwQGs8Ze7NK8ysjg1bdtqjt0cqeGfUUVG28sYahk0RhTpwOr9fjyu2vaTsWl8jjbOywCKI1aGFqLtRgPKHm3XS+cD1ImkmziGJbEXGdWRRSHZGthyLkqibHGpfYtL6g6NtPZw7ixrFWDY2rRDzvzj8Jvt0jmo3Gl8UVNNSt/7FzCcWfcNrcrUzYwYCg0DAAMAAqAMvGSw6mHoNmAIBl7wuAsAmAwDGFYXmCAiGMQumW3jnLI1mUpqmT4mmCYoFnDDIBDEAMzI85TOcGDGaBz+5fTVc+jJcKTAUBzIgTjIULQMCRhgCJiqBZiaUBmYHp3M/hrSK5i+VJg6C4cNBggBpaIwQBgWBURhSIStMnwuMPAXIgvShEQNuBawuit5DIwKMyrIEhy4S0FzsHlo0AW2IDJoF4lgFnxMYR/Q2LcI+mNBmZQhQYZcgeZ+a1ITSV0CIGl0W1KCykgY0C8o+4WVDClDHKEQCJCKghaAOB8cgyIyzRQQs2DgQUUYB6MoAbM//PkxP911DpcAO6zaELOTsK0DDqfSaBlFQOFBiAAGAIbBdMAHGOKx1MJG5QNDRX67BYZ5CIOAH+U0ZezmLvsIQC80nLoYJJgW9KEqERdCTONIwsrNsIKqEP7HoRHWdyKC3hcpC4uCFhlzrOWARbXnJl6IMKoorq6X+EABhA6MOFq+XRi3ibaPxZNDdENlAkSjahgwhViEtAU7bzpoJTmEIh6oozlVJG9H5tqFdicAskrljD9aZu1t2lN2nAkBwm7J+IUPO/zssmUbRqMUhTl3Ux4DzUDaFFXsaksmKuxHGstPeeBp2pMQU1FMy4xMDCqqqqqqqqqqqqqqqqqqqqqqqqqqqqqqqqqqqqqqqqqqqqqqqqqqqqqqqqqqqqqeBATOLYoVDPSPMpGM0oSjHoMQtMHlgzWCDAAnMNiY1KvjLZmMwgxUA4AQcJAcEy3q2yUSGh3UcLVxkS6DlQzE4AQ0ZOpGeFpgweZ0ynNap9lyaUBESEZYimbGpmJ8ZyGSgwUCUXMQOzVCMz2MOBRiUKMZEGXv6WpaYDQApxc1RtiCl1xVEzBbxlTrl/iUZuOtUv66kDNZdEvcXyU7LkpEomsVVuLhPzAT9gwpqaLFL3KmBJFQvWy2WrxLSrNm4SyECBL//PkxMNlxDpekubwzLJdUsiXhSJbV9pQnMj85SXy/pbK0MVdP0qqgBUBACQhqOxlQWZVhZEoNE5Y71epjS0EPRqmjVeHbtS1AKmKKqYra06E4ymNJkgmsvQkMkUy7CXdyrSp/n+l2qbOl59DDuTSl1S59nenspU/0MspWFSFVzHFhlBnWiM47T9RqXR1nLkrmWMzpL4tklc5TDlTNZS9ZLEWczjhONEY+5NE7UW3VfVlLWmdLDJjLGXcsMl8mEsossXiUGXckMisisgGdWrUa016epptOVMZl0ipZTGajtMOTEFNRTMuMTAwqqqqqqqqqqqqqqqqqqqqqqqqqqqqqqqqqqqqqqqqqqqqqqqqqqqqqqqqqqqqqqqqqqqqqqqqqqqqqqqqqqqqqqqqqqqqqqqqqqqqqqqqqqqqqqqqqqqqqqqqqqqqqqqqqqqqqqqqqqqqqqqqqqqqqnEJPru+///LnAIxGoHCoaoGswBg5gGrnBi4dKPjIOg4wWiW+1B92xN1EIg8swxOhBeGaqb5dhlbhMOWFooyrco4z9yneQpECihqPcExiVEJi8aPpgOzVfAgEv9yW/aswBia+Li+19KYwxLFsNCReZGoOq11JExV/2nLoTeUpn3gSqZopaDQ//PkxIZWVDpmPs4fPqGq5EcUnYFZs/LKV+onO8p3CG4W2oLvWS5bpSeLrX40+DaWD5KsA4kUgx3WqFyai6W7xJbLqsOYXSNzf94U+GJwv1cVX1gKSpGEA2Zw+/UDus1B708H5ctszbvfJGsM0gSPOV4ZRmIWBLHQiU2Jg4Gm5l5RajRJkjEO+sVOLg8kjhSpVSRJNKqO+HyZyVY1c1M7E65bx6IqnRjMcifPM8jwO9MyryuGc1tTaiiUrqG9Gwk3BkS51TJ9IH/OYKdTCyOk3E8hqawoUKWHUcuqSoumNOVqMjz8NsDLMJjGMkBKMChlMhEONbThM0DwNHmDNXxNObv/OyFFMYi8MOBwNb0OMCBQEgYIg8MZATMIQhMUwEMtjzNGE3NOjHMNiyMIBaMaTXJgPMST9AhPGdY2GBoFGEghmNQ5mD4LGVJKGVxIBhLGMIuGAgAGKg0mKIbGocSGpKrGoJMGCIriMJDIcbDF8NgECyKA8FQoEZakGgoFQULAEmEINsUAwYM4AwcjwMLNAgHp1DQDkwLhAJmAIFCQABgaGBQFA4GC+7buamKrG/D2LUXnH0jgaBxgiAwsDYWAdaQKABONrrK05Q4A3rqysvgr5j77r9Q9aIXxWJDaq7gl//PkxP94JDngAV3oAAAKl6i0JAICw2WrZ0FAAQTiQBo8LPRPbEiCzr7rmQM2qA9qKmiizB1YWWyddrAMVejgCA4CgSATimBYAK8DABQ9aANAcMgIpuosr5d0bRkSpTGWEZ+xOApI4uKljT1NIvJk6l3pctyUNxVvU+mhLnnJgHT8ZejnGFVVhl8Pa9bMHWTkdhTdhyUjlMLYe9ijaQC2FSF23HWkyBrynCma91kI5rGeNpK1GHM8dVFF/3HUAjLIWvISYfaM/z9yRsqj02saq7aeqpWOLVY43aA23fZUj9xp/U7FBW5qkelobaJYMvoZjDjBTQCSijgAg4xsMDMl0MeHsRpsOCIOJBj4TGOmCbiDZh0pmMUKYgAS4DHpjMQg8zyLB47mABAOEJs3kJMOAjViw0+nP34TqU1jYCA1XGPh5gQ2ZSImDhBkh8dVJnk7ZsZOftGKna+YSAsuYIDjUxMONYLDGxQmNQEZmMD4BJAuHGJhyAwQgoQFl80T0RzFQEiQQaIBwkNAJIFJFEhmu8KgAKAwABOXA9iSMQnEBii61i0Y0GGRl6M5jKHB6qDnIvmCBhlgcADtTte7iXbbTMJZFDKysWBgqC2mrQSXESPBRKbixA54MLBkAreo/JPC//PkxPFxzDpVlZzYAMQig83BaiDimkCIAGmXkFHsjaRAQhAgRLJmBhIUAygMTUHiEDCYKEDJAIxULAKeDhsxMLS2TrdsoBkkQaCDwnFBQGflp7aNLafG8+upAcDzkfh+vLyoImDBAODS9peZ7WJvIoujSwZ80FVpKUtsGG6jacDB0PyIVpZBI5S12/ROhJHZ9xKW21ydtw5ScWI/rT7MNz8ti9hpkzF3TUzUETMR7eOELBu0s1k4oDp2NJlDOFBU0FK1b1SqMs3QgS2hDgOC+7gDQA09qMgdW9SOBFpPBiaCtk9VTEFNRTMuMTAwVVVVVVVVVVVVVVVVVVVVVVVaYoSMNGNRzbDgeMSgQiFZMNTBIuRDEQGDAwBA6EAow2BjZ51MQCcy8MShku6RA4VBRgARmOBmZSJpjIlG1coRokdMBn4SmCgMAg1zQsDjQMmUY+eCpGdRVGqGRpDkHbgyHmSiAEE1LY0BhtM0yocGghA2JNiXJGJRPvAnKQCA00CwohlBbGcmDLCqbInDwcr9KtuMH0WoeZazlfMoVjV4ypw2JVFy1Ym65a8oA4iFA4woDVygyqFd6DzDi+C71LC/CH6ApMwQADQjAAIwYQBoyHFwUARCFw0hyBQkIAgMNWZg//PkxOJtTDp+/9zYAJASgGSvVojokDPy57xsFYMvtf0NNPZSwBrrfxSSXkv2KvBKEAiUC5nZFQFhwjDWkjwGNC62GYAYEAwO3JMSGYDa4YWAKJKbiALJgYWBC1LXVNYeUlLltxGVr8Wso+0Ng6p2qrvfyGnQuvQ1BpTQGWtQdRWAVA0BBhIyOBBjwgAQMmNgCFwdL3cV+HCQ6Bqibkw+Ns1eZYCD30WJJkK07CIHSBisgaw7UrX6xFxpS3Kai7T41XjMvht6pQ/zV7FHOPFD7pMivu0jyiBFW6F6F7U8OwKqTEFNRTMuMTAwqqqqqqqqqqqqqqqqqqqqqqqqqqqqqqqqqqqqqqqqqqqqqqqqqqqqqqqqqqqqqqqqqqqqqqqqqnkgdHgASplhIYAPIvkJGFKDYTOAmAYAGOtpiTQRw5i6uIBcZGiY6YYhoYAFL4M7czt+k9I5MxRghaMWADFhYwgQMKJgMXGaFBpxOY+eHWLb3GhR5kQQ4qswEBhUICAQIFTERMRoAYigIbSBjbIS4D6IoFri4YhkEVZAkQGLga1L6Z515siTnCwAkWFFlfS2TVIstNh4YGjuLCVBYFYdNFnbYVgEhXMbuakpgDCIqSqrtLQzl0XVSa4xhf7YmVqO//PkxL9ktDpuls7yXC7naisyVCB5uCA4B/0bVcDoZfhIgBTPYRCuxqmglvrOMNqKT8vjURbDPXKjGpU/LvwUxlpDbNzakjHZUAUTS2h9oqaYNEcJlKEcQiNkdPeuH15KJoLNhWfDjPY05EmibWoDb54m1jjhswh9o7iO5SyRiNSMxt6HbZ8vFIcoAaWZ5y8QgRo0GsFctozIE8HeduCpa5VJAU7G24tpNWEEM/KH3V1G4wja0gADtYXQ2jZXyiLL23fyGKsBl7xYKblshfZ/oLWvEmuF/0K2KsyQ7opunaeiTEFNRTMuMTAwqqqqqqqqqqqoAAaAlDJH9JhHcsq18soIAfMckANojtMfA9KwIbYsAkYFgEYSgKKgODBeMuEAMIk1MXBiCCiMSBDMBxYMViFMOitMuzgOUI4N1p8O8GKOVUXOil/OUTDyk8ZEjVmU0prPrnQO3mKPBn5aBAQBHJ0iibcjGpAhmJyZ6SmzrZnZYFiUxEUEQeRBxVMDEQodHGSSzYCCEY48tGUBCdDpSkAhoSYOC47Ax0EcAaQ8oqshJJCkR0MEnzJUMkdZhjtiEY3GDBRCCgCoPVA9IdMI5S25QKztFMgJRJT5a219AQUFIXQAMjlpTWLEkyKIHBCT//PkxO5whDpd4O7zCGLzoKtLQNXmgKCiAKdLtEJhykpah3QgBGj0BLZER2WFAIODXgspHlL9LUtkDRyYRgShKliIprBCQkEiUxMEUDA4oMDGQF8hRZDBho0chgtQUAT2WQyBE5irSwoC4TaOs8kARmBG/nobyiadaiK8opAq+4ssWaZG7cZY0oOzBZZZ9fdMsGzZDkDBywCqs9CCT2ax1t4GaI49iFy9wHNbrFXSiCu23WI0Eu2rBAj2O+6sNvhA0ekMplzuWYdk8acmPPBKKF9LEORN25FG4RIZp0n+lVenTEFNRTMuMTAwqqqqqqqqqqqqqqqqqqqqqqqqqqqqqqqqqqqqqqqqqqqqqqqqqqqqmjBDKIlql+CwAGDARh4KYwHjQOhNMdFTW/03xZHjB01LQ4BWwYkBGEkpnK4aiwGtoAKHm+ZaIAYFHpv+GaT4HVZwZ8n50JsmdCeYsAYBHYOE5hQCmq1CYLJ5i4BmGQICACYQFJgENiIeGXAyaFIJh0OmOhmKiAFmSrIVAohCkv8k8X3KElHhsYWMpSc1pCKWJ9FkWfq1uWjulkqBdMnTletZKaMSS2WDa2/LR3CVrR5LKvyiGkW1BKKOqGuBIyiSq6V8Eq3soV0rap+BksxY//PkxM9otDp6lt8w6MFAtxTSMcAvl+E1QXIOsPIhtVRNwhWJOLuCRqy5GMMZbk+MAP8vSMN9DMuUmu5+YaUcexZLetDZmMi5guakS9aUmOqulDil6xppjAnToGtscnmw2Gqpwum+jMmaxWmTRc5NhKKWoWKCsFuReD0bV1l4H4g2GY88UQa2pW0So0hh7gMMfaRrzftlj/RNci/FVFHGzTDSH3hDurncSSTlltZe+yk4mrbi20CJKKudxsjKWByFqTWC8kdHQN4t+CbaQ8pasgsXlQ0Z+pO60+lW66yuYIgeTEFNRTMuMTAwwBAHgKZChU4sXGADMGwpMFUXNj0eMYgvMNQHh4vsQgaYrkmZnhWZyD+YhCGkGUBCYHA0YpB0YeEAaxNgZ7z2e4U+cdNeAheMPl5OFZ7On6ZNaY8PXlXOh6kN7U+MtRYBSfmOJYmf5lmLC/GXDsmJLIGuqhGe5cGUIpoeGMYpmNInHSemFzG5iG1WGnBAqoPXjSHjFpxsAadIasoZchNCgFVMhIGKJgIwARgXML9pbl4CAxuKUCijjJNKkEAJEEhOARrNCJMVILeGDWY5winBjpWYBvgEssKl2jMDixUwKEreEYCgaG5VBVuLSmQEmIDjTvJKJklQ//PkxPZyXDpd4O6zRMeNwUFKCI9k4ZeDWAq+ZrBeExDlYgYeCy0J6XYBIWQRGQ8lUXxRHKDk7EZiEuRqmaK26CzyI3QGoYo0renKjQJAMQQOV6toaFFB3uLBIQKPDK9VJAygLhxhnj9OhDb0thXbTQI+7LnLYSgBXZHWc00QbSkfdtXYUzYc1OGm1VvAQKVrX36TOW8kkzgxwEwo41FtlpInCE8oDaewZ2aZ47KIL5LRYC4MmbjMxuGIGuS92WcztqzQyuLPS/rqrKetnMim39mX9kFyMW7OFTC9KrdWzjT1TEFNRTMuMTAwVVVVVVVVVVVVVVVVVVVVVVWB0aJ93oJQHEIrGYwFm9qgAInzAMCTB4FTA0ExGBZi2XZlEJ5hkDYsDI4BhhKFJjiUJjaYBkYk5pIdZjAJBhiK5mCeJga+h4OSJ88/YCB4z5V81GQkxLO84DSczuS4BOGZUlMYDHYBk1BiDm0ZamZyAGQZvmTR3mPRMmA5RGEAPGD4tmINHFBm0jmcbiOGh0NeBDphnyhmJmsuSJoJAgFiyMzH0q38ToX+3JzkSWloqNqoi8jhLtStJQUizDCY2QCLMInH7DCDEDU3HFFSD1r8FpAcalwQlrKBBb6CIB+0RUJ7SRAo//PkxOVuDDpYoO6zQltGcIXBHrdjATNyJzBCSVVgyRUSdZqDLxURKiZb8s8CSQhBSBdhfqZ4sqGKJUQ2BhESUbEYGfsnVawxFdEZUwWFDhmUlqy5jlLmDhYu0lJ5kiuShIUDddQUVDiql6wb1xlsz0KwRFrbbxGVsPd1pbO05ZDGGZuu3qQzD1K1HlU2PIIwwFKSHlB1jxqLkoqjBEMlY8zAHVcMLhEQTNGUPC5zK3Bl7rPxuJwz+UYfy5eiks1It73E5b89Ja+6zTHdlGVenbpLXSo5qewnrf4VrlJ272+qTEFNRTMuMTAwqqqqqqqqqqqqqqqqqqqqqqqqqqqqqqqqqqqqqqqqqqqqqqqqqqqqqqqqqqqqqqqqqqqqqqqqqqqqqqqqqqqqqqqqqqqqqqqqqqqqqqqqqqqqqqqqqqqqqqqqqqqqqqqqqqqqqqqqqqqqqqqqqqqqqqqqqqqqqqqqqqqqqqqqqqqTRlSEFS2yW3obKxpWdkhhkx5yCZ7mK6MQcPEkOGsEjS8YNWWrEX+ZejyFRumqIsqXhLks4QkJyqZKmYlZclLtDZgS+mFKQFTpEJ7LSoXiiKhiCJD5bCibWnCcJ0iAIeOInJwq1ub0gyqE/UjARN0anTZwdspl//PkxHZSZDq+/tYemhpGCqC2oE4hGiXH6SZUJ8644mJ1j5nOZhSj9O3YmJNvC6t5/E+IeoSujK1cHTHQ9xbEsOJfN00UZAL0haFMT83FGqWdWoQ/Q9iP54QVIkqC3SEY8yWkwMpWSI88xZTQRLatH6lDe2pWHDkcy+iV5aOoxGRULTk8RrG1q1eU7Qr1yXlYHoJmmyd6UhvA3WM3iIP8RciV2SttWE5DfR8vWBXw6QIbdBh21GHiD/HQzn2S8nBby3wkiuzYGcXpXM6HHKW4nKpdSoUcyuY51q6qhMjM7dxaTEFNRTMuMTAwqqqqqqqqqqqqqqqqqqqqqqqqqqqqqqqqqqqqqqqqqqqqqqqqqqqqqqqqqqqqqqqqqqqqqqqqqqqqqqqqqqqqqqqqqqqqqqqqqqqqqqqqqqqqqqqqqqqqqqqqqqqqqqqqqqqqqqqqqqqqqqqqqqqqqqqqqqqqqqqqqqqqqqqqqqqqqqqqqqqqqqqqqqqqqqqEZVXB5tZJbiUC1tS2TmGQH7VH9dNskaJHDokC/zLnbJDCZWtltcWACAaSl+lm2dJosCaM3Jqr6M6UCQvdJYaYfiJm0TJC9UPNu0eBYGJWpxQEqYlAwj9XYCqFqNYQ5QAphOB5EqIQ//PkxGdOpDay3tYeej1FzOFWjqeLtlN0ym5EL44S9LogSOjklVr+InE4nti3DiV+pmpdOcXMdcQnzAk1wTI6lysElYi4qg/Hq+riFF9bz4VUUyVGpU6xGO5MxlIcr1Q9TqdY3kNifG9iEzPS3eCrJcPnyJiqZVIclIUs9YB+o1D14/1CwK43VZEP1ibS5saHmQlDOfvT9Qkxz8KAlpoJQTYRec1IamLadRkF9a1GeKIcl5LoZPKi8nI4NT+GubK5dj6Ql0fMrOtoW4IehKFRX+lI1xn8b01SW7G0vt7Zost6TEFNRTMuMTAwqqqqqqqqqqqqqqqqqqqqqqqqqqqqqqqqqqqqqqqqqqqqqqqqqqqqqqqqqqqqqqqqqqqqqqqqqqqqqqqqqqqqqqqqqqqqqqqqqqqqqqqqqqqqqqqqqqqqqqqqqqqqqqqqqqqqqqqqqqqqqqqqqqqqqqqqibjmKW2SuV2XCTdUoNDOByMHOw4UYxeZMMYMBGgCBMkTCoNPViKPUBIyuq4UwBShopnKbQy4FGV6pmF0DPkLxL2lq1mlJFPMFC2UAYIIGk83DjhKItBgtEEtC+sGrpVKAAWKjwy8hkJS5TJIZBMy6Tui1lwWQuO+rkwyzl2HWTGWMMFl//PkxIRV7DqOPtZevsnmOk63cUTo3SJJ8qjHEyISfqGn8jkKYU6oZWoQo6XFiL8eapQlYJUrCYnQXIgwhQaokxsiZD1MR/LsqT8JEooRdjmVyPCGhgrlGiSgWRijBOlCS7HwULS9UynRs5BiRBBiCiavEfrEafc+YOmWv1XsTtihSwGZgUrhCXjqHqL85Kk5iwnqQEQoBeLk9N4eg+ziKkNE7HLRzHasNBelC6VaGnezF6gnspzxfLlxT3bVMhZLckhJKdJ/HehCCaEw0tZhlgPs4LoQexY1a0qCarnuJGVtTEFNRTMuMTAwVVVVVVVVVVVVVVVVVVVVVVVVVVVVVVVVVVVVVVVVVVVVVVVVVVVVVVVVVVVVVVVVVVVVVVVVVVVVVVVVVVVVVVVVVVVVVVVVVVVVVVVVVVVVVVVVVVVVVVXHuBZJJI5AEOSpMaIRlBA4z7YBiwYZSUCxQAfAA6jQQ6aJBiyltEL3tKkldzoAKlQFjmgKfTtAACvRwaQqygY0FZUGARl1pfhyAwZqykNBsZlMxGxZDFTax+y3KpEUGTLxa+ha5aaafKZqmJcVpkDLuut0EhPInLDDZVAWaSuBMxwprAreWEKxwEp2uhhcNPfJl1Cw1qLleqSQ8phJ//PkxJ1cFDpdntZwSuB30oWptJdC7WDBwesAv9lCq0AtaVxA8YYKvcRIASl2NyRrdhYRnLTzMNWhkyMVh32gsMduy7aRLZE9mZr0SPg51F1rduOTQV5U/0Etkk7c3zi7i0Vd4nekrqv8ymKyZ0nmwf2isW5b8Mzl1L1jimKDtIrc0PFQFoL9JCu43dI6IoMpMsFRaizhShnK0ow66qwZJk6/E6njVUCBNNVuV88zXaJRJEadcJX0mZLKYu1mORlwrclldIvlqNPBj9dU2tQC4LHGnMti89Esn9nPl1PWlMgVTEFNRTMuMTAwVVVVVVVVVVVVVVVVVVVVVVVVVVVVVVVVVVVVVVVVVVVVVVVVVVVVVVVVVVVVVVVVVVVVVVVVVVVVVVVVVVVVVVVVVVVVVVVVVVVVVVVVVVVVVVVVVVVVVVVVVVVVVVVVVVVVVVVVVVVVVVVVVVVVVVVVVVVVaMbUqW2Sy0IQU0XoxIAqIXAY5WllZ4hmoaKGjQClRa5YzABRairNYLQQtNWwiCWpWCBg1ciMCI1tkKEh14aQSylv1QAJxIcvCyWTVX+gcPCZSGEifUAxhmTFmdJ9onMlW+bDkImYN8xpb7SRuCBlhSiGqQ21pNLo6U6uWIEyZMh4//PkxIFVNDpOPs4eng5Qpg9D3FyC+JMN05VKMGIW4/CdJ1GpOEYJuMKSWz6J2P0RUkjUSIuh+ns2vjhjlkAnBASsASgjy5Tm3KOhomqVJUa07WaI+BAQ4CPVoJ0M4YxgKJMPWVegnCUiHEzKZOEhXT5dKra6ip2rpXF9Q1gnap6R4riw7YnqdlTo3RNViEvvBhD1MZMiBgtTRNo9G5REeFSqGMM4mabRRfzlZXTttXLs5dK5RLC1KikQolKxKZXJ4cSiRLIwuKtTT1hGCXI/j2NJDhvF6fOJuk5QllbaJ2DZTEFNRTMuMTAwVVVVVVU8K7T81/MNKYYTQXiJhxDnPkKCncYhRYKaQUDw0fjDpiDEsYAHZnADggVDJVMMigGD8AmIx6NTYiJM8DUx4LzJiBNeNExSLDHhbMYD0y3AjMYqMMC0y8gOlgDP0M1sgNeFzFE0IgTGT4y4IBsea4TmLBwBGoALlCPgZMwBR2NIwPRLYLnARzRUDlL1BSq0ET1gk5FFF/ijQVRSQJBTIBWEIBlrBAyEI0l9y2IjAPXHQqPgWyIy5WKNzA11voTWZJoj248wuSuS3UtEE/Xg/ZEwvwrczgQSTIBYkkTFRMAQkRqHTl9y+Kd6m9cVYRXESWQo//PkxPFxNDnQAObxBMoBug4lAbxJgAMxKIiQEbHmPCocquwZZIeGIGNg0YCBAAB55sahKQsGEr0Kgy74CiyoGrABBGlU4VSAIl0QdiYXUNABhyWCWacAhbFXwXaMjc1DgvROhR5WWDlgC5wk8tsldGV8O3aWsDhQeb0PKqukA+zQhZaFpeVpxsUq+UFuxsoQ15TAAsupoVQiFzE2BI+tIcmdchd8CMBU3aakVJBYAYegVkT8xUaVOJEglrxZRWFrz7NuQWcZI2CERgUZmUsYUBAlUCqi0VYH7LxFsgqBW9H9TEFNRTMuMTAwVVVVVVVVVVVVVVVVVVVVVVVVVVVVVVVVVVVVVVVVVVVVVVVVVVVVVVVVVVVVVVVVVVVVVVVVVVVVVVVVVVVVVVVVVVVVVVVVVVVVVVVVVVVVVVVVVVVVVVVVVVVVVS/45JLZJI3KmFq1CJkgcLZHe+MDOWkaidQqhWTAjUHDSwMkoFBCEJMGheouYX4IAAsAAXzMTMrFbgkqZAq7HYEQSDwCmS/bIWyAJyOxhrIrtQUoTzL2qmLoLbbk0x9C2AQWHgYZCEmSkIX6V+X1QPFghc48QDCbRW1O1AMWCqGJrKDqmYGwdlsHZOM19pywSwq/lBV3wwup//PkxJha/Dohvs4fXk4W82rsL7SoYAxZ91h2MQK0xVBUSsqaUuhiKrwXSxqGrDnu0uBmysCCzdZaNBlK/XhepdSuXkQLU9Kk7WwRi+2dn7bskYw4spa1Aio35VqfqCEc3kZVdayqfr0qHJzrqTDcYSMloykvolc0BpEA3HtbE8bLW/aY0kvbK4HgiKV77Z2voUIpl9co4RiY8VcSxcJpgLH1tOK8+k2sIUfq1FUaFoeX1nVDxHITs6Wd8i1cnjLZkS7dbVyyrrGls/2ogiLft6YnRTGuFCq2ldq6RCZixsC2TEFNRTMuMTAwqqqqqqqqqqqqqqqqqqqqqqqqqqqqqqqqqqqqqqqqqqqqqqqqqqqqqqqqqqqqqqqqqqqqqqqqqqqqqqqqqqqqqqqqqqqqqqqqqqqqqqqqqqqqDkk02v/22tholgKOF2jADSIur4xIEzo0BFW7hANQotozlXQYIXkjMZkSZ8SWKYOJGYBCIOIQoQbMAmNiBLaJXgpYwclBIOF5kQDYIKKSMTPWaKnM703lMQuUumGHDtkwURGsDJjARLdt1agoVFdVcuQnSXsaQzVHFXY4YWYqJhq6mbOqkiv5JRIkuuqgqoyp4WgrCx2LpGrgRvZIw9K9rBcNy3VJ//PkxKVeHDoSXtYfFFnMkyluOsZIX4EcNAD4jgj4t46xCS+DQnHoT5IgIA6DgJyHgzApwwiFn6KNRliF3O5HhGUerB+KMzgTiKJOPcnYi5tHGsKlVnKDkJI8QRijVCBhVmeSoDkIQO45rKdEGCh5yjHczRwYBWuTwkBLzuLw+ujz9N9DiDqg7ESQpC24WElZGhd4Cmb0PGgW5IiwAZBjA5RnIA6BrErFiMxDRyEvI0gE+olY5E5G6OCeCnFpkxpcNjk5PICIaEgolWmk1Or1WcjAlUouW07lh4nCCIxQKhTVMnrc8zyzULxERqMUoc2VZDR54MVgQwYLTFB+NREEzeDDEgDMchYiRRkEthYwEQlNKl8y+iTMS7MIKI1C3zSTpNrt09SBz7dDNIQMygGDZYSMijYwWHjE53MNDAwIVlATGhIKgKNAEYyqEjC6FMamMwqIDUgsNRsc4otjQwGMSFgKlYiWxiRLmazWZ7DY8BzHIdMDIAcDojDmSVCQURljhUBLwCEhnhBlDoOFluiYOFxKMgIGI3skGARiiRomAlZMCRBR9HomTAwMCQZZ4kOGSAl5ygEz8cBAowukHTi7AKDEysz9S+VcVhh9fYQU+CMolfh2y0qfIqoBmV0WRJSm//PkxP93TDnUAOaxaHWk+tIWeD1luUBrGpGTHBhlLQCuAkHhJZtMgKbxhAytMwoU67iJqMgDyj625NyUMTATPRScBri+SyZaRPp/1gF0h3mUiyZQGICKQQhc1JxYmhXKlrjAxaL9qDIJlYmysMFhM3FAhYrdmgMucau1XyqJh7cVSqqriZM6JfFqLIGiKHP8pum4nQpilTSqMl4xhavFBX5SCe5MoDIVQS7YawsvqvuVgSYOCmo0JhLF1vvYzJbCCIRhAhYsupPpNaNDgIeZSzlZEqTjaPDatyKDSlhIBtoVqqF/1NW6Ljh1jipqSnNRpllgasTDV4ZRKgRiNIAzITAgFTGhIRi4EFyUVMNPDBSMwAOCo2VgRjgkYU6G3t5kgoaa9A+FOoDwr/C+6Y3Tm6RYM1jNSE1AYFggz8RMDHjJkc2AtMhTTnxU5+PMaIQcDGkNxi5wZLNmwrIdGGrmxkU+PKwJOzY401tEMEDDgtg0ZXM9HzGxI00JMRKjCCE2tZByoAmMMSTP20ChplJGEAhmiUApwx0NAQIPA5k6Sc+4mUi4cSipWZGGhgkcfJ0kjkAfYcY5ijHlAZNZnjmcUYvYNDEYRlGgJc4IBc0xxwEKrkyyzEmTHNYoGAmSaVQi//PkxPR39DnsDN5xqM6VHAMCGZABADWG9AlOAEAU4ECsXMc0iqQlGsuvgaaLiqFgLczjjJjMMoGkmOGhejgiqh2UOEDEaHDLno5qwDjRL7EET0u3LsR1YB5Fh0UkiIbl0qVVaazBfLIkY0XhA1s7EFrOeIxiWi8I0YOwgLS3EkIev6WUTmQwRDdJuw0cYQglSIasWAKIQBNJJrYmFDqJwVYISXwQ4MpelmKF6BTXFiwpaajjD4JKoFF1ROE5z2ZtaZU4LJl9v0/KqrAFoLxehQBm5fCeVbyEKiTnQ8WKyVaRcBn7TnfSKXonU1hjsEupEYQsiH13w43aEIaFEFAsYKAhz2QkJliKHLQMHDBSk0oRQuMsJxEAEAOYGDhwoY2yqGGRNAlcm2wZnp2HepmpuNGB/aaaoVHHw5ozwZ6smgKwocGoGAKZzPgky0rHh4dBTFRE21LMnRR7jDBMBN4ULjJikDB5hCQEAJiq6I0UkJzY5k0grN6OTd/c21AAR2Z8MBcSDF8w42ApKcSQAq9MQYgCkmyhBpyqbyJg5EBgEaCbmrl5tqqZUNGBkZyBkFB4SUDTREx5sxA4xJ4WympEgdsayobAAYAkDBAcEMwQMIfMefM0uHjRgXJE2Eg5lyAO//PkxOd4RDoAqN6zqIBgzrXhUcKGS4QhDhiky6VTIKkigQXzMsJDgYNAD24FFDWBDHmTCi0AptyZM4MiBNrBNvHBWoqszQlxGESIM4qNIgAoYoCAKWFhxvPKwKahh5jtnQEnwrYpow1uwEAWapqZQyoGLoIGMtZYGnek0nEqBRVS5FBCxMsdELaL2aVGFiw296624oIwdAECVk+l1w4yxXQVBWpPPQzmWsXZU7qmcJZAnAoY5KObkpaI4P4+iSDrpzQ6+aOD+RNnebbuAvyzLInHaKjm4beR3l2Q+/PXlgRj9Ss/jqQMmI12AXgVspGivW7i9Wds8auwNdbju1Yfh7Yttw6aOShCg5kjpq1ICvA44bCMCTZqTY8bdgx5kzRslNmeBGLJmyZiBgbMgNJjfUgNAOoWMV0NyNDU1kBK5pfkdEGnBMxowuY+tmBgoXH3oZURA4IMgcMmAi4GTgMcm0FRs5APKY4AGMEBh4+aCHIymPjQUIw6XMkIUNwqFmjnJrLCLDZlSWbKQlnTVVc00TDic2FDMyQk4iVCAgQShJjpKFTUwEOM6LA6fMWHDMAQqBpnQKFAY1RsJmwwcAAKIVQEsCRlJuFwo5sUBqmXWNWZETDaB4z9ZM/NwwjAgKAE//PkxNl4dDoRQtby3MBJipBqAjXxkDmTSHFGCLDzBzDpLkwwag46mZhpwIGrSBgyMwkMBTxkYAKg0KjRmJyDKbOZoykTUiHloEFgAACDLgEwhU3cAghVgtSITQgoqMt8apKrwEIQAEzjAEmFFx48mPV0DlFLV3Dxq24BRThwZFMcsBBpdGIY2Baz9IXIBQFOmuy152mJLl3RomBGTtvDzBEQFbE5xwMSeQbhZf9+UQGlSSKreHiWQyJAQEArlchAOwgKDBxBfdfzIVgmOISIUjwvxfCgbXM3TYi8z6KDvAiGZ4JWOjwAQy36wUMQM3j/OS8LHZSv9nCu2UMMp2npfQW47tw9ACii/JS3Ng6X645x+oIaZLoEwAAoBBSiQDJlpgEMhgYyEHBixovk2Q2NURx0uHh4SCQIBCwgZQIGDF5WcmZGRRMBdTCzcakkHYixnLmbgjmuhGgFlRSMiREAMegBzwVCmDABzExh4wqs588LBzhSC55QZMseOEvMZSMAZKogEnAInLUCR0wSg0kYx6Q4WE8CUPLnYemNKgbAad0bZiAOBoh5oUiOBmhpmS5F6QPMmyNecGShqhggTgZcYkmZ84ZAu/B035CNBKUx5VDMLPDDIDJCjZAQKgMnRNWj//PkxMp3zDod5N6y+DClgqBNgDOgwzfzHMNCgwojciMJo5U1dCUhAqBr0iTCGZSWSOJcyRTMAMQwyHlbTsiUxC9ZjzDTomkus1zTXoJiQS6toqrlWAxnjCXBIBogHqyVjAEwIhMSo+BmDjzg4ABvTODS2MkQYAAxpIayxzoLDi2RA4kOXagIigMmAAhCWs8WsTBKxWxJ4LKeihTmWY/ruqOIqoIAgsQiraRgHh2UsGDAGlqPMokSY7HnBa++8Pl92boYLEeJTBkkJWa2q8mkAQJ8E22kNwc9lGLXovTvvSwO3Fhs7NsTepMwiDNs0KHMfMEtxA59E1jVCAhFGlTsHjTOgcgrgBEJ0xhgChiOCmaZSfq/0elA2aq4h9iKwi72GutVoBRwnoWST1MjIygAJh0tiHAxeIMHRQDSmFRdIhmRgAuXdMUPSYYMOJTZDg3IaMhAjGIc99BL4mGBRyQ4ZYDKDGFjDjJuuokeZsEASyiJlHoPFGWNiFoa46jwYpWcxEMnzQujGtThwSQgZ8kQBDTEQM6MWgMXnEQU1DsxDMbpCAoaQacsWcAWZNAYZKFzAGogoKZoAB0hlSCgwWGGMbmiAgqyBBZrXRhBYAIOmaZ6aAcBgx1IoAEG/bm7igMY//PkxL1w9DokoN6zFGnBAeUURzMAzBjAY02UEtjMxFrBIWMPYgHLIPIdjVDLwLHOrAOFTkNmM0bh0ULnkwoBlBTo6KYVgXHS5QoAa4kUlYeYBptG2IF1waSaQK/TUQXIjgBsk1hcwmeGuAEUtMxhhCiJTLmU2Yi6wyUHNL7Ww08s5AblKRYmGBIeFABUBUFXWwNCarGgwkA1l50Aj/RYsqNKJ8vuuNL5cTVldO/NiIpH2IJGwe/zDXnaStpLp9X9YMlKIw0vXbQnytPZeRbBtkemaJeYsCQcdN/GVsQ3BL+PmqVpCQkBpgs2ZUkE+rjoRSmkUBeVGZ3rU85DPaGkldNFZW02K5R5m9vr+QVH3EjUowg5TEFNRVXSSkNQUqLCjRqyoxNHBNiQM2BN6uUWARIaXGhBhzYDHDCExU2gCKBgABCKRbanBnjItCu5hOGp6DpxdM8iDLBDXQ8cyCEhFoMRBiBlltLCh5inGskDBAqgCEjPaBVDKgMG9UbRrg4xQwoO7AJcHFQqOGFGMWXQQkmkKY4cDoJi8IUBVQclRMFNBypcpMweCUqSIAsima5y3ywDetkWIX1XA+AFcWzFomy6PTRC1rYC0yAImOJMTc2xRCZDJcdPNZ6YisJcAvCw//PkxMdmxDo+JtZwvEKg0GEw0Nm8WELrhcrD0xpWn0l8ulO9wEwEiCAaRg89mJdhZiPIoFaLruevJFYQjLuP6nVDsEqMI8vmshdE4gYj40hIdmAwJLRDUeg/aQzjqSfB/UhXEfhtoYctp+SBihq+002pN2R6eR5lYG5MzxduLtVjEoelxm9chWBe1mCloypHRx1txCdakupudW1D8SpH9zsQQ3eMReCV3IIwsIeCarl1hwTvAZ6MzTFphUKgCgSaUBPuX6jKSajdC7ruKrPknopZpqaqSRKbk8nqDQJ+JSrxTEFNRTMuMTAQuwPAKPhMBGJCQkkOQJKZiIUgoY2DoEUmwcDjQCDAoKiYNFjKSUxZTMeGBhPNaDzjhkyCZPdSzY0c0Ns2QYya0wIQlKiMErwtsmCAh5vi4QGNrSNIeKp0wog1IQdKFVMDiRfosmQvzHBDRkDhiTHVwKwJiRlEYHPiAmDFgMWgF6EWwSdBDUQnzKpzVBVbjCJkSkKh4oaIMBk5nCIEHjzUCkgQVNS6HAplg5rB5lTJUCLRPiIMVANgbZsLlAUpA4EWSmKMBns7CgUyGDis4hCMVULLmoaKiBhKxAQaDjSYMZJLcmuoMJHBoTRiCg1azQjCViUkQtl4//PkxPdytDokoN6y+AohDigF6CS2Vm9EAtzgdMEEYlN0EHVl3wViYSRAig0egYTA0ERrlRIEhUK5EZi96eTpAQkzAkEiO4wTcbs3QaRAxKCduYsCZBoKPS9TUFREo4DRzRRTBXWtZHhsocwoGy1G9CmBouuBHtxy4DNWZoevm3q2XijYiKmwgptG4hhcOjSReteEaY+DhYCDBmfs6Z06jhWn8ijgRWROA9F+D1qtq4CfJfp9kBzbNgKBqWcToTWSUlzVXThZepmLuuE2WYZ+1B/YTF20fdrz6RtukMQzZtydWHAAmhCKgxiIaBkQxozAoew5HkDJ6VzADAAMcDDDSkOJzFx0AwJhhkRDAXgDU3oz2PMpxjUDI70rNavQurhBwBoYxwwSFMmbHnxjBoUdGTopCnO5GJHgbWVbYFMnLIG8eK2GiJGngnfEHjnGWAGABGcBGHFGmaiWElSmIJqZAQebc4CogVoGzeGNBgwKCiRb0aeDx8oKgUiBuhRGLjCA6AlACOALCEWwIVEYQuEDQYWEkYkI2GcJEB43Sk0qQuYaDSOtAdOGnAYOBA0AgPhNBcABhZQESB6BMYZ/JzrBzYmgGUGjKdYxhiGiUDkzYRAyRCoCAhRcQ7hgZCaXdMYk//PkxP90pDogAN6zFP40QomkyFBgVwAHBC2b9ZoNghI64T3GCqxYMDRAKkTRAnAvScQ5GUARDWHTzSRC0rBzKELnAYEErpLI8IvmwYBiwESW6MMA7A32XUthU7KxIkZAsorqDNFcpS9AWAkF6ESTvMNTRVCUBEoC+CzTG4Da88qypK19f7OFzoqNwTmY0+COSRRVDSQKoTgBw6Wa7kXVbUoF2sNddz1gHXilp4GSwwusmASzgZXSYrIWwrXZhDtmKQiTxKNNfcd/4tAMTissdGo1tkcrmICcODJuTOfKWSWFTEFNRTMuMTAwVVVVVVVVVVVVVVVVVVVVVVVVVVVVVVVVVVVVVVVVVVVVVVVVVVVVVVVVVVVVVVVVVVVVVVVVVVVVVVVVVVVVVVVVVVVVVVVVVVVVVVVVVVVVVVVVVVVVVVVuNqZK5KTg0hRkEuDNHsyAY6TAeSMJkmDhlyUOlAFoNsPVUTVIdxCCplOZhmg4KoeSCyydo8ICQBLwj6QjF1zOjDRiA/aG99nzLWXF/kNJUsGA5JmopDwkNUbIKXNJ0/EoGfOyzSAkBIRpAMgU46e7oF+05hU7WBxagwhQnkXYTzKAW1hE1XyQGigC4rZlMIMd9hCDb6JyRpkV5fTK//PkxJ1cDDpaNsPxxjxTwv3A3i+h0KwR4mxhqgqzRBQkiEJLmSE+zuOYyjSYxtkqTxdUuS15UQWYqyTRlRpcL7QGqGqHjz4qDgqkQfclmi8meslclOVYVyXNQVR/YkzYAiBxrbcE6VKF7R9+ZhyotbkkbsymYfRxk6pa16BoKd5rEZt00nizwUTVELU90el3sgVOocm/AumUvyDjuS4U9IH+bBnAnKlHAGE240vfPlaNO8qisCwVG5nal7OaGgTjgJLhU0ARZWyUuizqK0s4924RMLlaa06NReaj0lhmKwAqTEFNRTMuMTAwqqoQAkEZCaAmDiGBApa5FdoxzqGwEDigoCYwRdUZONFs43jrlByDIjmIkkYvHpkMoGcBIYHIR3VPmsE8BpOCDqZwDqfAsLDD4SMcg4BEMiBpj4XGDBeYLIYwLTG4yM3I8w6PQSMDHo1FjkZ6DBmsgghGGJxSMj4wsHxCChoCGBAGEBosgXWCxKE56nkB7RfVZzHDHFTFSFWehyrFnQsUYIwBEASCCyaA8UMjMlArQRYhgxYs8VFBGmbjoPELBZFGdcBfMYHM4woWNesK9LwIlk9zCHEQpjgNjAVYYDgWGB8kAJjhYG3P4AMLXuB2ibwLJhDR2irQ//PkxPRx9DogpM8ytBoEv0UFm48BXDQRMK8smkaac4IgDgzSWBiBjkhRwTLBwwXCDxlVwyYHJhQgFCHucqEGqipyY4UEIIgYeukibMYEUVBiaZjC1gQSAFigVDHUKnvHiZpI9jzI2uNDUqhxhSGAMARtQGiTICKZSoKj0y9ItQgSDVKhwSMZq3VIcHAoBU6GVloUMUqX2hp2Hxbk/byuw8bL4An5NHH8c58cNUdaegaBZG1lqLgKDp2sBcKIrRp2DrWf9OangBp0O25qMxRnzzM/hyhjVNJn+jcNQG/F6dh+TEFNRTMuMTAwqqqqqqqqqqqqqqqqqqqqqqqqqqqqqqqqqqqqqqqqqqqqqqqqqqqqqqqqqqqqqqqqqqqqqqqqqqqqqqqqqqqqqqqqqpJI4mcjbcuBBNN8ogoXGNOhghAiTdAYTGQqVIZNAA8yEJPcxCzoDAII6cLAgogyJWKp8lYQVaStOqcFSCJdGdkb8wA0JsbCoZZMFlBVolg0OMYjC8W8+qEZ+yDoPYRGVpZe6z5oCUNDKhL5WEwiLlibhCQqjLcyh40Jtptm5plPywJSTQkvE6mJQ5df8iLHpEzxYFmrBGVJziMSQ1Kjc09IVwmDt2lz9ULlPsXPWBa4minY//PkxLNhjDpiPtZwjqbFnaxEdKlaUTXC1p3WuoPG8RtYshPVar8qHKnSRXpATNk20jkAbJWwpEt2jC1UiYw4DW5U3FRJfzZVLoU+76MGZEuZYdkzpLC21RSGikT7utGUtXNR6Z0kU8L2uS19VReygTCXypKXFAMvVv1BrTztqg6FpoGOu640Ff6Oy2VyIWp6tQR5d2dfqVLZa6sG1RPVukhbPEH/aG6sEq8jKy4LYAXba4l6psl6u1B2Qw4+DitdYE4csRDRxa84cPuLBLqNbT5hDWn3fZd0BMvfSgf6NwDVTEFNRTMuMTAwVVVVVVVVVVVVVVVVVVVVVVVVVVVVVVUGBcACoIS4RBJIB31Z4CQ00JWJgAJpARizJkGJqxiIoMKG/YGXwGPoGJAmQzGYyEplcFmqzyZWQRi0mmHWOabcJ/gLnDXwdXmBnFFGDRsYLDxjl6GBTyAgWFgyYnPxw0uGKwgFj4sKYVFpgYCNbMRjlBhMUvwDBOLDFaRhEALANSkEHqjQ1AZUUkQq5o6F3lrU7m7LFnAKZCUj8YnjxUqlLAUFMtt2fF5Eti3StxbYOs1uiQItInIuWRNTy1owaJK+b8S8CgomtzImGNwVoitCkVgaQFCRrWgOsBYyyoQF//PkxN9stDoJVtcwtAfIRGthhcsO7iZgkg5kGUEBAol0DMQgIJmJpvAm+dkl4i6w64QFcd/E5i3yg1530cWA9ARVptibA56805SaCeSklh2cq5tTQOyhisl2Fjr2Q2ft/HiUyVM/bC1zjBjOQMkHNXG2qlhRpaaYqrYKYi+r6NfYa67jrAl7Yi+anllKXJgtxgRLVgtxrytLDS6ydT8TEgalGaXKG2urCxSTrTL6o0qSgpXZd1T61kJaalSNNaZVtF1WFu7iqtexprOXHU6gRmKA5xWsv6mLPPqkK+02kqyBTEFNRTMuMTAwVVVVVVVVVVVVVVVVVVVVVVVVVVVVVVVVVVVVVVVVVVVVVVVVVVVVVVVVVVVVVVVVVVVVVVVVVXJVg3+SS7nyKmcCmvLGbQG/fGPNF7zSKzQCy4CRZpxBkyxr2QKNGmXmKCBgEGCzLCV2g4yZ+4eXge+wc8UCiIycDUP7ABkmgacHUy/4CUTN1RJKCI3mLjAlh1AidLIOYEaUGEBd5cqRSIyJzCZ1lJdcIDKYeREYYgCNbATIa8pdEE0UMS/y7XAh9bACki+gNBCYeqvrJEtS/KsK2WOwGWtT2X26qhyKTLnoVVlTEXCbulazJ32uyeIRoQHZYFzB//PkxL9kjDoaHtawGAYvqng7CnbesDTBfRKovkDWGwaNixy5q/FYn3BgVYVLlyoSUAIBAlOkSXJUghJSpAAwAFlsykK014VBnrdWQNxXTDKYKpqzwoKlwVYUJTXkFkqpY11E1tVSuFuHXJelMVrKuXKbLIEwnrh92mzylyGPOa4TOXnfVTeHVNS3LHG5LqkivnYjzPpU3FbL8xh+mAuo19YV8lltEe55pZGI1L2kl9U6XxgKEJFOs3pQB54cR4Zm4jKJemmvaIoB59ARE2b2Vnu8qVW90VmT80p5XToK2wQqTEFNRTMuMTAwqqqqqqqqqqqqqqoJDSmmjVJEzIEPzLEUDIsODAICjAAaTBcGQ4TAcmKCYdMMcxNwjEBQyocOYlQaBQRCGMo5JUwPLGIeHvaAJcZE4ZAGbgiRGAQGAAAMHmCFmCAjhYGGxJyBhplCoOmjSAxJJVZaRhjJmAgEDiJ405SxCcWFCCcLKqSbpvCsUw7OIGBpwFmkqBGl3VtEBjJZu4kodGkmBtuAY0rcRyB0BgZYSwt0CiKaTGhQYSQHBFAK3oml+wsRqqkVD19DwRYYKALcAqHnTTTmacREIohYwAILGSIQuCAAIYqMKpHiMYGRI9lwl4rvch9RL4c1//PkxOtvtDnQKO6wXCmLtI8J2MsGBCgWEk1qcvKmenooOUWUwcUBEfdEZeEiYvGk4i2alaPqPoCPERYClKGEysCSEh8sLR/IrhkmDRcLyJbsiBgFjk/CaBQMtMZlpjMVSEEIC+76ILByBEQECRZbgGWUsf4eIQuLfpCoNhCgYFWxD8wWLxuCFyg7wQhQEokt0SuW1Q1LVGw6V5AAuStqnHFO8FkGf6eyvl1ID4imFL0BYgIEBRnd1bq0VDI+dCi2jIwxhXgoUmKqqYglvjUIrKugvwHHTQT7QmNxESFBplPCTEFNRTMuMTAwqqqqqqqqqqqqqqqqqqqqqqqqqqqqqqqqqqqqqqqqqqqqqqoEa7qoU2l/OFIQGDGAn5h46CgQwALM2ECIkAAYChVQdgwcFSEMA0+UJSOcueYFB6poPDDZQEWChCQyBF1IKozgYBjyY0sVQDGmJSIUqE/IgAKZb0e4FUASCBzzmWq2x66RoPevdNxOUzrLCQEs0jEjG4gAMPULJAEpUmcDMtL7Kppwk+kSwQBVQvKyZDVDVCgQGC4S04GckioOZhJZBESqYZOWHgabGAgTPGXp5OGRXDiIhhhAU8UcWAFlDMdp4EKaXs6LnhUA0RAGW7ACkVWyKxmW//PkxNNpvDnc9VvAACnim6iYIhNBYeuRDYU6nkZ0FtkdEHBAFW8wyAIAcJyHxHsogKwobjIoYYUhMe8mOl3CE4hwQUCFxquaQXNn0t4bmHld5eDdWJtLeIvm0SCWeJWFy24Iht0VXVsCArGWyw9aReJyky2dMbTuRgRBWGFpqZK4AAiYgYgqlBo0Nn8Q8ZoFBpSsDWs6ywCQjQUKEhHNSxVEobJEArrIzzCg6QLCVUWPMDXwrGJAYuierpxnifSRu8gojolYmOi86S9Iaa4zVszAUV2KqKrNUoLmkhU4lV5FTEFNRTMuMTAwVVVVVVVVVVVVVVVVVVVVVZe600243bbdba1kD5FA3EpO0MhUYNcRyhCFEsygRMBDizxqB6pBFdlCiQYBCwkXEVmTfWwWTGw61iIuBAyQw0qHSIUGPgSjR4+2FQJOFDuZUCZAs1FH8EhTIFDAD4MhMURCS/KgEzocLkwCDTuAIIwooxo8xpQtsasWHAAcECAZeI1BZmACHmgEE3YiBGuClzgh+mEJBjAGWqmCYhhAwKFmI4HMEPITZEWFmgIHHEAHBOnAKmBAGcZmVSmITFvTGByJSYgaDRihZiwo4xYQFhBe0AEAcZJn6fDMTRiTACiAiAHJUEtg//PkxOZuVDn5vZvQADJKjEkzLmBQUmUnctdFFZD+QPYbioGtV/m5gUmveZompBg5CGYh6nRCKAIYYEmTqtPQqAgsQg2CCQkVEKzNyVRfGupm8q1WsypHFstJDTEVVVmLjeeGbDFV7tyDgLT0HoxBUBPqYUHJVLizCWzU13GBAOuk5TgYsXvQTJDDA181YWYNHUPzXK6EtdxN2ZgZwXGfOqwyggJcrGHUcl1xIO2OHGvzK73axlKq0vpFcQ46HzbF551oq+yUytamzRFC0TpU2ita/IeppiBHHh6QPg/TY3LVTEFNRTMuMTAwVVVVVVVVVVVVVVVVVVVVVVVVVVVVVVVVVVVVVVVVVVVVVVVVVVVVVVVVVVVVVVVVVVVVVVVVVVVVVVVVVVVVVVVVVVVVVVVVVVVVVVVVVVVVVVVVVVVVVVVVVVVVVVVVVVVVVVVVkMpmdqsFb1NitVikbadWHwaLmUl6MhjhZQwgBR5nikYQBGKBlPmck6GcBBlAajLAjbv2Y4oGqGQcSGdQRwioaMnPY+lE7B27+aOSmShZlAAZuHmKg6B6EEsl7J6eJhQEMQBDQy0xkNEgM0FCNVBDFCoxIWQaajLoEcNTNf5hgAKgIGDwMSF5AUIKxwDAhdtZ//PkxJBZBDpyX5vYAtI+P+/alj8WZhb7lv2WfL1tSbQtWjerWxF+qdxHIdxx5fP4w/D7XMLj6NNdVXaG7Hml3ItGJDB7TH0pXmfyMWpZFJ/LVPnqH2Jtuj4oIsxFNicPvJM13AhyTtLaWwdESbm38gypG4bkcCc+WRict9/Onp4xYcR5GnvfA064b95QJLZ+PUj7v23Ou7Cgkhp4u6Tdl6QJAy53H7Qc7/577h//rmefcMMNYYS6Bd51qSWP/bvv5FL0/hYzl9Hz+u+uhrj8SLWD9u3ZcCCHYdidm53Kpav9ICsAVQGQmF1BULjdtVwKG5gaCwAFYFAMYbl8akDQLDgYJhwQAsMAYYVi0EBEYHiSYRBUZEneYbkUcBJAaAFoZaGkYdnEZMjSdPKJ2ziGZAQZaBRl46GUzUZhJJi8qhYHkJyMbDA2oUjWsZN/hkxcMgidGKUIFD+Qscy0UjGorQ1MKDowWI0OQkVioIAYFiYDGMhAKAgyQBDBAbEhiYHAhjgaDIFMSgoCgYwoCQSJDBgIAR1TeRCBIuBxQMLhARgFeoOAhhERp7BYDIzGAgMvoSCisgsBQuCxYBBcC0sXTDhUmeJuEMS+WRpyX0Za3ZhbUkv3HQssryWkVQAOgAIA//PkxP93/Do8o93gAOOBJnJgABiIAov1VKXJUAEgSDgW6SJze0JdcMB6KKw6YSIaA9GtIZDs2JlzaPa4KiDFIo8EhhxtHagp2LU49dK29A0xkT4qqpaqYytJJ2Xulyvm0flgT8p1rCgAAIBRwEDIFXWgTXQm6WXLLpzw8txd8SfVrjzMjWkugaAzmQ+5qZw6CgCAhCFB4aqLw9HEnwUD3Tlyx6hddocMTypVjCoGi0wMAJXqfqw6m68xwFtdKwCRAxpqsKNaRTFW1gBFZ/KCD05YHHgI5r4rIZel8TAmoxFtlolUCObtAevVbim7pExBTUUzLjEwMKqqqqqqqqqqqqqqqqqqqqqqqqqqqqqqqqqqqqqqqqqqqqqqqqqqqqqqqqqqqqqqqqqqqqqqqqqqqqqqqqqqPyRUnJK3AYAwICEz4CRdMSL04yVy8CIjJjAho6crAE2cusGQCZMAmTl50rCPAiQAYEGFmZi6sbcQGOBRdZAkygGbHkRCagtMceBIm+Bzi5EZAolpprrZcAQmOJwUsOWylS9mpyUhSkMzRKQwgAWG5I88eIhMgMjzltIdI1LEpjVF4pVGNDOVdqCNUQdRRCILrDEy0CoLXNYEkNIvprEw3IZDFYMhjF0LkVYm//PkxKxf5DqGPubwUrWnH7cly09iYC70ymsvQj+segehf9I1liyEiD2oobMkZepQ+0TaK8CIai6lDKWEMiGgJFBcYKFDEcizwoOOezl91Rv61xmL6z0Kh54YdfN8FFWYJixeLwDEK7g0U29d3cNP1HXBX4+ihkLkCi0bmFBmlw8+05NwiG5c/9Z3YclMLqVWcTUOFQan1NXgf9wWtP2sLDTM4DSoXotaLRegZynWuF+35DCrrTKYi09NgMxALaIjtiXS1yTUMvmKCQxePY0dDJlztAlbot3o1V32bj2JUqu6TEFNRTMuMTAwqqqqqqqqoAcCyBbARBoYBA24y7DDwoTmUpTAcBBwBjAoBNmMDVmlZrmO4YmHhIGCYiggyTYYiDQAEgKAZjKSBnYA5gagRu2vJmMWBhoPI8ihkDSF0ozcZOKqDIgAzkpMoGBCdGugCa5gguYOtDgkQPZ3hAaS1mbpxuueYGSAFHMe0jJE80kNM2PjABky0oHFkzwMbiZQHAQzMDEBlvSCAwiTGdOARszY3MhOzESc0QXlOHI72wSGY4q1kIgCUbZI0SX0WYDUEd4qtQSASAhxgq1lXL+gVtX7jEBOdE5SzVrLAckQlziwhnriEcUJL1FowU6dbYl6//PkxPBxBDpJ7O7y8GQIYQRigotIIR4ZDVQxeigLFWbJIRRL4WAbGwVyvaqoS76rC0QycKLPqy8GCMHACjvoor3T6mH1duEve07B1J6AWetPr4PVfhm3GHuhLvNyeZg0ldpghcFuqB6ZaE9EgdML4soYcXbjThJ2tZYOgISpbCsHHWXrpa+2qwUEtafhRRoiyV/Nu8LfSEmKa7Ds6oOFw1EGpKHyB2iU1kSgwgKUuQyAJjIS16jrvM2dOXQYnAxlw1F35Zs5b9QtQG9DECMTajAUsf10Ja5DRmxtceNt2erzTEFNRTMuMTAwqqqqqqqqqqqqqqqqqqqqqqqqqqqqqqqqqqqqqqqqqqqqqqqqqqqqqqqqqqqqqqqqqqqqqqqqqqqqqqqqqqqqqqqqqqqqqqqqqqqqqqqqqqqqqqqqqqqqqqqqqqUkUYcCnu/mX8AgUYPBTPSqCBChzQJeR5jDNS2wUJJ0IBjzuMGAGniqaQU/EAzA4gvohNOjc3ImcJLKVoJEPzpMNGqKEPq84EORASEsw0ypgzJyLSazTAagyiQfMAmGTbVFNnfLKOFCi3rIWopWl22rvC01JYnEAAPCy9pzDmvM1VOw1/XJT6emPpMNIctB1ORDnEXCikIj73xK//PkxJtblDp+3uZwiJ6kboog+sjdqWzqy3DWvFX8LjKUokICWdraSKfN5EOLzQcwGrivdYJ7HbLevFLWhs5bWAoqqgYUiT1DlptffdmbWIs2rvRiGop929fv01FFY1ndxluGGNW1Ddjj9zDcZ0OG6sVSGbRrywUqa6pi/c6/Nh96jdllUEuoc5TGZCqpLJHRM6rtjUEoYu4MNuElq1+7EXbflKl1m+lz+4qBJgtzZwvouS0we0JFcd+X6HAiUlZUck9Vix1NRYkJa/EqdvHsVPPbXi/0YdaXKyNXWhDLkMfqTEFNRTMuMTCBIRLNiQUASBIFZgIhnmawd+YvIPJg2gWmAgAmYAYI5g2g7mDKrsZMI+LEQsAIVgSGAMAQZ+cZq6zmGWQZqDhhoNkI3MEHMzouDQ+/NtEIWUw8UgUCjB4WMTHM3+YDMAKMMAIWBjpGCQIMg004XDA4pMOhMhB5kgOmJ3IetNpnI2AEOryMbAUyITzEqXOtOwxoRDFQ4QoMOigxObjIZZMlCQmJphIEmAQeYTApi8ABiPMRAQEgMqBMCA4xGIlMR4XA4DP88SsCsSHKHIeacwYcEEAJsBy2nMOLxF9loDyVKy86a6kllGCyGYJGtFmxaoIAZkpVOWEN//PkxPdyxDo8oPcwvkfX8Q+R9U8yZTlpKtr8JdKfWSjynS4Uqbr8enpbBq6pO8CbzPlKUXkl1gWmQ0wFPSB2fs1dKraqSqY3S09i5hjup8glE3K8LNydldx13iYc3ZnTXGFKbQLLlPxR2HfaHHWZSlN5mzOoA0u1RV2WNLrZKnEYBpuLkT1Zkt4UOIjg6qe2KfyVyA4YSJQLfPO4TmkTAVoxHVmLqo8PmNaBUQhK7go0BFPAjaMu66oMyKJZihYyJLtAOLfVUL0SVXjKpcXaZuX9TAVjbOq1oq7mpMzfyNMyTEFNRTMuMTAwqqqqqqqqqqqqqqqqqqqqqqqqqqqqqqqqqqqqqqqqqqqqqqqqqqqqqqqqqqqqqqqqqqqqqqqqqqrAAEIAZb/ZDAhKMSh8xQCVpOqagfB7sLGNy4mcxBDubQuQxDfwAuPCEK0R4AFhpvLp3o5ogL+LiLemJcHTnE10HIi6paVJEYDmhpEFr0dWiXBAwWSF/kHlbgUIQgGRh1QSoOcCUEyjNFCBXLKVipWiEgKcuYt0ZWGIajCQyKyDxtYGGgZnKeryM8QWeaYkThInN415o6GoqAFGcZTZ0UZUoS6ydRdZWJwXATOEIDPQ8sQFmx4CahwBTlVW5qW0//PkxL5kZDpSPuawVLKYYLrAYTJl8iEAOMgmSKYm/kncFdKNq1UxWyLSQDLWRNZSARLWBokzgIkvSFkgaJbFFZTMuKXVL0xZTFK1Q5pTtuLMRppSn0xXBfudXTNVIHWLBDXvyqy1rM5m4LXWZMDLSs1mn/QktAR6RVboX+XGwV0miuZCk5lNn6biul8HfTplrhQpW1QV1YCa9Px5wV2wh/mVQfGaRcz+LuhtYVdLYlrLRciDnacZkLMEcnRf1G1MJfLXEAzBmygQoYVfTLcIai0Rh2wypl0tiU9KaWw+zvVqTEFNRTMuMTAwqqqqqqqqqqqqqqqqqqqqqqqqqqqqqqqqqqqqqqqqqqqqqqqqqqqqqqqqqqqqqigTddttBoExgSgNGAeCACQmTAYGwM8dF42n0SjI+EnMIoFQwhAEDBbBXMKQF8ABcAAD0wJQDE5QSAsYDYABgEAHGA2BKDgDB0AYwBwHAUCvklyDgDWuLoD1OGVTiaS/UwXdQ7rtChi3LX2hoDxdSMau7DPjfKNGwrB1N0gV7oOw0XaJCLbZYWqR6Lkq8a8rlE1aKYzXlTNjSJVQW+ii12GE0UvUyES1vA1CQ6MwhImq2rxNLLaUiaaYQQYIEyePsSSKf5znjiMv//PkxMhm7DoMX17AAJG1x+nHh6QshVgjbByQKoHEV00Jg6cVdL5W1EN1F6qawA5ENJhwy01OjNp68m1g0MM2z3LQlD2MRBgEF0GVtuHGXEh2NL4ZsyF2WqLUeSUx2NsjWnEoIfVy1zoSHPfdd7AFnMhfBmUAJsNJRtaUu+27Lav60mleVmLQNu6zVEJJkOCpvPt2W+2BcgMLBbowJB8dhtni+ljF85Q7z3MgkKNrMKeGWWQc0pQBx2lwy02B3G97H0hphipGONAnGNyuSP4uV0WWvlhL20XcuZ3mnSxwY49FTEFNRVVVBC/bKTjclkkclAAHjuMXOxMEwqMNLVMLA9MKuJOHlXGQcNJBKMJxCOigGMRSDMWAiMXxnByamBpKmIITlUqwAVmRCYOYTQQkwAAMQBgcNCoG8wcFBAMYuTDQwsIY8NGThpghqIhAHBhkRij4do3nXl5iowYQZhhsCjkGBJjQiZOODI6YeJmABQKDBCHhx+DpYyMsJiwSAA5RMSHzLxMECgCQgKAkQADh0yM3MILjbDII7DSScwM8MHAzDS5AIBQ4xgIM2CwgmFQkOICIGMHGFKBoWXamiY8jmthZqZGIj4aJBpAc1KIAhAKHiAHBgGxIuwiMsEpAvNDL//PkxPlzFDn1vZ3YADkqAQiBU5kNTCxFIgsARkAmYuLmOh6KDPXgVuQ9S7htVVS5LtBxAKkGwVJSsmOm9GXxQlPO/bpPO96l8nkiuXxp3mb6ZfWA2at1Xm5b7uy9rnx6USiBIhAEtYc/TXH3hxwpY1x04w7kmtMdUHY5LozKHxiblyTsobu+cjZajmX7Y0/ihMnaM4Ebf+CY/JotDTMoekzB3+sP1TPtBD1Uy65bAsER2AF8sDlbJsY9IHUtNZkkvkzqQRKHVbRxH7k7SpMvGeciH2nsUdCeX3X1OT0HWW1VTEFNRTMuMTAwVVVVVVVVVVVVVVVVVVVVVVVVVVVVVVVVVVVVVVVVVVVVVVVVVVVVVVVVVVVVVVVVVVVVVVVVVVVVVVVVVVVVVVVVVVVVVVVVVVWGZ1WXf27OxarReHw6Dwhm5mDmQgRLDy5umg8SVGECGDA6NPkQMDVhi5DJ5jBAZQGKG4AmOZpBUZNCJPfSGZpjr2eQzjDWMPEI0qx1qExqOpegABJA5iBGKjW2cGImJiJOjWUPNjXiutlhijmaeDlzSAc2Lm0WFgU9TaCS7QFKNMqUyushpi2BbRDQ3XTfbCH2mJoDSioi7MRRjj0qZyw9yXUjFM6lOBjHdngU//PkxKxf1Dqy/5nIAtv+46aau4ekqmJEOg4orI1A45jVm5dDdBjLy0bbkTBilo1roUwVgXOpvPpiSdiYqWimNDoaF3Fws4bqGBqcVI3O35+xJLt67A0MORFIisO65axYEvWW/fZggCTRXV2/EYBoKOafMvhtBchDIQgh97lRtCfJ3FrtvELkbhdJRW5ZHJ2UW7duku2UUF0SwIDhp+EwGysnLpySiZZLMGXy/rXHIikFoPgIdLNpjjw+01mb7O9SwGsSKVoAg5/3chydoKOKyy3hef+TySpZmcLNvPDl+teVTEFNRTMuMTAwVVVVVVVVVVVVVVVVVbti6gCFSkZEpgkBgYACg1MDAYzYoDvW0PlOwy2DSYtmVBQ4qioNBpiUIs2UVY67yWhVBZa4SEKKZKDxGDBKtkynZf4EAS1Fgt284MEaQn8rYgkujKqXZnkg6gKiHqCYQpcIFRxJXwkwaQoKHDAFb17CRBIKXIBxS7gMsy6CS/iYcOMbZwrDBiPhftSoLBl2ImHBKhEhCA8ZDACCaT0wEWuFQhUJCegcXsYzJoaaQ2BUygw4CPEuS6AFFGsGkLvLwu4FxlqKfRZL9IEC5TOQqUlEkSYRawxgLl/k+hRc2k4hOFqhEGpoj6FC//PkxOlvFDpuK9zIAMoZLtCoQEHJTwA2NKA0JK4ECluC6DFoowcQAERIO+BCpfUPRBxYOdNhtRoqpjwIhHBwgOBRmVvQ2YOIDUPEjA6M1BxQMLkhfwKvizRUIMEU7DQ7qCAYikUsE4IcAhaw9D5ryWSi48Ypo1xfcITNe0wVmVAaaPAIMKhoWlzWvJer1UBTQpBZQt8Akg5JfqolSqtWIDsjAZQhVirkTTkjhJpNmkGwgaXKBWfKrCMUEgoUCQpf4sBJyxh8mFpzLiLQpCtq2OBXbZIhiyVi1IoMupyWXr9VTEFNRTMuMTAwVVVVVVVVVVVVVVVVVVVVVVVVVVVVVVVVVVVVVVVVVVVVVVVVVVVVVVVVVVVVVVVVVVVVVVVVVVVVVVVVVVVVVVVVVVVVVVVVVVVVVVVVVVVVVVVVVVVVhwZ5sbd22aTxAAMSSMcTQSyMrDOkAeRry4BelDJ7DPlAxOYQqYUmBr2ZhcGSUaCLVII0AIinOF8zwXhTRRlXomYYC4PDUZmIbR+LNK2CFNACXFAApfERgFxUtF7FqkVlM1pp0to7BCmoQmyr1ORV6j4ONBApjFqwteROQBIrQt5pa9rAofWq/LEGLO3AK8lJAgFAkmkq6G3Riahy9goG//PkxJ9cxDqG/tcygM4Ws9L8QFFHdXjIWXSuWoJVQq5AQqVK5EBydVMvKemIad6ZuxJ+pmddJnTjZ6lMpqYsqWMzqeepIZezdViwWxFYVgsxPvq7vMYy/sOwFD8odqbicCynUqeGISt2WtLDKbQqUJhMbTpnZyvGY04ytuE3HbTtO9A2puWxxd1M3zWb1yPRCnUBSTR+h6HJS7MxIpI1mTQRDUad6fWFV1OO1XyjU3LB6tar7M+L7IBl3F6qjYmtJCpQM+lTvt9PQFLqPriMKa3K2urVg6YfaVNZgmDqjcX9TEFNRTMuMTAwVVVVVVVVVVVVVVVVVVVVVVVVVVVVVVVVVVVVVVVVVVVVVVVVVVVVVVVVVVVVVVVVVVXIIjjVstACaJgGEY8LhfcoA0CgWYEAIY5mYfet8BSYMDgGMCwJIgFBwNAIJTB8LjCGLDFIAzA5DBohVWFg6SAMwAHTUkrI72FgqgRMlEIxgKRwFigMZQYzlhpQZJULcTlSCCwNNwsQnCV0DNKZa8SmySpjDmRAy0FIxgtECkmiwlwpGu91UGkcX5UySGTHGuC2rqrOQCl8WxN+nSw2Qwm8Wth5OZv0JCHjNy6oIJIgpBAy9kfVBUiWWvFTKxAwlVEtau1d//PkxMRmBDpOHu8yrEIyGHugwcs4PEuY6K0meqmcJeCrkuoGxdp4kqlLXqYcyJQJL5SVlEJM1XLBZVuB1zMmcLJA50G2ja9FNZQm9UShf5mUhDB1IvMsAmXFGXSOPau3oN7lKmy00Xa62Fer0JUy5arv1EtVDUrHfTphmWtNg6u1vONNqvFtJdyfLmCMEePBBAl+y8tyHARJz0tVVgVHHUFVhYAtP8p3BE2sK0ZD1L11oyAgTLHbnCnca4PCJvKLgwxs8G3oCZmmFBLpMPbNGlgdNyqvtTzVBVhhlTo3LMD8TEFNRTMuMTAwVVVVVVVVVVVVVVVVVVVVVVVVVVVVVVVVVVVVVVVVVVVVVVVVVVVVVVVVVVVVVVVVVVVVVVVVVVVVVVVVVVVVVVVVVVVVVVVVVVVVVVVVVVVVVVVVVVVVVVVVVVVVVVVVVVVVVVVVVVXQJhrO27X5uK2ItIAHfUcRvlCqZmSORcLqw0uBSmLYCEKM7ITkCpTJubSXyd4QCpq2mPPxuX4eY3kqUZK7FYQiyCS43WlNbMTOiZBx/qq3hIICyKnKYuJiwoo9DUw0hS4wkYMcFkzZW1mYikuYWFhIDBkHSt036ksAjgmYcIA4UaXKmcOq+zIktGQObAlD//PkxI5YTDqOXtvxsskQchKgXi0G6TKGznWeNzrV7xQaXTGngKoB2KMy1UhJK15XEQd6jV5oBXg7hfVLGGmJ7LEUURFEvE/L+fLIfSFHIeTx4o3t1dAeqlrO9YJ2tE3XsHaM8niqOEpz5u60c2v75tWeSBDfxDmUKfQJ+N5gLI3TFYziYkLSSRPBVTdHyAJ6rGMEyJZA6Rw1afh6NIzp4PVVh175TLX0f+GZZDsOU1PUeRVa6wUsHGBLAQMxF68WstyLkrwqL4dKhypY05bLHdgx6H5i9eUuE9mFV9M7UQ6qTEFNRTMuMTAwqqqqqqqqqqqqqqqqqqqqqoDaBbFQAU9EkFDAqB2YDYTRivETGRc5YaBArhgbAjmCeBSYGhOYsiCYZgGYDhiY6g+b6Mke4B4Ah4bmYVCAYnBwAhAJBAMYD3PrHrNZgWMKhRFAWMKAGMAAQAAOF+jHZTzzw3TbI2zHMRTAQIDDwRjDwCACD5jSbpnSmZjiHhiKK5iiEqQYMIMgoWEBp56pns8dKJdNIwxAFitLcIRHvuWsMICGwuWZ5JpqhVA4kYAUOUEr30e2JLuUff9mjTdt3fZkZinFUEODXYxR23/gNdb1o/009AqK7dJGFlQqUn+7DQ3bi8ZZ//PkxOZudDo8rPdyeBQQrGrZDM2wN3+tfLstTgSB5e+jD5cmOkjJF8Msc5w2vuVYgepL45J60ORqEum792KMsgyIQ7JKaEQI4cQgSNvgyyEQdL3DkcYpqJSggBg63jBLqtRZy3BEF4XlLAMZTmThIBFrw6zWBnfZAwQs4nc1tBEYDpQ7bAwCCAGIhwAWJiJyNuEvBMR30oWCv5KIIcJqjoRVRpIhnxeFRtMRbAEJHBDYXTCX6QiSlDQyXjJOMJtLRxU4WnmMMreqlBzC2SpodSSZhRrBOg/tPBkUVSVjZIqOTEFNRTMuMTAwqqqqqqqqqqqqqqqqqqqqqqqqqqqqqqqqqqqqqqqqqqqqqqqqqqqqqqqqqqqqqqqqqqqqqqqqqqrgAhyPba8RBExGTBoHZwWDAiY/P5/2nmxBoco+shU0jLPAEMTIUejc1CJgDiylLEQYTCBjflg0cXIdQ6RSHVrhACmCnKHEmOwgkEJYKtCoxlnA4ocJNys9lX8A4wOKGSzWvOak4FyI1YwXOBJiEQUVNh0xg2dLBF8S9Sw4WBLKl4QYCxWXsZsoqpUompUv+0dnKzGktdcxoD+NZR5mW7LRT1VY2sInYstIw0hQkyhQUKgrOrEXMAimRBgpaFaK//PkxL5kTDpd/uayUMK3VCcXmbo3a65o8C5ixmbL/YMgmLcp6uzdbA3SAmdKbJIqelN2Nv+7UBQpsLoMqhdlfDNmtLnblBa0YbZsj1Ayobz7t60CFMPRVazVbsxl0OLtL8qYpe1nKZwzF3nQc1fi8EQqzko/NOq3IeWs90TkThtdjkkqvjDqCaEpfL3fyle1rTwu46KXqdNLBb+y24w5csOyCAlpLug8tEZpRlFiQJfJVyvFkBUARiLXboj8v5fS/hQFHxlaTqGyAZQJOZBZv4Fm3JUCLVInK6cJrUjgkv7VTEFNRTMuMTAwVVVVVVVVVVVVUGDoL+JgkQOQgiun8MYkTfhwzBVMVGzNj0IMQwGYEjKCggIAlfEIGYMCv7Gl/rRZknO+ohCQDtIhvJMdWxoi6GmqftryZC5A6CAqExAqWEak2gCQAzZhiqTEZ5hxsssmMocyRakWPlKvlyByamEveARAFAMqLoNAXgnatYKBAox+goIBBGGo3rjL9l7AaaChxQA2mkAhtvlRI6tjwQKgAY4XkARIcejeZapmhmbGdL5zumBUfnA1CgMQCGxYcBiHUywwEfFyqHAyQxak04EBBTYxzZjwYOMkeCEBf9a5gQojDJQKGFvAIMEiAMOB//PkxO1wJDpNTN50/NMMSZNCnDB6AgsouQBDGJqrJQGDBusgLLRwcARYKSNVEIExIkFCwEHTaLmgYm7LJwQIRJd9Odk9xPQw4NAe68Nl/0CBljRmhAWDGnHgwUYgMkQWkU0AgBQAwwYHE18NMWyYcSCg7Ey76HhmToKT06PataVKEQYETTMgKAwBfqAdiSgDLExGwtBLTv1Fb6j5ZNWtUjT3icBYRaJgwL9NYepr7ygUCt8QgQUHSHgZhYYES3MCDMGHJg8OUCqhdBRws4lw8DNK7lyR3I0/FBDkofVdc9KFTEFNRTMuMTAwVVVVVVVVVVVVVVVVVVVVVVVVVVVVVVVVVVVVVVVVVVVVVVVVVVVVVVVVVVVVVVVVVVVVVVVVVVVVVVV2NoWJIC3pJTYdE9U7KxIk4XFaH8nQoKHlvuhbZEjqBug9KvFywu1Cp2OE5w58OSImv9KBwRUCD3BTLpQOLKh6sRYWspy3u0ezrpNLp+Wx8rB+G+um+yJU7MxtD+KHPI4ZIlLpU5UIMDMTkWiZwUKKmATELTBfDD1N0ggSTkWDSJIUiNfUAtq0lQhDwvgROAItWlW8WUC64NfBwQxyQDnSCfJp1+nTSYCp0wnxsCkDiiOCYABgM9Es1zCI//PkxLtjrDqK9n4zoNLameEBBAoInSkUrKuxURCbDaRBclL4vwtF7jGG8cAZ8hocrbsjASlQOJAZ5VRQJkSJjnix6ogAMlQzDTEQc+b4rS0xD0yMKwHmMHNeMEpBY8aOAAwViN44tCAVwcAmCrlbYyErMDGhgMyTTHWNgJk513mKmTEjRYsoDhAMGqsWQS4UHIQXNDigEYwIui8iri0ZaQt4RCOWACxJtHJMUeXR0BgblqGAwMFDg08WOQsAKqAtujDEUk9Ex1nA0FDyjWSu6TSHJh661rtaUE63zyvuupTyTEFNRTMuMTAwqqqqqqqqoMqQ3pkj9RWYq0EZkEdeuA35o70Rj8xHnQpn8eVg8XYHFlkQxvBiK44k3N8W7SaAIs0GZZ4i+gugLQ9bRMoykkrEHRbNZSQJrDGQka3gWPRaTHKLgKSRAu8DgxostmnIoEh0boyZf5a9OgBrF9GhGoMKPGIIkIg0R8QG03AQJMGrCUhwThmy54VB1hRoCshAqQ2II5BQhamTHG3eG/DAEUYMiNBzDEDI2RNMCR5lWZIhNyIGCJkSZjiZn0ZnTgZWNOSAJ0xq4i2gwIYdSYkKYt8aAQd0oJWSQ4XZMGOMOQEIodHAAGZk2X0Q4BYeSijE//PkxPBxBDptQM6zrBgCygAsU0AVksCzECTBgAg6IQ48GGSYBOI/oKmiJqjGQJKKNYIMMDAp0QJkPzgAMQ1Yc1lBRIxoj1aMGdEMzWT/CGm0rhMk5SCoUKvmQ6CEBhc0yhpQ10TRnA0AiRbKNKhjhlkPkGEKZBKJlgLzNF8ioMlweNBYBhEnMtIAoWgLR4LBRdABBiQyhxE/BSo0ikykCSpIHagCTQqcQAmQUnOECo+A4sOchkxS3WCBUbGKJqLXKxVZS1jXWiLGTjQQKAQRCspashp8sWCXvLbLrTySLsqfTEFNRTMuMTAwqqqqqqqqqpy1fimEciLSoEmFxxCROM7rMW2pYlMUzD43AWbyvk4z/pXhwKU64omslW6fXgw+Jp/yWHlA2lq8UbTRCCWTxY1VRcUBKhE44OYSxmohzIEIHjwuSYJpf5RaCXIECMdSHDkkumSFvGdFRNcS50ZzOiHZDBzoqDAjJjHD8gBQuPmogYGYzYRUw8GBImdYCmFnJjaWZ8ZA0KLpm1ghjhAOHoOI0NyJIKwYFGAMH0oB6BNtJDOUY3EQZ0h+KowUHBlVMxFmkAgoBpKDWEyElCBkRApgIcMipiQ+YWRCMWERSRCRgY8AltywKgBy6FgULiBQ//PkxO9wjDpoAM7zqGmEccDY0OVuj5JaRaxgiAEw0TyZkqLCGUGBCRs+PAmkQACwJqGLIKhkwsuMBnxCY6wJmIBx5MDVB7wkkc9oeZA5kxEAIEPLQFyFbTBAQnCDYzRQrCbHCRRgJme8WwFEBusvsxISQUBMcV3wCMFT07zIlGRhC8Cm0OIhBUVnhGKo+WRAQiRKaRVDLogI0OucwHCIKJTDga0SqGdaigStaNLtw8xRxVgWVQ0gFgktkRCtOWxOqkEk2bJ9paISi8Mqd4UBTPTWajAzOqOy+kUls05Dyw5VTEFNRTMuMTAwVVVVVVVVVVVVVVVVVVVVVVVVVVVVVVVVVVVVVVVVVVVVVVVVVVVVVVVVVVVVVVVVVVVVVVVVVVVVVVVVVVVVVVVVVVVVVVVVVVVVVVVVVVVVVVVVVVVVVVVVVVVVVVVVVVVVVVVVVVVVVVVVVVVVVVVVVVVVVVVVVVVVVVVVVVVVVVVVVVVVVVVVVVVVVVVVVVVVVVVVaIZk2kbyK27YiAEvmASBSYG4ApgVAOGDuFWYvRRBjyqSmSQJYYDQFZcIKAAA4ANatpmgUBDhUUmAjFAIYESIIMHIjQgowVBcAhBR4PTxamRBqn2NQE/LoOwzuIU+Mua2//PkxGBM9DKy9PbYn9mfuUterbjVNTw42snYEyhS9K1xoPVZXa2mczt2jVgGyAGwfHY/gYBqbEMJUa1chFkCJPH0KRxBrcxk6LuXY7kqhBsfDs4vWbCs+MAUZmhVLLi/TlwehKH4cTpUJR8JSYqkkslYplZUYtsNPNeJKkrdB9VD64koRVH1dYuk05OVN1NzXLrLnpVQH0rtktXEq1KkMj5eekl6xeLgfeyoFyYvIJVcgS3tQnJiUvUvHNbLnty62pUPYoTExPEZVGoEdcJyM5hIr5WbcVQQmK45XY+praCtTEFNRTMuMTAwVVVVVVVVVVVVVVVVVVVVVVVVVVVVVVVVVVVVVVVVVVVVVVVVVVVVVVVVVVVVVVVVVVVVVVVVVVVVVVVVVVVVVVVVVVVVVVVVVVVVVVVVVVVVVVVVVVVVVVVVVVVVVVVVVVXSSqpxJKknCqAO4oUAMamqAoALAABBgUgHmAQBgZe6t5hug3KQCAQR0AoKgGLRKgAYBAWMJYYAy0yUQEGkEAG1XlcJXbBgoWmuXxWWNLkVRgLlP2pqYibHCGCiDzS6tKV4uVTig4NBjjxT09UxGcuiXdMTHw4LVa7MIdJ3aCNwVAhuFiVzMXZHkFIyA4BNObGiZ5JT//PkxJRaBDqOVvbe1niRgOgDqZJKkJTsCMZxni7Ig/tSk5JyehTkhAl1yhy/YuTa4o4uBEzOBzZZm4V4uQSRQn8JsXo/XFFIUELXSbL6OFeUQ+ThmUiwikcrWBVsqlQRBjiHMGEXJmRy5jUctPoKlVDVMpJk8cUGhPkLNJuNI7Y5dkuTpCi8sKhTpypV4aQDcCZBOqktyLincDmLcK6ZM4SUjoqibYauynT4LNkMmFFlitrctmmqmAvUfCSL8o1O0v1aN4plYizFhCZkJW188Vk904N4upeXCDHb2WDMoic1TEFNRTMuMTAwVVVVVVVVVVVVVVVVVVVVVVVVVVVVVVVVVVVVVVVVVVVVVVVVVVVVVVVVVVVVVVVVVVVVVVVVVVVVVVVVVVVVVVVVVVVVVVVVhBFRTcIMSckocoGAkpgwhD8FCMDggdARwHPwkCJTaCBhdU4OAI24iCMzYyPNUFh3Fm3bZ4lkYQOG6xp3qEHLK7rMXdJhwVCTMkQ0pYBYUnxTX+ddBFcsuAQqL/TXWVukBQEAg5g4CaQKhgUX9jMTrMjZ2vdNB96BW5zVN28UUAAhd0yQgcsyl6pN2USZg6jTK3EfuLOW7bK15IDAaicQNInfALlrrTmAzgVTEMQs//PkxK5ghDqO/t5xipNJfid93FhGdqPP+XYfh3GcNMVXSySIBJyLqY8Dy9PcwhXMmYhmt2ZftWNY4CGFRKhg9lgeFiEXdOXLkay/TBEgY5RRyWSyu3S87cOanL1JE4lJ5Ky7tPbhLK0iwqVdqogeZiSbaIzDwKNuKcFCvNpkOKYLCS2Yet2JMoxDE4ySHF2W33kitpb1OuVNwdSSXI/G092syKHIElEyytFcuu/615fHlh3HZmXvRHXardSvEuJ/4kxuGHcDmNGZo1evTLAK2KpjwnmZZG27u/K30a2u9i0UTEFNRTMuMTAwVVVVVVVVVVVVVVVVVVVVVVVVVVVVVVVVVVVVVVVVVVVVVVVVVVVVVVVVVVVVVVVVVVVVVVVVVVVVVVVVVVVVVVVVVVVVVVVVVVVVVVVVVVVVhBFCUsQUbccph4CpALC03J0JrIjECw04CNCGVRWK5ce44alZiKyaqVCQk12BtMNLPgFDMzzhWkcJuDpoVBGEDGMFGCABYYaA2nCYEMlGn/XwfRAYRTLLNeivbNJJEfQhxb5TZ/VevNSRtQB4oVdaS+sXdddjLU0FgV4w2s9l8/dSOT3TGS+YFfr0bttcdavckLeR5qrZAYVKgRFQCoDSJKaCg7PE//PkxKVeRDqW/t6w5slFhVGDnYdWDX/VZClys2oG7LufOGILaUxJ/lhlhnWl7NYfXozKA7EVcFgLoqNCRYq8LOXFaK4MYXZLH5fazFLjxv08tHL1yLCUl/KXwHLJPDlLKc427b7wlkTWX5yeZhbCYcfl2oCh5mbvuNKnthldMEM7QTs1chHZDN52UyRrDMEP2IjwgMdqTkNu8rFW3dMZC0Jzmj0jDW1YQoG7b9nUaC8qX9Tk3VKFyQWu5hUXZc+glAyALuJeJq3WgPbBqHyY4kQkCom2N5FN0r4s+jDYW+cTTEFNRTMuMTAwVVVVVVVVVVVVVVVVVVVVVVVVVVVVVVVVVVVVVVVVVVVVVVVVVVVVVVVVVVVVVVVVVVVVVVVVVVVVVVVVVVVVVVVVVVVVVVXXAVNnaqeyRqGFn50tkIUtE8wURApqBU0/EVEjACJBHT2maoYYS7DeJyM6MSOXxwUFgcv6WVMiQ5JoKNIElLtWMAHnKJNACwflewoUgEvMvqgaWeHTgmB7I7q8XZYiKAFrGTYtIuzcV0ATFmkGxJKtrKoGeZwmtNuX8BoCgbYFRIJV6qLl/gSJAUvaWtZYKiaylW5Y0PRt/m5IyhAVesqadB7oxd12wqawUsZkSdSl//PkxK9gxDpy/t5wSM6S5mnOEuZSpCUgs05NItkkU2eVNtQxLThMOe9kK7XVadDDlMwkqlJcVqCuok3kOvI2GTJgl2kms1fl1W2W0tVt3CVuZ1KX+XUNNWazqJLSR6dqEMNWrS2mnIpKIxm411pt2HGRL2iF6Os/Za020wdpTZ1kyCBmCxSLSx9oDYa3rP2GxlwZbFWcunlBsCvCylrrJYBkLMnUgJ4WqrFZSmKQEkQXAuxOl/BAVCGLMySBau2saTGYEmrDrmP9Kl9CFDFk33RaI2zXUCy8y5oy8byU6wcoTEFNRTMuMTAwVVVVVVVVVVVVVVVVVVVVVVVVVVVVVVVVVVVVVVVVVVVVVVVVVVVVVVVVVVVVVVVVVVVVVVVVVVVVVVVVVVVVVVVVVVVVVVVVVVVVVVVVVVVVVVVVVVVVVVVVVVVVVVVVrQl1tsjk6UKGqEF2VqhYUwCBBSaWgkVfUxc0rTgdEgDQOkVgB4pEOVpGEMrEAm2lmIck4j8GaLliYlAFtCjRY5fIviUGBLgUckJDiAMkQEFPBCuRAprZUG9q1QEiNId0JQNUJlNwggCRhdimRIuPm56V77uG6zGlL1MGmPw9sCRNuq21ssnVGjWg2u95HgY7GUaU44oy//PkxJZabDp2XM4e/lZYqyFSyGVN2/wbA2xZ6XKFNCXbPKCLAuOww0GLwX5knUggD5yLUl5thawkZbzkCQMgykcpoB/oeUaONE3pC3nWb5XoSnKClxzwW0WZScGI1GC5loLeuh8LCDRaJbS2GoS1PlsN8xxalh+PsvCHhsLKNYiUIUhKKRiMLNHDnaVUkjGdHmYJN7DnaC/u2aIagnRSSiYKUvxuKGFAaauSvNEfZln89E6CGDDU4+h0HSWIsDCaSvNTKnTJui4COknL4GYgNHkws4KdLt6wW800KE0OA1X6TEFNRTMuMTAwqqqqqqqqqqqqqqqqqqqqqqqqqqqqqqqqqqqqqqqqqqqqqqqqqqqqqqqqqqqqqqqqqqqqqqqqqqqqqqqqqqqqqqqqqqqqqqqqqqqqqqqqqqqqqqqqqqqqqqqqqqqqqqqqqqqqqqqqqqqqqqqqqqqqqqqqqqqqqqqqqqqqqqqqqqqqqqqqqqqqqtBInJE8BfRvFao2RsOEyVQeiqPZGnKejgn1tEpMg5BzLfDOOkAvFIOEr351zn6DYNMcQJguImjSe6ffpYuZATLaG/aHliTSvV5zCOD3MIKxkIQSF6nzQRSsXB6QhSjcVCPTaoZzVVmHDsOFdfmH//PkxG5QVDp2UHsxqG2ntydchtO6jRbGkcP25VnevrqLFTLhmT5IDLZXtCSysYIkksh2glJ/IhH43dl8/E4AfyUcfyzMQijZJSsPd+HnYSLfZCYgkLYTbpuXQw3Dz8SGq87KGANcd5yEHGFpX14YdCMo2Lgh9t3EjDTF4QJba+n06khVOsmNohpWIKMEfIuAvRTZnCvY66K92xs7f2G35bd7GSRJ3h5CV7GQYhvFVl4lw4cZDBbIy86OYqFBcGhDjusncjwAGoE17yORsFuOO86WyNBdRqrdXHYMuxZq94NqTEFNRaqqAFQehZiBaPig40ADF4xNJVY68rDBUgMNHkx2KBoABgRMdicdKxsJ1G5lYf0mNBwoYBUk0IA9HQ1zE8bEWCMzLrmMUGcFm/ynLTjwdpESZuuZepmV5qxLhorGMCI/pym98n9kmJoHkRGQMiTcOOGhVmQJGiTBigBTKgUILro1jwyEhupCE0Jf3qxJVrHWWiAXmYStMuAzBU7T1YHIaqqqQhoggYdSpjSeSq715sMLgKgUAbwtIoQMCGIYX8YohPZuAi0NH5CoYOTWmFQYkpcXMBIJnthiZdZx0AhgIBkCWxsGJFSVSgUKEBIEOQbLlgwRLlWCnTRctEp6//PkxPlzPDpZ4OaytJpq61B14yoFDGCEOEqWltUshAqZDJwQsGAwKaAKWBJxFKRBg5F1AKU3681ghpIt4gGKFFZkzSREqjKkGkgxGNGOAZJRcYGEmkaYhQJKgEss5wICL2iEQwQjLGAIAgMMUFjpiAvyjcQlBw4CJBIZUbAoCdSQ5dREuGUGEErkrCBDQIRFlWSrqM8QBMqCMGWQZaRWWKlhhJcFkSuyIUEoBBRojGisICTafB0xjhDRRmBlyFgEEyl5pVmuQicwZ6E70tUDVYUKlqmCUaJCDZjBp8sMSrZJTEFNRTMuMTAwVVVVVVVVVVVVVVVVVVVVVVVVVVVVVVVVVVVVVVVVVVVVVVVVVVVVVVVVVVVVVVVVVVVVVVVVVVVVVVVVVVVVVVVVVVVVVVVVVVVVVVVVVVVVVVVVVVVVVVVVVVVVVVVVVVVVVVVVVVVVVVVVVVVVVVWVZojb1vyLbRFA1S1LawRgEHpjq4Bj+PRhcA5ggBBfEYBwKiCZEuibjzscEr8Y5j+YnjEHEuYEASYUHMZ4FmdAlSbkE2Z1iAYpB8DApMvTHMhRnMuVXMPRBMdxWDDYKirBjNTEzieNwP4Uh8DQIMCCUBMCVDhxc1QfMZKjDwgChZgAkZMh//PkxIVWJDqS9O7ZEAsqkwUCgKqtEqhJgIWYeJryZm3ZRtpAMAjBgwmDUL4zF401tTNMdyn9f7Fr79oBdVp0ISDAFBESMXJwVBWAGeOiUeFZoPAhIKhohkkRSGB4sjkJaEOJSDhsEjZtaPIHj4inYkl6hofh6fDidBaC4HgkKZZYvi5/4oGlbNEi56ZOrOK6usxQZzCVs6GS84OzijBehLpsuw+3Dmjy2jhDFo+JD+JpO/x8cJTysBzB/wKluLYu/NZpcuE5MVVCpwtL2Vi138NjE8fW2mi34YvtrcW9WCPlTEGda1H6B2QCAhgYJxzwfJQWgMA4wNBAva/Jg+VZE3JhgKIKGUu2ncNAsAT7NsXkN01mMrwcEQuGAo3GBoFGfCeH+l0HjrVGRoig0fAKIphiARmqvJlaUBk4Z5m4FY0E5gUExgyA4sGJsOsppMZZmQb4OBsDBiDAtM1TrMxE+NQycAIlGNJqGRY2GFwtGeDSGgyLmgyHf1CNGa4SREQCiORqPWcBAliBtwghNAowcpkLdku0OxhgqkTBuTkiTUHVTESYBPljGc4DcA36hTgwB1e8Ogl+AsxkBLwqKLQXKAexeIDPJWDJaeoCEAkAwSOHDRRUIHigEsZOKAhPcQDk//PkxP10FDpUAO6zaIIZIiE0PQACIYQoaQngwIwQjCNM4ow3QQCOiDzQCWLNCrhsjhyxgmmACkAZkhual8jKHFiTGBSFChgtiCQyaVOgWD9prQ1iOu41AwKndt4XkYU3N5WcP5D7doAaA+YoONEJBmOAqilaKIkJQk0XJgFYzBpllsAcTWS0m2TvrOsqfWbTBgZ2GhoDhISJMBZKxBdKApUiMLY68XbZx4BiF29Vd5/aOrHZbGOX5NORmP0Lwxhuj5xR/qKMsZa090O0M7BsshqvuXQZDDOICu0N+nt15ieVTEFNRTMuMTAwVVVVVVVVVVWsAcBku38eJrqewjAkwBL42gAJm8fFAWcd3R1LzM4BzBUCTBQFwEeDKGNGEiLmX4TiIAF1oumBJGGHYGGf44H1AGjxJGD4VmAAoBwel6TF7kTLsfzFwIjCgCRoVTBECjAcNjK7IDdcaDFoQjBQBysEhgFTDMOTEaczEwqTEMADBoHDB4CDA0AhYXDRdmDUYqDUgURjoXCxITlxgucZYJhgGDRUxAGCwHOmByZFOiEBMEFAsGjIQnwYlCGngINAg4NSfWDLkmcwZtBEJGJhISMiSN7ETLCYMP0pjAAhMtdD3GlMHfjgoKHLdMpdgM+M//PkxO5whDpV5O7zaGCTBRSRJW0rARmmGGRDq4Yc3q6TlOWc1kiKQxlytpu3F/kJiElwnAaya3rD4WimkYkeKACN0xEhIUgDhiDVFjQpHiIglYiM6rMzRSYg/DvR7kcYlSXGfMGlsiaPCJ9gEKsulEwcEg4wxEGBX0bZp9G8cD6pWdS2BliXYelkCxJdENsrgaBWTLLAghhNrxzeBK9zaJIZnEpibUnahCPM7SV2+p7cMRbPc1vNkUpl0Zh2A8nkdSBKXjtUKGtyvI5iDIFmnfed5InRI6DQLuSh9bNWNrNxq1Y5NpkDIKmABnFbgGFQKGAABIAw4JiwBphESprsURiEEi+UvAuBqAYwFEMxiSgyUDwcAkFAcQBMIBmMaBTMrPxODUjMyQLMSA4Y4TEUFC/N7ASN3i+Mwg2MEQNGgbMTguM50kOl9oOPhHMmC2MwxbMMwsCBMMJBBM3kBNUxcMNgRMWQjAw1mD4imDQrmE4MGkwumQIsmIILlqAsFrEjBAUTEoSAcABg4DBg0AiI4qWmLL5tSEZgTGNEQGEAqEmCnxl60b2Em7CxmA4Z+NhhuYgZmpGZyDKa6GGPCQKPDCxkqjRloUZueGPCphoaYqMg4jMtQ32Di1M+o0AjMKMw//PkxP909DpUAO7zhGDQQsmI8TcmbkCAjEWBpBrnCGA4VwMQZwRvykgbRxEOBuDDJBI5b9D8eMlI8erDfVMzFZdIYkoXIAxBpED1ILRN4s2CxdIxwzPVB1YhJTrQ+h2o7Ds24oxVlFeG3Hnncdh1rlqx25EIbuxRyXdWLEXhanSt3Ywv2hYk8cqnYsqVsrI05JS4cgb51lBotCZSmYDykcmxvVSRpVBmz/tVitPHVV1L7OcKsV5l25fSvZR2777xuecujv71e1u7jZgGK2Zi/Zylb2Y2YrclkYcXeUvpc+v7bUxBTUUzLjEwMFVVVVVVVVVVVVVVVVVVVVVVVVVVVVVVVVVVVVVVVVVVVVVVVVVVVVVVVVVVVVVVhjMzjTIzN20aCSjoCD6eK1yIAiENG+VmChOl+QgC3ab0wqYDWw6Jg615uicYcAQsTjKNBNcikSABgQClUAGAQUYKJ5pwnHHWGVj8DCQHBRhgoZagGRD5lmaa+OhgGzp6VMDGT4zk2MZTAcwJpzGSE0yHFoHE6oIjWXMX+MJgDFLuG5ugYEmMOhEUFQtfly7VigYoMYXwUwVtiSPUhTSUNalTuypiXBUiXBL1yuJU001pfw8BlEfjSwymzcURDKdg7OYmoCmK//PkxMZmhDqa9ubxBpkAULbOCzl+C1SCwESj8CiKRVtflHVfiORkE6jmvW+z9jJAEEFXGjF/njCxSwIyzEMTOlk7UG7I/p0uEjgu+3LI/nBkVjcfl1NYob7bI0phpiwWQgVvT+DoDp0ZByIKQ9zaKQQ1VoRNWARGLIooBVa5pC5AgOm0VhNxEAZQ9pywZVAASPeyxokNl11MmBjREx1GwcBw0iwVUm28OUMQxH2JKrNilN9ueEdgWYtOC11WuONchx6mmQJel9O3F17k+80zefF+Ja6cXu2Y+y6xL4GqW7cop4xAbMFKwsARgWG5qIfJsWM5giKZCDakKdI8wYE41jb0wpCUeC57xkAEVDDUOjFpezfl1jNgdjCEFQuB4EEQgFAzVMI1v8o6JEcAgKYGAYXhJgZMDwmMAyTNMg5NESbFkHaYUA6YNg8YyicYiFSboQeaGhGY7guHBUYVAyYRh4ECGYhnQbwGeacnmYvhiYeDGEA4GBDJRs3BNOlLjlU8Ai5AEJ9mPFJiiOcJamqlhoRATBZdhbxZ40VYNdrzLlImUQMHEowXaMXFDO0wycvMINDAgVPklAQwKBBGYgOGliZhQIEAC/ZaDVDGVNIsIeAAgiEIgACpGgocd2JygGoA//PkxP92rDpUAO7zaFyCERTM4vT4RM1o0xBYxf7ESE0yCTaXCjgs6BjC+BIaiiDkzcVFSA4xmIsMkGbJBprANs7moAQ/MhkeGNMw9agrSBTBoCCWGrcSqLfNVd5pMSpVsN0eN9oNDCGPOy2OGIVBsxMynNNZfJc5YR/Iw/7uQiGX9l2EFRJAxsjCVKV0vSjinamClcnWpxBTS2nREaEZIj8ms+jfR12WWr8RSgCUwHTM7VtL1wDDFJDU2sYwgGVt0gSHn+iSkriy2bUVJZh2VOS0N7YesWKOOrKbDDG6lubcBj0blNyhmOpMQU1FMy4xMDCqqqqqqqqqqqqqqqqqqqqqqqqqqqqqqqqqqqqqqqqqqqqqqqqqqqqquAVhQFAFqR0IBphUImDQSXfDA2h6zwwKVjjIZMfJcIDSlZhMGiADAkjGRomYLBT6KiUmW1MLChCTnCTp/RSHJzMI0sEtUGlRrdQZiXkSUNGIYCAIPLSGarxh6MYuFNq0uAnjbEGCRkSOCElLVJJFEQo0saKghCPPBAxi5lhryVGXxDjDfES8VSurqZOXJFCQMMvRxoizYsBmQWZw6v0i0u7kRQxCwoAEB06zYmzaVLTUNhY0Cy1rbsRxFFhiRwiJcYuwChFj//PkxMZmTDpy9ubysKM4OBSxB0LDkxGovOl+ulMUFAsmagxFv1Fl0oflYDH2sM5jFEmMWDUBgsG6hfkIUFRkuy6SQQlMDDi7AsCnQupsDZmPP5YybR/X2jqmr8vlDMML2gp3MZXjlKZdONNazdiDd8IbXi6DdF6N3qImLeaKsLSMfeSluRuB3WishlVSichTMSaceFtYsyuA0n0IoZh+JZS262NkUZhu+7b3O4IQAHoW9ZpK6z7poiEkYEVYBQ01YGXmutE0iXet0JQ485FHQUBabF4Ll1BK4apKWLwa69FVTEFNRTMuMTAwVVVVVVVVVVVVVVVVVVVVVVVVVVVVVVVVVVVVVVVVVVVVVVVVVVVVVVVVVVVVVVVVVdUVZWFHJolnCoEa4NiFThxKhCeMCRmTQcmiGgZtPkt5OY0IgRwzUUwUlU2UxGiO3mXhPsFdPeVDrALGbcwwPMA9ZaFlaYSgwVMSqLZtBf9bSOAhEoYDtsjdh9UTEymDmEocsGjS0Vkd5ZoAAbCLmfMBQDESyGllqDlx3th9OiAEAiH5lGXfT3C7Qh5iAswvepuWjTWGgKnAxxhyZhe5aytwOAX4Z8gAVsTAVuTcCCMdcNQQtgXsL2IBAwjyNld+EymaaUwB//PkxMVmNDp+9t6wSK4iCCrl10+F8Awi9GKO6imydwFdqjg6DShxIphCUxswdypbqypuIaEBkqC6hZgFbXeW4LiM46BDNdiyZiCASAnuZ3nd5pOiu0pqRdCIF5AAYyAL4PiXrTAZuCGJwKxwQsKm6js6683bfRYRxFb3uXgpmsMy9aCpHUWHU2Q/EDC1670+0v44wNyGIEAIFYs+Kp0F5XATDlpqiguXzHSATrp4QAvpMxd4JKIEBhWtNwbMgu86XisZRZOBTNT4cuGlM0R1+ULto96fyBE9EsEiGePq1JTdTEFNRTMuMTAwVVVVVVVVVVVVVVVVVVVVVVVVVVVVVVVVVVVVVVVVVVVVpjeXhWUoZSkzJgoEQQtzcBDqOEDitAcOQNFRDxhQ6zj1dONQ0AAQonBYBDFE0zgUHRUjRaOBEEsReRy3CYiqFOaG1fJSP9VlsMPqkI3yR0YkjWoZcF3y98mQrbsxV5oVPIJlZ3mnHagtGtgigaeSFbaJ8JoEgBESrGj+XoL8hwyykom9YOq9lCZYYBIjxDaqgKUQL1l0kcR0aDkA8EmCFElSLBtjQ7gIdDx0xqNaIEEJjFGwFIj4FCQUEXXjwURMZQZHExC+h0khGAVPGhVEAw4u++zT//PkxNVqNDqLFtYyUElDBUbdCqO1lLlW5JsAEKwMQU7QwVlYONDyxcAJHCE4+mglUBjGDl6EulD1Jl13rMEskMAwAAeS4cEMvX8RRF0RG2IQzQIAxBgIBEoJUNo4HKo4GMMmkEILEbqAjjISM4xSIOXcIGOG4UmeWjDkQqOuQRKoJEOpwmgYAiANFssmmMVoAUF/4MbdUgEES5V2w6MMaZOhz0pmmMAkDeMQzXIPMMjMI4v0kCWwXYwoQjhxSci/05gUA1wGGDy6Kc8VS3+cNAYsEtNpjEEBSLLL33h1WxSxTEFNRTMuMTAwVVVVVVVVVVVVVVVVVVVVVVVVVVVVVVVVVVVVVVVVVVVVVVVVVVVVVVVVVVVVVVVVVVVVVVVVVVVVVVVVVc00oAdVg2MbjLoTbNYTm5NNNwVAcejDuS6Lw3evROmglx4+2GLvvO35zVNEntlk9dvSJ6Fyy9/X/dWAFltwU3RAf1E6WNDEiqp1BHlqAEKw+ILmWCL8rAMOLUIIX0CoGnQlkoBnYKJPGGE1A4cZ+sCw0uIX+YHTgYCIwpINRVBJUgJjgBP4BEkYljPYIwRQYVgMALAxMwwcIGmjDmDmGVQGMOAY0IBAODMYsABLUBRwjAMOk5yzjBNU//PkxLljDDp6INZx4HKNmCCCUzrTGLM1UDbC2aOJhLojpzgptLMZaCntlV/DUAiB4GS0wKMLzuA2Quik4VKq6NIQ46cRRRWELkJzK0AmrUF1hBG6OGxtMsvygukyhLEIgI5nTpprA7wtYKOCyRnoPK65YmnktcsAZIkY04AELA1KI8XZulyYbbYLhLIAARhIXHL3U4OKhIatxB1YFiTAC/i81bUqmVKfYizgsDEYgcxijkRaVNVeJS5001GRKmghD6JtepIahmAmFQwlKzK/FdvG1p/3ja6zCOQJnD8pge4qTEFNRTMuMTAwkEp4J3EJydkb0Z0Gcij8hiE04MH5Rpw42tJ35xyGTJzN3WUuimuwBMXIeV28VG+LtwElI0B0H8YurfG09lyKMiB1mpbUvmwYwyEAIcKJFISDPeLQqkgAkCM0cMCRUMEcRChhACMASZphBUA72zFKBjwBUIwWjnacFEF1muOW3BaQxaTeANQGqmGEblxREAlEcJCY7SQXOIQUxMpGigAihiggGXQqKGDmpnIAYyBD1IJN5hwAGII8ElAqYchgYjAzsKxhYLzQEwxxXEIRKRwINHCDCDEwsXM+GgKqmUEAOZB0LNABjBhMEggLEg1ODSBgBQkfM0NE//PkxPZybDppQM71xCFEIAHLJEZdCFRJhABZxaAOAskNGRMSmLCdXhhSpmAB2RJjVY8cNIOLvsHEja7TEghwa4C5ACNARkcaqiCNxiihVAGGNGRDrwJLxMqFoKsSB5mgwOBGoOgUGGiAYHbIKiQoAKBBe5ERmaXwkDGBhUBpXjqtMkGACEi1kMHBYUhPuK0CIRLRpYYcQs1DCCW1Hij4A0KOnQYSGSqdyKCEhY40HQnswEjIEDBgBS2OgpKy1WBYGgYE1hvQCBSVg1cb+IdFOC6ZdIuHElVERGpRlqU2wdT1TEFNRTMuMTAwVVVVVeEFYklo12VlbKqKkI5VK3qaLCNFrZGZFqlCiGHErD+ZRb46ulazhUR8KEvSdSpkl2VRMTTMECTYil0hkpuig3xhg6myEkECghQDTcZJRqTLxo7MAUILcqKM+HCZaEBDXhJjJiQhCXFYowVMGRe8RjBqeGBTOABCYAJMMLmCCBRWZWiZoeYRQVECh5iHCGA8HWoMQgsLMwRA2gx0EQLDAk0JZb8wAcHMDPPkQ04SSAcMOchkEGzoAAYLJjZ5yZjSJomJk3xt0AVSBk8yM0wLs7GM0w9iBpS48WFgieQITBYMwAlGG7MAooOGAUBNGiKiQyZ4//PkxPJxXDppQH6zXOKpGABAaAIUKAFHwuLCxkDDkLBkSDnwCNCpYLgjWAzBKzGABEPBxoEEjGE4GMoVMopcksEzACQqEacHBiE6jeuZIQWJmHHCKAZcyZMeMIhgelUSJCoANIBEYEyAIWABgwxgygsWzNgciXBkgOoC4C0CiUECDKRngioBbsdjBxgYoUBAQ4sEmWEPDsGARhAGpNOxvFDhggsABhYCFTCLLFq39TgAihfwoWb1oylaFjfMkU0EYQkEhMlDfA4NoC1nEfFdaf4kZDreMKYm/Db9ae5LU2rqTEFNRTMuMTAwqqqqkQrSJ03GgmtSxeNROQTzxRqPS6H83a615uE84rVlhaziRVrr5Oq1SWtCk6bzJF1sXeyCGmDpbkJgrbQQwlWGNFAYYYZAasA+aJIjJYsWZIphKGIYXxLymMGRIJQTLEhtEBFGKAZSABKEhwK4aR4dCHKhGzGzJojBIA4oJXAcQMSTM8dMQvCHphzxthJFWOKKHgJmxQODGRFDyQBQzLQQgWAAZgHRh6QFfGOdgwSdRQQOwVIM2EN4gN6hMCBNNIFkxiF6hqAQ3JMUaBEsRHTTmzfiSZ+ZMkJRzfKTCywChNGrMQkM6KMLkMgRIFhskoobBJhc//PkxPNxjDplQM6zrODUCdRA2BXMaClsjKjAaDAwUyacOCAQMXTEaooLmLFmABGFHCsJTUEDy2bdSoMKDQcqAggwo0VRVkGjoCxooShDSzZTAwBhq2RA4OIophCquABgY5zrjCYBVTABYqAplQ8GnQnAXiLNBGARIDSWGBcwLvF7y3pn3MVBxaXIw2DS1zv2xh+nQQ4DwgiQMMRZQMIBAaHooWXsd9QgMcVTCxidYUDdNEQlIVjApICVLpqWg4WJvu4xbIsyxhrQqQOAwevloiM08/y0FSoUMG9mDsRFYa9VTEFNRTMuMTAwVVVVVVVVVVVVVVVVVVVVVVVVVVVVVVVVVVVVVVVVVVVVVVVVVVVVVVVVVVVVVcU2h/b3AxQTwTMhN1XICq40ccGR1DGtogRQHCM4uYIyzhEJoFRJbNdHhzXLW2FSiwy0RZAAHRLXYwMCvbqBrgESBxd4umygOO/D+oqCpU1AbJB4UTGItLCYT1NUQtBDUAxmCyFLlnymcLQ1bvHnTfhCFrpfVuKcyI7c1aJYj0AitIG6ol3kdoyBEqhjhkAkePnTqO4E9TwMgcXXEjAAaAikrAyIUUL4mCsCpS9wcUaq56PnOIRHkTCujIICwJxdGEGhqIBhggzx//PkxMhm7Dp26M4y3MYrOgOB3ARTMQFRNDKIGEM/KjoOXBRZiCoTBJIINAiwsOlQRCIOCUMKMYUBEmQKTDjApfYaBDCFL4kvFZAKOjSDScjeJgl6WYQuHGvKEiQpdtY6GLXBkCKFy0R0b0LmDsuAAqCExhS7wcOvdUSeq70fV0pFBhy8wSCXUcZJtPZG4ssXRcFKNurNlhB4Fc7+O25UhXSwRJVFBRu88zcE5JEFwUIUeHHfRWEvRfXkqi+0YcJvWqNTdOo/j3MBiMZtuTLnwf52X+lkWe+HabOnyl92zTUaTEFNRTMuMTAwqqqqqqqqqqqqqqqqqqqqqqqqqqqqqqqqqqqqqqqqqqqqqqqqqqqqqqqqqqqqqqqqqqqqqqqqqqqqqqqqqqyllc43AAxYB0RAHmB0BSW1CgYJgnAJmE0ZCd7bOpjDFJkQmMTEYrCSURCHjLUbEnGPAyQpgL/MDCchLxkYSCQ4lSMyOohISDSrLll7lrYMlWFaWhWzN4ZNIUJTS2qlky0qWLZZK2hCNE9laG7ZEuZ1yC05pCFhpiQI3dsTlo4Nmg3tyuxJDizlIpu5aV3QQUIMsg0mVMzNGxC5DFhzT2vkQQMZdSjZEkEBAyYUuZp4qQMEEiMp0Axt//PkxLljHDpy7PcwUDF3UpDKBC5HoMigqkjSraUuTUASggTdVcp1AgKe5dVrEyjKWJAez7lxmWsQYmEBkJe1dhf5K5fTA1SsRUFcVQ0tDIV9JXPzDUGqasNRVSFYTADDkimDK3NSXTPT0BV77EmQrJa47a7kfoDSKa00ZhxaZh7vRmPUsWjyKTc1BYFX0y5wXcga8ypsrvOVE3CZdDzcoNgB+Y9Ut00rlNTVaGp16YRl6TMPKlZk5KcrSnGV8IAoBV1M7Zr6dy/m9b9+X5dmMK1wdWjMpkPv47TrYzLkuTSVTEFNRTMuMTAwVVVVVVVVVVVVVVVVVVVVVVVVVVVVgTBQjTcICOYCIA4kCyMAMtcSPMAAAYwVQ9zWkRpMo0BAwIQUzAtBHSQAIAJgQAsGDyDsYhIKsBw4JAUjAAoqAeFQTjC5DuMcYGpYMaAWZqp9H8UDzlJoyIOAQSTAqDVYoCTJCkyMERpLsp8dEASYoKmc1xjwciwDQlGVWYv+YwrmCvwCz0fUigCBFyiIOAA0dCqmLiaonuVA4A6EGNs5iIqBht2i1L6tOLAOIEgxAIX68hbF+3beEzAmaMZbaBgIOgCOWQ6jhYh0lQF3AqAYahiMGoAX5V8JDAAczIzY8P19//PkxOFtLDpS9Pby9HIGDy8iJDBW4HEGZILE0c5SDRAEMistFFuLNYT8dt0Wdw0v5LpNEUFAoBinFUNTNW9iKGLlIJnVIh2Hz70P9LpEhOWZKGJbZ60lpjxltVjJywmGoCgd5YlKo5Txa6X9ZRNjIafjW2ojxCeyo063rZTD76OVNyB2FzQ1FGa1mZtLaFUgaB1nMIjcAIsLHoZy5DjvNquV+JVLorIZyDLkvkbXalNTERa9Iy1EQhFDbP0iVsK3RhlStt6JTbZHAd2J02U+updMHsWf2GoSzBLG5KpPLuUqTEFNRTMuMTAwqqqqqqqqqqqqqqqqqqqqqqqqqqqqqqqqqqqqqqqqqqqqqqqqqqqqqqqqqqqqqqqqqqqqqqqqqqqqqqqqqqqqqqqqqqqqqqqqqqqqqqqqqqqqqqqqqqqqqqqqqqqqqqqqqqqqqqqqqqqqqqqq7E0jjjjKckpgMEg4OgEERF2k0V5CqWQcBoJMFicFC4xgFzBYcMEkcw9PjIQCTVsNMXKwlMUx4mTIIFfCMzSnbemIx8YaMIsQ3yt7l0FuIDQCTAKYduJJFEgGMOhYxgAo5HE3WiCADjoTMlno0sZB4eAJ2XoYKSCBlcdfEYkUYQDPLRdoRBRIaKgn//PkxIpXdDqOXuafcsYxfbtPu6XtQkPZB9XeMxTqYO5At3tJbWFZ8yyrB8MQc56RKZ0hoYjBiVRdVcilbc5TLFhmHGDBDIxUL80Mck7AnGg14bsrlDZVcrmay/ctzvXzpHqIKn1rwSCsEdXZeQE62tDM2VYHsL6mi0u+7E1OSevkb1k5KEfKA8h+HGMkNEsSLVwsSOTslT6RDEqCBH2sHMtOmtFE9alLK6ZfZBxldSZ3hfX4767yFdjq7jRW1ksW1gTrMbqOhJVzNZ8q29UtSw0CElRAV6ea2dYMVxdOnK8OTEFNRTMuMTAwqqqqqqqqqqqqqqqqqqqqqqqqqqqqqqqqqqqqqqqqqqqqqqqqqqqqqqqqqqqqqqqqqqqqqqqqqqqqqqqqqqqqqqqqqqqqqqqqqqqqqqqqqqqqqqqqqqqqqqqqqqqoOpl1Mqo5F+MzMAAJpbKC55fQGwgehpjBHGbwkHBswEBjAoFHhgYHOwZEWVrLX0iMgjSqMACwWTUM2ndfpUpUDxgZzGgw+z5A8LgIaBhaVNIxslAwXupyci8VQFgIbL5+yyhWJZ7/gpJiSEBTSihCAiKZJJwgmNqagUvkEqjq70+0uoCmuXKV23zTmpZHqtm+7NgE0X5iEur///PkxJpbdDp6VuZfbiBgoNHR8d6HI6wBMRCwxgVNpXAUMLDp1suQCQuHHilJIDqBjASw9KSQxFzouMLk2tkS7e7yjnUfjvmXCJvABnmukzyZWQ7lOpU3hC6nsyJGi5nZ37gxt602qyiNMku5mAOYyQTYIkXgBWEBD+DdIM+IOQkZ8c/kML8cjSHAWEAyCQlOTgY5IBijqVAGNvASyHj0RS7DsRAthqHipGVIicg1jtLnDPM63g4S1do9PxT2jQkArDjL4/O7ZdzHTxKzTWWhCiFFwQyE3RmRVk+FAhDVIrGCTEFNRTMuMTAwqqqqqqqqqqqqqqqqqqqqqqqqqqqqqqqqqqqqqqqqqqqqqqqqqqqqqqqqgANEx8JsmUHnTAAEmvhYADAcTzKNMzrlfTMYYTDAgjPUBhIDwEAhgKFJjmQJoSRBk8FJhWEiYYqGRCL2ghUfnAEPm4zEKgJPUKkjTojNhl1MoVsLaKHgwIZcgHEkiI0r0HLzLnTiHwENa6ymBHABpMAKDSGzJFQcVRInnVQ5q0ioEEqA1mhcNMgEBegt8+0vQcTbTCStV6lqzEvAocnyvdcqnDBhEF5X0ch+kBRtoEOSNVywFaiEw5sfFBQIsWeTVLjLKMkWSM5UxQiZ//PkxMxn5DpWzu6wtOJbOOMFARlfKYu0zV30EriR50m1huWR9ImdcZ+e4zz7MSTSedrrI3wTDQmM+W+nmhIV27YUCuOdUweOCpQ47jPGymxGIu7Tkvmhq3BfLYmlNbRkHDmwICahaArJNJ0y8ZIRCFgFy13MvpJSXmX+/EExCvSurBjN2kS1ay6GGKquIxdMaiYOh5Mg5KI7JHCTkLRoZLQbAylNVkaVSIrB426iBBLgYClemYhILD0BLPhAGIr8XGnIAAumuFS1PKFNnfBJl33mWEjbT2eucgrRe/7HZfIqTEFNRTMuMTAwqqqqqqqqqqqqqqqqqqqqqqqqqqqqqqqqqqqqqqqqqqqqqqqqqqqqqqqqqqqqqqqqqqqqqqqqqqqqqqqqqqqqqqqqqqqqqqqqqqqqqqqqqqqqqqqqqqqqqqqqqqqqqqqqqqqqqqqqqqqqqqqqqqqqqqqqqqqqqqqqqqqqqqqqqqqqqqqqqsyI7drJLNtcYAUTGCESvBQ8CyzyaA3U1uVshkKAY5TMwyk3LSwpl+rMUKfQu0nqqx1lyIoJlIbMGKBrIfBTYs87j/N8XmdpYZOZXyRqq6oGTRtogNUe6kQlWvFFIoj3HCewR1CTmSJwmk/UMJOnYjjR//PkxHFRFDqGXtYellIS4/TRPg1RHhhipOYlRYmFSKZvOlZfHMQJbdPWtRHEK6Hcf0yGnMznAdTaoYSqIoRpUsKybyFqVDSZGSTI4kzMeTkhquVK7TrRFkYmqMdRy0IMowJEWwxiWq47VCvNKohKonJfmNwaboQq3M9jkaYkjeqEOLgmCMG2ht06sxDSSyeb2ZpL6OFXl/ynWGSsPU9084Pld2WRhVLFInzJWXy7FxRquisSvaEOW2VGsUhxF1OlIHUdqlV0zIyHYX9lc8xXbo/ySHPHVj5tQp7H2/b1SzZqTEFNRTMuMTAwqqqqqqqqqqqqqqqqqqqqqqqqqqqqqqqqqqqqqqqqqqqqqqqqqqqqqqqqqqqqqqqqqqqqqoQVHI3VLkkGFnmQ6yRwy9BkvHWkx+RsllUXZU04GQ5JJRpsAgTQbhOI0nbaEOrw4A00OA8WGCGftKTkAhM74jstxnYkEMCZHPF7RMX46ZksnyR/H8fR+37ilG4CYjdYXUklE+i5GzQuKBcc0SQcQvRka6051N4tFJWrYkIiotR/LEcYY4kGJiKCOpxYMAhmGCcJprFGAMaAw6KZYKwRgEGgkGKMgZ+8ywkZehBIYQCWprKCRElLro1g0VPMALG8UAQS//PkxMJlfDp2VssynoLM5wHEmOOaLJoima2RTm6iFAgqmDoyziS5Ztg5hmmocHKFuzPhDszEYHpTZnAXbTje4PBQuImwZoKhpwymyuawRkOHJMdnB9TDjJysmeaHDA6MCBAAQSIALJwrpBJAN8msZAi5TNjAXYEMMAEBTiAAv0akwC4LABwSA6CbeBYRoT1wtI9A8CDKEJkI4WnnAggKAVVMckxQ060xy9Bhum2OSgGQEYBxnFDQiAdRdA8wCgUInQvBhqG5eQODS/XmHBgAB0Ub2hMzWpdaQ/kCuEmomml30KedbASayNO2+8/NwNIofrvxFKR2Io4kOTcriC7GUKaF3C5rZ0hFGn7cN2l+V2ZqVBcKx4qmeqB+lPO9lBjwokqrIDFoSCkh55IW8ylJQIQGSBtKqIC1Eko2kAZBYClHG3Lvuo3VM9+34hLdg6D1KwKoCQGIU7RREYEhOcybSTDERAR7Ym5kLQmw+2VMMvoK1RCJVkgDUBOk2EBAEgUc3QZ+wRFQxZUBAgoIMSdGHIxGOAoBgk5b8iEGnIm0bBRefuOZJsCQZmJRsiIISkikyZIKozPljaShYAAr4BWA6yQJzjjwEvMknMaKElBoSJRDMI2MKoMyZCEBgSRnrxHh//PkxP96VDpxtsa35Dd0xMeaAwCIJvzJ0nxibJw5wY0VGbFZrDoGWhmyeb+WHlFxgoYQHZMnmbhp1VsYO0iZIKjhrTEHNhjoia8xCgOa/Xm4mRlLkCBwypIMYTzLx00pgMWNDWTEwE6MTLAckGeroOFTIQ8MKhkxECoZ6Lk1MaSAgYJMBOhYpM4MQAJmHBRf0yIaFSsxEHMZJUGjExA1AgBBUZILGZgpjhAKh4CFjDichCDBQtP4UEQg0EIaYWSCggYgBJbjQOYYBBCIZIBJjA4aTvQeLvEAKsA6MmZySA6cZkI2sJQrknCzK4UOaawCBEyi6CAFRlVFACh6NsA5o4MFgI6BRTGQMmAJ8Roj62Qx8XoCwhVqSZkTJwCZvVa51hy3Zg0Zw+5lW5lTZj8B1LwsqNMCIRxjRZKTNCTQljAxG5DilvBjlqrrCBwSDW+S0cEeDmDDtXQmFsy/TClBhUuYtMFyAIeGUZA5KDqBoVoq6GYhpBwKinLNGkCDQNHNVJA4EDgxYDRZEMC5dnhRvMqNMgrEKYKoQFjNWSN6ST4WUCWZErUxGRRErRRRSDgTvAwbhsoLQgaxf6AgiBaS0GGDlKKKsAKQYVGkeMlAIRLMJnjAVbDKwf2k0Xwd6YOZ//PkxOhynDpq8NYzxAxHA6BaaE4QDNijxcwlGsjnwIAINzEAHS4DFljBQLPJBlQdOIm9TaEgDcLU1L7hVwAPhVU5nAE8HcmAemKcPRvpGQiOjIzKLhx5qnAx8fBMtw0dgsi1BYhmmGgKoQBAQwQaCQEGWQM6nMaJVjTgKhOMY1RAUuHdFxFFUngdKOAPWqBI1mZnCgqEMGKQoZUXGgkyzSBTybKiuSiDRyjzDko+DzIYOvo0Ui/UhSsMMISHXUkXD7UgEa4r1tQRNDBVZVRtHUPLiAAdULdFUEGOYIRbWNXQap2ELqWW2Vo7hQW+umJKTEFNRTMuMTAwqqqqqqqqqqqqqqqqqphIiLJLlCwcCOYEgFZgTA2mA0AIPAxmCeDEYBIB5gCBNGAqPQb1ldBjqC3GD2BAZKFZgEDEI9Mim404ETUZPM+Ug9JGjMxKMJhFLJaphwNgYfviATwaYKBmgoGAgwYBASrgSO6C3FBwKW0A0jC7kNuwzaDHaiRmnly3JXUrogWMMOVEKYCNIBRCUiiJAghMh2RrCqjC7KOI0CicrcwGD3wZOWmVWZ2NFPc0kskWmCCgeU+BAICokci/6mdAyJCUpczZ0V/Q8tEvcBQkRpXDaCZRRVZMBg0ONzGh//PkxNprZDpy7PcycB/YBRjVgYm1yy4KCZgUeEQbDFF0pHziSmzAmWIapcpJM2cJ7WCxaKy2HX/ljJ2wNGUqbsw5l0POU+qfEGNjDgVNUErAnertIa1L4ChqKM9Xaw1TFUMQRydygpYJbi+sGNkddZjVlg0SWwQwpk96HFaCijNkWgKEDUEimvpkq3lxVBm7xamm0+Yss9rsfflkLiv0TAxlk0N2XZYaw9MdNxLpi0UVVLyvgmSIgZS4c+u1sTbO+nLK3ZC4pf1XK3HKf6eYmmWXwZ0zJodK7a933guMRd5aTEFNRTMuMTAwqqqqqqqqqqqqqqqqqqqqqqqqqqqqqqqqqqqqqqqqqqqqqqqqqqqqqqqqqqqqqqqqqqqqqqqqqqqqqqqqqqqqqqqqqqqqqqqqqqqqqqqqqqqqqqqqqqqqqqqqqqqqqqqqqqqqqqqqqqqqqqqqqqqqqqq5BoNrh/tcu0nQZHQEinKJtKiu3RPYzXiQ0GjwOHgC0tEjq2LS0DX91MdgNlQkBQKADBQaMBgUcCphpcaiuGp+49BJ3TL/PzYdFzUQjR0E4MSERoRCJlIaZAHGMBhgY+bhNuqZSFuM8TwJ9X1dM9TlECEu0gAGBp8zDks2oIsu5LC3Ea9e//PkxIVWLDqfHube/F9C7KgoqDJYS608q5obZLDqTgjExoClGcesWaW5DSabeRW3HHnpIgu59guBJIwp0WHuhA7lDdMwoSbsD0wlcf72MpDTQ5gYhcnA4VIS4ghcV0rTqdqlHF+TcR0+Zsw3I/jqWzRN80TlZz7joanaw3sz57K6VqSJw44ZrxlysKpSQ3FRMiqRitL7RSrlkYKnerSErq7HTbGih3n4swJ5nUd6ryJTLdHbvNiDVWsympRjnXTmW1xL8ucJ68d4nVksakjMLgoULXzuZzSWILLCb1bCLcddTEFNRTMuMTAwVVVVVVVVVVVVVVVVVVVVVVVVVVVVVVVVVVVVVVVVVVVVVVVVVVVVVVVVVVVVVVVVVVVVVVVVVVVVVVVVVVVVVVVVVVVVVVVVVVVVVVVVVVVVVVVVVVVVVVVVVVVVVVVVVVVVVVVVVVVVVVVVVVVVVVVVVVVVVVVVVVVVVVVVVVVVVVVVVVVVVVVVVVVVVVVVhhBSVl3fuSQOIggKMBHfXgXXpIbYYOp4F5G3Ua7H12y8CHheiHOrTM1ElbRAGTpEgIKXmk5A7M5O4cgqleExas5Lc1jg7IZrKUqCVFlWURlTZxTCjwaURKhOEVss1RsTkCgQMTPz//PkxGZOVDqu9tPZmhntNVkdxn4sYAyrFqCxKYdgMAWEXMAMqyZPJs6wjYhYnS+mDlr3NqcSfluJaaLhKuI8jQmjXDvA+r0YRVUMbSjyxKwyvR/DhQGRjMI8lT4bmr57tCiTLp4rFlybmN5Diws++KtrQrYK8so1llgd/3jC9meNRrMDTtTQ0SmjCQs00KJSUCkQ1fK1Ok+ZzpYDdQ0V2GhrQW9DUYwoomYQABDVdmGSaO70AZEipVmVrzDkmU2ZDMKxG4/zg1gNEg8M2L8ZjzJ+4qTqIlhCHn2bQ0jZdedVTEFNRTMuMTAwVVVVVVVVVVVVVVVVVVVVVVVVVVVVVVVVVVVVVVVVVVVVVVVVVVVVVVVVVVVVVVVVVVVVVVVVVVVVVVVVVVVVVfCITE0i3LJIdX2J2zgbi9CZZlYZgRpo3JkUANfExZWAYGocmyy1AgpuZtoRDi1z+tCTHC4AZKjxIx4c+F8IcuxA/HDYJEwKDNQBLSoAbUokrc3eViGgplSAsGVIuFc6wyoAgIDQRjDoYBiKtVFHWXKuSNQ8MGCRSDgMMI3rHhiGy7SANsytjT4CclWhWNYVIkvMzZcsI0sJDbR2AGRHIDmUw6XMHQivWkDwsxQEBCVQp1rvYfLW//PkxLZiVDqSX1rQAsQWCiEEY8ABgSsKSKrE6gQBBoghJmWHl4W1SEZgypkjKIbQ4oow+LFZIukSDJ2ovJ9OGyl1YPjcNWJ94J2bm5ZDMDQc8a9oAe+HHojzvwBJJWzxwoVGYRMP1GZHIn0gqBspIw5VbNrIjACQ6PyxjzuOfBUNOw8TexyG3UfeVvsulphd1ACXuMSUX3DwVCl1FgFSqdxW0nS0GbYtLVlPPG5emLFUxZFAMLcW2ulZSmagCD6YCbCEUMKXTlSGnZx95muvU1mAoG08zYnrfa2wxhcQg2cVTEFNRTMuMTAwVVVVVVVVVVVVVVVVVVVVVVVVVVVVVVVVVVVVVVVVVVVVVVVVVVVVVVVVVVVVVVVVVVVVVVVVVVVVVVVVVVVVVVVVVVVVVVVVVVVVVVVVVVVVVVVVVVVVVVVVVVVVVVVVVVVVVVVVVVVVVVVVVVVVVVVVVVVVVVVVVVVVVVVVVVVVVVVVVVVVVVVVVVVVVVVVVVVVVVVVVVVVVVVVVVVVVVVVVVVVVVVVVVVVVVVVVVVVVVVVACXX+/u5u3a3a67Wy8okCiJjb1YqhR6aBAJpQSlQKAstKhplwY+hwygpKMt8DTUtR1E4TgYSXLAgsylMGNKHT4Bk//PkxENFs7aeX5rIAy1IIXWMSAqbKPwZcr080tKNNalT6IPQNHX/jUZaU0NATVhh0s7FNVjOcZh2GZqHvWY3sVf6rEHuZ+iylS5UBPfSUMZcmi1lMtu71BD79OAzKIxKDmXTbov6/zLXhd6/ZsxGZs5SmmqvI77jtPfl0WivlAkeb6mi1NVdLbs3rUzSx6mmcK8zvWP543L9iV4w1qnziN6m5Zms6sKiU7XiXKWD8J6dlVmy/2VN3LLLnd7xx1a7d3KfvtJob2WeeOdrKrZ3hTS7Ctjn3d7mHfptVeGiKu/tTEFNRTMuMTAwVVVVVVVMgAwpmIECABCAMgoDRIwQYwQkVOihACFD21BCUCJKJosQBQsrAvItszgwaJoCEkyyAQESDCgAKADBDC2IJIhcQDghZMLA0mi5SXCtYQBMCHLTl/WDtYSaLYNLhheQKFqTdIGAgIMGsZiDwgEApQASIOLqHkAQyQABI1MCUGkOsFLjHLjGGk8FnBlsyIlnT2qbqRTDmGpKqkggOCSUvSYMKBgAwtLzmoVHZTG4OnyhDXpFSMpIIZq/TnZUhoq9sbJmavctuynOGFzSpQFJBwI05UCCiqHC5kyQ4x0Y/k5OhxwuBSaAQQiJIOQS0GFKaKxm//PkxPFxHDpKV5rQAHyslM2NBIVCt0WuOcXbSDBIEzg4cfGVZG1fGkaHKpA6WZAGBRYG9DC41y0inMgWo3zXKKGJBTuxXp5uVO4x9yEKWBBQMEBGvqvd1owQgSrCBZEGLOMkEQJHgoOmRBsuBpkCCgoQMS9A0szCUiHAZ0ZZE2iR79CwynYJJXXqzUOVKSzLN9l/LO5XL+bzV6VSwRELwJAPo0tQ9HSXl8Ig1hWyeZqienG4DVFVGrGSDAYkUCiKqY4QPGAuABoIlHgEmmG9USBI8xIQwQxAa4ojAhYBDzaKhBQXWjQDlAGhYJAyYaBg+cHOmugZq6SBQ4VAwcLvotJbgFBQgLR7CgAhIWKtJtzBBIWDIKd9j8oHAQ0AlhednCEtn6AeCWAJ8CoEoFK9aI7aOUgDCBa8xIVkhghxMAGSIJCmCYG2OBCQw70yKgoEmFQmSFMhFBKFRlABi0YtmMQBOI2pgKkNYbKhA14I1hQQCznqTjFDMgTiFAqCAL1O0zkAyQFxTOpTLpQworkxwILkTAhEfC0BZ4w4hHGeRBAosuQYkaBkJvETtjyUBDUnTMFB12RVTRODS/wfFB54xhIy9E90g16M7iw18MRGjriwiQMkDcIjYqRamLgQ5+GQ//PkxP92FDph4dvQAEzRw0cMWNmHKkIYMcFpwEhEq5lx5hARECgUSMBCYEqSQEURSUOjQDj8cIQqkBoMa4gLExYkOmywoCycdJBCAzIcrCP4w8GBEfQQLGh6NKggstJQTKC4aRBhRZhACpCJGssxQxuzNBoQPDhALZwpwCQJWGV2QkCzIjCNDaciSXvWgPBU1i+KfYYILXrobafVOv1bS8YIT5bdMkGgkEyPKl6tjjz7KVgIcDCCX7bpIK/ZKnmX8Xyqilsy1E5MxhKS6GSuFfV2OpOqBKcQC1l0nEWuwpnsDuJbf2iqTEFNRTMuMTAwqqqqqqqqqqqqZDFgBo5gBgEGAGAMpkzYvIFgOTBxExMf0MoxPQEQMEiAgGUh1FDBEByMrZCg1lhsjOZM7MQwBAwXwbQcBEYL4WZxauZxXG8JxiQ6Y+KhwAkqX2MeODRlADBJnpCNByMI0AGLl5kJWY+hmNkRiAsYUDCwSYOLmSDQ0KhUcNeUjDhQxwMHSEytHNNPTICczDkPuRBTk08AoeXeBCoDjAOAIKAR5grAwIYEESKA1CQgRLlmWknMHACMoAjBcJDQ0ozAHQFF9xJlAao8rem6JFpEr3ZoJNjAoUATOZWYAo4Mkar5IAxhgMaO//PkxOdurDpmIPby0JJAMPAJ8q4HiFLAQiADTAAIvhUYz0FBiAMxAURU+WpmYCFxQdKOCjgAqYsOgkUgBEAMUNPJiizLiFuFAkllIqOl0VSug3JXTY0ALRGWt3ZbJW4s5WFjDrcUxbNZa6zJf7u9p5atJizyQI2qXzlQC3B92Mzi6ofQSvIy2ZfqPP8yimiPwyriBHPhcX+NRluE220OMosy2VsjaLN0cuyhiCHcYpWd6l5MUk7Mqmbs5UzDkQjK86S5DtNEcnDTGlrLaZ+I/6m75TUQlULeekrwxQztaVUlTEFNRTMuMTAwVVVVVVVVVVVVVVVVVVVVVVVVVVVVVVVVVVVVVVVVVVVVVVVVVVVVVVVVVVVVVVVVVVVVVVVVVVVVVVVVVVVVVVVVVVVVVVVVVVVVVVVVVVVVVVVVVVVVVVVVVVVVVVVVVcMBVo2iDzjkDgCYCBaVWpKh0ojKQWGQGiehC8AgCZjdAm200ZeIJndfGsy4DQ4YhBBhUYmg6CYBkhxlPESXLvGDiYZHF5l9JmQyw4IJDRgcDGOqarp05mNqWYEITZQ4Q0iEDDHXBVBlEhZUqHgkczRSFw0oxQA00DONHpQAVOB6Bij9PQtiCDuQ0cR8gmROyjJKL4tB//PkxJVaDDqO9uZfCPR/IQYq5QZbBPRfi+E+IET4mwiI6npxqtJD4QAVhOFRETRUnSym6ZguB9EoN8XAqEme6BKQ5Q4xvhzFsJ6SNXm6u1KeZzIhcG4jCWFModqoxgaxew7leJOWxnMxmbWpUNiSZ1bSPfO9srCknL0xBYH8WDhgXJL2xtlWcKo/VMwNcXfQ9CzmUD9CThX14IaspCWUoCUNEFxeaXLG3l9ZGFVNKtL9DSp6t7Ohd4SqetDx4n3ipP40i5IVGzBiQltVyutuLgxrdHFihzJxLIdt6xMcruGqTEFNRTMuMTAwqqqqqqqqqqqqqqqqqqqqqqqqqqqqqqqq1PwxHy8ghDEzdYcysFMUBASAAwTAYIAIEAcaPBuYgA2kgtlCkVBEQkOZQlgY3geYhB+CiIBoWGUZ6n39unvcAbZTxgEZgk5CA6nE3+bIShsdQGNwEBBQYFDJjpEG3jIZnJwkRx5DGRwaIw0ZJDp14lGjVMZvJBhQXkR4Mehc1WXQheGQh+ZQII8IDTSL3hYF6CqLDAIDFlRG8BDQyEKiF1gsCMDijaAweCLnIhF0hZYFEo7MMLbFrjCED5DtWM5E0hxAEggEijTZDKTNQMMYwwiYcamTkdY0gS3iwZNS//PkxN5shDJcAO8y7QsUwVDFHT6OE51DDIBwZlGg5KD0fTyCAxKcwITByipEKy5jQFbUOSRENs6agnqEAM2Q5IbK8gmBWVpSp8xSGGIwE2sCQ/HIEl64l/uS+jk23YlcWaU3Pt2BHVjUUZzI5xaYKKZGXSHh32eWHnaVXThikDoTrilT+6RWVvUzYKtpfalyRrAEAqbzkMlXbtAI2j7psQ3DqQqEStrB28jacsCSmguw/DsFw1VleUzOvS1mXSbGq7kRncWTz0Zh95JE3WHrv1MusHbx1pA5bit2vdpJFu4LTEFNRTMuMTAwqqqqqqqqqqqqqqqqqqqqqqqqqqqqqqqqqqqqqqqqqqqqqrUSAYAYo5k0jGJBOIyoVAeOkIwVIzojwAIPSIWggOAAvM8okygEXYQIg4AoZEJbM3iQwIAQuFS9QsKAcHD6GIPHpgw0SzMQpMRDMwAMTbthN4IkzgNWyqomEQ4Z6RhkcImEA+yN7BQdma1yaWjxtZrmlA6paYweaJMY6aDhiXQiFgIcwd00jAwSg0vTvXiPiMAw4rRFBUTR4ZaUvC2dozWg4jS0hS1ruqzAJ6BBvlrJ+AEANagUzcEgViVyCrKAMVVjWKW9aKFzrANeWBRpX0g2zSMA//PkxNRp5DpizOaxQJQn2ZhjgDEBH0KHStZgMmMJ0tGLCSScpYgGkU6Zs1VUqmIsZgE+rbLnFVxCY07jdnSWhSOLH5TBcE0E5NzceZg1iid5wmiKqID1Bq7I2XPo/b0SaZgpFNgD2ytrigTE11qZw6+K3Xfc5g846i910KrJAJpMBdBkhoCKoYeh87aGqw7gMJUqGFlx39LhL1aWri7NuzJ2tLtXMqiv7rIHOUbob0OPo8K9kg0C0+qr7S1cSd8P0TmQYt2AX4VUdWDYNnmfrRh97aJWJ75NSTDwRWXWI9GKTEFNRTMuMTAwqqqqqqqqqqqqqqqqqqqqqqqqqqqqqqqqqqqqkQciteFjGFg6RDAmJzJAgDmVoIfqBokVC+ZgYnkqAMTSk5ApjBgDQJshAwPMeGowO2hIIl/WXiQMChrN4/05waTCYoWAMbhYwCSDZwVPOmYChMiAghChAGTITiMajkMBRchQ8KBkukdESZigEsnMAAseBpgUoms0IYrAiGNlBtN4vK4LiOBISA05dzmZa+qWRpaFgM1TE1mK4qYAAwwE0NXiYGtJBwzyU83bzaW1pIwvUr+kgVAsDFmoCny4TZaEYGBpSOTLaasqusMy6egAtgGGAlU3jUfFgEyD//PkxNtrnDpetOZxcDAF4BESv1NQC2cJoVgQ7pEsdZYvsvuNOrdb2PsHbojk+vWEF7GZo3JFNYduOJeNZhL5U7SFB3gay5MkLhsORtERQKsaOuEZWydmdW1Ss0V45VloC0FqIyp7Q8s9VkMI0s8XUxZ/cYojk/qnnbae4zpEwHGUxdtGsJAg4CQJjIAi3IMEF0F/20acrQGDU7YZKggidAVyMBQadBk7J3jJjLVbCzZmIyAoWBjJ6NZh97luwFAz8RVy2DUMWst/I0+IIZO80OS16nIjz+yGONo9UMQK7D8VTEFNRTMuMTAwVVVVVVVVVVVVVVVVVVVVVVVVVVVVVVVVVVVVVVVVVVVVVVVVVVVVVVVVVVVVVVVVVVVVVVVVVVVVVVVVVVVVVVVVVVVVVVVVVVVVVVVVVVVVVVVVVVVVVVVVVVVVVVVVVVVVVVVVVVVVVVVVVVVVwUYd5txuNweBxoXMRCfgwwRSO0Cxosc4ylVNhfTjQY5ifCDNAVjiMghjAi+sIfVW8xcbGuUxUfBQB8AtyMZShoWiaOb/F7jRyoFFhcV0WnlQNAQfQrN2WNGYmIaTIACBF4P2XfLgCQbZHYouqHt0wjDOGWOCHHTlrKWwEsWRVYdnE7ghaVZO//PkxIdWxDqOPt5fOlPciCAgXAd6GneUOTWgOQv1OsNHAULcIxczlbKt2alCKjOusNDMZhiBECan60ihagIRC5TcHKf1zi8zC8oluPs+btI6e8qAyisS9NqFhYG97I5rmC4vW2C4mCQklpyk5AYgtCqYSClxSTIeadTgwhYlpOhenEdpknK6gKJXQoUrIhyOO1AneciEulEzrKpVpyssByANQ5VmyKVTiX5dMZ1GEczTF1FVakOpuu3iYm+RVWpRNZyoSfw9SMTLc/iK07Yida60ocxzFuOKPHTqpix4tDmnTEFNRTMuMTAwVVVVVVVVVVVVVVVVVVVVVVVVVVVVVVVVVVVVVVVVVVVVVVVVVVVVVVVVVVVVVVVVVVVVVVVVwMgEOZyW4teIQQMHgcMEAYMUBAMh/AN8mjNXDbMsBjMQwwHRRMTivMvTQMfQZMKgVjSvDAgCgAGwcEzDDAMAlpgABQqAhEBQAA9r5cAASNxwbgak01sY8EGJGklnlxQGAinCoUEaxFxSEiugYcFJZ4WWLJJbBcwsKmC5gqwRCMLy9CEpC1rIJEZyLDqtgctgokvBAc1tXq/YcbZSlZrCmjzaiS91BUwWWyFYJZ0Atybm2YLghuHK6laymJL2XSzB//PkxMBk/DpNn13AAL5yEJKkWZPjAEaWCMoE01koEi7xAM0DLegEKNK+HUXi+KejIXMi6PMZYSvBv21YEymBIvGbtJWmo1uPRr6aklUPRmWutOXXaXWWpZonM9ybyun4VY7rSUuVjLLV419xHYT1YG6jhQNAVO4LpUMsd6R0iFTWXRamymNN40guMGEQjf9YVkCYTPYmp5HljoqBImMpDFxV0J1LYcxmKmUvdVcKsKp4FbZASu9WGXvg/7wM/dCeWt0QBQFrkmmxtWhuItPgi9L1iKkZXRRaA3TVE/MHXcJSTEFNRTMuMTAwqqqqqqqqqqqqqqqqqqqqqqqqqqqqqqoABLBMAgFLRoNxFokgoYTX/wjC4hTU/GwCCpvsS58MBhi4MpzcFpmeNRikzxl2O5nqEAXEYypCkwXAAx1EwHDcayKJh8vmmzuEBMDDsZGBhUDAQJjIIOTpczEKTGooMKksLEAxAQ3WRZMaBcwEO0Q2ymCwIUAAw2D2fgUCFlDDQCCgRDBMOA1HowgDzD4gAoQDgMrMDgsGBYWDrmoXAEOkQCBoHMAA9RZjxdgFBddCXSCREoGCQswgCBwMUNVkMIgdri8kcmmEQJQYX+RAFmarS4zZAwDsDb0toh+nUOgt//PkxN9snDo5v53gAAnoouxDEHvcTABUK9GV0TdaNOUtonSglWuyVSTgRhDqFgGIAGzVwW9j0nuVqaNFtWalsgUB4Akdis/LtuHINrAqxMglyuGB0bQ1bHCYrOUz2P1GJqQvxO3nbZ24sBPKzx7YGTGuX3njMkbRhjOWtv+tlliTD1u648FQM/L624Pswly27N6zxhCV6a6AVRyQLLT5stKbPCom4NuP/F5iAoEtx2kbaBp+NNhXk41fqzHYjbXmxwBOOVBtDG9wcnQ963mt0TMmYtNhOFePyOkpIpT9v8t1TEFNRVVVAAAoAsBxgCURhMC4wGRhCAhgGC5pQHJguJ5rWDJkmUxndBpnoFoXCG2YQC4ZQjKYekudciOYGDmHjICJzKDMxxwNILjUFY4njMqB09xIXU0ZEOGYKH0UBoHBgGYYBA4TEQ2YIGGIAA8DGDAD1mEgxhoqYkFPCZGNDR4Bpk7O+NoCxQFdlDd2C8iloOA0M2RCQUjSuBM0vYyYuYte+TB48CPQyR9G5wtS9kqC7+l9kclVW+bg0ydnnG0pWrZDIYIKVvMzItI5r6oJyy4sIGHALRVq9R3WAIglOEwMWEg1XCEp4goFJyuMnQk3GV1qOrfWIvBvXnAwOCQZ//PkxPlzRDZZ4Z3YAKUm4YqBLtUFXzDTUUXGAIdF1JxiIAJQowcBCpWChNmztvMsZw0CkDEHyz7fmIg7En4e1BOn2oO+d4u2X/MLGhIXMTADHQ5wlqBhEABJMUDB6OScyY6wQsIBBNAavYJRRVTAwIskwcFEYcWrT6BIeYWCmCAKWBiYAXbUTSLgh9mcRSBmuXWVtu/jVGoq7Xo7ECNYkFIn8SCRd8tqxwsqzBiTxq6LUPYIAAtmX9QcWitFblZW97Q4nEQegEXmhgyxk0Uj6qTmprDQEW1QQF6WUtZjK+IcTEFNRTMuMTAwkAQYBAGyl+XiV02IgAkxmRg3PEAwqG8CAS4i0zAgOTGAhzRBvzlUMTJUNDA4NxAFZgkA5gYFZhkJ5mc+JwCVo0ZZQHgXAjDwwLkQCM5P022PwMLgMCHuVoSJGAGYcVJlEGgYdiQNUYEYIMLEEzIwz5xFNbmsUByDg8Ek8hYFoPmZhErgwsDl2EQCb5MJzlKwKAU84w+t5wS3IcIki3Pc2Mv9TQGzxxF74y2+5KElRpZjxNZdmGaJeYCCDirkYI8itoABJhQNhwEUcWGk0AtgUWIASYMExiIMGDAJIwwFA0BAAFhA1FQAh2Q0DgSXNTFLYmIh+JCs//PkxPZyTDpVSd3gABwMQgLjoRDICLtI8DweLnNcZml05YwCBIFlyLzwU74w0u1eSeECQy+79yGJPtBVPGndhhpbQXGh14X4YAz9GdMEAgBG1orvNyUOYKBAEoOjKmU1xG0RgRBowECQMDiIAuAGBqAjDAEFg8OhgwUAjBwNFAW78bhDSCYBGBg2X5DA+NBcvKSgZ2QEChACTCwUMCgVlRdcLAJpyV6U5gwDqWs5izBmrMfp5ZDuDIdM1RBAANHgQig9NK5UBUbPVaGaRGPWr0poeVPq2O2KZr8ByC1Rw7iqTEFNRTMuMTAwqqqqqqqqqqqqqqqqqqqqqqqqqqqqqqqqqqqqqqqqqqqqqqqqqqqqqqqqqqqqqqqqqqqqqqqqqqqqqqqqqqqqqqqqqqqqqqqqqqqqqqqqqqqqqqqqqqqqqqqqqqqqqqqqqqqqqqqqqqqqqqqqqqqqqqqqqqqqqqqqqqqmCAECskxgk1NGpOVFH/R6kxioQJmZuSmZSRGOBlaMIYGNrZkeQpbBSFKzLTcmvmOPRloXHFriEZDi0Kgxl5OZGGHAnKtTCV3oersCwaYAdmSiRehb7LXbR2MjMjXUI4NPZwzOnh6UIIgcLH9IsSk7Z7TxgRCZzBkJd15k//PkxHxTzDp6/N4fZL1IYdgBBs2nZ6gqyRdBI2KkN89amY3lQ1bgpISZCirSbVXD9PF2eBGEVFeyHUrwwQDw4V98mGeMpRaB/oxhNE5SCkQFAKkvzAWEbpbR+gzAH2sNyOemrs3ybHgq5LKlrbn808KRzpFSTJPSrc6bpifle3HuulUh8Ix1Eah5qhXvYKHOcE5WxdoQOsyQ4Fk9lKp0lDIGmQmhdjifoRqDhBNi18QWt4XQxk3qDOy9T0X1Uu8nyjjtIGM014LArcKM5iYsWlRVcKBDG3F97ZHA5G95D3LVTEFNRTMuMTAwVVVVVVVVVVVVVVVVVVVVVVVVVVVVVVVVVVVVVVVVVVVVVVVVVVVVVVVVVVVVVVVVVVVVVVVVVVVVVVVVVVVVVVVVVVVVVVVVVVVVVVVVVVVVVVVVVVVVVVVVVVVVVVWWJSCJtOXR2Sm4pHqbCB8/IEHArQlkdLsb5Uba2TahKOwVE4kJEAJlDsdDlDRGYC16ARQAzVAUk67D3cQHDAZiBHLsc5yFTtXZYksMgmRYCawV+XiyhangSBh6CrqxqNOA6ZZE4NAXYpOY/BDbJpL2zh1NFTpT5d4uUAQKxWFjOy4VG1pu6YLaw7JIfgVuTXYdiNVwXSau//PkxJdaxDqe/tZwdvCl615gVOtFzS2TBwAFWFLZJJSmEsCZMpSpbHphnUvcmMLmU2Yk/1yefWIRJUypmTMBZm7roPMIwBGq0nUxibOZamiXhZK/r61sZTepXdmJ+HX1m3gkTxW6z/WqWOICgEZs7IGXu4xJW5ptdyWu8wxqOVDOEPOKzJr7TVpJhPU75bkvTUvvqpSYCoPM7lk3ZzjL7Lqf2Mzj/PSkTLLbKZFNOU/0npI0sZU0mjKPL2vqjy2aIuivGSJupcrLCAwFRyiQ065VNWGtdllHZxhqJw7ul5VwTEFNRTMuMTAwVVVVVVVVVVVVVVVVVVVVVVVVVVVVVVVVVVVVVVVVVVVVVVVVVeAAIICtksdP9g9lTNMa+kQCazHIIjeXoDI3+TrBFDI0BDB8FCYBSUDgqAZhkR5lsBBhqEphLQI1ERCq4QDAjszsj0WPtkHJKllBiHmgOFFC3oKiLWixowQauRtqBcEQiF8LLtiAtOgKGi0gGHMo4SAR+U+PBQOgaX6QdLPz79FzkMplMhTMxnlWIfkCaEqmXoLJmgMOgp5JjsIZg3j+tzeZKhoDUGsSJ9E5pVOMkCozH34EZKCZyECbES5DbOQn0YITX1RF3QYCoO45IEn28SkE//PkxNFpRDpCPs9yLNadRUhwxiW5CrZsDkUzEi56dQPCaeSgpLg4VlBZwhCBjyJzEF2MaYO0902OjgMYjYjDIiV9KWLDI8vXCkJqOMPzbBmXwC6zqyl3HnwsrZSEgqWrdTnbpBTstgc9kKW6QcRWBZe1teDqJRF7EIBoS3F1hGvyqfWsBi2hMMcWmirc0fYkkozldzgJTpRNdXIwxn6E+lhlx5SuRaKAOlMgZQBzkqghFQ8UEBUKIpjhp1nGaeg6o0rQA2pgrhOhUKELdFhaAuI5cy0+CI1GWYMSg+TQZKXDTEFNRTMuMTAwVVVVVVVVVVVVVVXAAbBnMCwF0MCKGAGSYBcIAEAQMRgqAPmFGFwZYJ0hxTPimt2H2YewEAAAPEQAwNAPBgIZyzHEyxox2PDQWGTBQEWCVzLBixYZW4G2SR9+WbeNmgkYkbs8JAAKiRa4QhBIZmKhRiQcHCgjAy6JdQxMOMUBzAEAz9TES4bNJGtA5oaGZKbGHixE2vQLGQs0GKj5i4eYCFl4RYFdJQJCtiCc5f8TeJrM4hEtMqoArm4zdGQqPrzU+EHBgy9jnI+MOUygKJrHU6VCXnC8lzViY5gAOgSHLvo4BcaqhcR5KSMRhg7EmyorpePKvhYR//PkxOtvvDopVPbwnEwTADkmEZeAGjZOSPCj4+GXAMwVNRcIgysuJGUM0ty1Z3w+4GsUFXgYhBQkoZDxtGgNiV3PtcdiXS+iucf6a+N2WuSCWPw/l2U2oCgRd7RyEKV5doRJEKwENooEcDFkoBkbE0nHXDDtCUFXVK3XdZKcawTBX3ACZrsq0uqHKIgKZrHawsMv9kDToaTEQAIZJjMVUxkzowQXLgpJVDu3ZKhokOJGhCXOEhF3kaxk4U+NRSpiiPoFq/SWjE1AC6zUkQnxQuLAVD4su5TFu1JEJInykekOTEFNRTMuMTAwqqqqqqqqqqqqqqqqqqqqqqqqqqqqqqqqqqqqqqqqqqqqqqqqqqqqqqqqqqqqqqqqqqqqqqqqqqqqqqqqqqqqqqqqqqqqqqqqqqqqqqqqqqqqqqqqqqqqqqqqqqqqqqqqqqqqqqqqqqqqqqqqqqqqqqqqqqqqqqqqqqqqqqqqqqqqqqqqqqqqqqqqqqqqqqqqqqqqqqqqqqqqqqqqqqqqqqqqqqqqqqqqqqqqqqqqqqqqqqqqqqqqqqqqqqqqqqqqqqqqqqqqqqqqqqqqqqqqqqqqqqqqqqqqqqqqqqqqqqqqqqqqqv0Pd3bd/rttK9P1Qx19K0Ja//PkxBE5RAK2XssTa0tyHipCGliTjcpNTQLNp+mMaAswcW9NWAVTZV3ZgWNUlFnd1QwLGXJgVg8rm52VPS4q7QI2bQx24qIvw7koBUKFY1Eo9LITltZ4+ulYAyYTxLdumPsMiSTDMSGIKwfdEbOo1p9xWD5CJdJl6SguOkLkT2egUUf1XESZYiCh4lgRIlyRA2kQdEFgfchQH0KR84TXkcvNl69fPn93/6/rrqzSvmGmmtqdK/PGrLEfTS9FUrRE5Je0QT7FnUHjazKp5+GDGf1lzgni+eZUSm7/QC+iPvGbTEFNRTMuMTAwqqqqqqqqqqqqqqqqqqqqqqqqqqqqqqqqqqqqqqqqqqqqqqqqqqqqqqqqqqqqqqqqqqqqqqqqqqqqqqqqqqqqqqqqqqqqqqqqqqqqqqqqqqqqqqqqqqqqqqqqqqqqqqqqqqqqqqqqqqqqqqqqqqqqqqqqqqqqqqqqqqqqqqqqhiBGvlbutm+8bpk93CWYWrkjs0+KwLeGq+As0EADQAJ4GbZ+58wSOmQJBG6FVHOyXGS55mMYJKBsSQUlMbX0TUGvierpMTTSytelb7rzR/UfMMkMPVUeyMYPurazptLqJ6/2GTsrq2KkAOXACYi6ITTX70P3LGc3//PkxHhS5Da+/s9ywhu3rDf55Yc7K5frUxRQHD8xLJXWdhrkOP5LGAAoNqctjSwjTHjWPD8UhhyIy1+/Nw/D8s5lc5qGKWN2K8bjbX43nBMjdyQfIn8kOopSZXZXL/5rnfr09uITLK2dtfglL8EgmKODh4KWWXLLjipI0m+TCHYUEa43lh23qbxKstuWfMEFDeH4cxiEsm3QYSCg2jOe1yMPq27+TimDBJWqeH43D+dP3KvnWdhrkOVY3rUPuROvBDr1rXn1K3HlEB083G1kpd3nAhycoZde1nE6O7q7UpMKTEFNRTMuMTAwqqqqqqqqqqqqqqqqqqqqqqqqqqqqqqqqqqqqqqqqqqqqqqqqqqqqqqqqqqqqqqqqqqqqqqqqqqqqqqqqqqqqqqqqqqqqqqqqqqqqqqqqqqqqqqqqqqqqqqqqqqqqqqqqqqqqqqqqqqqqqqqqqqqqqqqqqqqqqqqqqqqqqqqqqqqqqqqqqqqqqqqqqqqqqqqqqqqqqqqqqqqqqqqqqqqqqqqqqqqqqqqqqqqqqvpAzLUlLFJGzRJJ3Za4UzSRqTqBQ+oaoVR8oJdj++ylTEwACYwdscyzHZ3S0hgUDIsGzHEfAIBBgoCRh2H4NCc0sCoxrDcw0CwQ//PkxEpHa8a6Xu5fNgF9nrECspVM35YQO+lkzW5qpjnKpVRyqed0vG0OX7r73elcWqNwRDV/aqb/5tlj/v5J1LE62kRWe5SxluL9thBwqsSRD9RTtWmrO1MJ/EQJohGgYNASBqbBn+3Vkil9L4Psf8eLJPu07VCVrY5Ytp/ElP9FIUbpIgCAORGN8+tvI8WNBkeMDlEko8YMISnGM+mxdtEZRxU2zk5Tx7mCplTksGXztQKqYuB0NiqixHsFWNouMiiRTIwKx/GfNh7ni83ZivWLuDHb42Yta/ftbcZ/lvitTEFNRTMuMTAwVVVVVVVVVVVVVVVVVVVVVVVVVVVVVVVVVVVVVVVVVVVVVVVVVVVVVVVVVVVVVVVVVVVVVVVVVVVVVVVVVVVVVVVVVVVVVVVVVVVVVVVVVVVVVVVVVVVVVVVVVVVVVYd0Jc6TtbkmTtRlYBLUtRgFBQSqiNBkHuAIysyo8LsRVGtYJ/qB1mWvdSrmdU0kXVjLclAAYoCojNcMHAIIW0IQEyloPdPDfEAiAUN3+Zc+c/L4RWMEHzRFMxEmDBCM5S+68FBKIaYk4JtzHGKWfc+ik6mSlacLeJuKPA1oDhgQhGhSuXwJBT/vE5iEo27j7HOzA3pDxVZd//PkxJha7Dqq3t5ZelUemxtzYE3ELAmCAiiteNyuLt9ftdvLBJxGMOTHIoJWNdjjLWZPo1prTcjRUBhoOYkNZUkCQ2/lBcf18mxPqn2gHLVtfoFh3paCsZPo0kwq0JMLnRQk0MWMoLg2EImSSZbGvRaSJZayAW0xf1hbO3FgqCM33pYWvt+IAhSr12JItvLnYYZGnyf93kEHgFjoOY5k0MSLdEueHUxG4HR3TCeaEtzPtAnbTupi8yfxCIWzkKRaFQFS+HwZIiKtLpjERhpDoS1xcckqEJ5K+JywQEMqqE0KTEFNRTMuMTAwqqqqqqqqqqqqqqqqqqqqqqqqQl9rN2YYi7xyqAmutaKAMMnWkMfCrMMQCZC0xlXWuIpmBwIGAYMmAgXGQoymxTenv67GwIXmeAImEwQmFwJAULQEEBgKBQqLpiAAIQBJlUf5sdTJ681hh+W5gEBAGE0wiCYAAQYOhmBhGLQg0GACIpkgYpogm5l8TBiGL5ioDyTKt7+x1QdHgEKzYDTMXz/Izu2hMaaUuztO6QrefdRxW28nqZRaZQMY9GkEkk9ryS1gyBQ6PQMMeUBMoHjzXFjOwzgqQ4u5EEQ0vwvctcwwkWKmDBAQGGEjHAg4WAASyUbosIE5//PkxORuBDpYoO6xcrJSbiKfCSY5GYMkZ4qcdWBo7olUAJFgqKCxw0K418AO1GaEmPIGGHmRDqXo8A4REnCaYvN6D34LLCxy0xGAw/BYyQIkUyiASi6IImDyhUC52wM7V23SCYddFjxcpdbAHYWygy1FeKo5Km20pecANSUm8wcVNaMIjpaMWXUnO2ifTYhUIhEtF0ohHE53WemJ7dd9brDWRNdcp7W7vjFXeb+DU476+70sqv+3eERh2nekT9z8ihN+Yp5JIs5JTbmalBJvpOTc3n8uzpbeFPV7m7Ttz9NfTEFNRTMuMTAwqqqqqqqqqqqqqqqqqqqqqqqqqqqqqqqqqqqqqqqqqqqqqqqqqqqqqqqqqqqqqqqqqqqqqqqqqqqqqqqqqqqqqqqqqqqqqqqqqqqqqqqrhQqAEJuIJSoDkIE6lLkMzB4Wb9ASmW/M0WsTWNgnZsJhgaGFxQJFRvQsBU5B4izSWqehAPTMHRPOiYHP0WAREEGZszjQUAydifBgUFkRoM3gg+3FDGARBoIDAe/EwiK9K1H1cplIVEGj2HYK0ylLHZUu13XRishgNnBgyBpySl2bXXjgaCKZs7+PCqZuIIOgbkDhqhj2pquUhkxWHm2gNGwVKG6VHFBO//PkxKlfRDp2/uaxTHw1Dbc5DefurKX7LyjFQH5iLkxNpS/o9LI/A1lrT7qWpjPCwyArUVoaGXSuXpLjBxo6zY3IGWS11WkW3ziSRyPQIULPUxFQRCJ6pZyruHmltJac7ryv0/WMM/GVtum0uAW9aS0aGnldVusTnHJp4IZTUWs8kGKBMvfqlgNc7X20ZIyV/YXCFEnampBS15lw2mQdAspbiy0FCaWIwpxPBOunDDWlmOjccEEGuNLm5RVjeC1Eu4EV27b1TbXJZNWpTK2lS9xJdQyyGo5jTw7SUbGYGgOgTEFNRTMuMTAwqqqqqqqqqqqqqqqqqqqqqqqqqn1eqWPu7TTWJwU87CxCARhkKxiAFJ9IrJkYJwQGqv2uQKYGAcvAUCUDC2YYg2YGCUYZIIdDaObvmsaUrqZKF4Zfi2Y1CoUB8YmhIxwGBMYJggYtHsb0S4aQcuegOKYwDEYGiAWAVEhCFgKCAlAgDg4hwyeU/7kIkHPlCUBazhqaSNXLE4m+5cBbKOwiFg4SzWeiEBxuHYfn6jSkfFvmYSlANhrqLBFgAWcMKQMgaBzg0Agy6VTQ4ZpTIw4Vjyj7ouKVSwAKIcy5SfKHw4bNcZHgY8AQ8T1V4TAlN2kDQReJb4iK//PkxONtpDpIAO6xVCCZiyKqaqH5EWDhgVAiW4tINFxYgZcCbhKCkqhrCWgoQMTLP0rFUM10lyFUDUFcCTyaqcMHMSbMMhS+Q0iStpc5XjQXNd5pMWQSRuGAQckLDyZw84SAXqS9LTBch+aWnBwB65sISkaqJMFyAZhKUeE1irAT9u87LrMaYwmWNCUYZ61dkjbrDUSLiNETX2ZhLMZe4BbtlCcIgiVpYDXVysdbDeI4NZdW68b1SpiEcbmoYkfDjcC8RMB3WJyBL2H3LsRF+sYGilqrJHScWG8q70M5wo8qTEFNRTMuMTAwqqqqqqqqqqqqqqqqqqqqqqqqqqqqqqqqqqqqqqqqqqqqqqqqqqqqqqqqmWACgDDtbMkzIjNCjNlzXAgiubpIYI+GPjkQwsBMUeOikPY+TtjkzcCNgRQcAJnvKYcGpuAYSMUFYcKg+at3iM/MoRzbucjbSZOMeEUbgYDAwcKDQvyaYJkrOcKjmDGYQYp5py0ktcpmwYOiQOYInmVIgoPBxKularjq5mspgiiSJMNCC0uVJRNhE9QP1BqsUpYUbKj8FyC3zV2Uu7EXZVSTDSMNOYJCJQho9YYMGUeDgoKbRMlw00DDQIllU0BCdj5O88b1t0iDop6u//PkxMxn5Dpe/tbyfKuXNqpl1YxK2aJDOO7kKBJBkhTMiSaYvWlUbjURf2kTCBwSsSRDBlSg4V7IGZTK5uHoGWK7ClaE1tnKROVGpq4KtrNGwoBYAfN/aZEIskWubG6uL6wKhk2qqqxY6IhRIlTJTIuUlskkFBQMSy2tNMqS+SFZK1pS6JuLNPEuqYryhymtOMpiABwwGXA0hWJQFZQNKROh9wXKaSy2EplA4p312pgtal7asOVRLkggEDCqcLCo+qZMrRFeKNKAoSX2eF1YzGIGazAt2IuK7L+q2zT9RKHqTEFNRTMuMTAwgCQJncTVTyGACAYACIwAjAXASMA4AtiYXAlMFsAwwfRWDCxaMMy8SIwIgQzDAHzAEBwsERhcBIKCVshgSDw6AgyGpkKXAX9885l40wOU0KVUwkDcwIBswyDswWBkgGDRzgzgyMzOQr4GPd5waMY2OhjaELpZIIIyAIZeZMNgAaMJEjBAE2qmFn4eQDDgQAhBdqB4eW2glBQAgCMCFDEA4yskHgaZhxh0nZ+3zM3oetMwIIDAQIOBlp5syf6H5tIuAZWAQ1VQw8cSDS1XIq5ZKXDHpUkoPCxAJCRSBQJy2BLAgABawhcIg4FAwkdGCCpu8uaqPGjy//PkxPZybDogzPd2jAauBAZTGSQODjBxUwYBFhFRgwsKMyOjCAMysCNIQzLBcwwDYoKABgwChNRwMSACqBgEKMyDkCIXRDRCcWFXdIQGLSBy11qefuCHGRlaa7t5/ZJKIDsRpWuri+jKqJ94ZmqWNuk/daOP+0SWq2zst90YjDt6H39lNzc1aizotQb+MtIkEPU6nSAZiVFHlAiy7K0PRkADjG+qUuksC0OGIyviRN8+i27V6o8uow80eTDWxPr6bSLNgcppSEpPWMR2FKcPrLWAQDDkls6fyM3VFVNoVHLdTEFNRTMuMTAwVVVVVVVVVVVVVVVVVVVVVVVVVVVVVVVVVVVVVVVVVVVVVVVVVVVVVVVVVVVVVVVVVVVVVVVVVVVVVVVVVVVVVVVVVVVVVVVVVVVVVVVVVVVVVVVVVVVVVVVVvZTgLktqc10bbC1k0MQCecM8FK5XWo4DADUiOeWMKGdJBxm78N6pIyhwzjRHhJUUAGRBDQp2GASZd6HAxww5h4w50wYxQw1KY0poHGoMQZZfCS3aQoco0BMfAEMzbOA10F4FYy47N1qpFoJTfRGVCFOg0GMAgIQvwzN+mAN6tV22rw2oCyGUNMlkRiDtl+HWWDdFnTdFzQw77aRZ//PkxJxcBDp2Xs6wdi3CpsY79iUzON6CIJvwRAlJFnpvLKYMXOT3LvlxAONrL2IFQ0sG4yJymSUeTJ3haM3SGJNazQxBARJrHGUJ4yiRM+UwZxD7/PA8ap2TsMsSyMNYnJfKsIxORiCIRKMZFbi8+/c9CKsTYW0uGFUW2g2jtya1QRaWsri70XqCxlDFt2FY0Aj8p0OZL5e8MD0jW24LCiwVKaaTLdlr4OzAbPlOoZgZU1HEYbhHI/L3caa2uEO7a+pu09+lhJeWCCyIfeWWRV1b16DJtWxIRDqsEu6AnU1aTEFNRTMuMTAwVVVVVVVVVVVVVVVVVVVVVVVVVVVVVVVVVVVVVVVVVVVVVVVVVVVVVVVVVVVVVVVVVVVVVVVVVVVVVVVVVVVVVVVVVVVVVVVVVVVVVVVVVVVVVVVVVVVVVVVVVVVVVVVVVVVVVVVVVVVVVVVVVVVVVVVVVVVVVVVVVVVVVVVVVVVoYBUCJNxpSytGLQIIwM6KSJ395ZoxxIzJebLdyRFCUu+AQZjT5gRFNJi55aOFRiMWaxlQpcU060wywxWYGBRuK0l7IQRNPiUIBdNWnlKOLYHAIAtxY0k198/CEL7yWX7huRoOEBxju4UrO2MkNRqRwXceYn59//PkxHZSfDqi/tPxHpsADgIJBvlnjyO044Xh4hw4npJAgKxrfvnNqVjId4m6bQxXyQFQ4NavbEMiK+el1MG1i4UAEEYAm+uKy0unYyW/f4LIPCH1WwnwyNg8H3mUO5Dk5KIxm4DiTEMJyJWSVG9AfI427DiPWuvNaasbAHRVgZW19Odi6ciYDWHYa+/dvO2/lh0GuSNubrzEMLkhDW4tF5RKGsSaadyPyefZQyyGHInZI5jD2SSynmKJE9WuMKVhAHNhtgaYbjszV/esMjTDgeG6aKPunOXYdVd89SUD8TNGTEFNRTMuMTAwqqqqqqqqqqqqqqqqqqqqqqqqqqqqqqqqqqqqqqqqqqqqqqqqqqqqqqqqqqqqqqqqqqqqqqqqqqqqqqqqqqqqqqqqqqqqqqqqqqqqqqqqqqqqqqqqqqqqqqqqqqqqqqqqqqqHMgNJKOWtXXICFRIzrtT+Tt5dioXCuBbrU1Mkk78pEQIwy4NkGXAByZGJcEMl0yIKZVCaNufkYXKWlWXW7EZcNiCJhIbTrf5eEhp25wupGFh5+5Y1XlfYxGGdtNzxzp868VigBCr9u1ZXLnThuSxstupc8TBG6rrvLnYYDBQ4qSPahVakIw6UyGKQ3xGxqwXdpmxk//PkxJRZzDq+/tPxxmtdqJCXvw6Vz+d8uy+qNVzoYnPChkzLEimB1h3SEs8gCIYFomgqVJeLOBQF4AJARgySC/1a0EoR0N0NogRrAMEtUeeuhXEFpHyKDIAgRBZdSY6qazCBacSxmdLseRGmUMybgnwX/S/LQF6FrAIAC+Bvpxo0t+3BTBhDGVLqlLJXgaG1ts7YkvGfr0X5DjNH7h5w3RTIVLYtzT1LlUvYK0FD49TWGYDBM+wSAyaFEZxrEXyw2Su0zikl7grRLgtfd5xp5MJwVqqcLTUtkMWeZy4cvwdVTEFNRTMuMTAwVVVVVVVVVVVVVVVVVVVVVVVVVVVVVVVVVVVVVVVVVVVVVVVVhFAAQprByDMBs9VOh6ZukmrF52i+GCqZj0uyjYLChp8Weumn8thiQiY2YGtlwED5gssjIMNqMQw77zmV9NIFw1CYjH4XMqHcyqETMDyOYTg0QkTiCPNDoQyCLjG4WO1ZK4cENAYGohZMOALjGKAYoCKSpF0l21no4zSGyQyWztMPdJczXW9n2tPs26k34eq03V9YaYOv9OZ2WCoZKHqq3Ek0syqEy4tqWeC4qjrYg4MWKHAm5jB6wwoOlYggedr6cjvpduSzZIV20RxgR24UXrLU//PkxNJpZDpyiN8yyIKCGDwMaTVDIAGBL5DTyuDrMCAQycXPMY4oFUuCFioEDUlhVUznKEKBf1jRcoBCBcY3CU1DZLBYBawMWBDSGTETWLLKITwEcpqkPPwa2FZska/aoXRepcTOWWNDdZB1xmCvquJoEphh738jbZHSWm9bxIOP9HmMO087AQwBPJFUgKQNVMXIgJO1fKE1C1BMlyy9XDPF8pjplLWab76xLB6WJvQ8a6bzvO7WWDaWwhK5E1eClNiGIFjT6QYx2mldd0p6PvI6Cqr4buzM3afycgmAH6oVTEFNRTMuMTAwVVVVVVVVVVVVVVVVVVVVVVVVVVVVVVVVVVVVVVVVVVVVVVVVVVVVVVVVVVVVVVVVVVVVVVVVVVVVVVVVVVVVVVVVVVVVVVVVVVVVVVVVVVVVVVVVVVVVVVVVVVVVVVVVVVVVVVVVVVVVVVVVVVVVVVVVVVVVVVVVVVVVVVVVVVVVVVVVVVVVVVVVVVVVVVVVVVVVVVVVVVVVVVVVVVVVVVVVVVVVVVVVVVWmRUNBOXWRuytGMx42DHrcsVBTHGTT/QJhEJYJHLbveOhmuyDoQcC7dJ2HJQ8LIlBmDLFhhkBbQRxmO0c4hijGSM9jbZQGcg4i5GUt//PkxExHzDrO/svZKrxUIWTQcSuQ40leb7MZJ3EuOKO4HSSBDzRdLpcmL71iSWatNCWcL5MVtGkFhuIxMXEwDisPYekpSZDsDIvI6nT+PF6OR5LJwubLkJKXwskAKBwMQPHx6laWEHRCVuJmtXrRKNoiUdDWc3AiTwpTjYCpPk5WLfpsSxsxMvJq9YsVlkTh3L5+lKRTPYL+rxommLwnIJy4dPtXnCrQTDtpl+IxdOVx0r2VrxZNiUf0iWr+KwpPicqMWichk1xaSm2isB0UllYdQwrDEqusPvMnB2tW61CqTEFNRTMuMTAwqqqqqqqqqqqqqqqqqqqqqqqqqqqqqqqqqqqqqqqqqqqqqqqqqqqqqqqqqqqqqqqqqqqqqqqqqqqqqqqqqqqqqqqqqqqqqqqqqqqqqqqqqqqqqqqqqqqqqqqqqqqqqqqqqqqqqqqqqqqqqqqqqqqqqqqqqqqqqqqqqqqqqqqqqqqqqqqqqqqqqqqqqqqqqqqqqqqqqqqqqqqqqqqqqqqqqqqqqqqqqqqqqqqqqqqqqqqqqqqqqqqqqqqqqqqqqqqqqqqqqqqqqqqqqqqqqqqqpiQyZE2+2k25CYGtlZkUGAglXJd1hokROCnEnLMShnSSTotddll1//PkxCc+nCrG/tsfm1f1R5nTXqezGe6oGtOtda47chuR13X9UFcl3X9jUw/0EwLVs7pbL6s5gWllM7uJJzQLVlsppZaPthW1mZOSbmfx0qJJQ2jFoIxxPa5CZGSMklmWVvScqWvhJqaxzFK1aciCPoFkA+OT2YVsH5+1xpd/Qrek6Pkp73WkegPLz2s2mZ3Jqc2XfhlHi6+nIkqZZdq6lMT3HmaHTzR9/ZstGReHb10KlpdaAlH2upSbxVPvqmJzYkqnwobjCnexcvZWWqdVgtyCQ1x+WF0nnLON5eyM36C1TEFNRTMuMTAwVVVVVVVVVVVVVVVgTGCaDkYJIPBhgAHmDSDoYRA3ZhhrSHC+h4aR/CBpcmKnIjZGZ2PmyBMmXNhG/LdGOTVmdJonljfGxj7HACiGuJSGLY9GAAjGHBPmHKlGcYZGAg0Gmo6GXJCmzS0m4y4nCjbGXxKGcpRGoIRDR4mQYlGKA2mBgUmDQGIbggqcBMa9QNnzLsQoOBTdMtkpkQ5RBVpcpm8ubihqwNVhCAARoOSvqXoHBJdlT6axexPJqcGtwUPQSoaq6LpSpk7E1GXWU2S3MMTM0PGBwBEGLJFkWfFmi7S/2BWV4iICsOqGQKvR5Xi4ylUqwZ6j//PkxOtvvDn4DPd0WOq6dJOmadx/laVRiwUQA19qWJ8slUkuhKMOLhYYRC2cqw21zMoaWz4u8wJH4kAq9gVk4CEmAAgYCPBXXooQqq/zSmXIcXIT2TDQYR6cFsLmwM9ylj3PWjK+bMYQhKiC61Ni6zltOdC6/7DGyMBfW+9qHFczes4avWnYFl0JllLKoKf5j8pj1BStJh1gT9Nq4zJZxg1CkakC97frrgd/Zay6IQA7S7WkQTJn1fyNP23Fe7todkcF2NIagxeON0SFYm8Cqhc9+pY6suqR2IsRt5rtp78+TEFNRTMuMTAwqqqqqqqqqqqqqqqqqqqqqqqqqqqqqqqqqqqqqqqqqqqqqqqqqqqqqqqqqqqqqqqqqqqqqqqqqqqqqqqqqqqqqqqqqqqqqqqqqqqqqqqqqqqqqqqqqqqqqqqqqqqqqqqqqqqqqqqqqqqqqqqqqqqqqqqqqqqqqqqqqqqqqqqqqqqqqqqqoUKDlutu1pdhFaVqroOjqEPzttBEMMPJHjaM1pRMtbTLmX4pdEZM8ZdVHhLplNST5O05SAIQvGmhQuKlKdMOokpFIMpIl4qdYV+VbXBZkx90pBBLIWswCy1RZ7ldRKmZtKom4SfUAK+SSCAqbJlKLT0D//PkxHJRbDpJv1jAAlpnjLc6SOSKGp97IxA0MsCb+dksxL7TWXoflTVtXNgGJQpu8/XljZO4TLatrKXRVLdkDWmBO826wzEpXDVPAb6R92ZbAcO1oXC3ocaBZRlImCw440qht77kvfJm1VpK0lqSeVKdOY5ymNA8EO5u08ctqO1XiMMU75w5LnYd23MVIpqafeA4eZU5tBbo5TztLjUxszE5nhPb3MQFegKjhiAY1TQ/YqzsPTlynjcruSmEzNNHIelT9TEfjMZlEbnYdlNBI5VE5a/Pbt2XSupR00qv40mdTEFNRVVVACArDIgGAwDAgGCAiKrWjVJhNOTg5t3zsTFMNA5EQ3cQDMwiMAsgzSUzBAIYcZxZZokVi1QMtg2SL9TnMwMBESl5gpcGRJ5mqbI1Yi9AkCHHsYGPzIx8yoNPq7jVFAe1TlHYuOwQeF2WJFhxcYoCGVChhZChUZGDip2anLnGnBtZI19OxFAIIFK4dMdEDPCAwENMGGQ47BQAAJYz4bEYiBkgIeAMHPNLWDuvEoozQwwWQCoyGDjBmgkYOFmBgZiJMIgQwcYNVFzIEYx5ICvE/8Yeeq/7zwBOLMMEJjIABMwwcPUkiMxFB8wkPMgex1XMMBR4jLYCxEZI//PkxPlzDDpCXZzYABgALzJxJ/5RJ7MPxfVJFPsYEgcGCBkw8W1TzBwOCQEIBzDwUkABYAMgCAsrmGIRjg6YEFFB+BAwLHYFCgYCMCMPQTICnmef7xysUmNunrWJz51IgRASA0DCajEBQG+K1y5CMTLFh2utfMiESZKBQOSAAUBkwF1DwUnsz1LccA2j0bWFbOYc7j3D8OYZ9t6/n/r811oCzBwlvmsAQAgWEoS0w2SpuAoIZE6LT32AgAlwppMrkjJjhgiktVTNmMAJQw+MgNJD6qLP1kw0sC8q/kLS21GqTEFNRTMuMTAwqqqqqqqqqqqqqqqqqqqqqqqqqqqqqqqqqqqqqqqqqqqqqqqqqqqqqqqqqqqqqqqqqqqqqqqqtTVkcbjDb1oBHDAQgEgTvhYJV2yJIscPz00EWGlSydhKQpgguYAAjrQaolGMlxnYYAlowsYJgYz6DN2mTQLA5wUzXZ3M7gMZDZlcomExiZGEJioLmFgQFggYrDZiEKmGAoYNAKwQ8JQcHwUFyUGGHgENERX8vTFeVgyWgqAEAAGBAXE5gsBo/JEll6YoAxbRHoOCACBjWWBIUPw7sGLvft/ltTPYfg16H8WvKY9m7bclyMrV2HBta67mnLDL/23R//PkxMBk3DqCX9vgANNZC6JUXfUcRgdiTFv04y3hags4CAAFgUqJ3QKCRIFsMLkCQHp3ZZY5MUYY70BqaOwmXRNPLkOK4UIaw7E7Su8/kOQ4l4WwUNfZyJemC/EMPOy9a7vxZfbQqRQdfS+X4etPsvEpFBAvWYa+4rQoexbggNeMUADiMgZwzWNw89cwho41qZpmmO2kHiieXbf2NuasiIA0GtEahK6lJFnelkG0kUxjeWe2krKbM0iqp6jaXC5qHJdjXt1r1ik5GoaXRPR6xboM6bqtll53muQFu1J87L91TEFNRTMuMTAwVVVVVVVVVVVVVVVVVVVVVVVVVVVVVVVVVVVVVVVVVVVVVVVVVVVVVVVVVVVVVVX0CjgPvoZaHBBABAxL8AArwJPmCCgXeIba6AkBYEv+6bCE3AMXiRaKAS40KxVIMwDQFCBUZNtJj+agzwiMQATCgI1sRNaTMSPGiIyEOBuNOlSvMUIMqHEI5JAxgQCODUYDiAwNerYjMEIgWIt8cIZvXGfqCUzhNGl0/gssPMqcl1C7IRcW5ZkiYFgiIVCYzMdBgBD5u5ZcmHCgxZlDYUTAAiAQkkSrfJBdIIMnAAgiTPM8GrKNkQoVHSiJgS/DlR5JFoiEaS86//PkxMdmxDpt7N6zBIhoqGgsOEgwYxilLSUUaVRDQhjbwM8AwjQFh19opuk2afZ0/zbpWP+YQjIn9giIrrjdOuct+7zNRJlNJ0EdFeNIcRZzM3zcdRxx1h4dXDLJDAj8PNDTXEj2PpRJV3mLs4sSddjTW2kCKDK8U/21bk0d2muu5D9mbSza6rhO9yENUkXfZkiQ9JEmBAh5E0RiYFTJ/082Lxp5YO7E3qctnEZfuCFpsDf5dzBZfGXPh+DHQhp/515JY8TwO5DkbR7ZXblb3ROAYm6NdTTUnnbsG4TcRgOYTEFNRTMuMTAwVVVVVVVVVVVVVVVVVVVVVVVVVVVVVVVVVVVVVVVVVVVVVVVVVVVVVVXRhAAy5Kf50OVzNB2AGoItE5wAZBDA6otDylwwBXnbkiEJKBlyDFORCEw+JAECxITiBSn2BCZyFZiQ6mLRYYVFhjFHGIhwYVARg4VGyS2sIDhWIwuMAcwMFzEIAMADsxgIjYIBMLANvTfUg9HkyDHfBwJ1TGCgaah0MGmIMFg0VA122IgIVHEIEljWi45ZlzDDBMgNZq8kvkxgAShuAgQSOpWXZMl4GAmMKYRYKaBrBuwkDR/9GCmmMY6QMQM4EGHmKW4ymKOCNy510rsL//PkxM1oJDpp5McyXD0eAgQ0GAn1Jocg8hUIiBITzFFHhV1tjGRAoC8IhCYKy9/HDadTsELbFsh4RMEGhK8hhfIwUxAvqksFgV+AEVn6qwjDXQsZjKBBi7OX0Z0ok8zZR4OFJfNbkUSV++MMPy0tdsJlUihl/aZ+rFVlDKHWbApij7FW41ppL+Eu/I6KDneZs5roLWSoylz1xZkSKU871fd+X24dgPGQu3K52UP+7a1G/l8IcmtHX4jShzdoaa1FJQ1i8/TMYDwr0j/Ukjuy2Vw8p3DboLCPJG4AgeRPht2VTEFNRTMuMTAwVVVVVVVVVVVVVVVVVVVVVVVVVVVVVVVVVVVVVVVVVVVVVVVVVVVVVVVVVVVVVVVVVVVVVVVVVVVVVVVVVVVVVVVVVVVVVVVVVVVVVVVVVVVVVVVVVVVVVVVVVVVVVVVVVVVVVVVVVVVVVVVVVVVV1SqxG+03K+qjSFYkKW3GAI+SCHtsdhLTqIs2/SSkGIcDOAGpMnmCxNtkb4NVABQoGJBGkCKEEwEGFtgMQmmxZ3WDQ9JQoQYBRWcChhYSBnBcpuKCdO1kzguAvWGknWJIeugy1y4Pd5dq85cbsAlpKicw3OaQlA2xsEnLcuC/gZU6cZsJsogX//PkxIdWvDqmNsvxlqEnBcABRMjlYQFUOAeo5lWjX6hbpHItw7QJ0M9cAMQRoFwGyT4/mkwDKgK8t0cylqZnjMCmNxKl8V8YeRbyEJ0nYzFY9YFeK4Leh5uhyA8FaSxgL8PxDCTlQecdSO1WeqqUCnaFaomBLvVdNIdL582oljMYgStIU7YGlcNBzNsT9ypFB8IJQA1JeQFAhyELEoZDOOVGog4b7wDavXmotdkT/UrYEwmHRKkZU/+TSW5U8ES+dvSWD3e5dgmLxu4/rix+RSyCi9E3I4Fcae1AUHsuhn5STEFNRTMuMTAwqqqqqqqqqqqqqqqqqqqqqqqqqqqqqqqqqqMBIYEBSgOFJhwIFBaT2QfCwGEIRGSEdTCQwGSYfPoyFQYgD5ik7m1w+hIUIMGgxjQcDguSjDw5Cr6NiPs1QfTPoaEg+YWCZnpVmt16YaoZ/eTGEgQZbEZbMxOADBxQMgFQ8gEPPAjDjQyIIMJBxJ7JiM0xANxoL1johivnPCZjQUGACwKgJCVHkeUgiARL8GGFCCVKls46SpIfYe5LzRda0eiSfoqCz9h615QhoNBEgIAVCoCqZoiAkYuQDCSyUqT+LYPer1tV2y57HMTNaSkUQANPNUYzCSABW9Ec//PkxN1sPDpqrubzIAgKXYGAFVQRIl2LMP2MGMXVjZWsZdK1F9rslypmgvgyhNoSbQ6LzGRUyBAOliWyMIsSHWFVciknQAl3Za4v5sIMAX4VhFQFWqMrrlyOalCBrKEq3IXu/bqqSW6y+ZflYm1t10pG4KmpkT3blMlR4aUoKvV2IlDEITmaWrykhpNMtKWhUeQZQpXgxJkChyyraLC2mnLtldt/V6o1stfiGlT126X26pypdTK0XHbO0FoLpRKmf9nSy4+/TmN1hp5Vh42pNCemJZkrzwKydW9ml9XsQi85TEFNRTMuMTAwVVVVVVVVVVVVVVVVVVVVVVVVVVVVVVVVVVVVVVVVVVVVVVVVVVVVVVVVVVVVVVVVVVVVVVVVVVVVVVVVVVVVVVVVVVVVVVVVVVVVVVVVVVVVVVVVVVVVVVVVVVWEJWSim42nLkTAsChQEoZIquoYZQ0A4+MCCyAJL1oSwMTGvZx5SUPO0PyyTu6MADJUjpUSaQIgzLutAFQ5maJm2RkwQ0zHkIYDQwMoQNdABzYx4ooBWFLXNAo0VWMvTWYkMi1UAsEBgwy4hUt6JN7KoHV8REFIuTTxFy0uy1bJKb26vs7z/CEG9T9R4vphEAIEDJDLS5bBskKU//PkxJpbhDqq3t6evkX4ghIxCR0mocifF3INHlPwzydnWQMMImYa4QMtodYoxLk3L6SlZL8nFYe7Yvq2RaxEdNcdGl9LmdbYTlgLo6BuHELWAZnQzRi7HmujuVp9uLQdSukU7BLDfG4qmlPJeA2KU/nBlSbBXLKSZOJQ0TAOhXkIM1OuEJXuZjKAgiscC3p45lMPQSdC1wIaGmZZfQqAzjp54lKLCHKMYQoNUSVSwYKNbi/BVJtctqvP1UHIwJxIKFZVydOlKlxs4j+I2aKeF8QQmSHIS0IcXY3z8LcdSEliTEFNRTMuMTAwVVVVVVVVVVVVVVVVVVVVVVVVVVVVVVVVVVVVVVVVVaMAAIAAEAIUIgFLRAIOow0ItoYCh6bniqKgM0wwRA6QMzEQFGESCBhQrGXaYBg4HCiYQCKY3i2GakIQAMEQzMKQSAwsmA4gmRpuGZXqmQIghQcTAgTDCkQRCCRgOERhSKJqSWZkgBIjDpg5jQ8YkfGNkJnHQcVDmoFY8AobmAhwqPGvNgGCwMOqBvyOA6VJZwyTzIRM4cIBh5sZa82V1BDNIUm+VGy6aQMMMoHDI/Pa3EAlokICm/dZG5r6eiAACIpTmQGIBSglS5DMBEESRd1YZqUUUMAw//PkxNdqlDpm9u7zJI1MvChipavdS0qAgMMDihgxkqGWsICQs4YCr3GGApe0FrF1lEPOjBzxxFOFTR01MW7QthyYy/0pWoDwQBEsI4t1SFlTtu8/TbTMuY9JX4pJW7s0rpv9U76wdI1gGcNMnJ6MVa01Mzkh1fjDkunRQO6rCke1/OhLHTnKF61OhgNmDPF2XmFP20pdSivrbhEMqlXFKngAAoWCjckQBNehM3CozDsRoZTOW4AfWmg6+2zhwsvqrbIoQ3fJIpOmeVrdytOO4WyXVD0RkE7ajtqlkHJTG32VTEFNRTMuMTAwVVVVVVVVVVVVVVVVVVVVVVVVVVVVVVVVVVVVVVVVVVVVVVVVVVVVVVVVVVVVVVVVVVVVVVVVVVVVVVVVVVVVVVVVVVVVVVVVVVVVVVVVVVVVVVVVVVVVVVVVVVVVVVVVVVVVVVVVVVVVVVVVVVVVVVVVVVVVVVVVVVVVVVVVVVVVVZYkR/GckbsuaSOg03CWTpAg0tSMoXbR9X4voypaMINzpChAWYMAwESgmvGZ2BxhKyr4QHgjQzyTMqOsxqV2JpuBhhhigYJb0Sa+WbEJJwggaWERDFgZQWZBw0uXpfZnatiYDwohApJlVtYdnStSYrZHuawT//PkxHRR9DK23t5eu4QhD04huWNTuZyFzGKqmOgmC5NKK9FzGeb5CwYgP4AhC1l/STK9amxQMDOxnQeRckY9LmnkJEiTwpISoWI/DdIEsIY6gtuVOxo9bXqM6nbXOOjU+MMwUeTgXQE8azIkYD9sOlxhN07KrVVDLbBQ0qEWfmmFtSj9WP5mvDmwuoc7k93eR25nCaKw0OKiRk60T5BaRhcwSoV8VUtZlGiK8DHJy0oW3KZJmQuXUSPHaqTZtEnxSOolTBZGFcOTM3xHNJDzb2pWvXOJFqhkSDm6xH3qt4JRTEFNRTMuMTAwVVVVVVVVVVVVVVVVVVVVVVVVVVVVVVVVVVVVVVVVVVVVVVVVVVVVVVVVVVVVVVVVVVVVVVVVVVVVVVVVwAC6rEozKl8jIUGYxlmBwIqaPVAaD4AAgyxBousovDK8jAsJTGsuTJAPzCIATA0BQIFhgwRJrKlZpR4x2Y7ppUHAYJpj2EZmIkRkAqZvK0RnSIAGLIwtAUxyNQz+OowsS0zTVoz/HQwxBMwCAeHDDYLjBMTzFYNzgnWEMyQHYnOucghoIqQFDDGMCxYk8ZSKKKboEADAEJ6HJK9nr3qbv047XWhNuyNv1AEjwsEFB0QRGGgckw1oHItS//PkxLpjZDppQu5fVkNzJHKAgU4aoYERFQy1a+FWrJQBLrVlTyR4ZmBAjFRBRwOnFri2gXBbcomHRx5xFsSNMkcLECQZcugZqv5hStrurObonfF15q1uYpy0KfVI6y+kyE+YVcnHu899WWsQ7zNVijQ0bCRONjXK0dqmVEabTGTsmKHh+E7VTAqSXuz9Q8/zrQxAO2s5yDi5HScUYfjxlZIKNPMdRRjBE3iOZjIUp05Huhi7aGphcctWM2bL71pwjxHPTjKxMi6YYV1ExwKWbGN21syuXbgotQ4cj9TwoepFTEFNRTMuMTAwVVVVVVVVVVVVVVVVVVVVVVVVVVVVVVVVVVVVVVVVgADFXeXiz4lA8Ai0buh0BhKe2aCwDmEY8mZ5eGIoJPvwEAqBASMaBYDiOQxEYAGCYjgwsjLXjzmJ6zVggxEEphIbBqg6R/Jzh9fHRwKqAKPMwVGEzfI822bo3NFYyvMwyjFQz1ZMjJjFrE512NbUjGAEyEDGhcYazb2wy0mMrHGMCwoYGTmKkymxaoLgIOGUQMMrsiqLiOhbAGEsKVuZ2mWpoVQXoWCftRuYMgYMDIRC7xetYMykBCiYRZZUDWkSZmUAjEeRGTDBIXiSqg0pAMBRhCBKyqWS//PkxNhq7DpdQu7zJKiW5lCmUSGDGmGDgjkVDBVTIzAbAzEz0XLpjaQRkAhgQwDjx60aEjK+k5CYMmNIhFqTQhJd+HH+fN43ESBZeytwmbtCWgoOxt9b8khyCYzBMfiDxvQ0xoTdnUdqGoFW4wxrb6p8pcRZOtW11FN6Z4Zl921pX8mJC4jWkjkATDVAVZEIAxBPF/GKMQiKfK/2Bs9dVsacDTlNpdBLQxwVEAeDZNHYvdhMssUtHJZThc/UefeDpNYmIas2pdFr1JDu7d2lyjkL7SynOklOPK2dyMxm9r7qTEFNRTMuMTAwqqqqqqqqsQ+7CVZhY4HCNsc3My1XVMJAodDBvYKmCAiTA0v+FAoYeDJms6GOAuYBARhQgGgG0aJDCboxwblm4Yti4baN8d18ac3/kYPyia9BUaggkaMpiaUhka+G+Y2nEYDEoBT+MiALM+1hMvkqNf1EMdSyMTgiFA9MICJLBKGPJHG7eGiSGoMmzQBZGcJGLQgAEBRkxpQKDwUNARBe6vggUpuk6X8lEaYir2BE7GBruVOXVDiJgAZIKUFEIULEw4SYYWHBiUWhgZVsY8oagaFA8uAxIDCgaMDl6wxgQIJAEwsRimHRNAmFwJjjIiXpXFuAgGCB//PkxPBw/DpQAOd0zCLIDTFQUAEDUwgg00kLCQdRGhILAkA4xoAwQRZwBEg4SIwgtHUGTTRMW+j3LWDJfv1ATP2xpSsEXgQgBADQxLasiV6kyupqzkLzLIlvEDl1StVZeCyi/2hkIydoCdrCF+utGFmqCLWmJhsDUo1PoqogskSFQZiLIVbWHukBRbuu2nWnAkwmSq1Mes8YOGlgAkWGACzihBfFIpgjoxFIms97myl+3oa85EMRO/EotfopiJT9J9JelXLs5ah6JNp2hoq8Nvncp8e6k+Fq5L5qvhW1epZbTEFNRTMuMTAwVVVVVVVVVVVVVVVVVVVVVVVVVVVVVVVVVVVVVVVVVVVVggYGQEGITi7pACAABjGkGBhBMrkIxOGjTi0MoiY0chwEkQAIjGQ6M4CAziNjC4eQ4AIDGLhcZlDCpTGZIMtLA0U3TlPuNmo80ilzLFLNZtw2w4TOAINtqM1n5OYyDaZ81eyM4mDAxQThwmUNrrDABoOFjBxoILgMXkQCbBriVgC5kthqQzdRAiMglHGwarlCQpyhC3dNFiU4svFc7+PanK0UgCtyFCVy3L/lwmrFmV4PXMQHALORkRpAyJnrVn4IgQK8KYTD4acJ839gxhjBkE6hxQpQ//PkxNVqPDpV9ubxBOTOh9UxfprqFpwWoAoGo0hJAQQgK90M0aWcJpFsVepcqeWo0lSturvvgy9y1b2usjDIIBpUPGGQRFRJYdh6vo5Ay4W3Wc2NbwEIkg1xOCAEaGfPfKlb1FrURjL0uLK4cdCGYW4r8sptNQYXFWywKsIKge5DmpMrIgOZyiotZYYygIhBjBAF9mHrJZxYRmJhJjx5L9iFKtlOvsvclueT4xKDmcP+9zcXCHRTLaNPWrBS/oNW42pdaWx1+PVVVM1+jg6PxZ2Xif9xGZQ3F5t9Hza7XooiTEFNRTMuMTAwqqqqqqqqqqoJAqzl9jOkQ3cbMWezxYswwLOpcDb+w+BtMdODCwYxZRJiVJMApAGNhweIiQZRCJhohHAJaZWA5imWHOTOc6s5/aGmNH0bbox61aG/XQYSPBts9GsXUZ7Qg0xzIoKMBDMyYVzJxRMsJE1MtTNAxARJFA4YCBZgoFoJhYoyozidEmASUFDzVGL9FzQ4lMSCnhCwZlAprQPJC2xfJnZbFCFnzWFMnWSKDgiUExBUyh5J/lzFrniWGL5ILDwUXfdH0uzBq9obVthxkTsrVZo7SipZVClHpr5c5M5Q0ygWEGCEpeZCZWFBT2mvUcrQ8el4//PkxO5whDo4Et8ysA1Y3YEAcDoYmUCmKrc05Okta2BIVASxEtKqqiqCDUgXJUqM0wICYe5KVSsSiqfLAVqs6ZcuZ5y2LLZsKjAIpu6qqnTbrBNSdNHJL1Uq1ar6posFhcYMEAuM28OGCEAgo2VAQuCbjpsBoZBSE+Ny6AkUCEzVEBwUTTGAIgc0pqXZQ6F7QIKXxLrRQIBYUz591lCoSsbcGJF2oaiaqwUBLapUurAjW35cWkeBdynNx44ajSumItHZTDrqKvcB7oWzhoLpMrkzpROarR6WyiH4Ff2zaqspTEFNRTMuMTAwqqqqqqqqqqqqqqqqqqqqqqqqqqqqqqqqqqqqqqqqqqqqqqqqqqqqqqqqqqqqqqqqqqpANySpNpwWACzRpqQAQM0A9OM1zjCs1RNASqYEQGRhpcERhhjIiYAUmGNYkgGYjxewwpVNaD2CmimxnawaqNGlhRqMAY4OHA9Q1ZmTEZkZIZ8inSomOknQQmFJDhYGpBocIzZ8noMClpCoPQlFogEKL/ArQlcBBcVuaqZd1E1cibxhMNeLwlmU8l60sobZrTOlgCzSOMaa04TSVio8lvW8dEEBLaqa0T6M6YkoMtFdqGKRKCq0V6yAVAhikSl61B+UqYIi//PkxMRl1Dot/t6xBLZg6XNgbnL8JfBCezmz7AXhjCIqwq+jGAvC7y+nOVtdgdEWzgtdydUcQDIPRCH1AWVOdGk1Gvpkl4YFpZK1l4Vy0lG97Xmsl5RgaPrWZBA0aXKyx4gQGE0bEoDu1Je1lr1HB1lYFE1TVCdTvqrYydnK7WASl7U5YLZqqs870gQ7dmwAxcfft1yypEV7WSIdgaJiKmDKovKmst47aXq/7zSUiWNNCvzb8rGU2W87z3wLGU5U+ayNq1X2lMZsOqilGGtQM1mQ12Guq+l6QOLLanJRGnKqTEFNRTMuMTAwqqqqqqqqqqqqqqqqqqqqqqqqqqqqqqqqqqqqqqqqqqqqqqqqqqqqqqqqqqqqqqqqqqqqqqqqA0krYRMBg8Z+bF+jJw4zE3NGrz3rU2ohCosYKqGHgwCViqCFYiLCJgZUYWKmPBZh4QmeCSw088JRE0I9M+RxkiMpXjnKUGIJiLYZWZmXDhioE45kn5yFIOBGIbmePiISbqODEQc6gUxpZClAKXFRML1AIqZgk9AU4YgQCEoyhJWtCIZmeJV4oUgY7CkmblxB5Kpoi27WkqmPoAkbUqEnm5M5lxfpliY0PNRZYnKWxU1AgUrbqmqY1LB0PLCsVcJ1//PkxMBk/DoFXt6xBNMVtUAzSVVUFWNMZQtmqNu0Yf15dsVVWR+bazG27sRZywWKONPTrxrphEveR5qaPtRSprQOgq+zjNdcqH09kxkvmqrwcZrKsLqrJT5UrgB/3cdqILqaUj87Liy9YV2YYo4jeXLIJ+DHbLatZca3LIZlN12WaO0+qwsm7JnbBAy6LCGYPeylyWCxFhqwqgsUrO0wdksTmoncgyrKpJJIk/Sdxb5ACzmEoZAoSKReJiy0F5U8Gv4/zuuKzpVVuraRluLlqVuM/r+w0rcx+CUTS/rXH4YlTEFNRTMuMTAwVVVVVVVVVVVVVVVVVVVVVVVVVVVVVVVVVVVVVVVVBYADjlkliZhSxVRm2TjQRSswwNxTIMSKwaySAuJlUAk2RkM6eGRJmA4JPER0y6ISNiQQ1c457AOFl1Ahmcv4d0EZgqlzDBao6dD3cIGSZo1pxbE0YCuEzgzDgOFAxzjKRNBU2kxQQBRGA6TWHDgLhGKQiMnsZZCCczj08WYrkR9EYQsGakYZAeOwZeCnTDcIlTLOEYpnAtUeZI5EYCMg5QUSENVWWmCgodgMp34DaCCVG8TW3AXeaIixAEFaBdIvqpAskxNqwVAj7hOAmB5Yg2CmraUzMJlC//PkxNhq3DnpvtZxEJL1MUGBMx08S9xhA5iCYuM46pYcC4DSZM6NqAvLBKKq8DCBaazAQNEWRASJ4epojucHiIQQVCcXSgtR4t8z1/GFgkBnEx4VABhMmQnGUiro2ia1FnT/LDPm7MMLCuqvEtqooX6BhURDO5KAxmGTnipfA0mUHLIurEZDEnep5bTRGkjLsu7LYi7rMldR+LpeubE0TWKsObmj69L2uVH38ROYs11fS6YCfqVNai0BIJkfnihbDWwJhPW01eSm1KtFB1TVrtI7UjkytreJDOu4rcmXS6VKTEFNRTMuMTAwqqqqqqqqqqqqqqqqqqqqqqqqqqqqqqqqqqqqqqqqqqqqqqqqqqqqqqqqqqqqqqqqqqqqqqqqmcaU022335ouM2AqQ4BQJCkskDCg1QVQMHJACpxkwAuKiJDihAZ4yxMggyZQEMMYAgVgEqAPkPArMACLxpUCOYWwCbiFYgEjOmgAQhzBpxb1NJkCV5EBUSA0skBFiGRBUcmInAkp0MLvDwgKxgSCWA2RLEKEQfWEVRHQEJQsBQBdbXGnrdQWBARCYcSOHHBIhqAM7aQzNlDL2hNNcpyV3Jel5hgpCgZQQlQmKDsQcNnjI2INmdaHYGZamMXNEZCA//PkxMBk3DlhvsYffOOHHBIT0iFY2KNCdV/o9DcCN801dylKiyiaj60GJtAUkmCj0X1EYhCYkKhwVXYQmSOiLBxghABGdShd7JGrtNZ0w1W1fTR3Qj8BN1ao0dsroO28jzOK1pkLMl5NFfCCXCVtS2QLS0Xg4b6ROIRuWT8hlMxPztrHLHViXwhvlcoSgsEdEOjR3S8V2xRfyuUvkJohEF0EBxgCc7AFG0lgSYGwNgT8bhLysJMPSK8H6ElDaGWTAu5VDJDuD7EFFkG+WA1zxURyluFeHKVR7ncMELUDJBCVTEFNRTMuMTAwVVVVVVVVVVVVVVVVVVVVVVVVVVVVVVVVVVVVVVVVVVVVVVVVVVVVVVVVVVVVVVVVVVVVVVVVVVVVVVVVVVVVVVVVVVVVVVVVVVVVVVVVVVVVVVVVVVVVVVVVVVVVVVVVVVVVVVVVVVVVVVVVVVVVVVVVVVVVVVVVVVVVVVVVVVVVVVVVVVVVVVVVVVVVVVVVVVVVVVVVVVVVVVVVVVVVVVVVVVVVVVVVVVVVVVVVVVVVVVVVVVVVVVVVVVVVVVVVVVVVVVVVVVVVVVVVVVVVVVVVVVVVVVVVVVVVVVVVVVVVVVVVVVVVVVVVVVVVVVVVVVVVVVVV//PkxAAAAANIAAAAAExBTUUzLjEwMFVVVVVVVVVVVVVVVVVVVVVVVVVVVVVVVVVVVVVVVVVVVVVVVVVVVVVVVVVVVVVVVVVVVVVVVVVVVVVVVVVVVVVVVVVVVVVVVVVVVVVVVVVVVVVVVVVVVVVVVVVVVVVVVVVVVVVVVVVVVVVVVVVVVVVVVVVVVVVVVVVVVVVVVVVVVVVVVVVVVVVVVVVVVVVVVVVVVVVVVVVVVVVVVVVVVVVVVVVVVVVVVVVVVVVVVVVVVVVVVVVVVVVVVVVVVVVVVVVVVVVVVVVVVVVVTEFNRTMuMTAwVVVVVVVVVVVVVVVVVVVVVVVVVVVVVVVVVVVVVVVVVVVVVVVVVVVVVVVVVVVVVVVVVVVVVVVVVVVVVVVVVVVVVVVVVVVVVVVVVVVVVVVVVVVVVVVVVVVVVVVVVVVVVVVVVVVVVVVVVVVVVVVVVVVVVVVVVVVVVVVVVVVVVVVVVVVVVVVVVVVVVVVVVVVVVVVVVVVVVVVVVVVVVVVVVVVVVVVVVVVVVVVVVVVVVVVVVVVVVVVVVVVVVVVVVVVVVVVVVVVVVVVVVVVVVVVVVVVVVVVVVVVVVVVVVVVVVVVVVVVVVVVVVVVVVVVVVVVVVVVVVVVVVVVV//PkxAAAAANIAAAAAExBTUUzLjEwMFVVVVVVVVVVVVVVVVVVVVVVVVVVVVVVVVVVVVVVVVVVVVVVVVVVVVVVVVVVVVVVVVVVVVVVVVVVVVVVVVVVVVVVVVVVVVVVVVVVVVVVVVVVVVVVVVVVVVVVVVVVVVVVVVVVVVVVVVVVVVVVVVVVVVVVVVVVVVVVVVVVVVVVVVVVVVVVVVVVVVVVVVVVVVVVVVVVVVVVVVVVVVVVVVVVVVVVVVVVVVVVVVVVVVVVVVVVVVVVVVVVVVVVVVVVVVVVVVVVVVVVVVVVVVVVTEFNRTMuMTAwVVVVVVVVVVVVVVVVVVVVVVVVVVVVVVVVVVVVVVVVVVVVVVVVVVVVVVVVVVVVVVVVVVVVVVVVVVVVVVVVVVVVVVVVVVVVVVVVVVVVVVVVVVVVVVVVVVVVVVVVVVVVVVVVVVVVVVVVVVVVVVVVVVVVVVVVVVVVVVVVVVVVVVVVVVVVVVVVVVVVVVVVVVVVVVVVVVVVVVVVVVVVVVVVVVVVVVVVVVVVVVVVVVVVVVVVVVVVVVVVVVVVVVVVVVVVVVVVVVVVVVVVVVVVVVVVVVVVVVVVVVVVVVVVVVVVVVVVVVVVVVVVVVVVVVVVVVVVVVVVVVVVVVVV//PkxAAAAANIAAAAAExBTUUzLjEwMFVVVVVVVVVVVVVVVVVVVVVVVVVVVVVVVVVVVVVVVVVVVVVVVVVVVVVVVVVVVVVVVVVVVVVVVVVVVVVVVVVVVVVVVVVVVVVVVVVVVVVVVVVVVVVVVVVVVVVVVVVVVVVVVVVVVVVVVVVVVVVVVVVVVVVVVVVVVVVVVVVVVVVVVVVVVVVVVVVVVVVVVVVVVVVVVVVVVVVVVVVVVVVVVVVVVVVVVVVVVVVVVVVVVVVVVVVVVVVVVVVVVVVVVVVVVVVVVVVVVVVVVVVVVVVVTEFNRTMuMTAwVVVVVVVVVVVVVVVVVVVVVVVVVVVVVVVVVVVVVVVVVVVVVVVVVVVVVVVVVVVVVVVVVVVVVVVVVVVVVVVVVVVVVVVVVVVVVVVVVVVVVVVVVVVVVVVVVVVVVVVVVVVVVVVVVVVVVVVVVVVVVVVVVVVVVVVVVVVVVVVVVVVVVVVVVVVVVVVVVVVVVVVVVVVVVVVVVVVVVVVVVVVVVVVVVVVVVVVVVVVVVVVVVVVVVVVVVVVVVVVVVVVVVVVVVVVVVVVVVVVVVVVVVVVVVVVVVVVVVVVVVVVVVVVVVVVVVVVVVVVVVVVVVVVVVVVVVVVVVVVVVVVVVVVV//PkxAAAAANIAAAAAExBTUUzLjEwMFVVVVVVVVVVVVVVVVVVVVVVVVVVVVVVVVVVVVVVVVVVVVVVVVVVVVVVVVVVVVVVVVVVVVVVVVVVVVVVVVVVVVVVVVVVVVVVVVVVVVVVVVVVVVVVVVVVVVVVVVVVVVVVVVVVVVVVVVVVVVVVVVVVVVVVVVVVVVVVVVVVVVVVVVVVVVVVVVVVVVVVVVVVVVVVVVVVVVVVVVVVVVVVVVVVVVVVVVVVVVVVVVVVVVVVVVVVVVVVVVVVVVVVVVVVVVVVVVVVVVVVVVVVVVVVTEFNRTMuMTAwVVVVVVVVVVVVVVVVVVVVVVVVVVVVVVVVVVVVVVVVVVVVVVVVVVVVVVVVVVVVVVVVVVVVVVVVVVVVVVVVVVVVVVVVVVVVVVVVVVVVVVVVVVVVVVVVVVVVVVVVVVVVVVVVVVVVVVVVVVVVVVVVVVVVVVVVVVVVVVVVVVVVVVVVVVVVVVVVVVVVVVVVVVVVVVVVVVVVVVVVVVVVVVVVVVVVVVVVVVVVVVVVVVVVVVVVVVVVVVVVVVVVVVVVVVVVVVVVVVVVVVVVVVVVVVVVVVVVVVVVVVVVVVVVVVVVVVVVVVVVVVVVVVVVVVVVVVVVVVVVVVVVVVVV//PkxAAAAANIAAAAAExBTUUzLjEwMFVVVVVVVVVVVVVVVVVVVVVVVVVVVVVVVVVVVVVVVVVVVVVVVVVVVVVVVVVVVVVVVVVVVVVVVVVVVVVVVVVVVVVVVVVVVVVVVVVVVVVVVVVVVVVVVVVVVVVVVVVVVVVVVVVVVVVVVVVVVVVVVVVVVVVVVVVVVVVVVVVVVVVVVVVVVVVVVVVVVVVVVVVVVVVVVVVVVVVVVVVVVVVVVVVVVVVVVVVVVVVVVVVVVVVVVVVVVVVVVVVVVVVVVVVVVVVVVVVVVVVVVVVVVVVVTEFNRTMuMTAwVVVVVVVVVVVVVVVVVVVVVVVVVVVVVVVVVVVVVVVVVVVVVVVVVVVVVVVVVVVVVVVVVVVVVVVVVVVVVVVVVVVVVVVVVVVVVVVVVVVVVVVVVVVVVVVVVVVVVVVVVVVVVVVVVVVVVVVVVVVVVVVVVVVVVVVVVVVVVVVVVVVVVVVVVVVVVVVVVVVVVVVVVVVVVVVVVVVVVVVVVVVVVVVVVVVVVVVVVVVVVVVVVVVVVVVVVVVVVVVVVVVVVVVVVVVVVVVVVVVVVVVVVVVVVVVVVVVVVVVVVVVVVVVVVVVVVVVVVVVVVVVVVVVVVVVVVVVVVVVVVVVVVVVV\" type=\"audio/mpeg\" />\n",
              "                    Your browser does not support the audio element.\n",
              "                </audio>\n",
              "              "
            ]
          },
          "metadata": {},
          "execution_count": 9
        }
      ]
    },
    {
      "cell_type": "code",
      "source": [
        "from IPython.display import Audio\n",
        "\n",
        "# 替换'url_to_mp3'为你的MP3文件的URL\n",
        "Audio(short_answer_save_name, autoplay=True)\n"
      ],
      "metadata": {
        "colab": {
          "base_uri": "https://localhost:8080/",
          "height": 75
        },
        "id": "lyp0GUAqjzDk",
        "outputId": "dcdebc27-5c8a-4c68-a7c8-d0e463b1eab2"
      },
      "execution_count": null,
      "outputs": [
        {
          "output_type": "execute_result",
          "data": {
            "text/plain": [
              "<IPython.lib.display.Audio object>"
            ],
            "text/html": [
              "\n",
              "                <audio  controls=\"controls\" autoplay=\"autoplay\">\n",
              "                    <source src=\"data:audio/mpeg;base64,//PkxAAAAAAAAAAAAAAAAAAAAAAAAAAAAAAAAAAAAAAAAAAAAAAAAAAAAAAAAAAAAAAAAAAAAAAAAAAAAAAAAAAAAAAAAAAAAAAAAAAAAAAAAAAAAAAAAAAAAAAAAAAAAAAAAAAAAAAAAAAAAAAAAAAAAAAAAAAAAAAAAAAAAAAAAAAAAAAAAAAAAAAAAAAAAAAAAAAAAAAAAAAAAAAAAAAAAAAAAAAAAAAAAAAAAAAAAAAAAAAAAAAAAAAAAAAAAAAAAAAAAAAAAAAAAAAAAAAAAAAAAAAAAAAAAAAAAAAAAAAAAAAAAAAAAAAAAAAAAAAAAAAAAAAAAAAAAAAAAAAAAAAAAAAAAAAAAAAAAAAAAAAAAAAAAAAAAAAAAAAAAAAAAAAAAAAAAAAAAAAAAAAAAAAAAAAAAAAAAAAAAAAAAAAAAAAAAAAAAAAAAAAAAAAAAAAAAAAAAAAAAAAAAAAAAAAAAAAAAAAAAAAAAAAAAAAAAAAAAAAAAAAAAAAAAAAAAAAAAAAAAAAAAAAAAAAAAAAAAAAAAAAAAAAAAAAAAAAAAAAAAAAAAAAAAAAAAAAAAAAAAAAAAAAAAAAAAAAAAAAAAAAAAAAAAAAAAAAAAAAAAAAAAAAAAAAAAAAA//PkxABI3DoWXnvZXgG4q22pHJJIjLyqNeUB4F8ShyPS3jrwYByKDI6I6GV0f6F5P8TQsDWo1fHYGQ/EGWxZV8JOKiGny4IYThkYDkOhDGR+r2dXnOW8W8l780FRdSMJ1rh0/VisPkcZdD6Os7FCsJ9cNCvsrFBEYy3k7Ot3VPrcTT+A2s8A/DoOQ42CKxnOaZpoWuDLtAJ4LgXBxOdbT6jT5pqNPqtTmmLYIYQgthcDoUByGQtw0+aajj0N9BmWnG2d5EeTb2wPS/lzUdy/kLQg5BbBwKxDG1C5DnNNRxnjeaZpqOJAVk2z8JwoDgRzMEx/ODztXmCwwPOSA0QF9FlV7xweGCg4qdvHjASGkBPKig7eifY6knBgsODAwMDMzJYjxsLDBxxuAGgiEgRDxYoKauyVlY+KhNjFCw7mkOgG6jIiMzQZC4WSJpoomY0nFCoYGtBBQYuRES+DgkOHAsap1gknMJRzMzUAH5i4EDikCD6bwXrmNLycMjmJGBDZRoWbCk4qgzTBTIBkfTGoxAdNYTIZYsJMuEDu7gg5OPJgoIMIHNCbayYAcY4YZ16GOzBEDTEAQaBoFhquTKAhQUYwqnMheXwSlKwgFBlvAE0NqFBRlbCqxhCIYdAAQabi//PkxK91BDnZlVvQABHiIkzoLiEnVzJ0kRhdbJyZMrK10aPqGGLCryT0RtKoyCUwjDiU0hEQdtJgqAWfuejgsMW6FjQ8CEQYLkgUIRNU1DDAFAKqq0OqEFGJp4iAUJHVYAqQTpirCXmSYWDT+ZihFEUTGop5rio0ySEcYIQY8mrAoysImmtpnBhgyCBwSqLYW5DJ18BgUKArEKL/GABtzR7Las7L1JBoaNSa8oGw1o5aNIoKiTEg0F0l1Xl7gUESwkJdxrRiACDy1qRLdHNoqeDSIZeReilC5xoQgYzBgbQkTBQI8jhFnGSpJroLkVlBjGBAwOBA48OEIyELqFkA0GC5EvM6b8MydEtEla1dRxxVtGGABwdDxP0YEAoGPCmjOiWrcpCwHBngC4UQBAuTnwaLTEFNRTMuMTAwqqqqqqqqqqqqqqqqqqqqqqqqqqqqqqqqqqqqqqqqqqqqqqqqqqqqqqqqqqqqqqqqqqqqqqqqqqqqqqqqqqqqqqqqqqqqqqqqqqqqqqqqqqqqqqqqqqqqqqqqqqqqqqqWW2XTbaXr5+DZWqVpsiMigmOBCgMGnC2qAOXtHL/PHDubiMTRHZ7CIOvOmgYOhbmIcg4a9GmwDUAwZKphVWBfpkiob8Th//PkxEZGVCpGX5nAAbtUST6HyYCNZlPZk6scDPKy5gDoIAGCWQVJ5E0Z10U4Zc3Vp8OvGudOhF9M9+UV4LWO9KXqlCCV9FrQ1GXnmGuODA7TJ/H7mMiptWHGfipjei9HFaz+S1ej+RSWRyinaWlyv2+V5LR1rlJPZalNBDs5boJVLb/Mnccicr29V7XM+fYr55539VNXsdbxm70ZlsSkEan41P3pyU6hutynsY26flyH4fcfk7lcx/Pf///r/1h/////8yw1/77/e1tVe933X4fn3daixwsbyu8w52xeucXqTEFNRThgheAyCZM8YXQdB8hwgO6fYSzFIXwzzTD8AuBMAoCZkDO4OAkRCGMYKMiVLAYmMSltiYIvIBFzCgwUzL9uCguWoDggFFGjTmlImPEiEOh2MARGoRpARiEx51ZoyZgF5sXRtAhK1Hp5IYAVQ0SY3UIOOmfZi3s1Q4GGQKPMidM4VB1cyI0ebkh0oFGGSGHhj1c16VCEUdHcMGJAmywH43FDwGEzdEjS6zvuwJINYEMkQDHgWCGiEKxkgs2bUz5MDJzBrTgnxAUNQoOGrFjQALGaCK4VTMmNAh4zgYqmjYJhIQh3M+VHTBlAgQEVsMSRFQBABMCLEjYQAC4k//PkxPtzxDosA8/QAMqPBoUFDBGFKwKaJkyYCJrGa6loDQRmggjEgpG8xdtWQwQgOIAUiZkmAQ4cOLQxICkzQnQcffYxCABMFyGURBxExI0xo8ONggUHJDAg4UzqH3KQHzjFi96chfQOIEQMwAQwxIaAo6hA8UABwygQEJcIno/wK3dkSPCsKsamCYigjL3ZLJrOMIMMMESAg1d6abfPwzBkjAy07ftwLZudNKkU0dMEgUu1zsQawsJJqOdl0Eu+1yC37iD5Lvi7+U7DGISCAGuQdTyikXPFnAgSVwO+jXIYTEFNRTMuMTAwqqqqqqqqqqqqqqqqqqqqqqpcpKsAAE2DBNA0A8YBmJAq4ZJgshcqdSGzTHcdXTZhYcYQEqYtgBmYiABgQSNmYaJjMBZwo219pafTopVlwHtWCVXh1Exwi4Jfow4UGgl2FA1Coww0HNgoAGh5njBleZmTBi0BogY85MYKSoKFCSoKPmKEFxBUMWaIA4KZqMoQgVyGQyRcBiIYTNMqNofEEoEHAweYIYQozKIjXLjPlTUYDcJTmMjdBxqOF0RkChgkBtAhk3m6uIByE8hPC6wJlBqASAVAF3BA5xihARcgwEBWcMSIUEBZaoiMOY5j5pVFkjmEBhYN//PkxOVuRDpSRNZxxCjCkStGFDkWBp5tvmDCbpaEkEHkoZhlC0sAAAIbsjYk4jmaQmSAGadei+11ndKsYiGAEGdo8swBBy4YAyEYEuAiSQoTtBQzIHmBcpvSdKIMpKmcagkDIYFnF2rvSBbChcIIh5jMYai5QBivhY6acmLLpjuurI96cjXAYYHIirpl4zaGJssEQEEaB6pEoHcm1iRRXD6Ow9MRmngj7T3wisB1n5VuTAQEIDJAiIu97mvoI2/ZfQNwgFl8NPgvWFOc0CWN3UHg1hDiv+5sDQ3EZ59Ik1uZTEFNRTMuMTAwqqqqqqqqqqqqqqqqqqqqqnhjZGYAeq7bkA9oASigW+Bqy4KbZcVbICEFTgRT8JWSGMwJE2rpjtST5QcSLYSypNRqr4N2XvMLVS2L2uTFYk1JsKXqKTap2Q+o2yIv2iEVUhYiAItqHBd0EFMZSGY0NsrKBkQgCDWFEw8C6xQYMSaNipivoGuk4bFlRhoQSJGkxomQIBGcjn3pmIUGKqGDkG0aGTeGSFAA2GGQCXIqZlRBwVIQuIYCI6kNCFxwTAaCBnmmYIZI5h2MkRrADgNXGnDGPQAlsjqWBJpqjAlQGyluxKkIQaaTWFUcdGMIZlh6qnfKNFHK//PkxOZuVDpmxMazoGmMEkhERJAFOApEs4NwmgoYixUEBBpfIqGBCJKECTBVAzyRY0GhlwAQYiOXCMJITKMKk5wVNofZQk+DCwCCNJlpUqAUuAj2VsUSXByBjjlx1kAoxOMxCAKaODrqBJCfChRAEYhCIYGDDky4KbwGAQWEhzFRL5oLFpU0h4WBRIgBIXTAGAxD6Q42he1IpMx2oyBBnhUrVa2zkM4EADWXDYGk/ABZ1I5/o2jwp5DBSoMHWI1dm4QG0lZDqM4Vciu11t1R4MoVBKGAy9nbJFHHzU1SWVvqTEFNRTMuMTAwqqqqqqqqqqqqqqqqqqqqqkwKMrG13S2B5HapaGaiNM8L7yOepJA/l+Kv24bW3fl9eG2vtyiUasQND9KqtA+EGqUQlStlS53eXEpWYCDigUHAbpBUdU3ZwWvMdBEiyQUJQpTAAAt9u44EBxCjgAAoRBDYAqEgQCBosYMDDRoBg0iAjCEgCgwsKJamWjJMFmHgoKBDRDYzpUM9UBEXmqARk8eYiQo3DTaCR4ORQ0oO0SULvgzESvaQARzddNMARgG1YeyBhcmE2XGNwQNcMRorWA0h2GESRsTAEUSfBIJNAs4vWLWGaiFHjOQMQQANgkAhdDjTjHMQ//PkxOZufDpl4N51xKacbCSYIoYwMYIkDAyCAteZJYaowvYKh0gzIihwmBigMNNBMKPMWLNaUBwcQIgFuCiIwC9DM26EKkAMsSQXEaAICgZgypEPGC0nEkAOQpfiIFAhdBHUOKmWGmXChBgYJEwxW8wANPtO1vxwEAA4FCKNIA1DQMLLPkIpIJMCKpuJNxJL13wcOGQMyDgSeaEhExAImIqoWeUIZU1R33IFQa8S/lM76V7gNdZugIYYyt3lB2AIoMEoKFy3SbK50Du5DL/SiUtozNxlwNfhDNJXlTU8MTM3gEf2AIFhEmuXpiNwLqFMrciNtOwl1C8EpjTQVKYbeWAkNYquxm8eghuSKDQ4owZhqYbF3eUZXYnegQbwRNIC0lh40AgAJstIaLK0kIyVYDnGc4BkCAMkFBQCNAVWC44IIAAOFwVKEgBy6BATGVhxCFBQYNDTQYuGiFIjHgugGSiRm68aQdGmk5r5UbPBm6AhtJCFj4xQJAJUaGiAhDMHIjEUsziA7hAAjyYECpxmBQKPA0+Z0GakIZoGYokWrBVYukbwwbWDDQVfnWFHABmBQBUcciebuAY4gDuBsBZpUpgAht5RoL5h3BjI5mxBlAIeqNYYOKROS/MONFv4BagA//PkxP94rDpdQM71hEAgsNkjECQsRNwaBI0E4RZCZgMYweY4GVhDbIzKGhIQYtCTXY4YYGPPgADJpJiSJb80BYQliZ0Sk0DB4QEGwEbGoBgz6RyFgshLBkKlTJHQYZU2MYtMEWMGOMXLJDwZRMOVRiFCZddAk+gAIihhSoIGojGFQiEkXcDAIEDEIMzJoHOS7AWEBAcGDAANNSAZYUJyIuMESzKIyRxAZQAlulhQSCX6FQyHZ0VhAcXY2Sj2JoAhwfD0NpzIqgEGn2TBlMCAFAiKKR4kHd0QAG5rrgK68dAuFsLLREHWHbZ129f+AFM4otSWmYz87LY3LMJFLIj2OxC261+GZqNQ1lxvI4zqAWcyBr/KZTJvl4sulbIbdM6UYgxQbNpxdlKNPVZhgcjmCkCVTRFKwf0aEnHJOoxDBgHABLkAIgEJOBThY6LmjI6QDwcejwYTBBANjSiBCAzceNgNjAgEQhosToylmTFicEhAoYHYGRtsAaBJHEFAhCQUQFDaZKCGcDBqUKdBgVoMVl0Qs5JgSpzFCjZDBGJMAiIEgkXMMSBxQAGTMQjSOTODjGJDKgDEGx6icFgYcGGnAUgDj5qhBcpkZZcdFGJcmOuGABmGYmgHFzUhzggE61oG//PkxO9xFDplQMb1hOi5ihoIFHIPoMGCXAAUWpSqM0WUPBMcxI5twQKBxJHIywQuYMGS9hmxyFZiwYPBjyEOXxBTsAmgdFc8LCAgcARRqzZnh4iDDoEyQOHgsAU7MUMHmhhzRjxRiARhQgjAgwSsplAKTLxIBBMZdcCEQUeaWYIorOrgVHAkOIRqPoMDoWl/yYpA7d4PS2SILZKXgUGikMg06lTq/Zq/SmqlLbKAJqKmYiIQLWHGByVlitwGEKbMZRGcFIdTaHmTPxT0DcqFhygrXGnwC+iwkbd133kcp6oCg+pMQU1FMy4xMDCqqqqqqqqUh/2UKWWYLmMo6/F+W0uDfQ7lAE3IIpCnzkEPMMfldV5aEtbeOsVa5DMXYq1JjzRWLOy+LIFMQEMYQqsCNjACQFkJUMYoCh0MTEaCLDSAClBoBGEiTAg0ZIEAlpGmrOIACRQXKAoyZlGY8MYgSBmBnyg+BGRRjFAytHnBpVpd0yLQwwgK1D6Yjs0zQtTCpBoAY4QZAocAOVKBpyRtwQdzAS80g8xp5IQYEmVIAJiYKiiuFUKZhZEy6EyhgLtwUFAhAdHgqaa0CCiZnCoGLBAowMUxxwxA8EmBVCNJzaGYkClIk9BTA6A0ImAA2FUw//PkxO5wbDplQM6zjADIysYK5YrGEDLCNU8MjCrAvmaRIErFFgRyJkigRsYAbQEIAwQtsCrU9RIlBOcRwH/B7ZmiCwYiJHlzUJBpqhJsFgqQySBG0cbZgAKBDSoYSZJZiwGkOXmAJBoOmQgDSkrgqUrGkoCnC5bLAoUZowWAARwcQjE5CwBbcCnOih+kgDiyAyHAQGxFuCYy5H4UsaSu0ukZh6hyELxF0kDW4MmV8lKookGz5pTY19K3qtfFrqWi14ZXK/DW18sFcNxWnLRYo4S+2I09M0GXvo2WNNQe6jk1iLQ2gNLEASBKLOK0k3+bQQGkigqB0jgUALjU/ph9O81AshcM4FBJend5nSqxp7TlMGcrESRTqdJtXfjaVVK/zzPugkGDroNyUkUVhJyFzGycAg2iAfcGMIG2FghSa48ZkKjqqcWVmZFDgFBAEMjDlQcpFiwUIBztshkxCSwBOGKZmNpG9CHGftdMeTLBU1SEhciw40DkyxhcwK6nH7HTOGNeEyoYOmwnnWnmnLAQGVSxnyAtCAQAzMYHR1hzGtDYkDVtBgiVZ5logkWEkIc/AyZmA04MSCBBMBADUyAFuBwoCjDDnjClAwUuo1kULIgYtMSyCp41Kgy4oEh0hAEH//PkxP90jDpYAOY0fBZSPAjXFSQyDiCCYyAMFCU1TOEzEITEBRUGYOAbVEDlyepomICcmLFmMBGABGXDGPDCECMBUkTLE3SNGmDhAcGRJDB5jBpigoJFGVII+mDMDT5bIIImiLmAJiAIvGyXUZ6BgJfikCoIiBllUoG5gI6XNQ5KPqNKDGNAGIAv2RFiY6jcWpTYMSSQWZOomo8uddiAZFYvEvZTFuqKK8i+UHJhPHMJuqLgIC9W2tXU5o2nMrM09aLFF/NZZali60KdV2EwlhYOm24r1hqJwJC35xZC5M4qTEFNRTMuMTAwqqqqqqqqqqqqqqqqqqqqqqqqqqqqqqqqqqqqqqqqqqpcMBNl5AMAgEAoAMCQCzDCARMYUEcz4h7jWkaQMUEMYwPQOxQBAAWHGJmOKCzIiUjKAlYAZBgYWmnxphhKRAq/FblriKJARklEjKy0CAjLmDp+RwYKiwojRCMMFO4VNKAUIS9UsQiR0Ny2Y6YEECgTiPoYBIY4GyUuSjeMAWoCCiW/QUBwAFI1pJSEw9iCBARCYLTGJnSE5IZNswBMHETDLjKiDAgAcSApRN8yBsHhREPMEhNUhBy1O4whkAjEZmYJUwpI9KJLxbKKhWDSrGD5f5nC+TEE//PkxNZqbDpS5Pb0UNPpBGt1OEwBEBGVQMqQAKgrq+UElKxS/iVz/IMuQzYQh4g1lOlg5jg6VwsELfSJOVTsuyBhsIWFLuu47W0kVlNsFgrC1BW4sNWrByFCyVyuW1hrDMZPGFjP1FmkwzLn1a7SsRZI2ZhymSnbXaR1XmTmgeRP9BT8us05nLs0TkyR+3+gVyV4oJWCwYvljjhJJNeklO7MbiLYZbQRmGXdaA+jpV5BNRqDptmbsQ9OKcRODad1c6Rzpu8ztnrgv3DNRnjzSdvqR21Z5PAbY3emZ2WTMMztTEFNRTMuMTAwVVVVVVVVVVVVVVVVVVVVVVVVVVVVVVVVVVVVVVVVVVVVVVVVVVVVVVVVVVVVVVVVVVVVVVVVVVVVVVVVVVVVVVVVVVVVVVVVVVVVVVVVVVVVVVVVVVVVVVVVVVVVVVVVVVVVVVVVVVVVVVVVVVVVVVVVVVVVVVVVVVVVVVVVVVVVVVVVVVVVVVVVVVWGBDVnaGsklt2WQpq9m1rAwWMTD/+lto5FVTLwXYrBs8QAYZqhBM1FoqmTNzEJE38nguDm+aIqmZi9HOBAsKwpPow8IM9lDRR+G2lbZsMgHlaoW2C++y+gDwhamKspYVxE5TQoWY/61bTl//PkxGpPVDqnHt5fMoyA/8XjcWjs+3bVJTUs4ns7FmDdSl2hglY7gv7F4yyAODkVLX2+IORWx1Yrn6YBvqNxeLK+ThgljMx/AQhxraxpuchdTfaH6zDYi3rWTdQ0nyFK1Gz6P4uTMzIVI1sKGwV1GtJC8Rdj1ML1WpTcebeYOnHn85oxeT9YkJ2hsNtMxXtyhfOor1hOVQzMAtLnVtZUUQBylOJrwu0C3nMfbk9eOS5FdYWqRPOCOdszYzXngwIjYj11VWUbHBCkUdTE2K9lbYVmI4X6yxp5jjGPHkfQ5PBVTEFNRTMuMTAwVVVVVVVVVVVVVVVVVVVVVVVVVVVVVVVVVVVVVVVVVVVVVVVVVVVVVVVVVVVVVVVVVVVVVVVVVVVVVVVVVVVVjADNLR2wseFgUHgGGhEMhSbPipeMfwODBAS0CwFhQHzDJOw6OAwNC+bvovsuMJS4CBRql50zQUCRgcKJgeVhgiCaljzw8oqYED6ZvCsAgQSrWjNkoCGG4tCyBhrtQICAJg7APbqpLoWhAxgxRyVgG6EQ9FR30WTEiiOaUAlNlM4Ya0YcInqtByGVp5s8EIpoDzLTcqhMWoEaUODhyQdAswAoELDjNoQYOMcCMEERcMAWNmCN4UAx//PkxLdinDpKQu6fOIi7fIChpsPEkwF6shiy9jAhAcUTMWEexi5iQAIBs3Ymt+HxAFWoGD0T4bfZ/37cJ13Lm4Fi6lSsqK6V7sytu8tdHmhhyKRlD/SCcPFkcUf1USshZMCUOwOZmthLJjyYIZ/n+XJKHSchgIthGkFgHA/DMJg8NFiKRkKxfIIeamUBOKj/Lcd4YqFp9HsBPVEgOda5SjcqahqEOTel6Y7V5DtqgyEyyK5Rq9jSAmhCJIy2tDHR6rUJc2xVrajYD4RbM4MaUTh1OaFo0oCKUSFLLl19yeSqTEFNRTMuMTAwqqqqqqqqqqqqqqqqqqqqqqqqqqqqqqqqqqqqqqqqqqqqqqqqqqqqqqqqqqqqqqqqqqqqqqqqqqqqqqqqqqqqqqqqqqqqqqqqqqqqqqqqqqqVAFmJdWjSVt3nUMB0TQmCEZMaZjdZo1oKZW7alEkJUE5IlEiQePiyV0UCTD2w6FNAwe6AjCVM12GUK5p4YTBDE2huIMA5kCCZQHJWOE9MKZCABlsErGWKqMSFihRCcDhQA46aC4ge9P+C3hW2o8julIoIx+ln2VDoFO1fw3lLFAlxBBG4KWKkaIEALMjwmuPqoWukG4FHoVPIypCBYZQFrUgtOQwf//PkxKZeTDp3Ht4fPK7DO2lL0a2kdD7DmUPuwe1Bbk22uiAhbyHC7Kg0hdes8qpVNlhn8hMLg4EJaKvxPdhyGrT12TTDV1uWyidRHa7EkJEComPO3ojWoOBlrYVdOo0MoWQrA/WzxOiAhwArimUVI+5hbGMZwYrWrmVaEkTJTgsxaUZGElMI1Rb08Vq2mgjY9RYDhC/AXxYy+O06roAjhbj6nZ2xgW4B1mG7QuoKlGF4RRooaI2E6EHMp+rjnFpYjRZVs6lQxot4+UrtuIQLQxOZzpM8jkIezKhyYG8nTt5VTEFNRTMuMTAwVVVVVVVVVVVVVVVVVVVVQCeKnepebPiUOTGhCz54xh4OExDBgTi9Y0DgBDox4DYwIAolAIuoytnylJhkFDLVtruYQMAiofDlLEkaJtYQICAwGDpICCNJR0iqq6E8xhkx4NJMFAxCEEAsOcmqCDRga6FyiAYBspc8zQgHRDDBg4mBCBhAZmy5oSAkwBwsiQoTASIBpsZFGRGgpgDBbpkpIQmDboTQClcBh8yrMwR1mhjBYk2N0iNgTBQc0n8958EPmYkTQkKF/wQQM14VGQnkiSEksHjQQgvB5JosDyq/YUJHCxYPPBIMLBMBbxywaDbTIZoaYIRI//PkxOdunDpJQO6y3LliJAWTDCopmzlskqxoM0RYGGAAsIoeYQxgBGCSAQFoGYYIQgKCIQS6iTBnxi0QOUYMTDCSCyC4gUNS7CDRR4FCIzphQ4vEukKgjSijaXy0BURA1G9CUpmyZAKowzRu4sGTKJnrwJDm5l5SEEaHVKweShBJboHHJap7ItNYUyhacIkQiOu6OPsyyRqHQfWYOyx2lkKwPq4Str7OI9iWhEU47OHfcuggQHBSh/7th/q0pilO/jcJx5XWfakcmRtYbEnC6rP2hUjsOM2Kkjk9g+8CxiUKTEFNRTMuMTAwqqqqqqqqqqqqqqqqqqqqqqqqqqqqqqqqqqqqqqqqqqqqqqqqqqqqqqqqqqqqqqqqqqqqqqqqqqqqqqqqqqqqqqqqqqqqqqqqqqqqqqqqqqqqqqqqqqqqqqqqqtcBntlVPtm5sIQrDgwAIBOSiiXda4YJEyEDGFwDFgOrr2MABEM3yrN/kJOGSPMvCMMNhFMVRHAA5GLQrGlBfGQQ3GEwIkQxCwMx+6KPMLUWyyjGX0S+RtOSEDHRuwBDSgzDjOdIdPNi7xL7VsZePLQWL/LRbEXRGVAaj5Lql7KJHGqINNiZkOhDlaFak0GLsCeANmRWuQtzUczE//PkxJtbnDp/Fu4e8DdLAh4vUJWyUnCplKd+IAQ0Zg6gkIUNGPz6QK6VKMZCXkwMoV5BJIV8ualVbLL1+RQoQXY+Twbidq5SP0JL9DTp0tSHo4SYphMVC6OkBtbCcncZS5bkeIQKS2qFeJ+HKL1ElKuCxL5vGM2VRZbDEbzhVSdUAhRlF9bDTNBRK5xiWCtJUOI4jdaLhwvSwqk3TsZUWjyfHkZUUn2UNZCfsMMsQMZDVPBV0BoUxfhvECQ9gfIgwCeKGEtpctrBsmMNLtSYE2JC4nMQplSVByrpVMMJ9Dj1TEFNRTMuMTAwVVVVVVVVVVVVVVVVVVVVVVVVVVVVVVVVVVVVVVVVVVVVVVVVVVVVVVVVVVVVVVVVVVVVVVVVVVVVVVVVVVVVVVVVVVVVVVVVVVVVVVVVVVXEBWkokkj5SOkABLZHgmjLBlGEEwEH4WSswjFkLiCBQGDAMFhEMEzfOfvJP5zvMeA2LQAkCw4E18GcJnHPNOmi5TmVYggoAgglMVFTC0s/BuPViArtqFOZD1OnUIBgzwuMmAHEQ4GVDxjgYYuhmcQBibGJEz0KXwKvYQDSYhjY2LCcqhu+5zDwUCK1ZVvtMXAwEYgBQGyxkkVWHlK6laZHi3HCCnsX//PkxKZebDp7Fu7e/DN3i8nhxS1dqZK4nng1/vpHfaK6ECtjl7LVYWaiQIqug/M40z4KLk7ZzeMx4rShCSHazq1Tr6klC4C/CPoep0yaibZieIw80dHdGuOYkRSmi0JBqLclE21Kgvp0xDmR8SiJVaeiRVIwoWSNUPDfsqkYuDALw1mmdjQkS2EEJWccZzaVy3EHLnGU6FqNiXCpgKEK+KW/KHnWwkMW4yPcZTcu+QmDhjVB+GgENPQ9qlUSUWJEiHiYD1gDsM4yTKjjHWnM4FGq7pxQaeP2CWGyKRihsUW6TEFNRTMuMTAwqqqqqqqqqqqqqqqqqqqqqqqqqqqqqqqqqqqqqqqqqqqqqqqqqqqqqqqqqqqqqqqqqqqqqqqqqqqqqqqqqqqqqqqqqqqqqqqqqqqqqqqqqqqqqqqqqqqqqqqq8DjajO3KNwwEAIBAm4ETZQmnHCqHTDkVJcuswEAowJAkAGAaQWIZ5ioxlKsmDjzgIAGBTia3OJg0CNLX4AgoNBMCAkwgoDYGjMTBwGgV/2IFsxELjNiiMyD1Ys5GGwq+WICCyW4GgMwtOphsPF7zDhTMDAQOA3aaMVaJVN1tZ6p6WYLC1+TL9T9BVjChNLSRfcgj7D04YzD8ulVy//PkxJxb/DqaVu8wtmE3VOJVT0P16JROQQ1euzUWkSVCB3H9hiA2vhQRjE+z+SuORGPXmATsjnLsUmhCVTZr0fjFLXlStIQ/KmfJ/H8RBT6h2DorCJHJln6eJ/V6WaXsrl0r7+MxUa3Ds/ep2IZQI1xs7mRimchW+jYexC8/Uw/8DMkZsyRIiyoSj/GIdjVdpE80pK+YWvRReH3qfJy4egfByIm+Cmk5hHnjgSINlWuj+rc8TNKy9SKhlKk2tVDkqYIFFC3ENF4F9yR1Hep1/LofyVQ3x7n7ctUkliEtsxu7TEFNRTMuMTAwVVVVVVVVVVVVVVVVVVVVVVVVVVVVVVVVVVVVVVVVVVVVVVVVVVVVVVVVVVVVVVVVVVVVVVVVVVVVVVVVVVVVVVVVVVVVzIgFaVttWhoGAQcINbWoLAatBtYUEXiei+pSYOQGCi5w7Oe/evhK4ZrpNsaAGSdZfIc0t0P4ejJfcxjQPhFGXJiQ/IlFACAHehokkF2yQBe1GlL8wMgBDAIwcxAAXi0gEhyGxiB+dKaIHVAOJxU9X/CFHdAmUS4DxjUV7u0BEDrCf910FW6t6vQ1UQw1YsMrOfnY6IZiaOMekudPK5GTFvPCoW/E1HQAYgc6crZW3BnS//PkxLFhNDqCPN4zYpXOK0NLYOoAzRF8AXnOAibCMWv4xAUAZ/E4duNvJbqpQ4qFvC4kE0MBkLjKlTrOpHmh5QwStQNbxRmHJ5+AaCyR0JixGoGf+P1Kl3ucvvtga7LWRRGClHl9t2gVkSE9SpsjwxJYB6IsWQwd9e6OSGy9n4Ug9q1kD2lRaCWawc4T0jqLS1Y17rGX7LkilNWVNghiL0UTWus+nh98YbfVy1d0tqBVKF8CAwhoR7Vuk6bau3ZXOW7ZgyFVNSlrcGPkiKXfcGddprsha2nsRGw21+BJVVhlTEFNRTMuMTAwVVVVVVVVVVVVVVVVVVVVVVVVVVVVVVVVVVVVVVVVVVVVVVVVVVVVVVVVVVVVVVVVVVVVVVVVVVVVVVVVVVVVVVVVVVVVVVVVVVVVVVVVVVXtQkBOatu6xoCjAMCoXeBo4wACUKgy+mCQuAi2GEcHBR92AFUqmmIgIQLDECP2jDDwwHzTAFUJb54C4jOhIBCPbGTxcYLCIGIhMExgKCgMCxJBY0Ih6DjYhDS9gkFCQGQORvCijCGAKOjXy/j1GEVRONGCgzDqR6UhGzmsq16jZa4UAQXVDinuiNNrVMKiymcjUM08MwyMHIbPPGfuyqlTQkT9ZzMR//PkxKZehDqKXObzJqyZCnNHjLZ+iplAnpeC5DsPNHLqB8lO9TYlAo08C8h0JqU/A8VuKZBxByjLqem5SQE7yHEyhVOm6N8+6uiAk7UVQOxEGvNy9IsHEv5Fn6pYk5UzDjE7kMz0drvfOurLvgKieeTVXFhp74KRjopZG5c+zusNU4WIzNOFnsabK1ouoyd1XvlDzRZ+38EYr7fDz+vrtElYCF0FqAnmiTfQJnTW4JuMQkr8OXAzcnPdgmal8Ex5y39pHxnlowdGHWtTlOrOw54mXOpnSPoKDLchlckMclUVhh+WhwgeADDAJTBPBEMuwmYyEwIjAvCTMAAJcwKQBjA0AuME8G0xUDljnMWvMOQGoweQJTCsVTEICDG0LDCIlQEshzo34UC4wrCNN0MDZhpioPpxPqB9MIhlWKwWSDSys04yM+JTOF8PUzShdLhKYHATgBgGY+WB6mnPIWZNNeGIDo0DlZpcPSGmd1ZQjDH6frOXzu3aAgRGrcimYZjCMocCP05chfjbXiQAFiXGVOM1ZiLFRCGxeDKV9IS8aHciP4W/Dm00uLKGJCw0bp/qHA4NVsMOAiEmOfKQhxQnIHqppJiAGMBITAFkwsGHgclAFlrAmHghqrEeCSmSAbDZ//PkxP94hDpAAPd2qNEggIHi6hlUMJHKORa8xgJf5MUwM0M/jkMQgDHhBhqvhocEAWPBiT8XUMVsUQCgUFwZNYuszFymiPQTACM1UINUr3aSMIARCmCE0UPkq20CAszQBEggqkxZymJAQLhqAMGgDghQAMgB2AhYEEQ45RhY88ZhgAIRERgjUTBg1OslKyVVKH8w8ODiWUreL0ExQFQNVkZTHWWugIACYbLrwezeLsRauYOFlUBpnHV7LEiSEBMxBGRxQICUipRDqWyVyt1IoTdU4rpio2mNAw6CKHo6wIkeFAcRBQ8iiMKLWsDib+MmXwjw5DoMPMCII4w6A5DIrYUMUoGgwDQMzAbAyDAATAWBKMDgKUwEVTDfbIIMEALYwjAADADAQCAdTACAmMA8AUwJwghI8owLgEjA/ADXWYG4O5gTgHmDmO6YMp25mlBcjwrZqAkjWXkNLdTD487rZOLdTGQctmCQMwcbMRAzCi0yEUEIGwdIh/EqFyBccDCoBBj2ww5DwS8RBMZQSLsa4pgmAnQSBa938ZA/sujCXocIvr2idKYa8YQHkQAvz5x2JeiCYQGs2bSEO+/woCAEdJAxZkOsIbMudFsv8DnZIxOBhq/mDmHmJ11GukDCRiYP//PkxPB1bDpAAPbzHBBaCHoCJjJUIWBS+5dESBhkHHBkxKGOZJjAAcQhCsK7GVGAAxm4IDkEBBQEXVNkceNPf8/qzWCUXTEZbNq9LNPzK1NWU0sea0xJgr0v3HXEgBBRCc60GrKVVLmKVsAUmOgxt1GflwV5kgogJEjVYETXXSJLfF9Qw2HZcrSrEW1L7LmNBNAEYJpegOCIgkulmD1wO5jiVAjFakqur1WRYVkxd1YFIRPdhrOV/PqrguuUQJdOJTR5ypIhPLgMxTzSMYIrSTDyJSaLLBWmQhZKgTjMnXoxhYaD4LSpVcqupGLIbPvUc9dSTEFNRTMuMTAwqqqqqqqqqqqqqqqqqqqqqqqqqqqqqqqqqqqqqqqqqqqqqqrgAAKIHeYKEwZxiuY3CTBIiAowrJA4d4M4QJ8x7NI0o6DqcyIxC4GY6kGMjwNLToIkDQoJGiY6MEDwUGiAPM+XzXkUOIRCTGQJZuz6bY9nSWpvgaYuVBUAVXMAAYkYidGtrBEvAwKliqqJpiWApNKUCVqZasCWpLKgoMNwlryJxaZOIRBCEyxlKgKxS7pZUvSvVyqtOIhmIalqyi7yhauV9WWVMSacz1tYlPy16UTS/pbVS1yU0UvUUWyq5lsRiuUu//PkxMFlRDpF/O7wWFgUrU9S7MIXMmMqZOYtMsGrqeaS8t9eJeF5ItVcl2UEqxEfpc7UDOkxJk0y/pbkyBQEBEi+w6k8LVIldJ4i5L6sOac8Liw63Zs8hZ1GWUtwTCl0acplz0sSk/ZauVAKmDCVblSstvQy2Qu8nVGu0ztMOUCV1AbDWsl7UUnTU1ZynKhJZr8tXKxgv8Y1CTnZf1lK7U5kUnXcmgn4rGphL1ksxAzAXlhqjmZdKarAX8bZOVlhcpbCCzxl/WKu1PxlwXehpsKYrLXJd2rQUrkzncZqXXYZTEFNRTMuMTAwqqqqqqqqqqqqqqqqqqqqqqqqqqqqqqqqqqqqqqqqqqqqqqoDE45I7BoGtFMwWACjABBnMCwQIxkQbTbPocMhMeMw1g/gxYmjxycgq5zi7mxFaYIKRkxPmJg8AQie7Rz+DoqLJaEVSOt4wqT0nMkUzBwoGIAj9GDrxEma8QU5BQRqPlUZhxmHoCG3BpRmiAYlaBb5kZjClvTGRAWMeRWRKSNY6h8PHGAKl4NBNbdgvSYIScYiJIjFbxwMxQEN0NVS0agCElxSzs3OF+VcrleSLUCy1HiAGeVVR0DDmlo9JWrJS+HCwYKWwTPZ63jCZchxV61h31vG//PkxNNpvDoEXvcySBAg0QFNKvXy4YABVsg9GhVYueXSVQABpcRI5lhcZc0cYElfOMCChJbkFEgkQQnuG3J30/U/hYkMFf5wWouq47PpGqoie2sdDloi+jhKzLBMqZO16+2rEXhYE5sBQGqF6nrkK7S9qYMYa0k63zPi0zWmtqRlcAwwFyn0VMvgt8stJiBpY/zbT0acVi7ru67KE5myQT1L0QQoTF7wKpgocoMXeRWWc3zlMuXT1krjwUtRuUNvi2808jVnSZcmSvVxXAYw3Jm3HGjrqrmv08DNjn/kaVsxMM4QowdgwjCXA2MKIQMwCgbzO2llPeJ/Exd1BDJ5CDMKUK8wwBxDIVE0MI4MUwrhBTF+GzMFQIQwSgVDA7BNMB4B0IAzHALDAGAhMAgBEEABlnTAAAjMAYAEyZ4oVGNDoQj2YMynuRkKUEk06x0iDDY4KStl4XKgQeHBoFNWcEQxBGGCmVEAZIwxYYFBKQeNMyKCQoBDBDCgcFb+Jw0ossdBEGFmrvJRMqZk0xWFl7Sky0hGtpzJOqrMbSLg95i7ocECgIAiwaIGQIEEJgjoUIGCQF6gKFaArE9JaQvAXEAQ4ISixxqaeICJppLOZCoaJBSIMn03MsBFrteAoPIF//PkxP905DnUAV7QAAFBAxQECwgKNAlgy5oQcLuGOAoC2jhgFCBuauYuBBKro8nzkMgVUyziG8cbigkSPYaEFGAuneSYSWQPFAIcApEBzSVDEUR4GWAz4sAXOtRTZ/x0EGAVFUrJPJJWsdS0WLojqVBQMrOzghBKJrvQlL1T7bsrQXHbiKAGzCwFXRcktEw1RVTdWwv0nglak+MBAwM1VMBLiHGdsBdESBoiJ2KXLThCZ6Y7qgkBNvGwFGaLTsArzVRUGQQobF0ksiECJAWuOcvNqDXqR/3dR2Z29LEV/rRfJUxBTUVVCAhDFkiENkABAyAM8xhsgpmAgEiRA6sKBQMIXAIMUcNE2c0K4HsOE+5i6gjmFiELe51uRIAQEGzbq3MUrg7A+Iher9ARTQkJ8BgEOahc0MlgUpDUa/oPiEs6gjAQfMJgNPYw0CjN4qNgJg4+FTUyWMhnmcgCilGM2YSCwIAJi0LmNwuKABCg9Y0jHZhNJLA/i/THIfM/mW3l2btadwuIgWHAsFBNJZEgFAQ1gFBk1G7lgbhPByB6GFiOdkUl2B8+YYW85pI1CMODbkLDyZu6vxIDmMkIcQZRtsvGpi4Y6Dhu1kir6OwNgxiwNdvUFi5Y/utWGMIDEDH///PkxPlzRDok8Z7gAFdoHsQWINARxm8dQ4AtAqSw7+Gu3WahB5zDOHViwavSJoASmQxOY9GZhY5452/1+e94fVz3fwgWTu8z9XaX6ykKEADotPZXEnIdi2anK5igWH992dfbZgscGOUYb6aBgMxm8BicLj5NFzYplCwYMSi82EjjNhQscz+3zm8+Ybz7yp/7y18Jf13KBrDhw5Dtx/4PkNrOgjHxjUolc4HEwxKZTUbFNalcwMSzNpTDCGYsHxlYvGVBIZXBpgoNBwcMQCYxMDgSATJw+MDBsxeEQCHQUK3ATEFNRTMuMTAwVVVVVVVVVVVVVVVVVVVVVVVVVVVVVVVVVVVVVVVVVVVVVVVVVVVVVVVVVVVVVVVVVVVVVVVVVVVVVVVVVVVVVVVVVVVVVVVVVVVVVVVVVVVVVVVVVVVVVdTrbS3K1sFN0AgGYaAegATqTdLktNZSYYHEaBOcaem0ZRiMYIgVQp/ggJzEYIjVZzjkFhDQURzD4ejH1ABIAi5oyFoADQ0iQA/ygTPZvMFIg0SlDQIgNMksKEIOZhwqxGmScYkFRUBD/x1yXFSoVJOuS7KxX5pmVLyEICWFabDsVlsRfVyX5nGsrCsRa7GbEeorMps42cKBqjyzlDEI//PkxJ5cdDqGf93gAJNOhqDi5xMGHMSFlL8rtdmFP/MYY7x5uvE34rvy+r+uK6L/ppxle8MU0Spoehp6Z+HrtK+r+yiggBZyXsYzuy59oMoItQ401NDkUqPlHZVNU0apo016ajMBOUkM1rKpSYR2MvbArsxmjd+UWITL5Q+0WgeRSCW3Wt0c5DMAymW1pU/y9lzOEyZgS1KOQPusyKUDxoT25XKKajFaJSqnlk7TRypSTktqu+3JdiibL4ehDVn4kUhlVBGevE8Eogpl16aZVDUri7zXqV0KCXzMAOBCXdhxTEFNRTMuMTAwVVVVVVVVVVVVVVVVVVVVVVVVVVVVVVVVVVVVVVVVVVVVVVVVVVVVVVVVVVVVVVVV0QI6gDBkpSrHF2rjQAcBYKEU3904xeDsmG0aEIOCxebYDAkBzJRojVs2zFsTTBsBwCApgqAQYFpgyB5g0RRvl2hhKF5jaVRgkEREIoVA1MIwCAAw/IAx8SMz0I8OB4vi4USjqvQp4tMrFad6YfqubWoLm5YIGwaFu7MRov+irKmRLVgV1X4SyZRI1itglcditcvespi8OuFIJ+GVsJql5kbzUlAI8S7k5zDMFKCx3Zd1xc8lGlWLqSpQSo+rdai/5tWFpGFY//PkxMZmbDpVeMdwPDwkKiI4MCRGAgD1QKjDuGExd5M6UiE5pqhKGCxQKsMoi30SXwlZBcHOVC05YCaYCloBlttyTThtwWYobp4SNkkFuqw11U9mlJpJFGELmPE9dA3diasS5GaLMZ2yhRWWPo/krj7En9T2aAgHdYvUrc5EBpkLrWgqVQ5QN04w06Bn7Khw8oO+6ChxiakLC+IQpbKtjbjr1dt/5S1564bisDUsPRR6mtMUQwQqERUiWQ5w0py/zwUsdl7+xV0nIZ1F7cANu6kHJ5O519aNivwWokqWHfkigLQpuxFMRLsKAIGBuCKYZBDxr/IfmIuAWFQOwsCYAQMzAWAKMB0B0wwCKjPulOMhcPowbgjDAwA2MD8F0wMgTjAgBGMQoaYzQHjDa+RfMegCs0pgPdmjSgwBDRhY6ZSViO8OXTC06Srep7JHJUonGCGpA0rY9s1HQYCPmSEoazMJlFnNcie7Lc49TTL7RRn75Usjemcjb8QNE7kA3JVAUGKUrDRN/qduKqrumILGDPgwgEJmbRBnpdNa6fDQoTCnVfVna2wKLLjmAEmQLiwRFUwwMySBu4ZaNOIMMXAzGCxoqVljNaDcJzJrDACg4UggeBH0uOncrCsYRBUIV6o6//PkxP91RDo8oPb05JgQLOBJiZEYNAy5QFAtgXOZVOBAAsKJkCNLFYPLcLrSiStfFIZeCViDZkBZkB6EtGddazi/4wCcYwJAoRA4qY8cGBkyWaKTJRCVIKFJMDoQxjc5ag2igySUzQUQDk52DDIwLi21DBxCQBAEOMFYUaMYjK8wIseoD00ANR5aARpWGcsITWjfBTGiBokmmjq/ECTAUNF0hCFkbBo9NxYFIzIAwMKQRLeX+iwpinuvZExjzEnzi7vQlEqKxV1mDwIBhSURgkbNEc3VhS8la0ZmlhCJJKBm+ftMQU1FMy4xMDCqqqqqqqqqqqqqqqqqqqqqqqqqqqqqqqqqqqqqqqqqqqqqqqqqqqqqqqqqqqqqqqqqqqqqqqqqqqqqqqqqqqqqqqqqqqqqqqqqqqqqqqqqqqqqqqqMEAAaOxpmm7uVWaQ18LAzDzGOIS2xAAiS+p2xdnBg4iYlvGd4pkAoAAAiJyIHLygEUGpKwc4mIQgB4BxJNAMKqJeAIEAJnM0ZYRhipMJKmhYYy6/4epU6JWOHHZgHgr+hnUMRFrCRBiEHaNAy93pZWsOXALWBAV2nhhh8FrvWIl1EYbrUr4uPJ1jRfOUTMTWHhtXjoL3hi4+rvgINBIDg//PkxKBdBDpyXN8ywqNSCu8C7IZqMylcukFyPphqoKfXdK4ozhgjWUJRgDpqt0l6YjEFLGtxKrVp7dR0WhvYzN7X3WwqVEwLDhUIMClT5Lckb4tNV0/z9fGHwXo9LWVjl9HjZuvNk1C70pvO5K4+88N09BafR+XngFniwK6VhogyV+G1ZI+rd4hI3jRAolYIzLF8qAjoBVcLYoEmzP9DsqflfYci1iGIbmr8fQAIA4m16ck9Vw4ZWmgbcsU2ESi8ZlTrfGodtuG5cN3H1paOedNFOSSmXRmxL0BDRYljQyyiTEFNRTMuMTAwqqqqqqqqqqqqqqqqqqqqqqqqqqqqqqqqqqqqqqqqqqqqqqqABkIKYOnso6xgKgIjAMhhkMmGCMF4YFQExgxgBo8mA8AgYFIHJg1BkGWBNoY643xhHgimBmBiHBcGAcBaNAdjAnJvGnnGLwKYYp4ABgFgDGGgBiZOZYVA4aMbgTQw4HHN3brOWGJrQVfHn+i0VoCVAsOxq/DkxS9HXD8DTpZtH4jTvCu0Wcna09N2aVQRLp9ZFnS5S6lc6P36uNNUAAC9o3CZV8Tj4jKZUKAtPU+7zXwsCAtlaXUkT5yVs7cSYJwljospwO+nmMOFQMWFa3NvpOIr//PkxNNpnDpFUPby4ABhM5FHASIct42uQUWoCB00S10DrlvwAaFADGAJTxMaijzplgYoWRTRaBumeaLpBsRZmoKz1LhCkYAGoTLAhsMCFjwuCsCiIoGDQjCCRsV+BQ1jtlZ0IDTSDXAthUiA1TFWICNtjfRMRGRFJhyephAjx5bZdkOorPw1siuOngxRgIa3KgSBTcQfBSsPKCzbszztFtTPiAKyeTF3efl9GwtnhbasWvOSj/AYcqr1OsEgg40WCXi8rEoGvRZ02HuS+yYREck3H4ZtOJNICi0zU5RGIRQVTEFNRTMuMTAwVVVVVVVVVVVVVVVVVVVVCqQIYd9YhZMwAgFDAdA3MEALAxq2zDTMD2MHATYwKQTjAxABDgFDArAWMKACk3twPzPgAeMKEAswSwdSEKQwbQbDBDBGMLgak4RIDTICB/MJcCRN4QgECwCqpUDzC+AAMEsBRMFzndbWwpABuVGIU9VCz52yY2eMwudPUsys1TImDGEkCMisEiSoEuxERTcZJGYDtbX4ydoT7OowJ87cph2xEZi7Lo3XwrRm+mtVhmHpVLYwuAAA1boDrSaKqTHhhsB7TH8TGlcRSsUpFgzAZexGzQIrgEkbkMXJa6paW6THWSYgiChy//PkxOduvDo8OPaxHMKjTHoqwskHGMXAUSRD5mAWiuK2Ez4pi/bKy/lOPKlgIm3Rg5gGmc/buJzLOZsvh/0ECQRAopEYooIxVgTItUKYRbRxW0iKDXKIoQmw5lcSoBxy4IDyXbAYVawIE6XMwB4SmrBHBGUg7oXEPClyAoyoLThg2WJzUAwcYeB3EIC8CUghCWUaYaSHO5rGRDoULVvNiSqMcVVFItqoY9seQpB3G8h1PZf7IRBU2FJhAJyPZfR6JOoYlSRpdlkja0bbtTBxRUjNLEPQbQP4F7IRyxyn7lk2TEFNRTMuMTAwqqqqqqqqqqqqqqqqqqqqqqqqqqqqqqqqqqqqqqqqqqqqqqqqqqqqqqqqqqqqqqqqqqqqqqqqqqqqqqqqqqqqqqqqqqqqqqqqqqqkFgBSzZupzBwXMUg4HD1/mClqjAgdNtzk4YEzBBSCw8MBAUwuCgaNjCZdPgWMDBVBRWB0hoFrxMFjg3C0Cg3rKlkKVkHAKAgSZRAyZhlipMM8tl8C4BtVhhiV5Z9TEhEaScz5uCriblDr4PknscsRmjUq8i7xJVRoUiyFdIk4IC7ogYPDAcwyirUqS4ygCm6hhdoDmR+XFz9TDDZbEZqzVlsYTqa1FmtR2HmO//PkxKxf1DpqXOZxChggW5v2p+bWnC06EKm+xcq5PvwvtMJs8Ye57HIUETJQAz9a1FXUL+Jjq5eCApFaft2i5qSOb+0Lgvu5D/T0QWCrM3Z/Mw7IGXWH6XI0xnK8WZqaI1w0up1wgLXXleBzGarsnJlhSI081Vg8AJ6NLfxdKgMFN44l6UOdrUUlLbxSG6W9Ay5UnV6vLVjceonphDtxm5BFPMue6UZymrkzQPwlWmc+UBrec06OAQk+xoSKqrBULklrwEMECL0NaeZoDO2qJnT7VnscWUuo5TMXpq1tS6hqTEFNRTMuMTAwqqqqqqqqqqqqqqqqqqqqqqqqqqqqqqqqqqqqqqqqqqqqqqqqqqqqqqqqqqqqqqqqqqqqqqqqqqqqqqqqqqqqqqqqqqqqqqqqqqqqqqqqqqqqqqqqqqqqqsgGGrd/9bJK+pmBGjG/DBy2hc81T1MRA0v0JcsL7AYhM1QDnR4eBoOQ0T/VLBRKjmeCqOEKigKISAHKp0DUoMSmYxFpCoGjGK6arCSTXGNMzcxL83mE8n+dtOl61/qpnC5DCYLGMmTxp3JCXnXc2sai9OYYbE2Bsmnm6yxNMt+qBltO/9NydUCfqGYjG4dpW+TC5EImzyDFyFoig1mD//PkxJ5cZDqCXs7yHsT4u87DoroahF3hfN1b6qSSUbgNujgu2rsI6L4tcZ20+Qs+m0eWEOtDsoqt3VnLiv7evzNqmyq2alFdoFZGuMxfFuD+wAtBSmjijAXya2gapil7AKfUociJxhl7xPzNvrAzcE1zLYX8y1RqHostuB4lKliuTDUOuK3SA1hXUxjcOWJEupOVSiH49Dzvuo2yVS5IjKXqhtZT4sNqx+bjVI7jOk4os6TzrdC5ScUgaMztbbgxtkLoo+o2uQLBRhrLWk5XJYjAMZhtrLtJHUz9PxWqwdKqTEFNRTMuMTAwqqqqqqqqqqqqqqqqqqqqqqqqqqqqqqqqqqqqqqqqqqqqqqqqqqqqqqqqqqqqqqqqqqqqqqqqqqqqqqqqqqqqqqqqqqqqqqqqqqqqqqqqqqqqqqqqqqqqqqqqqqqqqqqqqqqqqsAJrbrfNl8ysAmyyp8UbBQVTOf8DMMCiUJzHwBqyhrZTCNQz2UADDq3gMCAILMcDTJG44gxDgVSicdxhy+jUsA+SfVJGXlugBo7G2k4vvIOpSEMrMYlfgObZQIBAUi7sA34YbqkW61fKnsUDIGAI+sAQQoir0aQwoCkkyLB1bVSrJWPBlWW4Wbr6LCN6uWM28oq//PkxJJZdDpVnO7yiui7CNyBymLOmTqKrTYw1qii0Rh1xKZ3L8afPbA1VUFS4ysTdVw2U94IZs9jlOdAsHNnl0BRmWyy7X+V85TX7tqtTQS6K+nCdl0nfgJsTWqCFShoT2Mpht+pdOwXKqtJSN6zWUUvxqH2kuy/sZjsla1GqeelUkh2SRuD1A2vTNpXbdXyiEQfdqqZqmj0wQSmWmAIC6V2oGfVvKzWmWRijduC5NQl7GiS6YdSUK2JzCQrAEUEh2svSyBo0ESp3G4LlmUd21cdhLOYlJ27LTnJ6Vx2cty+TEFNRTMuMTAwqqqqqqqqqqqqqqqqqqqqqqqqqqqqqqqqqqqqqqqqqqqqqqqqqqqqqqqqqqqqqqqqqqqqqqqqqqqqqqqqqqqqqqqqqqqqqqqqqqqqqqqqqqqqqqqqqqqqqqqqqqqqqqqqqqqqqqqqqqqqqqqqqqqqqqqqqqqqqqqqqqqqqqqqqqqqqqqqqqqqqqqqqqqqqqqqqqqqqqqqqqqqqqqqqqqqqqqqqqqqqvCFZrtv/tbcDihdIaIQtbpQKBhA/SVCyURbOXWDMFjgjUFGf/Ghw0+0T2RLVMRbkkO2NHNlSa8UgNVJN82YXIgqHo++jKwKKBkmTUNFYlrt//PkxFBIzDqeXtZeuq/2mya/dplsBiLYLsFUjKGUF4H7azGmHsjI7d0jMFOxsDUf7Cqy+EsLlMiHBLqNiP1zgp9eAdwGssJT2mJQwlsQSvdQ2B1AhJ5gT79sPFHruCswkwaB/qSV05x1ej2ptvaA8iUz8QoDxzi2iVu3wYMk8ivkTC6cltwgRE08RqeNBIF4X364jWrPh8/np73isbqMkS9PojOhgubO9gMs6ZOVyPVlxj2m1WS87aoOy6rg0iWDfO5adrTKwEJMWDI5Kg48KNwTrDmC9cKqWkRIRq/7rDvVTEFNRTMuMTAwVVVVVVVVVVVVVVVVVVVVVVVVVVVVVVVVVVVVVVVVVVVVVVVVVVVVVVVVVVVVVVVVVVVVVVVVVVVVVVVVVVVVVVWgAcUpv5v1wsAhgWBYCAB01ABCCZi9xxo4QpgCByjBhURBB7T1MHmw9kNTG40NAhox4E0vUTAKDj3yiNLpd2zB4RKxcYbNJEEREA59PaKR9LMx2kQMcl4sGeS62AwSKVUWLVaNu0REby4TUnDikrfdEEN0DSFn19N0GBBXoycFxZTDiwDrJvoXOG2dlEekcCp1xOegylu0jwOi8FHDDYy5EJeRaMiZY1hXoRZCUkGtx+hGAwWE//PkxLViHDpKXO8wXCNAAoC/y5zKk8vYcvpDd+WxICwUMsoWWc5rDYF5JiLQQ2SKf6Lu2gjXky9YZ14/LWZq3LDtq8uMta+2SIvA6jZ0l2GqrTj94wUzuJQ+vyTCykxEeVTsocCiZW5LgUSAxvUfWsS6elae4XC+zc6eUQWxR2IRekr0MtacsGh3dCKRZzG6BQJEaDrsMwh2VzPunVL4hKncpHli87ZuYsrS4fWU2sn8EUjkIizBL2XW4MmXgoa4kCS1lyjsJlrvP7hSuncbtTzj+UKD79ulKrsxKQSlFKKqTEFNRTMuMTAwqqqqqqqqqqqqqqqqqqqqqqqqqqqqqqqqqqqqqqqqqqqqqqqqqqqqqqqqqqqqqqqqqqqqqqqqqqqqqqqqqqqqqqqqqqqqqqqqqqqqqqqqqqqqqqqqqqqqqqqqqqqqqqqqqqqqqqqqqqqqqqqqqqqqqqqqqqqqqqqqqqqqqqqqqqrQJQXS32SVuIIi/yZbgJzhQgFFhAynhtTBXxUGzUZkIWQsNI0pjaYWYGJhjKbGLBAomwY6EmGHBv8WfBBGwsIKdjEAoDE5YJDbExQp7i9FWIEoUZkIA4WiN6kfxlaYj52c7EhU7GhNad9sTKS9jehjU8V6St1C//PkxHZSfDqOXt4fVue5bWpJLssZUyiGqTkqchZBbyj3Dm6ZDBmLOY3KnciIGOFFDRpXYhyAwCsOM9stibM2zI7EQYldir7LQAzIYe6bp7TIGKOfX3L6ObYPRwNhlP0q75iMrGyc9B/pOVWncuBuP3IvTMjkIBgEczwqp9uLuopOnIzGqWdQE8lDRck+rF8tzMeyYRi7QttQpVqlJEITSHl3ZjJPNoYHOiFGs0LEt40NVPVfO5qeWBX0wxQCSbzukcFAwpXxpJorg703z5XaDs83vEByri95UIfxPiZuL9uLTEFNRTMuMTAwVVVVVVVVVVVVVVVVVVVVVVVVVVVVVVVVVVVVVVVVVVVVVVVVVVVVVVVVVVVVVVVVVVVVVeSxBHZv47ZKYQCEPy2krqA1CeEcDssBKXvAZcXHANNTjB4FkiuaZ/TIFYFDFElERIzYw2DA00uTXijMCDhYYQAJOQxhDjL3/OAlI5u4SZlgkFmLyWZWZoTEJCzI7HkfHdAQqYyTmQkpk5KYeFGUChfoAhgYAmBCwoEmRlZjYUZQqkSKYAAjwWnYY0SGSEJiZc1tBOYSAgUTMtMTJEw1sNMyLm7GNB5hoOdWfmNgiJrTXWnWHo2J5MIbNSQ7LEbzFhdJ//PkxMJldDqOXtc25pdqxSTDIXUfqXzEWgFbYGBXt3SX40yoeAlTPHWYNNMCXU/9DEocUbSeDAZIkucMAZKFFqkjEcn9f6WLJjzgtOj/Kr4P1Q0vbkzBqwqDquYZh2KOK+8o7Wdpzl22I2+kvuMtLxUin2gQ7VoWmryXs/UHvrDLlPurbBEHrCtZ2kcwa/FIBYc3dkK9IYkisLKk/YOeZ7Hesyqc7Ndj0HurVfmBrNHS0ANBl1tZcKpBrWGlrCsKbk3aLw0qFIJrj10j5RCPyxz4FtUbuMHadjS8oY0xGPQlTEFNRTMuMTAwVVVVVVVVVVVVVVVVVVVVVVVVVVVVVVVVVVVVVVVVVVVVVVVVVVVVVVVVVVVVVVVVVVVVVVVVVVVVVVVVVVVVVVVVVVVVVVVVVVVVVVVVVVVVVVVVVYAWpqSWSvAy0wSDwqCTBYnMa9Uz4ODMJGMXhgwACUEIVE5kokiQ4RTAwhUWQDMRSeMEgRh6KAFACui+xhULBYYWDAhKuGvo+hcweaNzUSbASMUj4IJMgUtaXBMAcssgGSKMEBPqPo2gYFXr+w7Jl9Fsl7QzLMargpCuoy6bmq8Mw80l3YZgV9mHN8glLxoaBAUGKcoCVOGJMqf1ykEyC0if//PkxKFdFDpdf1zIAmm3cL3Ka0DWnSSKbdxY04KqqvcX9jkXay02tqOsNZa7s7WjVDktJk2pt9Wu3IwDA1mLGtRJSpiyAVftWUxmGWuyRxrrsu1WaSy14n6tUsEqBO/ADAn+fq/TuCyF8p+IOs4rpPXGHqht/cIao5Sw1QFU0KiUNspkEufVyYahqGk5lYpTXUBchYsIQFFli7TW1NZQ5TDW1moepqGe47Ucd6lrbs0sMJjRCCYhL4IcpYEt62B2IHdQtk1tpCl0OohL0XVGrsQgdxWVR+VzEi08LTZVVUqVTEFNRTMuMTAwVVVVVVVVVQG2IhCOBAIBggQrYZYXGUCsYLMaPAgDCpNpQUMBA6NmAWAolmVAYDgqgYmEeDAYF0Bhh6DwXBomZvwAA5lSYGBviByhkzYJUgUoGCxUMhUOgy4bPDMkzizzazBmIQFxIMWwKHrX0zQqPBTNWxQBggpLOYcAfM5ZUTDioAxQhDBN1mi4VBjBCA4YZcqZMiCkZyvx4oxvAwEAhUiYPLGH3V21t37D8HovHiyHUPHXlnNkm1HmiOGSxGuTGe3nGxHI5GN2HKJv+/b9s7e5ajsv3A5migGOGzamtQgJWbZQaI0Bkhqz7EztODKtTalzptTS//PkxO9wjDpBHZ3QADA0Qc2IkzKmkxlkTtUkos0nb9gy5MHFzLCC0CAwx4UsmXTMgEMACDAAKHmlIu0nWYg8IQhiz5m6ZrzpjBBhFiEJukXcPzt56wy7rPX0mKw66y6CwilgGBly1L0FGuPwBhZeNWNekfMzNM+DQ6iEk6RtUYVFhA8xQ4SGBiY05kyKMaXpOggRuvXzw/+8/+/////3/geVuG37TMqRDdr7/pgKkaZDkYikNqZsnawsI0wwAAtSnww1nb5lAYOAmFCvWz5BAiwpFh6pzEiwSBIg4KDreX4qTEFNRTMuMTAwqqqqqqqqqqqqqqqqqqqqqqqqqqqqqqqqqqqqqqqqqqqqqqqqqo03HEjIJScQ4SUECY64PUlgdRfAkzlALmcUEuApRSGarQ+C3kmAB5nArQRawztr1VE8s9HXLh2HYHcG7IXigHBlDDWPokoeCRFchfBhaE1BRUSMDQaKEtzmW73oxKs7Upyq6pb0RlkMxOKyGIOO/UT2vNxm4KVpYF8y2a1lmqxJwtyUZa4gQQmL1R7gRUjCISktAqvoLSeCwJcrVlh3GT2UFWGd9TZFBn76NIVmdBc6ObltYXJDCOGbaKCSau0FUiZgYKSMSNURQLQjXWW/VlX6//PkxNFpJDqOV8/QAu+jwoQSCUdgYGRWBIUKgCsOoAgYVABjjwYYBAYGBRZW09HIxQRJ0WVkgAyAoSCA4GTBZ4wBAACU+0VgUcAxcaDlkQqHAIMqEDKBIcQnJcS9GwMHio8DCjFAQuXMyrDIRgjYwPQgL1jQNL80ZtPgKgzNhw4C7ZnSJpx5csaJiocuEZogsYyBgwQVMJUI0KQGltkTUwAuAMECBSseAGHTHKhA6QBCoctTqCw8w4FO4yBghCAAcCigGLkwpuSNL9kgQcBBYEIiAJABxRYSskkXDEgamKxKJANk0FTMPN/P32rSyNsrlcm1FoceR7Y1hEZQ2CcgiPKVpiLuU6fmNymde6Sto6ziyFgiVKvE5lrAYUC4IYYGIqF0QCGo/g4XEYgYQDjwupaFQUrASzwkDw4jIyRfTUKF3kmFyNIBQKXDLr1AMGP6MgKuhULBoWGCIhEAgcMrSTBQAwJBMxEzQwk6QaMwUjOAALCQKURx3HkMwg+OAo20RAGMNS08SDASDrUJxuAGQiFACSExkQYQ1AQ4gsM3WjICP9kx52hgIcxSjOCgEmBa2A9jHFSsMHUysDIsPIM22Q6kEAGZUGHhkBol5nDA85DEoiOhdEb0WEJjDnDREDKB//PkxP91tDpl4N51xBM8RiB4apeCj6mYQhC5EYig4KIhBQ9LpgASIhhgbhqlZkTosqfcgXCJaHCwsGIT5hjJg1hFQWFARwUlmAEJBG8dkIQLKx1SYw8FpAd7MsYACIxAdO004AODAYUYUCXEMIJMARBxUiBGFEGsfBhELj1ATSBzDCzEjjBky/5kiIUBgwMWBAYaARpoyKxiggwGLnmRECockHu4mKDgQUBCywvIVQiXhEDRkTvAgUWGBYEKgwABYWx0DB2Ep4pHr7bGCgsVXk3ROd1oigLgqbXqhq2jzwVDb+RqjpQ3vmNU01DUqXNLH2eC++0ahuZW0ma5FLErEAsXbRhLTG8UfVwkrDKwqOLyslpS1bSnYZdJWkr5LihcIhKBwlzi15bcFFIwAWiC4iKNCQXA9n5VhM8DIB4lWU67Zak7gOCQxLLv2QEVuamPNIQIIgT0VBjGzoxICBjCciEmCCpwOKb03mMGBpbIYKxL+MRCkLjMCIVBTmRAM2MCkM0ENKLGmJCPBYAWJmXgG7NG1UkD5eAIPj0oqFx4sZpGZQeXGM+nMABUoWEEuxsA5ggBryBhSIHeGndHCKmWgmcUGZvm9EmEhABgIVZiQSt5oAQ0ZHh5pSxopRkRhxFh//PkxPt2VDplQMb1oJAuAuZQkNOHDkglCEKIwy8woBYExCE0DwISGNEBhGePHDNJjHt5pnJoxb7hcWZgybc4YEUaEgXLFuJpAI1GMqsDn4HDGATmvGmGQHqHgoSBlZjkZmoodNPQDHkoZAAwIwUwQHUFyIgLVjDBQIeoxWaZMMvAQiwMkMCgNEFiACBhBosBQcbMQdWiIwiAgkBhjpW0DBioBMIGUAUkAiq93WAgErIiJCFAKUIFEAYKgFS0eWEp3swRuZehU/aJLBRgnSNkLbGJAtWkhfogCtJWFXstJtGYM1Y07DpNJhEOyapMQU1FwiD6XH0bR/5+Ncge3H7E5SfKYdeiMOi/rLp5iynL9PuyFaL5MQbqhPak87SV3Os1p3IKaws1CeX1EtL/A2EVwKwtiQgHJg6hgMZlIAQA8hYKkLnFnS9itqsSPlh53GWAsuAuOPR9ehVGFiG9oiKi2ZsaCQBtj4Z5ESg7Gg3sUwsc08Ay0E0DA1To2Bg2KEzJgilBYEYQ6YdODGJn2oyXMEfTgDNBlhhE/My+JAYUImfBCF2EFRQW9RjBxnDAKDhQSYkWZpeChICNAEIYhOb4KzkFHBLiFFplnIOLGJRGkJiRU8FA3EA8CkVQAgYGTzHo//PkxPBw1DpooMaxskLtASKMzRNYTL4gaKEWW6mUPmyKmIJGELS8CwjLjDLATGDjPsxHGAE8KNzGpwsIf4ygQeMnCLmHBg4aPCwqaB0EDFDYFGBmhWGrMGzPBAUaGD0Q1odnTB02V2s5CDYCDmOHgQGaoWWUB3S1aQr5EsS+wHkFoF/kwVzBjBCsU2CtBV6WhN8smX1Eiq9LwkiEBZymvkE0S5L1kQyFCSRYGwIsm0iIILp5peF9w4zc2FIUM6iisrN0FgdeHFjq8kQQAvXXUEa0o81CMts+mUgkjxQ438rqTEFNRTMuMTAwqqqqqqqqqqqqqqqqqqqqqqqqqqqqqqqqqqqqqqqqqqqqqqqqqqqqqqqqqqqqqqqqqqqqqqqqqqqqqqqqqqqqqqqqqqqqqqqqqqqqqqqqqqqqqqqqqqqqqqqqqqqqqqqqqqqqqqqqqqqqqqqqqqqqqqqqqqqqqqqqqqqqqqqqqqqqqqqqqqqqqqqqqqqqqqqqqqqqqqqqqqqqqqqqqpUzdvYgh5WTlvHIbhEGfmFpEswjadczclQdeypHuZ3EIZZZFmswUsIyxIGCILa/Ru5Gn8eaZgJ2LGGVNnXeJX0PQxK8Wavs+N1832f2NUEso6tzkZhuc+XR//PkxFlLRBKW6MPT0Yfr9Smn7H46yxdsofpdDUnEirX2VBRjjBZBxCuAtS4cwBLl4GOXRHK6KaKWOU5CyDlCuGmYQ6ywlwMZTEwJsrXbAeZCFWnR0B/FsBhCxHe/JwmDlUhIW0N0es+0ajLOBfglR2E9TaGExXjeLcLcLlQL5VKBXkSnlg11cytqhVyKFKo+WhclyjSSoaN0yFcr1Smi7uD1cWbDWYmpvXzqOl2wvz9allLKaOZTeuDmfuTK2zWhrlea2adXMsjRhFR1x2kd0jEve63JImlL1ZobTpVLQiOahpmTjLlg0KAaYWCKYkCiYNREbPkaJD8/w0AAOBkGAeYLhkCR1MWQPMKg6R9EQACgCmDjwjBxCaGVrZpaOZMGMFfl3TCRRNYs4YedmYjpgwarGKCgKA06Uygo6G8TgtsgawDiMVVR6tQZMIKA4lMlEjHxNHIwwpMYAQ4CQ9QUTkGgEDBrbKdIBs3SXU7qHItEsVgRgoYhGUAhg4QIwULgRa5WAs8AlowAFMCIQqXFZSYqVGLhBmiea0GmHGZpBiZcYmYBYiDgYqcSpB6LoHf0YppzPmJOWXAIZoLhwSDQaUFFQOSaD6A0O1C7KZQBKMVAKBmWonGc0owoe6CQZYGR//PkxP91zDpYAO7y3F2mCo44aMbn0MetR3OowqUAlwRpg2gazBUrKjHaNEQDLGuAbxokiZJTbBAY9EYhZoKggAy1wz024GTBZUyUjXOFBy8xgEpGAKoKmGiMDRDXYAyRliMgAIzQgUgY4irS+QYCYE5rEhihmlGSUxetGkLUURgkVGBwznBgVOsOkKs5Il4G/VytVASWdRJvslgFnqmkQio6O9auYNbsimr1rK1mkPIoM0lohfuSuqyFNNgqjbsuJAUla2tCFqKQ84b8O+4ruUjDYhCZEoDEpO7LBmgwtzI7IJZXjdVMQU1FMy4xMDBVVVVVVVVVVVVVVVVVVVVVVVVVVVVVVVVVVVVVVVVVVVVVVVVVVVVVVVVVVVVVVVVVVVVVVVVV5SBgoAiISBAHMGgNBAES1n6GhgODZhAAxsGTp5idgUBkiB5KBnQJAdjitpt9EJyEo5jGGBicHBMGbZlLV3iADDZhEjA2g0ybM3CCqkGAnJuFkJFhlNefmJhQlRGEQU7acxj5aanIHGyIZ+l4AgeZy7rc1sGOcHJg6J0YlH1AFSl3XcWHZIpZOl1larUaeEWBlEy3FUsUq4koK4XxUqVey2B1gSyoEDZc5T6qVM3Yw6bgKpNBicHrFgRg//PkxLpjTDpaWu7y6CrQw8MYCFhIFmESZuqJbAccDs3MTHZS11YBL2pbAQCk4o98cXe2kREMIcMk6W/gJiTNX6C4BCUqq1EwAkUnbTSRjZoW+h9uz5QCzR3mdS9hr8v9HLESn6CWvdSz9WAceLRVw6tK5yKLImAOEpmlUrmLJqzzbNBlssam/r7ug+Lhw3RP/bmmluVI5DPF9khH1hhUEZmJh/X0qSl6Gc3K8rcqVvDFZcyqbjb/siLtvdVUSToU7Rki+DzQ9pDCJSqfdRxoZljlNSxm4zD7yxfGA21op6wqTEFNRTMuMTAwqqqqqqqqqqqqqqqqqqqqqqqqqqqqqqqqqqqqqqqqqqqqqqqqqqqqqqqqqqqqqqqqqqqqqqqqqqqqqqqqqqqqqqqqqqqqqqqqqqqqqqqqqqqqqqqqqqqqqqqqqqqqqqqqqqqqqqqqqqqq8DRhrU2rckoGSAImYAA98AK3zDCzA0zXMhoayeSxFlbuCFSfO8ax0kSCgYFERTbMjISDkDTXUAUDDJB4VBjGCE4LUNPvzKmQ2cGDgNBVsrZpc5CA4KFL80dLS23ZaQzEAmT6meUDDl7Q4j+Xpcmq8UXa7BTXUlGDRF/rFJGnVfYuqhrWjU7Tw86LsI9M//PkxI1YJDqaXtbw5l7EAw69b6ytRIvXSzkutY3oipos5+otAcZtYNaL42pqNuZJ6jiJCLHUtbG5cjjDWHILNhDY02SMYxiVPqhtDyZdA3MDTGEBZKJ5jEteV6dGpbr1q1LlhQ1uVpd2e+mvUUUrQzCKjAWiubWWXKWeuyu2Ktikbwuq/UpfKnjsA0tSjhiOQNnFX8nYk6CTbEZdHGJQmVVZNIp/GJPNcltWkcafh+rDrkLCrYEmJbJ0PSoOiCkyBlhg9RSTSdL6kWrF21hx7Z+63ktyiMGRdw5prDHKKWWqTEFNRTMuMTAwqqqqqqqqqqqqqqqqqqqqqqqqqqqqqqqqqqqqqqqqqqqqqqqqqqqqqqqqqqqqqqqqqqqqqqqqqqqqqqqqqqqqqqqqqqqqqqqqqqqqqqqqqqqqqqqqqqqqqqqqqqqqqqqqqqqqqqqqqqqqqqqqqqqqqqqqqqqqqqqqqqqq8BIRUm/rTkjpkgYMUR+TKnjJgzZmDhrAL+UEZiy0VZAIrN0VCwVXrPggA00y5sYiGTGhjgDOB4vGHeXwAjxowRhAIjBOol+XtZKSFJpEQ0IahaXVA6gBSCaIQdZyr5czQZhCwBKLWf/Hwho/yDoIYor4xR+FadUF4Twj//PkxHtTtDqSXtPxOsTweZsMkeK/fMzVO4OUdkeD5ikjs4zOM6+fSGKLCdU7iaQkIdJwHmvRlHYu0NqeM2X6iRIkQH5DlbBpdcuDEh8ujcCVi9pZ0VADVKjf2GorSM4s1qC59PL6O/dmaekdiKu3JIo6TcL9q3KpFD7guU507GH0krkI5KouPE2IRGnfu27lWGEZ84HlliU1GgPYy6ncO3OS1rUUdRmzgSWB7l6ajNbUeoq87afpdKdNI5bWnXXK1hpyGsJf9yJh8knYdjEcu1K0TopDdq3bEi5SzEtlcYd6TEFNRTMuMTAwqqqqqqqqqqqqqqqqqqqqqqqqqqqqqqqqqqqqqqqqqqqqqqqqqqqqqqqqqqqqqqqqqqqqqqqqqqqqqqqqqqqqqqqqqqqqqszGGXLdq//M9STGqI1tLX6hiFBAv+bA7mqHJia8ZeomhDgRGLBmkO1xdYwOWMTIFJhVOhECYSJmKo0raOAoWJawuYBDNJDtQ5UGiAERYVOVyDViWNDzQy4CMoCHfhDGPkpRZIKYLLApE+jCBTKDGXuKIQsDBBm5LGLlBUKqz2pJqketDov5A9TQLpU+TABJXxzZpjC21et/W9ltCx1iKZKTIwmBo1dlL5zTCGhPMpjf//PkxLBg7DpyXN5weqRv1iIhsCTAdXkIWohNWAbmy54k51GEyE54dqL5VymkzNlCtdOoizGAZZBbkV2+QFTqEpW4lG5SHyx3ldxYzDGnOYyxGB1FVow2amfBrDMpqmvO06y7GbNPksCP0xNWeVL4UUgleLvIpQU4y12Zs5TQaoxNA2QvQgjQpTgZk97W14tKQ0nGfryj8cUxTIQ9XEsxaLgQ80Zt3QjjlvKvhdS9a7Wm/TVhptn/mYm9DltcTeqw3VTGaAllB9iGFM0JjWW/UBYo19qb+s1el2mty2rSvY7tTEFNRTMuMTAw4AVVCJAgoFEAlMLAIwEVDSreMRzw4mhzSDeMjqEDGINKzPxsyUmMaEzOHsyACMIJjFzIKr5NdEKiAIcgLDCQEzsIAqYY8rGtNBqxkPBAWeL+CVQJCAwqi6tA0eCgEtQcKGDqMqXmUQLApTo/F5AgREJTUDBpFlw2AQCkiwAWDTFS/YPEHipl2MoS9dySFqofdR92RsSTEexv2Is8iCvGuOIwx/3De9DNFNpkw5MMpCGAUXJLXsoDMlATHDZSiiX4GDxlAaEFTjnHQABgANIEBbyoTyEEzixRlkSMpkDBQAQhAgKYHsECDECz0hLxDpCCJNYvWmMY//PkxPdypDokAObycGCa4IgSNYcQnB+IGOBXwCOQIGCGIYyZcxUgsIYBRzCGTaZQRoEDgIYeCGA4kREFzQEWyNrSlZcQCGBhYNHEZLIlhErW5DoEAIeOGYgjXlYhkpPRMoGDJamWCZo8NLKGBiQtXo1gkIhAVQiJpJVCtWwuu6w6OLCGciZkaYQquEHpOhxw0GHDoJighLpM80Ag44Enkx7HUfBo1AocFRmIqyEscIUfHpILRNjSYJQIQhpEF3iJYvcrg2SjQMRSBU4lG/L/CybnOuw1TYumi0/g6Ez941AlTEFNRTMuMTAwVVVVVVVVVVVVVVVVVVVVVVVVVVVVVVVVVVVVVVVVVVVVVVVVVVVVVVVVVVVVVVVVVeAgKViATDDJRy54GtTwN+gwEAYMAodhI+LacyHKEwXBowDAkHCOYEAEYBh6VAdMPxENb4VOO2pNGyLMMghMGQFEI0mIIRGIQOmb4EmTIbmfSSGZAuGCoRJ4jwAGUOwk52zDVNcwsAKAoFBARMOrDPWHdYI6ibAhCRSU2auuZuooEAhExQUCxRazfJ2sOfymIgIup29MGVnwAQTV1yl8l3LLTFl01Eq6jzZ5K8DrRiYlDt1y4aRcLe6ozF1ZQw10nfUGUqgu//PkxMVmLDpFms9yOAhX1lyViqbt1iqg0WkzLmTLha87KmrYX+Y9RRNzHgUAqrQa+1ulj7zsZm1NH6UTbxnKHaUF11Li16PbbF0FwqwMTcdRdq7usAhsvrDayxEJIEJC12YSdurW3XhCVbDmWMzVxWdxhksS0TFv12kvsziBVFGlwRJlAmUEQbEX9hl8VLYilbPNPULfdlrwLGfddbhQtfDoWn+jEEX3HgZuC1HEtKrP2xZYd92mqZI3rBvsoIsTNlCIbSAuOms2BVV32TPzDaqi/2XQbLWztygF/8V9NxlaTEFNRTMuMTAwqqqqqqqqqqqqqqqqqqqqqqqqqqqqqqqqqqqqqqqqqqqqqqqqqqqqqqqqqqqqqqqqqqqqqqqqqrACAAJ7kgkEhhjpuFB4MAM1EUAwwPG8wdMQ8G6U4tHkFGQNA0QgEIAXMBQUMfBmMjA1MaITMdLcMWhPMGQseswnAwwiBsQhSl+MBAZRJgfhV8bcDsvFkCY6oIbcokLN2cFLgJdctTNIW8zsZuMuE6OgdwREPOwRBdfRrUHXOiiATV5vNFZBCXIjpIOa4L6RaH4/To7lr3JMoJR1ym1sW7b+RQgFQHyiUy2aylMNiIMzJgiR64i5D6uM47oIzG66//PkxL9kvDpOWs9yOF6l1YU7MGYBQgrCPvY6FkVnRfR6X7n7kLS4RTfuQy+UNBcSYBLIkQopIKNw33jvtdMMdLJJBRqIrBFxoKZqFQgAAYwSApW9wkNZJbaUnS77My7ryS1uqwrRZREHbpHoiS7Em3krL7aZOV3Bgp5mHuOytoiGj3uWwB3Y0+qSgcy/9+rJJyI3qcZDIg45FOwLM1GTsnHLAUwzNdy7ok/MvhhHgWFkLwJ0sSaKzt21zpV0FGjKmAylXTwUDkAQ5d8LU0YhSuw3scbCHFyKOSv6SM29rmZpTEFNRTMuMTAwVVVVVVVVVVVVVVVVVVVVVVVVVVVVVVVVVVVVVVVVVVVVVVVVVVVVVVVVVVVVVVVVVVVVVVVVVVVVVVVVVVVVVVVVVVVVVVVVVVVVVVVVVYcRQQ1fd/JJKW9EQQjmhNLJlAxbh1JUwSADip+UnErUKoOAIKtZyjTj1Y0pZg8avlMgSAs4MHLjuaUSWUzWlhAsuxL8GAiT5oxYZcSDxkVCQz4GMBCRIZAgoYcLmiyZqYGkO8r+RugikXniE5uwgMeZ7ocm6tG0gBIDg1nus/y+l1r3VhEIp18pXTctgd0WQKNKrmLqa7SK7mu8vpoS5WBqMnyEGEz2//PkxKdelDqe/t4zYnSSGjimlbAYYvOVUl6ISuVuEHAGxanC/UQf1mC2UAYEONaILiO7IeRaOspYunuBWETYOj8Nw0st6i7BZ9DSJ4SmZgxu7xTSyF2rua9qHGwNVRza/MiQarl6NpOPA9/Kr8IBGItOhBelWlk7d3bXW2jE3KaUm8rhPldL6yaDs6Cq9qwTxQ9TPy90YyeDBLROJ+8Ibh+5bgmVoTZZGo/I/zn4azQJwe3jN7dM+sZGQGYooo4y0eEaxBb006HaRQI7sNRiH4nD79QSih12JxrE/aoPmHkVTEFNRTMuMTAwVVVVVVVVVVVVVVVVVVVVVVVVVVVVVVVVVVVVVVVVVVVVVVVVVVVVVVVVVVVVVVVVVVVVVVVVVVVVVVVVVVVVVVVVVVVVVVVVVVVVVVVVVVVVVVVVVVVVVVVVVVVVVVVVVVVVVVVVVVVVVVX5KACNY28jcln3SZ/EHTT8m2eNsNLcmDj5oitPGgBNrAQKQhE0iEl/0UrjzLYDiycRiAlGXx4MgNmT9mCAAhNHQWFxQYqMphy5G7hOa9FZqAimMgMYuAQICZg8HkBOMS+s+4VQeHIizi7GX3ZMYaWZc2qzOMQiNxF6YyaMaEIorMxOUu8kaq8wxUM5//PkxItXtDqmfuafXoYGVzBWesNv0yW5HKflio4kARs1QhqDzUNqxczgBIds2EVpsaBx5QuEWhNen7lrbcIw4oNKCxyPUtzligrQkRgmdyim3UlMXgNO5Mxs09vK/UmZtpTeQ3u/9MwuMPyzKQTsFTNJGF7Q4lTCFKFyvZJFyhwpWJjs0uRxYRSTKaDiMFfqOyd/t0hrIWrG5Rjfc9sbirDTN4dgBkeCjw/Z2B2X8BKLhFjNUzGfi5LeDlFrgOMq8hYjSdOsgpgnDR7BTXP4cUj9a1Gyjb4O2c64G/Vb05oxTEFNRTMuMTAwVVVVVVVVVVVVVVVVVVVVVVVVVVVVVVVVVVVVVVVVVVVVVVVVVVVVVVVVVVVVVVVVVVVVVVVVVVVVVVVVVVVVVVVVVVVVVVVVVVVVVVVVVVVVVVVVVVVVVVVVVVVVVVVVVVVVVVVVVVVVVVVVVVVVVVVVVVVVVVVVVVVVVVVVVVVVVVVVVVVVVVVVVVVVVVVVVVVVVVVVVVVVVVVVVVVVVYczYBQ0j7aOSaifd3IbgBMekcNoxjC+HBcoYW1pLrUA2RwFNuGFCL7yQ9Hb79xgwMgHQeF/g70rel20TDCJcIQDSzIEDxg4iwZWsw4WMKBTEok2oqAQ//PkxFZKhDq/Ht5faltGe+kguMOskAMkD5dfX3aKzZp16A4Nx+fXzgGGqECjF8IpdpJXHnhfYZEMdExRUf47Dc7W4VQBjMSQyPrF61YS8qOL75mdmGA2l2BvoWzxmx84F+J2cbnnWs0swsTaz39b6O6CZLnmPq0WDBb23DVSMdTtFFtWVp44RMJyQw0NVR55juZKVM9Y4Llejp1BZW+Mzw9S5guMA6Vpti+23rc/PdvljYtqAxidKyNv01h49UCXzAUarcnqdO8W5YZNPJqvuShR6mhs8vZ0i1KyNnfs+6mlTEFNRTMuMTAwVVVVVVVVVVVVVVVVVVVVVVVVVVVVVVVVVVVVVVVVVVVVVVVVVVVVVVVVVVVVVVVVVVVVVVVVVVVVVVVVVVVVVVVVVVVVVVVVVVVVVfQUAwM7G22oDpDgWYNL4SYI8wvkKsnGbBvomv99FiJ7sAMDFEWyqAH0loC/FvqWFA4xzwGgxkAm+CQIEbQE8cD0NFTvEqkQoQiSTJTerToLzerAThMGOICRlhAooI31p32TP3DLkuyTAzB8wFoklRNSlSqYc4I8CIAQsOcl/oYkbUZNMrNBT5oFFKY5blNtfRKVDKKTb3we2r3N6wYtm3QzAt+spiNu5Pwl//PkxKpfhDqGXs70Tj0IQa/4xFI3KnfRUTABgMncnHRJNBg1ZSGinSgSPJe8ywmQwTKJfKKdhyZilaMytdHFHRgRYGAHrecFAXJpJDHXHjbfw64CYUDKZp6MXIgxQELRFtljMAKglQVFYEgi6rXU5qr6InXWDNagBe0tgJZ8OI3LRWFZgnWji0Ww7sSy5nfZ06D3SOjr5Va6lyeEPxOkf6Yi0fL2plIOyybh2/J5S8FV5l1Ok68MvyrqHJVNpErLZDEXPaS5sRfmmdrJ1Ifp4CtPQ3GkbRnEP0MnmYhJWVNcTEFNRTMuMTAwVVVVVVVVVVVVVVVVVVVVVVVVVVVVVVVVVVVVVVVVVVVVVVVVVVVVVVVVVVVVVVVVVVVVVVVVVcgUBGcjSTcMHxD570/RfV8neYsTK6ABmcFvnCIR/9gaOBGQmiUYoEKXmJEJiweYeLmkR5zCStAw4bAACYUFmLGplQSSBZs2ScUqhCSxxtm7F1l7PWWAxMzhoyphYcv8psyKUJ9AwmYskFSo0ZMKGWgyFdUsChcpBAYoYgCXlAAkHCWXOs08RkQoFT4Q6RZrUhlKho0dFhxNTUyLgoCoan7jNS2yc7FWBJFRViTBnNYMTIN2TAFgjev0+9K/LltL//PkxL9knDpmPt6xElDIPdN9KCGpOu1nZnQeYFgRM4OSlMyeJLlQGw7AOp98qZ2IrNydmUPVMXZsVoCgZ9pWuWlgNerAmJSlm7xrtqw9PNZaMX+BgU1X1XKg6z5cQASGJZyo0g8oM4zvMyVM4yNqXMyvJS6AWIxhgViNvryOQ3LHagqCaJmLSGEJjNCpoadWHl8l6UXAgy8WWtxWG7DSOoGSm8r6kiNC7LssyQWb9pLLFjUkGqCs1oXYZFATKWvWmC1KRnT/PI41Rube0TvKmU3OBYQpVTInKzMGVuW/C11KTEFNRTMuMTAwqqqqqqqqqqqqqqqqqqqqqqqqqqqqqqqqqqqqqqqqqqqqqqqqqqqqqqqqqqqqqqqqqqqqqqqqqqqqqqqqqqqqqqqqqqqqqqqqqqqqqqqqqqqqqqqqqqqqqqqsFNIONuJyyhdNROLtoZplmFkSNxhYQBQk6PcDBIwIBAQyiiuYeEQYOjRwWDsDTJABGNiDwtTUpLUvOIwgAmAYnuY06PDwWhe7k4l8ZySLDhwKpySAK5khXbvmEBJooJooalzExUw4DlgwCDIQdINFMViidLUHnb1i6gUVt0kee2Myd7AUEqtNznEE6Tk86YKBa5FmDRVtHLVWeduD//PkxJ1cFDpiXt5fXloOSpLsldeu2V+VMS0M/C2vU0Sfy3LOLWS+e9IVg6pEKQqMjWKnKdvE68xNwPGonEXCt48mGrxaZjaZbCI21RCUWffp2V2qdNNb1rL8NeayhJjEfawjmieqwHLOUvFMaLQhLem1agN3k6HZkr/igVO4r2vwlw9FiG5S77NmQrNQoXKdL8qgZJqok6Zk5tGF6GkYbGZM7EomBMnASlRJxnZEKVimRzKY1lyZz9LZzBN87WIYQzWNgZFMhT4gCdbEAWEXEjhvLJNXpbkehpsIoFMZZU0qTEFNRTMuMTAwqqqqqqqqqqqqqqqqqqqqqqqqqqqqqqqqqqqqqqqqqqqqqqqqqqqqqqqqqqqqqqqqqqqqqqqqqqqqqqqqqqqqqqqqqqqqqqqqqqqqqqqqqqqqqqqqqqqqqqqqqqqqqqqqqqqqqqqIBtMyy2OW2hUM+CzJIecREmAXIVhTByNi8O5l4QYjm7CwSzxSA0C0LVBmXPCkKlagiHQUjjW44qRycp5lKEKmmMllhi+ehg4Kq0YSqZcSCA9m9hsVIgemgXagdra3VaizJdELmQHJhJPKtZ+1haYCKvW00QAgcTNaSgyBEWLLnpXK2FtX1gl9GdONLqaPQHEI//PkxJFZFDpWX1nAAnozQrtd2NQ8rcuprzcgaAzoDBO9Yq4TUbkNDDsIeQwiYOirApe1DVihjYki5MzBD0xC3PuTEotWidCkKu2BIGgxr0RlKQrLXtl8CuVL6N3XTX63dzL6qwOFDTOnmZTJn5gZ9sXde2ZlKmLqyndPLGnTUdhmKd7MOEw53mdOEoMsaMQ0sM40AxShfSGlhYdZbHFhn7+DWs0ckpok6zsyGUyGCYdpbVLHZBD0PRF/ZbhHYzGZNt9n+ifx1nKgKYLLWtOUu5p0jnZuHreFdrLi3pTZiMVqTEFNRTMuMTAwqqqqqqqqqqqqqqqqqqqqqqqqqqqqqqqqqqqqqqqqqqoIWy2Rt1yXa66WtNtOISEIFCMYliSCCDAwCiodmTkEGPhqGh71GggamVRdGMwlmZArGQpLGLwBGC5WGLInCMajSJAqUBzEyBcWGtCEkpiR5gBQXQtfFgaHAyTs/bowZozoQtwgyX2R+S0binq6KeSargp3kx0qAys0Zc6YAOFVAITkAkePlt0PVLEE5jjg6WCwIoCAZSWVMwAIk0PDQIEAkCY4AJACEwrCjxIuaDgAOAExJYFWBE1QhtYOMYKFSpkCI9rNQUBgJnTlKdr7TpV2vt5VMSgq//PkxNZqhDoKX53QAIjKZEgVZbaqZrVAoQw5MZDAEAoRKFLmmFtx4FBCYTpvy3aRM2Wg67fvO1Nm7irVaCz+CXXrQrGWRcqAmvs9aEgSWIpNbAJACgFhwkSXUo1B9PPsNgmrSPqtx4I9FpTE3RUZWHvU7nPfMxjJrtJvc5KWgum/VWVNst1a73sQel/H4bxqFHKnhn3tjktVPVTOb+aguZtObBEWdlsr5wFGJmRwY6S5F0q9T5Tbdiu+Dzuw3Ry2Hxikm4dZi4kcldCydkDd2GpxpqOStOWUeL6TdBE4Yh6jTEFNRTMuMTAwqqqqqqqqqqqqqqqqqqqqqqqqqqqqqqqqqqqqqqqqqqqqqqqqqqqqqqqlsF9RhsVrMphkRFINE0VBJXYwwFNxZgLCmfPJqBMZIPGYwIcRmQZp9sWYkFCQAbEkHFV5moebbimKCQKGHbNaSBZhNmAD+aUa2whUMgFEYU6y4AO0DAk9ZBhw8YOPhhcvhQcxQKW4wIFAEhMFHTIgYGGgEDUACcAoPlAUm8XsVVMPGwcTjoCYyRgIzMXHQYJizMYADixgBQpI5BorAXMVGp+KqZtvDj6QIXwMQAxogHgYMDzDhYwIXAgXLmGxZcqGlOm89lO8kb6zt37a//PkxM1oDDpeX5vYAMdF1OsGAKNbcFCWPLQKABpkDL+2tOIuKXbLpvM4kqkEbZe/8jV3T07jmBgg8EDAIkAWULMQIo4X6cx2i/bdF6uqyCdgRf8/Nsschu3cOU9uG3/n2VrHka66P4pTz6x0TEDFvsBWsKACXpfQWBnKX8vx2VmWGvQEkZdFgd3m4wxQwXIqalgRyp+7TSy7Dc+49/1qPvA7iXs5XPyynp7bB2ApjO619+F5STrsoSUaVrrghmUKap1XoZfvTWIhFmrOXA8rg1wYlEJC4D3QThMyiRzD/OXVgACgwDgCCEAkwHAGzAMAVMCYB8wKgOTBCApMAMI8ZDGMW1cE3OQvSwCgEBbmAqAqLBOmAmECYV4cJgAhwGDWSOZ4SLRvMobioHBgIgpmDsESjIBgEiAA8+tIwj03P88EIwwszAkaKIyJmuG0lIQwog1Q+/DT9wOv5QIwIJ/gKFMEGSSLVFlkkWSvKzmEYGNAPXFGxPe308oaW1RpadGZVAVE1mHYyqsmkVQMNTUWZsocl8islUggQHrUadFkjh4kWSCgAwSs0VIw0EiRvInUr5iS5peiAXkDBCW7mLlY4DiBhDJmjxgRJlVpnkgQIesLhIulYXGT1eYiHCSJEUus//PkxP92pDo5ad7QAFpn7Q1EIkFCwsEMkqMIPV0vhlKPJbNnRaARhSgGCBjelA5IsSAF/TFCiqCLLmLGmDLGtTg5cm8yNCYkeY5OJIDNwVzjJ8wAgWOGFBCACDlBhAyQYoONaGAgQsAy/YyVLVgouXLQEpKpEWBGDZKhCtNFJibnlxDKlwMLEQpLQAAhQcpYkgVQJiQxpCgWFvItgwIEBG3XYmCRBDBEJYwIBiraqYl9BIIxElCGKHILgkCt1oT9tzm9M9X8iI8LXmjtVdeTQ7LFAWetpLZdKZbcno64z9WbOM9Fsn3mIYVMQU1FVVVVjAAANWABGAHAcBEPAMq5QOEgFQgBcwTAdTBhIbNaIHYyFQYjABABAQFTaofGA0AaYDAZxh5B1GMKjqa9bbRofkMDw2yPwJFgEKGEmBpiYbLKnzsprhOiampFcGGL5QMcMoSModLFg0pfpDARhmWeF0hQkIJaDKHnZhDy8EaDJBT4geJuChPMwoyBEWQhNIRb0kZy6b7MHYKpozdNRWJS5JKK/IZNDTgsS23emgNStl4oMIlQqsIRTQTMkgzwFOU84CXiwRubQU64cWI/QNDLLCUBsim46HqhqpOIPsjRIXBCwS537dhMVKsIHUuSEKpJ//PkxPBxBDpGOvbyxGWJkCWMveAljDCAqwYU1tHokbAhKgTxKRQCiiI8qFBgCmGIkwKTLWyoaX1Bzo/uZUIg9MTgAkDca1wgAv4FA2EpCAdIzgRBGI+joGNIxACbwA9mAqjClMZQ44Cqi08Klgp4UBRvRBR8DhgaOs6w1hz4IDBgqULPN6BoC2g4AlEOFqWIumKIhqsp1FmOwhiPDmKGfh6k3CMN93FDGHlgCFoDAMspo8KVSwawLTINZJDzowpkUOO4vTGmlQwCleieySPw9faqwNTeIS2RQDF8M59/FgH6TEFNRTMuMTAwVVVVVVVVVVVVVVVVVVVVVVVVVVVVVVVVVVVVVVVVVVVVVVVVVVVVVVVVVVVVVVVVVVVVVVVVVVVVVVVVVVVVVVVVVVVVsAIAKklZEYMKpiwEpqqPmFgEjmtwLisw79TXxKMPhRRceC69SYBIchkpnc+6dJVBCOwwYv+IAOlSYLFpitVnmbSZOdRiEAMLYgytmTiIhGIGiSYaHQA0xcgOAKCGmXGjimDOCwOAVcNlZ8FhHQg6YOCkynpE0h36AgiJiUKirNFVmvtzRjWqtcCkelLVZqwzyKdALYKmIAdyucdZ59NPe+HIXC0VVWF6geFXSsqKTjPt//PkxLFhDDpiXOaxBnZ2ahmPNefWK2F5TCA0OUAFtYLyr9ZLcU+wyejuotBkPZua872tyd59pLLKisKunjWY5TXHLX40RL9aEHoAWfoKpZs8ghg9ZwGRpysja6j17+3o3DzTnva6ypiiXK5FXpor6dBgTSIBZNQOVDEogV7aCvQRuGZ1iOMlpn7bLAKxlmO6tJ/pQwaX5EsGpKDUjrKCujEZUtxgKwL7y5CmNMpiS0VywGsPL0BrDl+y9qafquldp8PG2dqQJGJOT6cZ5oOlz6Rhp6lsklc1D0ovTeEpqPUqTEFNRTMuMTAwqqqqqqqqqqqqqqqqqoAKQS9BwBw2reBQDcMwTJYxe3k+D9o46YkxGE8uiGCUYIAQPDQZMj0ZmK6brOedOjnqGpprMcKMBCqdTPn/NJx9Aa1EnOhpqQCBjgw4UNKUAUbhYPCCUHGJioUhOSTSaAw4mcXpSIMBAA4MMCCksAMMAkJBIMOggFB36NJRzCxIRBYAAgABCMIBgwHKhiZCVhUcCAMwQAMOCGwkyzhZK1mk+vdkBiUHEcJMRznfetIc0nZkBJArCZIOOnwrYhgiACyAKqxGYK+UYbdjyTLZV/M6dyBGmVC4SuFpJ1NOh5fK7U8QwIwk3PDQ//PkxOlvRDo5UO7wuKuJa1FUDD4CLcJKRtAtSSXhkI36JbDoc0qAzhInM9LLpriMkFzZfgGCLQEIi2DHVzSkHTOGFoKHw6z3FAgCgGtb+BCTg8uGDuikznEEiZeZTl/y6AYVL0bIGNEhIdkcVXlBmql40xG5JdUg8VlLDyswqEFLSDljdlQN84oAYzAGhRTQaZgFFKXNMRbQSKhYOz9Q8HAEnhcbBmIrAWF/RmVNPZ62VRViaJjc0r3+eKMq/cVv2TLgRqJrI/sGYMs9gCKzCkrEUFPOm5Uff6MMBd9S94m8TEFNRTMuMTAwqqqqqqqqqqqqqqqqqqqqqqqqqqqqqqqqgLNDgUAoPwgERYCgsARiqThrfOBsKMgQSRiABoqCxWCBgjRkR7MakBskAoItMgEDCi45qrnMgceILRBRgsQDtNTWEAIwccugCtD0QW920aCaylKSqboOOX3CEgxIJSguQCLdvMAMgRgYBLwyEHgF0kIzOMuGd0q1kDBQaxDI8fagFbULnDJqBIjCRlVgxKAcTAcnoQISWoF6UBDDjs0GCMrVkhZIEEiIXmS+bqoQWXRVSFglQBTCYUzVjLvpxOYJFZuquLLYWxMkCqdOhnyIIGejcpFEF0yRIlYSe0sO//PkxN5shDo8oO5wbgKQTmQdDms6cIeMDhp8JMBRoROWIEA7iQSKCV5fdfQwkaEuURJDFmtpfJpwvdYR6kODeiFcAl6hIY0sIU+S7WEBi1BUTB9wUMPAHUjRBoiQiciHMMAlsj2kktp/0GAaheaQA0QlE/atICCChA4RhejOYAmpxMRJltTUQQQVuXuMbNRBPo0oegzSBUylCyahEYpW66wqRgqNwU0SyyfBdsFTIFQ4wBKEsm8yHztwIvp3HtLwIQIKLFLDRiCRKAAgiqImOgjArR7i5kJwYIwAAyC5jLHiTEFNRTMuMTAwqqqqqqqqqqqqqqqqqqqqqqqqqqqqqqqqhyZjSjTrQM0lAUY6Hg5ZwBdTGQAxKaIGao4ZXsZQUKvVNwFOMoQMeWDCadotHMANFoRgnpgka8woeMGbMwgHEgPKNqA3Jo6BGtMuJOQYCwUwKADK0KEE4GLGMFmNEhgs25sqMh6KDgTKSQCjeIgbSRYGY4YFkwyRDjZc04ouXrSAzcqBUAQWIGQSiMEgQeMCTejMdwFGk303CokKuMRB5oM6NOBLRUgKYGISQfoRhBSwYGFrQSaEJ2lHOaOwOkzEMo2oiEI1uC3oVAjGBmALK6C5tEHNS1LmFcGvscCg//PkxN5sfDpO8tawnFiCA0ugkUZiBecdeBdCsw0UtEhUiMCRICCEaAt2V5u0hNCAIYRpWGWMTkSwhMFqbsIpImm1KQ7kpfLIJiw6/MyrgAvEhwTH0AzIS7qRS7UxICmViFwVYlVFFC6ilKTSAJOJypM4cTcNyJY6a8bDuI2rUV9DShJaQsBUoROdBBdmJCSHURUa10uQnIpa8DOFpsuXbAiqLTAIAiq/axlDUhgJFTwVIXSSJfZYFeLCy6bWF8Oan26KVcIX+BRKwQQl+0FTaNrDOtZYEtdWJu7PE5ChjVIzTEFNRTMuMTAwVVVVVVVVVVVVVVVVVVVVVVVVVVVVVVVVVVVVVVVVVVVV/biGqV/svAiAxSIw0w76sxcYw6MKrgWlNFQAWU05UwTIRjzJiE0TAmg5QPKTEiQ4YkeAijSwgOODDTIwMsCTYUCCRYv4GO1pAoSzdR8zhYyT0eDCyhmjejUoz0wHcCwLBwwtaisEEA7MhaNMY3TQ2lYUcKMooO2SMLPIDEXC0D7F5FY2RFYbKwuAYIZEq7pEmzpHZWx8wAAQDF10VAQIICXkBwaV5fh/zMlU+YAoFBSnL9gZsmQUApQHZCxs6IwkB+lboGC7FIy5SwqHQSgUKr3oRDAo//PkxNVqFDpWMtZxTFljLFYXefdJ43UShIoOAudPREKMq1zTBmjp+SxVJ/G7rrMgYyIworsxbPJEmBGNXhfZOsMCjkXZZo09wUiVNGgM8CCE0mNtaXQx+Dmlp1uKvAeZJisU0CkrOTvctMKHVAJWPAgkqkLwMchxDKQs3YgoEuhesckTFSazuNijIjI46c6zEBTnxheiX0lUCS/TrbApQy8vqiKXKGoMlgB9UAbL4yzxCyOpdwsHCayaTI/lsVh1BmWA4C1C7lVOWuqlQqXRB1JY+yg4jM/jOXAQ5iQFb4FVTEFNRTMuMTAwRnMEwARBIgNUDXwIQHMJg0MAR6MjWuOSC0Ax/GDQKpKJJDgLmHoukQ3mNp8HknuHGCDm3JpmEgbGBYNGGgRmA4JGHY+mBwNmD5Smj51mSpOmRYgCxsCxBmGARGBATGGYKgAhjKYtTgebTglNTF8GjDwFAaCgQCIUBAwhA1JMqpzkwTcg1kIkAYKpaVAAcSASEAJTFpQxmrEny3RXzBVlWVJo3iwNN1TlW5IYUElUcyUqBU4H/YCWtQBLuSfGDQCMiRsxIs5RBOUEgkUQxQYU2Bl4jBmLEmKGA4YvmHnFeGG1Ml+wOXULUQLF27uCmGoIUEl6CJAZ//PkxPZyZDpQAO6xVMDBitCx8GigQSOiw5CpJD9JNQN0EpC8iZSlbppDImT7Dl6P0xZMR5FKTCU7rN4xZYWGdEPccGBQgEAZhgFYusLlZ8m8mm9LMF4KUlz0zgwzsJhyBh7xoTHBAwB6hUGXeeAv4XIJgMQEaAsGYZ6yVNFKV977aq3LfVtGSoeq9dBmEcWnRseb1YBbcibeB3Qkac7M1CV9r3bIvR7pxpMvL9oTlAS27vOnKEek0Gvg46ykRAMF9LS8fljAmb4rwXc98aa7JIJV8qSlsLSWa3Ntm4uS3Z5FTEFNRTMuMTAwVVVVVVVVVdGEGAgKgIAUFYCl62VHBCHhhaHhigk560MyF6z1ilgHVAjGMTACCJgQKRtb7B6KsZlSKwQKhjGB4JDIDAaCAtMA0AUwhAxTE8R5N2JIIx4AXDA/AZMCQCQwMgKwCASCgJwaCsCAxzFGHpMsY9QxgAIQcA+gJWeCgF1YU1RUA0wBAOTAWDCBQUgGAbeFnlGuhKoLgTFHzUYjLCJYrprMMMia074WBmaDPmiG28PT7+vQ+KEIGimwAEImB4+yGHFUk0TTNTn4zsRDJE0s2ZIvKwr0gFow4ZMEEYC77owLDLkv8i5KjRAAw4/a41VmQq0m//PkxO9wjDpVSO+07BRAyHM9TMxiNIAXil+l+iclIQAR0qY4CGSygAuWu/rc071FQsLMMfMCsDKAUBxJLhdT1JOkAcgBGVQuOuwSGoIkDjGmEaiZWakM+wOHoDEaUArTWcsNaxEHWoVxQ2pJhrX3SWGWY+oBGpOF8V3F3WSq5VnVxDzA5cyB8WutLcmSrpRnfdlksrN1krupSvYkMJF2UWVO0Fn224Y8ByXPDEzPSuidtuJdYxYRGO3KNRBp15XTuNPRlfm3Q1aB+negNktRfshdp2t3Heaz3OGOy2bqxWuqTEFNRTMuMTAwqqqqqqqqqqqqqqqqqqqqqqqqqqqqqqqqqqqqqqqqqqqqqqqqqqqqqqqqqqqqqqqqqqqqqqqqqqqqqqqqqqqqqqqqqqqqqqqqqqqqqqqqqqqqqqqqqqqqqtiITIUZRScCEKiocnQTkAYxqWUL2X8IhBwgMsMKRRAMSDYg/jvyeAz89k01LTLDjwnw5mF3K2VXGQNp7/Cb8HpVGAjZnRYZEBFkiUPMRATHg8y2PDryGoaa/Vp9tHdUw4YHzgvXTw+/j+KdrsAgcVFQxNHqJjiwkr5nK+nBWAZETOyV1AvianWtV1gh0KEIe1qGKGLXaCmbVJURGqKj//PkxJ5cdDqKPtbw+nbJ7oObjQYMpChQkDU4m3KTRRiD6XEOAHS2zuragSLw+xVP1VURbTWhNSC67cYrEVDyo1V0mpX5kcqhlCWERGSg4DdJQpo4jdV4zb3hZJhGyykpKCVwHIHL9p7Xbv0sLa2+yxYFgp+at/GpPYODAbNKPKgfRrD/W5C6K8Gxu7AkrlrUI0h+JMajF2a2n8cVTRymlvE7qjLVoeorbrwBB7XoS79NuIy+Wwqe7LIzYlj00jPFRMmgJqMTiXJTMS+Bpded2el1NO1IDTKpYqymHuR9sWVmTEFNRTMuMTAwqqqqqqqqqqqqqqqqqqqqqqqqqqrYBhBAAWYEAMLAuzJJUvqEAi/BesmFowAQQyFFEUAQaAQHAjFBgB0CysEQSDBk0Wx9IeosGBgGAhgmILTDAYQhCBpgUAjlgLQxnBwDfCKNMEsFcWA8MAkC8wIAIjA9ARMAACYwHQCAUBwYEwOBjlGuhwapgNAIGAGAAhIYuX1ZIn6Yeqm+mZtg+nlHWtN3iCAlphhRcaY3Gzij1KiLcvKyaEN6XnMRJxIdflvKkcrRlrgECDHhggHB4Tdh3oGdlBG8oqDmXHhximjE5jUlv0Ld2royGDAQiHx4phXIOgqIJpu0//PkxOJtTDpeFO+26IBwKWDSc4burnYs8iewMGDJjQSSDZzYaE1uTDNWsAkIV0XMAwWYCRBwlQOu0FSpUzKXHRtMQI05FH6GcZcykABBgAADjAgNRomZbnNcg2EO+0l2WvP3+4zWizxw49zZpbR3aXcVoGVuM0JvYDfd3nbRSikPr+l7mx+jaRAJdVMdVqCNIG/QudDTrEIDbaKFwNW1c0CyuWwM+DJ5uJMUd5tJJSxhJxtmsMQvP7KbdPNsIcqJqncF9qPuEbgOG3/iLWnldejsQ8/A8Ext+5Vd7GXIpZZVTEFNRTMuMTAwVVVVVVVVVVVVVVVVVVVVVVVVVVVVVVVVVVVVVVVVVVVVVVVVVVVVVVVVVVVVVVVVVVVVVVVVVVVVVVVVVVVVVVVVVVVVVVVVVVVVVVVVVVVVVVVVVVVVVVVVh0JiNCLrTbkwQkFBA6HkTERASWW3MmBg1YesmpyZ4mYEQYoWyZKpPVphi0wjri1MwpEGKBVIadYa0PIlrGJwHPsjzungVwrkTQDuEanMci0GjFgQUUli/coI+BB80ADMpGQwHh+zQz73MKFQ4y8iLeBxGzR+XgdCboV8gZKRRbNh8/yzMSRZQKkj8l4xCKdppLaf4QXOTFD0A7v1//PkxJxcBDqe/tbxKjD5asMBTIC4kmAwSETN2ywUGHS8X26bxs7vtTcpiwkY9FJrgwBfBoEPQFDytwCMtN5XegqTwZfhthoUSW8GlswTXt7oXhmUvS+KKTH3QlkTcNr7pNIWVB9J+95Xoy4M9CZflS8qSmRL57Di0q6fM7k5kRZ65L+08Yq0NJedSUrDFA41Astg/CRuC7roLmkMjldqV4MgbhKWFwMyy5RXKC/Ln8HRIstccp2JA2yohYTkIdEFGSOpOW4BpV0MtR6LdrzfmRq+calTnWpDDNpCxGHI5TruTEFNRTMuMTAwVVVVVVVVVVVVVVVVVVVVVVVVVVVVVVVVVVVVVVVVVVVVVVVVVVVVVVVVVVVVVVVVVVVVVVVVVVVVVVVVVVVVVVVVVVVVVVVVVVVVVVVVVVVVVVVVVVVVVVVVVVVVVVVVVVVVVVVVVVVVVVVVVVVVVVVVVVVVVVVVVVVVVVVVVVVVVVVVVVVVVVVVVVVVVVVVVVVVVVVVVVVVVVVVVVVVVVVVVVVVVVVVVVVVVVVVVVVVVVVVVVVVVVVVVVVVVVVVVVVVVVVVVVVVVVVVVVVVVVVVVVVVVVVVVVVVVVVVVVVVVVVVVVVVVVVVVVVVVVVVVVVVmEJh//PkxAM1jALK/svSXxCS4y47aOmnDOCn76iRiMOAigjqPkFVw5xDANuMNieJaDmURdxb0oNEdyDFsFzLCdLjLBhOZkELFwHmIacOt/7PDxKtL0mkFRUISgJCpWDLaDcknL6knSaW+pe4XVzcRItq5R+SuOfNltpaISVCNHAfBgVhlARilm2ZZfhNCsaZkrDVWGULvFLf/calK8aqW4rF2zlP5LrP96YIWZSyS01KXahOlcVYmaMNtzfDVXCU3aycASbAUgBJdclW1EiKoWbSajsYbEq58avvyKTVy9NlNfUqgCSBBkPzCElAKAJgQFZgAJhgWDhlvFx9bihl/NJvGlBjiL5iIIwOKsIEEwrC4weNkx6HY2pcA0+Kw6bdoxKd02YBI1VRQxbB8xoBswSCEzwM04l7zTGWO/hg39TzDhSM0igwCMDK4aM0FMzsrTPMSMrv03QZjW4SMnCMyKMgaDwUAIcWHRFMLiwLh0OHLAwwIg4DAUIBAPBQdQnKPua57R0NRwEhwZTqSNRpdq2gKSKVQAwGQ5omAoBKYgwChgBEISCAjJ2QGGQcOBEwYAA4VF1U6ZYIgaYeB5gcVGDwOLDkwqFhGES1C8FV0RbFK15TVMpSTSVEmLrNAoEHQGhD//PkxP90pDokr13gAFU9lVQAARUIEwbMEAUlASZ5gICtWcmZLqsgY+nSuaUsOSOXuzViSsqoVBk5RUBLsWe6r/RFGYOAxc1tEGk8y0rEEVkwnviLgwEXKYWvyH1NYAcavTVX9sU1WCoGhl6y7rDEUnWmYdsxG24MCIZKfTFdhp0M0NjJaS4i7qhiTQMAasScrBYZS9ZIAQIs9QFnTvSd2XwhTu1KOGoe3myl+HGEQFDgLQLJassZua7V8KSSFZ+wRd1FALcossVTVpMOyqLJfRN1XKja5kUnxSJnWGxSH1AaTEEAAsAGmSxttpCCGLBQa+VoALxluAGLx6YOPB/RWA1lnjSYa7Vhl1rEX7MlmcxlYREFDOFXN4J4w+PT4aUMrIMx+ojWBtA0KMUCE12ajJpDMllcz+GDzofKAYZUOpnhHHJUuHBUy6JjL4CMtipg6vBYQi0OKwmHEUaF5k9EGax8JHMIBIKGhhsomfB4aZJZm01mHwWXCAQdSHMEgQlICVxYF6IBg8EjQYEIJMKCMyMeTNo5Ay3MmDoWQAIFphMEhADKglMFBgRi0wGHy3oQATE4YHAsYIBqazxKhHgwYEDwNCoUD5gsWGShEBQKoUu9yG4KFMlDAcOhNDNYUwAB//PkxP10DDoBnZzgAJJxTMWAZMFx4SI+kwYBgCMSBYwWBQuFzB4PMJgcs+YTAMORRNdeV1QFPNn0TTtg/T0Q6wp9YxBscet3IxR6dtTMsuli1gvQX/UAUsbVAGCAcKBaFQS9tmlhvK3L7sctSbcPSVprkRWOQ0xVwpPEpmkhh5fcnFM1Bd72YOqtV5nMhlz38e50WwIlrxq3r1PZeq/OxneUKn2w4O659qebJYtWK8+1SdgJ95leUByKzMQNPtJl0NujHqvo5sHUAlqcD6O47lqceiAZG+8hduafJ96KWQPVTEFNRTMuMTAwVVVVVVVVVVVVVVVVVVVVVVVVVVVVVVVVVVVVVVVVVVVVVVVVVVVVVVVVVVVVVVVVVVVVVVVVVVVVVVVVVVVVVVVVVVVVVVVVVVVVVVVVVVVNECoUhEIiMNBscU8GRl5nJecoUEpQEEcdBQ2BhBSBh4GDAA1EYNAIgUIGGggOEIiBRdF1fwGPDEAAkAjBSQ0OlMnJgsVgYzXeuswICASoHEKAwGDRiQGYYIA4CAJGWshxlCmksMYApdAD+rtMXERogQlrlU1AQwmY76tCq6a5VEhgMDiQxEFLrqWryhLEHcfq22qp4uYKDg4Ld+ZRxa6s0vGLBbcU//PkxKZebDZ+XZvYAhWOSyhXzRCwEFAGBmWNPbgtRz1bFLAwDQliIFTHQTqNprF1CgHAwwEAFNYm4VLpe3tLJ8C5CKECLkZJG0wG6qXsDTqfZjjKHmh9xm7PkzNCczBnbd47O3bVu58Qg6JM7fuVu2/cmhuLxiGIo1+f+kxQKQHNch2XSyVQ1nanJZXiNJIG0p5HL5a02/cobeqKfs3ZfPw5RS+EOG097HbfuJw/boX70480/Dv00OQxRu3I5Tf+MwVIXKdeI15zD5bH3Zf6tZwrWM4O5UrwPd/udz7Os6uSTEFNRTMuMTAwjAQCYaHhjUYAIXJaI8poBUDImAkKGPDKe2XgGBJWEDBAJMFgcACUwUFzAgIMWF80ArT92KN1l4wMXzSwPMVEMxuEEyTSUpDAIGDFI4TWzgznEhTEQeTAwdDOoLjBsWyIlzNwEjNs4jK0WAUIJlePpg+DZg4CBWEoKAMFAcFwERJiooBJggFyZK1XQIgJokVlg0olzFgIxIA2qu6EAk/Cly9Fhm/fkOBTNHoLgqXzgAdANbKNiZhCAwcAjljAYNzMFgXMDAHMXQtLUrDDInmE4NmB4EBwDBAeCwKQMXFMCwBVNOqLPWicW0ZrBj0uOrhYQIAxEhYp//PkxPZyhDpV49zoAIFAAhECgAAIOusSAqFgFAQGCoDBALMYUoYOmMm+zJwkJ65xoA06Ul1YVvN4XHLZq8coWAwvE4q/1etiLkJPJyjAAEADF3VHAMCpfpO9wnZbs7LDI4/SwcKe5OdpbWWutHp7MBQzJHa0k1Mt6tdpk+48VclId35VG6Z231ij3O+7rVGoyl/FF26BUAbFJHnQgrOYbIrc87btMedK1iNE4TYH8dFhrSQoAgQEzhuC4svf6AGTTjxrugiHpblGb7ozM5uHFbYYhuILmXjI1/u7SP9HYC+eTEFNRTMuMTAwqqqqqqqqqqqqqqqqqqqqqqqqqqqqqqqqqqqqqqqqqqqqqqqqqqqqqqqqqqqqqqqqqqqqqqgCcSA+YpzFpjKRMzonAQQVBEEhFRKos2a1iGdMoOBBCLmeCJk4ArMqul4Fw0x8hO5TIkYuACoyZ6VJIAEmNgSTbWUzEMMy/TU2wxwHMHaOqnAzgzAs1uo4aw0CIW6mWTEwtIwwZ0xpVHpRp5AgKC0OJ2soHSkTDkh2kJaTapjQMFOXGw0CGXqxQu1Br7uWqm50mERK9VYcswkS/CZbjLMCoAwA6kEnByC9r4JuL8eAvMWzV+hCjw00WMwMECTnRAB0//PkxMJldDpy1t6xBOrQF4AaImulWTgA40J4GuIVpWslZu2oIAYRNbgtFBhL1qXr/VzAjwsHdi6++bxpFQwrtUSZrtO+rxrTio5sQn2qK7uuCjUmqhA/i8oeVmTlUxW6yehlC7pY05lkgjO3gusJhmfbIu54Ja6q2mAxBQFtHIkTyyONyhMdcCR8BpdMT612B2blYElFiAQTI2S13jlFKsRLVr8vZ5LYs7D/t66k6rKIwkYzktuT9LtblSxFeKp5EyeTbvTLqtIYJSQO/lM40PvZBLd0h0141bcB9YWy6KyeTEFNRTMuMTAwqqqqqqqqqqqqqqqqqqqqqqqqqvQIEAuWxAADMFgtQMWBzjQ+AAEZXM5uUjGAQcl+hQAgUECNsgUEZkE1mpieYpHBlcAmDBcLBkRE0WGxi5xnT7Obmz5jppH6dAdXvBjNlnAE+cq+Hq959O2I8M2O4PbrhMPMzCTBA41Z6N2kDjoQ3NSPYTTalQ6QjtIOUElFNkcxSR1U6RB00yyGlGKZIC94MGfgedLrEQgoEyhrCMiFaCrL0LA4IsAI1qVl6kDkZW8EZ4XCCi48OCWgioaRL7kCpxxP2L8hSQsEJAhAiESYJANFI2l86Sa6oy2EQU1LLAwVUxol//PkxONtlDpd7ObzBKVhMAJJiSZpkghIVaNJQHGDQAKwEiREjABfVpVeOIZP6wHFNVV7ZmwO8yJdw8KzocBABDBFalg1BHKLYjxTiJMFgdUWDOGFPI/yNaYTEou4L+s3SoYFEQoA05nzSnda4o026gjWlb34kaR61n2LXrBrzYM2j3tafSlbNNhxzLmLKgbFAzMHXYAvd2HCTgdh3IguR5ZUzVrMdicv7lOLsl7mxlikucR83caBDy8YszCGInC30gSHmpL7UVa+3RutLDLsoAE0W9ZckxDjOqCBF0PrEYOqTEFNRTMuMTAwqqqqqqqqqqqqqqqqqqqqqqqqqqqqqqqqqqqqqqqqqqqqqqqqqqqqqqqqqqqqqqqqqqqqqqqqqqqqqqqqqqqqqqqqqqqqqqqqqqqqqqqqqqqqqqqqqqqqqqqqqqqqqqqqqqqqqqqqqqqqqqqqqqqqqqqqqqqqqqqq+XrzWuS3IYIAsQaQvNmDW50KgJBCnKT5lQOYYUmCAIGNhkGUEHV5uMRMgXQkuPDm9WAWoY1qD3gCHA7gawkadqBrhsxJdoxklJKjEgoADlrgSLLdmGCAGKmQii1Z+HTEgy2AAFCCTNqZsSmqw8gg4VBvJQxiQMnkd9DwEZzS//PkxH5UXDKaNt6en87JWhhcyXhH2WGS1uXjnLuXc9y4qkvJTCxDlTMwN1uSiEEvLlJi51QHikY7LlEn6mlwWAtD4Mo5j+ZmoniENqNw6iM0Rwo5v4mUmVSYPw3EUooSJPUvDys5Jh5oUbx1i2H4mCFF+NFh+kJLCjV49o7pCU0mIz9qhtzEfx3l1RMdOyqxkT22dXrtGnMfrQPBRuqMw9KfOQghHE9M9XiLIRhgL8CItVSqFTK5Wl2OVyWmNBPcxYKndq6V/hie4PNzs8aWZiY4qXsXCPPeCqnr+AcijjYVTEFNRTMuMTAwVVVVVVVVVVVVVVVVVVVVVVVVVVVVVVVVVVWkA3BgPmJguBguBAe3JraExD0wumzc5YMgD8weAGrEAOEYJNGFoEhw00IzDgPddL0rBAFDJg9VHHO4Y+/J9Cxm0jOxh4DCQqGRqZNJ5w5PG514aVOA0NxwEgADGTDIbslh4ZCnIZkbFVRmMZBcFlAcCFgYiGR3gJq3xn0BmQUWZaaI0bBgZIqZtRxpGmE7zagoMtCHZmcCAQkik6krFKAIEkcKFiwNdFZOgygk8QEWhLMoFrLrRJEQGhk0yyDKFjqRSqxgAAkkeWNQsxRlrIpNOpy8a2kn0pgEEpWL//PkxNxr9DpmjOazQAYQePDCoQFPEChyqGCoimDg0gxwgyQwskRFERo8AiOXSpF7qlLdJLMoRxWAZkX6ehe0MNcdRurQ2lM7bFInFVRgsu67S+WC3dNPduKx2ExR6ILv4RWnazOYxltuSuVVYhMPA2kNMtclCS1ByU3m7v0/ErdGy1lpbQWFNMagnyjCzFLeUkxpfceUUtbR4+IzOiWRcVoDp07dnSTTg5QVPF2F6NQa00h1nAeOb5AC7JdE3ggBrjqRiILwQ2f6WOU90jlD4F4meQ470RlD6Oow6GJVPR/NTEFNRTMuMTAwVVVVVVVVVVVVVVVVVVVVVVVVVVVVVVVVwAADSoDWZXV4IfiAYDWpYjGkFlVTAYESICmKg0CDD4xjTIyTFoE06ECCaRYBQxcL44c+w0jGAxbEoHA4+IUDRAIDOzCMo888tKzZRfMWhYwCA1LQAbDWUMNosM48sTCpMMajJb5gEJmlm8a3pRy6PmoiqBiIYRAhdkiDBgQyGWBqYaF5ETVHlzMbMVc6QDWTA1ICKZmxBc5mqmGUOChBq/WQvS8wNNApiObSGVNIW4ZAwhTCxhpjGOYLFLpBwxmUGdSFdDzMNd5Q8CACJgooNQMApAI4OKWFbuXWGkDN//PkxN5sXDpZ4u8y7Bk7guALBDk5kui0QOgOdQCGmSkcIRxEHAga5Yy0Bj4ql6pSHCgogGjmAALPUzkmUgYI6BSvWJUDIqdqSTi6nFao67tOPDMhfV6ZbAcNQ+6dZdraUziVoy12tOyBuKgroRttJO2Vd2Uqd6A0vW6Pu6cVgKpF1Ol7v2uVuEnWY+NRTttofSFUbclXrSZWtZFNtmHQa4UrlVyWOLE6WWstnZffhmvQRtyrrMoo/T8OGuZYsUi0icjCxXuv7G5t9JVFYUztQuAkU3aoI67iWkOxiU34xZsqTEFNRTMuMTAwqqqqqqqrCKBgKRw4BpEM55GvIgBxhoCJ5CMgBIwgBUy/b4yMAcIA4GggAAUBACkwemK2wH9keiTMhwBI9GCIHP2YVCkZ+sQaBiYIAHAoUGBQLhUAggPjBZODKkQAEJwsAoNBcKAMSBCY8mKbH7MbRHOYeBUDg6QwIQHMXxrM0yVMTAbMAAQUPGgWcUzK84pU4iNGlHhQEmAKhKoA0Q1H5TNes2quZBMLVTVpBZdFG1QImHKjSozKIx4BMItymIQiVag6Ya14YQChkocxFoRgBgGFhBljCmDYgYKByAEkzOEwUNLABS8wgQaSGVLi0lGJpqapi15t//PkxPFxJDpMAO6xcNWOMzQxjVlgcSDAxVDmRDotDR0BIQQDQROKmuIihjgpnRhIDe9u672HJcBBzhMATeQQlSvCxCypc5TJp95r8OrrVAwJq8sguXOg7r+tFaZBL9ceBV7cWussk7F6N/1sLzU7aOhsHQAR45LF2S6GYBY+JBVnbOnStRd6PQGgECWMrDB7O1OHGVNJn6TmTMZJPsUdN71VmoPBGErHHYlbao5FdRRkrnQOuds7IUNC95dlqMkqyqSuZQxWNqTrPjQTlifY1PSyMx1etl5mWyiPRB/Ll956TEFNRTMuMTAwqqqqqqqqqqqqqqqqqqqqqqqqqqqqqqqqqqqqqqqqqqqqqqqqqqqqqqqqqqqqqqqqqqqqqqqqqqqqqqqqqqqqqqqqqqqqqqqqqqqqqqqq0BEeruk24AQJFUBR9ggBEmqYAWme8gpesdaq1G7Ag0foiesOmJijZIZgcwQeM0wz1BEaUyzocLpnF2zIxZDJQ5k0EMqWuZAMGSAsLbm+rM4UYOnmXApjAaTA4YAFAQFBcz+nM0tjSRAOK13L+CgFED0QEgW7wNBjME9kVWWymihC7y9x9LLRZ9DjLGyJyAZWlUjH4FlznsPSFXbTRaU0qwSOKYMJl0Td//PkxKhfBDqCNtbymhX4k22jSIAiEfnygFlDRoCuO+IxDGNWFLats2sMNeIS21ZStVdknhh13BWFVzNtvDCGbqQbEXQpnmLmgo5SlQVzXGcCG5FyrPROko6WW/VqymQW+XLNLWd6msy6HqCo4D6zkWgNsK6masGYlbzpaVrMIf1pUSoVVl0x6RrFhl3UuXvgXam0kYCnPATzw7GsIatvynVIHZiruSlCxpTaRSQMNHDVFgogHVN2ex1HohTozEUaNQOKWsa+TAQzEnHe93XEXnDkfdmYRtfZw2WtichqEGL/TEFNRTMuMTBLVPh2VFkO4wA8YBau5ifC8GAaBuYAIBBEFIYNwAhYAgMI8SQw3hKTJAWMDA9YYRgMxIJTILsNFms06EwYGC7AYIBAKzCIXNH1YeRoQJU1mvhUCmHxEZhaRnQKoViIGkgBAAVBoEIE2a+EIqIAqCDBoMMFkQyKIzHkBO8KMLAcKhIAhYDDERCgzMTDOKZNFBkGgEwMDDCQQMFBYyeLDCKWAR8MCAwVAyYSHxqkiOoPjNsVOMvIDjDgYMMpNEAFFbpEADgxK5N8UJEgy4il5Z0xBkaGzlYSMq7Edx0YGrGukJPFuDUtQ4kLpFofXL+tJEi2aFRtzwOM//PkxPdypDo8APcynFsS0KChZRLwACLAF0g5YaWZwgHbM11kJa0wAW5DDMhGTQMSXsQKZAPNIDQCM7hZ8dBd9YRVR/HxwhykUzYE2kYiK011u2j4lQiorYgAgSQoAFWv5EIng+bHl/Oy+7oQWxpvEGE2GD6d1/HvT3YfLpa+lBBUEMkkMMrTbEwhiauYW1pN6eddrz2MChbM09UAK3Gb07+RmAEBqdAXUAxtKvFMUwhWagVQezvL4d5MhVNxEJbS3XgtfK/lNGrJpxBsjRp9o7BoEgpw1curL5l77vXejDcqgAQpQimpW3YiAgwnEUxgkU7AIEGgEhlDBMEKZ5gwB5gCEwQC6PBCAosAJfglAow/EYzIomXpcO+ZgqosYJaTQVyp4vq3RyUJyVKjbLGsMuQnM0LisrK0K7xGKCAhM1DggjMCgMuMaUmaMYIjRskByDBhLxhgIBAGLUhHQefB1kRjgkCZccdg4ZwMYxQMPjjGjOih1ifFaF1xylxlgAkaOCzBX8yRQBJBABXUClaLBmSoENGsWG0hAY4jqDjaJhpRJCFhFDmPNGMkdxByICAciuNgwygEWDKqEnBwAice04pDqIOMVAOIFDaAM+c23QaYcGBnJHHKYYAkKAw0wCoK//PkxP91LDpNQu6y3GWGl+BSQU4aZpCEMomW+ZLINbIqgem1M5pEF0KjAKMhYGFkJAGQIDAFoarZ+9kRRgkgBQ3DmXjSptLJaEoS6UJ6PClLjAoMvYHEBUMv+YpJkinDSERhcdBcxQ0L0gRGin2lojQuRaDcHAUvbdL9S8KDGyWgPp1yK4ESBiBGo0BgIQlQquX3BBCXDTV+t8udnal1KtJTJ9W5s7L3w2l2qxgcPoVt4oYwMaCaNGpSl+X/C5qG0NMshxy1Y1DmLNMf+VS2SvGoK+8vg6ajUwkYpoyyGH3l0DVMQU1FVVWAAmC0nUTljN4YLObk9o0vHNTChuO1WmMSam15pjElb2ZLSfxfjlsTbWCmgsii8kdB62tt+15l7ws2WCT7FBREABUAsSkOWnLfPSFwS87OUITBwkTIhYoxlyjQ4DlAU3C26YZcUxEQZCYwwBDAZ5gAllD5rMTIGCBdAwfzAyPog2JUz6QECDlECRKAAZJOMEGN8SL8GlNHMDA4oSMzOiRp0nuFFIQGLImOFGKICoEyyZnLSgCtFXoiQgo2aoOb0qVTxjiRgJZqyoAQjIMFPzEizRhTouwU6NbPYSioDiohEjicyAYzaMwCg0AQwwcLCxwUKIAyGBLQ//PkxPdyjDpeAM6zqEFmy2bqQ8mRtlyQRUJGFQMmEUyB15JGGThzRmbgeY4ATmWIQzDINpIusF1T1VMI4vyBHi8ieKc4KIQvQeloABYgZ4plDAYoERGMFKDTRHSAQeZJAOSC5IFTCowcIYAw1SBCiQFQwUMMgMyzWksvBJ64xCQBxBos1D3YRdQuQcSWFYzLJLfoaBcEwyzVBaupg4snCEGFpXqZiwJqEAqBAxmCiySAJCQVKxUp1Y0dCyjVCyjOn8biu553UnUKVDmdv9KmurXUofiadeOOFAsGP7ClhIoqTEFNRTMuMTAhCrDEbpnQjMuXtIaeHJZANWAKj5Pg91V9JJArtO40hyYCWQns1uWQTI4EnmvuiuKuvh+U+UIViCACX/d9AKUABoIuVAA1su+EBS968gMFICRhAAoOCgcWYCAOEGW6gEQquEAQASCKIWAiEiZQWbUgKD3QNvJNZLM+sZIZseZgeY1ObxiChxmYKogKiNuIOuYA141TAWwCMMJc0ci5JCJEIA0BBOMl4gCjLxcyQPNWAiAYIi4zE+MwRDgSIx0AT2Gg1Q4qHBhSkZSRy8wliMRG0HjVyQxcNQpLliSGZ2GmQhBh4IYGPGZCJgxoIwsw4mCBM0sEGLDG//PkxPdyxDpdQNbzxKQIeFlTQbIQA2oyQyVMCtmzCBsgodB5loCRTJwsobww08HcociUI07CUssuYJplHmIKIT0AJcNAIa46XIBdSRbEEBlmTWGNhcUABjgjEUxCPTZZETqC5I0Jdq8YAgPBVC/0Hl7rGNCMHHEQg8sMrJCHm0MwiEQcaB1BvJgYcKcrkBJEBFASCgJBMo5WADHISFH12BcxQ1M0M3BIKwBhIJXCMulDGE3UJBcQmMEZCONAg+n21NYJExry7WsPKWeToeSH4QsdG5kKw6cyPnxeUQc0Z13zTEFNRTMuMTAwqqqqqqqqqqqqqqqqqqqqqqqqgQkE87cO3KtA8F13WbXHsjToTt+QVnhpGvyZ9nOgZyVfWFlyx23ZdVwZDMO0878S96KVIy2mkUXQMulf6NgcKyokJQTDOEMvAZ/wwmGcpciM4I3Ag5UFT6Z4bQoEDjbnWVAluY4cYECZwcLBTEdH4C5Q8IwwAkoaqaGDVFDBmSgpjRA4IFqgybE6RlDJaU4w8RBzGgDAEQdCM2KEIsstUMwDNqMCiBhQhKGaUhC4Aew8GZbCbtuADB0Rou4Ip5mIZjEhnYJ0VBDHCMZKCAJFWAx4xX5gC4cKMKEZEDiwwdNkMY+J//PkxORt3DphQM6zjK5E4hNEv1hjgZPXY1QD9KMsRG8HKnOGqJnYgFLogrgvMDZDfLCxQVTawChSIkCgA5oHBFRkZFMwUoQMFQ3zQVdGQdOZDI+EgGQDpnTYkU7wJPaYYchYKNFIQjgolQErkQyL8SwApjRyhqkEVWOFgAiCIRkwjNBS4AtAYY9zNjEBBjzMBQFTxgAgABr7BE+IankGwcnHkjVyBhKwaNKUyejaCWZrkK7JAYIBpYVEIl1QOEXcjCm6PKZDV4JdNrsIbnTJwF2VMFYW6sHdZ9X6etVRyWdVTEFNRTMuMTAwVVWABhQkAZiuh33jWsZaEc5AkcXDZc0tjTTJWwuKPU3WLJ+p1A4A0xNBR9djlsegaKRebcZ9GJLdceVuq/8MJoKuLXPAxZQJmAyAbYCDBAPRKAgMClQscJkpElUXMeBLlDIIviFRsLDgZgz5kgpVYBBQzRcdXpjCW0wxgVDCNQYaGZt4YkYIyAFAruCCRgyoIABUWY+EYgWI2ptCJKlInYscK0QOejQU0gczQQOTmSGgUUY+MaU0I2JmlhKUOvGAocWBgkcZYwa5GadeY/DAAHM0EjGR0wVGAC0AhsoEha6BQKClEVDzFwgKm4BDHSMTAjIgUhEB//PkxPRx9DphQNbz4oCXVMcJzBgskJLLGiUrGWVUHNFAErGCyYRZlEme8W1LtiWSihKAt5YYy4mRgsJSQhSAwIcOTIsqUyYiIzkB5YELpgEItkVgCpMMvGWcYKSlCjJZgRlG+CoAj4mVNAoQuiXDZOjaYZI8AQliBkbBDkjGPL0Kwg4tAaw5EVDYAEpxJqMMlEhT5ZYqqWmZoisgIZIkwLHiA1RIAomcC5KpRACLFBYRkLX0JJZ5zmtORDrapip/JPJGtAkqSSlq326PPSRISHYCwqDoEd2HX7fOBazKXJe1TEFNRTMuMTAwVVVVVVVVVVVVVVVVVVVVVVVVVVVVVdXHc0KoEGFYQAAAQQAoOCktcYQkIaWqYb2/Wb4DwYXhkNAYwMBAilOYVEqYbpkanDQVAYW8yi1ClG0UDD/V2NDCsJhDjQJgiJfILPI1mMtQUpbxYZL++uiC4YBICKUEv8RAr9SzYatoHHJxhgyEAJbLXjyIwmj+gkWGCjJo9mqiKEgSUzgGagIJIEzUCbYYNNpsKnBiQUTCDELkyEJ50PmHIWTMo0yZjLBFAi+ZmFkQIhAARZnxckiAGEGgI6LEFGrBdkDCTAITMQzBOTGATIGQwMFgAXEhgAwgEOBxtOZK//PkxOBtBDpaIO503AMOSMGBM8RFhKeSViggERmuHmMUgqKY8Yr0FEWgjgWCl5lQUZsIqi8CmrVqZW8WKl9S8jfFlUty5KPqshgRACJGBAA4sXCTdSZcIEgF9qaiICGBUMmBKbJrSBXUBL1kkLUFdZaKBT7uKvlOmNrReAFBkVV5SNnLoPO8zSQcBUFU1gKZQZStZUtOIhQCgNlzYVqyeJNlQVkEfUBfhMJmMfopBSv7NNsjy1GCXFnHhZzDL2vQ16IyaD3cTSgZc0Lh6N4stjT5sEf6HpdJYzEaSSSKnistTEFNRTMuMTAwVVVVVVVVVVVVVVVVVVVVVVVVVVVVVVVVVVVVVVVVVVVVVVVVVVVVVVVVVVVVVVVVVVVVogZDU7VoKAG7UYzAwfMVBJ22UJSlgEGEiyYC4B4hJFF0HjtkPAYtMFgaY1WZpgNmAxAioCgA5rjJLmHzCb3MwcDguCA4mGLxUFxaYTKZmUVBRGsUbJAqas1DoyHMnfB4VOmIoXOmXCa2BSZ2WQKJKvehkCz2Ivw/hlQT7RJ+4AuLEeA4gQ9pgwZgMciSczZslVpuDhEAnBEUIABjgShstbu4xb1hrguDT0qV5fNhGozSv/OOg/pgUDvPtJ0r2ZvwlwPD//PkxMNllDpjHuaxLBsCcUnTTW0nJL1bx0bFM4s09QJajmIfnSKdL8QCwx0IcVsYC90KnZAiQ/jjAE6gEtkjbQI8EWhx+oTF270ESfZ9sIrLWUsthq1LpSt207K0nu3MqNhwmGOMmEtSH2lJ/CIMocp0n4et8FiOSnQrqAEAiElEdmAqIvm1B9YYRIISJlo9oAluLmbk2giRguxtIhFaeBkUpa9TcWutLf2BXUVK4rIWFMWQlO8oa+O01WCoqF/UdU3Wvi00fk0maMsYAz5sIwWERyu/7hzUeeBu8AvzGXHVTEFNRTMuMTAwVVVVVVVVVVVVVVVVVVVVVVVVVVVVVVWkABA7QANGcmATVFDKVwAAHMBMDQwdBSjXuCvNlljOC0BESSMDRwwA4P0LzEAMSAi2r6qXLRCxIdQAFoy/N5u7VmJpoGPJh9L8YeEkwg26JwjAR43MRiTaD0zYNBAEhUEDRCBmMm5h1YKAL5aisFA0eYGGFASCLTO/ce5q7MCouAEM5kEmgGFALBpYoKhDQM6mrIFti9TklwJbA5y25jBooPFA61QADMEIMw2O5+BzlFlx0qVBVaVVxCEHAkYVhCw1SgwBEAigVcNGgMiKMURCCsqRdHVB0PxAhM0PAyGH//PkxN9svDpKUvb0XBAClRDYVLlkhQEZMUYEYsMDQa3zLpzcijBHy2qzWdPCikmgvtSlti/ytbNWpP8zimU83SyuIOALYSwREirYIgrper1r0lDj6fyNuRGWmuO4bLG/eBFFPUsigKYNEaVwIio0phgouBgjTklAEVURFB6lrjJWptLtGgq8FAVcKYKWKUumxcwApQFxVcNgbZ62wl0E5XTkzbrCJjNcT4m3/k8HrKZWxNmCP8OtdYY0h9H0MAGBgZReH2DQDDTdmWYxeJyXN30ZIhO0EjpI4paoFAkpi8Z0TEFNRTMuMTAwqqqqqqqqgAFUHq2MzaQkWXMMCMDMwSUaje2CMMKEPwwfwISQAJJVYJh5AGsAgtQcAArxXyJa+FDSwE8YCYEKhkrht+WbNzEIcHMBlA0r1fTEA4DUpMNKzBBSMNu4804k8ODbXorBFBSwXK0E4KKmay6KtZcqHDAAoDJxeZzmCP8p0FApopnI4YWHFAslYjsyIaBjFCUSGzuzMzcGBAeQhRg4sY6PmNLRsuKbcjmBkRbtYRYdJslEjAEMYGVetNZzBpAFA0NLCoZ6BAI7XOrYieAAwLE5husZUnGHAQcWq2FokVAqDM8hCDREGWw6yKyw4EVDDUw5//PkxPBw5DpBAPb0/EUrRKcYgAP4yMLAgw2XzXW0R9kux0IpUsLSOi86trgMFLPJYmNKFvZZKHBeGnpndfuH0rn3n1iP2X6L5snaQucv8GBE4EQ0GxIIMjgKJBIUrMmBAGMECIOVXIs0MaNNdGMmlDtA4ad4xgkxoEMFo7BYKqUushgLAGGtsi2k4BRrPkcwuAa4uQRBxKY6qgACLlBNeTQ0pAggUC485ddaA4Le9FB/l/iQFc7U04leN2STU80tUhMRctayRiAlW+OQPLFzK3JxsmtxmPPTx03jjdFTyJ4qTEFNRTMuMTByYUzVQ5ASOgIGAwDSYT5vhl9IymEsC2YhoJxgXAImACAIWpTPMA0FQxEQrzBDAXQ/JQAoynWs0xFAOb+jymQaIU7C/EANjUSBQsUHkcfKa5LmQiABMYEi9E7XlEENhQmkQApvLn4vTUNmBBoYWmKgrB3Oik9BUMpCqJAYESFbowuHgsGmTGYwxGwJRng0XMWFHAMdQTG6w6NbNopDjEwYEyEAQSkRmY8MmBHIUOjLCIHDDRFzL4AJ41YAmfmeMBxCJQaWyMqUMqGT/BgV+lIEgsREji7gGXA6E6bsUCiAcCBhZdPEwQtLhaaGSVw0FTrMQRMsNGAR//PkxPdyrDpAAPb03IE6YUYZAEiCJHC/QNAMWaAkm4ECPa/0Cv/qszR1rC+mvPNAcAFyGwlwXQgNlqa6XECKUqCQwXwEgC4jBgDKAlBy4QGLrCBDgtiZQQDmZhAhvlRmApmgJnCRh2QGEEI8xQxEQ0QUiMAE8AAyb4oDBxY2SpiDF2AWVUwuDQcMMYQ4O8oIXQZKYUaBnwGNL3eFX6wLsN1BywMDplLDw4tFazkq5jYOIg0DMrIWciupgvZZCjBWPUETDbmwBWVci8GuRmyr1FIvalFFLUOUttj7XXWxs2LNTEFNRTMuMTAwVVVVVVVVVVVVVVVVVVVVVVVVVVWCAyBRlH4ACTAoFBICy2MVVYIwIZ+YCkEee98a2l4YiiAhuk2XoLqL5FUHM6Q5MFiFMEASLRlv2VtJakYonmJA0KiWa+hSYqigXQMHBkMMQ/IC0MTgsGghhp01nM4MGAaMAyIMr0BMXQZHQHMGgSTbMCQBY0CSs1cZOfWwqGtOEYOY4GGSETkIOmFAjTH4hONWTplmKqpMVxa+3Rr7ZE5CgHMQC1ml/o08aaQWETHBExCPMMIE6wcHF5kJi+UgAaBGOCaEae7o46RRUQMJEFNsPkUFQ5T3EWgC+TDJ9PIslgaD//PkxOJtTDpTGu7zTKVWB+4GArOlbuqlEIq5zJKNgNPOH5Mu9DNB0uqAgmexmVv60lfdIm2IDSJNxXnSTRXd+nQFtdjUqf9d7N85tk7/qlfdW5Shakw3jd3HYEzRChTRJ9BoAhreMQMmpASACAMZQuaPGlvBJBfTKEvBQJHkIGYCtsSKQSl43KBzDrLgRkaar5K0mDHu1SpUucwtrsrYLDKw0tmdvm/DmseWfDe460l407Vg1CGzTqG6t6acMu5AjV7cCLZcKYiMKeaTN2U/TqZO1Vkb9XWuOU4rbwfdldMqgAKkEvYs7UCuIluAgBACCeZbzAoFBpMCAApAYqggDMBwAAVBBMMMxszGQSTC59MFAJ7IACoBKosMDyk8LMjFILMRhcyEPA4QK3mNReYkQhrKyFaUHQCAQGOhoaGhdswU1NbVRAfDSWo2ou4DigQMHAs1RsMtDIWvpYaPzJCAFUVGkltYK7LWWl1pUNGIqAsEViYc4quWoFvFRSlrN9spd5eQFBioTmnHJZQQA4wBCwGJAQVDzETU2kkXQTDSmiKzQhIiFDI1IWBSct5yX2LxpmCMHMVSTOzAMFhGLOIFAMAAAKIwCNGLPIc8MXEQiOhhjAmYOCGCBBkQad+mIJjC//PkxP94lDpFcPc2rEKIiWXrSbsigYCBr4e1LiTrNWkpEeFjDxpBZeiQyt76reHAQkAw4EW8v0tUg4kspwpUtdWsUAV1IXAIGDjBFtKJDgYWCItqjFkILmJg4QOCAWLDFAQKDbJQcOmGhphA0hUEAphgMHCBjoWjSEA6JBpYsYAHhw2kAIR8FFYUCzAEEAgAcEIJC2j3GCgRcxACFAwkABYITlXQRCjL06AqFPawVIp/n0QJLCv42zrsHZ2nOhGj8rl7C+SPxZYUAFFIohPRqLWFkC5CGipHuk2LdYYqNSuqZzLtyS7t+4bgmQufMRKBKkxBTUUzLjEwMKqqqqqqqqqqqqqqqqqqqqqqqqqqqqqqqqqqqqqqqqqqqqqqqqqqqqqqqqqqqqqqqqqqqqqqqqqqqqqqqqqqqqqqqqqqqqqqqqqqqqqqqqqqqqqqqqqqqqqqqqqqqqqqqqqqqqqqqqqqqqqqqqqqqqqqqqqqqqqqqqqqqvBGkpZrmm0osV818SucYHUYWYdEhiwUKwWXlbklgimBjiJQcqgNNOB4hSqpAAAG0hsmC/ZhwRAYKgEDmISaYXix4rkjyJLKAIABAPFhWYYC4EUMtM5Ea7JuyqTomKkBp5ZQu++rF38UynhC//PkxGtPtDqeXuZfOgs1qQ9nhHZMmg7TFpNTvx2AFH2RWIm8s5E8qaSP1rdnVNOxNK2rMRqD9dlCt1NPVeb3puMQt9lWNXF/kESdTToTuAGHt4w02wl7PNjHYZ+knd7t5ytbkYaphTP1TEYzsVZ9LShLd3JhgXesbCuF0nsPsMStb21Wn8f7bOhhnMNNsCuezqtPYbmdKI5W2YENcWCOywk0kVqzs6V5jcrNszc4xW7+Rrl9awt6biYGWhZYSYmSO8vJUhukwLeYrIjDoH4xqk58vcsKEqti9uwv19QQoD6STEFNRTMuMTAwqqqqqqqqqqqqqqqqqqqqqqqqqqqqqqqqqqqqqqqqqqqqqqqqqqqqqqqqqqroIAEpfQksit0LgGu4jOTAEg4BMwIAJzPSGBMKUNNY6JCgojAEUPAoExgvn6AYuoLgmkoBhgFACgkA0HAtBYGcw+QvjVeBICA6ThEw0dKNTHjCRkxpFM0DjK3QtOJAK7GL0TTEVgcFAQ8RhfzOaWiqlGjL1IygETSWIlk2RBxwzHDkSI2Ft+6j0OCwowEcMRAwMRruSKVqcRQAuaEMKsDxzimShspWgNGXOzhx5c8ENxtNoOM8C9EkmPSp07imTwq1UEPuVfXQCCpq//PkxMpndDpSOvbw9FIylnLVGtr4KoS3yzWTLAtlcRx0uBi4noM43F0G1gZQVrzPXlhcYj0KeGKyq1D0kv3ovQ0D/rkTlYA/cafBU0TqRlwy7LSFmLnSxghvHDfZ13IBi0DSYSbYjahChOQoEhPs3OLvc3pZpBSiiYiGlQjOOCEIk2XLLWgga+GQqHLnLumcqQRfVmSfRfwmNEJC47jJWuZEIFbkpk/ifyKMsjrS4qyVNSXDEwFdlUNwt4FfuKHHZrDSnnVjtOaIM3dJ+spVVeJ5lMIHsy+VtEjb8335lM72TEFNRTMuMTAwqqqqqqqqqqqqqqqqqqqqqqqqqqqqqqqqqqqqqqqqqqqqqqqqqqqqqqqqqqqqqqqqqqqqqqqqqqqqqqqqqqqqqqqqqqqqqqqqqqqqqqqqqqqqqqqqqqqqqqqqqqqqqqqqqqqqqqqqqqqqqqqqqqqqqqqqqqqqqqqqqqqqqqqqqqqqqqqqqqqqqqqqqqqqqqqqqqqqqvTEGHf99rZKlymyzOUMTfy6p0eNMeGMrmBLtd+sRCSElaE8yYBrSt+MGtRMqrSjHoANSJnuRIawJYDVFVanZ3ATCEhyAC7wPeOwOg0kHaaEvAQFjLQy9SuFiMEhyBILCi0g//PkxGJNfCqeXtYfY/sTh6Jxl/pWECQlWKl9SAhw51A3tKui4hnuPhkaGNOs0KytSsO7AxVeMYGxFYLYiGQ63YapHpFaNc6oSeFuAdmKmm93BJ6bQ7VG2MR1OT9FC3RIMWPHxSK2Uwu4KsiafrgyHjjNiZwXaGl9JdEsjn8WuLPlCpVSM2V4hrJDVKMZjzX0+zPj9VrFCk0wMx5aZHJXqAhTkcO3yuTzGBinWFtjVLg3XdK1Jp99RlZUL0hYCUaS5RAwjLXIuRXJZVK48mkOM0IakUuXJ+jRmJ+aNiSmX6AvTEFNRTMuMTAwVVVVVVVVVVVVVVVVVVVVVVVVVVVVVVVVVVVVVVVVVVVVVVVVVVVVVVVVVVVVVVVVVVVVVVVVVVVVVVVVVVVV4AAAAk1jtIeFBCaYFANAbWFUwYAhg2Tpthz5p4DBhkCJMEagYGBgwPBUwMDYwNJM/JGsywAgWAUwLAALA+WUFADMLAcNJsHNVOEONytMLhVbCsgoAxTYQBAzeDk5ixYwCc2XMQX6YgucAinQEC1/0Vh5C9RibV1TJh7munRI6hcObQQmmFyqRTEkumpu2ku5Y8NdWMvg2cjbwt6kWiu3sS7StcWOhmj/TRyMbiscLwMnZZXaM/Vl//PkxLdirDpSXO6xDAIAaRkA5EojDnvF8fdVfCqi1If3UfwuEzuWumw9jz3voW7MIBCNE9ym9f+B3aQaQnuGhm7zE4rEFplvwuUyvCLsuekIG4IlZBxkodOmvxCpKZY+zfU8jgWA42qo8bqO/EmOukkFSugs5vlnogFr1rwcytORpsANbd500v1M41SQM4MGRycvM2p8YYa9qekqHrTaSMspZJblraq3xB6IcYi90xBzpwM4TPi+5cFd7J4aYPTJISZurc2ItzgVdM9HZiNTDvw8z6DYcl9SLyGXVJyloZjSTEFNRTMuMTAwqqqqqqqqqqqqqqqqqqqqqqqqqqqqqqqqqqqqqqqqqqqqqqqqqqqqqqqqqqqqqqqqqqqqqqqqqqqqqqqqqqqqqqqqqqqqqqqqqqqqqqqqqqqqqqqqqqqqqqqqqqqqqvAUGHb9rJJKkCtlN2CLr+XXoMEiDBsPXsIu+sFBQAdpIYhkWZdqNclVgRmTVDzWwG5GFDJ5FuUQlCzVjTOvnI7u8TCZ+NBEgHBhLgqqDpRjGSTllTHhwoURIMeFT8JgBo3gVihc4JHlgEJD2u2g0ABSXTuOhLV2QdJHJTKmLsPXonGkvH5WQ6DcLszEkMC1i6ZTFnl2ytTM//PkxJha9DqiXtc1AgIkiHuC6soo57fJfEpNT0NrjwJeMlgajk0rpIGZ228CMOeViFx5lHDCDA4CzpazoXKjkQRXjcVsw/DdM8SEtoSZrIqNi8qque/kai9FevWJLL5iV40cOX5VYctr9DJpdt/5UkggPL/rwZKi9Nt2UDaezlPdG9X6nmNP7TpyS/JPeLN/OS6VuRN6+Wwu3EGetSp4AZ4zV2pVPNLTPlr/vDRy2tRMkfBlaL7EmXtaS1c5O5G1GZgUMNAuuKoXKZRDlbJiD8MhEi9m5L2GROOQ46Dgbll+TEFNRTMuMTAwqqqqqqqqqqqqqqqqqqqqqqqqqqqqqqqqqqqqqqqqqqqqqqqqqqqqqqqqqqqqqqqqqqqqqqqqqqqqqqqqqqqqqqqqqqqqqqqqqqqqqqqqqqqqqqqqqqqqqqqqqqqqqqqqqqqqqqqqqqqqqqqqqqqqqqqqqqqqqqqqqqqqqqqqqqqqqqqqqvTmCc/tpP/VJD7g6pYM3Ng7M12DBIe6tT0d4dIA8KqTOJu1UpFkG8i2pimlwm+GGQCoCqUnT4XNYlRcIFVypoZTgWbUCqf7++eSIsang8CjaMUgIAQVmAYNmColGPg3GQwUkQVgoCwMAgNBUv+YWhaY//PkxHFRLDKyXM9fLjo4mW4TkQYphIaOPGWBEgAgkBrsTjEslLGkUDAQBl8w4yt36COZgBw2G6oVRM4IWAeEcEFcTfZpkQdxJIfUziyZgAXxdjBOhdSpNzUgsanfqiMuTLXCGCSEmewHJ81kwODDbqI3vy/l/R8ZVv2RtdvbaxvFKx8X15K7eaj43TbBuBqHhPxYLMxqRaO0dY/jSZUNcTTVCvXDMr4qslcLMsirlc2ed5Eewp+mn2vHSZjWYNY1C9q3VEFjb6MeU+q5awom4G1fNLfGUWgoTjNtgo1pfDxVgBAiCp1Ho+7D4igCAqE6YUghBgIAVCwKKUaIpaswBALjBNEFMZ1nExaAKQsBEDhHg4CABABAwOGBAGZzZJrInGIQ2BgsQhwGgyAkQjICIOGKEDG0kBTFVdLvVGIggYn7wOrRgwGkAQEgShcXHISwbQ9hx8xiIJGBAQjKMAIvgYCBJktfnLUYNINY6wD6rCPKKAAw8Ax4AKIQmLNbYwMgUxKIxoOrxTrht526JjGGB8BhstR8FeLoMCgcwCATE5ZCKcOgMFBAWAiNDAk4ngBEomR5T/bz9INABIYkBAJeh9F5KUEgkyZ834gwYov5D5eJN5XqPYWaGlOJkBQVDIjA//PkxP90lDpZ4Pc03LdDGMDhSgViZqDhZMTSzZSFApk1IBJG7ANLQUZAn020CmEGA4PC2ENSZlVQlln2Ssnft+5bT1FhXWcxpcVZdLbcMsmfGRu6/ScyZbdS7A8HCxpOsygELCTJhQUcWknij+4ACCgQe8YXGMHYWHF06V7pchwGhX8sADACTRWIREeBwmdJZrzIjMTdJW59iypkBpiQIKmsChh/oykilxEgQUXynWnk3Z1WAqdEBNDZ24ARyg9PFAQ4wc1j8kvPGh1GQoQmYS12JMqJh4CDpellF7NYlsRVoBAAhhsOtPlDE0rAMAeYHwXBlSAumCyAQIAD2iMlCALzBCCqMKQUcx2E4jAvBlMOQxMrAPMOAABQNgYKiIMjEhKzLwO2DuOYBAM6i0hYYDHEcDJAaDAsPhYFgKCANBMMAMRjsY0HUbED+NB4QACmORAGEAaYXg2YHi+cknoZTkQEBEAAVFAYDBeZYYECIaPCkGHMmCIwATWmlImBgEGCwaDQFPi3szBamL/GHUmQFK0t1WGVyBQywgqBI65b4AoGXoSizooFCgQ5zI3ZBOsGgC+QcOTFGAhoIBzB7/TLBc1owIABgIOl2mkJDKvRhBICNiqKFhYqEBWUmYMrOSKM//PkxP93DDpWIPd0uL8QNpMQBUghEnyW6MEEEZRAQiWhTA6RhfuAzNyS6AsBQdXko23dYQhCjhEIClAF4J91mYS1QxFaL2FVlfQ23kKf2BI3ATuw8sM5cXkjCFBoAjb6qUWQwIJBzFBUKUEzWh0AVBY6CMkDRSQQBg5z2CodEHEiw4K2iN9pi4QWQfMIBHAC41cLvZuk2FRbBE0QwC3WQNgWEfow8oGD0vVS4rvnGEoAoyWlgqrJmXr5WmIAZkSw8WxtIARGHMAAJigUDowuTG3KTVIgYycQuZMvWTpupzmCBAwyX5XK5MStKkxBTUUzLjEwMKqqqqqqqqqqqqqqqqqqqqqqqqqqqqqqqqqqqqqqqqqqqqqqqqqqqqqqqqqqqqqqqqqqqqqqqqqqqqqqqqqqqqqqqqqqqqqqqqqqqqqqqqqqqqqqqqqqqqqqqqqqqqqqqqqqqqqqqqqqqqqqqqqqqqqqqqqqqqqqqqqqqqqqqqqqqqqqqqqqqqqWJRAyRqOuWyGdsmnLhzpghbsVIg0KAUBgSpu3JoSCkPwCoIgEmWFupKnKu1BAdN2YPdfAy19VBImWgVQGUZrDacLdWsrzTkfQx6DxKGsVfNckMwCsKkKg64sulWVMyJCUbUIV//PkxGRNzDKu/tYfF0PxeN0TOmDQLKO43cLkpay12xhfrV7QVIJKrsRdVtW4qWp7LkYO013b9HBimJ1FtX50xKJXU3F77LDEbU8oox6qgmQCMrWpUxb1YWXT3Uj4/S4mSLaISXSdElkEaFuDVJJHzomdTq1WsGH8B/vOXj5RRoE+I0JwhM7IoVbgpz+gO4EUfRBzBPGOtsKzIkeilcvmjEYUJMkYI/lQj3UNS4JyvMKUZ4s0puhIXGdl6tTzWW0tqxCk27ZWVyXpHTLGY1RHbvabLeLaP1uq9krBakdWJYdVTEFNRTMuMTAwVVVVVVVVVVVVVVVVVVVVVVVVVVVVVVVVVVVVVVVVVVVVVVVVVVVVVVVVVVVVVVVVVVVVVVVVVVVVVVVVVVVVVVVVVVVVVVVVVVVVVVVVVVVVVVVVVVVVVVVVlBCX5uXSyQMHQgHAxKYKTmpApmzaZN/gaRccyTC8aJsnSPMwNBoMzMxFO9FmPCEAiCMIkYARqsCqQFDEiDZgBzUncZmzCDAsWSFyCzkEIAKg6W1V6ylMVeoyY0kRKQEl2WWw9Bb8rBF4lrN1Qkq5bCkK5rKl3IbQG6rtQLdYa3qVSuqaH0vSyydSDqCUvivJLpqhpYwRzqJW5w0J//PkxJxcBDpuPt5wVioKpq/jWWsuEwaNr1gKSryXrNzSg0FxxeK/YaljtM6htpsrS9dBkz7LugaJQ9lKo1GqWpGqd1WtKGq0oJlBYysKkKpaFxBgptwVMnnZyw17FzNtlNv9Tu7EIet0s1GuTL+0FG7MCxKTtaU7RRooizldrOVAVhmJOtdvRJczLoe44TEomsKu18kMmDOSnsr6UOMyFgr7TLSWiNCd19pfFWtQbE5A/09DMoh7eEMyR+n1hxxl4tALrOokM3zDYpPUr7QNKpdGaSnd2anpbljWmYdqRrOlTEFNRTMuMTAwVVVVVVVVVVVVVVVVVVVVVVVVVVVVVVVVVVVVVVVVVVVVVVVVVVVVVVVVVVVVVVVVVVVVVVVVVVVVVVVVVVVVVVVVVVVVVVVVVVVVVVVVVVVVVVVVVVVVVVVVVVVVVVVVVVVVVVVVVVVVVVVVVVVVVVVVVVVVVVVVVVVVVVVVVYwEHJbv///+DQYkLKwDByiCA7Rk9BlQMOOQ3NaoEDiQF0F8l/U6QANREbC/ttASBgKCZtoaghYZS5P9drQ3meJvFmqyiwlQ5S9NFyHKiEHshQpgdW9piVy0U9mpM9UQYcpJt3xZy3OArK31raZKmSmk/CpmvQTB//PkxHdStDpiXtPZrsIwyPb/KpAVRCT+BtgxT3TwR4OolJkFyMISY0nq2l0SHKXFVrsOBRx005PBJRdDzwdzkPcQo4YpAypkHqIWSw3TlP0lLKaDnHkTrUdaGofO8Xlo8ziTh3FMqW+MkTmS6ickOZmZeVhMzpQIuoWlkwMVR2UT8qDglbD4lE8njt6sSHBNK5xciwHRmfBMpCBQRyOWlx2eDgyJxaKS46EhoS4xNLJYQA5UnqAQCEIR7AfHQjKjNKpaKxWqSHyy2YJCuoOyWOKtDOT15OvODokE67zinFa5TEFNRTMuMTAwVVVVVVVVVVVVVVVVVVVVVVVVVVVVVVVVVVVVVVVVVVVVVVVVVVVVVVVVVVVVVVVVVVVVVVVVVVVVVVVVVVVVVVVVVVVVVVVVVVVVVVVVVVVVVVVVVVVVVVVVVVVVVVVVVVVVVVVVVVVVVVVVVVVVVVVVVVVVVVVVVVVVVVVVVVVVVVVVVVVVVVVVVVVoOPa7f/7f7CAcrUTaizM5fIshwnFNC1+AJwqV7VKQtE8DXmE1LLgwgtJ4lViL5cVkCcyMIbzcDyDsKMG6BZQAdSvG8DaDmAxEidu6k6AxIIuoMEI6eI5hSCIDaNhBDxP8UssCOOIsyJFW//PkxGpPZDpWX1h4Ai2hkhgkKZihN8kRbi/M6mKMv5CkOPIH0uijWTCHEskET4v4qHKlUN6qXKyb0aIttTWaLCvLDcj1GwKVMF6VbExrxwnOcx5NaldwlOu3SsQ1VG6QbxifqqAtHDhdLtaVqecRbiWKNWHUimAHOqjKVURnVC6Mg8lOhK5ISWxEN6yaQwoymP1AqU3z+HSYpdhJWCAXlkTraybZ2TEjWqnzAnH7Jt6pdvWhmXUCVwhrUuqvpdPYafZb2cp4rBBZ3jNDb4bFeFAttUyMiHObPjEWi0q01DalTEFNRTMuMTAwVVVVVVVVVVVVVVVVVVVVVVVVVVVVVVVVVVVVVVVVVVVVVVVVVVVVVVVVVVVVVVVVVVVVVVVVVVVVVVVVVVVVVVVVVVVVVVVVVVVVVVVVVVVVVVVVVVVVVVVVVVVVVVVVVVVVVVVVVVVVVVVVVVVVVVVVVVVVVVVVVVVVVVVVVVVVVVVw2C12q2Wu2WKxyORRumVkN1ELnAQYdtQNXUbwSBEzS10NtET1rAz53XDosJv2CYqAg6A8xggxQZP2xVmZ44CIxQoBHDAEDGEQamAVsIC6zv4ZmUHAYobEGYZAaAINACUIZIkIgAkh7jn3+szLtsoAzsQB//PkxHNRvDp+X5nQAgHDDGozDEB6EqYxZduO+7/9Xi05ZtWOGUe0c4NT4TMflv2EyRulvuWvw/DBTNa67376j2XjWu8aFLdG3UzZy0iTUrvf////3P+exOfU3kdIuda7+F4065GX/ZU6TtKdvqne8TtvqrlXq/P/////////+l223xiDqFx2b1KWefhr8v6w9t6OUxCR0U1J51ptJAMHu3YjMGfh/8///8f/////f/hlQv3T9sW68vXXHn4huH7/8+Jw/bm2dAwKrZg38XiywqVDWkmmkthhDpt0dlqEhcK+TEFNRTMuMTAwqqqqqqqqqqqqqqqqqqqqqqqqqqqqqqqqqqqqqqqqqqqqqqqqqqqqqqqqqqqqqqqqqqqqqqqqqqqqqqqqqqqqqqqqqqqqqqqqqqqqUCIoU/d0u3t4kBgICDAIQXMwMwICTDUlNxjIIN4wEUxCYAM0MsKI0AJAh3GniyZhITrGFgyFRuYxDIQHyILll0BIFCpiuhmwoywCw0gNmOGpOizUeDAJGnSYoWGAHJa611rqgoVDIVMCLtIAkijCgC8T9P+slR9aI8FgJaKQCPKRjLmbP0zqfjzclMoFfpwZhrpeFFFyVVbTcMp9f0Rep4HqZ0wovdLC9S7o//PkxKtfnDpq/9zQAApetNUr8pOuW2WBUzVhGm0EPuspktJgzvYP1LIDgJp0egdxVSvzQavw21Gu+8WhyEQyypIq64a/Z5wnYiT/qmbksA3NkTUl5KUw+ylrsUk0oe94GJO8p6GGuM1itqMS2BmBPQ8jTWRuAyN/aekkEQi1SKwjB9IAhqYhyZr163Y3cfBh7grleldLOYIYtJWUwS/skykmbzWqS4/TTFqMEj9aVO8XqYTAk9ArS0BrzzLIG7OTEm2jTtwBTwTOtabE+T3sWYkl9DT8Q5D02v2WslcNlrg1TEFNRTMuMTAwVVVVVVVVVVVVVVVVVVVVVVVVVVVVVVVVVVVVVVVVVVVVVVVVVVVVVUwBhwXLUqkUhNMCgNWEU3MAwGMKhXM8/RNrhcMKAKIQAHgwMCgIMXiuMO3IN5BxMYz/MtAkMnwwLcmQYbmZN9m/plGydYdqFpmw6mASieLeplDDGfAWPDZBlRMZADimKkQhu+zRnLUrcsxaWQ4eKcP4wRJFEUcYApschLltPVMFlu4Wlhth4ImCqhPAGEiE6AWEOsWQpc3d63TQZMAU1UQlLlpLeaXNP4wG02jooB1M2coR1YARhasMgIXBRLSFES+BMxSKhALG1xDRprQE//PkxM5odDpGXu8wzG1OVC5giDjLFYA7qJpAECnchoENovPwXkXW/TqpiqVoZOa27+J1FsmROfPs9YO3z+Q+jY01CXWYUzZ93RsLW45OMSkTyQfGqSBYGgeXO+yN32ypFsTBYxEY8AGsryGQD8yIBZJGxTMyjWgg+sI+kcRDTDQFv0+zaw+qxWB9GBvfJk/1UXtdC2/FJm7DkUrzymfcpGRHBGtdENl83FLZotNIdN2kVzW1O9KJ95Q6KpFLFWMNh9TRvI7C3CbhnRvlFINdN/L8Qp5iDI1Gb8tlTOGgtJe5TEFNRTMuMTAwVVVVVVVVVVVVVVVVVVVVVVVVVVVVVVVVVVVVVVVVVVVVVVVVVVVVVVVVVVVVVVVVVVVVVVVVVVVVVVVVVVVVVVVVVVVVVVVVVVVVVVVVVVVVVVVVVVVVVVVVVVVVVVVVVVVVVVVVVVVVVVVVVVVV0KDKbmtc0bg0KI9JguUFgcydYNaUS0L8N2VTL5GEIhpA+hagc+7kKHmDi5kpEGBawCH7ADFoQ9KCNMewcXhgsksY8QDQYCalYtwU0yN1i9TzPzHn9WgXBqRqV9QEMhVI1Fl8gmHAhmMxWORKINch6U2ar925m5D026bvsbZ5Wqxvs3I2uw5R//PkxIdWjDaOXt4fHjprEZorGu1rNC+KRafaGzd4HeqBVF2JNLQCo8JKAgQGCDlIBYZfhtwYQGFJIBBocZUtB0HWWu20Axh9VY27vO5TZXQXWwOHPVFN7ItnKyKJ8rm9yYnB+0K5X4b30Jkyqo/jvXqy/sco7jkMGkFDXg0DlJxGduSFIe0kJZj1MB8Sklwr4dCTUiI0WB6fpskvYlCcZuGCXRQWP92kBlu1MjCvJ2yFvjn0bwuoCwDDLyr0SIQFWPxC1oI4hc7a0OmpYSC7VZIHQuaFzKd0qnFC9atGYEcqTIAHQWEQEEQFABABDAQTCfG5NvUNAw4QQgEEwkaYI4ABg7A3mmmfQZ3QnRhTgJGHQENZMBwsMNjPMsSSFQ1X6IQCMOw8GhJPAQNM52wMjBsMyziMpxOGCEM1zePhprNDWUMTinAwVDwuDQ9GQwhmFoLiTowqsFXzSUDlGzxEDJHE43YCio5DgumJGl9l+JkwJES7vkoa7SZxlmhwxTyF4w4Ur2kBpkIFMSW0n7MmVNmQMAEIX6LsGFFrrN4gDJ48GTgQbIgRK/Hgpf2ILviDGwcUAoQSHLRhkWCI2GNCSQviuV0hlWEDzCEVCGnvzLnYhxgTsvrFIYbrDsmiWUPw//PkxP50ZDo5UPd0kPNanoGgFeDeLBQ8mmutYqh0RTch96pZnGqtndDFa79PD17KVurOXS7KpdPuLk/0OLxgp3kjkxQcKZUIQzVV0hYEmeQAlBXcRhMcJUwWKPBjDhFO1F0jAEIMqOEJEIOgA2aMY/iRaxEeW5pfgoyrYFCYhNPYgKAxaHVjEIdCGHBEEIhbyAwOrYyQLmh4kiGkQnVLk2UbhYeKBU0VSjggzitVdP8mHAAWUJofMmPMESFAgsFSPS+MERWsz4hWBYGwhjKAKB0/S6V55QcGdmExe23BF93KTEFNRTMuMTAwqqqqqqqqqqqqqqqqqqqqqqqqqqqqqqqqqqqqwACIAlrS9qHgEQDCYORBMChs0bwSacAEDomxt4THJjNqPk1kITAYEQyLAEXeYeGpb1CXEFgQIGDChXMdCFBVDS2RAUwKBkQWGO6lspWqUEgQweAFdGFwoYrFJjwkGsxGb4dIIHZl42GGhYYBW5pdzGpmycXSYiJRiopDT3MnAUz+PTv1TenTJMDAyQ6uGYzGIDCEgg4ZBYHQXfUlkyRF0FjT4JgqhecZWTmMgi0aHILAZm0k3pTtRXRsBwlCGiPWgoqqNTdRGQFLHlJ5AxQUCRDTTuLdeVTIHEdx//PkxNtrnDpeXOaxYPV9VoKkU0LZrqAigcRIRWBVdX7XFzphsaVIkIW4QCJPopgUZdNI9WNDsNEa21Qv4YxmEIKG/zVS07N4GZmiIgnSmMxjY4FMWW+5hKhiqMu4yx9FMFNH0hhznYuyOGUE5d9nr7NTatLkhGGoB1fzUPrtbHSK4mXvgKOO5L7rpv/D0bhhnrE4iwOXUExQuO87T6OJvfKoYjrSYpDk3CmkMlaqxeUxhcjhMOg5i7GWAuy1FrTEEMWWqdsRlrEn5cJLllktcS45LRH6fWlqRiBGrtCvQ5Q1TEFNRTMuMTAwVVVVVVVVVVVVVYCILBopNNcky002QYwx0FFEFlShcUGA1Vygojc2zAkMgcJXSyRSKILBFTNfkaKjVm2ZyolKl2w8gCh1ZapQsJT5TTLpA0KABxrwg84Apwxhkrsm2enj/GXKkVUwIA3g8yhAm0iAMOgjRDwg8Y4gQhEbE0EODAS55hQajLuP8BghiAzETCnSgcYIYWcXwbkGjOZMeYdWYsqYUMZFoeJsLqDBAQMKAIEKHBIwPMx48YI4aiMZcIYsqYUqZEKZAQQDTJBGykAISXkAIwIY1QIzJdrA4KMsMVCYAhiAGvCY7I0Ew8tgAAC/6ZA0iAxw//PkxOxv3DpZYNZx5IIeoxGDWSCLX6GjAkM2zSYY5wX9tEigUKmh00DPp5mKiEJNbAAxVTCGBahH8CnmSgToDSgyaDAjRBQWUsZCQWEqCQAbMdcGeXojqbVBwVBCJ6WjEEIRCEDVmA1pf8t8PlSPTOBhzCw7aBbCzYKeaxtCAY0JZKFIJggoCWhgHILcKRISBgU9wqFFZ9mgl7VYi/LWlA25SZaBe8QpU3TmkSYAKQW4aKW/QAOomSpJtahd9NMv2qukWnJRXnteJhrvNuxuAmg12rO7DE7LNL/7IoAiVuPKTEFNRTMuMTAwqqqqqqqqqqqqqqqqqqqqqqqqqqqqqqqqqqqqqqqqqqqqqqqqqqqqqqqqqqqqqqqqqqqqqtvMuqaGTsaTAAkwQgacjQIFNzP4TnKThIU2DS4WMoCbFlBF7rTBBShyvnANYVkLiXMpy/yeyCqvBBVEl9kz14tMU3pY+GBICYstWiuR9khy5rJUPXZESEwqsz4vhKS4ZaUIQXk8kEug6LmzUedZdUqtwTEXWmodUVVmW2rOqBvX4eZZSIojMTBIQL4ZvKKaXiwg6GMhApYMNBII8Sj2l0BgGlS8s8KhuGny4rOGdQaVTWiHLGdBLSyzoNEMZU0KASY1//PkxMJlZDqDDtYyWJERYPMCqBIKaBLTiyRuCmmONGGgGm0EggAUMBUpR0C5z/CiCKZJakYDozLAVNIkxhGAiUn2no+hQ20JWpP8HdJVA4IlEWCaEmEBrI2nanKNByBAsABo1AVcwwgMAzK805y1BQsaCAR46HRoFdKgyC7zMMTCTHh1PN3SqOWdcJR5QGJCSZe1A9F+Io2hh0ExqDI6sBdgSJsmgmCXrb9uNtnbEWuPChk7SzEOLlLBqwEIaNUvh5p800aMqZTacj6p8SSG4zLYYV6z6VMKnItVaxTPvuBqTEFNRUCIJZG5ZuXsNjDhXORiQyqFro/Kgoo7LadzJlt3QijoRBksrhtiDK4oppuCWW2mEjICVKeqXZqis8KwkCSNgZkhPCDDATFCTZTOZBBwAGolGMcWxDBQ4QHMjw7LF0CIGZYNAYYCCMPQ9cdNcBAoiRRkICgQGBwgByqNGDggsuESqZ0VlmTimo0YLN+NguDGTga6DFlsxNHECaYsqyMVJhGEFDwWiWBQbM+0R2RqBYgqn13BUyIihUEmUFHOMIwk1AekGngiRA2SA3j0xYggBDg0UPiNAligsZ9SYUuZ2iBX5kAgsvHRA9bTNLjGKBC2EOTmHFGzBFYsxgcy//PkxPtzjDpd4M71hMHM6JEA4xYlSABIlvASkJQoC6EgMexQIBAAiKmdEAIAjga9yn8VjzKmDBBjLtzSzx7UlSAlwonNuQIkCIMOkA8AgR04OBWTixk2p4zwEcAGhSmFLhREMD3PSJGn79NMAAEuqEFBoUnQFDoseB0oQkRpWX6KOwQwYMQFDMglgxUMkmX4BhUCBHpEIlXDZRocj0LA5Iy4MEqKIUwOZIuSAUrhJQNACQujiRAAoGJQ69UOsvBIdp4kMX4FALEUwX+TWhDBKRE9xFMF7owv3bgVuKknLbNVTEFNRTMuMTAwVVVVVVVVVVVVVVVVVVWWiV5xCzEKeWwBHY9lDtl538puyy3XikMUr1UktcadjS5OPsoM7sE14BZNRMzaWw5kcflSYilYQUniPAABRAsicDmjMTONGQyzLWEXQsUsmX7AREuWCOxALnumgFLnGEIoARnQSCzzFQOqXNOBjAxwBFhQQAp9BJeCmgxmMM/KgxuCB4sH5n5iZAOGXIg8DGciAXKgFMCEZMoIBI2DlUwYJMMHTEigxw0MnBBAEgkKKw8wUONcGjAwcy4DEIYbjoXCAiapm0OhkYCIu0+B7YxljLDLpnNITnGuSf7pS2Etm7Ga6AN9OdER//PkxOhu1DplQMbzpABUANEkLnFQ0MUACJspWkvgZQaVAcOWVGijUqPAg40EewS2jWBlguMGDGpeeIZtlEzwY2ISVbDGQMZAxxwSEcZqJjJTbrHrQvUCxDAaWQZMLGxJwSaPkgIgB0AUHJGFUDVIMRQyhDABEYIlYMkg4kAhmmkWiISBEAMLBQQtY1JTQiDCoxE2XN9jSxUkWWF2CwAXYBoSVIGTdsLDFnVJAaZiaXBddkyAciATGepozEkxkQkAi61ruEzNQlkCXa5FrrwiENKTYC3JpfdyGnf1wHrjDfdVTEFNRTMuMTAwVVVVVZhYRs0ggxMBCECiMehyPMZDAyY3jel4PSVI2EUDPJIM/Bow0UUb1LjBwQMDBESDBgQEGAAaIQuY5AYoNDRCDDCEdAsOAzgxIsvu8i9xQEnogsPLW9S9XYQChUA0dhTWlO1HQuGAzARlAEAFjZhUK7EeXUKiAx45L9CYCQgKZNbJQGbEl4zbM5K2zlzCpJxj6Iy2y476EA9OYHBWIgI2KEI0VFqeRvbhsQplwBmTxiG4IGGOTGpImmRmLFiFA6SgMsCozuPCNTlWWBCIwLCOugFNcpYKVIMimoOFuUwiBIu4OJhjq3DDMMYUhHLPGiItIwUl//PkxPJxTDpq6Oay3HiDYhfByoVPAjAhDJplMBEYZ6YYM85clgAl4FhCZYqIgpIAEFpErEJZEyYqqG4GhXWAUAx4EUhVhRZEEvELIggNG2PKtQYHDTPGDpQcMOgG+EYJoOhQOLhBdpoQ8UgyYIBfIUJTzSOTUFmlYRwUIlEIRKKz4ZVXUkMrtIlDFrlIBwjKTKyWTKRLjIZInhAqoF7NxdhrbLUrWdQyyxV0YRyYJBjiq1MhZqjAoQpU58nqQzSR5+HgnXLeCAoPn6epqZlLvNbnIDjz9PvCIbxpYagF+IwqTEFNRTMuMTAwqqqqqqqqqqqqqqqqqqqqqqqqqqqqqqqqqqqqqqqqqqqqqqqqqqqqqqqqqqqqqqqqqqqqqqqqqqqqqqqqqqqqqqqqqqqqqqqqqqqqqqqqqqqqqqqqqqqqqqqqqqqqqqqqqqqqqqqqqqqqqqqqqqqqqqqqqqqqqqqqqqqqqqqqqqqqqqqqqqqqqqqqqqqqqqqqqqqqqqqqqqqqqqqqqqqqqqqqqqqqqqqqqqqqqqqqqqqqvLW7ppYrkI3NlpK2I1NBS3MDA4MnVwNQcHMswhWHQvmDAMAQQHxpe0pmiH5AAREBLXgMNjRs6hnhTtriWUiMzsw8oxQ1//PkxEVGJBqjHu6YuR8bxejLm6PGpfB1JDU1asR9S+HZmGGbrgY+7kPsBh5lTXo8m0wKs+UEwfH4Cp4n1XcgevDEORmBEs40uhdrx6esjkIw5CMZeckk2OUxWJA5Fw/SgKXY6KhkIvNWJJZ1p9kxS2tVqOxVElxnByJzJjMpqPXJI4ux3OSCA1YZfbVrKZuh8fQiS7bCsq5sQRFU2TGRzS45IzHk1jItdkcTYhGy3Tlw+SrF44nq128K4+/6M0XPStRr44TKBaej0YrjJrp1mrnsmvWotYgalqiKW3dQoulaTEFNRTMuMTAwqqqqqqqqqqqqqqqqqqqqqqqqqqqqqqqqqqqqqqqqqqqqqqqqqqqqqqqqqqqqqqqqqqqqqqqqqqqqqqqqqqqqqqqqqqqqqqqqqqqqqqqqqqqqqqqqqqqqqqqqqqqqqqqqqqqqqqQCV9TApUpbKDAKHQTYfea8l6DQMMED0YUhLMBgDTmLvqYGMyimxMIGdACkIFxMChRhgCNIhp3KdVVBB6hKLt20ORgY4ZiPxuTv5LGTiIBMgSzEHoOGWvPYtZiwVCgMmhhW/asK1X5flkDzIJ41TKosyL3A4GBxClHOz8vqO0BQZBVobdoZf5vXVQIPyyeqwBkV//PkxJJZVDp2/u7evCyl8OhtZzcJ0TUqgEsa1lIo1UdQ9lChxxCTF6ICOksQJ9JIc3KpzVKPSry8xPUA3KRbf7UyHoTIsKU3jihNT9uiRDcR5QDkOkV4txfQwVSPYeoxTobGxRPZkcwt0aJaB1GX06WZxitScUbadRdVIfYhqpG2nULcTRURqltPtDD7OxWNsdc7RDmdEKFMfDxRJIdCgQw9spBpZoD1DS/IYMpBqZWOi4plLhgGQwn8ii/AShLBwBWGkxJ5nJpsvBtOZPqn4nEAXRublVc5FMeDx2xKR1GqTEFNRTMuMTAwqqqqqqqqqqqqqqqqqqqqqqqqqqqqqqqqqqqqqqqqqqqqqqqqqqqqqqqqqqqqqqqqgQEAhVqjTLZDRaMLB9CtPEw2EjPxsPwgU0klxpoGlRIFg+Dg0YWGRk5AnUpiCoAYPBpgcJggKGKQGZGKRitZnHG6YCFxhwGkRbFjIwoPMPGDnNUWlUFk+VFxgMC6IYlfn2R5jACBRJUyFT7JfEpUZ6CFwWCq9hpBpIwiUgEXOopNpDLV3iAxzkHWljnzz+S1AUb1IpRt/WuwSvousWuUk/jcl+Rp/wsMuQhUqmwJIpyg4oBwCxt45SZDY4PBqAiwNM4dpeTC//PkxMZmXDpOtubw7EVASZN6FL7D0Ou/q0S4JoK30VZVdh2fgtzInKu25mao8+v48FPTzL1pAzUNNkW4a4BglUWNMVXW8DAXZeZtG4v965ZM4Lszc5K3wjLlr1n4DjkId+cZDDj6u9UaFAj9s5W1DbzRBruTOo83NeiIKYzaOxRsOclP8RAQ9XspFnLG2oIOwE05YZprbusvGtDLqJuwI/qPMFtReFFaEMjUBByVTLrR8TduQkv635M0BiSGZ2YBmJpoCkCwZhrRJY8KKqYMoh6NMqUCVtLawiNTdBKGnJpVTEFNRTMuMTAwVVVVVVVVVVVVVVVVVVVVVVVVVVVVVVVVVVVVGW0jAEBFGgOSEAswNAMB0HExMyPTcp56NEdGAwsRNjB9DCMEIDUiGRMKIEUxvQ2jCzEQMNkLIwOwGTBQAMMBkCwUBLMEQBcwGQVgEEUYAYB5gIABmBSBsYGwSZYUnQlmadH/2GLYhnEiHmcFmxrGMEAoGF0xoQppk4kUHA6IpgSQFTCSZDVlKdKiqFBiRAiIlx1oKBkwlMJRVriCztqZMHTFflYZqaYqmSt1ImlRslfaGy3Kni2zMEAzjrRfwtk26Dq7HJX0BQCcSAlAagUtZKlK4QAUaQCAWWtB//PkxNtrnDoUFV7QAD6eBMJRZLpE1si1pS8LKXkhqSsRjDtNjYi1hdUMM2U2ay/tppKFKfyuUVkvUZS0qND7vo16So2ugr4vSWyZepq1p/oJYYl03GUONLfhqeqM9gRl03SRF4W1a1A8hzk1p0YGjt6jfWUMSm5a3KNtdiUBr4TiL+tGhht3tXcmSnQWuLmtWZErKqFTKBmUstZU7bvS59XVaU9zXW7ONZaU46YrdG3aarclqKBUFAwMXlUoSaVyXOQ6rHcguUvtnMQmb0SgmUci1rG3ep7j/X5i3DrxSuWqAAklCyipgYIOKYcQKfGA7gQZgsozYYG8AVmBHBFhtijXOYxgHYmf3nghiAIlYZaMN5mCwBnZhi4KWYVWCyGC8gwRgVwNcYOeD4GBPAEp+5jmCKmaoCZnp3mYhSyQzWbTQYqMMCI1IKzKgPMbiEMN48GjE41MDANr5rBMAYjGBhcHFYRhAVDyKo8EneLjigRCBGLBkmC8fBAKFgGmimqDg4j4OgIFBEtCl0CQcEBoRhsdAyWDMUIwcDhILGGhQPBhMRNYDBAHAwIBwGDBg0DGGQMlaEA4EgIWBBKCRACXLVgZS2kXa+LARnZiEKCQhMFCkaFYGG5eUwWFCYDs1SsE//PkxP94fDnlcZ/gACAAuCACChECUxk9WdF6CAJtdQnIslsFWKcgoFvM+zV09plai6lEzAYHEgDK3ffthbA1TMBTWVCXbL2omhgJh1mrIy/acaMjstDUFY2qtKIMgJ1Vg4GWg/6yYPUeUXhiNue9yrVHEBkXh1pjxyuNPa3t1A5KlYydMtTRY5MPVyQUjP2Pto4MYcBflRt1N17PzC27Jz0y/G0bR/pGnQqsrY7zP3IemROfL4dZOtFM+BX+aJDrxLQhlqTzNZhbsvjOy5v6zIYrASYqUAoAG4RmPum1N9FVIOjqsDAJG68DuDtWOCJdTEFNRTMuMTAwVVVVVVVVVVVVVVVVVVVVVVVVVVVVVVVVVVVVVVVVVVVVVVVVVVVVVVVVVVVVVVVVVVVVVVVVVVVVVVVVVVVVVVVVVVVVVVVVVVVVVVVVVVVVVVVVVVVVVVVVVVVVVVVVVVVVqSSZcQ8ns++1jWirMaNCRMeGMEAIAarmBiSIvcYcUXnNBcCxI1CQOKDpFlSPxjWpqQanZjQZnSABBhYE6isDETbBTRszckzcFB90xJQWKhAcAkVRsMYaw8yo8aFpEAEemkpg5UCJHP069PJG4M4hDaULvocZAXDSqdiNsUjCJyw7PmJQ//PkxIRV7CqGX5rQA+SCVxVOdWN/HsWstByhEJSIQDU0ml0QduMTtJhL5W/bqbwL513IpsX6fuFp5VudoJbDlSIL6pUUgcEIg6GCOD/MQgR1Vh6OhTZTARFc5hjsvM8qSMOVXcazLtfZ1uTyKjoLVPbhyk+MTL9zMXsNBUDb+gfzs/hOU8/ymtPs3dWd95U1tf/e7/f/h/KGxMzfyPFelukdt378osbfjHOzbwlDgOJF8PetuK2lA1h3+ch+2sPfRvw1uWyCA4bf6Uyls7ke8cIYmwB+K97tveMMZWsb2dxyTEFNRTMuMTAwqqqqqqrAAAGPYAgALAoEgCAvIgAV9CoERgbgKAwGIw+SUTqeFgMkEPEFBwGBqAwYAwAiuhgCYwMw6zBjAjMHJKk0aRuTBqCgLUA4DowMwJjArBqMGUD4wZQTDsbs/svM6AB46EQAlAqdAi/gwBCxC1xnKmae7V4cL0wIDkMoEVY2MorrQZTAKCICDwQSjyMiKr9lBZQuigCJAYxYOQGDIKlFBcwuov08SqRfFON01ToBwSA/GLzd2h13gorlO2rLxUFIgJ5H8mmRoZg0CFhswE9Bx8UArVFbx4HCgUhyMLFCgxN6fDADMOEnTCoEEDQOEEKDEgYx//PkxPFxHDoxud7YAALDIARCxVdKVOxytIIUwzAQNfSuIwrVF5OxxZYCA1hFmrtbEl9RogpIAoIVVglgccZfGoo6a7IBXIxW66042kAylr6VCaim70Oq8seaQzNl6V6wjXG4NsrtXDsoogYPLPAEIL1L2WU9qYyqcqUrdyaQzJQpO1LKH2GKVhQDARWZkLmkgIWBAgmFgNBpMFna6yqBobBxRBFh/JQ48PoGKqAIkYg02MP9NQU0t2xABqhi9RHYeCVGKoWBy2rF407lSHIpQTz2LCPq/dyZtQfE1KWsNzt1TEFNRTMuMTAwVVVVVVVVVcAAAJIwAwAEaADCAC2IJVl7DAHAbMDgIYwIi+ThfEbMSMNAwMARyYFMEgHhwHZgPAlGBEKGYt4uZnPNeGVeE4YEQCxhHAfDACGOg1GTJ9mKKeGrxEn3HJGh4VAYIAqA4qBAcDqwBZhiYCGAUHFnYYWgDBg4MEl4DXxzRKFuNxYG96CFkjLUmDhq0KGVtLikucgvw1IRFCI+81h6sWXs3j5ataGL7rTgqWtOfxNBiMkvSydaG2jjw0lANHlKn1ZYlwZcCaA8ZQoYBqAQxbVnpeNWJ/RGLZmIFBm1IZBRiJgSKgXSmsxHUjHCCHbfgcaZ//PkxO9wxDo5uPd0xOEio0LjjJAlakm2DFtQECVM/DJS3jxIzmBFjSMzQGEQel0mYrhdSSBWCDlSAlmiYDC1cF6GvsHAgJqVhXCgiLTvvfFom6bd3Zj4OCNHVErck4QiUMGIpLqMIS4owNAWJC0UC/iSCCy+X1eN2UcEB1E+saZeyF7lJGHDgQAqN+XbEBVkgmGDhxoixjgC/XjRMXQnIXYJRYVSp5I9jQBBeMIUFx2ZCgRWh23N65ipWpMdhELWYou7TB2ZtpDLsw680OQfchypAXI+/MXgTV/CGJh/mhswTEFNRTMuMTAwVVVVVVVVVVVVVVVVVVVVVVVVVVVVVVVVVVVVVVVVVVVVVVVVVVVVVVVVVVVVVVVVVVVVVVVVVVVVVVVVVVVVVVVVVVVVVVVVVVVVVVVVVVVVVVVVVVVVVVVVVVVVVVVVVVVVVVVVVVVVVVVVVVVVVVVVVVVVVVVVVVVVVVVVhQAxJUaP/E5HHYXbC4/HJvUfQTprWcKsPSGJGAAQGKgdGDgBpdv08gWCgkC8w0KY1iWQ4t501JPEwfAEwhDEWBMUAYLBCDmXNFmkNdBgMsCmMHx5BRJAIBRVWFuE6vHOPLzDjg2g0MOA0a1US2RliYaAJJoF7U/X//PkxHhS1DKvHu7ZPvlNGElqzAwEv+qZkjLmerjBAULAlpnxeiRtPcRR1Wstws2Byz6j1uOOotNAOwe5LXmcoFAAjCzEQlK5PFc0p5qGMLks7jlWldqUUMXoY1KWksHV+nWrG5DA5h7rrW13wO+kMxepYj8QiEs+UOXdVsmy5CoGly+cljYGmP63KYkk9Xj8vppZ859/qsadwQIThXGRLfgK5myrLRPWmqg/M1e9tuz5ivlYn4bfbYfZcr/t9STg4ieg5x3eriwwUurz9evhTv7ODhVX77eYsOXZ7fnV7XoVTEFNRTMuMTAcMPmYZgxjbEAsF4KqwCgUHBC9ygCNoIAgQk6bwzgalkEFQwMIQ4AQSmBIMGDQlgA9jkrfDkFCCUwShIjF4YTEIIzCMEjBsPTPuDzMrgD5M2jjRlTOo4TFkYjB4EDEYSjL5lDVYMDB4ZQSBgqA6V5gUAoJAEzFTMxNEpWoteRrL9OQFgQYB1DEB0LZ3DbZAICAoIFhMFAreu5EGIOGgGHghIZFaTPqpuXfEAmY2CGBB5jgum4skwgQMgVjlnYzagMlfTeh0CBSsIkCmBipix4EQGVPCgkxg1OmBKzczMgwASBgoz6Yzo5QcVSGseG+fGfujMAWIgxk//PkxPdytDZcKO71TGxBAZgYogBYZwSwPAmLJGmUlrAspJR4BDHCGA6eYISwgwgVpgFGmDDqPA4qYlAYVGZAeWaGSSCAMIGLFihgFHhI6hqBQYQPEh5fRlKJCUbbsvTEZZBddibOICqQKuTUNq5Z+0lTV9GDXAMGZC2QtGncmu1Nr0HMKcyOw+tJnkNuFRtVWHrpzsvplBYk3FVKR4RaV9ZD7rq0uo5kJWHVuKg1V7fxlw3BdWlTGaZRwNNv0/8EszWuzx+2tWMaeSLNcOSSLd3KCWdSp/ZyXYVZI7MPSK3xTEFNRVVVVbmVyVwQzsRAQYRDYa1BiOBUowvBYMZA4wwDEz7gs3eGMwsBowMAoIBYiFEZAIwBJQ18uo35R0waBweBswABElBgwFBowcCcyfS03qB0xKA8cAoHA0YPg0FQ9MQxVMrylOVwuM3AWMIQoUMEgnMDgiMLgVMaxvNmBodizT1dOQ4QNITTQaAo24j+lnwEHmGBBZterB5MusYBDBgBehhAOiSx1KoAAhCDmHg4UHDNkEwcCL4IYl2zCDQyosMXiTtcw39kMiCjEQhRdW8KgJCHAgpAyEOAq5VtQRrnRHAAgSbRdnIUCAwgAkBiCpsQZwDZa4xYQyggx6Ez//PkxPhy7DZYAO71TOzFu5sKx+4hlyBihaqYkfM0MBx02Kk4zMzRUkBCMEgasoxwYEmYEStXKpWFw4QdAhgzIQAFUwUdl4BAALBwSpAI4wZ4HCk52ArOWwh4tlOyDqj7Sp27tEx9uT3tkYwPE3Ri6RqmK9GlgUO7g4IUNcdBIRCpl3U/aF/m6sXRxZgtFwUXl3waz1NaGXearHy0DG3iY3EnRljWV8t2Xmx1/l9pvw8gDcd/FOY9i2SIOrA0FtMgaZeNfK94dksbuZRxhXYXhT4coWQy2c7NWs6Buj9VMZnqTEFNRTMuMTAwgd23AkjbwwPDEwxAUzPYsyWCcwaEQwYEYxiJAyuLIxONc4BXM78PEyODkwgB4wGBICiEYiBYDB9MS2iNvUoMyyEDALHgRMBgfMYSzMbRsM2DXMqCzMmA3QnKDsFMQBUMGCrMGBcMUwiMLhTMPgzBAWmDoRmAhIGa5nGhS/mbAGmCAOlQEzBcNTAkUjLYuDBwPTBEPDBUHBYOjLqzejTTSDAMU5gCMFQZgzoZHOdeMrfBhw1oIQgAECMKVMSqNofNikBik2z84jEyhFCQaAsckqdICb24c94cmMAvQIEgQEkYlmYAKhiiqiJGWXKUlUK6UGiyCVjn//PkxPZyhDpYoO6xaqkAqBEEEiCyniBdxAAZaAuHNgXeFwCZw4IUOQCHtDiSgA+AQ8bgbwGB5coSMDCOsi2sIkOzxJMwDERS1IuQe0TTBBVBFBCMxlo6xhQVAruXSn+slMVxar9wxAkWgp/pfPu1TwLDkYkcXrzdDlBjOYEf51W2fnsRhmVXZTJoq5Mka8plKEenSfZUznzsOMyh2VwdVj0bmm7ubTbfa3QxNuzEovHpibgpgy5XFhqN5R2ih19nGsxm5GIXL43LI9KqlWlopW9sbisKjF+FMwd6ROtIKtJUTEFNRTMuMTAwqqqqqqqqqqqqqqqqqqqqqqqqqqqqqqqqqqqqqqqqqqqqqqqqqqqqqqqqqqqqqqqqqqqqqqqqqqqqqqqqqqqqqqqqqqqqqqqqqqqqqqqqqqqqqqqqqqqqqqqqqqqqqqqqqqqqquygqpL9y2mEmBlhMZ8bOIBR803fAMYh2FgUBCyAAlGDAxIxMAGAM1wxQDK/bVgpgIcYaEGEiQKEos3BpZbIcWdmroYev2eehH5BEXSl81ALEVyoOsFh1I5k1CrahJMBS9MZiTDnmn0BIQWIyxp1Msktan4XqQEqcOuv0CPB1aZxVStNgLrtOE+8HRaEuU3V+X9f//PkxJJZbDqKN1vAAucavDMmaUsZ/3Jh5RUtC1BYZXTWmJOEu14GTSWKyp/p9urLoBk0WqxFwWCr6eWNdm1MVNXya1FsmVNOfYv8x9hr+NhdarMJfMfhLOoGcKK3+XKZ/otXvQy/OFNajEreRTKGFNnWcmMtdfmApVKWUu7HUhVc5bmKa2/rDXdltjOU0tA/1Cw1IVgsso2VQ25KcqPsHLybO/tLQsNg6hszTpOt2GaVwX5qT0dmL1uK6uy+w/0DOFA0RZzIZDHotBDgrtcWghqFvrAsNKYvk7VHDNiXSprVkEAEICpgAFnhcGswjAbx4AEwCgfDaOD/MDoIMy2CDzBuBDMI0NQHAnGDiEQYVIHJgRgPGAuAaYIgEoGBJMtAC15lgWYMSGLCwsQICTHy2LjoKy5lqdKfTul8TBgIee2biAKIlcCgwKGiqPmJADNnVYGZsWGRDxKAlQQIA4SnTHCcAgaERcJw1fNmXcZISGfGRlAwvYBAhcQ2VDBh8ZgjmNHhmpgIlRgraz8EtmeGCTGwGLvmYAEGIBgQCBw+aujmkoIkbGvEQjHTJgoDGlanbvAjcmPuhMu0hgLCAcJGTIBogkZWElQQMaBjQTc3dHGUgKkhxEEdQql9jceM8efN//PkxP93lDo0C57YAG12RTbsOw/zWVbYzajGb8GYkoGJzAQsw0JRzR3MHBS9a3QSChgWEABtsKRT5uMKc7bnRqZhJ4bw9GSBQ8ckySoAbWk3Jiml2FFOSuIy6jk9+h+y4kCPxGIcd9t6Mv+ieycDCDmScDBCVhWLmEja9SgXb+uIBAABBu66Ai8u+GVBhA+AR8IJBgEuxymxv2t48osbMhvSLeEZfnVT3sUEg550V1dz7vsrafHWJwe7cb06kZr08Nw+ZsEGflJAehymo0YAFJhAoJMFIS2xVD2DiwcFwsLhQ0KA4Pm3XTAVsSsVTEFNRTMuMTAwVVVVVVVVVVVVVVVVVVVVVVVVVVVVVVVVVVVVVeRGg4wIJKE/FtIpwUy0T0sKgTRDifI9DQ20WVZP3CKfredcMlQSNCh0AzCCyIBBZ0xdJBY8PQ6wZk7cpmnkecOMWT1WpyHHhV/cRtFgEHC9kkTbX2/As2uhflKy2NJ1xdgdpdbJHTZ/H2TM3QRls1tjQC4kl0Sy0Zc8IXRPBx7oA4gDEmdMABBGCJHlUceLQjSjGgkaHULkKEg4kkEVUKhKBMmPB0iYJbpKkaiL+iF8HHIQg05Xws4ERqrGWSBlwsgRgCMU1VzbHEm0OCt4//PkxM5oZDpyT8/IABQEkS/YCfMNswZ2vkQRewyBAQYGGmOGSHj0QKbUGkSm5gFhyZlljUQ9Qr9dZmBAVkanayk+HRlm2GMZRMR0QMdBRUxgBUomDWgDKENQYsoeHHCzBcgWZBBQsWqSRAgASJIQVVC5bZgbGYZ4CvFSQ4ZGcGrAMRL4mGUiYI5QesRLmCHTDiyyYWAni/DN2VJGuK0N4WXr7tPe7A8UBRQDOHaGKNJUYFKU83UQHxdShLt1ZCkk4REYy4BCJ/iWQVLRWRlb9Tdc7Lh4NmzSWmLogduKpk6FTEFNRVWkBrAAQQUqGXKt5TEUEDDTdhEly0YkFKgaeYaIFFiaGyQCpFBTPLGnwUO0IwhiI1oSC7+I8JzIcGWMBRVkLutjUvfVSDqLGYclejCIkS67tp4F6EMgCqZ6YPZBHZPemYZxIIYlyCEOURVMkAzUzZECAA5wt+heViE0xUQCoBdMFDmSYUgsyCHTRiCimGBTAiwSFGAJiRpUDmcNiBIc8wZcMJaDOgjIj0oEsgqYMqtGHwtITUBzcMlm4lmRZGzOGkmgk0duAd0kYIqYM2BEAEBCAupeFxiCwC9ix8DPTGrzZIQVQNSUNuXNAfBk8x56bClsxhMeSmJFGYOi//PkxPpzTDpiIM6zqABmHFDqhuviggwUGJFqjahLckLIAHRoIgyYk0zjENMkYiOVjNo8LLGKoASVRmKqECiAdDqESqaIglzi4qRxulIVChAesITQUwjYFwg7hkyMgdAZ0I1oW9AJ6QkcEjwMaChlFENhwokPLsl5V7LZVYIDwUCFYEnAJecJxKOWhC5YYCoEY4SYyMqtidRFGh6+unnT6HgC+4KVLYmMqAtQEKQCIUJrJwJGCS6poFd+DC0UZWBU1b533Ila6U1XNp0xn1lrKlNEkWYwG7TO28wicTaK2tGqTEFNRTMuMTAwqqqqqqqqqqqqqqqqqqqqqqqqqqqqqqqqqqqqqqqqqqqqqqqqqqqqqqqqqqqqqqqqqqqqqqqqqqqqqqqqqqqqqrIZqUX8y4WAUZAgwiBQw9CowzCg+a3gyYCowGCICAKAgPKwkTZMQxhMQw4KotmKYigoGQMEYoDZhsTgTKeBxEeeaCNJbILtgxYFgEyzyDibaTxfCUNZasoI3GKymiEI7ZiQFWNHEt6PRBiQUVKxRCKPWJ1ihBybj0ruhAzNC5LiuCv5sieYECxxeT9JoqBpEooqduytEvE78ojboLdVuC8kVlKFfSExiMYEfyVYiAudh5Rxewqw//PkxLZiTDpmIO5w1O9jX02DAkwfFpZaUQPQSoNDhx4IOEYSGIJbVBKBApmgkhxIECSdQaa2/DETMlWl60AJeFpS1kW01H/T8CjV6r5ijW32elALjjGV0ISUwWCwhfLFC8xZpZK80eaZ2n6gSHINvSuXq2sTcNgK1YYa0vKAourczZdQqB15xu7EVyl3WAyrsSYTapoWw2o3GZVuXzyeeZ9ZDAMCw+4TYmdO1Nxqq+7+xhyW9jsRjEbp2lQNInSf+c+jswDUgK3ckOEVjNn4LcWcp6sVjVDKZVXtcpt0dy7VTEFNRTMuMTAwVVVVVVVVVVVVVVWBGRQJD0CASoIBAnFRUOEaDBy8AQEAcYwQHZgEChhKaJqi3Ycjq/noQEmF4WAUIwSfxm6NhhcCpigJYkMSIxhcDBjMTgUR0w0AgwZB8wRA4DFa1zOGY8ubMIFEPokYIBpqDwWIDk3MuEYUDQUw0CEI4ZZDH1ThilCKEJeAzQHBhSZ0JmaPRlQ4bmcCAHMCCwMWGIAYCCDAgQWC2upYTbXkjX4Fjy6JeIvcARE8nfVSYTHHYhlfI0AnU86VKqaYgoCGQCRAJJDnDbIBiarjD2CDxkMGqGOGCsDXILyjcJxEAFtERQ9RBBCYco8M//PkxOtvjDpQoO7zDmfGDRmLDApMGHNl+lyOoylZTEiqGoWKBJAl7lbWVlmRxEmRWKHBhYFINFB1kExcxuaezyJzK5ghrE84MpuqBQ1L4ssM05ENXxauEsbU83NeaODcKR0gQIsEtVYUKAIcGhoAFuPMNIpyBwgGHfp2IDVAn8gAQASBGgMIZk0hQSJRWdTTHinpfoCKBwqw7JEAlxgTiJWsHZcs10Z9bbgtYfQsgqZnEMNn08KZCFrjxdwG7QCpvD0OQ7Iy4cVh+OtPdydrsxjbutygSGGJwJDcoxlWqlCqTEFNRTMuMTAwqqqqqqqAFCwg8AhQBTasfGgIMVVTPvzmMOQhMEwTMJA7VC5IFQ88ELQxpFswEA9DR9RCBpjIdx7EYxq0IkQwMejQLAoMJZikJGkZcatNw0Wi+wJA6PAFN5tkgg5TGEAaYAAL4oIy7xnp2GkSMYJB6S44AwKETCYQNsb42ytDPpQGjcYFAZbkRBQx4jibtnMaa011G43iDjKdibbG7UkEAxiEsSmmVsrTsNRAcHBwLsM7iDmMgc9fjCXfbOv4qIm6InWvJuTc0+wIgAhiyTJYtVRpWDMsU3gVVhGRTwEQsm+Obnpd0wiTBEDRCVs54TYJQnKXl8y3//PkxPFxPDpNYO8y0ovlGZPdFFCOOoViBgzilmjwS2mIIfQIa85VgOcwvUr8vyqoASVWJRJHslfiLKbsqi2Lws2uR5eiOKw7zNyZQyNX6KqghbgVBAIqU4dmtBK4zTEASEk2VQckOHBQJMVkKwKY6sAkADjkBQWAATAFAaAmeTAzzdGXoUrSLalDyuUXBGcZbZihQohBYUwNGNGMqAkR6A17FSBYMZPTXdielhZRIVUK2k9oqkimkKgpzM8bE4Sb6eK7VSMSSdehl6qqu3gcd5nUu7aXCk44JppfKHCUonJRTEFNRTMuMTAwVVVVVVVVVVVVVVVVVVVVVVVVVVVVVVVVVVVVVVVVVYMABxmQgwKAdQIwZB9FACguDAwALjnJ4JgYExCAZUBcaDFHIwkDc9YJYzAGowrFYHFaIwCCwamCplG5ximf0wEXTUCYHGYDEzELY9wJNsCEtEJidJagwYjN0ViaXHgh+XBIAcGAwFdzMwdBwLgqAFr5eQ1XpM1AygPR9XUhNBIgBTcMnTcLwP/ByE8z3C0CfL1v280Dod2zMMnpXBwwABojIOgSSw3cTfkAFDfuYeVrDykoiOaA/4ObqgIAIBmlrDuw0GHHLKhwCXTPcWJsLvgEgenBSYQk//PkxNdqlDpW6O7y0BcJzpWBFAO+wOBH8p2JjpJiDBgkhbml6tguWGOPBAElbGuUEsDX6ko1Swa1Snac+zhTL6uDHI08lWreh9uj8LJgGlVtYg20ERZlLTWfDp4qs4IiBKhIqOsRTUHGGCoY5qq7PlM14pxBBLpJ0oSWxJ+F4k300i8TPmsppoJTpSS6XpDwWCL6MONJYQrJgJeyJTlfjB1yobts/iw6KAQIsZf8+8CtUFFUpN5NBWxla6m8S/lTfROMUkLa07TB3bhySw5V+DHEcXFmMtp7NS9GWxu5A0uVTEFNRTMuMTAwVVVVVVVVVVVVVVVVVVVVVVVVVVVVVVVVVVVVVVVVVVVVVVVVVVVVVVVVVVVVVVVVVVVVVVVVVVVVVVVVVVVVVVVVVVVVVVVVVVVVVVVVVVVVVVVVVVVVVVVVVaUhCUp3VSySt5wUbioHt2HAERjQximIrCCeB0gFaHtMBADojM3RqCyGQFnRECjJUbPAHNKAGLRUGMGFAKMmGtB866JJIKC1TNLLrK2GHpoSPsGaazpgOl9nyk2soYCXx6APh0E12Kw9MR15RPgs9tZl9s33cVESVy6UvuxsCNXjL5C/0RXa6qEDbUXylpTTh46/I7EHob+gHWNN//PkxJtbpDqDHt5xII5SOlD6h4tEFTo43EYNcZnzXI5A8ZeJfK6YeeGBozOvWkSppLr7+uy7kqHBuFjfnVbnRj05PyyJt4ramqsK7VHfa7DVMwHKkp4aksWyikivQ6u6Mv09coh7sqjbgsgafCYZS+f1310P4zKC2SwHK3SbHJqk5DS3Gms4hMuh9tGTxyJpSqRlLWYeicvWkoDSMSlspg+Mu9FocfOM2cV1cuuBupPiU1NFghGlUa63ZeKBVglG28Yi0mAFYmArpp7lqEJmxeac1xWDxuUwZlFoDispapF1TEFNRTMuMTAwVVVVVVVVVVVVVVVVVVVVVVVVVVVVVVVVVVVVVVVVVVVVVVVVVVVVVVWQAAPuWwsv0zCAKzDUHDD4EW/UYBQDAY+D1wyiIYAAEBoEKUlUCiIPGlVQaIGRe9hRjIUjRCSZMcMsBdBFNSkwABUtB0EGbkqdAHgBCKLSewYDyqBTCRrMctYLBsIA7YS86SAgG5mZIhBeIgUkUIgCuAwo81EUSPAZQDR6wRbcygIyrITJAY4rAx5z6qiphhKha6E9VNC/YWDgoEPAEzn1Yc1lniRTX4djOLwtJAgtCF13bgN5JtHqThgCNrxgViTCjHpBpGJBYIZ2wREJ//PkxM1oNDpe/O80XDNYjbRynmdK3hQLTKtQXoeQaisupsy1ZXDjliEKHBYxJnbc9rdI3a+p070nbA4rcmnPxEIyul9oCdaON67DtVYipgyyuvuyXaX85T8NgcNgAMBlAVTGEOTIVOWqqQX8tRHpXqKqu1rtXYOs2NOq0xOKIwdHn1lzlPrAlM/zDrMCtZiLwiIOxW4/LX5TQPAy63Az8yGBIJfq3DyY8Uo4m+g8KQCmEBAKXEkikrkl3qEA0uKgXCXAIgbmtIVWaSwNxS4LPFK1BmUULWXanYy9ziXeQc0FTEFNRTMuMTAwVVVVVVVVVVVVVVVVVVVVVVVVVVVVVVVVVVVVVVVVVVVVVVVVVVVVVVVVVVVVVVVVVVVVVVVVVVVVVVVVVVVVVVVVVVVVVVVVVVVVVVVVVVVVVVVVVVVVVVVVVVXTAFVniYt1mqdYgkyWBE3Eh0OIchuFKxIOSGk7SCgCYUSGMVhovRqyl8hIqBlK3ggG36XZixJg1hhlIXAP01BIcwAAgIiES9Q0OfhUjeNZUwXOr5aAICmJ5mK2bbc3sZE2BCWDB3UgFsiZaiySEKa/KUyF+M/CC3CceTrQbRlDS4ElUPu248Nu3CG5N41t64GW3IlnMo7Bl7k9//PkxJpbbDqHHtZfPBJljDH4qLwU0e5rEMNcYYmA7KQ6q4MGRoc8ACLofUEhmamGLwKmWYIZUELYIkLYSXWMXjAkhyJGkkZQhVFMsFRkuQ8SCAwhAUI6iE9Jt2G8VgZQ5iGbEluNbGCAEo3ZmhhJGcEdpe3h/mWyMqHlzYO2ne+HrLmzx1Mwrs5zWMiYvhYGRqUkq85zQPeGfhcDkWn6vP4yFYyK9nczuFwQw6HFnSCaXZxyImC6glMaAxz+HkhZnHJDbIMerFFLfGZIxdkGwNjcciERpk8f6jjMrOkHBTs6TEFNRTMuMTAwqqqqqqqqjTEXuay5Zjmp3K5oAwcXSnQmDQ6OFrpHG5lnKgyuodSJazdT8jxABVtU6T3lERas3Bu0MQTDDE4tbh572ey6QNDak5KElERylJIuoXrCsQTGFRRc9g0oEQQwgFYUvGMB0mHWWyjwttYYtCpGCkAUNO2yJmkYdZJ5OseKrUhowAUEh1DH8TpoWooBUSn2kqRACDrbacuMsgokDRSNjnF41VgAPC4AiRyUoKGBFpJKDJ5Fm0zREIaiYAOCpSdIOMGGBmbgBcYCA4cNVhBBU2RYxKkwKczCMwRgDNDRojS4iLYhGHPAGFMSsKIBnV5KZNWp//PkxPBw5DpUANazXBUeZ46Ysud+iIToTjMsUAnE8LYC4zUHDUnyUQZkKQKR72CBxYhgWMOnB7AEBjMKh6ImGpMKrQ6WYAYZ0GAVoEQGiKApEGODOIjJHAUYIEJtQoILlgGyosuiwAGzSPCzhuAheondGBF2oqmgmaY4GuAKpgkMSGSBbBCwDNw+tAQCBDsBFEiIIl0goWnMRMAGGskXhOFUYKQpMsBfLFjJRCgg8EIiRpAVJASbjLRUvBSAgTIiy4xsUIiraMMFHhFdfRMW4qKIOGYqSBP8nalVDqh7cVh6TEFNRTMuMTAwqqqqqqqqqqqqqqqqqqqqqqqqqqqqqqqqqqqqqqqqqqqqqqqqqqqqqqqqqqqqqqqqqqqqqqqqqqqqqqqqqqqqqqqqqqqqqqqqqqqqqqqqqqqqqqqqqqqqqqqqqqqqqqqqqqqqqqqqqqqqqqqqqqqqqqqqqqqqqqqqqqqqqqqqqqqqqqqqqqqqqqqqqqqqqqqqqqqqqqqqqqqqqqqqqqqqqqqqqqqqqqqqqqqqY0WGiSBVRH2MlIgnHjuZHxmsxQlPYEAuu1OShlaWVR2fJEU3XNnvexR7eh/2j5uJqXn0dT2/NedFMuqTksrDqbV5jehiha+Nk559//PkxEtHpDZ+4GYf5JcXKfUoDEbS5CLJVUF9S4XAsH0k0iOzN6rlK60O1ZZcae3z/RuHlMmLQ0+y9n/aoyNdCoFHFYIk4TNmututB721W+oC+SlQmtqd+QlUxeMt8giLjK6VqQwDJDJEzLeqhck4DuJAiSEvxEy6GVwtBdCNH+TkKCSw5DQOVYJSXUwi7opXEqUZ6GqhI+UWBMi9S65Us75bQl4X9wOFRKg3B1OzdM5FDPdoomR2SBqYZoIagIMBFtyOyeyTOFiXZPAMg6CdKZfNxpw1sSvRS6WF2hTjWOuqTEFNRTMuMTAwqqqqqqqqgGci7I4fldC/lNMTUCz8YikPNZdfK1JHInJHG39ljuN82SVssj6167Xn4dt9mRQDKcqVypS3Di53mvOA+8og6H091kNgUSX+pq6TK2sM/gZxlcMbWMxnjTGOO1FWmCITDX3l7IIGn4cgNsDCX9aMsGtQrGDUwy1RR2Oo97aAvYv7TsVVXBLwuVAGGTA5gwy716KUBZiXoKCzCQdK0HAgXDHYMEBUygEFA48S9LngQKMEYiwHmYAxj4kYeQmdGRjSAv4Kihj5WYMcGpDhhBiQBZAEAlAGCoWkSI8MHQTLR0wcYMcJgoFkgKYu5GcK5lcI//PkxPBw/DpVQMbz6HLjpiL8YuqmdlZjIkNCZlJObgWGZPAk6AKSCwaY2TmbG4VBTOjwxARLumFFRVNTJBdEYKiBgJ0YWFGHjYkSmBj5gICZ8XkSqCiMKj5iZKFhow0DDANTYIH0Yy77JDvZKqJ0CgDkBXAZ4xCxIgEEgVItoZIRKIAQ0hY6KFnC2Fkgx8u41IMBEChpECKtzguEBjkdjMEEe67RKwQkGzAaKK1V1p6hg5pIRs3RyB02AErBUYZCMMhnqKr7F2F/qXgAIWAgdDsIkQEcvVPFNlPVK1Hss8pxTEFNRTMuMTAwVVVVVVVVVVVVVVVwBraC6vwoCI8KyppmInpuL+dAuBw6IghCiIL8RzBA0JEhgwEhm/TIXjbEnaXjHgIeAn4dd0FaJWuRfrXIMXk7LoQp9YDgRyKeNtUTMdGYXMwxNFoKlzYjBiVUC4hZxDUHC0EbRi8CAJp0vRFT5UcjKXrPJYrMlWpQq1ia0pezNASwxRFTVj4IDUiJC42skQIqgUmlNm2LhpVhcPGPVK0F8EErTU9iEIiOnOpOFIOkIgSdDImLGKPg4w1ZAG8wsbARNNFoxdMIamJSgYQVCBQSSdELM1A4w5cgMAJ6bMCPKAE7Fw4ZQMmcMvFB//PkxOtvxDpdQN6zXN8QBGnYBycxiEwDk4sY4C00Qk2UU02E0ioCoQcZMlrGrJsQRkTAhjgbQZJSBEhkEagQQCUxRqCJBfJGwAlkZ1NUnwQbMsJCg8yhsworA3KYWDAwsJLkwSUOFShmAKphGkwFWo6BjaGLVrCqamgGrYYwKNiA5G1XcMKGgQkMlEpAM+BTBopNVFAv2tExgQQONOGOWDCgqEMHqPByQIJLrMmTpC6SFQcEKhMaMMgcHGQkDTBDBAEifpkRfNkKTlVlzfKkGSGvs/VvLcpeL8bYRDtqx0WGTEFNRTMuMTAwVVVVVVVVVVVVVVVVVVVVVVVVVVVVVVVVVVVVVVVVVVVVVVVVVVVVVVVVVVVVVVVVVVVVVVVVVVVVVVVVVVVVVVVVVVVVVVVVVVVVVVVVVVVVVVVVVVVVVVVVVVVVVVVVVVVVVVVVVVVVVVVVVVVVVVVVVVVVVVVVVVVVVVVVVVVVVVVVVVVVVVVVVVVVVVVVVVVVVVVVVVVVVVVVVVVVVVVVVVVVVVVVVVWGmFaFYggAQEAUtcilUZCuUwGJkhPk8OW8+WN8iBxZQ8ALZxABQVHc0LPE0xTEwkXcz9FExEFoLg2IgMCwemJ4pmCAKmQorn9IAHR6//PkxExH3DqLDO5Y8LTNBJoJGTAGQ0g6jwWIm/68EiJbR3Y9FEMyEQIUBp4Qu/IcBGWlCRgOHR/qNJgWvNyh+XLXxW5chVJedizJduT2VsR0cwHZiSkrJSVrz8tlh/YUNOjjSKVvNH0LhgCBPW0Og6Mz1wKIJiWFQXDtCtYXnvJ0hqf+ulFWPD189hMjoqklaSV8JytZi/2uZPTHlRhDfTJFLz2WZOaucn3mdKpyWWGnqNQL0L30OleYjpmQ5HlXp2v9KGd9Bjw/RFNewhuuHMKK9tvAmgHhbMdYemyTKNQqTEFNRTMuMTAwqqqqqqqqqqqqqqqqqqqqqqqqqqqqqqqqqqqqqqqqqqqqqqqqqqqqqqqqqqqqqqqqqqqqqqqqqqqqqqqqqqqqqqqqqqqqqqqqqqqqqqqqqqqqqqqqqqqqqqqqqqqqqqqqqqqqqqqqqqqqqqqqqqqqqqqqqqqqqqqqqqqq5wRnhHh2s22nC1AIARKOVR+BIjVMPQICA1WNMsj2DgGMKBVNaFmNw4CNqjXMnTwMPwYMDhLFAGJg7NSHOMVglBQgGBQPmHgCGEIHmCYEmBgAGBQvGNJmmTgiiMHlLEnEOIMBMxrk/fQyl8FYBo+BAJqRK1xWqeV4YaaD//PkxHtTtCqbHu6ZObIJKisGuVOUqjjImQUhaVcZNS7ok6kJLgFApwJY2r5BU0ZomIxCI6sFuvPuko2/ELhiZwoIyj3CHGratV26JWMFgJ3pdP9m7DLmfM2jccjdZublOjA1h3Y1Drlw3bltLaguswlIpSlrC6r2nAdMahNDZHruLT9SusyV1s5NV0NnfivvTFi3Y9gXQRfi49cbKnLvhTmKp0hlGS7COpCD9UcHMEn5IXlAtNqXysh2dMNp7hsYuxPUeWXJsUWZG6mJJAS+61xw8dfOHz7B0fUeh/oV0KkWgYKzFpj0vAhzBAChgJizmB2HEYEQAgcDwWmdmBKcwDwfDF5DRMCUC6PhgBSWyoDA/AAMNADYz14zDLCENMF4IUACKYfDcVRyBoJGAACmpIkGJhcERNmEABAoVDAoCx4WDBkNjfKPjRsqQUaiwBg+EhhaD4EAkwmFsz4K0HbsKhEVQHMFAkDAXTNJQGMIRFMUy4EIBzLZnUaym6CgAMXBDBQFOKvBnfYJWgCg/FhELpSO2XSmErgYLhh2AbhsBMCwSYUgCC4HGAYLgZgzAwAnmBgFK7DAWQHBWgAE5iAa8mMrSuuwBDZ3UQQoXynqUIVwpEmDDme4A5o14Lkk1SqF//PkxP91pDpQoPd0+l2mBNgraCx7/lqwsFh8tWLAQqnMuJBgqGnYQBIkF/BSeeI4yZHcUBrFfdPhPMFZEp2JJjuQXWRlV2WCS+UfIQg8EDWmrIavBTdxgBGV2ruf1DBgDJ1AUFnpHQS9kxBoywd+ENTDgh4C1paACcKsQdRmDDRnxTjGZJjA4IbFq0WAxSraXda6CQKJrAQCBAA9FkiDp7IqzTDwcJGRqHdSLiVExWCyhXqtrezC138dRv5tosrsxmGlAWgrSZ+ySkrS6+3J9WXQ67WUzi7vzkdvalb/W4hOSLVrKsEAx/bfww47DAMAuYIAQJlRBWDQixgHARhgAU6penenmYGQ6hhQAKGAcAYYEQCYsAmHA0iwOxgrAaGI9SmZP5GJiOgIGHJFmSIwEQ1g4MAKDZpVZZjYK5iKEKZJd1YYKg4AiQN09KMphSCoOgIQDA8ETCcEEmUDDDy44uiNyIgwlLfMyaEXuJUk5BvMlEx4PcyIQMwkZBjIRxgdd6lC3UaW75hxOYQDAIMeVckvexTkxNGM5GwMVtzLassgJuRg4UYSdBCKiOQCCXQ8DokmEoRza4aKNlpzAQNEZvUOAWGTRj1SZhYeBgMIDVJsSaWKFpmQMY2NhDACiIBC//PkxPt1ZDpRQvd26ECgQKAJgrEGa5mS4acOAoGL6r/LamFB5bIaDTAwUeHiUNUaS0IRU0AnMBBjFBIeMQgJWQ9pgJACjpLwGgIGCwMFr8eIKAYEEXYT4MDCU6Eq0o4BW4khFWkS5NFhyZrzytsT8qAkQAyOCnWfxdRZgsk3NmKeUMoBIZZ4ABkuEsxFMwgBSJS8XUgFEAKvJTtbSdTc16MwAQ03RfcPsIgOhfctwweIxd8aRsbTklLFbF4tRCG0xmb3pRNR11W3XQ/Mvwfl+NUrJp3ligldDL5uPxuV08Ys0s1DHMMaeoBuyegdR/BAACMguGPSXmYQQGBgRgFIDHzUFS8MAQBcxCQwTHeAWMBIGgwBQOgcAyYAICRgpAEmAAEIYgTzJmBPqGQEE8ZgjganBICo9MIgoGhwMLzvO9ppNdxxMNAnC4PCEJwMSxiIFhh8XxtHcRgENIAAAQAYVADEgBbmMgYkEmQZ5EtDwGueUPGuhQYcIQ5jibEYmzhsTdkdjGwGDGqQdYZ+wlIQAiLGH0aY8qpobJQUyZBLPEwypY2Z98UigSNGMmhjAIXMR6dcwEDBQyFzk1RBMPEg4gWQv1HAGAhjgWY2QCS2qJl5ZsZBS7oAAmeAEzMKAAAA//PkxPh2PDpIAPd26DjioWZGVGAJglWmjJJ/Z2YOHpurvYGYAAAwGMAATDjYSQxYKedTcWC4BQGGBgokOKWqgii6USKcEgYhHgUelvjAgsOGS9YYJl0CgTSEUKXewlS2HaFFGibgrU5rJGCMgbsFwFnkHxmllAqAL2Ao+HF2IYQhgcoYW+MHC0tQUio+OSIgGAVosOQBLCwGq1kyHBxXPAQCHHCmgKFFVZ0vol4AQARhAsAN7DFESgKp0QEH14MTfJZktY/DjFX0UBjUBsQd2Jv1TOhRy2ahEIhycnHLhvH3cmJ6jl89Ke25De5Vv0xBTUUzLjEwMFVVVVVVVVVVVVVVVVVVVVVVVVVVVVVVVVVVVVVVVVVVVVVVVVVVVVVVVVVVVVVVVVVVVVVVVVVVVVVVVVVVVVVVVVVVVVVVVVVVVVVVVVVVVVVVVVVVVVVVVVVVVVVVliVCgZVtjckokRNQoNdIZm1Jl9MvsEUg+gpBNBxZ9HZupglokpSiCCJUAKnvP+IkJyFYcJMmUM6eKGoQPa8Yted/wY80hH6w4jhDTgIWIzm2h2XwiUF3AskF7gidoaRaSLVUi4DCgAYk4bL3EiNuAUjVoXYu0BciwboM5GgU34W2OCGAQ+pQ4quW//PkxIpXbDam/tZfHvJezhZCJiqEGI8vanWhoy+HHviURZLLZy/Ru07ceeVr2cks0CzmzLCqDl70cmGhcQFTQ6XFc/JfS/VhoUogzmSsuas6rjkiMA6SHk0IQaBYQmk8Pck4TI+2ojgVAZBwjiIgZ7UwMiUWUgXhXl42p6uKjZW9U9eVUQt51g+S1M8UkHwKMnwY53HGf8IjCML8U5YDNhsi4X5UevPU49srlOYicJTEb7voJ4Naw26Q5ncKLY31WrkUXVWLSGvYDFVt8E4YsWC0rTfK0H7mK4WSiclX4GYaTEFNRTMuMTAwqqqqqqqqqqqqqqqqqqqqqqqqqqqqqqqqqqqqqqqqqqqqqqqqqqqqqqqqqqqqqqqqqqqqqnYIYMAViAKmbkECAOF3IUwMQBGNpaHGHpw7sZASmCIBhTJATUgFAhqwjZTGBACXEJJHEWBETc4xMxakGpioCOEJMWYIBRhVxnuZrGYMFAlMAmJkgyxjCCBZILYR4UUNDQsRQcmoWmLbBUiaCc4QsTE1As+iERXSvHGFdkBqtwgoDAgoJckjGjoQid+baGASJemgRUGoykMI1INpfJXLFqJjLNTOBqi4Ze5GVLtcqexa4vnt/YZp25QxAb6wRFHeeprT//PkxMJlbDpu3t6weFqKuMxRNMuQwUEgS4ckIEBloggxqDaaNKpQuBpUZgFUrptbUea64zkLUX2xZEFL5+FyddWVq/lbSyYTUlgGyImuDpZTCow6jrPdDj0Q8rt2ZrGF2pG1+Cp2nVWbRw2qIdi96K8DJfCFLOYIVjXWmy3kWjaTLGzToBPHDLcRDToZi0QecmjOOMwdPB3FYEwVnTXFGoDhl0GXRaetu6yh5W1WQX9HgtsWYUxfVT0vU+6iqq8bi1VnNHUslDMWUxWG4DQ6K4XCzmUNRlT6WVuP27LcXjitTEFNRTMuMTAwVVVVVVWGG2S4VipExAIAzDAIC6VMaBISI6RpgkFBgHXgYFBphQKBg/BIgMKgcwcEkE5hERmDjca+nJjEomzUiIiU7xrMTczZpQxxXMzJTXWAxlEMTxjAyExMpN+Vzmy85+AMGXCUkM3vjXWQ0YIMofTKwoGHGKWWSPUIMiMUhHcedCwLNxIERgioI4SBRi8wBEd135cx9z4+ikuRzkMXWdALhLBFYjE0cnRIgiQsYCa0ZQ5VKMUsyQUgjLlS4CwpMALVGwMYohKAmwkiIhgw4QhopgAphwQKXGMEFWMlHBzRorESJogAks+agNsf8ximCYRmtgvc//PkxPFxFDpMAOby6PCAyogNIdS4AWAQ5hCjQzN0TzLZJB1/NeTlS7GggwQzyi4hhhEUrOiEtJ4HODJ14rWEYw0QRSoBiKMCDE40hARS84BRRHABIsyjQFsk0/qnKLqEtOSqMAxkRoI9hgjMi2iFoQaNJmqEzAwjmoIZ3jALU0lKANACWAFNDHGV0harlMFijRmvoZDJatzWmcM+GBEIwqOPAPJg20Xg/JrTcGVw3CHZf9W5Hl/W7R5rGbDnkeefisYkz/QY4LDGxR9t3+tRGQsqYLD9HKKR3IU/jtyKltdVTEFNRTMuMTAwVVVVVVVVVVVVVVVVVVVVVVVVVVVVVVVVVVVVVVVVVVVVVXAAAzrgkAEDABrhgYcuowsFMo7D+hwaLlkLfXUKAAUAy3wqgnvLBlwMaaMm8DBEbBwJlBFMRGU5JbjSqvOmpFBww+TTGY6MiBwAGYwAVAaczOhiNGMw1UdxKhGCQGZhGhQXVcgpvlUHGAwMYxDwchGWdMcWqBXhwFI0SYL5l50GmCMdTjRXTnXK9cfX7IX8Z1cbkv6FUbpJ9IDkjXUXyXVLniMNJhz4UWrZQogDuhJQxBAaakqnYnmx4x0kBsPJ1Fr0Z18FzF8lYBjhoEQQUFRUEKW8//PkxNRqBDpR4t8yzIAU2Bwy1AyYZIIIKEkwCGZ7BhJhckezBwYAYGpk40ZwYKGFA8KBkNi1RMOs9baSw6SMCsra89i2a6AQDNKgQvIkwEUJCLyQFDTLA0OCIM8z5Jpv0600WSppyllickaYYoBaakW8BQTblp0GUaULDVHZ+6yE6ovtMlSmGU02Tq01kwy0cGP0lUnC2qe8nVehE/0SW7D0Rc6Zp6KPvTAclguehD6szpI6/8ZhtZEokiaj5UDfwDH2J0jsNQn4ys65FF7TsGt9OOE9D+VolQTV6vDMvoYNTEFNRTMuMTAwVVVVVVVVVVVVVVVVVVVVVVVVVVVVVVVVVVVVVVVVVVVVVVVVVVVVVVVVVVVVVVVVVVVVVVVVVVVVVVXVKMl40kUlCIYYGEEYiML/BUBi5AQc8Bv4IjyTpZ8tgFwAQGKYmFoCGJIqq/YjSqihIBCwwJF0yPBMz0kk3BDow+CMLhcAhODAOJgRMDAJLzjhACRDGDIaGEoFG3XCyMGBDNg1ZDB1CGGziUMSDjQYmR+cgyEEyJlAEkUzp03zedMFYojOLFmLda1A9iKpyQdRzsFulDLWo8ult1jOUxJaSfTNwaAvALOXleVgJaIuquZukLAwNSS0VLY4//PkxLtjvDp+Ps90WvosMy5Ypc+jaS6zuPvmy6MMKVWtiICNAWnPXD8qsJMRnCmbpYsyNiAMCLUljSnKY1QPC7Q4IY7EmbsnQuUaFAaAhk1xQFgpcxi6xaSWLLZyylqDbQ3nXYitlyo23KVTDcGvp8sjRLQmrVUdvpBM7WqpinGxGUPfC5W46fKX1n4eo24Qy0WKwWwV8sGU2J+PyuabJFYlDPIlKI6+yV681jICUck4GIMBJlQ0YU+FwrNVjKsR8XYsDABa8rUN67KGCtEIjuaxCh2vWzQq4p8YdWsxSLNqTEFNRTMuMTAwqqqqqqqqqqqqqqqqqqqqqqqqqqqqqqqqqqqqqqqqqqqqqqqqqqqqqqqqqqqqqqqqqqqqqqqqqqqqqqqqqqqqqqqqqqqqqqqqqqqqqqqqqqqqqqqqhQAwDWwACLeuo+7uR1MSDUJhhOVpksIKcDQHHWAiLdC25hERRoWQg8FxeUukuhCpfgBD8zkXo6F0Q1ZFwiDVrwOBkKgGvowdBMvMYKtAJCWAQRdp+WAvDAYOHm0kA5tIk9GFqCKaKaGOCGd0gIkp1ag/VC/7ZEEQLK1Gxq/XuPqDmExmkVaShahbQwLhpzPNzlulibE00EDFdSLWTqwE18EK//PkxKJdXDpqvO6xJAdkt9I7FBfmHYUvRLL0sdgR8IClC7DKMGoBQUkYpFWV3WVLYMQgSMWDG7CgbRFAzRAeoEbLsx+cZS5CMoGQjaLCRNY49jOH8bQLjAI0Jz2tcklFEnHQXZe/7YI3I4nNuzLnAisTa80ttmuRaXO2nOoGtFy4AhNHJ3He9616xl+HbpKSaghs05OPvKrT+wJGIHgOBM5bL61FBbEqrGoEitNK9RlXEPPBDi2VKGvtiSIMgC3zNnEcdQCBb0Uh3GbWrjDtaT07hx53nmqTcvz3fk2caxu1TEFNRTMuMTAwVVVVVVVVVVVVVVVVVVVVVVVVVVVVVVVVVVVVVVVVVZcDMADzQADgYDGXoQI7mAAADICvoQgCYBpuaABcmykO9BCAA0BIQBZgkNhl09hlaCI4BpIAE6NAgkooaGAaY0/MaJFGYrAUj2zhAEyxgphUVBsxChnwSZgUB5MHyYICFB4EEgExRIOudDVBFYaHAsDiEkHmkykTABIbzTm5mBioOxenl1IrOY6IjkAyq1X7jNG6CKAEKBTqxoHm34j7IAAQNSAa6vBN6DIS1+bMFcsLAJFdNxyHZdtYMxyy5ifNI30p3G1ThQJLdXSl6asFPujwMGGwAbJS//PkxNdqxDpm3O7zJIa6QkK3RhxbwLICxIBOSNQCMQfhJwyEgiw1RzUHLfIhJ9NfCiBtRFGgZuaSoJIQXSfZgkAnQCTRCMmWWWWHRVfl41zpnrocd/+IUIC2pSiBNKBvRDCh0thUSTVZMrCypcDMoKUEDhGq0kAPk5cMug3j6prw3WWbHGMyJ5kh0Unhp5uWBwUZZu/ajTUZJImoAoR9WcyBpTuvTbhplLiQ+yhuRdwZHLbCBgqNigCGzgvNlNMOR4Z3BTlw22d2Yw8zZU1oFZ+37JYDgRYzZZyQPC09/a8lTEFNRTMuMTAwVVVVVVVVVVVVVVVVVVVVVVVVVVVVVVVVVVVVVVVVVVVVVVVVVVVVVVVVVVVVVVVVxRIwBom1YBbgqMGAEhpC87hbgYB2lGBERSAnWFwKJHhEAUkAFycx9BMZ0jNusw4mHQVLtPct+OCQEBDChs7zhNFYiQ3NKCCIxMUHTDBgxIINzIjLh0dChoSUsVrR3IRIWKDZzcDMoiBFul8FGACHmnmJlQkcubGMgQEGDEgoHAgKCEIsx6I6x0UGo8jAJPCQLnAJ8RqgYNBAlKFuyv06HCCgcKnDJgAgU/2WURjwyMUUc1BwnhkcplMoo1ZAEqRc3dsSmjYa//PkxMZmdDp2/t6xZLpazCYBlEOMRL1I8loV+vvL4GdZExEoGDStcR+WmvSXODImkxhAgGct5Yqm4IWiJBtAkUqKSUrlKqCELKACQwgViiMgj7wPu8sefOhlMMyJ/H+l6mLKYzNN6195HGgUti6LSjKhJpwp3u8F/P4xJykvosz4usXab5Ur8P9AEdjjjNei6DpQGHpRLmSyOVQ2lSX5fyHVa3bXS11sSeq9HTcVnULhK7U6mbwiIM5MaEan/g6Ho9T0jEFTP1Cs2ZL+u2IOl0L7UTVl9aYdmBLN102o7j9lTEFNRTMuMTAwVVVVVVVVVVVVVVVVVVVVVVVVVVVVVVVVVVVVVVVVVVVVVVVVVVVVVVVVVVVVVVVVVVVVVVVVVVVVVVVVVZQSMCyTQvbGAhQa7KBhgmiQARzMVi0wUETzJjMfow0UIZGRA0aGhVEeE4aZ2bYcfXgYKEeFwECi+QgCjQAtsBUhv3waw4ucKGS4JUgdzCi0VCACl7EE+jBEWAZyF9wYNqUGLnOF0fFTrBmBZuWXeU5hmPDhTUFBpWp0F2rtfhYyZJflE5l6gr9OjGWtQ/LGJQbAsFJDLqUCUPBwYIWBYLKom7MgZU1psdFDUVpWlPe4r7JfJXPrG1io//PkxLljHDpevuawbCJHIKBVgU2fqAYebCii8C7oGfWBETpYjqJBLnLfabKnKzdlQ5k6RLAGLOS+CCZIlBpCJhqYq6YIa80VIZFZTa63J5oZXKhJdapTaYyrmaZCgFgZmJcltACYFGbaClApAw572uwQ2WEzdBDr6rlbVgK1ZIw5dTcmhM5svrDMoROau6yVLVpLLHWZS/EWdpn6mrxMSUySKWGTGnHpUFYwAhM3XakKyWOrCsFYasVUrLWZFnlNXdlLWW1tNxaa+0chTcUJK1XCi8OvEu2EMOZdH52NTbuqTEFNRTMuMTAwqqqqqqqqqqqqqqqqqqqqqqqqqqqqqqqqqqqqqqqqqqqqqqqqqqqqqqqqqqqqqqqqqqqqqqqqqqqqqqqqqqqqqqqqqqqqqqqqqqqqqqqqqqqqqoQUo3Jd/rt+3YVUNkJmSl7WCVcTxdEgLMgtCEvqDCTWVNQU9FQuqG7AspPoVKWMtstC5IgLBTBlhBYcujNRAzTEMg5NCtGi5WB3QIEwHBtG3VjghaywoGjDowU0BXopUW+gdauLsugLCa3NPMqiZAlmWvCiQ5rBGRpuInFA1Tqql6Eko0z+MrFcJnqZSw6EpkVHLXeZwkMvovdDb2vpQs6lbvNK//PkxKRd1DpeXs4fPpaxGKSZ91YYuo2whS5mcQqdeFksOPu8jauS/0XeguUpJlVPQw9xyYng7S/mmLnbQs6oKiayAOU/7WmWLffBRVjjuOw+zQGqrBJCvTFY+aSkNJ+uUNC9YlMLkGEplCtlyQs5EPGgeR+EWkIZultOx9FR6tONDQgIjCFkbVJQGMEuBoinA3hvkJAYi4DqVYIYNI6jrFqQ1CkmXEdrQMchplM5dAMUyfL6LaQZPkiN5HnoFS0D6NgD0TwZIsorHAfJ8qE3RxHiSM5i8kuLCY5blyXRFEBqTEFNRTMuMTAwqqqqqqqqqqqqqqqqqqqqqqqqqqqqqqqqqqqqqqqqqqqqqqqqqqqqqqqqqqqqqqqqqqqqqqqqqqqqqqqqqqqqqqqqqqqqqqqqqqqqqqqqqqqqqqqqqqqqqqqqqqqqqqqqqqqqqqqqqqqqqqqqqqqqqqqqqqqqqqqqqqqqqqqqqqqqqqqqqqqqqqqqqqqqqruG45rrbbYzRcynnSLMggatoOsDvM4PKFkvyw13WZL2L2gezbQHIX2m3lUWLJFoDZBsnoBWFufivEGBMj9L6cAA6NIfB+EqNBTp0dgIogozAIA5yVFkappHOoFAROS9ocj2xRj0Bdm4//PkxGhO5DpFv1h4AmYhZBQ9l+JeSI6gqRvR10jVcrzjPIlLIqGZcHoiVk9jkckihh1XajIhRFW8LAdyvPEuRrZofiKeltLAllSeB6JghUMvywr1WUagJyeynSKuOY6HqkLYditMVtTK0g2aC7QprUKeQ6HCXLco1C6hJkyTSgEqbzZch/Hq2OTOXJCBwHuaadirtBqx4nl3RSodEYl48zotBZGIt2DmRME6k6jTMTzejEw4HIaS2hz54p0JR2Wk6n3ivIjc9bN6fwFhdVcXJcuHjvol8r2+uYeG3GGx0uJqTEFNRTMuMTAwqqqqqqqqqqqqqqqqqqqqqqqqqqqqqqqqqqqqqqqqqqqqqgBCmiTGi4bjcJTYIAxYlAK/YeOHws16UTDQQMLAN4CIEGNBsamNo0AIwQgVpZqUkmRiBNTGMIlsrPW3jvJ46BOhp8GjNKmYw8UVNMBTmds8tXMkInNiUN7Y+6DpQTYSAArGcSgnLu5oIqZaTp0tpDTqOa7gCLAaIgYjBxeW0UrPCoDrLY6xcOJBDeJY4w8XQ2aILHdqLP0CiNUwkCAoAYkj4XAPLlzUxcHAZgIyZGcmkkJwDJLoxh17ashluDd3BQHUSl6n2UQc2M14UL5mXHRoSca0//PkxNRp7DoqXZzYAFhtJuYGDAIwMZOeW61itS2cOzFWfpl+PJPTEOQC77Z4xG4mZSKgITNIEDDUE1UlOkojnoY2QmNNIwCEGTCBpKLd1Zsa1/bt+3rCxbzoH4fintbs4yvcucuMS2EVzS0000lOMSjBAsx0DMcHDICAx4EMUJDNEQ04iOvhTY1k1cpNYODMDS7jdrzGp2336usvv77n3evpcLUkvztuX2Pw5e5u7/d/jXMqBjJxsw8Bf4wweMsNjNhI1tJM/NzJwdNROR7QEQJ/l+0xjDhgDFAACjEhQHDFTEFNRTMuMTAwVVVVVVVVVVUcACABACERiZ6HGOgyiyGjBCgBNAaACDmV8cPmFc5yDEZ+XnGCohXTgCZHsyoJAyEEgSCEw7FowErM23KcEhYI4tP1QjMKgkMVBKMOAgMEwUGQdJBDAR0ioAGMhFA4SSQXjGMATE4LDBoDggCjDQeDIwKjCkJDFMdyEaTC8JDGAu4QYRByYAikZYjmnsYPg4YDhIAQSMAQVAQGg4LQIFZgaBKPaNxZdqa/DAoDTCIFkL1ogwBQgDkkmup1NvAV9EBZ7TFcTr+J9jQgxqGo0CgMZAnq5IoAC6UrIjBsZRVhhN1fSBgAANuSCFXaJACA//PkxO5wTDpxU5voAPAgMigMKmVuEIGBAELTLmsKWwmDwuOoMq9UMhmXUaW/rel1Q4GEDIqpitaorY4r/x4wlBAQABDrSzAIGyEClpMqFQDgZpz7tJUpa9DScz6vKmPbij9yJOd5V3JpP/N5QBArtyJstA7r4r+bZWx+k54ZbhLZQoG69PUdAhBSH23kwwCKULirUL0OU2zgyuIwNDkFXOs9eCeZVCIu4MDQ3KWfouyMWAQwDAFlkYhT/Ri5TQEzGclMOyy/Kr00XJU4YEz51WDzs7ArqTdM6X26bHK92g4qTEFNRTMuMTAwqqqqqqqqqqqqqqqqqqqqqqqqqqqqqqqqqqqqqqqqqqqqqqqqqqqqqqqqqqqqqqqqqqqqqqqqqqqqqqqqqqqqqqqqqqqqqqqqqqqqqqqqqqqqqqqqqqqqqqqqqqqqqqqqqqqqqqqqqqqqqqqqqqqqqqqqqqqqqqqqqqqqqqqqqqqqqqqqqqqqqqqqqqqqqqqqqqqqqqqqqqqqqqqqqqqqqqqqqopmNWI6trJZeX1RFpUHo0h/E31ZKz0CJBZRftFuWxyGuxqVQXVcERHVuYMAgQQGr1wW1UMikQRAMX0xwkCbus/XUW5AAgFBFQFYk3lKw0Zetarn//PkxFNJpDrS/9jIArpLSiaxWkoHgUM7DZTYj0QlLhLxeaHlZlvnuSqCRSuVw1HalmtDSlYc2rmep4hfpPf2/Zf0Qizcgz1ezpL+VamiS74RbuY01LC5V8y7gWBUyhnOv/0vdar/eocJ+Qz7wwxL5azF5DKCSiit/O/SyKj+7HoMhuXUETjGW+cw3K8u6v/zLCpEeU8NXcsc7UNT0uoJ/N/5fSX5FndiUtwuXJZQ2L9m1AzSpd3/qc1/9t52d/P4RuQU09nqGZTXnbN3cu1h9SVSqmu2dfymu1pfGozO6tX6TEFNRTMuMTAwqqqqqqqqqqgAgcDMrcOQxdAU+y7biRQGAUwNII2hTUFEMhqtpVgGBFQ1VdkiPoCCQxFCU34yA4NAgOLygMDQ/MFAhDAfAgaGE4WGBwB+YGAKAOHxMLxckzAhmjBaAvBoAhgfAdmAyAMYAgB48BuYGoCxgggVGA0AiYFgShgLEYmqcM8YvQJRgdgIGAMA6IQLDAEAXKgAgqAMWvRsJAYxIXM82QoNgQAXYMgAKIhQBJhYuqWiehiQUADvwBlciaqXOe5/mlxl4m4DJaeAEKzNjSdFQVAaXDWkDQhOdcIsHm/N5xRYLGD3tLXdTiIAMHBErmvrHLA4//PkxO9wxDJV4O+3CW/ipkISv8YAgUBPCY6Ls4EAaXCUbEJ4fniGiBjBEYRYlTRTrVua7FJE8STgWBn0aY0KlbYVBRUGXGzJFkwUZJzUwAAYoh1HgF/lB0MGxYQHYGBFWOSsGZG1CToyMPXLSbDAEOB090g4ORgoWnsiadAUqCwWHBCPk7RQUr52X9MCAUpgCCvHCC+EHRV36dwU04ZoIdgJE56bdiOrAsmGAKGmJTlI/0Tisnm30gZ1G40mpXrCXUmUqoZiDZyzf3LsKs+2JwJqltRq5LLViW2LsvludumzTEFNRTMuMTAwqqqqqqqqqqqqqqr+AIDyYIID27o7lgABQLmAggFgKrMuYUApmNtmwW4THZp7Ll4kIGfFz3+MCAowyXTSrpPW9w1KODC4HMGgMcE4FBhVDoCJBh9DjhkGfiBGlRiHH/Rn+zNmOwAiQCBQBBACoGApoKxzA8PDIg1DNJTjWoxDfkNzQIVzBYGzBUBi2DLU7jCgEjIxTv1zjxxL8cwi/q3hYI0tsiQoJAmFDmRLmbKmeDGTXg6bKYfjiq5bNS4woEx4lcxkDRoDZ6+Ql2Ygy0v+YEWShy/BYAmHPmdMkBoeOGiRiwl94khgjIt1riXidxEFCCZpAq9x//PkxOtvpDpd5Od1CFCI4LpVnGlgEGGIFDLkOnmyMAWuehmGAQgQyRpcAuQqRqK22TuIjo+SsCh6x0bw4GnGg2Y8aFDBhh5q1BkQhfkAAAgADQJVFueqRDQvOgKFgKkWBvpBdhS+JtuvhZjsO/Iff5iDdoQ1RgjMIJc+xC26thf+TQ65b4z7PHzg9ygoFQGsogp9IbcBf7A13tKZyhOVql8saXHlf0dukrwRVZ61CAeQci8v6GX61dfWcgWMMPfuKpEQ04V6UPzUryp1lHR4zFXTjHbe6WU7guchqXUFJNW6TEFNRTMuMTAwqqqqljBEIBZiOCwYDbvX6gBBEMAFaZgGADhCAKDS4OjLIoTEQEjCUCDAADBoD1rM/SGUzC4xGOygmGYRGHAnhgmAoRhgDzAcKCsASIJjC4BzCQPzQDoDWB1zeBvTK0AzGIBBgLjAwFQ4mhgJAIeJhEYaTh59AGMQOYKIhn8/BiaKxYFwARAowEDkjDHxuNryk1gER4bAUYg0GggBl6yIJLoZ+YUDQXFpf0LABDYMDyApFNXcOo9mCB8YWIpgcKGIQkZy4+SXhyUnOsKMVgjsNSUVKM84w1DDEHgklyISH02zvjasZozDWuKwylMJkqRyaZkhmIYI//PkxPNxrDpepO8zLExJ8xCTSXMdIxTDVaA0wIDEYpYkCjYGMFBwKWhJDiU1WuvwFXzxFa9ejBEoXVWiiiiqraikYTC8RY0xQi7xa5sNEqZgMMmIAFg30cotFJ2VvRBKHZlENLtbg21O70ciMUqMOBQBEA+cKTlYY4sBxGOMNeJi8qcZuOnJmYKp3xUNLVu4umBUykRJG/Mqfp/Et1KkrUjlqjgDeQFMRvml7r0V1DLSXuo85+FuVK1N4TBswNBvW8LX5dJJibd9jipzMYXS0mDIpJKaIUMotNltxzKasWbNTEFNRTMuMTAwVVVVVVVVVVWgxqUIwkbWJYokYCgOiUCQOMgk+NWB1DhGQAmEYDgoAEBKDzfGAQEmSaXm5Mkn3KeGIgEAojFU0fWTGEQkmAQaFYHmDRNGjDRGw2imlASEwtooigJGH4KJ0jQEKBBUTTGEszR1ITZ0IDBwAAgKygCV4EIBDQHmGIJmIZMmfS/G2leHSY9mYAwYEJZgQMCyGBodLwNJIBQXMMhFY16GjBwCgww8AFAVFlNTBYTDhEgoYbARy1IDS5BwTTPLeBwYDgAYFA5hMCmFROY5E5oFMFB+BoGS2BQETxWoIQGYsqZMmaokcz2GBkARICBQWKIS//PkxO5wZDpZQO81aB6UrENCzojsgAUYMCGKFg1KEA6VzqtXjoMRnKSjJYuMYggyZfKPdOp2DRoiEnGFDRAtUmM8i/pKxN+2UMlQOTFThlKooEYJAsapXbLlIIdoS2HJ4JJs2XUkUrSoAwVx1B4OXw7M46saL3rCLgeNW6L0TcnEUMZfALc3ohmzcnX+TEpqODWDvFH5y3ONTjsBTrgNKYIzx3ZbQphrsYZDMOOBLHXp3tyibX5W8cavtwfVYCBK0edCUQ9tkGT1ttLKjYk5as00+1GJZawjEbgCxa+WaqVFTEFNRTMuMTAwVVVVVVVVVVVVVVVVVVVVVVVVVVVVVVVVVVVVVVVVVVVVVVVVVVVVVVVVVVVVVVVVVVVVVVVVVVVVVVVVVVVVVVVVVVVVVVVVVVVVVVVVVVVVVVVVVVVVVYhDViJatySmEEpeVqQEAQEtmeBCRwQBGLpJsywNhREmnuMNAJ4m0kdA5kXPWj0cBJinDYZoBpctyZnx44Hd0KjAI46Ukv3cZhEYrLowvNK2IlwV7vLbxgNGsEKEUQ6oMGQABxmXtDYuh8oKypfS7uP1XfmMPSsZkSeriAUwKEnmvVljLIo9LhLlTLcd0kZ05XuVDbf2ea+lSrCX6aQP//PkxJ5chDqe1t5wdiiy6fC3x4AjI+KElTZ1y+VRwWoOy+7bxmhdKJy2PN4+F+JwHFWutNZumSwAMQ+qfT5PyqUiK+82pxYiziNkiE+6KfEfaSyZ3GoV3fdxojovnQuDAkRbomFF7DsvSrM9LIJO7L8x2id52YZb2Csn2jUtsWJ+OxmYpZJHZRTvbA8PS6Uvw2rXl+xuug8zqVzMvcmOwLEmUxh2oMhqUxpl16IJzgYwGiODMw0+ZW9yVkWbIxqMwllK6Z6QM7YuthtWHwa11VijD6JCQ26L8zsZiE2ymHHsTEFNRTMuMTAwVVVVVVVVVVVVVVVVVVVVVVVVVVVVVVVVVVVVVVVVVVVVVVVVVVVVVVVVVVVVVVVVVVVVVVVVVVVVVVVVVVVVVVVVVVVVVVVVVVWWAEARVJLjsPL0T0bdK0KA2vOGHDwe/LhjMJKClANRtE5eSQYQIOTjO4pLqI/meDthAwleIoLMC9MyOMaIV8u2UMzjLCgZ6fP4hChIZp0udd4TMoIaWuYczcKLIiF7kAZdgPoXjEKUpi2zBoMVsAITS0KiQmxtxn+ZOwdbzU012gIMo0r9QxbqpB0Usy3ZMFExFISFCl2ChBOgdcwTZGsEvh9Xca6WHIelrJ9r//PkxKxf/Dpq7uawcDDDKmjIgIagoTEXwhqNxuVO8z5KmWNCdyjbrKk9XhaYjUCAlni/zMqN8kVV3l8HRQxdlsTI5ahMe+JPOyhOiC1lMqehYyISsj2o4yBgquWAxN+YmytuELbBt/GvFtjJhMSG1b4EgGVOI+rbPlEI88EOLVa7MLofxgkMxFusEJ3SlTeheGZnesgUSHhRT23j83Nv3D7+2Za5jT4Is4PVLF8rTCCl/NNgSESQl489BUpEWApTqdsrR/bdGRkKFTMXuduXu28qmjepnJjfDDhOVNzLgTlCTEFNRTMuMTAwqqqqqqqqqqqqqqqqqqqqqqqqqqqqqqqqqqqqqqqqqqqqqqqqqqqqqqqqqqqqqqq5AlAINVZIuOmRhI35bRUiNBgkBOa8QVkBuWaGXhOLC4wcAy5SfLvwEKCQqkQMBqupaYZApj4JmBQOY4Mg8JzH7gMqBQCgWVQbGIqh8YkWcH8ep8l6HEm3HAK6WIkpk1JQ90wzwKH5E8EuctlogOmuXAJYFiKuVBUJiOiPBfkjVAKQDh6hdhizBH5BqBsguuulg7u0iikZC4gGDXyjjF2lLRUNS+BEoHdAWY0mTBRbNhaqKOY4IIUzPVTDUEoWmtxScTDATCwb//PkxMdmnDprFuazDHNwH8dmLPDlVdtS+tKGfKknUAqhy4F7TEHdeRuAJEX+yIIEon4a+8Sa7bJetIairKvRiaV7U2trVjsca22rpNvEIalz1OwwOnlLYlJvC47ppimTKBgky1ZiQQHIKJM7Z/QMoUcYKqopZHkkR0B+1OWZs1R0glG8IZWekK1tzH0e14WAIlrsUclULjUGOo3epD7PIW/TLXSi9AyuXPJIGBsubknNECoemg1eGUJLZFzNFZSvCCSUQeKWw+ydLWH/VIrenwFxlco6vfbhmBIoyRAEuCIVTEFNRTMuMTAwVVVVVVVVVVVVVVVVVVVVVVVVVVVVVVVVVVVVVVVVVVVVVVVVVVVVVVVVVVVVVVVVVVVVVVVVVVVVVVVVVVVVVVVVVVVVVVVVVVVVVVVVVVVVVVXrAnBTe5sit+3DBZS9zF0PMGAGdQKhhxkWJHd9wWXEgDPIJG0NMbThlIzlTMVBl+w9Jn3VMYbARz4IGRQ6RA4v44kECIKKbGJCAZlTpxRuGbCwIAKzQhAoGBRb0wcCTJIgMLIkaB8KhDRIbV0nMRAky6iwCcjg8jXHvxfEUDNZ86tH5a429mINKVyMGggsimZjJ4rF8njYihqhyV5IKarlQSVe//PkxKNdrDqTHt8y0GywHBwtq8gcqXLyQ6MSAxbqPNIJJG4KZMuZRRfr62HIfVh08o2hOCpbV2DNfiVJBSKyyFLYCwdONwXCF66VsHiF3rco3vlrjWlhb0AzEvhicryOpKaJ4JVG3f7qcuSOA3xcNfUCLmc1ARGGzuq1l/GitTWtLAuHD5MC715w10RF12ULubHKVVWHK8geB6Rb6nbwJTAA5DWH5JSyOrt/kAk3DVJGakTkmSdzNH9nr1yYszTOGHzOU5GLc7WuwU4sVqw8/MGOtFGJQGrh2vqVqHD60Yl6TEFNRTMuMTAwqqqqqqqqqqqqqqqqqqqqqqqqqqqqqqqqqqqqqqqqqqqqqqqqqqqqqqqqqqqqqqqqqqqqqqqqqqqqqqqqqqqqqqqqqqqqqqqqqqqqqqqqqqqqqqqqqqqqqqqqqqqqqqqqqqqqqqqqqqqqqqqqqqqqqqqqqqqqqqqqqqr8gHM4Z2uTu83b1ui1odhhkLKFortAxU23IHgR0bESHQwy0wPMhTBSaDU+lQmFjoCAjH1E46UNNPzEQhIpdc+3GwX/MmbDdB9B4uCx2k2wBBkzpMN+Xh5Ti75zSqqKwGADCS04uBBTgpeDjI8WbGlW4yQwGUHDGmkAgUNQ//PkxHxT1BqrHt6fdeOXY5L1aVdVYTWq2og7AWBIvu79SYnbMBoJ1VGvQNXwppe0tx0RyYLA0ptROI01xlKfUVg6r7GEwGWL4RFV0zaxQO/EHTbuXMR/WrKnrttLZu5YJDkgZ7XnanEIaXYuxXCQ8ZeCWO+0h4ITGLE9NTm4vja1jGo0j2E/fbe2c2eJE0hzDDXZ1SsyobnGVXth5x1epz/RUrxTIRhWG6TAgZwTsM6ujKgkDS7+2F6xtRRnMPtWSOLZBRJtgN6GOSH1XLZEeHQz4fYnbcQICNdzTSgeaQPqTEFNRTMuMTAwqqqqqqqqqqqqqqqqqqqqqqqqqqqqqqqqqqqqqqqqqqqqqqqqqqqqqqqqqqqqqqqqqqqqqqqqqqqqqqqqqqqqqqqqqqqqqqqqqqqqqqqqqqr8GpIQa2Up2zjgUSPiwRqCxHbuS8LLD1CDeDQMSVVfZYKGWVGHLHSQpIOfGX5XSYTB5hY/GspIcpFxgMCOLGohQhADGB4YSERt8KgYCLjWotou4VgIyKTzWLrMJI8DJlMeXpUl9gYHMgpMgyNdeCawQZaoyplzcYm0gGmjLjhIM6sIsts+yaA6MRyTmh9vXoc5cxAKXlL5RR/ZpXQZQX7CBqpZDPap//PkxKZefDqW/tc0zCIszVRcB3r8zKpY+6000S7ym0DQifqv+08uQmmglYa5UmjvZCspsLSWU0kDydrDOGhpYMScJ+VkpuMgfIueXsL9MGh5lDwqBq7aysZhLI7Uctu/A/JdLZ2cjcvjr1vo5cOQxGHRgt3Wuvs8cwmEuZEldcDOMrC3CMO0wKAmRJjP03KgcWCaF0Msq8EX3guR+HZy7DsXkKZEOQXTQxhhalqc7WW9bjJ29booepUIxaSSPUSYPMxOQvOkIvZ75ycp5DL6RlEAvDOtBpaeMcjE7LY+40znTEFNRTMuMTAwVVVVVVVVVVVVVVVVVVVVVVVVVVVVVVVV1Zv3uvzHTAgDDCtoAwL01YCZSyp/CQBBUCTGBEDHoDQaBC+AqBaHQwDFExbHY3Ero+nw84TI4xYMcwvB4LAGJAUigMiMwuxjMi5MqhYSFIgBjBzA4TMNCQyomDrC5MpE8xKCC4QhARdpQgwGHTHYxMRDwzCVigMJ5PwxNrasBKeAXDfaBQr2QNJmIFuEeQCYZYyPtSUv5JUXEITDSMspNVL5Ydp7WzFFEDR2lDAKuww0IUdoUePwQ7wT2nNQ1xkq37bQKmgkIYRNRU0EQUMtxZhcweEQBga0GoGiUrSV//PkxN5sdDJcAO8zCQsBXieYAOAjYUYNVpCIYAWwaQgQqDowUYEFJrFQIQBqJgENRJQECjKTMgcxhQQEBqFLTNLAAQGPABI0C3pVBEhjAAQRMWYonS2RN5KhHdkb/WXdl0Cwa11XL1P7KoDfhdT7Ps5TWk9obfRLpB+LjQc+WndwuGnQDAAgSD1NF7l9lB51/3P4+ipEaW5Qa3kCKANzX018ugkOkyxZc6qLM3nb2DUfaJ/GeuA0xprIF5sgWfjBW37kzOm4KDS6rVoI/DcAsOkczLm52YpDsqlcO3KecjaVTEFNRTMuMTAwVVVVVVVVVVVVVVVVVVVVVVVVVVVVVVVVVVVVVVVVVVVVVVVVVVVVVVVVVVVVVVVVVVVVVVVVVVVVVVVVVVVVVVVVVVVVVVVVVVVVVVVVVVVVVVVVVVVVVVVVVVVVVVVVVVVVVVVVVVVVVVVVVVVVVVVVVVVVVVVVVVVVVVVVVVVVVVVVVVVVVVVVVVVVVVVVVVVVVVVVVVVVVVVVVVVVVVVVVVVVVVVVVVVVhyVlocctccluuO9ROM8uhQECjpiwDVZdCJQkcYyIbyqaYmuZvoywWINIMIGMaAWsulsEspQqDHiRnhYOEs+ikDohg0eCQ4ORFtW8//PkxEtHtDLC/tPZW5f8QaQBgArgtTJUOHmFIJqGcGEXKHLAUj00m3E7PZsdK5clxUKkUkV4xzMTFaZketB1Ik6VbaMcB8l9XCqVU+ZosZDmZd7Wy/LCPdJ1QsKGr8JoWjdXERSLz+FWz76eNq2jVNKSVaUR3N6uRqmUU6nVp4+PhkZYlWbZ1Gsc9jMCGO7KbZ55o5UHZJW7XTlYiKwNj8klkegFkh1bGbKhU6LzU4PmejL4OjqvKpEJBbCcokq3HyFiJeuPYktkI4RGYgo6Xo4eM4unpJ4nIS6uT8L56z0VTEFNRTMuMTAwVVVVVVVVVVVVVVVVVVVVVVVV4AAJQKW4AA4DAXFEVzBARjBQmzY05DRQCgSDRgmEhgIBphOG5iaL5lCjJvSbxgKDgXBFWd0QMJ4OE8zEswza785yJcyPIIWE4gA0wMC8wjGEzzK01uLcwyEcoTQUBBcHMoNDVC4wbTMr4j2TwwY1EjmLEgAau/mjvhgYCOhERSR7TzFRCKzVFNwsiEBAwKARUAwiIaMjLYmk2WnZsIhCzojIBTSTDyJCO6kOpQW2QyBIjLxYcKBFmTHKSVT5IQAcclQXXYw0lQFuKYrYFrU7TlNYci0giKx18MSVKsmPpfsNEQCb//PkxORt7DpR8u7zBGl2ZaiCYhCGSBVEsuahxjmhJJgJmguqiWqLaAodAY04wxkGEBKNyAJS0VERbQApYIYJiopo2Dy4ENMAtVdOFJNAxb6iD/Psw53kqm3AgaWJdV0LtvrIHebMvJPpqkAQ671VrSKrGHqXHYicskMYgFvZC16mppFDi7UiVhV2FQF/GPwKzpsLuKUvxKENneTJUAbsrt0ZGvVL8WFYUlS6UDTU8gyAhobTSh+tJYklopusxIq1J4EavF31bSJNedp3pQ+K8XFVy5MxOxmipm3jD+2qkklaTEFNRTMuMTAwqoAACAkCQCTAgAqMFsBsiB1EgdzA4EMMxOVk0uiGDFSEdNnpgwEhDiAYAAsM86QwMZzTjxB1FMYjAAA8xMHzKDrO+bs2VKD7dmMdoMyYAASMxCRgajjW5gMmJ8FO0OJxg4IgE2GRSWZHSht2AG5UcYpGQkfjP7bNHu4w4uzekfNChQx0PTDgEMsoDGoOqLFA5mLiFMd1AqSxUFi2SDV0smJDoATEFNJc3ITYLLyg84zg0cmPkIRZ5EISJUGXUrcghMI8vSkM3Gc9/IGWkyZhtaG2EshQmweoFNrDI7MAScaEwZisMuwxKG4kYQK7DBAk6HF9QCcA//PkxPVyLDox7PcyXFQDfCgoMCT2WaCAhpYYJM4dEIoKgg1QDDAT4QadxAxgTcl1NKMUhZhghIPBUADDKDOeWpDAS+pb1YsJdqLQfBU8pSmrADXplsULZa8CPLqwMuVDlBNM6jel1gwpFIEjJ9cm3JdZ/ZVDjrW38rt2h5yH+usag9LUMRJQ1KXDepKpH5QKItzYSprFmYo4rCqlLqrVQ5CSRbovcl8WWQiRtQ1iiHZoFllKPRbJXycTuNbIBkroCKgbV082DtUiDPlro6oowh42UxRvk0kATlurEqOywJU1TEFNRTMuMTAwVVVVVVVVVVVVVVVVVVVVVVVVVVVVVVVVVVVVVVVVVVVVVVVVVVVVVVVVVVVVVVVVVVVVVVVVVVVVVVVVVVVVVVVVVVVVVVVVVVVVVVVVVVVVVVVVVVVVVVVVVVVVVVVVVVVVVVVVVVVVVVVVVVVVVVVVVVVVVVVVVVVVsBv22lt2316+C74EBAKCmGERldiYDogwLX4wxddOFDE909L4GJhpEIvvD75Ez+7bux+HSoCmEo5siCTDjxNOf5uIgKdfG00oTWbCQaEWXVTBfdsSQ6Agueg68tp23ADmEYUWpBQxdeary9LObtNDjIGzMCfqI6vt1Xum//PkxHtTxDqOXt4fHivL3CzLJA5U/8/G7sLlNbUYljK2uM6i8COWnOSkVGmDagii1Gn9cWEw29cSg12Y1NNMQwJDpHIJneQiBwIonXGHhnkHEhoIVgXVDcBHWTR9KhydM00y3K0n7Ie6ZPQ5X7QxIcvsbxDEKbnDUWC9V2rPz2QssaNPN8haveNG2tfQ9hLzk/KNMZue2fbmk/UxIj7nzGamtrOjWYL1PJ5AONWaAbijcvmSccyXin8yoQXEOQhAewWQfg1xxC4ADYf5PTURzMlZcJxRPlgQGfS5ZIMBmVi4IYAQAamAMgGRgHQCOYDCBLGBlAmZgnoj0bacy/GP6gyBgsABUYBWBNGA9A05hHAMaYF2E/mELAjxgAIBmFgYjAYlBY6GDMxgMjhJQBqsIdICmEQowxkDRoFgYQI3gICF6R4bjgSlxKClbzBYZMcmAz2XjDaNAxHMFkAx6uz5jmPbvoyOGAgVGFAcQg0xGdzLamMpiZTEDAYmDCi5m7pkSQAKo8JQNlR3EmbLBGFVsYCgAMUqMeiBzpCUsV20x1M2sMYg9urDwKBAAIeDKVOS3JB9Uy7YLSvYgh4ZIEhWgCDC7MUEhijxpgAKPFA9K4w4ULBjFGjIDXIXc+qqAIFG//PkxP93XDoUIP80mBQjwkAMxwIMHjq48FYwEcmSxUoFIfq3mAGCxsuAgMTaYOZMCGNA5Mhku5riIAsEL0yVj7SncaozVzngfWIPvAV5sMPUr/N++lCteMztA+sDPZDkudMmHymEBgJUjJnVlzJEXXVUqdxhjX1dOwsCnqWeb1iKonPTCSdTNh96mTNeSpMGBWrJUJgwZT7UZEhDAGKDIMaLo8FFZExRUt+jq/4sBGi622Izqda6VBn7dZraRTapLpjCgIHFkDlIuyOgFYhQCWyay4dK15K4VAr2axAbOk0mlNFhUAPHWhiDZQpMQU1FqqrAAVoBxgJGCoASXwBANQQGASAAYPwTBvojJmFkC2YR4OZgfABGBwB0EBHmCqFOYigXhhVAiFUTC4kSppzBwbezmXjgGZDczc0AgNlnzb4M0o2MrIRIKMULjZog0g9OTlTRQUUChYQGRkQrh10ca8RAgCGgAwkBNYgjKI80LKBUgDgBSkuOKCxmAMJBMLikpnhABmCkiGCXEAy1DuCgpKOJ0MVQ4hCwo12EzS/6Ra0gdQsgyi9DCsphWrt2HtfVlaPbut678GOQ0xTRTdYdXiAtJI8eIirDrALUU0dICEBTFcTE6m4bHBhJQyt12RoS//PkxO5wTDpBvvbwnNDxckbzSoRxOPTjFa69lYATENGZYpnxtwC9BCM0lQDorooRhyEiGmL8cjtRc75rsSEWEeyvcdxU6938kyc6gaD88l480OqbwQShAU2bw21+CbshTnc95EEBysBoIIC4DoN1MI0vgVRTtWNrkJEYTSVwgAYDMZpH0Gy0aObrmMpb8KlM4XeaGjogAXaY1lw3Oa4zMu4wR4LUqXIzE75GhsSRUKgww5AQHEAiBYAyEuA1Av+psjwBiA4jyNwVG4CIBogGElkNyqMJFgp6map4XJpZKpbVTEFNRTMuMTAwVVVVVVVVVVVVVVVVVVVVVVVVVVVVVVVVVVVVVVVVVVVVVVVVVVVVVVVVVVVVVVVVVVVVVVVVVVVVVVVVVVVVVVVVVVVVVVVVVVVVVVVVVagi3hkO3a327tmVfEllIGvzZ72UIyQDDrOXtWiZxP0ftMccmqCZKCQOBoAhFMd2RN5wLM7EKDA2L1AgBDDUkTNtNTEMPleOXD6t4FPHyyYV25S0s01zj9BI8slrODFY6aBuUbF0t6IQg446CAYfYfACpFB2mR/D77MFwyKfmXba+8T8xmMxR92HsoaE+zpqBtnXI9E4/K6y/5boHNhp5UVC/DYkYy3q//PkxKdevDq6fu5xBveHmdlzw5AZeQ1khEAEZQjSBYqYTgobdi2icaYGcwkm6YQ1IKhLRgY78giSABpwAA0wQzNrzZYtWZpAJ7MGSQM7imCAx2es1YMwSRJyN7XadYbil86i7YNhu9D0bgx3GzK/XKv+gcuMoOPpCcHYet6Is2rRmIQhL92mHRV8ZpYd52styfZs6x6SolS+89NvLFlYWDLkmHaistU9D8BNcdl+LteG7rX3dh6D4w08ZONDdF72mNxjrM2PRuLtIciEOu60Tm34vw7fhuGoryGqfOB5zsY6TEFNRTMuMTAwqqqqqqqAABVAMIAQABpKFUANfBCAeBBSDDbCLFQDFJ30hQuCcYKISIUAEQXKAATATAmHgZjKPHlMBgJgwtwVDAJBVFgvDAUBvMN998whBbzFCBhf4KAXmCGCEYgRA5i0ggGBMBiXZRDa0YSPJqUiBhCJgCFgKYDCRm2+mtU8Cl2EE4wgAVOgYGACJR4IIE0vX7FQ8ZGCYQBUzYFRWITRcJo73NQjCnYBDQdXbBFNMDoqYzP4o5kfTaR9cKKymsk8PCtZk07TLvRhXM1dfsOELBlDsTgVKp+1bAVKFSAw5gyKTOzEKcZN0gGf0RAANg9ry7K2zMFW//PkxPFxJDpaTPczCIAChP0xAy+Lts1IHDSDUAbOWZAQIAWMdIWWfkusUBIBj+MNcwCgMBXSoAJIwQw5kSEprQMAVVe2QxWLqOsKb5toWlq2cvUsCkJEK6WywrPAsEGALzHRo8FwndLcMvCpgcNC1zImM6UsCC1VS5AAGWylRAEdKoQWEZGXgEZKlrtIEWSNdC5IcqrpFFao6A7qj5KOnClzKkP0uACBAyXTMX7Q4NDXNDrSl0qZwKIRI84KpVfu7HJ59mvMPTVf5mtNUbdyYAeWNRJx4tnjaqw/PSqQ8ymqTEFNg6BnZSSMDgLMg0IP3SBAw1AoCFtJmmF4wm+IxCQTpWwMgDMUDCNLoMMGBLJAWMHQDLSCgpGtneGHIIkIJCwchAQgARgTsBjaDwYFJhKAYQGosBYIOAOZMKAeYWgUKgSYJhKaQGWZeh6ChVMSAVMBwtMDABMnYDtSNcaaK3UJxKUGij60qPBtyABJoSfRNVzD7cQ4RV3BD9zsHsIJgNesEsteSNEwzTVZNAUjJjx9Ykq6NMlHlR/GnMTVwIxABM5fymZGrASgAKe2sQIh8nQMghgpyCAYFCJIFCpKYgeG34wRLyMKAY8Wg0IMDIDHgwvavRliI5gAQZ8LCEFE//PkxPxz1DpIAO7zVIEAIOYEAmWphiws2FDmBgVBOvI6iXEIRnc63xhkqVOKlo4LSiAeL4PuzV3klkvFD2LkwjPET3cBTanCehKHAJAQkeCAgcqaRpqrl7wqE+hxIroM1sHOkxzjAFUVPAgii4XIAJQKjHAQsOHIu2tgFDLkdgLpiMJS4vs9yKTcDiASEIaFOX4TTL9GYO5S+YFftBCIQG0BRRfh8wCOIg2Cg4ZkyfAYgKAj0DrMMTAFAE9FLXQpWBPFEgoDfc9gao1+LnkThVasGPs2aMxeWvaoNAsSoYFqTEFNRTMuMTAwqqqqqqqqqqqqqqqqqqqBBRAwcYIYwJBIwhCMwKDouuYEA8YaredFiMYhgqWUMKgoMHwzMfkzPLQYIVC9ndayY9D5ljQgJLgYNl2FlmAhUczd4ZnSIrg4FgUPEIINv049swDEAeEALMCgEDD8Quoz2SzE4CJA6YNAZa0xejgyptjZAztrsAGFyUAhZDspcawDQw/LSHvvDph2nHActZu00sAZLiK6NbEMJ1DocY5euB5cwKJmoWZQifDsN3SrMIsmLTXm0vC7xjlhQZSDC77MWFAoRiEZftRUwCU62oOe4RACZkYhCNAB82BmWUKQjeQKogFSsEgG//PkxOhu3DpWvO8yfAkGA+boqgazU4lJmgaBq59caVohMMoVAHNNLLUigQkckO09bjWYJXwp2/MNPgqaNtaiDuOA99dazvNFpkjkAkBKYsXQoaQg8glaexFGaAUxXObsw5ppWOghMcAHHK1MKafeLRLGAwjnJgtOWnJmUsvXeqQMBWGTjLIMSVYFSSKktosCLJItl11stOd9iS7miA5pG1HZo6+lmrQboqqWzayz9aQULBQZbNMhGZuCmSEh3i9CKC6UqoStdn67b9pTfb8sRUtTRc1YeMNYbZyl6S+ghb91TEFNRTMuMTAwVVXgABoCBMFwZMNAdMTwOWaYGgMYoJOfjXAGMQYMgCKgqYHgkUEIdx25k4TmEQAAAMFRiYyGpjnKHgxaz4wSEAYCjCYdNWTM8YQx4ZIXmEQwSjkx0GTGGDNmFIwGAS3QXBZi8oGuaoa/X5lcNiwkYUQgQwKFTGgUUbrtiTJBwdMFFUyEOCYGyt3kPjBYcMWkDPvAoKACwIWZowkA40ohpOYskhCteB59npeEKjAAJ+XSBpxfVcBcdy24T7/s0Ljp0QlnrARgM0GjSEEAjRG7F1wdCbJ6/2VIEgEqsIZxiTIEXMpU1nT4HN1wLzTY6KhoIQSkA59x//PkxPRx9DpJ9O8yfKmQOBxpgAHMqYZhoHQeFCQcqOjERxZhXSSpbVPEYKCDzLAX9CIU/zTmEQ0/rY7MQZk02Ksyd9rD7xl/FRDoBf4RmExjtCw6DrBF4MpTlRlSeiSqpcla6FJhGg4kFKpdqOq9WJCklTKXMglVr/9Zgikoc/rZk/whMMBh4wgmtxlrBtFpsF/nsSaSnABT7pTvwhC5iGLOHTYAHDOSW7UxeosstNZKRKXpdYkNHiETURXYUkxJMJUMPP0yyBmxO7LKWNSNqqmLu2Y+s6Jx55qCSPrqQ4SFTEFNRTMuMTAwVVVVVVVVVVVVVVVVVVVVVVVVVVVVVVVVVVVVVVVVVVVVVVVVVVVVVVVVVVVVVVVVVVVVVVVVVVVVVVVVVVVVVVVVVVVVVVVVVVVVVVVVVVVVVVVVVVVVVVVVVVVVVVVVVVVVVVVVVVVVVVVVVVVVVVVVVVVVVVVVVfhHZXK7EnW6jRPK3IOjxGLRhi7Cve4xBK8zMNNYxzZQ9QJPIsyJExiKEajpAY0WBTVccHCBo8YBmOBI1CoeEA+aAliwWjk3rqgkEMrWg1uCaDBNL+UQrUcxZ3moP6vuSjyLGpdx21p/iUQySV7w7KLrNlA6jdn/+ClzLwWI//PkxH1UJDqSXt5fNtzxtRJCamvlZz7MOW7bX9UUqhly3Db9nycysZmAOPb1LpyLQ5diEqf6G20jcqosDfIUTkb5cieiaiRC3i2GOlEihKoMoLhFqtRKDxBqFrE3VakL78NyuV0VodPj6flkQxcn8hsoRkIAhSHM6toqGSeBHal2bqggX15VDBmeuKvcVpdq206fdUSuWBmNiAzpldHzHKBDxbw5T9lLcwsoMaHLJMaBuoTNuj4yAEkr3M3gFoSpgDiPFqVJP1USlGsUkE0G5HK9Uq5VvS2M0JVuL68Fqa5lTEFNRTMuMTAwVVVVVVVVVVVVVVVVVVVVVVVVVVVVVVVVVVVVVVVVVVVVVVVVVVVVVVVVVVVVVVVVVVVVVVVVVVVVVVVVVVVVVVVVVVVVVVVVVVVVVVVVVVVVVVVVVVVVVVVVVVVVVVVVVVVVVVVVVVVVVVVVtxBte2U54y9d1BVTmMDBacxYQNRXzaFo5MHLoNYR3gMwZVNethJBM4KANHAwPcswdQMqozXQ0QDAcJhcCMJHjcVo05TLFn6zpJKowFr5dJYKZmampyGgLNA+VxOVTEHxi1F5AqsBRE3k6HclDOICZkkW2SQRycVtRYnY9nnMrlXZDLZ56BUVWIKR//PkxIpXZDJ/Ht5e+Ux2htPU1MYkQIGCCvIILb90kdyEh34ESBbg1LYl1I4v2JXKdXt0RvVxxKdWLI9AkgxCdBfk8NxFhaw4FWeqeW0AVxosMWFZkMQsCsdq1vfRITA4a29qqD+N06G0Ul0QcyUGllJHhu3mFE3HcRlRDfiM6lQhzM81mBbYUcaIO1RFk5oFpbWUWovRwzwajvOYmKjNp6tocciFOSrVjQSh8XazThWKAoCYKiA7PxGFqW47CVpdqHkZCcT5wneLGcQmDnU60ROhx6q6Oq5rtigjT5zaA3l1TEFNRTMuMTAwVVVVVVVVVVVVVVVVVVVVVcABhUAAQoAKDgPAwC9oICATMCwBIxIUCjaPH3MHUB4waIzKaZMfgIHAUwqXjKpjCLOZGKBggUvCIAUYVGBy0LmxU6YlGRQIQEGDPQ0MMGcqq4yAEGirvf5E8vcNEnjdWlcgiHGuvnKwMEVKgMZ4q4v6vhrjUZldSmBgwAkqNAWDEFqVwoKBQwM0B+ZQuRrBjQZmiYKVgYo3rMy7ScaJbEgMDWcXsCoczEUzSc3Kw60wBeDcpysEBUh75AJmlQICoqR7kGOHmCKmLGrwR9VhUMWsClSq9IYcO+kNpfkp4SHmOPGQKJUF//PkxOZuhDpCRPc0VL0GpAobBygtumWOAgaOEQMzDco2EycwRo1gQiDP4YEYDgzDbjHZevhS9XMFLcqQ205vntwl+UugJ6IvAsKfxuyeSAtlhfhvHrfiFsTa80J5ZW9q8mtF3ooxqTTDVVK00mBsaXIpisdDmsAo3BCMjKWRoZKHLzd+HJxgLSUnkgljr0eKIrpSYh1QCEui5D7LdRxnKq5YxDsAPo9bKmdtYkgkIHCZly5bJzmFkgaUp1pgzLrMfCwAZCM2UZkEWaw/TdmDqDI4Su5Psuf+GGIQK9k7JGb7TEFNRTMuMTAwVVVVVQABAMjqJhf8u4YA4HZgTAvGIaQGc0ZFRizhhmaTyasEBkwHEwKFBcZOlBnI+m0UCKi5K4AgRvTPFjN2jEoLwcIBINIeAEIggSmqgsYWAyANYJgYKtigEK7AdFMMGAgqXqakCg79o0yISVumnWkcgJYeZkCKmRoPC1DgKFM22NPrOe9QlGKDFxw4ov1BYxhoygZFEs+MhxE3OfKPMCQDiIIACjKCUWBD5lShqT5ihwoSWcNGBxOdQ+Z/mOFjEsQKsNFKBEU4jE77MKhxCVQ5mFHhcECgxnkSZCqyQBWMRMR4DE5iBSrHrEY1eJqQhjYIgNmV//PkxPJxhDo+IPc0VAbwoSIYTxS8WBaGAgpbkkDiISYg2CCA8BBz4wIIoLAkkyWSLHe5425oPFwWKubJK7/2XNcZg7E4/AzbRpnymrTFXv88DPEXHHtvq1yIxCHk3GFKWrBBAoWNIkLArzEYdCc1qFp7IOLsbo5r/PBDqjakEwE/2Rt/GlYAEJfV+nCaOyFWdHtK2MpurlpVBAACQdibXW4rDxdBxUaeid4OaAoo8KwhCcayWAZQ4S4a+6CfDWmtutN00QYGLAn8gN0ntZc3VCcp6NRqvN8gqPwZGJZczlMoTEFNRTMuMTAwVVVVVVVVVVVVVVVVVVVVVVVVVVVVVVVVVVVVVVVVVVVVVVVVVVVVVVVVVVVVVVXgC8z+8A86AkVAgUBt2GjigEAQoTeYoTRMETCMNzA0MSgFAMORgaMRn+fx20/ZtqVxiMHyeiHdKcwEPzgTTP52MyuCzAgeCAkYhJBktJG948Zf9pusDDxiJhWSAoxWNgUCTKQfFCwaCESB6mSCMSAMBGDykYREpMNnLXzSigZsOimAKXKiKv2FKZpGGjMba5lKAENJsEBwA0AKGjkxsNNYRQXkj880bRUbSGW/fxOp9SAuBFACyREGKjGUqYzBxyiMBI1rKlqo//PkxMdmlDJiVO8ysVPZbrd2aOA6EQZ88KhLstLVTlyfqdBa58i0Ack6TSExmHqCLvedncMuAymEKKwwwyXzzKKZpVOgnYGkPDbtNLkbIWTxuR4W4zDUSjlLKZuISpm11xYDkEagyecKnbLCpLBFuUt6sRJRL9S9XEKa+wx6FuKYLiuvhWheTF13vFG3lcOKSXGTvzL5U6EZXg6jqP/DkEwSyaYgKnrwW7V+EO++tReK03fJR2WrUeBBMs9WBJNXSl82yR2ZQ+7IGcwE7sX1KaRhcPtAd+vCpiKOnVl+F8FVTEFNRTMuMTAwVVVVVVVVVVVVVVVVVVVVVVVVVVVVVVVVVVVVVVVVVVVVVVVVVVVVVVVVVVVVVVVVVVVVVVVVVVVVVVVVVVVVVVVVVVVVVVVVVVVVVVVVVVVVVVVVVVVVVVVVVVVVVVVVVVVVVVVVVVVVVVVVVVVVVVVVVYQFNTLnXTjlHQEzSUU3Hmwx4Z4P3BpHKB0pPqXiH5pmPHc4qITUhu48vmzFIxMGCM0SGzCoPfZ2nPYWMlzlXQzGcd6HN6JUhhyZNKM5uMcGT4rv/J3HUWLgMss97KHIbgCgkGw/G3/l6h5cNMB04XR5J+l+wsaN4CXKv5yYu8a5i7gc//PkxINVrCqm9sc0U0G3wltPL+NmXRT/evxFXLHXAcukltyo1CKOPDFJLLEekkBv9LYVqxXbmgejO0Nc8NNzli6G2aqzeM/G2uMRhtFRvYbo24aZWwdq83F5c/EEv3BEU3YllDT0/Y3net53967elmN+e1S0dnGX/ahWVeUu04daB4AdinpXc+YyhqRRuK2H5guAWwPIpvJ2/lEpgmN3JuH3zdKtO3ZSw6khuW0kpjClIiOGRGpkRVgKRzDS0jL2aJHsFUFe5zWwI9vk57yUb/yydl6yYxAkpty2JwxdpZBCTEFNRTMuMTAwqqqqqqqqqqqqqqqqqqqqqqqqqqqqqqqqgXRL5yA1bEQwIHxg8/xh6GCczQi5qhJgeDRgYAJlNDBtmuRoKLhh6QRguCZiYChi0JBorkJ/60JieXZh2Fw8AZjhsMEoMXDRBM51/N4RxIADC5eI8CiEnM7FzSxAxoNBxqkWFgYxA0NJYxLzW2IB1OEZCDEBE11vO1azeU4YIzKiUGi4QLmNMhzUUawzhZeM2R06CzwQCAUDMtQTXpI5dyMDBTGSYaJh0FEIuZGRgksMJCk33dXeygwglaQx4OKZGpBc6LDCDUaCAy1oABf4QBAKAywwCYZYZzVnEKCk//PkxN5sVC5koO7y91IcHHiMMWfJTTYLd9SQIAGBBVswIDcBAMRunIztbWuxUy1Bw01SDBBGA3URDBggcmBiQx1SgiAMYJnSWRf1lqZUCqxOgl4gDL8pbMeguD83fh2mklWzboH63EIYlTuUUxAcdeCPRB5Gv2mVl5HIaEXcWisGwtdcjcd1lILArRemgafHIJlgjDdVg79R92E+nWRPchVy63pcxhzhPFYa0/UVpHclmL6yh1pHDU7biTXtSuIRZy3LabYcF3qWWSPb5Ry5L6l+vMOY40MVfqYxOTzMjzqqTEFNRTMuMTAwqqqqqqqqqqqqqqqqqqqqqqqqqqqqqqqqqqqqqqqqqqqqqqqqqqqRAACJAC6SgqAgFMAAWjrrJggkCTLMqwcFDdDAcAm3XoiYYKgaZbA6jtKzBUEDCYLzBkQDE5ujlj5TQ4lTK4DjGUbDGQcwUIBjwSxh8iBmkI4kDb+J0llDCSE0hiNoVSYvflOZogUBTM0M2MkOHWjEQIFBbGgsDmRiJi4afAoGwgZigCREAkCGVq5npmZHYCpaDg54lngwSCgwYEQGgK5MKAjBkIRImUIkISAiIKUK8HAUw6dlZZpYyEUBBxBIUApBMA4CREC0BDQGBApBIQFP//PkxNBo3Dp2ru7zDKFjJ10ImGEEuwkJW6/khTEAQjIR0ECkIZOMXvSPEhKNItAar2AWPo/qkWmnYqZXUvTUZBPqVsegpwHQS8m4Da1KoZf1pEKl9uE0Wc5D1nGgq279HlcmIzMVqeK1q+s6LKmgOOyyeeWHI1LmdQVKXelz7MjalnecqijLCoakMPwMwFpKwqQNuHIgvtgFKxtd0DO805pEMuzDELtU0AzkhhD4apYqla47wpGg4aBGoIBGkuG8inpez8t3J1hGwVpY6CNjmwzRV3QbKkQuh9X2fZ6qleV1TEFNRTMuMTAwVVVVVVVVVVVVVVVVVVVVVVVVVVVVVVVVVVVVVVVVVVVVVVVVVVXABrMtfqtbXKYSnGZjjAWfTnAwEuSCAEMFiENMiXMRgPFAAa8q0wRBMwXP03feA1vN4wJH8yABkwCCMEk4YdrKecruceKePESYShEYEBkYUBaYbhwZbBmYIAqBAqVtMHwLMNjANGlSMOj9Mng7MKgVAoNlsjCAXDgIY03BPs3TsnkzgOEIYalKHWTBx82edGmtKZngqBAoEABkiAYmeAkvM+JQ4NAIIBBhags2JEvwy9MfMz0zLIFDTONAgJa8zYSKoFOA8IymzajQVEDAIWBR//PkxNBo9DppQO7zRKbLAjBAjb8vAarZhjGK4n2AA0pTHDJgiIQHDBYtE5AeGfqHBxIQMFGRACxgvkBlEEJUIQRlpV5gEW846QBfJ20PUP1xSaBh0BHsdFBoKAiIsSVldTByZ2FRR84zQxGUV7lNyI0VJjQ8oaeJ2Z23qkoLUZi8NXGVROjg+KT7etPdaOx/OUdYg0pwmg00F3Yo/r1y5/WGNji0sgiAWxwdH2tPtlD0pdWafiV39YRuli9zVmM3Zyht09P8mfrK/O1p56W91eqbymGnX5r6WKy2rr/7X+r1TEFNRTMuMTAwVVVVVVVVVVVVVVVVVVVVVVVVVVVVVVVVVVVVVVVVVVVVVVVVVVVVVVVVVVVVVVVVVVVVVVVVVaUmKIENl/U7gAFukmSKrwuOlB2twRgwiAy/5iCIYK3g5lMNAUHyUUT3MHUzKzoiBodUWC4SZW8nOh54dgaSHGEAoNFjRow9LoMKxzdjMBAq7AAPGfMBwRkcaNDQggOMDAjFiQ0UhCxQZWKGJjAFBC0CtxkCQIE0FJwBDi2xd9UwKIhEWhcx22nvExxcygy2nESoV0gBS2L/KbNyQAKHiICOKqrPYw1xr64UGh0yJ6Y5fxKtERH4HKVuR8Zg0tW1//PkxL9kjDqCrt4ffKW79EwRl61FyrCpvq7SETnVasYIEKDctZiZ7LW9bOutrrwSZ5HyXWuNkil63GUubSOWJ0ehaqmCPyAF+G5OXCGyvMlU+rmv048qiEWj8zFpRH4nXdqxE5G0xmL6O5G3PawkGnAjm+cFWW4x9Ca+zuwpg0lW/QPrQNcj6DjVB4tRgDfOozksLL8s1ZKnRLkDFYh4LlrnfF6oPkNI/TlTTKIoyaRUruug/Isw46m9SGM4YLYag9QkqXQ8XZHE+eKIm62KE5zF56qNLFhTzS5w12iHJu0qTEFNRTMuMTAwqqqqqqqqqqqqqqqqqqqqqqqqqqqqqqqqqqqqqqqqqqqqqqqqqqqqqqqqqqqqqqqqqqqqqqqqqqqqqqqqqqqqqqqqqqqqqqqqqqqqqqqqqqqqqqqqqqqqqqqqqqqqqqrUpKDS26hCIwQUExCLCiSb+RB5GtalquAFSs2muMxBHjetQFOcwwGMhClTxSiFQUyNBMCAAsDl2wMAmLgZlLueWiGJBYFFLmUsCp02YYyA9MRUyaiSRpIBmwak2WNpKzDGhU+agqRAXKljXGkl3U6aGXoA0tnAl7otbVjEcHGIaYhvmWhi+QUuLEuxfnWXGSeVROI4kmVx//PkxJdanDqODt6fDp5CyUJkxTpJoEcG4NMdAwlMPA50wXMHoC6FsBJlEEBeDHHOkWoYL4N8UsYxqIWjjjMokSZMc1ROEkr1IxwBJkMOYf5+HQhSNP6G8V5omk/X9KWO4xWM6iQPV9PIdZVrDCvpJUwH6fThMhS0IXZjEgahbm9CT/b0egSfi0jkE1FEXYP1CYpCyAD1gTRBmNZcQ0zbPlmFuUo4gf5YXCM5j4QlmkbmZWszZKxHMyCYIWeSOcF9ZQC0f6rLiPtjOg7jyJ1HYFe0FuUHPFCUbhcpWGdMVsg1TEFNRTMuMTAwVVVVVVVVVVVVVVVVVVVVVVVVVVVVVVVVVVWNTMBIuhUJDKwIjVkcAaBLmoSQKDhgskZlYL4kIi+AIAQEAArEYOBQmBcBAIDAhMJxmNOBjMiQ6MLAbMCQ0NUYbOpXRO9qGP+7WHoiMrgRMRwXMqEGMAkhNIz4MAwfMCiVM6S1MWmAMQHdOEFpNJgsComGSJWmN5pGHxqmexTmNAMgoZwAExgsFZgCEhh0HZgQBoKCs1LgBSBEgDMQiFBAUEC4ZEQXoKFSYRJNJAsklAkyla6yDKpgFERXqAExYMJR6BVxRGDCCQFDsPFAIoWycYziTJCAo5nKhnlY//PkxNxrzDpUAO5TfAA5pgGeCFAyhRbBChHBL1dZzJJrAFQQNk4KpgMsXIFQi15qFmoFLkhDUFMIYOjATBQUZBBEQBADNEJii/jio2lqGWKdyxHCIOWxFDItZXX2hevaHFswTJHnl/Oy9qcAuTALT27rfirYZXSRZqTlwTBLnQPEG1UuTFc9435a7KIFfByWDvq2kFP44CqgBIkT0NKVBEZUXKTqV7ForLlTNKlTBOOG9MHtWpZe+7xPvqMRt9pdIoral6MgCj9gqhYVRoBcZXYYlg0uYXuDEYxabap+0wuqTEFNRTMuMTAwqqqqqqqqqqqqqqqqqqqqqqqqqqqqqqqqqqqqqqqqqqqqqqqqqqqqqqqqqqqqqqqqqqqqqqqqqqqqqqqqqqqqqqqqqqqqqqqqqqqqqqqqqqqqqqqqqqqqqqqqqqqqqqqqqqqqqqqqqqqqqqqqqqqqqqqqqqqqqqqqqqqqqqqqqqqqqqqqqqqqqqqqqqqqqqqqqqqqqqqqqqqqqqqqqqqqqqqqqqqqqqqq70sxV2yS3e2+6qUywM7Rj/AZS7AXFAsQOWlbXQuSJDhBNS80tQ4LBq34MMgQN0YI/DpF8ISEZTqQLET0TElpJEAP5cnSxMrMLKGpJCyw//PkxE5IfDK6PsvY21eN1Oo0R0aAuRzqsuheTSJO5PC3MKUjNaSWzl2pFs6SYMpC0cJGWxFZCYzEUSZOT06JyEtieQl6kcl62MeTUQXTIjtAJD1gAxLHhBHyK7gnh6oAURy8P9EJ9YniWmMDRkfoAVFMSicWiUX0J4nHqxdxKWuD8yzAUyyz7B+PkdyatKxRZJLrZKQWs1iVLqKofDi6TTcxHJYFRHLomCWShLCkQRCOR7JZNJS8tH8EMdjqJTBxVcJYtddIzxlSIhLAbHpTWkgroD/rl2njq9COJ16g/FVDTEFNRTMuMTAwVVVVVVVVVVVVVVVVVVVVVVVVVVVVVVVVVVVVVVVV1IKQEGKMIhGCAZjImehGHDmhWGA0gOodjknczYzJCEy8eNEYxkbFCFkYICwYKm0GZoSOZCiG7IJoDweXSHz2hywMa6YZqOUGfeEbxGBntRGzwgbIE5rR1lD4GBMa3FJi8EGkFuZWLxo5RjTSMSl4ziTgUaghAmBgaVQ0YtDS/IUjMGA4vWYUApMBVNDuYRONskzg64afN2krCjcFvEicn2taeUSLrFE2Uw49iQaOTQkcmyLHgFiTwDo0UkvVKVaIQtV334atAKxaF3nzWFbH6qzXVQtBjaeq//PkxNhqzDpJVt8w7JBMpAcjKj+zV/GlCEIhYXuY6g6kTEx4zWmGJJiIKlrTFPDpJcu9mqvMU10HFqEy0SQQdGlUT6OqBlP87rgLqCoEF2gxFx1bFyuKtFQ5ZsXjL9qupsnwa/CYrMM7kbWXkonNjzzL9glTzdkw1oKrMgLshAnAXspIiKlmWlLip+Ci0MS6QwVCRXTGVueJIxy2wsBL9rodhwWJz7uQS9Tww07bXGirJYXTF1mkIlLhL1M0UComKJ5q9lrqO8r1uraupm/UjhEAvBNOhDEbk0bhyDaOD44qTEFNRTMuMTAwqqqqqqqqqqqqqqqqqqqqqqqqqqqqqqqqqqqqqqqqqqqqqqqqqqqqqqqqqqqqqqqqqqqqqqqqqqqqqqqqqqqqqqqqqqqqqqqqqqqqqqqqqqqqqqqqqqqqqqqqqqqO3agpW7a2zMrUAMPJTJB1WIwkFOCDzVAsKAxgogYuEKIkhSFAQcAzLxISCjEygtoXeJ1GWNSAsHlQAjQyqIuMARKikrBkulGlsvCYApiAlxlZE4k4zAXBpxCUIqEAbRACFhpGBcha5GJIJaQqJFZzkMS6KlsudMva8kIhl5o84SwzBmBKZFwkfj0OYV1nN8wQ5Q8kQQoGEPga//PkxJpbTDqGXt4evqXobYOcTUlgwzWWg6RSAkRpnqehPUS4qMcIZJwjhG6oT+MoMYAFJsNQAZCbKgToZYDCOJRFCwjGExG6lBvnS0P1COkwlSWSHFyM92cTkk1DdUuJon7BL6cx/KNXk1L8rUcQ1OH8WIlSOiqadhbmZLqk5jdJyOEvgsgKYn4/W4OYQ4ZJWORcdNCtSSqWozEqlcnmdQZOKOhw3kHGgKuLBQw6S+sKpOVNRUgfMMhJolhQaBXRrtYt21aW4esnJiuI9CnMdcLAylQzGQm2dXPlTRijObFVTEFNRTMuMTAwVVVVVVVVVVVVVVVVVVVVVVVVVVVVVVVVVVVVVVVVVVVVVVVVVVVVVVVVVVVVVVVVVVVVVVVVVVVVVVVVVVVVVVVVVVVVVVVVVVVVVVVVVVVVVVVVVW3I5Hd0kslRJM2CCJQYSHGJxOp+C5gBAjKG6KxxPQygdd7aFAwahJrq2KqJbIBEuUZUJJaQSSF70RwUNUpbuJAQEJMMBARGJlwUtVwGMYGhDrACEWNBQCGYcCAJiCXheB6kelBoZYkoMHDATQhrvglwGMyVHQssgOYiFjgJLdIksKkLnTLCMjspSIpRXCkl8EwCu1wVho+/MPKrJ1MnUVLu//PkxKFdPDpWPtYfWqFLEWAslQVViU2gejfltm5vC1xu9L1jDSqNwWcu6spg6fQYJDJgZZp2gcoBGIgqZMqTgppEnVJS2IgGlSJFS5XrDE0zAukJCedu60WttbfFy4MVuWVZbVY0sf9XJ0urtrYfj5OsLUr4b9FWVzewuKGwYQJpOtxdieKwQljISwEtHpCpFoH8WIQMkpkxoKEq0yT8EKQ5WwR7E2gn4YJKVAwopHsKEm6jW4hQGZWyzFyZTFLuSEyUUXIeSWOsvqpSKsIyDZDUwytYoczeulw5vnJ85Ll6TEFNRTMuMTAwqqqqqqqqqqqqqqqqqqqqqqqqqqqqqqqqqqqqqqqqqqqqqqqqqqqqqqqqqqqqqqqqqqqqqqqqqqqqqqqqqqqqqqqqqqqqqqqqqqqqqo5JMrl2kt2KEDQSMZ1ljOQqoTZH/oBQwaMCn01jGlBUK6QMWBYDWtN58dAKDRdZdEOIrIrCwR5DGVuYEQlMoYY6QWBDAmJhUYvkjeaQBogAgMFWgKEvitRpyNpZRAcpUhs16ZeWCIaYwnOYwBGMGCq0Oq60ta48qczsrCqELcbZUsHp0CM8Nl0aFVeYScURS/LqDYiIqEtzkzWUo0rpZqlrKHKhmWR5ymHQ//PkxKpfZDpKPs4fmgxBz1yu9Xml7OUzqRpVK3Qy0l8neZYlc7TzgBYCEgsYwIBmdv4u9dM6+ztX9Os/s6mUn2wZHctbQNhexnz9uZIGJv8vtvZTDjD3epnRgBdblR59W5IZUTjx6BoJWZD8NPNDztROHJt3Z1pLLWupaoiwI8TjOjedKVt8t1sjD0NYmnsZSNkT6XsW6a8wluy9mQvZQTifL6JDQS+zSVkv8mo/byW5LCOgkpPUmSguw4n5bUqinSMVRfialCT8lAroM0voH0Wmp/CRLaGHUyKZDRwHIlJ6TEFNRTMuMTAwqqqqqqqqqqqqqqqqqqqqqqqqqqqqqqqqqqqqqqqqqqqqqqqqqqqqqqqqqgCE5EtJm7eZefjxiYQZhCSbyBGNipgx8FQpsxioWJHIhRBgjICUEB6AowcKBQqYGRAFLOEezdCU19ANEwzVjYIIDTd4/HGDDMxY/McNTAiU9gQTUCAQoKA9TuLOSY56jVKA1JQWh8YSr/qYK/CE0JAksJCPsjY9BbZk5igGgUQPk4hoHFYCbMlWuX+MIQulPdgSc5XAv4mkChhwlHkQ3AQFiZTIZJw2UM4mkpKmQ6SEqSJMQkOIXehSxJcj/pqs6kzKgc4rSud6HYky//PkxMtnjDntXN5xDGuxYcCrhgLLYwl6oYletYgEuZxJO2ajXWghaWwVRBn4QVMuVMEXxML2hha9xKNki7VSLqWFYmvV+2zoEFzSdein4LGjN3UZrLcaQl9I2srtfdEeNqtWKvdRdRynlLX1kprsPSsbdAfTqyItIZLXXdAsMQhQ1R5czF03iQMtZsyguisAkEzuVrFVYXlkL4JRIjPszpbzYUGVDYdY0qu78pVYzzFVVL166RhtnGBrbgQ/MzUG18mvy53mxrufZh8qZoqVy2GQ5C1+RqglDJ1/QiMsjYpVTEFNRTMuMTAwVVVVVVVVVVVVVVVVVVVVVRzNg3Aoj5rTMSDoHGsyWFTCAbAUAMBmUFCwwQCFtmDBGAEgJFGAZm6RpvBYiWwJh4iHGjPHFJGZTmEFnuPglEZ4mbOkYFodVYZwWY4qaBiDBgFKBVkAVpqmJFhIgJlhxnSQhRmcDmXLKGlpBQYmMBpJpyRIEMCBJBRjBaIABKfAjtDC8sDHiBgRCgOiUQa+OzAnCptAIqQZkSdLenaBeNYcvIkw0h1xG4LRVUAolDCxgnuGrMUQ4IhYme1RKoIcAvBUiX4Mk2gYMssELG8qUojO+W2C0Tgcu8gsCkw2WYRjETlJrLDM//PkxOZudDnUMuawfMNtaV6CioSzGpk40kvAZnMWBwGbQSClI9l9kOo9ItLEQCQvCKIS7SMZ2sOMqGhAIcOI/hzlFhRaNyVJcJH5LSIBygwSAoOEzBW+ZaGh0LxFmWs0yx1MFM01EvYCSsfd8S5qWqt639O60hlLtNxRRLMMrGBJqpXFwFmMbLQK6W2v9HRe5cxm6X6Sa15E8zpLUEnLAhl7KxQM4HGYWralokengp5Lyac9W1u68WGCArSKFkC0SybtoysgQjUmxtN9DRiUaLRXVoPxDkMQND0nXGTCVC3FTEFNRVVVDE2gjc3IM0xQLA0WiNgeTHHA4tENjP05j6DNwAGgIcAWUF6TSTEKhyxCwBrjnW2vw0lgKAOniF0wkzb3NEAqtgOU0EjdcGnxpA3aBGSDkyzQ68Z6hklnWeSjoUEUIjGEJ4ogARVNyBMGAjQAhdBBBrjioRVEbJBcpFn0LRaIW6RLQ8EBBiHm6MNFyZCNh4FHAwQwegjTpCGE/REIkkoSaoRjkP8FiUNgx4cCQvZLkYYJrkjVBpijIoQODiihNIAOmZmCATKFZsNMmWyYpRcUmBMAxREVHUKayiC+KrGchc8RDghQGBq4S8EQ8Ds5W0JIokKZAwALoII4//PkxPlzNDnEKO7yBAkOS/WJiEUIMfcuwsVCaRAIgio4iHBziGKtiCAuEyEwhZSZAIJKLdFwwUINlw8lWABW5ggUYZFUUHS9C+DHGASQWFA3JfwAFMUYMCTjBDENRa8u9EkNDKCTBIEAcerQlMy8SqCtaRiw7NB0AwQkJ5eoHQsfdxZQcQJeABkeBZKMAK+g0OMQ8LBapRYZea7yVZWMwUC6YhHkCsCfIATV0nO09VQEGDRhmhIkDBIkqhKVuDgUJ4hCARzmO0mU2QECA1NQoChrPaKpQCA1AG7o+EQJeVYFTEFNRTMuMTAwVVVVVVVVVVVVVVVVVVVVVVVVVVVVVVVVVVVVVVVVVVVVVVVVVVVVVVVVVVVVVVVVVVVVVVVVVVVVVVVVVVVVVVVVVVVVVVVVVQZE27bbJG0WCDkZLxI8M+QEFAYOiWtDbY3saXBVA30CuWRB0SZb8AkdrjylwERkA5YHWHaAkwhsqi8Cqy6V2Oq0pwg7RhcL2NEyoUt0kSko8wMRAh2Y0BpJasnSmekA44OG74G6l+WYM4S1LjPcBIDwmBlhZAAOeW6IrvMnO/iL6ANrSayOg8tACFkkhl3p0NzRtRTW0TKTXWmg+nyuJCpl99QVbKPCzo3QN2BV//PkxK1gFDnxvs4fPFWJBhujQGnpEq5LWLCCMzEE6lVIsNDHgFvnAS+aetaGC/aoZ+PJXNNgBRVCYm60xBenUeTWaKlUVBpvM2VwupYFIliqiLLpaLBWOtxnZpGuSwXALoGMRspgSR9IgB/OxXGiQdWCEqwd43DSDDMtQnKFpThL1MBSJIhBWhRBqxTC+h7JazvggQDeFEIvYTQl4aot4lwPhOSQAiRRtpe08gTxDAG8H+aA4zQMoz1I8NFSsqnhH+fiWXROSXIEIMnUJcyesJxGQeaTVigWk6MC6NJMhy7VTEFNRTMuMTAwVVUl745HypyI3mES8YWFxh0GmLRWj8Y4C5noOGGAo9YqCS6aX4hBBMBQMGjBwGJg+YRD5h8HmFxuZJHpYSgAQphE/GjgqZZBgCO5kcOmOwYYGDIBB5Zg8T0zwIEblIRWCsDDhM4kEhIkQShJKgBkol65KZKiHYGGPIQvAYwBLFDSO5WGCARY4FMFCAIFNVcVJCNlriagc+LngocxISYJlQXRS3A25QAAijJTL8m4iLNrZPBAeyMYRFIaLNBc2UgLCZoKB406I0BOCJYWdNha4O2hkIloSQckZAMNG9M7LBgAJFEOU5xKs1HJICsSTzSwoAlMLCVU//PkxPRx3DnY/OZxFACg0BC5VaWliUAZQ1lLsMoQjOYTSfapiZDRyhyBr7EZwYdAUKLQILsM5xlEgCIvoPBSiLwJOJmmIZY0WCm9LTRUjdmml81hxsKPj5rDo9pQF8lbkzBQIYdMmQqkYkBUo6IHIxFx1FWBIgKzqSWERFVIMPW5ElFVSoBC5rTF0w8olLQyCAcSoaUJ2F04yFUjohwIhWEKlrLRYz8NnQ/UyiacxboICjUmBADsvAryuPDjKQbKFzqOuUj2SkTLbnQ0rgMufhHGNwa6Kwb7MwclnaXb8oRqBbRlGrC0ZshgjG5pkCDJEMFEAwoEzCyRMklEykADD4EHiqFQCXZMdCIvKCQoLNwywQjBoDMUCYzQ2AuRGqBxl4gbxMG3RRzsuaqqmUgyvwYHmaiZhJ+Y2IGuFwEDTCC4ww3IooyYXNBHS3hn56ZmWmkJxsUoc44HFOhugYIUk4WbK1szNDMzpTNzozQEMOQDMgIwoKC4mGD6chiwcZgNGRBghCEeHDDAcwsHBwWEBKcQBCS0aOaPiBhjAUBhAxsjKEMtQhahGqoND5iRIBiQcBFMBYNCwOYqPmMgYKB0OxnwI2C7AdgOebwhcQEQpiDxiAIrtKcR5GSADJq0IUv2//PkxP937DnUUubw3LHcoEIGiJBoTS+7Vm5scHRHhz2I3IsJvBQxfCbAwFzr/JAwaXUDIgr7WkNgqUIWkKDhgwZc0s0AQmJCCdMUFCUdUApRwTTgchOSNqyLBKaJaOS4YFEvJoa92fOS4at73qWlu3DR5WYpyYBJKgpRMlbCFI9QeU8o0NJpPoWIPCGUIJ1bGWpjpSLwCyi/YOI7b8FViWiU7E2xjVyoFuq0UKC+AWAKmTAZKjWpFC1OR23LmFKZcX5VGSgLwO4oGrbSonPKWXXUh1gWGFxua7K82QM/TRd1pyhzgKMVY4xRTSfXvUxBTUUzLjEwMFVVVVVVVVVVVVVVVVVVVVVVVVVVVVVVVVVVVVVVVVVVVVVVVVVVVVUSSptux2yuymBBGGErFMWWCgw1zFGQFSQqHGAyMxihBjjwoIBAVdIFDhUOWuLWkYIwzQcIhBchLGyMmCHG/bJ2KVJFmZBhAoSSCw8KixGFMavMWTCqIDdAGXFFhjDBfYwYUwJU0gcKAQhynSQFTF2TymQscFoggBiQ9ZRolRMoMoaNEABBYaQCoFEIhDmbEmXHgIenoDQpQPgUyDAyAwyAZAAxhEUV2eXgJQEcaiIUIAkoIIArAQxCFuIEgDyBc4BO//PkxMFlLDoWXtYfqIluOpmgTLaF4KNCgIop9sgoUqPYWoA3Vl7THDPTAxDfPYAkCpxqa0l5hCEA4eszAHiTrlooMsTCbrDEhR7SbhJELJuOMlZdCcKk6Fec7UrC/syQHoVmDQVjVI1E8RDw1jQZDhQxqJGqynPgyB1pst45zeNA6B8F1CQL6VQyMZpP1XZVuDDsu51w2uCwVLec5J3NpbkqtJdmNw3D8QxWGL4ceipZlecKlUhDjqTqyUJQniegm6XEXDrK8t4s51LkkZzqhWnkchfSXoaq0ehKNRuVKu3yTEFNRTMuMTAwqqqqqqqqqqqqqqqqqqqqqqqqqqqqqqqqqqqqqqqqqqqqqqqqqqqqqqqqqqqqqqqqqqqqqqqqqqqqqqqqqqqqqqqqqqqqqqqqqqqqqqqqqqqqqqqqqqqqqqqqqqqqqilGkav9yRtBhcFNbRKY0kWnMtQwQwQsRCsBR4QMYYnypupoyTCIvc7DAGKNdbgHANgZzD8PwW0RiqVtK7KqiuXVUwVwhg+TB3JL9oIF7sGSFZqYhJokmEUAKA4wFXlRMdYJGzdAADrLyIY2gASp/SUAQinLZkYhaq/FLxwCahdcEFIrJkDB26BBCFAuRXSYq0DEIqiOCC0c//PkxJha/DpGNs4fkuCAI0JqDYmQoZBiG4oyKeSvRhb5HwECSEeFgzCmmlo2wspMZw5agbMF3oT12oJxI5a9uTJX0cpQRNdUjEmxg5acSPRZgDMLICAwCQjY9qsClZhCX+R+BQFB1KGFM0R4Rsf1E9wnFUMEoT8sQG8Q9TDcJwaK/DVBpjuLcJJR2H8EoPdDS7jgNowB4nOyNjcSBRHuchPEmXQnh7nmkYByLs/kHQbbKdjg0nm8tDO9UzQF6O1KWTUNjY9MZ5t+tPsrell/EnfQKsDqzm1xIkOjyrPeLLuJTEFNRTMuMTAwVVVVVVVVVVVVVVVVVVVVVVVVVVVVVVVVVVVVVVVVVVVVVVVVVVVVVVVVVVVVVVVVVVVVVVVVVVVVVVVVVVVVVVVVVVVVVVVVVVVpWIGQXakqEgvoZug+KP6+UNhkzXj+oCwVaGHElJOonqoQ6ZAMKASVGzGYuSEML9mpph+TmGyrFQDW2mw+2RCerGi4z9BlSaV9G5bLmvagtraVirxp7ZjRYLmd1DVlsNyF2hQ6FJdFPYsu1V8WBhkkfXaJTiopNKlwOULJTGmRkCis+pUCBIBRIgBGoOtiVsEVmLARMZrKhcaEgub4o1FoziMfEoowVtzAUwjB//PkxKxfzDo2NsZf6IFA8SiJiCoUhzcZVMLRF4QRgJWJNoYhBZZwtg6BZARuiSzOzVBHTUuRkpI9EceSROQQBYB/GQOKkUzFBPGndT0WwyqZ+XvxDrRIUwx1XBTDeJgbbz6trIGEXmUKxpfrrBgSSDOgwNnjMfbAvV3F2S9p6PijK9GNrpR7dNICzCMrmEfJIFaxItOl1FyKMXNXK+dSDfMdPlsUqbbIqvUitH2GmuzbXII2CXRxWIWuB/HQfw2SbrJLCwjjWBnHCzpw5DLaBxzHWkjELN6ex0sxzJ9kRbWq50AcwMPBJyODhlBUAh00sBIrsRBAODDPiYwQGBAMAAQIHQcEAYFMAETKAgzkYAgIBj8zo2BKsZG5mflBl3ABEgyRmBgkYqPmQCwiCzCQVNFPYhBACFN8W4AImgaZcJBAIYcSuOZULFAgWAouqX6DjsREJKHmCkZpAENJxhtea0+WMYCtIcjPxzUkytKZZ+aUaIz4CpmMXA5qaEYhLC7kBIjFEDTsCgQFRAABGhVmANITDBhjHIExAasMU3N2X6SOTUhDPGQ5MMizVFzLThMaYip3IGkIBQgoK6gdANLCAEgJaQ8bOTPMHIE2g0wVAFXhGKX5LbGYgJLH0IAHENAj//PkxP911DodRN6zaOMBcXCMQNGdFIBJDwxbMdkLUF3AEWYioGECjBcAs4mmXjAJYUFNdI1g0Hgi52AAIXzAAygBc1jShyQyMraJLoRDDIyI7ZNQpcDi3gXY3jktZV/Aqcit7XUEisI0eXPRYSLEg3jxYC5TkNWpIAwjL1sBZ0uuGWkYtwZQlW/ZIK5TzCxoyUtx91RuOzKJNOQzgxxoamnyUeLwxGGLhKAFy2tiJoWKATqXCaS+UO7frrR/HTFeRCbQ3Fm2Qohq0pEJ1ooq3kgKANFNS1TJ/ErQKCvouWXgS0ThhypMQU1FMy4xMDCqqqqqqqqqqqqqqqqqqqqqqqqqqqqqqqqqqqqqqodndCVHMIUmOVKMfEOHqOchCyk91U2KFhItdFqCaoGugqqZpacskhkATyZQOGmiKU6KgJOmWCmsGCw8BBgBOSKdlXKFQsDLdFB8iNGYMhzMalnWGLNJiY0NS2C7gLCjBigxcxKsqmDiBjBiE9bw6dCoxCQaYehmkaDiCgqbxqi6lKgpEXJglZhq0Ykg6Vqgt4sHC5X1LomqaA1LWDGs3l8w5UAl1NGegLykTIEEgLoIwjy3lGktonSaqA4RbJE5pilRetTceU1h2kEMtbogSZihxoZV//PkxNRp9Do+9tYzmApJmlJRPM34kpHxIgIbAiVCdkpiY8F+REAeAoQJ5aUmWQBdlqSOjMoaTMpS4bornTAcpYwspiAgAHEcoVcCQiF6H5RZngPBEHGglEpNZxG24vaHBRSgqAUzAgZqqYzJkvC8qmbJkq0q4bVJCVJCVEgEY3dXYiolYADJNqxmFKVCHAmQUOSvdOIpTuBPxGzRNhi1VwrNCiW3jOVBCJk0UwNQIQhGMvpy0xgwhAwRiLdSJUkvQyJkwGNAEFHst2RLtAgVkwkGEHqApaM1WJLXGbq0mLRSTEFNRTMuMTAwqqqqqqqqqqqqqqqqqqqqqqqqqqqqqqqqqqqqqqqqqqqqqqqqqqqqqqqqqqqqqqqqqqqqqqqqqqqqqqqqqqqqqqqqqqqqhXmFIkcQFSYcLN8U1rgzUlPEBAhRCrxyBBjAUGMvY5FwIwAVwQKOvnAeLGQ2GFQWGHoaFtgVOZCAiYKiBxJloDSVVKkUhiz4imlcJIBSgRNGNECGkQRQZEQWOIhKdKhLfFkWJFpDagQMFRAUD+ppJkLbfh4HSUtZsqRJJV7MFWDAAdppLHAu5OZOqRpEpEtPqM/aeMBZwICMgTFgV/EpJQBgpMonKPWV1uouWHHHjjlz//PkxLFhJDpO9s5wHOuRgspdVxJKiMzZMhHthUvDnqDw0riOzC4WQQ2lWrczRnimOTY12vQlegNYemgki09SRedkCVEDMoSdgB6WmsgkjKW6OzJHeU+xGRLTWFVIz1Uzqscbq7633xxb9wmkrkVUXOrtsDbrca1KGUuAv1YzswQ6zS1or7LvtdX6pYshu7swG/yWky/8EulNRaosySwTHJG7j/t1uRSN5SZ/opLEObO0x0mR0SN0Xg5bD4NMZCXpSKcF43xlSnTKIwsh5ZO6sZgWVSFdTE28WFUcUHVG6DcaTEFNRTMuMTAwqqqqqqqqqqqqqqqqqqqqqqqqqqqqqqqqqqqqqqqqqqqqqoZYdWHFfScvBz0xyoHtS9xnSxhiJgDhpjIiEHDIlTAdkqBSIqvM0SHCxhYCmIGXjwEACBagXXMgCMUCFYQcpNDtRdAK8xYEOJiMeoGODkBgAWBiwGRBLpEiHVO8n7DRtlrJR2QUKARJMlKDKkJYyMIiRkA2DwwkHBg18LroDyuYxFRZgzyBIplAEEsOv0K7FzFUJUI41Kj2AruRCmeMWRmbItZfZeQlY6RdBQEZIRoEjnlyx1LUpkFEzV0jxkQW4pANXQqLKER1IA4ICQXDAAXSXY2i//PkxNRp/DpK9tZxDGIW3UtdtQIi0AYF9F3s3UtQ0ZMlqKBoF9iokKSzkfd8WEW3HmJGKQLjopgYo89mcNpJs/LSsuXZmmYQBhxGhboyEGgL4CGa8oPg6IJ8vwivD6gSTZc5p6sItdLQveNKXI05w3etrWZyw6CHhfZ0S1KCqGKaC/I8sAIwOtGEVUOYQYvoBRpvQE+r2tfjarHeg1yV6LflEdii7GvF3bCxk4DwVIxFcS0pAu8ziJe8yfC8Ge3E92CII20auppLEnIfctXz8JbpepWssSAfVbamLNVD0v41TEFNRTMuMTAwVVVVVVVVVVVVVVVVVVVVVVVVVVVVVVVVVVVVVVVVVVVVVVVVVVVVVVVmaJNli4Kcw4aBKExEQ1qk5h0ItjU0VhmKAmRcAZqcwIjkDqZ405rDD4ABiAFKVxuBGGgdj5x6Gemf+5nPmmWP/mKaBUTCBAJJghIC01iUUAot0HI05ToMCzBnNnPELLroSUV+OkmCCWUZiKGolpOF1QWSWkL9Nu3gYKqkCR1aSFBfAGcKGViEQAoNG0BDDDKWpnGApsGCyrKgpL2DGXF3RRjPC6SCFhi0S1bLENBIEeZEydrbpK2DhZ5AcoIttKxUQiAsRmzPVVFDgYAA//PkxM1oNDpC1tZwnBBgDGVpoJQuBnaeDJVYEGnfj6oB5rDlpBdlqDEN0iUA6gwc80AawzdCersu60+H2WrDLoJBque8eA08tKtBG9AWupnCByFg+5L8HGUUSvfiBZSpBX2TJHYYWzFClMl6BU7+uU0FPhiadKm8QaXPtfcNv2vgULCTCFYZuCpEeEiYTAaijFiybkBBYpSNWakoA/7tRuIwDAMDRNo0nkbixtAKDAvUhuOka8XpWK2i6F1qKSt24ZdFAEqqpaiOsV21dRlrbG1CU/EDmvNCaVF1ktJa7Yf5TEFNRTMuMTAwVVVVVVVVVVVVVVVVVVVVVVVVVVVVVVVVVVVVVVVVVVVVVVVVVVVVVVVVVVVVVVVVVVVVVVVVVVVVVVVVVVVVVVVVVVVVVVVVVVVVVVVVVVWXSJGX5KTgCOAQKExiBiYyObOiRjQCYwmiNpDANCB9WAA6dmphCjyzPkOCMaXRhCpCpVIDUjQe2iGJsA54LjCyzOkUlxsSAyaTi7S0CfwLPcUVPddVAIIcKUIBhGRWhyEVkLFV1gXLBbk8E90MiIrygbYBSQmLaLUUeUUVtcAhOHWfdJhdIgXp4GmvwwiAo0z9U6sYO6hizuQNPQ4pboJ0oZZMMvQ3//PkxKZeTDpWNt5wXmmwRxsbAmmMoSTZ2z+hWm+NCIyvREXIaczeCmZRySKHxBNpBG0VmcIiaqzdnEc6AlU2HuvF1bAgK1hCRorKYNTpcROFShrq55YiWy9QSNNLaC/b7Puut9aGF4NyUJchblmAWp2nPhl4nXftdzQolD1yB2nrzXhTLzm5TRxtlBEBoDRookdJnbQyeO2/jGH9lrL5REmfrvS7fiYs9wkMvfifcOcjrvMWR+Zk0pCe+sA50aXU8tpe0nUqaA0GQddhszJX3gtwozRP9EpBLbN2ZqReNvMqTEFNRTMuMTAwqqqqqqqqqqqqqqqqqqqqqqqqqqqqqqqqqqqqqqqqdYZCCXCSlMDTg18BLBAVCQFdpmhWaZGhL6aAfhAeYAAkUcoqCg8wIjQDmDJmAMgxjCxYuZY2SQxA1My+Nk1CG5+bhGgNGoEj5kihiV4OVpAmHDwAFCJjiQEji3ItABspCANaCFjhUOBwdNI1oQw5YDJDCDgUNEANJhEkOOISAsJgIZRiEITIBZMpgYsNpFQ2FBIGXgQUGiyw4BhiIwnNqDxhOvSipEKJAXHWUx5H5vjMEgGYDhdSsSGKLkDLmSAQsVoaOy0MgmkHOY0zcVU+MdGWMWLoMAaG//PkxNhrBDo6vt6wnN3SsZWpSWgVsnmvhBisaUbK1g1LCgq6kuGFBciAcMVMCI6V5bddxKouECjUBeMIaqszo7oVylajWWlUWRJWvBKbihqMpUDD4FMhst5EUaEuRM5la4Ex4IbCyF/FVUQEl59YJkT8NZactVh5dVrtRlTN3KQDI6iiU5EFm711yokl1GDSNBEjWhKexI+BZanCrTDcIf+DIQyaGHEkUOs6e9MVjq91hAgrrsMhphy/GiRFVCKMvWFXWpCBL9JPsgWu1dOBTNQNNxnCu4YZLA0FUS9XTmnkTEFNRTMuMTAwqqqqqqqqqqqqqqqqqqqqqqqqqqqqqqqqqqqqqqqqqqqqqqqqqqqqqqqqqqqqqqqqqqqqqqqqqqqqqqqqqqqqqqqqqqqqqqqqqqqqqqqqqqqqqqqqqqqqqqqqqqqqttrxpyxuTY8FjgJFkQViachI2FqnKIBU3wFijCCpiFbwXAaBfI8ACsF1klIs6Cuk+mMmMgyADuVCjksVSlBWNqjFVRMFOdExDQIInAoRb1myZQp8vQu+CkeqVcDtz6TyGygzlJjKGz7tRNHlTiGy90NtBLuIS1oiEyIwXEGGekCiiLauIy5c7gqgQOYa7yRrQXMSzQteFcz///PkxJlbPDpmPs5wAk87rk13FiKpWcqC0MTWFUVTVclYWAn8jDuxiFPGwWPWobWNLlxuA0JmuUXW0/rWE1pWjYut2WkJ6wGl9E2uQ/ArzQSmK+9BDjvw7EJe4ScrXoBXamKullKpYgoM70ugJwnnlUolX1JdTuSzmMP9Q9lztvzFKZ72yRNYrBkJKmZcwStCi3sQcEKDL8P0k0Kha4ziVMphpgUlf2w7rOYk9OF+PNzqMyadDVxpTN49GoGbFGl1NajTTb6xWmtydu1ADdJLFZA/TKYq8TvO7QTz+xOOTdStTEFNRTMuMTAwVVVVVVVVVVVVVVVVVVVVVVVVVVVVVVVVVVVVVVVVVVVVVVVVVVVVVVVVVVVVVVVVVVVVVVVVd+dhV+aTX8wUsDIAE6OJXER5XZyBpb4zzECETTDTW0C9ZkD5nh6Zo9Sc6xCMCnhwU6HQUCFRjXQM0oHHGC4ddQhNUELNNCQnJfhApgIh0hokFo0cQuB0BBI1hAQALL6AKM0j1GFHxoUAgKYAo4yg3qRiBIJISocAiAAoeIiUKwMPQysm4wJjS1kTU+XviUBy5yVYhQKgiGxiuC6gYxgHC0rky0Bil4RFzFZQMFWwCBZYv5lq1WhQgvEuNAEmiii1//PkxMBk9DoaPtZwnJU4WiX9CAoNIGyJoztxyExWAUvUtmFm5YGbOMwQWT1gWDoabdLVUgcIGBVUTicYVGyVnbV11NKkriypOVBAytLmNsmSRVUZY3y6kvH3jyQz5rpEAVI0j7KrrprtbfKVO1EI+vCPtcft/IAkqjajiBzcWAyxe6dcMAYSiztsgVUVOqNPVeTcn3LSo4t2Zt1cjVFUYPkD7qmhx+JM5zP1E1GIYZWlSuWA5VBsDRlhDxPxDrM3lbBBCr4IeZrDEI+FQPVL2fPFUnX9f+AnIVM+bVWnNNgdTEFNRTMuMTAwVVVVVVVVVVVVVVVVVVVVVVVVVVVVVVVVVVVVVVVVVVVVVVVVVVVVVVVVVVVVVVVVVVVVVVVVVVVVVVVVVVVVVVVVVVVVVVUv+2b//baymfITuiYhjII7QWYAhMYmYstidKwF5tQw9FC8wwOYR4jADQ1UwqCX/ZaQCuKDjgIOlakQIAho4RD1zDGA2QkGDGwyE13jLmHgkYG7wq+RJKErDuNE0DSZgsIF6R1Cykm1cggyA4KiFtKADDQcsmu56IREAs8nrKFJIxg078LteBt0x5aXsWQWQTWaUj2qBMB+UqYm3rX17zT9llGtohMYVGxdR5AK09Y4//PkxK9glDoJvs4fXPJbixdRYvs5TD00UU08mFQYguVEFvnVZm05e6gahiuYLdxAO8SciDkvTqd1WGWF3ldl21Y2xKxMzTUbkDktTdlTRWBUrAGow8sVkcDMKehnCYSsK4YdZIvBo6ObSVjNbSpSbUPUyUoVItRxGiF52+aa4HHPgZyX4OpNg5i/C4uAuxNz9OpDTgVgm57nOq1ypWEuh/lyisRvGAypQTNFmQeDmTclg3xaDeZyxCLF8IccRekahJ6qU+hXhYAwC2CGOBjoYEjZpywk0il5HVY0WkyyekoVTEFNRTMuMTAwVVVVVVVVVVVVVVVVVVVVVVVVVVVVVVVVVVVVVVVVVVVVVVVVVVVVVVVVVVVVVVVVVVVVVQo3LbrrrY24AxBasfIlzw5QYYebIAcsOAABIGTOIgT2ICWLCICm2YcOAioqEFgqqhIKBgEBAwuTMEARmNZUuYLAs6BzIjAOwsLlgpo2gzTECEY2oqYZKli+EVby1FVDNQM5QWQVIX9LXt6Z4RaNJgYKUBXGHSv4XeCpIVLBxYFPJCEy0qBkxzyslMQujJ2CXVbGIl4l7F5gAQCiCzCaK1FbG5MIMUUhCTBViVIozA7PQuLTwEpyl8ChgUeEAs9LhMVQ//PkxMJlfDn+X1rIAKUUFbVks1XYXtXcpY8qSJMA8QQYLBr0a02i/0xUbnpmmhLva0qCUuK+D1M1S2stfa4p9xmUsgUSYcw5frJmZMmgF1y/L/JEvtBKuWKMnVnfyQrCNXlTSEsky1zl4nXbCsKzmVOq/rtzL0yV9murCSGFrtY42kIT0RtTEQKdZfL8qUF3nAZIOAKgdKUvC8DWGowyiezR3nhhUqZo0151Hk+1uwe5S7k7lYF+QUsyFrdgehbAyxVqd6FLjQAhvAb+MEaxG12NZcBQh11y0CAV92ENnWB0TEFNRTMuMTAwqqqqqqqqqqqqqqqqqqqqqqqqqqqqqqqqqqqqqqqqqqqqqqqqqqqqqqqqqqqqqqqqqqplJNytp0WjR2qpdWNGcKgI20Jp5gz4cPVLTSuwbBUb1LDLc1yIKHTGnJCRiXuyjUkC76pDIRj9UtNbcCnPu3MOdMyJBwoE0jzbDlNB5sKgQUTL5r+a+uBTMs2YcDApsth8HBkTIWIIcRoCgQYaEEXmbu2piyoOXmIGGQJBBwzSYxx4yK4FZAyIABcPrflbx2lMYWgHMOHAQ8aKLramlQEUAhKFB5IkBhQx4wwgWMRxgsBsdbZoDg1UJCahZMw4USBmQBFo//PkxMRl3DoqXZrQABDRJMSIkpUtmBABZsHGAsaiBnh1uneS9HLkF1uUkBWIAhwv+gHUvMQELIIaAoGy9/01AYNXyShGfgY+kABRIcjEI8UBkKeNTdHT80/McwpaaD5FInhgymYG77KkAivEH0H3mRQSoWoiuy9p7gJgKIgYMxFYVQVa6OUWbRExcC/lEkhGPOJL5fYlNudkFJS28KPHLCzy1nh2wyws2pN+0wHQiip2Tw24jTLLvy+eikYsULhu/AI6MAhZyRwPLmIqkLVJGJ8pqrNTCe6GEQ3/Wistf7iVTEFNRTMuMTAwVVVVVVVVVVVVVVVVVVVVVVVVVVVVVVVVVVVVVVVVVVVVVVVVVVVVVVVVVVVVVVVVVVVVVVVVVVVVVVVVVVVVVVVVVVVVVVVVVVVVVVVVVVVVVVVVVVVVVVV6l1fsJfKinRQKmOwiYoBRgECmLDubJIh0LlGHJ+YVQxjknGFAKZrWpkUZgEDDQdMFjswSMDLBYMulUaIRlguGGSIBh4YWKAGCIJC4sTDZBjDKzVmQVfBocIGggaHKgq7OsgKhsxBoxBsnXiEAaROFTINDEwwwBgOOCoYBHENgUMpTJBguDTVLcNPWNJUJaqC4WjoSIs2ZkkbdZc8D//PkxJ1cRDpm99zQAKwE63ds7gI+OhOJ1t/GLkTZsohDEOyODeUcji0zS5WL0mwl1PT17dDCJ+zOSx1oYh1+KdTOpUbPt0GUPjagB2XzitLL4Hjc1HJTyV4z89L7GGF6clNJbqRiLRW9bxwsat2LtPTP5LJiMS+km5G/F/cTtfL5XD7/yOWRCllkYn5VLb8DzjYnno+QJSMDcekcuHIqyt6IpGobgCW7nH/ldpsDqRCWu5efWRyCLSl54eVuljWHUfZ9H1vsnanZjzNIE1alt5lD5d1H4fu09ujv09TVXHKlTEFNRTMuMTAwVVVVVVVVVVVVVVWBQgvyzdmYqAphsMJ0gfRhsCSeaAkgAYwkFs0/DMxHDMwcAQOBUwpC8wPFIw5CUSKYwBEswaEUyEDoyqFU+E0A6efA0qAwxPCDVTiM2aM2xPja51MCH0wIMzFJGMmCg4JtTgoaM0iQOGhkQAma0EaJipqyCGiDwIx0NC4uKZhEQKOJhENGOgkYmApiEMLUBzHBQ7O08iObgJlhsxxKAbtIgQBlgc8KDNBM1MSBYCPKGTeHLo1LvR5BgAdKZJpQCYRZiHptnyMTYNfDhi9gjJVIs6XstXS3VsDN12rxjDSmWlpG8LcpCrVWs5ju//PkxOtvvDpAoO8y7kWkwEGcBKl4G1ZoxEucuJEYHBI/JltBQpTyXwYAiDS/xkCfTUQV0l8JAtLh1diuYtCmaRWDW4VH3iM+3Z6cY9MPe7bImIS9srTkTrK7Ee3XVAIgAaQ7KxlQOspcwsvUrYoqy0tQBCiUEZIR/SZX6nk6SSBctm6lSxWB5vdA8cW0gPc9xhYZQcQGgoZfCerJ6RNZEyNrPUEhC0xEIylyG5uUQiRWMDQDTS4pEcZZKp053DtZO7A+UQg1o9+bg902FEocw6b6Us5QMvi/JY7mEXhyN1IgTEFNRTMuMTAwqqqqqqqqpBACYSWABB4sAWtIRAWMkUZgOCGDklBEF2mB4UmLSume4iiMDFlgAEgMKpg0JJtqT5jqCZhoG5hsAZgeDBm6zBkN9pvGaoUUZkMaGMiaQg8wofDzrJIn8YiCIYARgAmQCKYOVJlUhmJwCgqYbDpjpCmarGa5fJnMumTBUYCA5gIYGLTAZ/Ypm0cmGQOqq8Bh4giZU4LkxYsVINbHCpt5AFcmtHoWNs3Qxa44JU0gAxoZNoLBwENMUBMqLSTAwuBSQIXeGQIQPVRXcoEChSEtENNeHIZjFq4tSLyRkTFmAsvVWZhFliI0kwcvI9jKWcF4//PkxPBxBDpN7O807EKElMIYVOypYynadiFDiQ49LWRoUnQgMUOU7DgKE5Nktw4K4g4DF01DGDC+EHx5U7Z0r5Cw1hzrNlcyghiDJGra0mCZQ2RkC4msyDlHBjszkidpgT9ORDk8isyVQRPpnTYIZVLCYdVLUbgoMu9UsuU+67qQ+021Zaa6bLUE4kRgFaJZlAewd1XWgF0Iy8KCeO21Svyu6kYC1lsj7QOlKDQa9goRQEGJJiRsVEqbtPcJWuAYEafGVG3kUzsMQhpbaRRABjSOpdRc7+sodd9GxLoZfKnxTEFNRTMuMTAwqqqqqqqqqqqqqqqqqqqqqqqqqqqqqqqqqqqqqqqqqqqqqqqqqqqqqqqqqqqqqqqqqqqqqqqqqqqqqqqqqqqqqqqqqqqqqqqqqqqqqqqqqqqq1TcTiHXytxLWPgoAoZAwImMU0YZdBiYAOLC1iRgQDEArwSRgsCzDALLevKZqaJxtMgo1gQBEIFMOkgOURmlpGjQKNLQwaCk1jE4iCBwb0gBokhn3gVVIgqD8jpsXBL7GjFGWCGkSEylpg4HNQfNC0OmpHQ66oeYk+BlK1KA05lDkASdQKg5cXU1BgQCAv6q90JMvldqmDRygjW3nnYzC2uQ2+MNR//PkxKVeHDqOVuaxCqf6W8l9exVzq6jEUjDzP7F2vqovWvGaUuJgvMpIOq7Jd5AipykQz58XyWBU5bG0dDNU7etfLeIzpir9hoifQlv27MwVHWTpU+txvINft2ovHZihonxvU9LPxCTNZpNZZc/78zhlYctrLrYWn2vO9L5+L/N1pp02vUchUvcl1YnarOxNs5TrjMDyqQKOioEUfg6TxDNWNf9NLrMqXk0GRPNGKyj4MYCkQ+4LXVhQuZjIcNU01SsiUvXwxSpKYs8TdmlvXQRaX4tNbWhfjknyT3UrbaWVTEFNRTMuMTAwVVVVVVVVVVVVVVVVVVVVVVVVVVVVVVVVVVVVVVVVVVVVVVVVVVVVVVVVVVVVVVVVVVVVVVVVVVVVVVVVVVVVVVVVVVVVVVVVVVVVVVVVVVVVVVVVVVVVVVVVVVVVVVVVVVVVVVVVVVVV/SVWiIKjkjidC+IDU0MFETIAUwFIOqFIJuJUPO/o7JjUIbXKkWSDosLhRIFmTaxupebbcAkZMBDjFmU5rBM/RDLA8IN4k7DChEAmHDr4Q1RvpDwoAhBCBhtdcbbGwFuD9oAHElk3GWwv4kOX7lXYDLUsEYY7k7ejxgIMXbLyI+RqYkamLDGBtflUSLQL//PkxI1YRDqSXtvxtuP8tkQfi5N4+5VIhikbo6HMakJ2WOZFKUgB4kLbJ1SPoc5vBBCERk+K6JwQEA7BNhsl9H6o0GQMmYcIVgdREBnnGdITD4wTWbQ/3adNJapDymGGaJHhy3Yo0aksWSNB+8Y3CxrxFlz0vqZMi3i1EJXSFOnBJI85i/oNeViQgn6ZEdrlhoWH8qDil0njhBkipkaH7IexgF6etLigxXCYs5/vVUeK9SCpbdb7oPrFlMEgmgVaSgdFBpB1zoQ5dekd1TBpcPQbRsgBB2ly7tBVQ7qrF23+TEFNRVVAJLRYOOJHjgAAhBHMCoeQzWA3TB0BOKAAyIH8wKQKzCLDfMPUm80/hVjAMBECwD4FAGRmMA4B4wlxwjKRKIM5AUxYBzAYXAwHGhWYsEhv4cBjPMGB6eR7TeKoRMKrMzKZxoNITgsAx4EGARYY4U4EZBjwDGHAUChAw8wEEzD7ANPwUiVoQtAULzLgUMLDYxOLTQHuAUJMPhsKgNe5gsDkQKMUgkyoLhIkI4DoMQaYiYEMZksMprIJwqAV5JlA4BGAwImBDcTgZSqXCxZkCJ4XGkshaaYwoOXZBDyK7RS5Y7wVYTnTddPwHBQUYaRIYAAIdFQwQGPGiiJw//PkxPpzVDpFQPcy2Arrt6+iIyKYYKAUkxXKm1VllOEHLIsF2XVhkEAoDldIas6R3Qnt+4KTycLtu/A1llMhkUQrxyYktyzN3dWo1lTWc5TS6mYvcjDiwHF3ELkP0wRIl92XLtbhOxKGHWcd4VbG6oy1GrX2CtyeVfSGKwqYwOGQDMhgsdcBpRACYhqtDYImZIKFKqAKKTOVA15WMoGSzSZKCRIctIhiY4CgwFMHZCY1YZXCIzYWbqbmGoRMopv4oGXniiCRz3mUOR9TfYe/qTzJYfUOgJ5GYNDSYZGMgMgVTEFNRTMuMTAwVVVVVVVVVVVVVVVVVVVVVVVVwAABLojFsKzH8E0c1+GCIFmFhoG83pHK6IGGg0gQEDBkMEbzEo+zQpczOYjTfl0LBJgwEEAgqWGIgBz9YaCSmZFYICC6S/0Hjg/A+VwDC8MJBkDTARDMoYzZXI1UkJgMDAIcHlYcDT84B5MiRwi/MoICtHCgwIEERmxlIkYmIGQiQAAy8hixyYa5HPyhpoRFl1I9odxQVMwIzIBcIBUmUbzOZCPQwFCSlUXhR1SpbRQVlUPTbMlO3ATdMIsMNbEupisqfcxhzCHkgwEutbMEA1Y5TjNMmWErCEAbpJzsEh+GGBIT//PkxORt9DpB9O7ynFjDvNKLTMfb1MlNALiGeUYYSAVfjX3cUUMkZMIuCv1c8ZVINFGAObSoADEhXSjDC2mQBD8QhdJNyyUwqzTyF2705OVaR7HbcaTQfOTsHN/Gn5gNFEtazEqhsRUYQuUUfhAHJnsYgvd2HcZujcikpzBzcpfOuVATHyQBVFmDeO21CJu7E3BQCw7A6IKONRuqQreyqhlLAV2GGE0KPP8WA0mUGlZZFHn0bdMV3SQsSnUIh5LYxxlRoDWfKjbm4iCI1xH6Zy7tRuQADListaayFoLow405TEFNRTMuMTAwVVVVVVVVVVVVVVVVVVVVVVVVVVVVVVVVVVVVVVVVVVVVVVVVVVVVVVVVVVVVVVVVVVVVVVVVVVVVVVVVVVVVVVVVVVVVVVVVVVVVVVVVVVVVVVVVVVVVVVVVVVVVVVVVVVVVVVVVVVVVVVVVVVVVVVVVVVVVVVVVVVVVVVVVVVVVVVVVVVVVVVVVVVWAOy7Zy677biIVDRJLVUQKHXiXRg+C5QX6MpcI2Nyciwms9pdRIY5qRaQTIB1iJKm5LcwgCl6XKewCEgOkDc13SlRoVKsPoqRAuqtzVxMgWwPkkhMx+vifHEAugYQMpwwS6o4V0kqdeC3F//PkxGpPhDqCXs4eknTATxJW1SAPoQJEoSpUNhssVtZYp+rL4/XWqFuWyUmookk/ZRXQrVJG0aR/ItKsWXy0nZkgcxzE6fnS6inwcqhRJJYsFsMY5UPJq+JijE8vrMe52oSwRpnrcrohzO4DEzQnsWjkwxGc0WjMJqUUdlzpiURgptW1JSgCDKMhKyunbiX5ariC3On21bGJSYguR5QWViV106hLaoWtQq169xmm1NPFexaWX04iEOHyOlTMbgowUoQkBhOlDTpcSfC5P1ycAhxzpVDmtOp0gzS9XUOiHKJhTEFNRTMuMTAwVVVVVVVVVVVVVVVVVVVVVVVVVVVVVVVVVVVVVVVVVVVVDGRyWttwSCQwsCMxkBkxNIkzAHQ8J5g57Qs26o4zfNAwsKQxrLM1KOEwJBAwrAkMEUkAsRAgYJiIDAUMKwOBgEl1DAkKAIB6Zi/k0hEaDHgcMnSCRFcvWXJGT0aRoBVw6ql+ULGAiGoC5AjUVvNIMSdMfgyTEuQKw0yClARVJBYdBXUIDSikSdGsoAEhFESQcvihMUaQ0QjQ9XeEII3IZAqhIoKGihpQqPniVw6ODBhQCChoEFHAEtnBfNLdubBE8U9lBVYlVY0qqY5QkYq9YhYEW6g4//PkxNVqRDn8/13IAOe2FFYEhqGpvO1gsOwh+UH1JLPhap3LU7aNCmVu0kOputlIdx3klKqr7Nbf9dr9kI6XCLDSmeDILEmMQl9Ze463lLyINuKxVLy1bBkz2u2HXlhZRlMav12LQA1pa7A4DZIz+Fu1DDGlRsRbgtx02IMxgKacSLNIU3Wgvl70TmuSJACyBVF0YF22ZW1+UTmxtPW/HmFJLOCo1BkFticiTtYetvm7qkSf9jDbPMsA0pobOlTuiyliyEIjAjrvKdM6eKLroZUz6To4SFYKJvpKFdAICBXdTEFNRTMuMTANABxpigUCsUCEYQSSEhDzO00ztXMATzYTozITkyxTJQ821EOPFVu5l8hAAGlk5rpi7M3PBhgYWQmVhodqmUGpgIOoBCQwHVtR1JgMDBBsKKcQvGDsRzZceVhJPoUrtbSQGWjYQLmUCRIGmMgJ01YbsTGcJx+CobAvT8Vi8NxuJGQCBiAwYwAGKhIBAzDQE1dzNdMTCxMygqLmmGDtPL4fhDdozbM+MDHgZq0GqBsnQUMqCTEHkCjJEgmFixmg0W/u2sJNy1IpTXVw4hacwMDRHMDAU1+tsW8RkMdIQsBCggZ2NgJGEYEY8UTNPUvSm5SfT4YT8OtP//PkxPdynDo2XZvYADBxcx8XSjMbExoHa5C2jo5goQBCOY+GGjD44pGqiwALjZLQ1oGMvMDbjYzoUMEE+461hrPPX/ZxwzrwzIwwfBgEjQAgxnK10L0TG0EgBpc+hoxswAFGk4xiAMGADIBMZGwKTjI8bSHBggYgFnAHxqy4Z4JGChIs037GesLFinv6/+7/Pm7/f2GAa9Jc7ACD064umA/rL3AhLjsHdt10r4XULXtvDhhQIcjHm+poOhzUkIyQSasXcMqMDUiommzKgYs4biWqZBQGCAUyMDBAIyMmN1JKTEFNRaqqqgCIbeh3FhmeTAwhHUiAX+RyWgZ0G4SwK8Wpv5PQykQ6yZsOwWs9cqEtqKIMRC4MSEr/DgoUDDxpBCLJzBAUIELx4oCEZhhQZLMemFC0FoPrBmEEDQVYpqhxdowqFZoOPl1AgMhalqZMOuEwAgSJAYQJAXLYFLlA1pOwBjplVIOBBUea0GYgKCvqLhtlmLLyyyy15qJAoFSmLSq/LgKtXM5qVIKITbOGTKqMzaaqsVAIiAFkQCOStAA5L9TRlooFCACHoQcQYFmb1FnXUQFILIqGZMGkBmEGAZmzUwIkGlB0k3oMODAEtYRFyEEa4VIQTaMoZMYKCrg2//PkxPhzBDphQdjQAnXOkkMGWHqBmQx0UwCckgAIulkjGOBFLNiFNAHMTDTGfQv+DBxmQIoFQFoBDRGjAjjAlxKKYvwdIaF0QCAhz42bUw4oHKlvEogjCBUQCBcEhce1sQBQKHR8BzcslPGcKiqGEGHAGDJEKEuWqEwSREEx8EmZgwGOAFrjw0tsFAgkdRZkoqAUUIA48OUtQeSbEKYiWKDGCGIVYppGNQgocMABpEwEBK0vUQ0FUlkORgByAxDYoJBYCqhGhkuuZOhPFYJ3WlJdxZyYDUWTxj1KwJgfWlsWTEFNRTMuMTAwqqqqqqqqqqqqqqqqqqqqqqqqqqqqqqqqqqqqqqqqqqqqqqqqqqqqqqqqqqqqqqqqqqqqqqqqqqqqqqqqqqqqqqqq22imiFZpZGQXgEQm+mJkgkYeJGFBZUIRomM+vD5qoF6ZlgcYgAmWgpImGaDAACDCAJ2zFggw4UAgOYGHAZU5Q2Wms8igt+JF3jCGAwrvlUkIQL1AQEuekIPCluqcSeCqgEWNLY00w49PBrvl0mKMkLipyFgEtUYgaPKHigZUBYKXGFQGXKVzj6l7U5mIM7cpaIGRfJtgVaXiXAhUhE01mKPJIMhtOsJVhQRLIXO2zmnvg0kS//PkxLRh1DqTHt5e3Ly7MpZRUGUQonISE7Q0jPC1K5dmlDwjhHR+lUVJ/KF6ZJGxBBYj3MAMMWUehmW4CvFkQpUiupR8LCQEQ0ggxi6CwolxTZKSckpBytjQtnmhBBhPkST2MmySnNAE2IcURzAvi5J1RsBjmSVSkfMj9ecFUh6KVRITNOo3R4iujtJEepoOA9jQGeIgPUegWk/SobjTM1SlKWBSlcbyqCtbWEvLmJQEuAblUMgATAT4vVwHQEJEyUKBLCAtgQTUP8qCRRmE22owSAEaWyQDfwky6C5YRKCqTEFNRTMuMTAwqqqqqqqqqqqqqqqqqqqqqqqqqqqqqqqqqqqqqqqqqqqqqqqqqqqqqqqqqqqqqqqqqqqqqqqqqpUkN9UTJHUQoKgAYSDKYbBOrMYBgwMgyAALISMNL41NfDIAgZoigYCUJTgGLZhGPJenJDTHXiBYYZMYAVZmi4gTG/mHhumoNGnFqiYiDSiy2iDMZIpIuiY1DSlDjOZJNBVgRZIKDAwXEQOfdRRGdKVG03FMLhIYOKKkSjRBRqHhRVYNEWo19VFlKZJd1L5jzws1Zwo6BmhYjDlhmfl8S8KXpeFFFu7WXieMuCx1z2GzKsJcVS6GZUrp1ZkiImsn//PkxL9kxDpu/u6wqLCyV3jqiIzY3NWiktAcFwc2F1Y61l8G+9wWVNOgFuBeK0mkqmXqdxHpPKWL+cBFIu8wVvYGROb9psZhmmaU+7kuzAExjTP6uZ/oDaysKrCw5rTMZ92nWooKYszKBl8rSjS6mvQOyWTIhJJQ62y6aa5AMgmYCZsmaxZMpB5/qF1nEL4hZapmWt48TlAYzrsuGpoTmyvC0F/pGzGLM/X2x93NKJtaYeWdBUyJSPwUCYkt4jrSFa160rdFB0eWDuqqpDr/RlravZA/Mdziln3dlUYfp+nLTEFNRTMuMTAwqqqqqqqqqqqqqqqqqqqqqqqqqqqqqqqqqqqqqqqqqqqqqqqqqqqqqqqqqqqqqqqqqqqqqqqqqqqqqqqqqqqqqqqqqqqqqqqqqqqqqqqqqqqqqqqqqqqqqqqqqqqqqqqqqqqqqqqqqqqqqqqqqqqqqqqqqoQQQmpNvtdm4QFGbwMcO+7Bf+QLDm8yTiRrrNVqvVbhANTpm4PIOpFoLv0yti5bs3OmzqSkMDCMSEcCJbLlFAKPAwHJZ4pfKbr/ShQVACLIgiE7mwY2eVpvOkYBFRbxJto7yoZJ7KpJrmYhEtdSfRlIc7AoTdUMUfWh0kbVtU1fJiMM//PkxINVrDqW/s8wfiHOHpQ155nGgpayVQctncPP1lal8Ppy2a1n5mM26qtyuH0pXDwgh4IvA0MN6/ztPtOJgqlWhSMte6rumgl8W1ghhy7WfJhNyh5jMUiUw+tM8auX9xrRCuo4qonQnYxFyJS1mWP0mMsaDeZfctazxsduTTtM6cWBb7Yoy3sptQVDeMais1R0+5ThTUMVw7G4jdoKFdM32UPND8grtJf2/N8qZyvKPt2r1aGjcqOxsqjIhPDekd+VQGpW+ruXqdymtSOH6XkASyIyByM7c9SWLMhovq0tTEFNRTMuMTAwVVVVVVVVVVVVVVVVVVVVhAAAAkCIEgOTAbALU2RyQ/QWBQAJgXgmmFkwkb1QowJAZHQJiEAEOABbozgwJwGjD2NzNuoWYaElMBAHcSCYAgFQoCWYEobhgvjamisiydQANpg3AKmBWAGYIQB5gDgHCAEMwMKjKgiNgNs5gyjFAdBw3AAKMShUFAwwyMRAWjM5zNaiUAg0CgBcrer7SxEIGMakIzuKRoNqnfR3oP64xm0G+Omy5ssjD5S5YcGnGimk3dgqk3QLnScSEcCCW5M2i0LVlFBC9isDvvBetUNx1WCPJNuUxCBmGiMgqRh5EHpXtYYk1Gbo//PkxOduvDoyUvczCBEVgC0Hrg+wzN9GdONLXfZm91SBXaaU0WR3HieGDI9F6TB2aVqi7ZA9kdeNkCLDEl4FBavYLd2VzMulSjjn6jkrmtLUrTFy69TFn+cpBtkwIKAzJa0hpC6SJ7LmuhURliSCqC3TVCYYXnL2t0C4BhAteTlM9xwG+T9X4g0aIaHQwEjxkbkvFdq60OAKjcteSIy8YgopbJRWNIZEKJd5AIVnjSxVRPTk/V1DUGYg7Zd8xyFWw2ilBbNnNYvT31CI6RLo6hw0w1IucWZZKra3XJuTeX4kTEFNRTMuMTAwqqqqqqqqgDsEIsWTLPGAYAQXHMCwB4wdQvTAUGWMk5Wo21BqzFfCNIgDDCkK0fDAEBTBsMzB0BDHaWzZzRTLUbDBoKlKASCauAYEghDox7e0/XSczBIgcHEwBCcOBMYDgwQBwwHBQxAEA4XT046WQzhQszPIcxBAsVBMxDF8xTA8xSG411Xs1PP0y1HkyjIUxxF8IHMvgYKiCYPhwYZB8DiIMMwhYAtECgVN4sDDxoCZhwRAIJgohAgIuF15rSJlrhknQKvBcEXPo6Jrr+FUk2ZTZqsTks1IG6N0cR86aH3ra+7a61vl2mBqQYs/76M9pSoFDhY8//PkxPBw3Do40vd0fFYu2JzLFBCVOW+Zw67EIHvPdI5RHoPZ1Ry6kymaNgUDwNYsf2hhpuFJOUUDQzXpaZ5IllA7tyWvb+Uwt13Xp3b3WexldZ6U+33iMlauoZKlZi7zbohBBpOcvtE1LTAgAgWCAqKSAJxY/g3WcWMgGZwYdIXnVw86BSqTIBGSaiYk4WtWygHclaSGBjQTMkkUSkrWbOcvxAOosl+QAiIe1+WIQtuSAzKkGkLxViHQ4WFFQAGBVX0jaioGAlh2WLU+AXKUIQ5132b1JiZzeWHFvoDVroqVTEFNRTMuMTAwVVVVVVVVVVVVVVVVVVVVVVVVVVVVVVVVVVVVVVVVVVVVVVVVVVVVVVVVVVVVVVVVVVVVVVVVVVVVVVVVVVVVVVVVVVVVVVVVVVVVVVVVVVVVVVVVVVVVVVVVVVVVVVVVVVVVVVVVVdQ4kWrrbdts0kKnDJjm+hYOHrLEURPIwiQ0pB2RgOGCXUbJJxQGWiV3Su9afajT1MABFj4QFxgF0Hf5E2ahQKmoAgTrmLA7JREBmTGprQyaSYGjxBihoaumNDMSCDDRQlRAadGeBZkg2NGgcCpoq9UFuyhcqwq7Yo1UlZOAPoco3ME3RSsUqPbjQThbEZDI//PkxI9YvDqWXtbfKll+GRGLEmY5qpkyU4cDCb7keJM12spM94JHHwXxAkrOuEhjgSMdB/rT87DUO9LqxOOmdX3Sh0misJVUoei2A8DlRc75d4TR6JY+VUd8Nxhq99Euh6qRa0YD94wKJDoJdiFFySZBT2GEVwljoUhjuYpExNiXEugu3BYExJSm1ecLNFJ6XUusYtxzOKTBXoWkixqMWIRouENOoB6rUuo0MKU3h3KJXHknjMUyGjIEyOMvp7JJEkhP5cFynOAgUdD5cqJPKQ/CxF6YUquj4MJ++OpJNSnsTEFNRTMuMTAwqqqqqqqqqqqqqqqqqqqqqqqqqqqqqqqqqqqqqqqqqqqqqqqqqqqqqqqqqqqqqqqRADWMsCWbOOmbAA4eAClVlBZ8zBsxLUysAMWAp0+qk0VUrUBrF3Qm2ag4Wn+qdThbEvcluzgKdPJTKxwSsR9fgSKIuPxEJbI2zvIhp8AOIr9v1jvKWrbgrMBrWHAI9AbBaz8ljvCr4WRFizDkK1goyfhwKQErDrVMktIqPGBYBiRlADMO4j6qkOAAYMOMMZIumykiLMBQvCaoJIYEjTKihkYXXMMFMueMQtNuvMmFMGuEmJo1JsTZj55oVZoQC0DAHjbCgUhM//PkxMdmnDpm/tZ03DF2FGQFGGEGEQA4y00SNoLl23XLaJAP8rIkqCRJjQZcsMCAYYYESsMwRfLjzzp24CS8ToVXjT6RJTd4IOli0FBGeueuR9kxGFs3QwZy4SgDsqYNqsdnymjOGYrnLqJ9J4qDozA0GoHUYOl+EDKy62dNBVUZYtN+k62XxNgxeBxH5Z25bcVK0g4zDrz8fZ33jbeIM0mVprOEAJMUtAk+578w04Cnaca3GxoC17uk+C284YhtSyJtnWUohANR4oAaVbaGyRZkja+98RLmOL11IW28R5R1TEFNRTMuMTAwVVVVVVVVVVVVVVVVVXZE2YBbqXRRIkbLn7LwtTQMLYp1U0WgmNUs4sZZUmlUMQ1BsMIiyBHdrcMLAunDLuOOx/B1Xcd1rbO4s2JgjXVsMLroSFQKhYU0FwCUaYxgApQnuvuRv+tICjkSBkfU/FxoTtIas6TwWHroDlyQaPTa+1hU6pSgUsRc4wUM8eMkBfg05cIPm/RrzNVEQ5mRGkRY2DAzUY4T4WImmMmaQJ2mBWL7O0aFQ5iAZpVwQYUyMyPEYIBbTXEjTiFyg5OYYEAg5sMQDmBZEROy1hybJtzZlx6OZVHHAdAoaNNTw2zXlQU0AS4kMbRQ//PkxOlvNDpqNMazqCBRaIWfC5ZjiIKGSqaSygJnvlGSRhZsABCM81yTdlGSSK4CEHWiZYQLNCnxuBgKMyLjYICLBUNb6QA6cKMmeIdjBwRCJA7YjOdFUDEaAUIYWFohrxQw57TfVLfmeKbNpokgbc7rFkg5Q0T0SjQaMd8tmKmHcw5whHAp4sU0EwTTdhEmi4JZxHkvNAjwIswaIkFoEDYQALajogqCayxq0l02VGKOABDYEetey4AKGYpIOTh1o8EIqQWhPc9+FkLthx1MZG/FllkAPjK3yjVDL45LXKbRTEFNRTMuMTAwVXAMbctYop+Kxh/YaqwJdxl92vVgl/5hyoYlUxBLnyhMd2lbGuQxJE+XKlFVnrYqNiqnS0XSbxc6k4YQTpEpPJKM9LzE2zBRLltDMIJCf4pBhSQYoGwTxWXAyWLPhE8iWLBQCPKsqQgzqY4iOd8gAiBi4sXM4oMcFHBpkBJpQpv25CrOIyA2w9RoWgFc0aRjU4zJU09scCmEcJQiRU0hQwQFTgFBWjA9ScdCNGjGkA7yaskbIUITxrQYQdJG6AkgOA7YbdqCgiOpjjo6bAqsDYTSlhEPNCPRwM0ZB00hBmBBCAoRBB0aYNADWpMeETMw5FQIDZjN//PkxPVyNDppQMazsAgBZ0AJYBAYQg6ITAhMgYoAQIsiGBBrySYRr1BgCTFDjk2yBCMwLwy40IrmlHgpCLCDBngEcORGMCZN4XQll6jKIwUnO44BpIoFGeFixYwIIFAAMwIg5mCCPJnBwXGW0U0ojDbGJCEQAggV045klhQAFRGM2cpIZIKBAmM11084gjWZYKvzMPROa+EXlzzIKaihiQGGsECigwUEvFwRkpRQVZLmGUkID04yAQLjC0iYifSTZbVCUX0TmXMos4zGHgiDEH2YE/iyU7nfatH2+dZFG+p9TEFNRTMuMTAwVVVVVVVVVVVVVVVVVVVVVVVVVVVVVVVVVVVVVVVVdAlDgQw01m0cpZJTQxF6e5BFDGW6RiVQx73uBJJQqnA7F448DJF4rjbAtFdm4fXvKHmaLF4gv1ClvFup6sCc0FOTJSmZkFbIBEBRAg8gOIwcEDAdVIBygWSPPAMBKJtxYugJRkYW6oOACmEJzphQAVAFrjCnhGIBB8xwkOxH0XAkOYgqHSkzDIhFHTPHUPwVJMEfLpg0iWEYClrJM0tNfYNSGCzsz2M0kMO4BU2jaRVR7oFKjmGOtExgQIcI+DWCNFMYXTDQXc6WHF0DnU5RHKbC5MGFljoJ//PkxNhqzDpxQMazpCquPpg5AWbDnhQkXJDPyqgVBQsIGKQKLRGoAHDEhwXHAAZgFGGaQVBDS7ACGOGkCoEKArAFFQSoDRpMaBCg50OkDxumtCAhZKEZ7gQ2ysxFlzp6CoQAWOEQxRyzBxpBDwjFNA92SUE0iHIR0YYVR0PVqEQTJRZcilTmAAYKVC5qaCRSfTKUlRJVdDTgaIlc1tm7K4+PFIYBwShyCaWt1d8vAghc9U66wAIhcuppNCni00tc6KnUEuIxVN5L5x2avK3dmUNQiMQUu1OiKOU48MuLEJOqTEFNRTMuMTAwqqqqqqqqqqqqqqqqqqqhw4q+jYHVvgwSMMDDUcU+SCLBONFyFkugGFLQMCDggzBgEtVBC9SRi/IfLvDIlHJBolDoTBoUj89sfcBeSazQm7MxXQPC2tQOtJO54oAT7FQI0xMHMBxg07gzOAGhzNvQcyBioABjGizDmR1MzQMDJzFnS68VEjooCAQciHAIIY0SnaDogYIIgTRgwlDACLgwoaZ2YAiAjJiRg0NRrGBIWDiQQFJgUxMmCHhAwaMyKL6DgIDKzfJziLzNHzHgEoQEFWoalMDtQIDmUIFUiYEgaAd6xpmJ1oIgYcEChYMxh3Cd88mQGWTw//PkxOhu/DpkoN6y/DAQdWaIRr4GQ2ZYwW3OjAzaRohpTyGkCpeGCr8MQEMSS5MhNE0VKTgXsFSUJJkBg5VYE1VAB6ZJha9ASpQY4xqhJ1KxKro7mUCDB0wUWFzAooxwHGECIsYXqFBkUiEYt0hPBBIyJHzhWBxsOGMCoqXlYitmkGgBCGDCw4ECA3BUBtGqFQUvjeUYU3aCnsv1NFE1itKwZHJ0DAPX+4KRVOXVUFW5Aq/nhlLmuzDrTG+aKmojy2RIVrKmLM35bV/Y0sZfakYJXI1mbpKeKUUTiE437kOVTEFNRTMuMTAwVVVVVVVVVVVVVVVVVVVVVVVVVVVViJYEgNMAQA9QmHm5IhgABABA3mDODGYd6QZiwg5BYB8DArq2l/S2oAALMAUAowLBFDAsBLLdNWLUtJbMyAQjgYgmN6BuAPMTjZUNUuFnL8IQ8yIuLctYawyJZKGKHgIBTNTkwIOHQNsCDZgYoYGEGBHoXGzBro9JcM7DTUh0zARLXAQZEh8qgSS5iqKr5hKaKapdZZC6gAChQFMRHQUQpKo8Rq3Kkal3mICzFDHyoFCwjAVNmHCABCgSYsLmgHwKHSAgLlIEkbV0jwprNhc0DvvUQlhUIFBAURhSy1CBuQwl//PkxOFtFDpWAPby3E1B1YkyWGL3eIt0sdlxjCoc0ji+QMVDmDNMJUQICChzLKf0xEVQIMm4qiiBiS4jNWjtwdZASnQtZQFDsvVL5+yzrDCyyt6dKj7Sn/Yil6wWxEmTRFxkTk2wUCgBdkQBpfMTVO04wARIVEJYUs6X4BoTHY44rWltw7DYUHRVh16F1ApZ83Me1wWUNfjCc4VNdCGoNoqN3HeXNASjEDJeyHUGyN3ZqSODAkPTObmbmnzgCRPG7DTVGWXOUw5101ZP2tt2Jp0XUVWe+A5+dfZ74zhRQ1XVTEFNRTMuMTAwVVVVVVVVVVVVVVVVVVVVVVVVVVVVVVVVVVVVVVVVVVVVVVVVVVVVVVVVVVVVVVVVVVVVVVVVVVVVVVVVVVVVVVVVVVVVVVVVVVWEAVJRRlxtxyHQhlSDuwa1QsBmlbDFCA196DkrIEgiAUu0/6OgEJjU1oBITLqJTNMchEjECI1KCCHYz4xFhXCZka2DAAwxwYMFJjFkMzQJYjlfWDgYECGakZ0ZoBvK4kRbmmOpMwxzAKMsQ5XhZJBQhEWAVtQdDmjSBTBZy8TVEBjaK8WOXRdxDqy1/FMGEsdV+r1UwYELDOM2CHGmOOxFaTE0239aQzVBgYLH//PkxKxf/DqS/sbyPhRNsWlTSVqe5djnKWK1JwrIVWZc98Ybmnwn3GRUCHEVUbWMMXaUSEobNxVZDmLE2mr2cldzgvUm5mWnahAZfx/YBcpx3rktqVtimLLftLkN+tB85YlkrtRepDs7u7fsRl/p1YWaa0m2qxoLr1odcORQprLJnEgWB2QOcxBHVQKFppIaObee9rjWIEDhlN5dALtS5uiYDrNWL7u84jO43B0DNq2dtGVz8lkLrtyV5SPXaQ0jKhD0xF9IWvhXr8uWzxoPyqCV4JmuXAjcmCTcbvy+kklKTEFNRTMuMTAwqqqqqqqqqqqqqqqqqqqqqqqqqqqqqqqqqqqqqqqqqqqqqqqSADDPAtZYxeJZSDAw/LhGBB+aXlp8FUmpA2FA6l4hyNaEdGVIbShzsFmjKbBgw8eFIWPokGqwDTTaRHioCd9OQ1lzFqDwggUhDJh1PGeMAmV1JGmESECrlJCQocnGFwhQs0EwVKBHT4hL5GQSrckulSbml6U4HOmFMnWeNQUgCTAY8gCBpoHWBQNWOhQwdDJkJcJK4BBb9LkUGqq6L8g4zLH7iS2kcmHw4ythTXnzXgXWAQm+L2tAaC5agr8LDNebcBBYK1prMbXk01qavYeQkpoo//PkxNNpjDpa1OZwfAEDCQkumWlWxDT+oql4m6phAALyFy2wFqiUDASzSCEKkC51mJgIDmIT6PsAKlVvSYSSRUYqJHSgQDvI1lgz1P3AyqgNCoIvl0mhMJLiplDo0VGGsUQed1srkp3uIn8hinkJIYM76CRVUEsNwyaSVqti+2wLiCJDxDKIdCFVKHiQX6TFECSEAESIwLzayupUqhyDBUGrhxlyqXVEEQVGFTpQMqDCiEKmUsBpWvrAgUioAAcZEjKrYCAr4QyTqRFLxBYbdk0XghlbyvWst1TagmhXkiLVTEFNRTMuMTAwVVVVVVVVVVVVVVVVVVVVVVVVVVVVVVVVVVVVVVVVVVVVVVVVVVVVVVVVVVVVVVVVVVVVVVVVVVVVVVVVVVVVVVVVVVVVVVVVVVVVVVVVVVVVVVVVVVVVVVVVqBbdtbkj6Y7JDRcMKiHgKLmmERxWOamDgI5Q8MAGQgNbuKBpnRWNlQEFw2dPuBED2iDIYkS8sUFpNl2XggIOKXUZmkQRaYSW3VucEAmuNycZZ7yoMokZIOvXCE9YQDaImyh8i/pGWStPCArXZQoshs/TB0VWCMgChUrV8p/KFPq0hIoYCqistEVtmdl5XmWIqi+iCUtojkn2pJTp//PkxJxb3DpmXM7wDn85TE5LA8Btkbk+DKn63FlBbOLTX0fR84Fbx1G3bWNqGrHlcBrkhtkKVyj6brdFV1H6xEVqVSHVtShaLWIcfB3msTTL1iuw+zqXJfBLjSllMhclsD/wVlBMXcmK967Tzu7J25PK1FpD5tPkqyF4SRynolT0vbKXvkLM2DwXAjTXdgfGEQBEbVhyIpGqR5HU5TRGilsSvXnfiNFalT3ZxB+p6JocFFoJgZEiHVEWQ0y6Ed2yUKRTTrUMyF3pOym4sZ6ktIKh90nqbioG/7o4UDZk6GCKgHiURIBQKKAtIBVIwAjMJgjz1QLE5lwOFwwUGx4ZTCKAx/1rs7EIKAgBQBHwhDV/qmHhBLcHEa626iMXUZBgEHABjoqYSAjwkqQACRkAgKBQUBiYRXOCBBrgNCizBdhL90y6QGABoAYCGAijxgoyUfA6A0gk+TLLTAXgajQKUUBBIaRZcsxTXkLVq0GOOmcFEgVCao82iegMDgHfdAHCNcTPfSHXEfZu6QkXL7tPbmw9XrMV8wxadZRx+4i+qqkKZS1yXwCpXUTrb8YAYAkwg2XPUZS9bVRdQwvg1gsgXYY6NGQG46SkPA0EHZsOQmK20JeocGLKF0TJXDKm9spf//PkxP92LDo5sN51fBoAF5RKMHABckMXMQpG0cTZwMkIKqxAQBHF1DIKR6RhQAJCjIYjMEJqEoGDGEoFlR5ILqBZ0uuKqnjGcr5sBJuO6Chw4MyyzIuT5AIYJPZkGVhxQgIBxBM4ZjwVTBSR4EFzTrXRSChJC2NRGUafSxjOG0UYwDeD4BzvnymlaGWg0A2wRAAdywFtOmUxZ0WTAaOTSiYOZYeUKjDEzCiDDrwVDL9no6GmjnfamUZGYBCSgsGjgFBk8uQwgoIhiow7lo3AQ0qU04EIAGkSGUnHGPCMuZsQYQmbEm+VTEFNRTMuMTAwVVVVVVVVVVVVVVVVVVVVVVVVVVVVVVVVVVVVVVVVVVVVVVVVVVVVVVVVVVVVVVVVVVVVVVVVVVVVVVVVVVVVVVVVVVVVVVVVVVWXBHq5qYv+9jcZOmoyNe78Jb0aVafZZ+DINbZ6QaE8vNqR556jmYcMygUAyFDSIXOVSxhIrXQGpzGFQaQyAwtoWpLNo+AggNGoumklbFn7QLYcrlS+UQtRRowqGZhKx811pBhYAkhzmSJqP+0mUqqKMJypyILuk7qPJEJdyqqRxexHNQNs0biDP4xAkNLCMOdiik7+zrvtwcBi6lKNbCGktOd5uLc4//PkxKZeXDqTHsZwqLOMl4sjBnKSbX5OztckBrkc2WzD9NpbpYenGBo9MF6uiIrKTgl7XIm40p1NvZEoaUpn2sOXKEvIDdNPRrkZZFDhehxWTjgmmLvpIBfh/85Y+ty9KKBxpY7z+0Eaf143/R8adB7a33EeuAown+sA7DT1mK7bFJltp2MVctTRctJK0h4cX0vFplHL3ddp7FG0OTGXkSrUShafsJaQl2qohbA0tQEpFKxiUAuscUIZJymYoXI7KkWNJasoWsgowdIkvsk0YnsIaMpgz9iLAVBWvF2VAmdK6HAm1FS5hJgIAhgGLZkTT5vqgAQe6OIwAJgSDYFBAxGII1Sgg2MCI0BOc1QJjF5HKguMRrU12Ijm3UPrS4FREyOPQwGAUAiMBGUl4aACxkUumTR2EGIMAhg4KmbTuZXGZjMQgYPMKMbDIGEUDJc1HETlrRMVlo1goDQCQAQtMck8yeHTGhoNSlUwmNDMREHjSAgOYDEIsUzCQsAwQMBAowYAEB5fQLhs91OYwddv0VYbJyoaDDVGUzFYFhnajCaCKiTNlgLvoOK/jKXJpC15rkkQERUmma4hL5MFiLxQDlaW6G1rwGYRfgxtPtTSUC7FfgoAMIhCHDDXzaIJ9WaS//PkxP90tDpUAO8wuIa8eQRGVODVjnQziKCSAK4IjkQyQ4OegGLiKphh2ovDF24Fwk+m6jKkM1yo3EhTNFIiRgYMpT8SYdERJQcaUnTQRNgDoxMIKELQ/XepJViOgAI2jiKAMScUgCX1DBoJla3rfpp5ddLotEjQmuFmKwMOWFFCLfTVcQoAKnRiLzK8LihEEBAVAtZOpOSINJVYvFAyCiECRbcUQmmOa4DbpzKuk7YkvwdNYNH5Cpr6A1N4HXEAWQl+UWGpNjVtYQ1tFFz4HUqXaootxLZg8BNPTVYco6wWTEFNRTMuMTAwqqqqqqqqqqqqqqqqqqqqqqqqqqqqqqqqqqqqqqqqqqqqqqqqqqqqqqqqqqqqqqqqqqqqqqqqqqqqqqqqqqqqqqqqqqqqqqqqqqqqqqqqqqqqtjCWsdidiScymIcBUbZzFPQLhszYOAKDXfaDUMBB00HUT/7AM9EsxqcjNo+C4SMRgwGBYEPMzjODr7mMMlEBIERDwzioTVazMJm4OAZgwLmHQMVi0wwNAIYzJCRMAEIzKSDBoRDCoYCAZg4kGRCyFj8ZyF5gEAmMAqemQ9if/ZyUHm0YIhjzmPSa8YywgRQNLXCwYKbAxgGDT+L7hAoogwwFOI7p//PkxKVeLDqS/uZfTHqLyHMRmgEkDHr6UxcpBIFBiyiVid6aS1UpGaJXrXbI8MLVXoDKLGW1jKVgRpgGEhaqJWSVHEF2LUOwxxvKBNo1UKdgNNeZU2vqkYKMHS8NFDTlYSwkjFdUaJQCvVLIyqHMZ1lws568OufPCevFczrN3un8GaSdCnBXHUwoA/51Ys1Xl03M7x/CZ0NZWc6k9O2yn6yGR1dAb2JqNxLxVKmUCaUZsYnzk9hR7HcdSuep1Erbqj545Gaprl2MdTSD9Q9kc8Q3S4gzQZomFhDkKs1woFH9TEFNRVVVte2J4UpBEBpj+7ppgLZKCCJJgiDTYTBcHjQwZTCEJzAwDGJtoQgEYLCyZ2twZejMYJg2gAMDwlIB9MqnSPus8GnuMKhxMTgQDkHMJw1MtBjPmxtMIRUMChUMHw/MCQmMWgQNoVtOiDTMjidKoZGBIKjQvmDwFmAVdGGhUGaKGGBYGg4fRCJ5hUQBxw/BnyehkGC5mBiliIBgDC56SEYCGGBhxgoMheLA5iyIZaTgYITxUCAQoqsZPhmaiREbhxGYAIuEFyA0mSNyGWgAYIBIUNIAWFTnzUxgVMLFnKSBAIAFS8xRIMNDjIxBa6w5fcwBGAAOYUHggBRc//PkxPlzJDpQAO7zbAcBoygg5NLEjGxAONm/SgWsaAMGmEVUwgHS1WsH7WFDziHDHVNILHEzRuFhkrkYQMsXvMl0XIGQDtaCFkaXcTCBgJZJW5QIvE9xiSK3KHoQwHADWk2HaU+16N0+VPEqCLPHHnfac8T2URUALjFRRFhYZWBDH3eXc0RMOCXVjLsuLAKXtFAbNGZulkjDD0le56HbdESUYcz5tmxqPAUoaAmoc3I7q0Z9wr9W7lhuZl12nrP3S42eTV+H5bfjV+iuWMZBnRUcRsWreNjjZKPK993GV5X1TEFNRTMuMTAwVVVVVVVVVVVVVVVVVVVVVVVVVVVVVVVVVVVVVVVVVVVVVVVVVVVVVVVVVVVVVVVVVVVVVVVVVVVVhQEDAKxbpH1nis44BhGJTET7MoiOGIZRHYak4ZbSRiIGCMHssL9yMRAUz8bS2bFG6y0QAsxeVD/DrXWRJUlCLcQQGTGSiP6nszmIxQBmCgmi8UCY0FszRRQMsAEwWGTDAUUwMGgwEv0xUGAoLSYbEwAQIFUXiBbiENMvMmDdFdVs2Dc040HGIuo+s0KqjTkQ5GXHX+19nJjgoZLMgOUg3NdqXhnrpjixqDRoBTqtnHBoGoAEiaIIEFH8LLFQ//PkxL1kPDpqhuaxaJh20wJEBLLNskhoGkQzQPijD2rqZBWhxGs5diw6xyoAtMZjYLEaOo61ALiZIrtncSiybpE1VFdbCWlwSIpgpCCpa9McvG0/kwwedh+u7TM4MU9dwsUEXoJTjP297mM43K6WG5a+kRuPU7qE6eY7D0QlVGzmbe2H4hQSyCH0h15H/huSqCx6me6HJ6GljoxBjWmU1L7oq+b2H79qM0rdLdN3C3AEgs9v0tMw1xoTPw/Q0q2V7y2D2+ksE27lpu0jXjSUsed2VVYtAS+X2uym5MzLbSu6TEFNRTMuMTAwqqqqqqqqqqqqqqqqqqqqqqqqqqqqqqqqqqqqqqqqqqqqqqqqqqqqqqqqqqqqqqqqqqpkIijhGpyVHdG5E1cydpgKDhgMOZkCCiRcPpqK9Y2IAFMhABNWYqNnhwMbSjToMBACMJxmM5xsPEcRTSeAgwVemVmAvccxUq1qdZexhk5lHhpGwGmIQJjCgUzjM4jM0Zg0wxAe05SkySU1xkzqY1xgwwZKFswMFmIFjjAwQMMLtKdiUJLkQkxoNy0c4ugBX6icgsgEVsYKhNAhS/hlGtBx4LhhgKNKlyFFNHn7aS01lzUXXd9hbPFgW6Jvs2e1XKYsGJdr//PkxMRmBDqOzu6w1t0vGgoiloWsEQkoQONFUuaKBZQHCTNRqLcJEI3w2o5EWxLlYawNyler+XYYSppsVNNgKsaQNUEL1xFqBARKBdLrPAyxtIFgiSv5Jfvt3yl8Smqdc7NGWLUU9Sl9gI1Ehki+JuUucocw2RwK/KmVE+SY7zKbPCX/VvWmkUhiXXZWxBpJA44fOi0zW6M0aUkJAEXLWPhUbd3Cy8YksakkdutacR/W/huhkbL3bYClMXIpcXXtPFK9v/Zo0wIIh+JUNJHrcred0J1/5fba5PySleGGWssnTEFNRTMuMTAwqqqqqqqqqqqqqqqqqqqqqqqqqqqqqqqqqqqqqqqqqqqqqqqqqqqqqqqqqvAU9KWS3TAImGgwW7cxupKBk3TOALRqYeWXnFO0djJrEPS1EzSCYEd1GIxSIzRCDNaTU2qQR4RF9xYRyEwo3NSszeEovyoCo6laBQIHFBoLOccoA4MQ3JQYWDzQlk0hPPF1jiDYOFGru2nABRIz0cNuGg4TLfNDZcYmTGQlwCqjTCQeEGiPcSA5iAyY8GgJwQB7n7iNSAiQaZCnoy7bIQhQFYFZprBw1AU3DWQyqETjWlPN+mRNOk6cydaY92LrAoSS7qFo1YvQkOyV//PkxMtnxDqCLubw8p8ik04BBCBuo1lPYvchs76kUN2qxVwnVqJ1KIIpuvIWcxVR1QRNNka2UMS2qSIJIgKQgS5VKsKvWHWnNpOSytarZ3q9fDHdxk7eNJmY1LY6+0unVboah9/mEqMRJWl1Z+YVwz1KVMBejarkTkUNX+WQf9vFNHcW2z6ea0uBvnbV2gsj409kTruPDCey1rrvOVAEssNjp5uMTtWoaBHQQNHDINWfHHgAjGXbJAhjg5aDk+zZUiECzx6rI4HYYNBAARL5rm+kIfdO8uqaBOCYxtYZq2OjTEFNRaqqxAYEEQYAwCB0wFAxfYiAIgA0KjsZZ+IaHC4YHBdJSIDgUDZhsORgKHpoTMwoBg8BqmQJB4sXDIaWOM7o8n7BYnGGxYVReCg4YFEhhgomfl+dCRCo0BgoFQSEBECzIhrNDOUWkitKAlOUICwJERjg0mimyY+CAYFhwJjgwMNCEwUJDT8ENVCIxGOyICAwEhw+aEYoGZigymsiWaEBhiUFAUEg0AGCgmYeHJlw5mOhwCgSgPX4AgmCAiY4MJn4qmSQaoiKAdC8GuBbi4JMELxFrkSVMAuIWkoqQQIiroo4YRBf9eDNwoJjzIVVjA06dNuB2o9qHlKBoRsq//PkxPlzPDpSBO8wvHaoKwuhljN1VWFwGaikLFN4DeZoARIv8t6GkFFV1F1MDXIu0azFQ6/HYfcaIDBESkDZE70XcVlSlsOwEyhu8SibYqGKw2uvOhlTWlRUzZKSfZVBsMvwpsnKneX+aWiakKsItG2kOj05SdbIYPdhQtr70KlQxbWijVE/r7Qe7LGlhmpRh/YreaQoNTy6HIVQOUnW0CQv0ztU08jccLM7bkOmMzC5K2TNc1lRqBSRAgLkLosagUQld1IlSlNCBFM4gAzKAorIKtKgVdrwh6V9ONGqB2ZXTEFNRTMuMTAwVVVVVVVVVVVVVVVVVVVVVVVVVVVVVVVVVVVVVVVVVVVVVVVVVaMFAEICswgpMrfw7LX4XJKgQSIYbrHyG4EgDd24zIDWokWQGJwUmTVHv2m8iMODBok10BNRAPAQJI8AgAhAYQeZ5STICsGl6YACW+LIiBSBkKwsOv+z9jKmoXHmUGhABigVFGRENlgpiwWBA0EXNUEBgI3Bg0Cg0Y44B+8osagQEETJmzPpYHXiCiBiQJhQIGNmhOqnYaZoYmvDil7PlKFbTCUO+eVoA0+Ep1UnaX+q5EluSabkmM6ylhCYjcl+qwJkoQAxhkQwJGlDdQMAlB7z//PkxNFpDDpixN6wvM7PL0qARIMqCrtSNTi4CjBpKNDAgEKDEgcGuptExGCxuGWVkDmihZR8UXSUCoFZ1Rw48b56oZRATNIozumlU28LM2PLod0tml3KH3LYM9bdc691bIbgxyFzMDQ6AohcB44LLA1lr1EJQE9ScGJoJ0sGbM/jKWn1bS8IYbut4EmWDeNNAtYrjjdCyhetnbD5ey+RM/UqZp2ndaLwMlYxkHFZsttL1lLmFrh45aouuskWEw1mLYQYJtmmJXs2ZSmuyNICheNk8DLTbI/lpfjcY3K3NYYqTEFNRaqqqoK7cXp47rWhhfPwpSJdTKZOxVdzAQUAwwsVPlCU90EMaHhItkg020HtFY4l+67aMioXVbkwVr69RgDU2ddsKsaHg0HTyacARBMeUySbDB4NAGRQBkBCEsiAmhgSoALgwMAoQAKCTZwjMgSZpVAgkCuwgCZEGF0QhDmkTGQZEowAvTBCTIJQIjImxYMGREGgLGyaAHOaWcaRUATRsDxmhylJgUYCvGYOGDXggMKFDPCQqeAoY2B44Do5VIyigWuCqo1bcKMiiaIT4GCjBY2BAnlGeRLfOONNR0Po3Mk0MRIM+1NvFETEEPjVjBlIciwawOaBUaMcClwt//PkxPhy/DpgoN6xPpEvCgsZdKmOYUGa5qbcwYMmKkkmxgaZNqZU0X8HmhKFDA4CDGJZmzAgEqKFjMFgg6Y1OZcCAmhkATHhoUHFMFnnUdVjNdWogFLOBBY3xLwJ7B1ASE91QPAATdAg+qYiYhMROQCocHUJSA0qCNBpiBEcSAKiDWKLFEDitDmsEkAk2jYpM8CL+nW4He+g4AvBogINMhqQqCAEKaaYwMAXdaEXMLwNLfdxGfz4jCLDcKmcR9ExF/tBVGhWxNcrkrwYA6EOJaqviFA/TOJqB26bcGvK1dw/TEFNRTMuMTAwVVVVVVVVVVVVVVVVVVVVVVVVVVVVVVVVVVVVVVVVVVVVqJIhh/HGlLxW3tV0274z1NdjL3QNTXInyRzz0y2D3vZW+lPDUqm3mjsThms5cHO5qagpuCxFqMjbHTKwMtbKJHQYw8KkCMAcERNVSX/D8DlmV0GiMnfRIJGaiMQWDQFkQI0atwYbNoUAJoTzKUIkEkDNbAARmICB4+HwE8RDgUFERFExVQEYEBkQYKNAoMtYrChQQLDnYATsDJQoeCKBg1IkMNgVMhwNKVWkVhSAauw5DV0HSgKnEqZojhg6ehhOFJQwsXFPTsxSDWHDNhEEGPm9aAjT//PkxNVqFDpx4M6zwFm0iQYCx0IIITAFYjWLLGSyv8JfECQAPECa6wMoBlFbTnWHBCIYQMmCknq25vJAZQEPBUcKgrUERi4wcinsagBjiFyyAVN80BRGQmCKhLXOJMGCmMGYDg6WlUBVlLVDxUlZoEPMRAGEAApXIQcGUNCVoXMYjZsqt0DCyE4gERwUXHCmqpRkRgqSjyIQ0JTmDwIKHViYmDAl6pKqrjwYYOq97XNWIWYfNvFcw0lokWkSgkbkw2QOfDSwyf6vEQ7SqTWXaa+rYwBrrcV3v08D/P41aTdVTEFNRTMuMTAwVVVVVVVVVVVVVVVVVVWwDsSqPtTw1N5P3Xhmm7FqaZjzj1YjDr7yCHofaznDK0YcV3R4QK7eETWtG3KtsEmUeIacD6C0vpRZIt9yyoKItFBKmRaZwl1hh6cBmGiSqargjyxiGmAg84EbTBJgBbZEM7SC5wl4YYxO6YAOYhhKTFGDrkgIJEi5ImEqIMEmyYAI0ZAMXeCoFiRe5F4CDlqLBhxBgJpSgcaFo5kh5VAAYubhWYM2HGTYjAhMZYIZByDFYcFNu7M2UNStNgzNsMPiEAQEz5oQhwWMMYzMiMM4VNsAOO4IVwFGGfDA5yyA44kBBTVliYcP//PkxOhu7DppQM6zsA4gDHDUkxcCJizgcXIBhk3hIEWqCnbngJmZYqJMBgIZEcQJTYyR5UYBCHTkP1CnFAIdvhwMXpX8Y0YlmAmCvwokTHUDAwEAijAhhFENGUByJBEBQYWGkwUIOmHOBUyWdQ5LmTvdJrg0jA4VAc9lYWDBBIKeARCBAWyR2BNJglBAY6IrCjqyIDRF4urxQCoylo0whwMxSTSZDBEhg4VSST4kNLyEECDKKJDrPQSoYsqBIimsGxtBIOBlmC3DW0vIsxNYUCAMdGQW4CMNdzhtzfJ0EiqqTEFNRaqqqoJZNQLAFNyNTkOzEYhD0UEskcqgCKPvDLS51w4HZBEIPjDMIIpqGAZBIXZbCyeKyx/2aOMonIG4sqU7YcguPATYS9EQQhYBBALSTKVN9a4RIwACikwSUJKIQjxIyYcOACREABIY0JEYHCgMxyg45wGAi7jGASrMIaCFwVSGvRk3IHThxUaMIEDRJQi4W8EZEBIzFh1Kx4+FR6HIoWmQJmVLGQImSRmDKmAGA54eEKasYLNjWMjY3xgyAE5lTSSZunhyUZiJIEYGLDC5IzpwOMG0cGeOGKzmYEm+eGKUBY8aswXGFjBsgEPCAiZ8YJABCfGDZqDIAJGd//PkxPhy3DpkoMazkiQwhKFJiXZlAgXNAwGRIImBQoCEmaQIcAcMFBYQCOI1MwTDg6cCbAGYLsoriFAwZjQBEJ4dIMCGwgB1RVUuyWnVTHRQIcF/HRAVBjwhVc0wGfBdMniMkQzRU3QwAQKMkETwgHM18xXwcu0FQoOAC0BhngQAyiS5Ii1MtEhBKGF5MiSSJxWkKxFp2+aENMiygQYOCAgcQoEwphhLOL1iRwjFBI4LKVOIyzCEGCVUi66ykbxYEYAWkicFxk/U4U9XjWYrgHBqGrob8SFg2Iv6pekdTJCVTEFNRTMuMTCcCfjDEG8l9K3rsSmSPw/krgnjV25z8pf+XPRuNYvowyUy5Y05AMvd6H1PNwpmhNzT3l6d8BrmEYB4FQgIRFIQYgYWTGQqoFQKrp7I5K4fdpLnAoutoIVOKWeHQAOBmdGMbC50CgSoHMsUCEBrQQVBhyQ0ycetGnLGBjGTJChIw4g1poHIUwRLIYIeYkiZYWSDwIgDm5iA5c2qSBCaIMhApGMMGLjmHDApyVQZls5lypsJgNQHTDmEolWuDnQKHQoDA2KN7NCZzMgBw5ILTA6VKoIQGZb00FFA0WYuGsMMrD0bjVEgyo1L4GJoBgBOY8AmMhAEETCh//PkxPdyvDplQNbz5IEjswccFAIGhyIhl5EYmVoEl2Ggh5gIOYoHgZCMFAwxzMiBRQbUzEhskAC4hjASAR0w11JIP+QhlyTUADEwUkAVwcADECyIIFNFsvm4oIHBuEfGnDOLJQUoQNYKLAZAICAQ6FSdKQ4wY1dE4TVBwpiORUxQQNAbGaojGEAVxfQDAygykwoo340MhUpYt9s6vIPBLEPO6QjFt0E5MAtBDRHoqBDIAcUoOWchahyZafLmETAkQwslIc1P5HJk8hbIIwVLkxYgkm3ZN1INrLivG+rdGLuqTEFNRTMuMTAwngjLbvJLpYraYxHph55HWoIZhBihDB5uN0igBgoBJ0LkfmCUioqrYxRfNMom7jBmiNL6/y6nkdBDYucpctVrzvMXgNgLsK5dtN9Bp2kpS4AKRiQEOAuaMFTEDwNZQNA0sLASYLDwwiMAPMGiAoEDDgIDTtMKDN+SM2gBA4wxgmAjqRAGZ0IgeYkcz4w6AHdgYPM4Vgkw6IWhRxE0dBpViIOroDCQcNMIPAiUsHFukxw2TUYGggEYJ4YZqGAAhQZ5YZtQaRibI8BlZkTxkjRrwAFQmQ0kRQ3oA3DA0qUxFUiSAKapM5aI5b4zRo154zRoSaGjeOOb//PkxPZyfDphQOazHEau+DvEJYeCmOERoWMNHCgcKAjjKPMxcSoCJiZt0wAiLSJBAKRNMBhA0MqsrVQyRUV8Fy2RPE3FP8REmkCHQGCEZIhRuYx4FBFkWjDpRlThDAGLMoEzEyJ9CUb4As0PFJmmAiMDgYQzGQogYD7ciAwCggQ0xgBNMqmCwQATMYUwDC76OLQCYt7S+oEBXIrAZIhhmEQ6TCpRIYQHpAluguMDiptbiSLozyazLGZrUVj7FnvZ+wYs4nkztEpnLEETVXImLCtjZ2yh0W7uS9bXLkDsNvvlTEFNRTMuMTAwVVVVVVVVVVVVVVVVVVXNoBCAAwAhI8iAAXsjcoOigYEwQZh9sImVAF0AQMwEBEjqLABl7DG0Y1s8PCbjXwAsoxhl6Thh4kZeiGSy5qpOAgVg4KFS7YVEDFSxSRggUEBjDGIx9HlzEOxhYIJGDep6w6wWUtFbsKjY8ZgoeYyuECDRjooCB0z4nNfXDnkogFwaCLEMHIXgMFFAxdmjqhcoDOgJ01Fy+JiAirgVUM8RYBMg4QggpTEwxAtaBZwQKZh4KCWeBBQsAHHITHkMY8wj0WlSiMpU5UEBnhIo0gMOLkHbNAgYUaiRotgwMGFGa8AiBoEROnEm//PkxOhu5DpWQPbynCK81qyVg8Wi640mSGjFx8lGdYbmwCaQ9C5RQKa6QkMYKyuRZmslcwMGBmEKBiUJKC15u1OZA6JzvpeqUkoBcZnSny1sjni9q/YAWswEu6ji7SqrLVU1mJhT4KJSpdZ9VgViwcjyhiFBUFbSWycygTO0ETNl9pkqmC4wNGZy4D5rQtJooPPcWfcF/Eil5q3IrM5eFMFpt9drGF3QOzqB7r0vapkyZYWDoCTCbaJLuaWum4/vUu3TRVbo1+zMOswJi7DWas6XA7MOyizBUTd2EuW6sZnVTEFNRTMuMTAwVVVVVVVVVVVVVVVVVVVVVVVVVVXsBCAJg0YAAskqAAKbukYgDRMMBQnMrkVPeAOZuSgSXsIgLS4TnAgKM0wU5+UwME1QDQCa447XAATzUTmM1h+KMgSEgCg8vcYCSpowYAwAq3p9pVhgLgEwCODPYRMricvEX7YgylVBFUw8OTMSoNDiFaQOBTZBQEAZOGNBCWGaeY8R3U6gUMGGBoYUFAwDTKFhk8Cj5sggCEM1U83UQggwAqsbFQagSZoMylMV36Zfy8RwEYsWpa6yNTOEhUCaPRiDoUiHPVtyTUAAItYASAFOGAnm09H/YoxqHBQ4lQYc8ATB//PkxOJtdDpSRO80nJ8CcqQbsKyxPhWBpSMA4XMaaABM3RpvF/iMTBwiBEE0wDYVmnoEJgqxAYWHFk1CAmQiDAiwMQidxP2ngFM5Thf0C40kMw7KZS/NFAVvsQoIVGorJ2axmUwDOvcypiTf2Iqz9ajOWwuayl0QAAjELUwkipmfNfchm8MvSHFH4rlyFTOwtdshVEQM4i0I43ZwHHxgOMRajdt/GdrkiheEWBucwuagujhLcWPOTGFzLIf901gEcpDGpGwOPvIzt36KSQy4iHZW+ssAAQMsv327CgBkkpdBTEFNRTMuMTAwVVVVVVVVVVVVVVVVVVVVVVVVVVVVVVVVVVVVVVVVVVVVVVVVVVVVVVVVVVVVVVVVVVVVVVVVVVVVVVVVVVVVVVVVVVVVVVVVVVVVVVVVVfCoErXDJkkMJAcwIGgQC2jNHR4buhOMVDo7ASwCCFqkoAaygP1NlgThibhc3L6GHZOXIFUEZtQQEEqLCSaZiig4AwgXmEiGa8IJgEDIcAMGYjI13sAHPQFlLZM6dVOmVCp528GKM7MOR2OMhZeCVztgN0JpstXs8idLdGjhcimuX2o9L6eXkoBotBT3ZZjZkiCrLojNOS0mEX3cQngpUfijbOiulqi4//PkxKdevDqGVuZxKkx1PInJwld2hdBRsxieKfkDXsl1RN+yqgMq/W6R+ldLzbYLICIwFE5YaSH1QXGESMTDkVCQXnf5uEupkNKV25TR0jaT0OWI3TRmSPy7MboZfGb9NymlNhucHq5Y27TR0/gQUuoOpLNCVVrIiOg6b3MNV28CssWgFMSQT4gKoYxGHkvp9xSb65lVXoeNI5TV5ojKnIXc0CFvwsKpQCQo3P63R3GuKYsOW61cOQ1lZLvO5JWDPC7UJjcYfx+akOwMgEbqmOCjtnZW/QkKUTlSPio2ZZP+TEFNRTMuMTAwqqqqqqqqqqqqqqqqqqqqqqrkBgCEiIIw1BwLBqJAk4SK5gAChggKRooMh/W9RmcPIYaZgIBJaMwICMEAmDhgzU3OSsTaU4aKnrZyQAM2YcIGjk04ZEWmXDIcPNuLCQBBzAgcLABjZMRBKol9r0BwMDAFMQxEYMRAnpfxQJPcmEBoGEAKY8XmdGqOa+DDQYw0iMJFzKiMECxip+eJymlkZsByiKYQJlACmUZ1BzgsFdacqUMNuGtVW1CS1Z3WnPZABbZaYAOajsohx14izJvoDY0g816dT0d9pKpkBw6w+yEIR048FDuYiiyUQjnwDmEQ0OpexTNl//PkxOVuFDpGTO7wnE63FfFuW9BgwvgmMoaFgjQS3J2+NZEAwKJ+F/Oa6rIwOkiK3BVyJCCMVChaqFQtQRuMDSVvYgnuoQpMtCg22jMgqGagFn0XabUc2WPNcVtgJ12msXiTGGtETgAtEyMtzQ4u811mQhEh3Wy5DoxVT48Bkb+NdLmqAl/GcMSW0pJrMCyQQHXJBaPVFDjeLCsOfyWqwuUylyUvmjoAkZR06T6e5EBM0acWxHnJECEKklpiQFJpoCLhYC5bNrkaERCQalRrEs9kLNFO0ZE2VlvkpdZUNS1qTEFNRTMuMTAwqqqqqqqqqqqqqqqqqqqqqqqqqqqqqqqqqqqqqqqqqqqqqqqqqqqqqqqqqqqqqqqqqqqqqqqqqqqqqqqqqqqqqqqqqqqqqqqqqqqqqqrMK1meHt2mgAoAiQsMAgRQNSxBUwyiDhNiODpI5ow0AOeVANRgZky4EBYgALaFV4RUv2gJNyUMAIEoIlg1wQFAxQAcvEoECmk3gE9y1zuWTDVnLzKDmBxAAQqIANAFCLTXynMvWHIDclLlh7K3DRfTqQcXIocrqNNPbxUTvpjEMy2DTyQqGw0RniPRatkZfouom5yLii66sbOlV2tuTKVCLLO1DY2ilEng//PkxKlfNDpOfOZwSE9UyHDZDKGhOY/KA1iDUFVGALTZ2q5m692P1mPLRUfltO1BI1pLpMyd1ioRFubEndutbZ2ozH4w2B00M4k1Rw2tw258vXgsRq0BvTBUBumxJ24Hl8FtLd+L2ZFDcrfV/VpwOxCKuKoHEI+qSHIJZmzt5o/LHnaQW0faORlejJozEn6bVfyp0e77SHARQeposDx6q5bzS9lcAOw3klbZBx7azrsoZFAsMtZX+4CRC7FLENGWwLGZfApc9Bdb1PbZfST6jSxG5r/dyw7Ew8GczEF5u+3KQaIx1/OWokBkTGjDCIISuh+tJIpcdprFV+4vYjrltCWDZPDSVC9aOOydDNMNdDht+4EOu4/7bxK0r5PhDgiIXHf5GRQR9kUklQcOz6nKgBeFHOaXvYnspGvplLB3GLfpUIBAUAEILaVnbohIEhy76dTeOmyhnDDJEpoXvVQQYRQXI7pedk4jLLjl2yzjyxpCYMkgot0QgcObanP0iibGQ4dRQyAC9611M1DQpYDlEtwYEYwjOgYSbs5RMwgAgmEcfLYMYCw4k2YseCQAAFAqYDl4QsM7TOmNBTUMBIHILAg+Z9aA6Bv1JgQRrJxoBKg5QUODdO2NJhJniAgPHCZB//PkxP91NDo8oM51HGMmlAmcJGOFGkcDQs2cU4qcvsJICIEJLQYJCgY1qMswbZueP2ccIdQ4ZcKAlIgRG/egx4aAkCBJoT5i15sUJ035pVJ4JRqCABLGcbGDtnzrmLOE0kCSDinzNmQwMrcCUqE43lIM+BCNJAyrcCiACFMapDoaRpx2Jl2pvmBlsh5GAu4M2HMyRBL006M2yIxo4W4GkLBRQBlAYSFU505IMKAECONTboQUDAtAOgkhs1IYa0molB2AaCg4cJBTCFzei0kDLCjXszOiWnGiFGKFAoIsKYcSPY5QJiAH0ULchmLaqDvjATgv8o0pYkJGUJ7L432CkfIcYez95n0fz3AjFJAE40v5fEWwtGdGC1M7UjYnVdlr6435Zm1NUjWm5tcSBUWYAxgLAFCCOceTQU0Wyu9yWhM4RQEhL4OPKw4CXsoCo0ypmN1m6jzswEydebA4JXg2FDICAKMAZPFgoCMMUdAGENqVCWAMASqMIowpjZfMclFIChou2wNgnOYEOAQaMGAAADBYMBBWYSOAJkMpNwoSGDkQQWv0YAQmLjhlQcYAKmzpploaYkJmTigWKTGmQAIpuaKZaPGgJxQ2GOpZgI6Y6YGijhog0YmXCQKZwTB0wYQp//PkxP12xDpaIM715BvBOHYRxEQa4XCM2MYQjEjIyxgGSgMIyBrMzEDwLzKoiZAAmo4pBTZlgZET1BxlAInOCgxjDxpDwXKm0Pg1GaNsZUSIGRl34E2DXYEgTg8UsREIU8a48aIkZoCpQY4MkiZ1uNhDEKTMCgNjL0KTGAb3BYCBg5jiaui5okoaQMBi76H4YPhpX4jOGYADAkCiR4WMxTLkjMNBmaZxUBGoQaICYCtlCYxh0FgzHIkqgaCBBIWEJDLAg5EjmJEQxXB5fcxwJBKFTqtTgggyLHkfiIIlsVRaEJhjYBBoronF3oAIO+FAaWXSli67GErWLZo4U7SnilrB1Mm4sXXO2qPDhPJ7pMNYQ01mbyxWpBywLow9MPMqkzZobszTztyEgp9qLqScezR6h0lHjw1C6q8Aqm75M0ylEQCqiNsMyC5ab5EmMDMQOhsEokpBCSv8ILhhaq2V6JBjAaQi526pyNxAxSlqKhrIs/LQJal1R4EKg8rYY0GIA2uEAMSgJfoCDxk4SYkgkS+Y+HKUmNioVKzHgIOZS1wYKGJhQs0mLhZIVkQ4Y+bmCBJliIOHJvQEPBAOczfS4EGhn4UZNkGklRphkFRQMqTAy0wthOdmAS3G/A4oqlgh//PkxPV5HDpVYM71yDlB4IQQMIpwEhcYyPmLjRio4AD0IHjIjEw9SM0LDhQowBuMjGzUyosAZsAIFQMDIYoqBSAAEgcWdIAGxCUMufJA5EuMqdSfJnyA4WGGCNFuiIwZoaVkzSmTBHRoWdQINizANjCCwF2FuwtYGvwhFCQkYDlogU5ThIkICSJ9DQQgNlZUCvRg+DSABMiyVUN4HAgSYEqppoD/gJMYdUGAAADKidYAzwYO5grkShjgBTRIWtA42CS4ssHuJkQIKOAQonUFQiPiGgXCPOAQy5QCMEIhB1ZSfJiQw4gKH4sfFQZa5LxrCnNCuZO4uGAgjWECdUxBTUUzLjEwMFVVVVVVVVVVVVVVVVVVVVVVVVVVVVVVVVVVVVVVVVVVVVVVVVVVVVVVVVVVVVVVVVVVVVVVVVVVVVVVVVVVVVVVVVVVVVVVVVVVVVVVVVVVVVVVVVVVVYiWdrbJ1KLGAMAHBKBoGAJgQpgCQCAYAWAJGA9Aa5hIopAYmAXEmmvnMphIAMkLBFAcArmeGGXXCuk32g0UUOVBDsUGiAMvkEKjEuxQoaJ8RATACBIKikIhYoQWeLqEHZT3T7Y0GkOoth3g3UehJ9J1Qm8dZJievjSbbJxsLg5LzQXV//PkxINVpDqa9P6ecpi1Kk61IV4OWEfhKTRZaK5PuBPVKqWs/dD4aztSCWQjsxuqxvRCGWfoY2oEhUs7O2nShY6EcW5JnIynuTVQtZKU61GGZYmqMMtRktTIZyWTS5FPQ0tpoo2C+hxKtjPAY3GErd4hqlr1aLrCejq7JbTpwex9q6eBjxbIdDVDmzJ21SUk6V72EuThMVNoS5yIhievlNGmiyR4aGqGK2zYooVS9UMRDl5QuCiZkNTrUhybQ40kSso5CXJTK92rXxCfg4ZzhbUJazMPNpbGNhrp+/i3bYVlTEFNRTMuMTAwVVVVVVVVVVVVVVVVVVVVVVVVVVVVVVVVVVVVVVVVVVVVVVVVVVVVVVVVVVVVVVVVVVVVVVVVVVVVVVVVVVVVVVWkvEXWefqG3FvF9BkBR8V9DgA5hNjsGa48oesmTZoAKtmVoPiYlYGr9mEQmYIKhsiEHFHsJasw+CwuDAsA0ZjCg0MbFo04njCyNDkizphBb9J4yxY1S45FE1cBNMMOmrWkQZLh9i2CHdrpZRdRgBAGCM4VIk+JAEUy2ZZADAGSJHq3Bwt6AgAzCCGWPm09uilTImGMEWkvIvg053054zGnXpIch+PuNG24PyzuPvevB9q6n3Cl//PkxLViLDp69vc0bGvdzHKeCOPNPW2nQyztx4de1/o2ydOx8oDbanlz8Mrft2H/W3CWTP1Ab/xmKQO4TW0vW1ddfkCPYqVLSaZvtfyOUaemG2vZyCCsmXRajpYvLoFkTEXFhmAIbty6V7dxsTrR2KyqYgJrUHO4zuci0MsiXLFYOhhkz4yB7oRDDXmyMsdhYd0JGkvD048Ew9rvOIwIdBvA0V1Hqhc07LLHblFNahLkQwxNpTBr8SedlSNjLU64XPM/c2DRIGyqLv9K/kbdnRXKzV/Wmu+v2Qw7HrsOQ/AKTEFNRaqDAAAG+NCgLMHCsFChmYwABQLmATCetBxkk2GHAQJE51izg6UTHG8NAUMmOIsDC6oNGRlpKGwGsZ6GgBGJhoAiMHF0DIZbMvhA00BTUIUMJB8rBhg8VmaU6apUZgpYkhGMSgYwaNzNrBONzU4WQTcUcM3oc0iSjE4uR0MQVN3fNTGNktVTf8uEQmzVkRVYZ6KVEBmwye7uI4I4A4OECDGgkXwEBS3Y0DgYsQFgRfUWCo8AAUEBQcKRuSrKBIiAFwBgWFQhIFERAu4SrDLKjABy6QKKhUIIQq2gYg6cBCBVTKhOVpiSSOgqogmQISpNCiHhoAIMpvHOwLia//PkxPpzVDpeyuaxTDxqMBsEpwaAciCVBQEwGRBrxnyDJvUBjoXCSWbjoFYQcIGzWcPOAQF9MlTkQkisCyhdBOssABikjU3C4CNLMnqS/wZQ/qgLQJa78Rft3UfYchlVxeBUrorIaa7EuSEYY0lkyAVpaGkdL4JrqJCh0pB5LNgSFI0tkwGcZKXnZgnA1+neRYhCdAxcLN5CzF4kt20Voe5DSX1aiTivJOwx0ajWk30zy4CsC4n9QADpVKhoDW8WRQyz9PdVF6oIddrkMIqQ46DrS6XxlhjT6KdpYfl6p34qoAAXoXmEgFZUs0wlCMxEV04VDoEAOtoEBuYLAuYekmapy+bkDGYijYYVh6BgdAAVmL40m9pQnLhXmKgQGFISjQ9mRRaGIR3nGxPmPAdmGILA4IjA4QzF00zUdyTExajE0JBoDigLTCQKzFYbzMY7TGwATDoYxIWTBMEgIALKVSlXQfM3PaQw92UJx02cNgsrTmxs8d9hk4rdA1mVLvQAqYrVUpWrA6FxcUwFWayKAZtaCGzsiEBlMW+SSIYgMQIOtRH4GNYkA1myFqeT2DhyiaD75oypCsVXMs8BHzKqgCJMofGlpVCF2QIsMf+MqJM8rFrAXEDwJdaThEIW23Aw//PkxP91VDpJ4O41TKKDDhlHAIbgJqAQBE7IQhgCRoGBmUZgC5cVO9Tw0ADCCwimKlKAFFUFDjKgxYaQCQoLX40Ive5afrD30ZGtdJKR0MCyaJQhuTf2woBCwNbKE0FC2rDIMCg1npkMkgVkK7WgR1iESV6mKh1YksYUBiwNORo7ws+WBMUVIvrzvUyigWyWZMsFMADTBclYzW0OICEogrRjNCxZuRCDS9lq9upmiAOHVJuFsuVUpDDg08S3Q0VHjzvrAhcyGSUwFMFiQlR4vGRBWzMkdSkiCVEhiVunvS1uOEsqTEFNRTMuMTAwqqqqqqqqqqqqqqqqqqqqqqqqqqqqqqqqqqqqqqqqqqqqqqqqqqqqqqqqqqqqqqqqqqqqqqqqqqqqqqqqqqqqqqqqqqqqqqqqqqqqqqqqqqqqqqqqqqqqqqqqqqqqqqqqqqqqqqqqzDCKYl2jv8vgYIQPFH/UMEW8EtEjqVTdK1NAECS3K/WFkwFk5CRLAYLkRJCFBMYqIhpQqG+T2cKR5k8fTpgEHF8ggahYNl/S+MgqS6lrCQKe9G5QOcLnN+9blMgX6ttzFNluvE595iDoNJCwJeRpDLnKSJZmkw+xICVk/L8XUDCFaOccR3nywvWtWsKp//PkxI1YPDqKXNce1oKWX21oUMUvxzg5ZkIUK5IUj0Ud51HoTdCDpIKeA9RpJkXBDjlSD6PBUpy1WT0UZey+MQHskYJ1MJ0nsZPqkyjqLImyGnaZCXJy1oc9OEb5qMLApCfhOhqg6kcTUSxop5CpVw0pEukI39nULrMYwmhJGYvbG/bl8zltRbK44jIP4z5lpxXbOrkPUIuhOlwhaGn4rh6hSjRaanejoCuUK7To3jYO5hRqy1LkGydCvLYhKuG6LiyHSKcaKynQDEiVauE07Jao8qtZJqtJ5++s2IjbVPC1TEFNRTMuMTAwVYICAmQUD8wUFywBgUgjTmTP+QMyAECY9jw3QjMOiYFHcy+RzGA9MKAswCKxAFw5hmXg+bcBBmMxmTBJmMRwHBLvGcI9iTGmGwGmLBFhBOrvBoBDQNu4XGBxydKeiqymS8i1SAICgIBmYvwikAi2MscDhC+0Mlxrbg6gafWGWdE43TQTDUnguBK8wxqXyHKlctShpMGyJlr7OU12TTFdsFj4jR12It3c1Hqu5y0VWsCSiQ8QWbi3wYKlMgsTREWok0YIgUFddcuEVC5RmiCMQuIZg5pvHSS7QOQLQnlKdUpwIhRhIgIWM0dRxLkzhUvU+EWgK8TH//PkxPVyNDosuOdyxCtKvUHy8AswZtAuGX1OQFZogHByxQabK6XCKo8KSgp8OeW6VgQ4DQ6+QMcSEA4MkeOdoFZDV7EhCIXgMIUVDNugmXAwwCRBJ4AJBw4ANFjR0EWFC7R8DBU41gztaIgjGROk4UDMW8DkxcQlEhSRJAWYopngskA0MADVpAMAC1BoeNEMRkr2RoDj0EJEsgiBgQhZCBE6BQ80lBJgQjmE2FAB5UIKWsIhE90l1QBUYrBEALWmwIpmEurwJKCJweAIRgxBtxQcHKB0iUSayo3TV6jswZMpTEFNRTMuMTAwVVVVVVVVVVVVVVVVVVWAAGXwCQIFDlEwusYRicTqYNIbuYa8uQKx1IGEBWYCTMBJBi5sY6Ogx1NDVzGWo4lOAASFksKGhiRubEzp1EARf0xWQ6x5i5oGPAw6NinC01KW4OU4Kp2yo2ARcaOLwAJJ+HTdVRJR1qCmbOQSOsIWnZW3BRMLiR+iWIkfEXUi7PoMX+w+Bn6a3AbcQuCNDMoW0lyx6M3mZjQEefl7lwvtKFYow9LQmlwc3jI1mNYcNMBW5WZXgCGUEBhCUbKEWFa3wR6awQgI2l2goal4WdHChg82EwVACihQdfxyIgptMgts+LX3QQQD//PkxOhu/DolENbybM2vAxzDDbGsxKiqZA4ZahGvQyAjLeEtliHuwBAgYTFmEFtyYMxoCZMRBEAr1F2CZR00m2cImGisjyudSwVDEKiYoK6bCYb5rBqTLYoTy4KXTMFelFJAsbbok4b7AEUSgPGJQwBKgBBEk2m74woBChwE2ERJ8hfICS1AsUHKI3F2C2YEAHzmck1SqhjqDU6CAEKrGNBVYAxkDLGaU7JkAruCLAwcYCVcBAJcxBNBkSCdvXIRfCo4hRFujXXMkYyDy1gXKLtGAUWUQ0TJTPLnotrsW0meTEFNRaqqqjCQAMIkEDBgwaGSRCGZD+dTbpoCeG+CAcOXxlMPmIQoGU5nSQZG3mYDRnY0bbZAUFBzIafEmggIECjaD4Lr5yYAbgNgI7AUiYyag42TIUwTwQQQAmoOA1GztiX6m2zZa60E7XM686mDluvAiYAKQQXglnKeKqy0YbaWySBlT6cSAWyJ8KWPwt7qgy/nhnHHiL4xOKppRteNPA8/AkQjTI5I/cKjyuErGCswJQJ4YALdTC+AcqrciSw0QhEoMhZCwiCBEIBnWCpuq/VOg8JFImDg4gCMpRL5bYAPBLgcKBpQQCjOnYCpAhscLFATDAEnDiDDyDUIEiwI//PkxPhzBDoUAObycKCgBFmloZ1puiAzonWJlzctPIcVLCD9onGheBCxYFvzPJGiA5DRWaHgl1R5oMDBWqEksyXqNDEGRl5Aa+I5AJgX7SrMt0xhjgRMDs4MQ4g2EgMU080ITzOPx5ACccppjgwIwZBEKZhQGOOQo3ZgipEEzAxZYHJBzBKOagIWTQNGBRIw36jahQIi5C6hWo0RElR48QDGY2caxROMNmsuWTR7BpZoNjlLHzHBL0iSI4aYTogbEbxhOBjzch0A28AV0aIQoABTAYKuwhCDDjAHZg4oKOQ2TEFNRTMuMTAwqqqqqqqqqqqqqqqqqqqqqqqqqqqqqqqqqqqqqqqqqqqqqqqqqqqqqqqqqqqqqqqqqqqqqqqqqqqqqqqqqqqqqqqq9WALjlaUIDAOYSAgYahQYPAGYthgY0BOYRPafy1eYthKYkxmWqBoQEYOOFRPOfrT4ac7EVCSgBHgjBSU6NgSgKZmMipggcTFoBAlUDHVUia2kq13R0dIjowIFNEPiIBTXgQkMWFpeArhleB8nBLEXspk7G3QnvWupGVghIgDBLdJhQM3GCZ1OB0G4r6LUsqZ6XeQEIzIXJkyplL6Ijyty9X4gzCq50CPe/N+VrxdlY8SeuBm//PkxLRh/DpJvO7wWnLHi1jSXQuOovhg4UAnIp3Bj5QDD7CX0ZxGn14wt82SRm+y6Hkh0tjQBJBu7/OC0lfzp0CaEjZTJrLQomko3GNNRTWAwASFOJdEWmX6ZQx2nUg2wQFV0rdtzo7LZY7b0P/MsqdmTPJAabbT4TB77WpbFHbwlsOyucgixLm0cKgkr0JCQyy7snj0PqpO5D0xDL0wPy1Ja9ul7LE53Q3TwBqAELEFVLFh1YU6FJW3aRLuJHMRVwXGQbcdoqsTIYZUBfyBZWw6B2I2262lnRCXMhViQ1UnTEFNRTMuMTAwVVVVVVVVVVVVVVVVVVVVVVVVVVVVVVVVVVVVVeAAAA9/iYmA0AoYCYBBCAK+jGR0BwwGgxTJ+G2MKUB0tMAgpDADA9LfmESNmZKahZlegcmAMCQNAUoAh0FMgAAGBsDLoDBMhkOkwjwczA5AnWyZNGHAHpzIqaIjApEpDIBRdA4HGYmpkRUEDi+kDTBB4MGTQUMEByaYOBGBlly/ZoPCp5qCFgBuIWAQZMFd9mHFgtEeVIPhx7DhCasM9lAvlV6AdS+kUAQAF5E1FlpbyDG2/7vrQWpSR15GfFxE70k4EZQxBQBkxgKGgAttpsHzUbWIW3U2XDGG//PkxNprVDpKWvby6MBeAVZOGs4w7rsCo4OLCgBhBI8Fp2ipelszRjOWc6aSkMBWuk6ZcQvCHNlp2nP001CYqwso1hc8DBgiJ9clGNIMKnRJU7LH4wZHEWs0bTbEIWjOVW0eDr8M0ZwlKztc0y7YqGsRZtAWzVNQ08NNe92nUXY9zlaoYwvdpsBMMAJL9OWgvWSMXCQpEyF980SHngusDk3baUrigeBQwt1E5cmhIm6vMXvcSGFVGny2Ip1pVqDxtk9G/qh6F6Y66H4n8owzydkENQdqo7cdq07oxh+24r2VTEFNRTMuMTAwVVVVVVVVVVVVVVVVVVVVVVVVVVVVVVVVVVVVVVVVVVVVVVVVVVVVVVVVVVVVVVVVVVVVVVVVVVVVVVVVVVVVVVVVVVVVVVVVVVVVVVVVVVVVVVVVVVVVVVVVVVVVVVVVVVVVVVWsEAlTX+v+2uQpvL9E5TPBoe01ZsT7zAjGJgIcBw2neM+aSYAKRjYWmARIYdAAqCB0NCECmITibrnZkBRGQgWjmwhWEwiUTOYhMMjkeBwsDLLSRE0MlfEZcaIMBbCjgzwxiZPBw2uz7vszBItURiDRadAchavcIYCQYCi2rjIBMBKoqHQU+LeruVtDg4FBGmSG//PkxJFZHDqWXOaZPhCqUrJPdVn4FFg0AtZwGCvGYIkb6YYuiYQGg06a0mkJgIZRuXyqJyyo7jXtNpDD0o3oRgYS+jQrb5oaAIAZkGPBKVyqIVFgJGNEQaCDD0mcGMl1091qwDGn0QEKcJ9MRWNDrIVsojExUDBlvtNaM/jVlxP7DMqq3eOS99PCsdo0s18hjs+ObokSYNNiOFathhs1OSGbr0iClRPOuryqAgsFhtM8QAJn9GXZXHTjHLZsKV70TlODt8hL13lkKApJS9c1w1j1BsXzAfcmiz4MXzPrOURqilO/j/rhLNmBgOAZ0AJwYBQLAUDIIT/GAqAAYpBzprMCwBgQxgAgGmAOB4JAXGA4CwYZaIRvBmTmGCAoYIgMhgdgPmFQFmYMoPBhhEXm6sWSaaRhJkfBmmGqKYYPYD5EPDTBpNy2A3eKDIgAHQCPABLkRhw02czIIlRKWsrlPgYCDDMaTyVeq/GVo7goAVjlWrqrZOGiFEnPljrUVsVIIDI3HZe7dh2mIrvfVrjRTChzLyQFHSlIgLckIwKCO+oMgWY6gqmjGVVjOiA4Gwdp91X8Cr8OAuNMAQ7JcpRo5joo+NFM4tIZ4SFkYMWjJ02lQxBJPkzoMFBEljDKT1qy//PkxP92HDpAAPc1BEMl4mWJBLwaqRSxGKfREkOCBUcY2gHWAw8vcdDsTJA5gJJzFyqAVAgAKX6U6AJAxY0eBt9B0OxprymK5VkyxBCoC9oWBhyMtotgRhEHB4IXsTBTFfymBoIwZAmPtSTtQpYquh6VHRoKzt2ygGsO/pjhBcdZcVAQ5IJyxrMbomWVb8mCGECDIZPYyo1D1uJfhh7D2fA4CsLJUD4JeUEjS0bEV8L0bnB4qJRkcVisNLEhLpsMTPaHDdt3REDYRDb/uW0aA3DVE7s7HmVxJLZprvuWy5rjV3HEgLzVwAAgACYqYTMDAGAMMAED8wERvjF2GrBwaxgkgsmEGCCYIoERg2BYGK8QQbIxBJomM4BAwwiC5aQAEYyrPA555I1jREMAcgDow/GgiGIxBGQ0lPc2AJ4xMEIAhMYRAcYBBsYPgKCCdP7wRNMBUMBAMAAHmE4dmGYlggbTBAkjEwEA4S0RFqswLdGRoG4TGeKIFgow/A4QNGrTuQls9VO0h1BAvKG60WJRmVJhAwDRQ2/8DRRFczQVA5Qhr6iqdMBKPpqzTWnVbqDAKXMRSsWBgd+XFoU1RkEAhCDi9WBDoowU0ysMexlo34KgY2rg1JYwq0wyw2Z005kE//PkxPl1bDpJQPd0lI0lBDscHhDW0TImTEgaczQ80AwBRjPGAKHC4EsyYRGZUODnqVdoGghQQaVcWvQyAxIBKFShwlL0uCZICX+GgruvW+bLWRMuik3GKd9p6lhyNOfCr0Vf52HeSLhlYsNWXEqLpgMADUSWU11hWFJopEs8gd2V0q6cJYjXmxOUhkYdibxGAgKBJpTlJvl8AEOe1OFHtVheFL4uCtVhr9vQk6poXATqKgNYZrbSlXl4WasMRTTxbO5LtNNXa6yuojGWBqWuk5cxGYFZSrTA7xRbbWXZSqeyOw5L2ZRdN5raTEFNRTMuMTAwqqqqqqqqqqqqqqqqqqqqqqqqqqqqqqqqqqqqqqqqqqqqqqqqqqqqqqqqqqqqqqqqpAAAQ1IbVMDyOM3kDMVzuDA7AoOmMAEmU0GGGZyGZ4NGAgGhQLDGMcjHscjF8nDPlODRMlDC8ACACwUDKXmRF5iQMZSVGQjRi4EAAtAIYEEmNG5oxqRCAjCjBQkzAnSwIEw5LnPknzQh0xofNp8DgmvEDqmlmCoNJKAr8acDA3tMSE5kxgEIJlIgBMgkvzJrkNWJKl65s8Wxag66na9zAFDBUeljbAoSW4cC7Nl2oGnF4sFnYVDUiuwQicmE//PkxL1kJDpanu7yrInQ9HYeiLWX5gJ/pWuV1UQQEKrmQ0bWYFXyCA1LqZW5AM20qgMuCgq5U/KWssKLZI/Nel0ppIm11s1Ou2iclVVhgJCBQTQrjtMqUGlkW1Grstw7TUEurdwhqLSmgqS6AkvlYnBhiXuT2gh5/pdVrRlu0AMGjsGQOxFuzjpesSn6XkAo8lxW1utanqimTU1MViwcyqHXiV1BMCvtJ7EPMyV1K35j0PV1Sw5HKOakUMzupdM01qGYMSKYlD0fcmXUrIljMOdaZnGRJivbTPtIrjtI9FxqTEFNRTMuMTAwqqqqqqqqqqqqqqqqqqqqqqqqqqqqqqqqqqqqqqqqqqqqqqqqqqqqqqqqqqqqqqqqqqqqqqqqqqqqqqqqqqqqqqqqqqqqqqqqqqqqqqqqqqqqqqqqqqqqqqqqqqqqqqqqqqqqqqqqqqqqqqqqqqqqqqqqqqqqqqqqqqqqqqqqqqqqqqqqqqqqqqqqqqqqqtF5Y5//t/+rcr9MKJM9GXgWebTT/NxWADgmkggOBCgYujBTNodLqvwmGtRwVKU9S/aIjX3heqKxVWVdkuhh44SXJBynpY7JIy5MtbuxEu01hB5lUhf5BM4Sa7puYrppzMYFhuOMlfpv//PkxGhO7Dp1v1nAAqAIs7rJIacF0KVnr+12b3nTdWUSukf5pL5vzKm7sgjcsnqGhhyNw7EqfFrT7v3Yl0cl85agLGNPs9MCal1LYfaTSuYp1SvJTbpsJ9lLqvy6Tkv9N3E0WcNCznKroxKtJKd6IGf2raiNucjT/bfaV6hl3oHiLvSONuDGItNR6HpVI6GTSGmts6g+ipIlDUavblef5Wo1PSiWwBRzlPyMUlhwYFtymrKpLUh6pBUA0UVqxSdiF7CP03OR6nmabCeh+MWL1PSX5+et46q0V3KN4y/uvo7tAgkD+YlQw5grgdGAgDoYigLxifh0mbxEeYagxBhhHdGOKC+Y1g/5hFCWGBcUiYLAGJhIhFmFaCOYAQgJgkA/GpihEbkIQYYAJrgoxEywztECHwWLRLTMVUTByAwUwBI4YwMtTMmpDcScyVjMUCzNh8xsvGBgIBjHQgIEgwIARWFBQwoEMpXDMBY+CQNzBzniZ4IbZWzlh0KZ5k37NFjuOClBvDKAY08xMeACYT5pnrGIbeWPryjkTTDeeKWgUvhQVMvCwEJoeI5prRDN8mGpJSuBXJfR9VV2goPrXa2vOLl8xAAGXEBmw+YmZGzIR1xQGRZkxIb4jV2jPi/jIWxQ//PkxP94ZDn4IZ7YAPw82jqwRLYs/CWabjuMMUAZwl5ELMPmUppt6CcSHCSKa26nDgokoGJmp96SbEfGChpy5/HsIMdNteOLDFl8LMMvvZjkhZaxFQapKFM7dl/HAfWu8bL3qckwQ8MoAAMGhyEZMKAZ8BROluaAaBdLM7BzMRQyJTOpUzzzkOeX8rz91+YFgSkcpoUph7CmlUGw9TSTCS5z6g7pv2km+bFp+DHYydylZw/8RYty7DcSiBrpWa2YmOCwIDDBAEwEEMeBDRBAxMbBw2YUUAhTOBSTkR8mZTWzM2UnMCIh4RKxQw8MM0FFfAggQoiUAYEGG4WC4FECCAbMFQvMPQUMJwRMNQjMOASMCixOUxzMYEIMYS+MSA+FgJSqMIRPMBghMJiVDiwYFBJhUFmjiSCAcYoGx88AdEJTMVi0FC9WwwUHjfUgGgwSjEzOfTu6pM2AceBYo7w42GPReYOB4NAiaohBgGDSDxgsAtdNEgtsie7QpSGI0x2FzBgIFgQYXBJgACInMrZ01pChg8PDwXjMrIg9DwjBgOBJMBxCDCYUgINgUNxxPR8ocj67qnVnt50RAl3IfMLgNyw4AkoIQZKoPGAUn+67K1A3FqPI9TcHZXmzsmDcQjY0//PkxPB0LDJlnZ3gAQ+IOEX9XCXoWAFQoYECI0JzBYJCBWYUCBg4FGDwSYKBEra+4zSlnOm6w8BWyNnZPEXYflWZrUceQRgWG1jqFV6SUhAnBwMAILBoAIgAzAFBgDANCNGFQot0ShcVBRhkMGCgS3VgrcUiUbZCkUmEra/N55oi0mpNZxOEszXmXJb/bkQNDrwTsthcNkQOVWg28u1kzZWWIGF801i9pKAjDoEAQJSuS2ZioOgJLrJsRZ/Uwuz7c5XlDztUkJaK2FrUrnZVCbcy9FC0ooMkIoQIDHdgBQ6Ktcgtsr2NArcghYe/KkxBTUUzLjEwMKqqqqqqqqqqqqqqqqqqqqqqqqqqqqqqqqqqqqqqqqqqqqqqqqqqqqqqqqqqqqqqqqqqqqqqqqqqqqqqqqqqqqqqqqqqqqrQBkRrm23JTKDdawgA0qXIAok1pYZPo1BFqOyFgMtKIwRurPC5BgciECw8BXoNpHNGA1UwAVD4iQHEDHsYq0FrsOI/lZwZqWAYmAQspdellWyzGLmFADIggEursjT9u0PNpjoYYCBAICTpTURnQwf4xc3NcHE+Lcv7nat31E2H3flnKuF5S8AAT3QapY/sxJ5yBhIIgxrUaf6Zs9mk94jGGdRS//PkxKNdjDqKP9vYAkNJTughiMixeBTJGZnLJaSWqnEAYxRE1QXUGP7B2cyq9+XdXUwZbSYSPzopaK0Mpno1SWJbALLlm0NatAMYpqOIsFn4Gbq8W270pdAwcIMBB2fgoGDgZAUUAS6UVVBmnKKKbNCcWDIGb1zUxWYN9DDvMyV85jLGTR+jqBcLf8vcsLDS/26R8YAAqOGTjpb+My+OWH0qswWu1144dilyTS2JMAVqkiwrXY/GWAt1gZki9n0l0YjbK2G/GEJ1PPvtEb+DtPslKy+Rt1nGnMiadUg93o5VTEFNRTMuMTAwVVVVVVVVVVVVVVVVVVVVVVVVVVVVVVVVVVVVVVVVVVVVVVVVVXgAEAALqgEUoSAABYAYgABCgAIXAJLfRokAEMD4FsyMyPBoEUaACcouyhapIwMAOA4Zkw6D5TDUEoBgK5ZcwFQDDADAUCoEZgwhTGEeBcYXo4xrHqhmH2A4AgYTAdAnIgISzalRdYBBpmZURYzVg5PHQYMN1N2HMvERCZlTmgnYKPDERdIBBG2iE8gAjX9AzslAQ2n1TPq+z+JFDhycAkq6ddrvblNQwySDAsNyGuzLo7t0wgPPQVc7sNBcqIdrOAATjMCZJAEomcseoTQ5B1Yg//PkxNFpRDpS/vbzDNcwvxyyl8ludCQ0QPBFAcjYehkXRDgjIFaFI2dVYL+HhgMEGlv5a2FcryS592qOcFgUg3jhT9bmmttcR6XWig11z3ggmXtbHkXLbikWoK87W1bEBgcGJiCERBteTKl1x6Lx1O6H4AiLvvrm/Cbi0llLXkaJySSDLA2LJEJfRhNIVVXtIm9Yuoq1+KsAJhhwYSOZFB1+GqKAqAUCYI7uEYo6kvcpsoGOgZnLZ4s8NI7eKfpMG2KUyGNvDYp3kLr35ifpoaebsKm2nOPTyuMyfCVxpcsVTEFNRTMuMTAwVVVVVVVVVVVVVVVVVVVVVVVVVVVVVVVVVVVVVVVVVVVVVVVVVVVVVVVVVVVVVVVVVVVVVVVVVVVVVVVVVVVVVVVVVVVVVVVVVVVVVVVVVVVVVVVVVVVVVVVVVVVVVVVVVVVVVVVVVVVVVVVVVVVVVVVVVVVVVVVVVVVVVVVVVVVVVVVVVVVVVVVVVVX4CAABYu7ckmLcKmXYy9himeE24Rgxy6+mQsgWXMQS7oMAzjgpNiXY0zhpUvK3MOSDWxN2pFoMC1RJ3sMMWKTa24WGDCyhNZ5UwWloADACUCLpq4evKXTdmUX5An8ZPHA5QQB3rvZiXvqh//PkxGpPfDqWftvxzlGhhpEFu5ivyRUTHF1hRKMGEjDABFdPXX4+1pLuRy6/nnl8wl8HBCUzmlNVYjTj3xBlvplOsBgIam4e2SE/ebPtD40bWHLYfobAZfeyNlMPiCBqHGlI28uTMPpbLhEPM+zMEUJ2MsvyoUqGuymJGFDMYeLm1PvbwXi5hT7x2Y0sptOE3Vzw/aulk5URJVXJTPRqkv3rLdF7al1NK45dmZSXWdW9LNalVbd5UEpiVNUqVL0rSlSDcjWUUkE/R3kAjzxneNaFw3LIDa1FZqVRLD6amf68TEFNRTMuMTAwqqqqqqqqqqqqqqqqqqqqqqqqqqqqqqqqqqqqqqqqqqqqqqqqqqqqqqqqqqqqqqqqqqqqqqqqqqqqqqqqqqqqqqqqqqqqqqqqqqqqqqqqqqqqqqqqqqqqqqqqqqqqqqqqqqqqqqqqqqqqqqqqqqqqqqqqqqqqqqqqqqqqqqqqqqqqqqqqqqqqqqqqqqqqqqqqqqqqqqqqqqr8iAEP7eOS3NqwBx2Bq7Th7ecEKEUGVVzMsZtx+osOghg5DTcpJLCYw6UZLVGggzr5fOPvHHeaABCcw8FOVLxoAQnlUMUDEgcOZIcM7jg5sRzcGA4dxZmnaNCp1hQg//PkxF5MVDqiXtvZtiE+KaTu4ySVw4tw18fX03JWxa7YUa0YAuKHXkJjQKWvS+pa6lwUIuh4v7NEykjqAKoPFNa/riCmo8+JcxbqweoAdoS+mhvKWiRwLizuHmLhrT4iiT864dQmQ9k6TlziWxLN4EdBp9PpWcSZLMp2t7SfJ3iQCLg1R0CLKx+ffhRV5lb3re4xHjlp8oy7HGzvql9ZWs8U8iykWXCyr21yDKBVtT69YkV6sA2XBYzDj0hYbFOoDFEpd4yQDwCyg2aLUS1hCK10WPHLMcKs9utefTuTDAjqTEFNRTMuMTAwqqqqqqqqqqqqqqqqqqqqqqqqqqqqqqqqqqqqqqqqqqqqqqqqqqqqqqqqqqqqqqqqqqqqqqqqqqqqqqqqqqqqqqqqqqqqqqqqqqqqqqqqqqqqqqqqqqqqqqqqqqqqqqqqqqqqqqqqqqqqqqqqqqqqqqqqqqqqqqqqqqqqqqqqqqqqqqqqqqr1KIRTzVx23LSuwTe9fF1sDrmOwiNE1zmoy+dm2Iu84QVCEH3nOZog2q1gUgHAKGFxnfca7WWJLqYcFSebCKB+WhmyRCYFHAiBIYD2oGAw4YBEKAkO1WfSw5nO6oBkoSqCLW3ZIqx/mQrbkbQ0NjPB//PkxHBQ5DqmXuZfUl1Q5D2dGzp0zATNBE6SU0Ibf/5LK33X20lk9Sr2vduyRIJMkOEjc/e7SUEkhpKhrrjwfG5dEqynRQKhAM8Zv8d+rj1Ylid/mlWpPbeIo5HhbGRDE4inMcCzPGTpfR6SuFIBVKIt7YcYjpvkpeL6tL2f49JMHFdJA5VQsRmBXq+VXxlI2IYfiXTlo7c3sZN47ebihTzrscPE6kVpgoa4qWHqLIwqQtqNe3gqakSksjihcGOwNSc0aZzqyIl4infMg+xM2tDGJwfsavbHjxjmvbVawX+6TEFNRTMuMTAwqqqqqqqqqqqqqqqqqqqqqqqqqqqqqqqqqqqqqqqqqqqqqqqqqqqqqqqqqqqqqqqqqqqqqqqqqqqqqqqqqqqqqqqqqqqq2JSuK9m3K8JgkjxYgEDLTZ5aWYIpjom1WIBB0PjCgIuAjgjokoy0aCTMUIHOpeMEg5MFAgMLoAgCQPVWMBaguGJ3qXw3f5nNK0GJhxrJAYKAqCKjdViLO2pQAMtAQYzAgEQyEyChIRG80Syy6QbXiziXDgP5VQRoDgEyEnqFpWN0fiqIwUkmCpKltC9L4uXPSNKhchZAQhQYrW6s69bT39epRUvoWxm3PdRrcikz/Ic1//PkxLFhDDqGNs7yXuTvxiAWxsjftspEmWiTpRZeBllAtpPBg7W0hZQ3B63QmRQBIBnq+GZoUzMHzUNsia/DbftvIpdPS9+8ogp3A7QmhvNEmGwdD1LCIalNJImsv9Vb6FrwUGVtTag2hVM3WVO3GWdxZfNAxyCIlTwNC22dZlDMl1KdsOlbYKWwvQRlJFBwSSjB4aUWgV7ImvJVSHHslzSG0cuGmCPqiAqRx4MqMvizXocFQyggqAIhrDSRNtuKdzDzALCihilu81iEemOkI5KUYGAbNKW/fyUcjUGu8lRVTEFNRTMuMTAwVVVVVVVVVVVVVVVVVVVVVVVVVVVVVVVVVVVVVVVVVVVVVVVVVVVVVVVVVVVVVVVVVVVVVVVVVVVVVVVVVVVVVVVVVVVVowCAGGKCyoa/o4oZhjBmcmAuBiTMdMIUdDBqSSDxxJliTEYzQq2gtKKoDBIEGRCaeCAUDRuQUGYQ0YlChKPTDw3dpBYxVAB2d540EhNEnwcUHCgwA0VhBCZWYgwRAaW+hd0vDAkiVWQBmtIBGizKGShpdkwBxwkLjDwxncHMkddbbM/WDL2rzctkqtxthgotQOKWYzNrua2QilU41oDIAZPDrSHUQCqCoYDoZgTGo8PC//PkxLFhDDpu7s8yUDwuDKZt3mUNPT0VUTQey9Jb8vcUdCTRMc8WnWkoPAbaSiSIngA5NMtGj6utm1KriDnZTCZoiYLAQDXf1/oIaS1hRSYYzDEco5+md2ILYYS/81ba1BiWsfttGfurduUE89j8vTFVtT7KEHF0SqIUsNuHRxFwGIPPcfl/YfhlQNsisDW5fLsJRXg2Vu+0dicW+BmVOJDFWzPzcqjnL85KKSVyvKQUViKN420OUrjxlgk4/d5S9izLIFexS9hgKAchszoxl0nJZq4NZXC/6lLcjGd6HYyqTEFNRaqqqpACCATNFgAXFaa3FtSoAEYCYKRbEwAAKzI3HNMOABEaBOQ4gIBMwBAGgSBeDgIjAVAwMG4BwxRQgzSfLZMlxIz0QTAI2BxhCgCRYiamwoCDQjOAwvUcfVYcverXS10oDDATNpDZQRflxUhf5uBgMAmCBEYQGJ089mcgkKgIvsUDFWQwQGCQKIumJQ0YD5hjldFwAcDDAoEC4DMFAEIAxgMDl/DAY3NkEUeUSr2BxwvwWQAgDEAREQMMRLoTEBMRkAbEEsxgFpEoTU5TAAFMrtEyAEgcAU6YIX4sG5jtsPMXEjSzFA0teXOWEBoazgMDC6xg5YZl6BcP//PkxPhy7DpWIPc23E+DHQwZAjABcwgCRDL/GBhg8TnBAKfiJSCAu0ljLRQGiJhgqZa8mMFiEsvE0VkaHBa6xFayAMAwOXlZGoCsZbaKlWCniTcXi0R+qKmjUF6qSuWwNg11iTmptsWTBflX6i6G0bZOpW4cPDAGhSueRkwmr5tioCq2v/iuxVVBLDSgDzwc3V/W6iEFl652xvEDAxurXnsgBq7OYw15n60wgHTodSRw5BTkv4+ldOxuUNuI/vXZijxyt6C9LCo7JMIw/tSVQxDVIuqTaplpPVdl9PCvtbl1TEFNRTMuMTAwVVVVVVVVVVVVVVVVVVVVVVVVVVVVVVVVVVVVVVVVVVVVVVVVVVVVVVWaAEAE8CMGBIFADQjMEgSMBArSGfwAAOwEYAU0UCQwSAsEAMquXzUEHgJLlu8CgFMW6pP72KIsqr8HBcUAIACAsEi0BgMBmWowbsCIQewQNjOATNDkkxmlTD4gGgYYkChgESmhWSAh8UCFVdLgwGA0wmZpDgYAnA/Ob7KZjwEIVNCUtAAe3VZQ6AlrRNyMWIRYNW43UVCyzy5GVoBjEDo0sKAQM2NfCtiQy9051ppnnPvZhQAUADAFKk5UsGnIQiEAHE8aQhoJfJzI5FnZ//PkxM1oRDpu5O820HypzATcycAYVVZ60l40iXUa2DT030jQANXYEXmf1AVATg0JkqGXyaVJ4IbeWuDKEfgScmlDpeNBxShXKl6LjiM9aeYkONdbhBb3IoRJ2oYbu7YQBuJDlHD9PR/Wfd+4xH689epqluw1uGYw/Tgt1aWr+LNiTndR/pZDiUq152TxN2WEP005x2ZLvlr7VWUocW6KXNLg0ve8sCS6WuzEqSciLI0RqD/h1317uJk37X1nyq/KYfgx7dQGgUy+inbcrhqBKu5RDOMuudduO1N2pLKrFPnfTEFNRTMuMTAwVVVVVVVVVVVVVVVVVVVVVVVVVVVVVVVVVVVVVVVVVVVVVVVVVVVVVVVVVVVVVVVVVVVVVVVVVVVVVVVVVVVVVVVVVVVVVVVVVVVVVVVVVVVVVVVVVVVVVVVVVVVVVVVVVVVVVVVVVVVVVVVVVVVVVVVVVVVVVVVVVVVVVVVVVVVVVVVVVVVVVVVVVVVVVVVVVVVVVVVVVVVVVVVVVVVVVVVVVVVVVVVVVVVVVVVVVVVVVVVVVVVVVVVVVVVVVVVVVVVVVVVVVVVVVVVVVVVVVVVVVVVVVVWIM3IR6OJJSS3p+Wt0Vhdn5FFlUgSFqKUu8QFYjR1c//PkxB88nCLK/tPZimPIKLiCCpVEMpaUrc38CQ0YCQUQ6NMSTJ2JwkgIVBghAF0IAbLrdJnD/vSotMypiRwhAcWsyNwZx6YVLaELk1yVZ2CLsuiejYS5y+rSQ8XXAuApV6vp8OEyvRYQaeu/j/3VE//+89cDBkvT/vOmYhpP3fmllg4AZgb6VwfQphwI4EaH8Fjt15oqg2Ptz96Zna5OVjmaQ9W/v9G0esFNFLpbgD5jKxnqFX+Yh9t5MTll/JMdJp8UX0SsV6mre6UhNo3fJYc+wnRzkz1/rMdc6ZgyW2VqTEFNRTMuMTAwqqqqqqqqqqqqqqqqqqqqqqqqqqqqqqqqqqqqqqqqqqqqqqqqqqqqqqqqqqqqqqqqqqqqqqqqqqqqqqqqqqqqqqqqqqqqqqqqqqqqqqqqqqqqqogyYRS0oiS5KJGT/hYFWsYODK3w6gyX+Ljm6hD3gQQZ2YIERZa8CsLRmNZAE6mMmTxhk6sHKoc9MBAJGZi1nbtRhIEzsugzuA3zKgCo0adhGRf5txaJAjQ2tsMeeOg0OaN2GhxbKoNIoDmXaT3QNMsUEUMOKmCCqamGDsdbglQyiUAgCXca1TX7b7oZopg6arpqX2a2DMAoIDAA0zQYBWbaMzeM//PkxKReBDqe/t6xRgbL2mLEUrQVdWthZiCp1jsSL0AZSV0vlMBq2JiLELUFgroO92zTvu4cDuurYytQGQVI1Dj8LCF6EOIhU7U3BrX1nue1tfbXGyrmYtE7MQhixSwM78zytNSOR8kjjI4Nea1I69FKZp3FR3mfF0YLadEYJkKhpf5L1PZ1ld0MHNga4hIa5HnVkrrOdIJE4Sj7pDWoEhiGqCgrPsuiiWZJZmJS6/WcReq6wW5aEpl1aUSt63UbQKAVzKLLuw7S3IHYm5ixolRUFG4a71K5G/76yG7LvlsoTEFNRTMuMTAwqqqqqqqqqqqqqqqqqqqqqqqqqqqqqqqqqqqqqqqqqqqqqqqqqqqqqqqqqqqqqqq6AFAQ3wCUphMCvyXASJCAELEifYiVQCZqSQKTzsqrLlTmVtMEAwAAExcATL3sM2iAtrBydyi5bRtBoOGEGadOdhkEMhBRYNTv84rdE62onG0sfKpGCF400jwcBnkygVMTMTEVcy/pNHWDBRsmDZUzJhiz2lGGCxlT8Di4IBocfcUAx4NlKM7kGNn5mgqpQhs1FBMxYGAwsIrDmsEQGTjAA+L3qqj7Ugswc0h+kmcGDBS/PIs7q22eBRky4AMi6TLp+WxyUITx//PkxMdmvDpy1ubzLJWYczMIFepwXiawqwUCD9jgtGrU9gEE9dE1B9HpL0qHK/WFXTus9bEi2CY6AGSL6TWazROqk4naFRAMlB8ThLAoOf6IvU80VsU0MzsNwI+kBslrRmKy5kMRlzvPQtJgD7M5fR63oYMklAasEqjLY3Ah6QRpub/JNLtabTp7Igt49a60eWTtkRAd1BqCYHeJYjlu5LkGmwQumkKpHWgByYbCxAhDFDAyDB+GgReBmjLnLVIkOXDDZsob26rfrlRHgWDoHzkbvqTZ4RFzd2vnA1iDIUsLTEFNRTMuMTAwVVVVVVVVVVVVVVVVVVVVVVVVVVVVVVVVVVVVVVVVVVVVVVVVVVVVVVVVVVVVVVWZAED0TK6ly5iIlOJAkweC4wwsKEw7+GC+zkEgKLwAEBp6GEwEBBgcTU56qDlB8TDdRarJp8gBghNRmCUm0C+VAQyOd2/UOt0BRBMxnIx2Ak4Yah9dq2EzgAJDADJM+tQwSRQEdAcCwqA3dTvMAhEkOxuFZ6grK0eUbFhU5CQOZ8iBuhr3CLTbv+47O3LZSBs5mCplhZigMshmUwe8KSIBIGTJGdQAZVG78My6PL7VSMKIAYoPm3ycd1G6pBGyJsKBisHYW679//PkxMdmvDpqluaxaKpi9BlgXnP0VjsldFcrD2VKCs+Bzl2x5e8uf1QNVRAWtxlKtj3NjaeIDFxXGJBnEwQomdTtmuxBqaxHUlEmjecrsO7cYevWy4FM0p57SwrOYDSqp3sixZ4DaMCy5QWSHEAx1LWbx5I4v0ldGlAm/QlMvcJSb2q2w5HU4mUwxB0+9brMbblEzoNhlhhr69hEEo3DrUBsfhuhi7+RyQwcWfSFgJJNn7wzDCiFIMkVjdhIpxJGyt41zJpjzFj0zB3Zj8ES1SgcKARU8Yjb2vxMQ81EztW8TEFNRTMuMTAwqqqqqqqqqqqqqqqqqqqqqqqqqqqqqqqqqqqqqqqqqqqqqqqqqqqqqqqqqqqqqqqqqqqqqqqqqqqqqqqqqqqqqqqqqqqqqqqqqqqqqqqqqqqqqqqqqqqqqqqqqqqqqqqqqqqqqqqqqqqqqqqqqqqqqqqqqqqqqqqqqqqqqqqqqqqqqqqqqqqqqqqqqqqqqqqqqqqqhhJBYxuk46PDjbgzGvQEGDCBcd4zCkwbIA3lVlE5CwlNuJlhRwuqGBpvTZFhC9BWdBZg1fmvZi91UyoT6d95cx9XjJA5h9I41U2kFafxBzlgPxJAYZXpwZZ0obKhp+ISMdEE//PkxGNNxDqe1tYedpQ0R/D6XatHwhC8ZGjnNdTLOozhDUq28PNVtZc2JZLw7OxaLtATK3EjJ8/DdJ+zIyNEXJzu1hUwV6A9iUuiCcPEvdjOB/lXoWX5gbFYqz/b0e3oel7Q1AdBPDkHoMi14annYD/DrUilVyGKMv62hDLzBT8jBMq1KerU4qSBiZrV5/3ypHkB4nFQyQC7vkMgJRFunVmFkbH7OzvoClgwY8RUK/rTGyGQjiMnIKSTcL011OZKiRC0byTHwFWI8roxdDjT5oEoRpSCFH+pkIeO10xD1I9qTEFNRTMuMTAwqqqqqqqqqqqqqqqqqqqqqqqqqqqqqqqqqqqqqqqqqqqqqqqqqqqqqqqqqqqqqqqqqqqqqqqqqqqqqqqqqqqqqqqqqqqqqqqqqqqqqqqqqqqqqqqqqqqqqqqqqqqqqqqqqqqqqqqqqqqqqqqqqqqqqqqqqqqqqqqqqqqqqqqqqqqqqqqqqqqqqqqqqqqqqqqqqqqqqqrHA2bP0tu7HBPwwiNqQzg25WdBxlNqFwSKmHCrj4J0dQmqsVa+X1lbYJUIetnMQoQ1EjlULartuEC19PZC4sNjlZsR2wgSCq6GiXEQod8RsnOpmSwpJ6FqrC9IxHltF0XI//PkxGFNJCqa9n4eIeQyDkXCnZk+uBzxzLgM5c3Z2jXHrS5LiWJ83QP4gotQZAhhghGz3CoIADoNBmBbk+GqP16Ro5A7xfl4EuX0QgvgjjASkTcmh1mIXERgoClEULeMAW0Swnw/SZFzLGiB9KMn6EC5k6UImYdAGgTSGSEYQYOEPPNkblOOB4nz+MNdokhZzhHDRFLXA+EMgKSZjjsB0Sq5ldp80HFHv0PU7e5jcFLQMONGfxH7/TjVjhU1LNIxu2R0+Uhpue6XuyTVU7PXd499ucZ5d/4EaHBlvjGZnr26TEFNRTMuMTDAEGQAIEBhyI2UwYghLuHK8VhpzrAJrSh+mtPPBzSmcuMzxa0Vc9eixmlthf94mPRq42VrkFLdeKH3bmWkOzPxoykgFAaCJEmxNgCcqIimAhGRAHQStow0DfkAgZtjIdAggEiDISkS1gyJUUS7BRAwxQx5IWSJmF5mDl4xQIZmSYY8Fx41AM2WMEgAw8EiB4YagWAlgILkzEL9zGgwNgNmEMKEKqklLGiUjAEFWXHKAoLMGPgBSSZZUYkqZYQO1TtKzO+TDi3mEjYABmOGBciYwGaM2BkBhlJqFQGVGbdmnlmdCgeSDgYjVBeIb9mQLjYkAqVM6aA1//PkxPdylDpeIM6zjLCqaAMlVftrRgRGJqfnRPoBvEcl6tEDjTBbVMZzjsEARxoGkSYrJvmCqoQAYy5oWFzVbSBAv4nzD4CUOYk86SQUNxChwiGJdTZrFnDqwEYqQKMhpth45qrgoYihCoA8YDTQcsLOCAGNJaGguFhDYOEdJcA4VDlLMKw0MgYyYSxmjlAgEDARbKlhGLK9jjaDxRnFMgY2X5UAd1UwDCE0GCNeLuPEXSSIRBBoD3w6h4HEJzNPTriTVVJRhQlZylsfaY3ZfEijdx+lqOhDDk2J2JQPAcKqzq1JfH5a/a8pU/UPUFLLYerRCdkMsgODaN4IKay8T6LApdrCMIjCGDrMpiC5WWsTaK8qvWSKsBSwqKCjGvCMJMZPdVFHcBikWBeoRnOixD8wNPqjsdItWsu4lUWiSkQREtgyJ0czplohCF1l7RkQXiazmaPq7HQRKYBVgwrkw6cyisucb8aZeCZZuIHI17Mr3LBBNwwqU6+ky4UGvwc7AooHYxgyYEsQ2j0EzOlzNgzSGRGoMWtNMhFlxjgJrEw9wEJInCmTDG7FAkEZwYZFKY1ScNIaAcaE8eKQdaEduufMWaRMJHTJKwNfMU2DHAVBmWQg06KoQslKzYCMGIOC//PkxP92dDpcAM41ZEYg8xRgx6EZTGLHAk+uhGo5AwwYUEQAsDC5EzR809wzSEOZiyoy48Cik9TEARJcBThmZhhxJAeGRxjQJrB5oiwhpDzEIYrHM4XMWGMMNM8JM0GQBK6FAKsgWGDp8ALTDDBQaZQ4Dihkh4AJBV8FBogTmfjHbLl401DIABERMWMMEDUBMCVXUXMGi5flDcSKGLLgYciSpBuwAIgFOWpM0yGnAKGGOFMHJgLATIg4uFwSN6OiwSLapRGAgAVAKXtybyZT7ZU7S3HGdxPBhzT5csdPZIB23QX21V0nLkxBTUWqqqrBKdWW+r739uJZgGzROxY2+taEyyvY4zBVjeNKo3gf+IPpXbq4yE9v1co2IJkfFPO2WdbdTNMRTUQABgBfcBLKXozKAGAOFBTBMSUChR3mGpQd5hgCIstVGxU5x56CIfTQRKkoIFekwTExxEi0IQEAcMwBUCZhgQkIAoAeKig03oIAATWCzMGTyFhhyZQYY+WQJDBizJkDSKjRqAx2cjEZYYapKIhBxhogAhDswgMyOdxDASzTAAITMeHMOtL0CO8cUCIHQGDkIkSgoSjJkjIBDQkgEHMWhQDGnqlao1dw5I0whURBjFSjEFBEHMCjM6OQ//PkxPFxJDZhQM6zrAxgkYKDEotCECjTgJTIgQMdho14Bj5sBA4HBIdHI0oIxAIwiNXhli5iS5nwqZYodFmjWLMYoCEJLmEiaBo9WBBjKUMMoAFHOGIsj05IYDTEVhA4yA9CpBQerMBINAii8SZByy3RhACx4NqLkpBC0JVqWoQ4msES3jyTuMxLzioMBA4IzV4o1EECo5q4WmFwBIMGhJdocUSjCtDuQic0hwaRFQoIXFEIIVAcFZldhCKirnTGhp0IGehXisDXmDtUZaj+7cLbM8EPPSu5OSMP5IoLgly6TCELq0WlteAgAugyR+PG0jsFYxsCAIix9VUxcbEJcbMvDSYgcYKHsfFRsy8FLpgIDL/0REEOWYeQmXnocZK0qTCodfKdwCFjxcDAWKrBzYQLawZIcABCi6T6lgNVCh4yw0EATHpjAnxawcqyCQxtwprEUNCSAFPxwIkqHB3uFhAXKCwYKAS2q52dKoExNDMHAxJoAo6FpbstAX1CgsyhEwQlAKZcQBShslapDQGTYBxI2/INXG5SG5QBUCal8BTJkDpKENMlGAxr4xnVRiFBRDLaGdOChsQDzYEzIHTCBE9hk+AA4jLEgMtAc0MOmBCFM7CIEJlhYBYHNUNUICKU//PkxP50bDpdQN6zHMY86jWIgoBaA4mDE1FRZARCiyjrpwgB0MFWsnypSHCmQKyISKfJmZhFggEsMDzZfYtUhkmMkOag6YwBKZcOhmCACBzMFMA1FiF2UoC9Tll8QqgFVzEIMUI4aBaYGqBQJKMhFDES7povLBgJELwBggNGBpYQRCk1zQZEjQImBhgaOZBBFHBysosKw1kTMUNUxAEdixtMUvyBRGtJsKuReKA40iaAB0cVPo8q9ZO1lTV0kqm/h1YqxWAIZS52YJYdOQfDUAJFLGhUBTUs5XgWZVLG3lk1TEFNRTMuMTAwVVVVVVVVVVVVVVVVVVVVsJdgSgUKAsNA2lGCAYMTyRMXRYP6xxASKmAQEDQZEwVmFJSmyuzn1/YGd2dnMTNmW6SGBoaGIBUAAWzbbCjYoUTPMUyQNzEgfDIYZDDYRBAmoKQIxHBgwVBUwSD4yxSHSo6DiC6gFi4xkZKo4a83G1TB0BED2cLBJlJEZ87GmJhkkIc88HAzZsAWZYVGagZjI6ZC3moIBtQ2YWkGahAKOxIKEACYkNMRQDJdP2YRAOBAx6khZJTeagUQAigL1KVgY1MOvA6Auu/j1RXSTpiIiQLKQcavRYJS8wnUYi/4K0CsSohag1kT//PkxOdupDpWAO7zDBBTJcEJSTKvCBw3lBk0FNocXna8IQi9CwRfpOItOsCTDqkaEZIgGIC4zlLNRWUCX0LDpepULwYstd3xwIumvdtoLhlorA4QmMvVurJYcjz+wU20A2Xjf5pkQfuExyUS59HSbFFWFv7ASQ0HzMKeF5WLRuWWG2cKnfdoaCVGaQwiGS3SdrlTrYWwJ0LEfyihMDxhnawUQeu9DLQ+vNH4Zid6A4co5DPSaLTETeNwHek8VgJuMolMehUuzZS6MARp35iHnNiE3TULP3LatMUtPKIfyuV1TEFNRTMuMTAwVVVVVVVVVVVVVVVVVVVVVVVVVVVVVVVVVVVVoQMCIEXDDQLUACApMtaFB2YEhRnkOIYkwLMPC0wQWTM69MsDkxQEQYGkK1YzGRgMhnk1wyzUCLMHCowGQDWrDMzcY2VDzi3Q2VsMBSDyvw9QhPVHDZE80hDHkkzs5MdKjdAU3tACg+Dhk1lHOVlTQSYztiMLRzaGc1g7MFEjDCowk7KJEztMMqIzJhsyYJVsBRxMKHICgLJDQEKkOLQS4wFI4AYtKwtqXMQlNXZU77QETnbEQmAkx0xUVm6sQaq86VQZwuArIxxCet4vgOQRuLrLpaSyGXISmap6//PkxNtrjDpmjubw7KAGMj1BUiOKcqv0hlBkSAwboFAXbLOL0WKxJ1X8S7UZV2hpKi/RKtykTmxK6XUkcjYWmcJFF8JGQjVhWBhyEuDK3vbo/ucVYnDUsZlJn8iEZoJika9IM4vUk1HI3wZ6+q6mYMQYC0aNM+iTqKnZTIE9y3SgAqcuiWuQcagJHZYo6HEAjwVUOEJAISsSCpCoUCDT+Ikl3XneVeETTDxnHZbrIYpFa1aA4S3O3EWtQRafR1dRWnjzA4aznc4Nnm3S9X6tJur8s9SRtR2Gp+Nwy3F2aS8qTEFNRTMuMTAwqqqqqqqqqqqqqqqqqqqqqqqqqqqqqqqqqqqqqqqqqqqqqqqqqqqqqqqqqqqqqqqqqqqqqqqqqqqqqqqqqqqqqqqqqqqqqqqqqqqqqqqqqvUo4EQY2nHKpNDUEhyyUQgBfnbBrmRqkjJgaSdmrGEg4QGvuvwEl51JwZeABC+DQ9wDEEA5pXMkBWPAYwDBY06kPpFguGGAgrkPMYgRwFsUEAkAtVM9dDwWCkdNMoYGMeEAvZbzhhr0u7EmZmLKbaxoiCQTlOuCFjCPAyrqu9PoqJ3J9SqvHVdoBAEUgs4S1gQQgypBhzFl1AAodKT3AQqaigUoWEfa//PkxKdexDqSXt5fHoofkKOizWnPNjEEqFDpKXhaa2zW2vMtBAKKT8iAQMYBSTSWou8v91120blPkgMR/hhOaCZt9liB1mCbpCRvCWOEogYxZBKC3qUHmS0/wB2LsDABWC9TABuFyS88wLxlnhuC3yoYvtquLwPQX5VvDdELHqLM4ULaEKX2RoOxEmIJoEiOkbLsZwH8AtAcTHZEceoihGxM+XAP84QZKH7Z2J6gSTzRjlRQ7jElaVCdgG44248V5rIKTSyomVhfzncHiTYEQvKV+XxOjlUsJ1eQmT5ivDpCTEFNRTMuMTAwqqqqqqqqqqqqqqqqqqqqqqqqqqqqgQAg8AEqImKqAkA4HX2YBk+bVAU3aON4ugwWPs0XE8iD8vYyzEwRJUMSswKBcwpBMGgcBiwNb2WPxEuCCBGjjMZg+MBgwNA/cNgRQMVAsMGQHMPkkBAQzLWjSJRMkgYxoLjHA8EZ5ODDI2qRwoDzBQTVcigY3EhqgsA4WCEAF4h4GmFxCZHALN403QCEk6h+wsnQyU1QOOE4zik1KWP0gKCU3X87UcigEPZ2qJpTc4MNFgRBCRKAlQdshyrAkUOaUCLSrCLWa9A7osYFAhx13ZTHV3lQgzxXTVfD4UFcU5Wj//PkxOFtNDpWlu8zCDDgcwtlKiRnhWYZYZejUrKmAglSIXSz2HFlDQzDFWx2BGvpEy1lz9QG0VrEqdVfNO7yXT7KWsNUQzNQVcjAhUdsqsQ8Su9+2lP41aLMYWxKmWzSlObbpzrwYOnq+T8ImCAdCxBhVZ2mUNvLoYZyWdLKpOqhYUzNqatygKiQCAexI9bag0PozpVvyxGC2RJWsCgJTq7KkqmdQ/EIDlqVbX3onGzxkWGXS58WcVxknVE6aWTLJ1eMQcqsno9EKuvimAYZLQHFcF+2TsGgFz2bSp0WnPH2TEFNRTMuMTAwqqqqqqqqqqqqqqqqqqqqqqqqqqqqqqqqqqqqqqqqqqqqqqqqqqqqqqqqqqqqqqqqqqqqqqqqqqqqqqqqqqqqqqr1ONGpImm5REBy6xgUDpgGCwmaSLgeAF+Q+sCWAIwKRNe2gcKu00CXmHDJFbTwsAuujaKhBtUmEGZh4UXUMKATDUQ+EYDER+AABoKGGkxoEwLDJhAmnGPEpjJsajAA5IppZNtQMFk7jnSj80QAg2YAhutLXxehDI6R1YnMepwqAoEdVzHqwlqETuQ3DzcxACCEGoyjDUFKKwG2CNXXzLAi6G7uzhDYwAmOrpfTxgQMxgQU20px//PkxLViFDqKPubyXqAU6gcNFI0u1mpZoHBgYBvnWZ00VxVGY7J3MZa1lGxxO5QawFBxe92hqN2buvfjMbsZWEooeo4jGXWVUZ2wQss8TNXleNZC9G+Y2l+uZw45D7twQ4cog/GGWevpAj+2GTy5fTWqeEtaYeudcEXsyZ0XjbAo2ny4ySwIGSXkpZldS60wCshVy7murPZHHVqwExJyGkqXrVdxyrUkZq1qHofg2MiAdAM0dR92Ui0xlLn5bq7ztJSJiOw+j/K4ir9WpfVhSHJCN/oKaa2qtqWFA1qmm4bqTEFNRTMuMTAwqqqqqqqqqqqqqqqqqqqqqqqqqqqqqqqqqqqqqqqqqqqqqqqqqqqqqqqqqqqqqqqqqqqqqqqqqqqqqqqqqqqqqqqqqqqqqqqqqqqqqqqqqqqqqqqqqqqqqqqqqqqqqqqqqqqqqqqqqqqqqqqqqqqqqoNIRGDLdbJbcIgFDJCbUhsLHB2A6oJGxoeMEGzdCQBrqoGp0rYhEDGlCCQL1q8llKZCVQiq/t6GTFjNH+oEANkOEzRUQ1AIDhJIoVBAMZNKIxxFqfWRRCJUfQWpfjsuUqIs5O9sckkEhdJdMbgV9bJEHKqfl2RJy0Mvm78eQzbNK6OI3VhE//PkxIZWVCqq/t5fV85p0DNVZkFzhoiKPa0qXsqZ3TUcpnGkrBUEoyziCcWEZh2dcgCgyeQUFtpYMJQJxehgCKOMmpFYNmrCWyk5iYmCxIl+woYk2FmCDnOtxLHKOdwMcH+hKWsQE7R4IxDxJhy2V7QnydoYqUu1PyMIhRquKL1djlLC4HmISWUBP4aYB/JsuzMoiek/HcGWiTkKZLlgDJR5rsLY8RiGub5gOYuy0oHFsbDyZVlnbyrP8BRSDa8Pcwo5kFsFjHrFuXSdepk5ydKKZ6uni7Lkz5yr2pPtxMIqTEFNRTMuMTAwwIICwJgoBJgaBxgoB6+iwB4MjQxtM0dBJpcAFUBwAhRiufoFCYBAIOACFQSMHRpMFENMRgMHgIMOAbMA8Kwwog+DXsYFIiATC2EaAQvQcBeYMoH5iPoUGKqByYGwChgngamAMCAYK4FZgSlFmF4BOSAvGA0AiYAoGjUhULcIIVLfCAAUwEQAl6gX0B8uo19s7mDpoR8vN+Yg2Zlh+Hs1mXOf1bY8JHofjENsbMMSAlJRWWLsNgtHlqcNrshIEqSyUCUAWDUBN8RJhy4BL7IiGEkjIpoXPXciIYpoDdQEx6gjoFPAyKRKfrQy6Cc43woYhCzZ5goi//PkxPZybDZGCu+yzDvgcsZYaE4aLAIJvtvGX0QPwUGM9Z82GlxBCCHFmCuPHrxSHC4aTgkSJVAQBHkuulWYIo4ANXGGQRErmRtLcsIQQP+JLImuuvVXzFXD9srJ2VNVWfLGDTyXDK3AZc26wq1H0Lzp+F3WTkzYKFKFgMq+Zfcwgn7aUWZW+6QPDUHUHWc0pAUFS2VKrqWrAx5sa96ZyIKoiQNfDC1pRlyUMWHU8NRuqIylmLDp8Oqiql80xFlLyJJADpSR6ooMl8AIvKcQ3KZezyXIkOXKbcqlMNSutblFTEFNRTMuMTAwVVVVVVVVVVVVVVVVVVVVVVVVVVVVVVVVVVVVVVVVVVVVVVVVVVVVVVVVVVVVVVVVVVVVVVVVVVVVVVVVVVVVVVVVVVVVVVVVVVVVVVVVVVVVVVVVVVVVVVVVVVVVVVVVkkRTYUu/9l27B1LxaL2ABRAEinnijMF2ACQfNUnE3XGlBLIRNC38SshgvIDknmpU1k0QaychMMq/AT5x3k1Z2rLyWQwwBCmeaekJFSpB13gZmB2kyF2U6mY4BpnYo9TIUqi2KLFO7lSXISVq3oboELEQWWu42FaaJkTWEbyNI9hcxCkOyW8L2pNLEWiOJZ6sKY1jBjON//PkxJZaZDqu/tZwlk1hlsErfplbWXyoXjljiPfDkCw3SNSYjGYYoM5RTwiQ0Etbi4MELo27kvetkjV5a5zTWpkR3+XPAjTV5K1tOc1ynlg9cV5+InNPhI6CIyW+6LX5p3FblYWPMndN5GAP07EfbFplzjQC4Lf0rzxRezprVV+w5pTLXkfqHYw09+W0U7htI1DJYjiuy+yZil78MgfiowqBINdJ8ofiTZ6e7GbDk08rgbrzqbKqNZZWv+LLyUMZyChLnWEZk8EQcigg5i8OTUsi9PjCJVD1u238O0lipM1lTEFNRTMuMTAwVVVVVVVVVVVVVVVVVVVVVVVVVVVVVVVVVVVVVVVVVVVVVVVVVVVVVVVVVVVVVVVVVVVVVVWLKAN2jSSruqro0K3GMIQVlE2rFDR5PHkyFHg2KVBV6Z2TKrmOL5kokYyQFn2BlBQamSAxRNuczUjoBC58pIaI4m+zh2q8bqjGqOJmxUbG9G1qxkbcZo2lCeYMJiIF8eIokYWGVA6hsTtOtOmaANa4iQwJIioWxawgGLpQSns6+cRL0popiyQusHTQIA5QqwuMCopPiBZsPIEQyzUckcOoYuaqqzlKlP+VuzSJHIT7ggealskEkLWbC3BcygaNSVNS//PkxMFlHDpSHubwWKOKqZFZFItkhW4i7mNF/oDbZQ1mqQycbcHklLXRGeAV4qcJ1iOaiLYEHlZC5LzvkmFBq1n2jbIH1AA0vlNoHpw6KyqNeUfdRe9VrSHCCE5m/aBqJPOyFQVatZw7DIbrLnLTNJhOE/Os5QtZeTX21pHQfZ3oPX69bYJWv1B5ro9Fd0GK2lwUsGYq5p36jUajFNSJjP/NS9orYbO45K26uLacIQmEDxJLdzGRhrfl2gEIVDHkj0zVbnaaIrIWuYw4cYilGwtnLuLIbC+cKj+UzLYchqQqTEFNRTMuMTAwqqqqqqqqqqqqqqqqqqqqqqqqqqqqqqqqqqqqqqqqqqqqqqqqqqqqqqqqqqqqqqqqqqqqqqqqqqqqqqqqqqqqqqqqqqqqqqqqqqqqqqqqqqqqqqqqqqqqqqqqqqqqgjjAJl2tkkq0RAHNSIhwKhgEiPE5MmSJiwjKGrJFkS2QcOMkVVgCHRijsrbElc44wAUu6DiUSZy2Iw4hE9Tpg4QVCcEGgl+a0ZVhZQpIwVZo12DmwINpAGcTW0CAcKckteBVUEgkqV+wAsK5sMtNdpMaSuCIBq1tqtJpb6JfAES1n6jODWoLhxP1fCDzBpS+sNLmd9TWIwKj//PkxJlbDDpyXtYfHtLde6HFhjCZQthtAuZrLuv7MShcznrpophrzlN1fhtlKkzkbW+U1ROhuTAEgIKFRMbauulCcWiCRF6inoOJCTmUTEK8EaQo5jiNk8DiUqdOVJKInwQ0iDDHwNssJvNKVFtQ2Sk53GUcxLnML0fqlSjuVsSBSi5OLEh6aVRfkOYVS/IKLaappJdDUKQ1WkpZEyeLWbqZH7ON1GGkridK45TpktBYUwHUGcAak8F3FSJsYywF8BmQwTKM7ergIcYy00qEbpJVYLkLkqjNJdOhtn0sWDNVTEFNRTMuMTAwVVVVVVVVVVVVVVVVVVVVVVVVVVVVVVVVVVVVVVVVVVVVVVVVVVVVVVVVVVVVVVVVVVVVVVVVVVVVVVVVVVVVVVVVVVVVVVVVVVVVVVVVVVVVVVVVVVVVVVVVVVVVVVVVVVVVVVVVVVVVVVVVVVVVVVVVVVVVVVVVVVVVVVVVaUaQTu/2luwQEgcJavw0sDIrwQ2mDQZMQMQBL3TVSOWM+aiqqLTUQTITdQvcXSdt7WBJ6l8WtLZVhfoQAmEK67WXQlYGIVchsAXgecBBUoF5C1SqjDFlsiiTcocbqiqFhUBL5O4whtSEBj6mydxMhnDeFNISAyq8//PkxHhS5DpSXsvZjg1AfI+T9Icn0LSzOLIFceYjLWO89k/dxPI1mM4SWvFwxNQJoYzccoEFnQ1KMi4STOlG575LQlKSlNM5ck+MVPHqcAaowU1FUssOIxMQSI8bxJUk5G6UiuOxwQx1HJ15boikJOYAzAqOp6OQCiihLB6CpVVSzpPNcHoSxFDowJ5cCoprD0iGQeA8CoqKw5DIJxpZJxaLYAobCoGwAoTFYoHhiRFokPGp0EMrj0fB+DUazwvgomPY0AmOg+iMh9fUASB0OwahUJrCMdUIT3uEqCScXXGlTEFNRTMuMTAwVVVVVVVVVVVVAoTjacSNhbA9WQzKAdMAKEiLpoAgmBwqNNcwqFTCpAMAAMoLCKhgwTl3DAIqAAsDDIRC8w4GDCxRNJnEiXpmkmGdHsauC5th4GlzeZwSBjgbDQEMRA4woGh7IXJJj5hwprUpoSqG5QCMlCNUWM2HBRM2Tg1RAwwQwhs6vk8sUzo9yzDlzTBAqVNKbKCwMEJav8aJccIwZkyZsmWWl6gYhCByAxgIEDRYQzdpRhArIGlDJsVToepfM8QktdCgDgoOAPDW0EfLQBZoZsZEBCImEpS1r9Cwy5hmEjyWDl/jIIiKrYFggY5ENjwAUCqI//PkxO1wNDntXuaxEN5dwDXTGg5erroFocAcRggFGlQhgHPgdPQMBBSDRbeFyJphelXSh4Y5ShDkGMVVTnNJWpcU0Qrg1YUOAnQgnWcnAkWqFhiWghGOOWuFzACKG6marEkpO/QYdXTW5UpcDkRwHLQqDmF6lCxAIeAKCQ0MCglo6IZOyAUQ9zQaVYbGvi78JbR0HklVI7MoVTl7suyqxV0oLdsMh5urqKcyt/4HZW88addoqaDkRt31fy13YGbZm68nAeyCl+KAsjlsipnEdGLMsZBAUndKG7OTgShkcTgtTEFNRTMuMTAwVVVVVVVVVVVVVVVVVVVVVVVVVVVVVVVVVVVVVVVVVVVVVVVVVVVVVVVVVVVVVVVVVVVVVVVVVVVVVVVVVVVVVVVVVVVVVVVVVVVVVVVVVVVVVVVVVVVVVVVVVVVVVSXI0qckkkkYO5LAWdyIuuDnhCWgiQfLoiMUCnBniBwGMFQSqEWvTOaW0WMw8iuBRQcGfKSCEdFAx4wICkGtJDMoVVEA6q4KHaS6RaMxxgIUPRF9UwjQLN28Dj1E7Vu01dh7HS89xEVM40ki8ac5sgv/RqVlA0CKAP+oAwx/UPkxF8qrp5gwIyiBYxkaZzUGXpfqNKdpJISV//PkxJha7DpCPs5ZXlzZUXCJ20oWv5MR+Im2NJRSx7GAKBByCjSDCGhZcsCA5BBRLRsEEAggzgluhYZRUKsn4YRFpcjQTDBgAt26L9J1rQcJOhBO7lIrJEFCwqKhXPskZ2oOsPeZ2rt4m0VTX8vtskNuzJ094Yd+Gk9VlOK+qw7zv7D8MQ7F6W+/DJJI6bhxqU0UFPxLMYk6a72XlAaTYcBsSAoryRBbHhOclY6PiaeKmG0pwUISoasUWJykg0QypLq2M9H8hwIDRwmpaI6WlozPlp0ZicvHcsHmjmkHD1jaTEFNRTMuMTAwqqqqqqqqqqqqqqqqqqqqqqqqqqqqqqqqqqqqqqqqqqqqqqqqqqqqqqqqqqqqqqqqqqqqqqqqqqqqqqqqqqqqqqqqqqqqqqqqqqqqqqqqqqqqqqqqqqqqqqqqqqpKOqNk5JJJGNlxU8UmlulUgiKIxhooMTHR6NBDXI8To0yW2JQKqoEET5SkW86lafZ2uTVX0XtIkh1IIfeewYnCmZs6qmATaOWgej+tgQtSLXOm6XzSLeytJIy/TR061biaCIbjoIy/TT55gLQmChYDMhULRCAhckiROvmycGEAAULjkjgWJQaGhS/4DgDrzAFB4ZgbGQcnCh0O//PkxJpbVDpSPsZfroedJH1pam5ZYwCmCA4R2EbzRONg4mQRSEC4FDEKAIVAgRmPGU6l2ZhiTgwOtwDSGCWDkC+YWGfDKOABhEVAOSESZkYgEVQL6No3iAVkq0H5fwlBZwtkHBp4MmaU34jDSbfFrbT33bmtuoIeLeXMSI6TjQh+haPRi5hMuC1VKfNIMCMQtvOQ9haDwfk5cy9KRtH0yKeO1RZ1Wtns4Is63JjeOjnclAvubMyUzGVivZ3JWNqbZEm7oyUY3UG8BUfVZYVGS6kUjDDUa5b2txZEbDhamq/qTEFNRTMuMTAwqqqqqqqqqqqqqqqqqqqqqqqqqqqqqqqqqqqqqqqqqqqqqm3GklrktyGgWBnDm3LjBQ4LsgSJFUsDuuFzhKwvYbS5gLhZBh6hYMHLVpGFSMIBeYhaBEAsCYOgZIZWpakWABQj+qdOAxgtIWwL8w8nCOCNBTiGQHVLlIrg4WBu5ioICTlxA4MoGBGBbEzGA5xZCwqVSVBU3A5ZnBNEMEFWZK0YABogDwFADCYMME5Uxb4wIzZWWxGUQxAISGGaOHZgasKnDBqVxh2kJYJWA1ohCj7RW9gxdjiQtBA1l0WWwCqm1pjiq64eMggdgK9wqCrOGBw24S6F//PkxNRqBDpGNs6zQtqNUEPu7bF0z2pOdKFhkpE0EBhJAHSI4mu6UKKtCAgIyGHDThaRUxsBMGBwBAiFQmLCIxBKtxBAmeOEGe2BhRoIHCMDe9+oNh1jEBsNemCJmAJQ+i+1F0BwWCLcsiEALrLQQ+QtTEZQjvTMHU2HQUnmgylGpIwuCCQVnzI0cjKs8gLMcEhFUKlCxR0AvWrCNDwOvRuyq6pEv0rWBvsm8glQrJj3RWMmW2dVN/mhwLA6LiZiJidDLHEjC/nzZK2OVsuSpcSJpEP8xVEdPheirmoMsgCkTEFNRTMuMTAwqqqqqqqqqqqqqqqqqqqqqqqqqqqqqqqqqqqqqqqqqqqqqqqqqqqqqqqqqqqqqqqqqqqqqqqqqqqqqo5ZI6rYpuG0wFThVk5AzFIMvQ5yznaM0o06gqCFlxw0xpAsAI3D61RtXscZpbMIjFhgcSjKX6ew8Egd6Y4ihBaEwhHXcNO0OJZSaKJqAPqMhsoIijJBNEksqXdQgihESNmm+SWA1ymKkBAGKCR6biYSmSOzEREyxJgBhhj8pdsyxUGB0NYyig00oUbQCIQMCNACIvtnTsfZOjAIBjhx0LtxVGhucUERFwruUpUxL9oVofJjLSfRMdTBQwsn//PkxLxjzDpSNs5wvgC/qoqRpogFAstZQ/E8wJi8CQhyHSWklw0hgDWk4FPNfeSDnlIBO+ITmAC7WFBYjoyVYytENs3Wg0BMRB9ncvfVkstRdeWdXQmezljYs5ChAA3OFw8nrB9AziCnrTQl7pKVBm2cKqIyuS/jwpAYPcs2LxJLxsQiEtVwnaeBWxUiARZ0ipFh4IYQNAh6HGDNdgdm+uxa/amI/ZiMNP7NJaAblMSCLSrhL8NZaQj4CoF/1llzC4q60k1zpsFtGvI4LEhty3fGRLlglnrIHclMOy+2/07VTEFNRTMuMTAwVVVVVVVVVVVVVVVVVVVVVVVVVVVVVVVVVVVVVVVVVVVVVVVVVVVVVVVVVVVVVVVVVVVVVVVVVVVVVVVVVVVkV4QCIsqS3RZJ7IEMJgHbjKTUnUMmEmTFlEULJzTECe0YASCDhiwQyHJAjTFmCgYmCmBBhYaY0wHHQBcHRoRDRzAg1B1dMCtdBzi1aGxfEWo2zfMMQcGBuW46CYVOW+TBn1slrwDFYMUmiWFDijTOxAWB3nZwFANNcFSlSSFbroUlooea8qk7oJEKGIAJKJjKlL4oLIDCb5gGnMakCrgYI0pEIWbsTSrbZ3lZ2RKaqncZL9mjpFy4//PkxLhi9DpG9sawOPlxoSpep2XMIW10IUgS3YYh3FoJDR2lDCKUoIGTonNEaOwhYrwKcNdUyL+ocX8Q4peFoyy7InGdRS2AX5R/fpxt2nWYpfgxT7XGirrZWvlAyGHfcZp0EqTeaGWtQlqqgIcFmqqK3JlyW2UsUtWHa00mIs/Zy/j9SG0tZcrOaVeTg7eVcSwS2EgE0XQaY99KmJK26MZfChZw91mHItMOjSsrT7Fjr1LzpbozLuVdZfZOVkKfMaddTRy2rNZXiwd0njkTvu37ZHNf1w3vctc76tDjimlVTEFNRTMuMTAwVVVVVVVVVVVVVVVVVVVVVVVVVVVVVVVVVVVVVVVVVVVVVVWqOJCIg2j4ZY8Z76CQACCGlNnEdmIRGpEBkhqKmPEaoZvLmskZApiIGAqCqlLDQSOhcLvAhg+4jFtOoI96AWSZX5xCkFhfRVNLpSkOYJmDBNBX4AFL0MbLZmxEBoVBErQIZKMGLOFAOgRUEDjBI3dCwDnNEkyHIuhfQPaZMGRoFcXMa7Tp9KDCOBpchkngMHWmhUPCFQsNM5VrBYqgSf5jMhaFBJ7lEURi0Y0IvCDkNgLmvWFTLIJBSA2jEmM9ES0AxElAQiYgRIixNgjuFzFGy5DS//PkxNNpvDo2RNZwXIhCQKWERLeJHIGySvn0OxAMucQmEa02R0ACuRNLyFzUeA6sNqWrkXKVmQ+QPb9WFWGutZgSG6a6oVrL0Q7JdpbBU8XI2uir6wvyjYs1tgTTYdZS8TXUjh5RUC2JUCkmcrvTwa6ypkS8lls7h1aaVcMEJWjpoKANwiCUqt67UrBEJihIZE4RJepwFrq5Thbk6NA3KI4rFf2KK/e9nDkoAi24WM74BOk8NDL2umrtKhIiG1D1/sWSIQ0QGKteR+m7JINxZEyFs7BmlsVgRt0UWkNPS9ZkTEFNRTMuMTAwqqqqqqqqqqqqqqqqqqqqqqqqqqqqqqqqqqqqqqqqqqqq+n9ajfwU8ez5ydG9qNfnG2deZgPiz7ET3BwaLMeRMccOQSC4IArmgWdaZmGm4OGJG1GYQoVECuhs7nSKclIPRNNdD0BJggovemI6BjpCZyzwpWI3UHi5r1GAEFZRZUawT7IlWIAhY1wVplvDJJQ/MkkHSscLhmSQZihMUDTVbDICbizxqqY0Mx1AMJQy9sIiGUrL6F8isMxgEqHGLSCxKAQuQCQk+2NlARMMoCKFg4B5B4NL0u25aJxgBJnK7eJtigV2Aac68TUkXWWagGSfZeutG1FP//PkxNVqJDpCTs6yRNXLxpHqxNLWGQRNfWUv9WEsm6SvoSs8xQ0blM1BUr1C4FdMICRCd1lSQDqLQRjhpszC1dszUXYIomw57mmgo2HlsihLZmsM6vR1rMFQc78ihtrK/pCX2UvceHYqieyZJ1/kdWRPkMhppK+W4RNhwiKbsgogsBk0BEQu8tao+mkCQiINTBZ616NBEwxhkUbyG2lwixBLiR2AWtr+ADKfzoEAJp1JMK1CEUuACCTNeLwDoI8Goqj0FjwwEvtFlIw03SWQiGmpNlbmy+UF11OkNGhkxTK6TEFNRTMuMTAwqqqqqqqqqqqqqqqqqqqqqqqqqqqqqqqqqqqqqqqqqqqqqqqqqqqqqqqqqqqqqqqqqqqqqqqqqqqqvntgsk0py4qgA48Btpyhpizw5ASANIMC5I45c2Qc5psXJGBRw8MGNcVaYiFAhZkHkiyVqnEMA68ZCPbUBLAcsYDWKXAEYFGElBEZPJTePKnLNgAiwgKKnaGRFkgIMVS7c4FqCFHESAQRICxUVi5RZpCWtFHNK1r6AZHwv0w9W8vAhenXfR+RpROTxcNrTEJ5BtAEmCiS9SAIRJAIEASZTlqYoPAkLJWCMMhUNS9hyOblKTib8LDLpcNnDZ1C//PkxL1kJDpKVtZwcIWFI5KraoevRDJJfoKShKWOLCUxc8uIXyDhptM6YqyWAk61xpaoJFHmXMPkocIvMtNYVY4JA7UYEhQfE17M/krhSeBX9Vsh924plDbWV+p+uIuJmkfWZJ2lKXIhsORLcBWpyWKqeoIKEJm5twcV8BEFXyq51Qg+xtNIFHSBihbRwxhKeq506dKYOKmSxJJ4DBcxuiwDW4agZ220YE6bsQW1EdWzaIrfYg1p2GlJWtAk7jzwOEsds6qMUSEru83JTz6xeA2ip9P+15R9frVYosuWuVKaTEFNRTMuMTAwqqqqqqqqqqqqqqqqqqqqqqqqWOCVZhUiY84Zc8YhUYRSZwCMzAUfNCAS2FWQwYMmrNI4OSZMWWMGFAQBDUMLglKbROLFTTLzSuDJdzIEQa+MuFNEDN+cARERgl2MDMkIaRMtwLjG6wRXAAdVdYpgrAi0aHYAtcGHHEAGDDxhFeLGGCobOh5HBckOEDFAqoZSJl0GGIcYoUIAWRkGGAuMBIlDEoGRW2ViJLMHVuTuNwFurcTRBMYkcCLhirQqwBIRKNQUQFgoUwGWloIwAOvYIKZCNAiNoUGAoRgkLWMYVOIqFF7yvUlINWYRkCI0CCFuCQo0hTER//PkxORt9DodhNZxHCMAxyAukb5xhBtqla4ZCEMDA45bgUBBpC6ASoDgk+pSg2DioZJ1BYrLWtFskIh5QiGblgoqmCl0XQlOdAThKBFsmrJuoQrFYaYAvw87WFOkwWgqLKrJjLmSSGVGQIqCWq6Q4tIssPBRlV4PUtLcgoKrF2MudV0wwMpYquJsLitpcfh6k0gd4wiBoWmP7IFitURShSwo4OE1lTTbjXFbhoxf15Mi6Kqqgq0X7flRtZrkMSpXeZUp2paoC2aRw221DUkrNaVnjdkHn5ssPZa+C1lLH/cWTEFNRTMuMTAwqqqqqqqqqqqqqqqqqqqqqqqqqqqqqqqqqqqqqqqqqo6VGI2vUkvFCplvwosM8BMfAQOBowwK8zBMt89gdHM+8MUxSfMIRMsBM+YBoIxZ0vYY0QVFwOnCpWLmCJmWmNmmgGENjoDOUKkAQdCZSoIJjZsAhco24CUdOcBDI1StK+YQGlxhCSgqAUAMgHDhBg0oYYys5mqAa8wAx4oxykIyoEISQAuhen8YoKKZIGFzAc2BAww0BLA0oChI4ltRGUGKoYLtNQdfjEwCAgGR+eoYBWiZjIXWJTi7CVyDrFVQDy6GoWASnZsARmvGbIERsTRkGgluGIWb//PkxNdqnDomV1rIAIS8KTrKJNJ04VQlzQ4V80GgUEweHkLXrhRfYywEb0EKqy52mo9JlJ5g4UvsYIwYO3RdTJEiU2IedFkjLo+mKmY0VYEtbNS9vo01624uEQpXkdR2WCpEsSWMvZeafJeYxyEFi0TIUFWSyaXMVX1DLpq1LZTqaa7SmJEEhOGA0viQcSNQkrMk5hHhiqyGwtMgaCnGdaFQ4zNiU89zTpY+thQ5m60G4ySPs2Qkus/axUpBYpsyCqmSgy8VHVcs1VcxIYFU6xfOGWgKUoYRhfyQLsssZRO1TEFNRTMuMTAwVVVVVVVVVVVVVVVVVVVVVVVVVVVVVVVVVVVVVVVVVVVVVVVVVVVVVVVVVVVVVVVVVVVVVVVVVVVVVVVVVVVVVVVVVVVVVVVVVVVVVVVVVVVVVVVoRyvV6Se7/ff71xNuMzMQLlGRh7Kjnn4oVEJ6GVxowcjhwybcKgUbZdLDGSMycHQaMCcAitvFyx84AAz7cz4FCVBjurpeFrszBwOJyZSlOgIaChsIWmCJmgIuWoU/b0qqGNRiRo2ZV1DEBjJOjJpgA7SLMc3ONxMqAR4IjyAVkiaoLHmcZAYolEYIcTBBUYWeNDWOFPM8ZTSMKMrwRNJvCwJG//PkxKNdlDoiX5vQAOXkbIMy+8YYAXZAwtHwwKgZPrDInGPGKBmEFmEIiMY0JPFpi2W9VUbHZbgYkmUCg4aLF0HE+U02Dl7E1l3rDLmC4JBKhJRNiyEpIaPyqXzdJGO/2dryXk7H5Y/LvtWYG4bB2X2VJ0spsS61WhqL5V6F9oGqVZ3VB+FHT7u/u7EaG1YzmIxFYfnpdI8JXLqj+QiRUU5LqXKNUtuzbvQJLotaqbhnX0EnkMsl+N6dryGzlchqZxu6f6NVaGzF+UssgTklhmL25qbru3nR28oxD2V3tikVASEAEAEWkiCHrLBwNmwCAuwvZcJIDIibA3MaYOgIOT7QsQrVAYADNcMAEUABEJJijAqGFaP8ILJgoBMDH0exCGGPFiYAKDDGSl2VvGEDhQAueMjpqpiFAk2eVM1UDBwkGiAdjGoEhsaOChgFBaRBhgUraimYEGIREh2TPppR0MBR6jWbmFmrAAKKCoNmvmhiICtCIpVmGjocPpeGqs5x4SENpqQ2aCagbLNOMDOS4zn8GKExyTPDkjbogyFwMKDkDFQ0DttzS/VjiBhyENTJmgcZIMGRBxWejQiAAIzsvO0jjBw43wDNjCTcVsz/6MUHjSgs2lujNgIDIjWsM0h6//PkxP92JDow45rYAANnb3lpwKHmNkpqQghIIB1HAkEVMAaBls0uh5eNJCweVGBoxmhGCosGpI0rmfHxoyYYCVmooBoIsn3ggEQUljjNo77TVN2XvdCbnuGpyDQUMGBIaL8DgIQjL8hBoEBgCCi9iCjwJ8NWMUOQUmiI0BAkW1BgHDpKhjBKMj6lZWLGTAINAHzMwFX7cv+SCxukllJUpLF+/XlEYvXZ/ityiLX3sfGP7ba4zh4HEvQ9AcZXWoPGXYjEyFhNBOQiZb4FAwAAGBFAIiYggMVC3TYss5SuWv47yw7I2R3lb12xgB0tVMF1q3vMnUqUxyAJ1aE4l6HU7FC0IhKXuAz2IwE2OXNvBUkcSlaU01TNSl1oqjw77IFMhQCjMyB7azGVbobJk6SCci0xQCZIQLMwKqHQ4swIGxvmBmQRoQKHItMrwChUJqhqPyjyLYYCJQiTwyPEYRrpMpNSBMeZATMhMmkUFgUChgwoJjIEGG9JGcEiUI1ZM2ioipGO8C5EKrxCUM3rAycxJEMTGJImFOixpBCZuuBkYgDBdaRTwCZM2ZSZMKBQOAgwHDSYKYgoaMuX8NEoMMOMUcNIeGkIYbJlRg0rBQg2aEMZYCPCBkSY4qETh0+VR6HR//PkxPl17DpaJdjQAIiGCzHpTUhTDjVLkvwMnAAgSQGJHmaMFQGPFjGjzADXSHgRESV8AlpjkAKHocRCJMWSMwddMQDIotocCmRAggAZoomaYwBMAkTOohP8oECQgCmBxRlgAEFYQREiIKy9YBWpniWjKGGBwhNdQ0YEmJSgUQCQ4NCmJOmSPNJVIYYUZIAhorwkAkSthiKCRyPBdRkq1FUV8ZPquNQ2NJjyBCssmNCzJkQSFQ+EIUEhQELLfrrTkAQBiaQ6DbQ2KLaVck+3wKLo6DwxeYFGoVAAI/DI1lAoIX8lay5sHA2brCKEFrrs35c7FLD9eHLTsOXD9JAry3ab6aO0sPOVTP8yOTuXK5VAbMmjOExJIdrrPc3aYdNR0tIBQIFHACGDEQMOAjDQoLkKFpiImHHSVAYIAQ4BImYWSF8h4MchWpS1XDc0B5ggW1gHEAMELZdN4m4LCDI8YmPQyATBiAGAjHQAiNDCQsQoxhBGFZoFERjTcZ0smGiIjGwcpGRCpkZoZ1KJmCIOESiJ+QhCVUZMoQBgahMe0CwsEoAsHM2VBAMwF5GM4wpfJhwJAiBjIEAjIoyhycIUVBYY9IYBvhBiTyaxsAoUlHUphyEGiwYMMYdKHAkRIh5E//PkxPRzfDpdQN6zyNjEDQyCBhiwYAZIWhVII0oADGRBjCRKc5CwmGhhgxqQdMBU2JNgaLMeET+Mu5HnZyh4OSUANQMxgSgE5XCYQyBBE0IpjfoI5zGVFET0UIlxbEDCIT0rAg0T/DgwGiMIBYwKvGEAXEB0wCJA0RsigIIayAAgkam+A5wQabqKfrcgaQFUC/IOUHjwcWv1ZKcrbqnQXUpR+fkAjjoJKOSgKWrkJASEIxBEaFFwUUW/StQDiw7FwCC1ZMB9ntf54FSQ6l+0JpyymWMtYg/zC5E9Lyvw2CA6dpcDKAPlhilLDkfhmVRCAX5sRNpdn2owxCXDlFmXw3GmkRiC2hSBrjA11Ti+YgKBedNdg7qQ+vhdiCZNwOMqYFTNQAD55jQRHw6BRzLfpKDEjPjAdTjCgghBFQhw2DAAMAEgRYGMdDxYKQBg4aCDBFBjQME0kCwAMvEKILEhiY+YsUGWCgGVC8xi4iY2Vjy6AgYwkfMi0jF0Q2BEMEIgANmDi5kqKHQQuPJmYBhnkPAhWxUxUoSPmNbggSFE5xD5gx5vIREZIp5kNBzUYJCCAoZBoY42DASE0DBguJMEWM4YBE42EMza8ZFgpeclibawcZ0BAIEXGwOGZBmEAGmO//PkxPl2xDpcoMb1aJmSZln5lwJmxgsTGTbomrLKpiFuWiNwJBoMIhHGYGiPhiQAsQxmcQ4zsgGmtLimYyok4IYWDqpp7mLGILmIkiSkxJU3RAwRQIYAB+YwEZIqGfTPuTCkzCpCIuOpjMgDKByQkY0MJES9wgAirhqAjFjxpaJpxg0ULSCIsacWBQ4UWBkgqIFBwE0asVVIkaBg4eEiytPtWcEhV5Ihp/IhiQ5MCOA4AEJGuJal1yhWtIqoXoUZAQdTSkFRTDy4jB1WIBH0fiPMsL3ytXia4iE8WCR8bpKb8Hsosw0/rZ4CUjQqjf9MQZAHQZazBSyHmFq7BJIjKPuVDJLFs8ANYfRSt1mTuPSJ7sMlcSZw3zV2sRBpynb5pGvAxJeMgaygmYwwhBKNDhDYhNMCs650NTEWNs8x6zDEM54WoBCoMqICg9wLSj0qE0s0vZcSN7DBoIlJaS6TcwMysZlBf9a5awHfES5ilJEBaswQCVYz0wdgCkRHwI2AQuHHG4Gf15jYCuptEGjWDAkArzHoCwQMCZMy1NW8DzBQxHg8GmvCHNlETYy54tmha3AHAhLMZccaNAIyI8VHlyAdAorUmMBBiIooDLERFiVCYFOAxqOAo0AqcEnnBHBh//PkxO9wrDplQM6zyJsOJKQUVChMv2ChiCUKk0HzBgwICBoEHNB54iOhkadKZAaYgY65uxIl1MoqOKQCwFaIPJayW1CxQGOBJaPxiEmmkCGVlAQEwyTSVBxwAREklLDSXB0CmRfwzQxIQHUiE9ZKeSdBdRC4kUgoitVOgPMA13xWgyQQdqBYVVofZwClgcEFwIaBT4iFeMIFQsR6aKvYSHFhRAIyFVYRhA6ZyFdhQMUDLnjjYswkTG2us+QnU6TTcXaVCnMpS/7Zpe9bPGxM6h942mOzCG8SubXKTu08La0aTEFNRTMuMTAwUfZQtQFXjFwABo0BJgCIxhCZRwVphqoFQ6BJgEAc1LiEEzBAEjAYGzTBQjL4HlAyICDAcFA4EnBXgNB0clkfJcAgrXAAHBQGUsqVMTBzNkzHnmIrtgSHw4IgIMYqSJNkVMOwAjYgSmkOGrMEDc1J0xig5YMKjw4iAnKRyepiB5d5E5TNuz8rxR9RNcxsgVAFpmUIwg0UPEjDBWNBccZUAk+PCVHUWINXgk8YpOaR+aiSb4iF3ZABDhgjFoUiAuJKQqJGCQ8lJUplBAYuMSaYIXHMknM8FOEBHqgOFJKgBUaaUmZRpc1hC2Wyg4IUbNlAgNChAQOp//PkxPZyhDpUoO6y/ANUQySTcjEqC7LLQYWLIgIIAmCM9dqxgIKoKh0Jj5azG0JFglQAHga1OYwkzWLL0DxRlNkwiOyeSGKA0LhBAQIPNg8mRITTUTMAVCwzSBY4ULLsM0GAQYCCEwFq3cQBgQERgCoykUAwCCBwxeVaJbELHooNFJADXgOtYwQGPMMg9AS85gBtReaUsjmGhLRhttX9iKQzotxStU6olhguMnYwRStvFMUqUcoi01zZEylcruXFMXJVzAjvNbi0wmsX9XS4LeP/QrVtwZfir6PfBUvgWGodTEFNRTMuMTAwqqqciNivncHQAMCQdNaZVPrKTNPBZAwAgIBQMAQsAJgWEBQVJvC/4aU5nkGZieERhwASPwcCAQC5iAhhtM+Bq6wBjCE5g0Eg4AoJANhpgCFZjqXJnacZmAQICKYwZBMqAYXdWDMazZNEzbMXycNcw4NIDXAyQABgYNcOgTDBTBqwSmNICBJsSSgIaW8QTmJHiEK/YXCstWulzTMaUXQXXY7imTotcpXmYUrhI9BKxBoSVyqINAobopoTkrxIiWBBm1hqxwyJZGy5uxMdEQN5zOsgVSNynNedMrEOUuMU+MYpMiaNaqMSKAyVWECkkKwcglkWrJTE//PkxPRxzDpIAO6zUF4WPSGMIBCWCWxI5/Un0a0bggFGcxlAK8PgohChIKEceGULYBS6QdWOOAMRHUUTBwcxh2BLufqHIq7jY4zDLWbMHXNwY8Mlqvqzlqqa44Ck8pklOiTCFhkGB5gsyYq5d90U8VMn9LlyCMlqA4RRxMGwHDBQIeSesmDTfV++0pGATBFM4NJBu6ajkRtdTObEIbE1vGHpY6L6GMgQ0lAqt7N4m/hcQwAB5QLkoQr4fx02kMfj0UfdyknV2O+qxDBWx3WwPAjg/kXcBZEhZ443xNNKcabVTEFNRTMuMTAwVVVVVVVVVVVVVVVVVVVVVVVVVVVVVVVVVVVVVVVVVVVVVVVVVVVVVVVVVVVVVVVVVVVVVVVVVVVVVVVVVVVVVVVVVVVVVVVVVVVVVVVVVVVVVVVVVVVVVVVVVVVVVVVVVVVVVVVVVYYTIJ5UrTjcDIgODEgRW1KJAbkKADhFgdtURUtrQysh3UHjsIxpEDgDEHTgJsZk05mVi71TsYfRw0KwDCaZYK4BTztv4nqhUYxBqZHsWYITRWxurFW3hgvIDAWrOfKZfHDCCNrAziwDECQF7JBoqMQLqFkDHPNwVTVNx1RCGCg1gErQuY1pMNpNCuty2fLl//PkxI9YrDqe3tZe/nYaFDzW9rshlpzZuN/ZZw862F6sGCgaYr8uBGGHvM/j9Kqwyy11CmAXAhZgBJwUo4BMIYuJNUcWZAhNkPBTmsaT4uJToewJkNWAdjKOo2bMJnuTWxQYLM/cVPFhWliotnWsyRXN01o5xZGlIFzc2ZjsxExOcsKvVpNDQLItiFPiXsgnh7qwyB62U3WdyRsMvhkj+Yj/0wmmf5ODNTLRDakyj4DkwHUokXAOc6ANQBaaywnUyIs7n7O1tkdXqE7DUH4c6mhngxH6ulFhmUzbbpRnTsS6TEFNRTMuMTAwqqqqqqqqqqqqqqqqqqqqqoMEIAkYEFAomw9zWUNiyIjAgxYdI0SD0w6IIx/CkGgUYHAAIwhMBQ0MdRGP4ndMsA7GQ0Y3DgcPS7asJjdpnQg6ZEMZhABCESAkEgoKlgEmHTOZRHZhYbmIgCMAdfoyBjCwIM2NI77lTjRvMdB4wqGzCAGdliZgcBGRQKYyC4KDqRU4rcXnAoHJjudTpqCrpkz4XJWNbGkaYwrZkH1+pFmGWMHrFLkl6UqVaYxH04y6yGzppWy9nBdQZVLUFzUmX7aS/jZDGVC5AFMMYswhW7oJy+5ZAYBLIgoVe6pEkGzCOc1gjHMN//PkxOZuVDpalO8ytHSMsRyEknbGhHJZzDzxAkRZK+xGUYjpaFmD42W4NVU5NANixjkCywNAXcz5HBebyvpOpmt0X061OvRgl5hNI3JocUabEXCa3FbED1nSiKdi12aPJHWGqPJ+RNRJgUDIepIyimWHWsyJpTRx4yA1BWWx1iSYUHuI6qmqPrTVcoBgSIsVCx5LCtIiBAQKLa7pfEX5DgB0FAKXcBAUdeOA4dS5WiMAgYmKNAas7jJChAoBFn1WQW8kTT4WyKhzjzWuuDAzispcaAb0AP8ymIKOSx+7dycqTEFNRTMuMTAwqqqqqqqqqqqqqqqqqqqqqqqqqqqqqqqqqqqqqqqqqqqqqqqqqqqqqqqqqqqqqqqqqqqqqqqqqqqqqqqqqqqqqqqqqqqqqqqqqqqqqqqqqqqqqqqqqqqqqqqqqqqqqqqqqqqqqqrslqsbbJI1G1MhEDHhSFPakciaamYFCaqgmVFUwyqHBZvNAtzXAMDBUMohJxLydcxaJNOC2UQM3FKpNZBAeqeCQmfbU8wgtQYMUZ8JE4FguaSPEhcFGKTgAmNJU1wgSMDjAxTKsBGZLuAbQCqooYgFaAzRkW01bCCVU6FyDiGzTUjS/jO2TID0ylNnPicesRKW//PkxJFZDDqOPt6w7i+oGfpyYZaqXLdaxNusv2PLoXagLVaghYY6MhYSra0oCgQlK7WY0qXtepXZZbUhT4Rmeh7q8WOPnKoi1pfLQYdcGBWJP5HvrQNDk1GX4cuPNyf5+ndl7ZvhNNAL8x/lShlkurT24xFKrAo017Uw4VhtYMX1HnGp5VPTcPN9QVZx2pdcxp/v/Kp6tWqy5r2cqq1aaGWAxax9nG/LXZeTVNam5JTuHClYoq/EeBIEJhAGIqapfKAMAV9DAO69KqEu5GIapn4induxSPM5SuXJiFLfmJbVTEFNRTMuMTAwVVVVVVVVVVVVVVVVVVVVVVVVVVVVVVVVVVVVVVVVVVVVVVVVVVVVVVVVVVVVVVVVVVVVVVVVVVVVVVVVVVVVVVVVVVVVVVVVVVVVVVVVVVVVVVVVVVVVVVVVtgOI25d+39syYqCUqAzG2xF8xwWO6exo5TEMHBYeEYICgQ0uBO0Xh4/LsPI4iaphAcYgkGvmRgYPEk9V8mGCxMVyN+pr8GOFIH8CyBskIHK+VOwQyEA407BSZZxy8JdMKKBwhbws01dhsKCwyqiRBa4ty7SiKwisZhoiS4GqQk5EtDAF4N9AD+YletsySFIUyqUhtNpcEWbIxBcy//PkxJxb1Dp6/t5e8Epok+MMHMWYmRKzQOUZ4gZCAg4R0aAtw7CtaCVsRlEBT4NtyFfFsVqjUClLAqygBzj3YFwn93TS7VF2dUox+unTMTt8ZgdZwmW4x+tnepyyNAmhmnGLePWXZWnoolQOfkyC4JygRwt5dyZCaESXw8zrJmZZjlYaJP0an7mO0QjHQxwyzxEOhKZaZj3V8E2XRKThdhB1Yi3Zsm0qB8wIDMfrMZRyiVGwztwt4V0UTYvRSk0HAXY7yTA6i9DWH2OqzaH6F2MklaHsbSnRC00cczxxUqsVTEFNRTMuMTAwVVVVVVVVVVVVVVVVVVVVVVVVVVVVVVVVVVVVVVVVVVVVVVVVVVVVVVVVVVVVVVVVVVVVVVVVVVVVVVVVVVVVVVVVVVVVVVVVVVVVVVVVVVVVVVVVVVVVVVVVVVVV2AJbmXQ9fv9ZjABseHDBxGLMDSFSWN9DQ4XSrWRJKjxhV/M5uRUSEAMucwsRHhMydSARQY4GI7mSGQOSW+GAwLFgyDlAOARFhS5GoiINDAxSlyXOT5rIuGohySrOlA1iX0qxZYEE/LyNzhxlC0C+aRcH0Thu+wMZA9BexZi01Y2Qp2oD2yuuyuNUS/pNKXJeBxb7qKZSGVQH//PkxJlbDDqHHt4fWANZbu0pizmvtI4LdF0FgnVe95pYpW/ygzouluC3HliIamTRGWSOMNKTnelqt9BhgLzTbKpcy9o7/LCOK9TZ6ZyW/dtxn8XMyZ5EEDJXfXmrMwSHYtK2IK2LmIloiv5A5KUOhlmcSqQl6bjYQuytJMb7mm4TIcyyRdTMExLkjVyXhwPVDJWOc/26ioakcxQHBjLuq2ZCmBDFYgU1HRD5DH2XzKiivdqwpSLKYhgIIlADeLcN0NITQ3j9J8wGmyqtGv3I3i9wk42NirYUU4sdnN+4u1AqTEFNRTMuMTAwqqqqqqqqqqqqqqqqqqqqqqqqqqqqqqqqqqqqqqqqqqqqqqqqqqqqqqqqqqqqqqqqqqqqqqqqqqqqqqqqqqqqqqqqqqqqqqqqqqqqqqqqqqqqqqqqqqqqqqqqqqqqqqqqqqqqqqqqqqqqqqqqqqqqqqqqqqqqqqqqqqqqqqqqqqqyAzXJuW27SKA43DkQqjc66bDAuEmrLoG1xGRmFirkQPAhYZz1UkSP7UQZaIAkKiA4pDQ4yF65XKGPmAhBrT4HEKbsNNs1suqYEPkRhBCGzDmDIDzDhUwcuZ06KxYBldIk6EIMiZ20pSpkzW09QchMOUym0qYo//PkxHZShDp+/tvxmF1gBMBomShTgrlKGCsluQp9XMunibULjQ/iWltHWlXb7nKLiW4ZqtULw5kEW4NBXL1ILCwqk2RcVGwoYihDhxqFDzlVU5/PTlevnStiqkmKFTvavv2Kiqgoa4wy2sbC8VUNlkhQ1KhqhZd1WmqC7Up2wEQ1sh+M5fi/HTeEpVEhyqUDmyoalFDZdSUpJLuTq+EhTbZdn/tZZexODx2c5zu2AwswU6wHoo3TZ5HI3mYSQDa+z1n8M0lM+7oS6pKH0mKe9RvDDMxMXrMsijtRCkvUnaaYTEFNRTMuMTAwqqqqqqqqqqqqqqqqqqqqqqqqqqqqqqqqqqqqqqqqqqqqqqqqqqqqqqqqqqqqqqqqqqqqqqrAATAJzXX5BJMN6Og43NQwZA8UFwze4wxxHAHBoHB6RA06I6AQVNs1RXoxVBkwEAozIMMXETQAY4QtNPPj4gBl5h4QyvIQAJkw8d7blYIBhUw0KeNlq6SseCCFFYsqhkq5DVV4ojFri4SCyVS6k5hgIM1GGJJuuyyhPuiMNGwFCAwFBgeDhkcAES0BKc5kwawps79Sx0kEQiCB4DgCmmnfa7FE5W/ZqzF03bTeNRGJQQu5dadOCw4CS8knZ/GodU+i//PkxMFlHDpaXu7wvPEaExk9Wby2JLsFWNuIwg0LxM0QKXurC15HJrLjPuvlNiBioNetVxqQuETIR9n4agy/BbtK2v1EX4g+Cocaaw6tLYK0yzSrkooGephjTY3M3rNRShfyXC4E/3/ZEmMnnBCVrJVV35auumD15uAw+A4yyKRxdabZ6d/4lAW3+Z/F5anLBi0VO2fNLb2NWbbXWfqovi0R4nnTlUksMl+u2TuVDQVApg2jKkESiCmQQ12EEpdgvi1yAmlKKr8g16ZS4ULdlOmhjjfW4o/Dxq0yShpJqbuVTEFNRTMuMTAwVVVVVVVVVVVVVVVVVVVVVVVVVVVVVVVVVVVVVVVVwAAICtkrrAJgCCJEA5gECrrIIQEBxhIQZ83hZnoFIiD4wpHAwAAFghgGBRgEaZ1oZBg4A48ASymXGCwUGGgcmdNCmWg7mDgmILiAATAAFQKAZhaNZu+MxhCI4CHIy4JMRDC44VAjGzQ4ISJhEEhbCm5hcKJQw0lxMlHzCwlNJXCkEqSZdTEdLLaRdoTYZMSyiXrDG3fqJvCQhGomhYy6U0EY2KosBVieaagd83CMgZdyiLNXsLzo1mQkEpJ6ERsbdJTQYEA0LOS6qsbLHQboBhEhWINu5rX2//PkxNhqzDpOXu7zBBxc85aQcCxkDFUQoIvIEMG4CVhJgL+glXiP8ALRZGWkc50KELkgp5QcqiteiE/MpztaVwuh4Gfz69Ev4xYstwZjpZEojLLIZQ7NhQ/YFZk76LpC5LbFuBY6cWmu9U7SYiIhBkFa6/3adxy3YfqMPi07UUT1eZMx5BERCGhtbRwibjPqxNfAYQoOwuComytsqnalzdAAPEhAKiI0xXZEc/8oTfj1hPowS3sljnwwNNNdawlbFWNt5qItLZHS3V4M0fDC291K48ltxXkPQcz6HbFiMQyqTEFNRaqqqoCUCJCNBNaJgGjAmAnMG0VA6zgSTDFA8EAOJgbCciQD5gIAElgIEwOhpDbeHJHhFSYEowDwIzADAeEQCRhPhDGYEOOY2IIxgVgBGCOAAhGYFgAxgGBDmD+BibXTeZjoB+GJ+HGaEHhoU9mGB8HEM1bLzyrhCDMY3HoGGSQqcYiBRi9DhUECQHcmw+icxuPETywT8RLcQXgJKlCzXYhm+kFGU4JRMma5E4ZmlZAcSxBbTeu03N/QAQWZQkr0aO46ZYAWNWwMqbIlipW3ZLcvobZDrI5qrNbhBmrmSsisCg082CNYYyEVhKK3G8VLOqQcMUCTcT2UGdeK//PkxPhy1Do0oPczBj8P03FtvbHp24fTHCw6JqcLKHZWEL+Dgqm6ORCIpGTs4gVw5C9DyuNBtSUOw1tI5CqZR+aBMIur4MIIhHSbOBAURQ+OVgyOlrs8NZAFODTw4qfBwHQR8bxgrxoSAs4ZhBVGT5BzSGkAJDqEGPaJIl305ErS9yTxcQOODDkthEQlQXNGiG0TBjC926F4zFEAp5uFMTBmZE7CC5beq4TNVWIzy7Kh8AIMC+MWgNhSxldl2IFT/jLDhAKtl91AVxytMou1it6keBS6AQgGih1kFNEXhTJqTEFNRTMuMTAwqqqqqqqqqqqqqqqqqqqqqqqqqqqqqqqqqqqqqqqqqqqqqqqqqqqqqqqqqqqqqqqqqqqqqqqqqqqqqqqqqqqjABGiNF/8eylAAAGgcYBAMUZGSAIRAk/qUkmHuChA1amHQEKqRwBC0J2TGRkxgQMbWjNks6++DAp02WvwmsoKBHQ+koDE8w4DBgXAIhDhESG4MJqakAlMoHxEIIIyIDHGQ3koAAIyR+l4PaF1BkF3GWNs9y8KcAwhijcJZLobh8cGGq6YFELjSPFhkvSjMecVTGgnbCxbAGdly2uS+fymHQC1hEI+0rYLGU8xGaCmncuQ68NDHy0r//PkxLhi5DpvHubyXH0ig6Tu41hdAcjFpfLXYZQ0pAwOEed10jEEjHTJTZwmu4bK3Lhi0x2OLQZK2F2lGn3kL7OSp00oQgsmYmpotZ1n0dCBYeZ2/8tdqadplqmDPndfn6Z/GY7UrYK0CWs/vtecjBIt32mQ7Fm/fVlUQj73wK/UCxVpKey7n3V4tFpcqUsVC6C8yqGECLciqv010xY+uGZcd3ocUxlKkUCTb8k0Nr6WDailrIW7uaq1Mppq7WsutOOBBq1mSKkfh8bdC4sNKvl9LGHgpIOXdDUMSGZt0S26TEFNRaqqqiAAGYAwhCSYAIAgUAXIQEAsBiYC4URh3BLHdoH4YcQN5kEDBElMkB0WMxEUDOT8MAwA7ygjGCCFgSRAkAg4y+/znzbCGaiM5KuRgBmGSiZjWxpEiInt0WDT4BoEMciwyWTjF4EtJar1i5jHGykaUoKxmYYnRgggLNhkDKvurTDjRG/BwL2MuqopNLYmmGJCxFoxQqZZICUAro1CsCwhloqmcfYDCMeImWZcY0RjvkxYAGXwCgULQaWjKaoaRYiFACrdVQBQ44Ci7oCyEgTNEdtTtAOrgGkjgQlExpMIGmr6XxDQMNFjC8IyKCm0ZAMSIymCu45i9kKG//PkxPhy3Do+yvcyWOKizAWINwbdOjNdxa0WIjLMy3Iskqcvsia7buu+4MBx66uaCff5mT3WUxFYEqG5VLQwCTERZXyFIliMBqQCowwADAi2Z0lFkj5QECLIzBIItBEIapYkW3MzEjJTMBJL0QBCSxbEUMGQV2tkEjgoGjMRAA00kaFDzANKwi0RiDgQIMZTUWkm4vVRghIUElDOkc2QvU/SyS6akh0QDLrCGAcEALHDDkxRVcHCjRRcJnbISERQUtUMohAq9lYFerIcoVAZsKkIDIEfsvCzJVOZla+1PpC1TEFNRTMuMTAwVVVVVVVVVVVVVVVVVVVVVVVVVVVVVVVVVVVVVVVVVVVVVVVVVVVVVVVVVVVVVVVVVVVVVVVVVVVVVVVVVVVVVVVVVVVVVVVVVVVVVVVVVVVVVVVVVVVVVVVVVVVVVVVVVVVVVVVVVVVVVVVVVVVVVVVVVVVVVVVVVVVVVVVVVVVVVVVVVVVVVVVVVVVVhgJ6aXmP7LdJV4MuYNQOkDSBYACxnWC8qNYAyGgzh87CBNEvJWXyZNWZwWe42sRF8EDyUoZF2GBQcFahM2UZjIUjXPSgsjCyJ1WgGGNKLrsbaF24ff6B+xqbuLvUnIRxRmg4EEJnEw34//PkxGlPNDqzHtMfZurHxTHUEjI4OCeJoJCg5HeAlh/FWQU4YxfB6DyJy9iIlIJ0YSjLcwF+MA8WKa07Opifopylq1JE3zuUaGnLUFIM0k6FR34/AcgLwsSGtZZshOXI4lwmSWpINQoQ/BxqhlhLDBCp8nXBbm5Sx1UYqH2+8SKyr2tZ1MpTmjtZqIejkNO55CVhdkscZfkIb2d0WxQpBWbdxCxu5Ik9nSqe+0S1G+6/F1MYJpML+VrbCQkkkazlXZyqg/1wXYYuIhUF5ZYDO+TqLQc0SJdtO9bcLR8ssOadTEFNRTMuMTAwVVVVVVVVVVVVVVVVVVVVVVVVVVVVVVVVVVVVVVVVVVVVMQBJS2dpAA+zNEc0cAgDwUKho2bZ8kIhiuDJgOC5gQQBIAiW5kaRRikAQEBMoGUDCWXMFQlMwBlHiLNACQBIkGEwYAYFDGwxDIo+jGADCYAWbUi6goYPBPL7KroVteFhJiShvo6B7NkIFit8YIuYIYpgwSYexVQtwa8KGA2TrDrCPsYAWEB27PUyxc6YbiK350+MtdoIEI+PyOgUv2AiGKe58ZwIXwgxZpddA42xMwAhgK97yVYJKGTGgUVXVNGnATyEkGIMoWEa48ZeQWbdOR2nUlBg//PkxNVqDDpPGO6zFD6mqFbdlNK71BzwACdBy42z9DsDX38gVob0tALUPowTbkQ5ASfCIKbjeP9DjE4y40BujWjbawhoLJJ+iisfRilU+zxkjsNHbrJX5iDuMpaRfiCODxJ0CBpYIIBbkghCoSplniEcFHkoBMCDQhECiUARgw0MATwSqbMmQZkSPzCg4hozZpcj+1NGu1DLE5GAQkwlUXCZSoAITZpscFKHroIBVmhyKejyMoWW2hCFBKDEPPvAcOFQJERJJoll1pKOHJxNMet33aa6YA61MY9Bsaor0t2qTEFNRTMuMTAwqqqqqqqqqqqqqqrAs/w+AumJl2GTloACAaYTRJpsdDMCwQpAGjJCSAgRGgODEKVRuPFMGAJmsLaMYDHxtE6nBwuZGHimYjABjkMGj48eYX5hkcCxNEYCMHCQKCAQsOXFATSCWbrtfUGhC+aOb9ymw+0ZQZTHg9/GVMJaGpJNNZ1BEXTJQaX5ZROBTFtWZIqCRcwAQ0IufvDRIAogRDOe/AXd3KgEQHlsGIZi1NTcva3cxpw1T82x40M83a8eXIeIZjRFWoHCUT3veRI4xYIQh0PC5iu1pO+gJhqnapMpFpkGHLGfEmKJFYxGeHR4AgHFh7XX2BIR//PkxOtvlDpJsPc0VGOYJGZgyKGBUKCjAsBRIFAQcjakShEVmIuMpi4qRNI7d+Go01WPt5JaGQymj0/TXVhZa5ULpH6htmThXFgmPJCL6XWgeqGHyaIIA44ZBBkVAhx8IHmCGDgVEAkABcACgQyEMKnMKEJDZhRoYSSKSOCgcm1CIWHDZGkQzQIAmFLgQa46omHuKgkUPStZ0oNDS01okJsu7KGLpzv08ZhS6YrZ400BcLokgZCVK3ncVTZOQEjxIAmKvNQZ5FMSqSKAz7QBAcNJlkg4ug5EB0MIVwyZekQqTEFNRTMuMTAwqqqqqqqqqqqqqqqqqqqqqqqqqqqqqqqqqqqqqqqqqqqqqqqqqqqqqqqqqqqqqqqqqqqqqqqqqqqqqqqqqqqqqqqqqqqqqqqqqqqqqqpCAGuFVlrRSiTeJnqHjxq2EICIWAeMLAEteEOIHvcYHAEJgbg8mRYPUZ1iShmBCOGIeGCIAeKFwyMVTSlCPrxcyWEAMLFChUABcLGNzgbLS5kEEp8S9KkZAMUEccPaBY6SiqrgJymEecIpdhxH+ikpR5MJ4Okht/WGL8glNoHAPlT1KWAW0MIpJjkWkMZXkBk3bZu7rOkVUiB49WOD3hirgyxh4UAbSOug//PkxKlfFDqLHvcyqtObkoM7dyIQt0mlNeYa59yecmMv9G3YXRNT8ZdGKMxYtKZfMNaYNAJeROuRWYk8LarHS8kEEMCcaVsUEp1YIAWCRNgxMdm6REUWPB0PxCNuvSyi3EIz7O5ZDWWWFuYkM/Kpms4zsMceWEPY67npwstZwlc58Sf51WXtRSDfZcy73BEYYQxTu1Fn7mY2pW2BslM7ThOJBUne+bi3wBPT9mORBu0XgvVTKIJgvc05hz5zGo9cobTcXspl5s1vRukfWrNJhP3DM5BkW1DbOZfJ5+nzeKfqTEFNRTMuMTAwqqqqqqqqqqqqqqqqqqqqqqqqqqqqqqpwADr2/VgAwkfkdxgAJ444KgCg0KwzYxvAgTAwBgFjA4BKRiBoARgCABGCOLIadbJZkDgjGCUBKLATGAmBSYGoBZgjggmBMUQYNYE5goAiAIAlJQtwWTMCwKMwTw8DCGAUQ1QHCAMiaXGM5lMGWECMIFKIS8RDzVQzQOzSgXDdpTFWxfpjnYECDw8eBKkex9gSEMYxNaJWcwhGd4xQga8+ftGgwKAqFYExBOBREwHPTSAT24MNQqHpJyNcCxiYtCgOauY0FtQh66GVqkYy94YgvIhQ77ZVbXdjkrlEARui//PkxN9sxDpe/PaxDHJRlW0mKBQp5tlVtCgQsQKjUUAyIiueIoyIRlxFhHdh5qKIKaypUr0tENUxkEaU6AQtovpk6qZEVNVXC64KTrdajkzTpbKo+sh23di0/Y+ciMMTsUdF36dmEzKEiobREVyHGZOBSwUle7i1SqwW2AgNNcWFp0tOhggLCVKQNRl6pWQNKVhUUBXBAKOLlaWF1CRAuMaOw56IyzWNOWzN+3ur3mnPVFS8LDEK7SKyOb+qXK5qvRAEqhmuis+UAfD0kdlxRocXQ3gV55a7qpIHgaHNTGMXTEFNRTMuMTAwqqqqqqqqqqqqqqqqqqqqqqqqqqqqoAAGg4XWSpUyRtBoEAECzMdpt8wwwuTAyA6EgVQECSmEXFMCECwwtRmBoE4BACMQFQBVHy/JgDgwGHiG4YaQNgYCIgPaWooqUwhU8lE140FF2aN2Z8/ae4IRmdAq3vNjALKmJMSWD68lZ+V4p3InuW88ha0nuYQ2BgAOoGLTl03bAgslKG/fFWaZZ4b0ageupE4yoYx7A2roQozRsxtQy3wsgIkCJM8GxQI9uD0MEaD4DoBgmGmaWyNJw1hoATUIBQUay5lpimmOCt9Dk4JcZrqqUhgJIzpghJMCSxoEIEnz//PkxOFtDDpOAPay9F6gaE0DQuUODCIM1R0qAwY2QAc0WpVWL5GMAwkECmQSVjLGcFnT/o5w0oM+85I3YdWciEAP7F5evN5nhpn5giPv/SZRdiDtKpQ7ohDXgt1DiIgDBREBwgIMhJqI0yBqk6gUstYRipPBck03lnoRoQgBoLmJNnoYHDEphCElegumECZTfEBhoCNSxfxW0DKlgYyR1FVYYSziHXGGQSIVtX5WB0qu7kUAwzOWpu9GlhIdYorO1XbpRqMQeoGrydgGkrutInIRvjMItfQRxTZTiio+Rq5VTEFNRTMuMTAwVVVVVVVVVVVVVVVVVVVVVVVVVVVVVVVVVVVVVVVVVVVVVVVVVVVVVVVVVVVVVVVVVVVVVVVVVVVVVVVVVVVVVVVVVVVVVVVVVVVVVVVVVVVVVVVVVVVVVVVVVVVVVVVVVVVVVVVVVVVVVVVVVVVVVVVV5QZDdbuPSUs3jAwFeBmIG/Dfq0usYMwmnLRzIgbwYgUCcFz1kkgg4ZoOUJtIoNOgxlYkNHbZ5GQkIFFxtkRfsCmjVkiZAf8gYo0sIgw+iCMKBwAPIEgOGIaOhdppE4RfpAA9juzUGtxUpgRz24QLDMFlzgcCMKMHQqt+cQVDCOUuytHr//PkxIRVzDKHHt6enSXzooIcAukgL2hwuCaNPI7QQQqRxqthRL1CTVOWIrE4nHsEzjTX3NsRDczrRBT7Lmgj0Q4OYhRgk4XZbHjCYpbTMHWZDEjDgPphKZaJCW4xxOC/ZH8iy2IenVmRyY0orkqiWF1Z651zvWrZ7MyK9XIpSrKmRKKQ0d4sZjLhGiKwCgR6+Ww5jGFQwD5BKEkajQeF9bzBPgzmNIzLyhHqVFW2RnuvE5YWCjKsP1xuKSg8hZi2H4ryqblMoFpOK1In6crI1PnGsdmQ55NnbIcj8/WNvrkqgATCG0YmHsoVctQeAaMHYQcxeI/TLiE+MHQHEwHwIBEASwAOAIQfMEIHkxLgezAKANAQEZZlBcCAAprmA0CWYMQdpiJBCGmsRk4AoqnGPCq+UBJgQSpvGJUy2CndXgYOLGLis+1i9UwYjBDTi6LT33bZgsjigWBTCA8IF6z+rlZ88wEBTGgUwIGEYOsCn8kcgKMTIDBxQyk6NdHTIQULkJCHERasQygdMaVTsrUxsmGQxTdN8GkAGCzEjMzxZNIWDb2k4ZMwA5PdmaCchBApOZBGEDyIuj+KkUTQAJL/ip8zTQGgSoEMQHBoszTE1Uk6zczew2OU6K8MVKYqbGFI//PkxP92tDpBgPb0+AyqDkQKkjStPBfJoxCbIcIQ5moOlgkFAwKCDwBcLlr9cqC4m+ruyyS3Xlpo+2P7joLlgaTNgl7qQ/vlE2ZdcMqJMmTVd1L1GRWYZDpaMBHWJlAoyHUiCTIKYizoGIDgEDHiBp0aRKBogKUDDM4iU2d0BTV7pimVGmiDjxpE0gAnWHhhAta0MCCAFaEg5cgADC+iLKlYyPMSgSbLKGGDl7hAeMIIVGhUYQmGBkHi0AtAGRKa5cbjrsNTwHQIcPikCQSkU8cD0q+oEZlxni9akjnU5HoeCqKAWuU9PK5MoAAIukARsCgIAYARvm1QeRJMDMDoxVh/zY6DoFgeG6gYApp0KU4sGCKJ4dmUhh8l6w6GVhlMzDBUy7rP7lwSGJzGKhgXEAEHmFASS5mxUcw8BiAEA6LUWR9GgswQHMWHzWCAviOAD8TjHJKvgLjQ8TIiJ0O+8cZeFI1iBhAAj5UdZO5BklAhwPBooaiXplFQDIgYQgKq5jhSag1mySRlVBjgAcpLZmKGpnGqimwRqnABIxwZ9nVJQBaYwqw1NA4qc69cyoEs8PGEBRetMhmDyjwxUoYmXWgHXyZtgasoYByaBiZkEl0CjgcCf+CDBwDYrzt1RqOK//PkxPZydDpGUPb0vJJ3hwKYQKgyHDRgoMFFVTGmwUmQ1LvEQstGRCAIQaOqeonRfdpmL/O9LWaPnI41KnPYDt7tq9hmlgOcbGsyH5WuLs9VuOcy5wyAIg8MFxGJAg9BQiQkxUxAVG0NEgE4LICqANeOMJHVWMGEM77YmmGDTqbKeSmSDyLBgTgNBDoFCMMeLJUFZyZMYW7AgNHtBQIbIjJ0PilaBDqgQQBRNYyp+FlgQyYwJRajVWfMkcRfkXg1LhHt1kHHEjzOiIG40DSaH0A4GML8S3Rzc+85kouMfidSTEFNRTMuMTDoABoSYQ/pcpyXqXOWYRzMMDIxuxTpH5M2gAlAaEaPhgUIgANGO16aVUBvOSm0x8aaLxiMiigwMHBMwaKjKgwMDCk2OGy+Zg8GqiiitgAAJgMImaWCcsPBgwJjAgAQgFgUy81ECMZoWnExpoBOZYdGFBoOA1HC2CRpkJuZuKgIlX8CA4uCDgoyYeAJmZSIhAsJLYVARACGPCRhJCECZhxoYcPHZeRg9gYMFmBAQsJoSAuHolqppjG9uWsR2LnoJgUQkege/As0aQZEAs1I9BdTB6xUsIxJjVD1PlyB0UyQUVzJFBCMRdxC5ZRiFGgUbER1FAzwDjEA//PkxPdytDpWSubzLCHGAodO4BGLoLUgAcDemQGGLAYhhJZcwVQh495T2JDCA4d0lcDgRMSzCsxYQkJsJpqSVI1h6XygVi8PP44DkQ5e+Bn+WbhF/uUk9GlZ3PbEuRxW3aXJlZ1hnadpBRI0AmiR4XNDp1iKwChyOo4kKAJEjwJoACNkbZUXJUF3sUhQkAYIa8UG0wzCHLlu8zRcSYjOiYFpSb0Kbm5zyuzAQcS4rV1b1sKwNuzpYpM2u5YRwJ1uEtct5nIgZmS/ZS+rKH0qQE4ShqtMbhlnFaN8p4AjcsdyTEFNRTMuMTAwqqqqqqqqqqqqqqqqqqqqqqqqqqqqqqqqqqqqqqqqqqqqqqqqqqqqqqqqqqqqqqqqqqqqqqqqqqqqqqqqqqqqqqqqqqqqqqqqqqqqqqqqqqqqqqqqqqqqqvAmnJbGCWWYYyBStmqwywNYcAAwQBMwxCwmCKLOFFCUDx0DjBEnwAeRtUL5qCQxlAMZiOIBkUJpkKoB511htEiplWH5stYGMA+IxwYSAhi8UmSlMb8LJrcqmnAOZmL5h44GGUub1epo8aGzBGByeauH5joOBkVOG386nQzRZnMGmIyAJzI41AyEMtlIwMSDKxUMmDYwiKTGxaMglkyo//PkxJ5cTBKaXO8e8xoHHMwQFTDgkSxUfMChIwgGxhErJa+cFQf5sEzQwscWh2H6NcW0JEbpNCCFY8XJmYJofzIbhxNjMWEYRdytL9HS0fjDaB5N5yJk7HsEuRBV4+zofRoSQOR4d6yXVUnihkcmpvEDnQonEFItSnQlSRmZkszxJLWgs7+OybhxcfOayx3rFO/gxI6bVquy9VVYt0Up2TDXAYleonq6RsLe3J2rYKIcpmaOyyPoz/Uea07cyWzTeqMBkJE3S4Kt03Npx4/YJ5cqPcSExNbqMwqGLVFqQ1JVjOMtrv4oOYCA8YAtwYRB0YFAoOgAnOp5pBgAEJjSnRjCCCZRgmBAUB8KA4ODGYYuafG/EcGhAZalwYBE6BQ1MUBUMHBHNt2TM9DSMpQkMOQMMGwRZwKg6YvgiZsuaZNDQYpiMYVgADgcHQXMAw8M+UJNxCoM+TCB0MiQEBQUFkfDFzQ+nSNbGAKCCwUioDQcAhJipWLMBjwG1RNtcqAgwwUMcETCQwwsSDAFGZhKJqNYOYDQT4yMACoQTAgQBmIjZmKiZAlHDqzuqZCIUMYFjCCQzI+MRQzNBdBC/g4EVsAJkOXGQWjS1rsNF/wCTM+LLPhYCwQUGuURUDnUCiyd//PkxP92BDJYAO71TbTnPfGNGKTVXSHEIcmDA0SnynekCICQIVGQEAEeWkMSGMiKflAWY8iFwQwBMCcBxaJt3TIAQhFUGgCAKGAWwwY/b2JtxeZcV7J96HiZooKzJcanNZsTHk5Xba80Zk8QbM1xKVXjWFBmRqJmAAp8sDS2SHaG0FPcHFQ5BD7CpKVARep7kRS/CPDDVVEtkUVLgCMR1SeYXBCZDsgwKYkND65p+GX4oC1VNG60NOi7sbe6dWNSSSXTKwauHWd2Uyt4qaVM+htluNifuORGWQzlLLphyXRcqmtVppdMQU1FMy4xMDBVVVVVVVVVoI3UlbDAuAwAdDJuDATIBAOMUgEoA7cTC4fM7v01oVwwKI8o+g0GCh1Obrc+o2TBAJM/DQxoHzKYvMCHg316DgG7ORM00MVTAwIAIPMMmk2nNz6yrOL1g4SYBIXGCxMYxJJmtFmsYeaVuRxiZmuC6Cg8lmEAwwAGTLpIMgH00UXyITIyCEFCVhpnhxLbMTYEhPJRTFPACwlE1ou8uhWAuWQjIIzOLAxJWEuwwghQsEOhyholJ+I+ClQOBBbZ6InFKdUIETMEkxujebNPgyUzmtH1wUGJLGsABgwhVgqHJQkOKNIYE2mo8D3h//PkxOpvfDpUAOZffBhHs8VbgpCEuiXxsGluACwEHGsUI0Rw4wADLMIhk8QQ8BhRaY0AwCEVAy8Toj0K0RGEv8aRMIoREwFHmHsGQgT0d5V69URkUVLmhJ8yhULpq3meKhNaQjNMsiXMmkxZoUOPLXfWAnVeRfjsPupqnpNQ2+cqbK/jgsFcstCQkBcOGkAKkEeWoLYJWUu2vpTwe1OaQErDOAnDBTtvam0yWROhLIDk0PuI0OCn5gh+ojJAR6nG4R6XRS7ZKqhcvqGmr5lYq1AmFtSyQk2jlOcpLnL2tnbITEFNRTMuMTAwqqqqqqqqhgu/K7MYQBGGx4HFpICEB06wADaa4FBUw/M8yxEYRAYYNAoQgCLASYGoKblyucCGyYpAWYFhYW9MUweMWRbM4GgMkydMNgaQiMLAqMQRpMvVvODZdMkjwDkRMLwlMGwkMJwhMCg7My0pMFkAM6w8MLA7MJwIAwQmAANGSBmbTET5JFnqh5mEAWKm5jGrAS5+Ze25eAYDGTDTKSLeMsRwQTmEB9ZzArdk4B4GYYC8qmzMQsMLehA4xxdK0ChC3A6PCHoCjnAemEDmOOGWFBFQ0Z8cQAoZDDkhAAaKA4eDBQONO2W8MEUMYEFl5ghhM6Cp//PkxPBwzDpQoO6xVBCwQI5HuhGvYjCwsQzlBjZHjFDBwSmsxJuoY5MQCMoqiYQSRVDC06sIDgDimECHpl4sONccUDdWGhyOq9chd5dJTmUUkaemjXNGlesFT5XksKpNj0bjwVAypmjqJ/cf9BM6zrqCIDGmTKGUalTdWDQVArIqSHWtqPDQ0w0F0oXDWxJgxSC54FJW4PZEWWuODAP5L9LScWOM+nZdDDxspUHRect/5iNwEYiIQKYujCn8Z1G4Il77R6WN+yaBIDnc5fbhz5K9UgcN2VLItL+4V6CQ1JbVTMQACAgFgAEQGCMEU5AKB5hAPBihdxiaGxgGAqOY0ApgIAABH0wAO4xFAUwIBkwUABPAwpJs0/4MxaCIx+EUwDAYwFDAAgwYfCCZiAiZFBaYph0JBSPAqKA8YMG2bZR0aogUYKAOKg6YVBSYEAWYPDaaTnAY5hECAJRch1cw4AymquqeHFVgASMpBAJYyoK27ENTRdlrMVeJ+0q0CaAFdstfVsaCgXAqAq56+8jLzofF/VmrBBQMYwgBmJnzBZ50lGTDjTGozCwCY0rou0AQJgw5iAxhRosRWIpszeQGPPmUIAgSNCUOSBxVJG+QmjEGtUG3VEqIcPADOev0DD5l//PkxP50TDpOKO6zVImOgShEsYwgYeTkgEaMmGHEBQxRYwiUKkBABLzgoODg4kudARqkCxzWnPKgRawaHUwTWTaDAELAMgqN5X4jD8LALrUKGlGQpHrjVel6X7jTT0bFDCoOtdNsWHXupiiC8cUdCacpuiFLtQJEV0vW37JIcai1xOYuTAjJkWWR5w5PlUtK9LhfTjigYYCAC2JJzsYcdHUtKsBJ4jL2cIEQwFoTJ3XY0okl8rVDVBAL9x9HFUK2IRlNsJR5ZK0uHas0wlwYcXzFZir1WJ4IjZtXmIMupJYqTEFNRTMuMTAwqqqqqqqqqoAAo+t+X4UaMAAVMbSjOf9zM9gyMXxhMVA+MSAcMZyJM/3POlAMMagYMCgfMRhXCA1BqInOi6GaYliRqAoCy0EFmAY3mp5nAoFUDgMERgOCIqQJjt7JvISZheLRh2A4jBUOCkwlEcxrHoycXMcBQCAK/SIJUM0YjQgjLHnlTfBU8LB1djzcy95iIygFXdfd16wCBp2MjfmV1HUGQldzT/htlYVCwCHCwFJYZaTNmOgSRK7kjWaRtYcMLB4CZK1JxZkCjoNHCgA1C09wqImBoRjYAlKv11UEJMJm4FpflZBgYCDgERgxptQbihFBGYQL//PkxO9wpDpBYO7xOI0cgE6NQPzZywwMKCwAEAbFQKLAFjNGHWGvswdfQOKTKSQDByMqKEYNjgVI3NLstii5EEkUGya4a2QQtJfSQ7qvZBTOkJggew4zJX01NCTJQPUeG8z7L0C9Exn1hFG4kYUUa0v5dqJq9Y8kVBMZhp93Wh5W1uS/mqOk1serIGvTDvOya1F7jWYEpOy3DSOErJJJ80r7NBNSU4FSsUT2clmLrQt/lNkBMpThn6KG0Eq1YPeNtWAtekrltdj7dYFdPG5A9uJQHfh1hDhUstprDcspJLsKTEFNRTMuMTAwqqqqqqqqqqqqqqqqqqqqqqqqqqqqqqqqqqqqqqqqqqqqqqqqqqqqqqqqqqqqqqqqqqqqqqqqqqqqqqqqqqqqqqqqqqqqqqqqqqqqqqqqqqqqqqqqqqqqqqqqqqqqqDe3m+2rk10DUBIAN1ZwDGUwM0MQAX8MSEwQEmZDpR2GWE4GDTRC8wskMFAjfBMAMh1r8ZCBhxIYsEGhqBg/SAX9e7cYbMAAghiORZjAWUIUAaFgIDByYaBCmtHJnweTAosDIjGCBJkgmhc0dL0toOiwNTDPwwskj6nKj2WTSsWYvpa7RXcMkQE1asONaZAn4DlNddmWR6fL//PkxJlbLDqSXt4fcipZFas9FYQ8LDZDc+aiymLBYzIJiDHuzs16s3K2cstltLUnWQoqstf2K8uFzkHX1g2Jz4qA3oS6dKvI5xW5g1BKoao48xKLZQ1bMX4nSpg4Yi/FyVT58pZk8rmLDbBYeyvZieJJgANi9DlENDBDUrbU2LbE0LouSPdvY7MysaEPk+JCX04TaumW+ZEtMU7EQwAP5bUCVYhyHIsVROlkbpOXAmTMxyFxVUN21OSKU0Y82Vra3FkV5umS1tSmZC8P3pKMNchzRU7OnTlOWaM+T8OmMP4tTEFNRTMuMTAwVVVVVVVVVVVVVVVVVVVVVVVVVVVVVVVVVVVVVVVVVVVVVVVVVVVVVVVVVVVVVVVVVVVVVVVVVVVVVVVVVVVVVVVVVVVVVVVVVVVVVVVVVVVVVVVVVVVVVVVVVVVVVVVVVVVVVVVVVVVVVVVVVVVVVVVVVVVVVVVVVVVVVVVVVVVVVVVVVVVVVVVVVVVVVVVVVVVVVVVVVVVVVVVVVVVVVVXIKWyW27Xa3sMcUu9Zjpjapyi6/J5/40WEDMV3QfHGUQwdWI5ReM24MYYhKjbdFqABwCyaRNPbV2oSgEAwk1tnIPg1SRHkfjyEGoE3AMS0PRlYy3n+//PkxFVKFDqWXtYeWk7C/BNhvHih0V+X8l8A22I5BcGZFQW8w1Eu1pdu1aqnFgUs5xpaApFSc4+y5sCnpQ3jkXzo0yOTSXC8FFyYbYRy3mH8IUvuCnPgTgY6HqVkeruHAUCrzCYns8jxSQmyVjW2d27jsangTq08VWu0JWDUOBASu3+t3/28cKZwzT3VndXtAW7tXiLmaLEkYoD9QsChXnJDUpGO1fQ05VS/Sz6NR2zvpWbcl38kKMoHsJmbkbCXCreSRy2tWk8vF+PNOiYoOhqjmUR1v4CbVqlMiLBbGxoVTEFNRTMuMTAwVVVVVVVVVVVVVVVVVVVVVVVVVVVVVVVVVVVVVVVVVVVVVVVVVVVVVVVVVVVVVVVVVVVVVVVVVVVVVVVVVVVVVVVVVVVVVVVVVVVVVVVVVVVVVVVVVVVVVVVVVVVVVVVVVVVVVVVVVVVVVVVVVVVVVVVVVVVVVVVVVVVVVVVVQJVrTjbjkks2zxNt4lATULsJgRUAdl0iyB/Ae7J5U5tgChA7qq4CUaQJKLqZkilJ5C74JkUGRSpYOQ2BoDWpS2NULSFLmcw8yKgXWZogKKMcoomwWkDCJknlogpomiOEgpOTiKINUSY3Uo5l9E1IU5p1QoayyPnZ//PkxHhS5DpmXt4eXgYXJCsC3H+ZLLcvx5kJTgtwdR3BHixIoSYWphynTJTg9WDtMlcEGLkxIUX0I8P4JKTQupcWAfwDyBiQpInKnT9ixsp5MoFCnZumS+Q2dhP1ZXZ0vE87Zm4txOjqVZ0k5VDC4woLYrkONI6nGAcyHbbmaXp1CS2o1TGkqtZfWfMyedq1qOZSIJ1HetQkwxoZblEXU2hJjKQ5DlOQYypXvTsXDbDiq3NGJmTzkX5LKVQp1O4OpDoDWmiDHE3oa6MEnS7Li8P4uTSnWU9S4miXFQuOVcplTEFNRTMuMTAwVVVVVVVVVVVVVVVVVVVVVVVVVVVVVVVVVVVVVVVVVVVVVVVVVVVVVVVVVVVVVVVVVVVVVVVVVVVVVVVVVVVVVVVVVVVVVVVVVVVVVVVVVVVVVVVVVVVVVVVVVVVVVVVVVVVVVVVVVVVVVVVVVVVVVVVVVVVVVVVVVVVVVVVVVVVVYCUtd+32uurJUwiZ9koFWOEw6D4Of1E4w3g54DA1JUhyROL7FDgVBCAWhvihNTctg5UQFDA7QxbR5i7oMCZA32aspdQ3+P6hUp2eJJK2yAWi/jWrbSVFFZVMYSppD4WGWxeVu5clWVIFq65U5WoUERUpp2JM//PkxHVSLDJOX1nAA4UO61VHWG0jXW6urHOwLOX2nxtL5kTPm2j8brwGzIQDeVnLqx6bijEnKdRlMCMmlcSYszFxd14HZTLJZTxhhzwuK/Nh/m5Wpc1qUTEva090kp6zZKSO1MX6hqef6leF/ZfHkTmhMOl6grZ3iXdAU7dfmGZmVa32Wv7Sw7Zp3dlMM0tJHZDHmGwn6es16RX4kxr5yHHjdqba1GsWdQ1JKj7U9a8/VM/W6aR3nef+nd2tLHoa9Kc97nNVLMVncMN4xekl0ix5Lq09UyxyxpaW1v88crUyAmkwggXWgcYNITphehtmF4HCYiwmZgvAAKpmFuEOZGgqRjQEvmoIAqp9xDBMBDME0BkSAhMHIVJtN2zNSkxMVIhM7dIM4uDp/ifmJyWmklZkpaZSDmOCBqG+ae5HXaAKEq2Est4hYHMhDTbFIzIAQBmMIpoaKbWJGjS5hI1KYlGIFlb/mIk5mZaY6AkRaheCgAwBBM0BzZFsmADDQkOGLeMPw/SSt/zV0MMRzCgQ2tDMPBjJhA1c5FRIxUbMRLk4jEyQVBzESa5LKTWE5lYihkYyAisygqMkClMzOCQmFC0YQOF1jQwww02BwsYQUGDDpihkQB5hwJ/MP7reef/1//PkxP91rDo40Z7YABnBwOBQ0xENDAcwMLIgYFAgFAQcDzTLzYQkxYUBpQWxDjELAhiIqYKlggjM4HzCTcxsW33v61vv65e/eFWJKCQE0dDcy4mMcDEzDEQcwkZMlDTOBQcAQUJiMBEgcwoEAVsaEflBgWRGQBT5mIIYOOBUVBQBJXSMNJjGBcyEGv2se93/d/3/7///8/iRBmJGBiOmMPEQgTdhA9pDLDBhAxQMEgAQAQCDHMVgXmlexVL9NcIHzAxYyQfMqHS7Sg6NqVyzxgGQzCgIKixVBWHMFlINEoCUsZ4mxUxBTUUzLjEwMFVVVVVVVVVVVVVVVVVVVcE3mYALgUKhYB1ZhGAoMAYOAowOCswCGM2GYQ/kTozOIEIFAiCEmCImA0Ag8YVhGaELObvKsYjAcOggCQRMCQOMFQZFQENWV8OakuNpRozWpTCgWEIfDAyYAGoYBEUggmmEgJF0TnVRTLYl1BIBFQOhwfSzXoXhTRMAAcwkEwEHU0RIRrrbSOp7EIBMKBNFgwiFi7jwKeZCtJdylyW6wjrRZ0peyFloFBBfdHymu1Ztyy2JKBEY0BC6GUstaslSCgKoszNBImzLHefZXYEAKdDllpEXi4imip0Fmdp0JVGEAki1//PkxONtlDpI/d3gAPI3bQnNTgVVxbBbCvGcqAoBmnNMUZCgER2ZI9kcSqTOtukyh9FLEfGYsSeB0X6ZozxiDaSaB3Qe2SqlROUCQTKbLnbs40ALcIgQwBShVqo20W2DQKpgu0aBTC3ohtpDBJG1t1K7nMxnnfSpTmWlCWJWqJ3ggECoLVgdKAREBUmTAoJjIUARAEUkUoV9NtIsn7cbb/v/HWeNHZfEm6ypCatdDcusBgCYXAKwC92uI/iwCSqSQfRkJUAiGLRqV9HTl9d8mxNVpI+30fnHqpVbaVprWXYVTEFNRTMuMTAwVVVVVVVVVVVVVVVVVYAAAbagDAHAGbojfBCOYKAMMB0DUwWAmDFPBSOE4j8w0gkDAEAtAoBxKAUDgIwIAqYG4JIBC3Mx1QMyCQxTAJCEMAQCEwGgCDAPBuMBACswZAFDGpLCNKIq8x/wEDBqBGHADZWiwzCqYsQZZizKIPc1gKBV5ocBoCK6jwywEba0pmnWXAYg4BkTmmMDuHIakk/FVrpklsi1oOIS0We68BQK3sbVw4ax2/eKGH4jUtg2UOxILsqf1Yxb0xCzIKpmfLkddYWEI6iIU0CEMzFLL1jADERQIlFVUPxU4Qw4cClmOGnCBHDKXAXp//PkxOlvDDo9uPazBKXJ5pGkYAuFogZMlCFgSYAzHTDALMF0FiOY46PqgJCKCnE1yy5gkl/kHHJYen2LeAp8tele7cKUbaPBKFjV3CaIvxuLdJE/bfMAi0im27qzrro0dUA4FIUOMB8ZNMoAeOQjEAyECRzInDUDQEL4S0ERRfBVJg0EqgFj8Y1KxQwJHCKkJyQK1gCGzFUxzovORFNSeBp2LYkBTjIDIlPvXHWXNIhyCgEBAFM7MndJ9mpKbNYfOA1bXWoo12NMOd9x4Jh65TT0/Oscj8Rh6iprXzj8UVOqTEFNRTMuMTAwqqqqqqqqqqqqqqqqqqqqqqqqqqqqqqqqqqqqqqqqqqqqqqqqqqqqqqqqqqqqqqqqqqqqqqqqqqqqqqr0BgQFo+0ajdQCGExUGCN3EywsCJWsAKBEzaQg4oTbxxVAi8RfAMBJiBAnAQgDRGklEaeAYeJAUGGRs7YbERGIADoxwACaNYXDwExGVlxmbWaSEmCg5gIOCiUSJEHDCSAEh5vdIBE0yUUBwommzpfySpggaACtFgwcRWNfk1m7HC7SJaqo8Fz8glD53mLN3AoAXxFgNfjv01LKXZVVYBE5U/krtQ8g8FQQwUPMWLBoECxyDX2f5/xGIGhB//PkxLtjxDqGfubw3pADYXfGG2cqAwpEAOPsxAQHbcCuyF2VoqCpfLlASEKJT3dNATM2cMAYZFLsNNxcQZ4I4iMIwwFoWcg8GAV6gFEQoSDRtTlcX3IYmwt+Xcd9VehdhmzWHnSKcJq7WliOC6SUqh6xk6mzSB2WtvG8qGrBrKmajai674CpHocOH2xJfvW/0HRWVxWBHUC4AYIt4wR/L9NMRRTCRIWWpiUYw9L4W4Dh2lL5qulY7DOWBtMRTSSn4ZYZBExIFB1YFLpe9jSFFJyJ8Tfiqk84lGYffvJuThrQTEFNRTMuMTAwqqqqqqqqqqqqqqqqqqqqqqqqqqqqqqqqqqqqqqqqqqqqqqqqqqqqqqqqqqqqqqqqqqqqqqqqqqqqqqqqqqqqqqqqqqqqqqqqqqqqqqqqqqqqqqqqqqqqqqqqqqqqqqqqqqqqqqqqqqqqqqqqqqqqqqqqqqqqqqqqqqqqqqqqqqqqqqqqqqqqqqqqqqqqqqqqqqqqqqqqqqqqqqqqqqqqqqqqqqqGEUEU3/+JuShwkllNZ/Hi+PRAQQlZnYdq9gB1b0pMDsIbZOaIwjZHqgRCrA+rDRWo9nhZCNhCBadwGaQXGiJY9rgMQ6jA3uac9lOo4GzDVhad//PkxFJJbDay/svTtuKUUzozEMCpBZduyy3HlsowvPGw5YMuWlexCMQ7I5c8AjEITQMewRM4fyKZRHAcja5PY1EUrobWr38fM/pdPLCvZ/neTdCqBTgSAtA3BcEIQxjM5MjoELPMv5C1W1MzS2nImUvDQt7ZWl1ZEewOER5ej1x7+k2oOfWA3Q49Yzlmimw+alIrXkrtWtyOULTPRNDcXC9aWRaTK6KNiOUx3cysSamMqMTW81309RsE5fyyafRY00fR4ie2ydBAMA+0w2dshWQlr16iDamQDYBAbVT8VvrdTEFNRTMuMTAwVVVVVVVVVVVVVVVVVVVVVVVVVVVVVVVVVVVVVVVVVVVVVVVVVVVVVVVVVVVVVVVVVVVVVVVVVVVVVVVVVVVVVVVVVVVVVVVVVVVVVVVVVVVVVVVVVVVVVVVVVVVVVVVVVVVVVVVVqUJhCDVf9G7bj+CBCbAxMyI1AUkPGnoStEAMOwSZfxMJR7bvOcyaqGeFnAlAGVn0ZQZRkAemolVFC8YIExs0GHJCMDgmaIYYQUgaIhCLAYDQLNb9PjNKxLuvU80VfceBmQLklUxSgxJti0HvoXwS/QwcsRGzTEjCg0YH/o4uqo7jw1VEi37vOzIpbekTIF+t//PkxJBY1Dq3Htc0xi6W1Vy+klkjpR0OqOBLzX6enxrXbyY7z9u37/wBLpowoFqcsg2R08Nto8CEoqiwwPnJn8lGVG9aXqmiRcuj8/jgyZCW4JCEgZfMBwp9oEbqp0oYzcaD0tPJZHp8aCH26uVLd46i+5TORaXPpDkRuyRs0ZlDJnZmopaa+w+HYSrY+NutlPUdBEcJWyGDrruWKSW0km4Woo33a480afR5W5QfBz54VXnpY1NP5PCIE+tmGpyI33gkFL1rcnyg6R0MGQ/HrK75H8Uu4wFdos69nsspb8qVTEFNRTMuMTAwVVVVVVVVVVVVVVVVVXAGUvo+yPaFjskQCMUgsaJRgJ1HhpKCAIIwSwMdBxClDD4dRUMAICEwXgWjbLeqMWoRoWD2MEoG4SD8MAcCQwJgEDB7ARMKMGgCg5mP7Mma+grJg1g/AUEswdwbzAVAJAgDRgvAQCQHoVAyMGIhsxXh7DANANDgABUAJLptTAfALVO75hgCfoHl0kklTlYO/KLrvuk0EGHYsHLxZ2151VOi/zWocGQAIXoHYIqSLu8XZY6ygQEZngFB7A0d3JdGkjcaMGBTvhJGpVNJdBpr6N9A6ruETqBl6PpSkoC04rABIbTzHAEwbJOL//PkxOlvFDpRQOe2sARB8cBAINFQKBAYYKRkIujsBWUzFsQnu8k4CQgWCRoQeSHwMLHM+wKNWZhBqTDqWxd8HGAYAF4gCtEw0upeaE9JNszK2ROgKE5iQEt53o0/71DoEodS3gCCal0alUljUnk8yQgc3Fq95eUUicRf0sApMGtybNSkQKLAUXYaj65D6NtLsZLPNYuTd1RV0rERUpyVmTlWTKZGvlrrIkjmu1FTP1RvquNyZuia7KkVmlTUy2eW5VonTSdj8jky+p3GSQVnHYhSYQVFeRxu2N+PTW8LlNWVTEFNRTMuMTAwVVVVVVVVVVVVVVVVVVVVVVVVVVVVVVVVVVVVVVVVVVVVVVVVVVVVVVVVVVVVVVVVVVVVVVVVVVVVVVVVVVVVVVVVVZgAcBXVAS7wBKl9rWRVQaoaNOowBBYMVNmxgIEJeVEhI9xUfk+gQDppo6JkcE4GCIFAkAgNKgEmAAEDIAGAQQmHI6mGXSmHAHmBAAAkHzBQIjA0BxoLTBMGAECi0zE0xTUINw4IEforJ33ipgRSPoMwG3IkR9/HeWK1KBAsHTaTsAsIMTPMYIKnDDC2GTjxjM0qwcc7EHyaD5ElUNBvUX3IrYlZiVqiibNI8IkgOHIWJv4s//PkxLNhpDp2vu6zROq127SF/yy1uglMmrX8XzeoGIwNDMucptX4htHxu4FRA+s5xdsmh2LSGILCHJCt19Ma3X8AA5EIOlnGARDMsWETqcJsIVKcttADONQwBOQumlLJoblMygBk2ERjcb1DMDu/KIvYldmKQLB0PTCfLEYS/qJy7m7qYw1ATXV1NOlLBoVcYUlfKIEcrKWs8SCsLKNMyApavlrVPcZTGIFZSsyKNIfeJXKfCNqqsN0z1ctJRvS0ylpHdh6MLtYjGtT9PTJotmno/GIzFkFpu9HZmxFoAs1FTEFNRTMuMTAwVVVVVVVVVVVVVVVVVVVVVVVVVVVVVVVVVVVVVVVVVVVVVVVVVVVVVVVVVXkAQDgAcrBAcCrpkIBA4BTBQAnLMAAHFQlMnBkMyRKeNL5VEAAK0gAgMBgVJgsMfGgNvU2CEqMIARMIAlhowQBYCg4YrHgahVUf+Hed7xIZfiOEECYBhCYNAyYRBWAQDMBAEMRAsM50nN9GBM/hzEIBDoDEQL3mQNqWfJUjTOBwzzNbr2WthUIrQEsjABR9gCKQ0qgHANjZUpSoKkS7UlcWekyRCAcIAMtACCoiutUgZd6taQiTYNEMs4OGaIj4wFbYoAOlrXWqhJLW//PkxMtnlDpalu5fVL8sTYuqgom3dUCcwJIDDgwejg5YdIsSEHhmkghM4JyLmAGnq2ltkGU5DJKBoBcwskPJPG0pN1VArhJRDQF0IyXMnhJQbxBTAFiTchcKlZBY4C+vjuiaXSphjjCxKA3jFE6I89T1mKND0SLs4MaffHKLESMGlDodqvMIpsHkK46R5Ywd4lTTcFydJuHuhIXiPlD+FynPxzXixLTOzMTPKtIScBfxbBuocnropIGYjiHD4MMlImrGPlHrsTgLkb5fmAwUAeaFiSBqMhlM6Et0FYc2iVwVTEFNRTMuMTAwVVVVVVVVVVVVVVVVVVVVVVVVVVVVVVVVVVVVVVVVVXQCEAunFLq6cQjAMUAhItJgwKHM3fPAxJBQwCA0aAenXogYYIhEDAQMNU/NIAxMHQeKgDrKMCAIMBBCMwQSMjQjMovuOtuXMSEwNJRUMZAPMSwXMCQhMKwbAoTmVhzGGgWGipFGHRVg/ITNxBBA0ImEG5mhJszZIu0jw1hmCtzNQqaPTnUiDrFhV/roaioGX0MIMmXFi013fpYXSJVqfLqFzkhVBlu2lyIMEJMvEKZjyGCKlSrsKhhwBlJBU8KpF+nEUXZkjYpmkGXUfRLxQtmiGzDFoorq//PkxNdqrDpB7O6zICKCIRooLhZNeisoUAbihEMEIsmYavMW5ES7JWDqMqqqcK3ggeBiEFgzA2LKGEgq30MnqokwFEETwwNpUOwE/DotNYI0p+n+cuNzdO9i7XCciSO1ArMVHWBOnBUuZ+sI+qWqVsBsAiMF34FZ7AbXX7jiX0xLHmdiCoadiXMMIh3yeCH4rZjL2JbBw0BrBQ1Gb8ZpJC0Z3ocoJVT03Mm4rRfy2qzCjlS7lK1qqUzDhsBXyEEtwSKqkAwGLT2Ukyh125vXACYaKZdZr6e7uv9PX6eA4FkaTEFNRTMuMTAwqqqqqqqqqqqqqqqqqqqqqqqqqqqqqqqqqqqqqqqqqqqqqqqqqqqqqmgkMkBOUVAx4GZqucw4yMISBIQMVOTe4U30/By4v4xUBgwwUGyMbGRpzChOl6o6DQgsEZopiYSgmYk5lW8fVTmO0xpB+ZkIGeoZhpccJkZmycwMFkp0TxxD5hkp985kVJi7oRDNudMSaLARIU7lARx1BcEzhHhsmTUToXqFgDyF7p/23uUOUslCVbTnbXYrWiwuVBhHxWtFBQGCi+DPkpUjGcRxXjoxIOYkatJlyqiNKk3iM2lV1kAJiBrK33WohUnApmypYdYZBkBDC8i5//PkxM5oTDpSjt6xBIYEJQmdpf2BDAhMwChLxsGLkKjShfBxILHR8ljYgKszhLTl5z2loBiEgnQkN3DgAABVEIjHIZb8MOhpEVOoESIpI236a92GJtbcAOzTqVpJrIVPNxde9Eyl/GRsfTJja8HUVG1Fa7zQG47JkzqWkZZXaO20obu15+rkAKANmYAlcXgWu16Euqw5W1ryExJVPKIxdlzLU584Yldp3mGuIsd2Hcg5FNNF+YdgZTZV6tsYVO/SEiqFBolMuTEcFr2DYFNQSBAUviC2NqBKotul+xSdjk5VTEFNRTMuMTAwVVVVVVVVVVVVVVVVVVVVVbgYgjIaUBypYEHn8yxCIQUz3PG9IwMjBxMqwAChgRgBBc2NxAAMHCrFTDQ0YCDOykwCHY1QMoyJQ41DFYxgDYx0QoxTDoy+CQxHbE49PEz8DMaHEAhQYGlcY4jcYAimY4D0a4zeZICeYYisZ4lKYtB0YTCKEDYZxoCZYhmCxpA3N2BIipgSJn1xtUqjhiBKUAjLDBFvwIADgoQiYE4wKSKvWHcswYEkCqWtOQcJnLjAouYUiHDgsBBhACCkoy+JlRZ08ZlWxsQBpSZjGiQQGInRHoI0BSHMiZmQLlsjAHXPXy19RUDJ//PkxOZufDZR4t90zISACw8AhS1xgCFoEADcCkdYgh2QhMkZMmUM0XMMfWBTKYIX1Q/HRRkUYBNBcWFgDDkI3dL2tupoVBoKET6AxprMExR0OYAKhIQmqCL29QaR2n8YbYeJtpFHK76NDtUjLnqik64DK5XalVuc3CpqrUpVeUjSnKWIyGWvO7D+ROG49Ira22VUUBsgfmSwArGXXcB218P7DT6Pe4Evi9JSRVw30fKlu3JTQNVVPnGlhK89IVM1ryeM4sNwiVp1HKux6phXZcFAC3m6Pxdp4HXY4kvfC9uyTEFNRTMuMTAwqqqqqqqqqqqqqrF+AqeEJ2mDQzGvz6GIoDKgBQQly1wmAQHCgvGmQCjIAuglsYDgOYEA8OoWacrgLDaPAgYnAoYulsZ1C6DScMPV4PuFJM9yEBgHmCAtmIwJgoKDJtPTek3TIomDPcujGsBGKjQfmIShmp74m5jNmF5kGL4XgZhMwB2uHOUx6wEbupGEAwQals1TPwZmCGRDwYfGDAosROQYOZmtv5x4GNUhj4oDkMwoEiJlR0a0JGQlIKURGPAYPRvQwBTZnNEKIsyic0RtDESM7Q12jclM4Us6YQJAaaraowi0s6ECqOrsNhY3CjjjEnAwpJEB//PkxOxv3DpQAO7zSBKkSkIoZAQI4FWWCLRGGULDCyTOgUcoi18ueg4TEozhAohEgAuE0wtgGGCMcHEA0Jt0txGOkcYQ5mItwBwyekHPr2HXOYc40CPxDMkcmRSCD3Xi1l03IdaC4Zfp5ohQsKUOeVzNPLTblUSkMeb1RqOOQxe7DbAVFUF0bCABLlqjer0bFea5PIsypkzlFAsmWc8q5meAwMDJt81hD9/KO030gtu28zLW7soswCtICCIqu0+sPZu2vNodZ/JM/8Tm4v8fdlW98XSjOTwOWxd+e53LVLP1TEFNRTMuMTAwVVVVVVVVVVVVVVVVVVVVVVVVVVVVVVVVVVVVVVVVVVVVVVVVVVVVVVVVVVVVVVVVVVVVVVVVVVVVVVVVVVVVVVVVVVVVVVVVVVVVVVVVVVVVVVVVVVVVVVVVVVVVVVVVVVVVVVVVVVVVVVVVVVVVVVVVVVVVVVVVVVVVVVVVVVVVVVVVVVVVVVVVVVVVVdoROaI1Ehqza8uatuNOo/Seq+jHy2Lcc7uchMNTTtD8mAgEGmKCAFDwopG0f53A4GAnXbWMrYYKDGsWJMAK+lsPICSgQMKyRafSNU7l8txIAM1gxRY5Abl+0YqmQOJITLLz3UPBsECX//PkxGhO9DqXHt4fbGMSOnvg4kxDsMSud2I0CQKXle/WsFAIRPW6lasoe4tXDPHGAbl+zT2qZ2gkVJ2CIruCSQa4OSmkrRXIH855tVwiCSI1mhwNQDOJOnosRrlTICYdhNGw27K5BIx43QYXXS7+cb1Ci61658sCM15Y22EqrMWJX8RwYW+A5GmXAnCTNU9EYwrLQQ9jcmdsaU++Ol+aPPW6wzIWWQaZfDywhsWA9dXlgKu0Mgh0HGJwLOh5cyYOJbGAwicNSiTiHLod7OyKoG+onK6ifoqAI+lLDLQuOpWpTEFNRTMuMTAwVVVVVVVVVVVVVVVVVVVVVVVVVVVVVVVVVVVVVVVVVVVVVVWlAAdB0sVxeqCAA3zUBbsp2DQEKgFmE5jMxtCwMMBXgOgSYZoqcHjyYRDEYDjCgQHAAMAQlMP0BNhhHkjE22kr2GCI+GYaMGIYWL4SyQEAIBNGMTaM01ZoBQigHQxgWfCwQbrwFCOAh5I0CBKcJVHTO8g1qTGi5j5lI8Bh5bYABDHzkHA8nicucdYAArxlAgELIKcgg+ZWYMRmPmwXlwcFCokBg56jBgIMKzREKJIPfN0arnCA8SUe6GI9KZfKxEK69yLP/qHSTM+DkwGAq9cFQVQ0//PkxNNpjDpy/u7zENwdUzHWWvJEWVITZp/5bMX35C4RExKXpisHRFjQhOdd539dmCTaJNF418Qw/1Fi/SWpgILDqMOAvKalb3uEoy6LxwuKR1pTYIEwxlt2WUr3wPhLJLVVe88nlNZwE4C8D+wYxVhsOteQIIjI4DBYAHXo4zvoAJ6ccmMx6cSoVy8Cj6VLmtLZatBg0HhwokC/zWSoFIKKkijqP20Fc0DvwhyXMy5PgC9CQkNNIglOdOZQBxYFfZ2oZexJdKBwWVpYIsLvedxGSwMOEDpTpvonI80q6haqTEFNRTMuMTAwqqqqqqqqqqqqqqqqqqqqqqqqqqqqqqqqqqqqqqqqqqqqqqqqqqqqqqqqqqqqqqqqqqqqqqqqqqqqqqqqqqqqqqq1AQAyNARx6uBYOaSjJmosDAFrxrn+GKbczFwVg5fwxM/Ewk4MJZY2GRLmHQcxA7NqdDOj5RdyjDQZB4RjhrvAcUCF61otKYCsCFzJ0p40fZvDUddpOYGMxN1E41NRuYBKA2KAOLPCnspWijCzNNzDIhkCOBEzYSsgyKox7s+0YFDDQhhGFEiw4AMusDxzOVH1WpdR1pIIBqko2fSmU5oTU8oEhitLJFDLMgCBct4GGNDWqMER//PkxLViFDp2/t6xGGajRNpqRibbljAA1p4Maotrvh9/3BBAxAJmcsnZqDEES3lCHvqvzOqrGUiCBgsPSUIKk8ECMLgStgokhLpImMNZdyB4OjcNR2ckUZj1q1MWpiU7hylpq83lPQ1SP806VxiXUDkMjjcisQ47FVdDquFBbgvYu6Grj7P1KZbJWm5t0YjMSlgzBpxqaIs+r4UC476Qcjc9MsSOZA2Bgy+GmrobAicvR5lg1DQOlXbP7ajDc1fKigF9oaazONagJ3JyVvzEX/Ya/ESXgDhKebxOJyp14G2qTEFNRTMuMTAwqqqqqqqqqqqqqqqqqqqqqqqqqqqqqqqqqqqqqqqkABRNPxc5VTEYgHjOFTE2UEgAwYITG61PBvAOTwXAZgwAsYe8dB5IMTOKMMJBkVCQYEYmZQOaAcZeedJGjqYwQHDi/Zh05m9QCnKxP8yxfCb5e8waweXKahg0wYtJ4KpSCQoWbA2CYa/XzdeMLCqhqixh5X0QjYGYgWuQkBsHpl8L0MIlOgZMYCAwRAeYYE2qY4YNSpBIFxH3bopvHyIVWwQggkGHFV22BA6Elc0hU86cGMtRqSRhpySEFe5IWMrBxzYS8ryq8epTFKJk+DnKKluCyagyg6gS//PkxNlrNDpq9uayvE0ifDzZ1On2RsBgxdh1YJTqQ2UqrMiZaWoMZAMJTCd4xjAwyol42i6FSNMhwLhmiakmgnVjh91AaacjhESx96wYcPAgwgMMBAD9qbs3jyM5et+1FmEO8luVjkAC6EvkJzYlABEAmG+qAth7dnfTofmTP25b/yNebX27hUcSEkLC2v28lbFIWoZgRt31UrV3I4lCW0elmSYkB150MJHhUvBwsqKg+ktqp8t0PBCEEvwBQ2XIJlZWToORFASog1xE1sghBlqaEraMIRH9bo/qaMr43JCmTEFNRTMuMTAwqqqqqqqqqqqqqqqqqqqqqqqqqqqqqqqqqqqqqqqqqqqqqqqjAiVUWFhSScUAREzIcYJPwvkx5g6VU2YJZqwRItLFu4XQDrGRpfEVCqUKqA6iha5kUVjJ2hVSGgGWIjplLDtxRmANRgpjit1K8v/DzpJrogCQEcmJp2QeimscKAKxw0yxbCdDwDBbWoS2JaLE0dBQVIF3kCTXTCABobQLKGCoQUkmAw0QBqVspZPJVVF+uAv+HJU4rrq9XA48vLry1L9F6WMwWFSOLxu0sI8LACziElx37XIlIFwwwJpyQ7HkBD/tcKp4XKEI4cyCWxZ9XANKJkWd//PkxNNplDpzHtYyXLgBZUBeNhWEUwJgQUGgOFRS/wdE6ACQQ3MUxAQZUBlLHYEIAlAT2WAQBC6Dxxk44GAIOkOYAAXJJnxYxp5Z4L1mCAAtzaUARhjJCUjoM1CoKRBEW3N65eokAGgSMWsBgCmawpggqpsHc9xBCSu5FcLju0vNFMRGIhmOGMhj2MQKgKtaKapy+aEECMwf1a8pglDZpLHpNJ6NB+BJiMNKEY4OKBQ94Qgs7Wq87NUbXOrF+0unySHX81yUmGqNEtGRUWoiO5CgzkKkZe+8ZftpsFQifWHqxiddL5c4hXHDTBYyCjKaQ4DSxpKR/Xl4yFwHtciMJvPcwykaQjytUvC7i15EwNzHqYkztSL8LOo0FFfLaZQy2NpztabM3ghBPPxIJTNGQEgmDqbJhNul6mkMACgeoeBDI0QVTJhoqUApQ1oQxIQumy5QICiGOwtnyCZRaGUGn6VMkQrQh0MKFStMCSL9KwggOX3dgFGiIi54sADiSQLZh4wHTSYCHIhADMgkNSAMCgNuiEQ8AsjHik0QSiNeSRENMBFhwyGHlhmiYFIGMqh2Uzhc06AiBmXeIemiaO4eMwYgyVGAc9NOlMeZOSeOKKDPplkhmgJklR0xJjwgRBMW//PkxP925DpMANaxfOjuBguaN51NCrNzgFRBniB1U5hQBnx4JCAqEakaaaQJbTbQQcnMWaADQ4yk2sY1p8yD409kxYk1xgwg4cABws3h4ZnFK02jozgIauGvVlBgRF0cjHkzIRjVsWdiRIlZjBILkAYHBiAwbAEEjFHgYNOejMIPElJjUoXQmMZHdDkRmHDNnzCIwMEa2THViGRMmvECysAFBLSPDDLKTUm1OwYlKcHFC7zQ4QsPYgjCRQhWAkG+6q7K0ERwGNGEcI2sos4X+JFGhzZQwoqAOg8Jd9YdAiWaKywWuNpqNC36TEFNRTMuMTAwqqqqqqqqsKLhAggAbCYChBGCcMR4olbcTrTjDIhBGRGEWUxPzyazlJqnSRjcPgeJPECqBtEDL4i108OYcCVOxSHYd5cHUjSnSbE3SJRD8AiB2GuZhypQ41FKJEPgQgv4txriBAaHu1LV8MSkyC67k8WevNKWUtCb6H3gTFEIdNhlqhi8k0ICQmLDp9sPVWLeJfoSEiiIyDk6AcxYZDEKAgcNctPnNMZFYxQeIGcCDhRmIJCCEQFjwKSAQeCC4yLM+QIRpmDImHL8GlPmbLkiEGBEijXBliBY0pQFBxiXRkFBtwB3nxnhQC3AqOa1//PkxOdujDpWIH6zlAu4YgeZaIAmBsuw+wIS5HQOC3Mk8N5YMY0JGYtaM8DMOEMwgBYUw44LlTQTEDioWMQdTeMM+ERQ0zo5UwKNDNAjIjjKMQ46DAQqtQ8S7NeCWPSiEoDjaWcOkRAKQGrSGQykgB+ImjTvBR4CqDpRxoCDGOCXfFTA7MIFBxpoimq0ZpTXgg1uA9AFAyFlEAwmB5swEnxS4MskGDjRoVZOEtSZgBJ1MPGWTBJDKAM6wYHWAolJOCFCCzLjmMumGjyFwmkMXftLwhBLXoCW7T6AxAaVhuRVTEFNRTMuMTAwVVVVVVVVVVVVVVVVVVVVVVVVVVVVVVVVVVVVVVVVVVVVVVVVVVVVVVVVVVVVVVVVVVVVVVVVVVVVVVVVVVVVVVVVVVVVVVVVVVVVVVVVVVVVVVVVVVVVVVVVVVVVVVVVVVVVVVVVVVVVVVVVVVVVVVVod4fe62RpRhCACAQAU5zBRBTME0EcLgiGA4AQYHIbJj8llmgoXYYtQDgWBGHAnTBBAiAoEpo4JgcAHiHEfGmUDQUdCGVemfMGKLmEHGwVGTOiQJDTEVCozDokGkhYKnCmEWWkMQWgh4wBmzd2FMrgRs6AswocIFF5wUgLqqxrJMWDMKTB//PkxIVWDDqm/PaenkjaSYsWHCKZgD8RAUAKssI2gtBcFMP4yiWHCN80JJz+cFaYRto9IIhfR0TeG1zL62rlCojJNhubV9rRj1fZWk0H9/BfqZPnIfyfNJwbUybxuxXi0ohcXdDlLaXGFDlXaGPlE3qxps/XB7D5O4gq4clO/SBukpOl5HULdFni6guPpW08Bm/8h+ztjukd7E2k6olmQw3Uo+bVTIrmaC5K7W6xHKFHYFu14TNAVrdhm3dlbVwfx5q1DXJKNadevlehhlObyEyQ1M+OXV4cr6kmm9cK2V6qTEFNRTMuMTAwqqqqqqqqqqqqqqqqqqqqqqqqqqqqqqqqqqqqqqqqqqqqqqqqqqqqqqqqqqqqqbnjmIVDGkEVDAKBBMAIBoYAHMA4BEwNACUvjCHDAMMkIsxtjizBDl/NDEQsw5gJDDGDCMX0T0wPwbgEAqYFYHKzjJtJyNUBhI14EdjIoBhNehYxgOzDYQMFBUxuQjWAcPBps0hCDczUDIAYJCagCWDO0qzBgjMymcOMa0y9btPovgswFwmBCodTiKpUECFJ5jcUUPFAnhaODKjbuDxnARlfkxDQ4o4LAcopfFoalTVI20xtCENaydEdwiL/PC+CqbBZE/fJBF51//PkxMlnNDqDHvcyzK/NEBgOET4hqGlG20m3ie9Idr8ByuGHpeJ2dJuMMhqBIcjcMS2WOkyct5LY1TTsXsRdhzltfaq3rbvpAbuwPMPk7LXXXbxx3AWcsmIqOLBsjaw1tyqCUsEadDcRxrSyWUFihn3jfefiVJTR+mgR24H5JFdSmB4lFX3yiVIpVMN+11QxWyMyqHICatDFC6SAB5ItDFrlWSvAvR+JVFJNQxiYjEkUEUsoZDAL6O07bIHQWBdaVQS4sthtmkyme0yBpJGX5icKXyzN7468T32pfKnss4xSTEFNRaqqhwBAcZ6QCEjKYEACC73XIABCqAzBRAACYAwDZhcBABAe4QBCYCIC0vioqAADAOgwCUwcg8zLLgaMaA0ExHgAzEAijE0SRCFxlwLhg6KJkUFxpvQZrs9xoYOZiQEJgaCCa4OAdegJCULikaGKIYNCCY6ECYRiIZIjiBAjMPANMVhsMOE8OKOsNe23MNisMUwZGgVTCQjQiT1MFgjAIYmRITGGwEsOUCcmmeGcBwCmF4rGVgOgIPlNlNXtjLjopEAeGQAsmPIKGDwEqdSycpY2CSJgS53x4cQkkvdKcr0QBDmrTjzBwpumxgWaQmAIwZocGC2TNKoKd4pG//PkxPlzHDpu9Pd02O4YA8QpSgCrbAi9J9mYXAoEyBmdI+YMFDUkZY119VzhAc1ygEh4ovWOPxMIwFwTNBDHjZ1l0N3nHexQR3wSNgxxY/YkUGbfxfJdyR3pbajV2LvSsI5blO9H4Q4rxwa8QhHr5TsLmp3OQpGhRGclFBfimDXmVtIUqlTES6iJNlalltYfhhqKdJEISvXJD0Gw/QA0MIgwYJQrZa/VNHXiZ+qgMBBwKWkV+9bTGtPy5Rd8ZEoeOC981hGYauQI1RZMGz1DEaLj8qYpkz8Sh+KwO4M5F2v1TEFNRTMuMTAwVVVVVVVVVVVVVVVVVVVVVVVVVVVVVVVVVVVVVVVVVVVVVVVVVVVVVVVVVVVVVVVVVVVVVVVVVVVVVVVVVVVVVVVVVVVVVVVVVVVVVVVVVVVVVVVVVVVVVVVVVVVVVVVVVVVVVVVVVVWYM0FjrLI43R5dDCAIBkGlgwYNStkDdza2BrEbdWPJOvQ80EsEN6C0RG/hEja21x5JoEt5ABu5jx83+dVWUVJj2Xcx8S5TZw9dh5IQzmAOpvh0XBINEWzF9030XhwdALQBDW9tVpVBUfR2MGJBakSYBw5vcJ+HlFS/hz7AFTExNkr/S7N2VDTGJTPjmArp//PkxI5YfDqu3t6zapDYf6tLlpmowmrTuI5L6Z71BQVAHE2bQ1DsevxWXJijtQCOUykMD0N10YLMIs48hGQnpSW7tLOszHgQg50H6i0aikPPy4RgMmcU0+hqVI1DbeqbIRW85bJp+ctu6yFs1hyt5XavYlEX6k+E/Ww7DMAS+VtdnJU7T5z6crzMsTVdFkrpx6Kw8n+SCvnUgeTUMPSVwnRXA21qXa+NSl8E0ngnrNbGrNTcAKD08UaTfpZxiSWqwrJmm34lKLm4lFxQONRqiiNBrGJO0xeevW6uVBQ0S5JaTEFNRTMuMTAwqqqqqqqqqqqqqqqqqqqqqqqqqrQEIS5bqQErhAc/pQAQVDYwwjMx9EkBAUxFVZggFAcwTFgwvBQwBQw5d7M2pJcCBACAHLIGCgMmOQ9mEoYGAoqG12dn/6eGPBDhhFGCwAmCYIgIFAMCbLjCwEzNH3B5oT8QjDDw5sjQVAqQYCKiQUzX0wCwSCoE4I4rG5ZcUGGzmBTWkUopDPT7kKYr5MIlNQKUHqboH1jbczAETPJRCeNAGX5HKRgbDgANNU9NgUNPFNiVDCiC6+Ey15GLBGTgG/MmgUGnFrPVpkbkNGAIQw4QQkyY4tdOh7VsJpiMsZ2wb1md//PkxONtxDpd4O6xOLzhy4YGkxNyQqDQSm4pny+mBomAhHIcGUDPw0cQCkHgKCrCAKMgDHBF6QEpmvIt4glPjTfYBwaWvhUFKjwghDml9lb2IJ0RRmbzyFLVYjH2aWm/gGJS1FZRnOItkcxnDsxV+FNkwlAy0CY7J6ctqMjVCGDUFDuJ9tZctAtPmUEmkn3RV1DLNnjVIuYFGKu1NmHNzkkCS1oTcSosoy48BwmKO3FltsmNbB49PIJyJP5Ms4fdhDWYLfm/ZgeMvezJk78PvUh2als1KGNRWdou2q/K0ONbTEFNRTMuMTAwqqqqqqgAYCAIAAzPgOMGiswIAhYMBYDFrZ5PAx0DTJEZK6WYRB5jsbFYqMDiwvaZCFYYDjAlAEMPAa00LRezDJBZME0BMDBVmAQDeMAKhwC5gMgdGDeHmZMR6pkOD8DwvAKBjEYEQCAJFgHgsAcEA8CEP4x7SPjCaDxMIUCVA4OAFa9HH+ZsFhJqH5tg0Pu/CI7ALwvaYEoZ0wBmQYccSrSO9LGuplAEUHA2UXd7fWw1lMUQAxoyGDGVW35oLjWqg4AMoNTCQARSG3Ro1KQsHLnGjEBihKte/yqPT4VEGNFGDAgI4pmkWt13jGBRgqbCidKOYSUa//PkxPJxbDpi1Oe0sNihyIGCkmHXT5KwAwIFhZmBZiwhpARcB5X7p1Qw2IA4OMAEOBghfBTNQpuqXxgRRkwCIacEHNRVEYYIXMLowG1lMFwpcw+Lxm/PyV24fas3+LOIQ5ENBcI6pQDdxnEeT4bg2iyAElCAI4CTCQn0ixlhGnpoLplCqy/2iLijrjthTkbg8a6CEAhPRUk7wp0rjdUKCla21eKJv7DrT3TrrHYMpuXIhxGxYi1EQFhUeExmlF/I8u9Xbxpi3HWXKra9L9xB9HaVurvGvBtXCjN2jd2Uw27FTEFNRTMuMTAwVVVVVVVVVVVVVVVVVVVVVVVVVVVVVVVVVVVVVVVVVVVVVVVVVVVVVVVVVVVVVVVVVVVVVVVVVVVVVVVVVVVVVVVVVVVVVVVVVVVVVVVVVVVVVVVVVVVVVVVVVVVVVVVVVVVVVVVVVYghUjQi7Y03IYIiRCzDizErzj7SgFTsxSgC48nINTBqQeoGDBF8UUV5LrMKZA8AeTnj8GtNmFxmjTmvDwJGxUOQqwhjJ4YQZcgtsXzZCYIUFVHklS1cp6f7L0u+n07U5GIbfdAG1piBAUW8NBfylYmzCabxlkGp+qxMieCQX7SmbtopPUgmdnOs+LRnAlGC//PkxI9YxDqe/tYfPtlZSCkSiiPj9t5IoEYQs9l0YhiGJJObdOLv2hs60KtN3aHNytTsv6hqiQ/kqaVfaxHrThMTZNKqB/YYavHKeUvQoA7cdfyHYJfCSQ8xlWtjrNX7DDZPW7cYpJfcYKmGwE1c12uWswz3TJykFRKmPxUIUPoIqrEKQmA0S7k/NE/nxBCRxBgilTnOS8dRqiaiOoaNAP4UTOkDzIcWRIDOLcp2tyRR3qEw3ikFPLwZLxqMImJIFE7MAuZ/IaxoesK9jO8u6rcJss51ptXtcBgWGyBmzWzUTEFNRTMuMTAwVVVVVVVVVVVVVVVVVVVVVVVVVVVVVVVVVVVVVVVVVVVVVVVVVVVVVVVVVVVVVVVVVVVVVVVVVVVVVVVV1JjoKSJJJwOVGbxnPEsNFrhkjTuO4YM4a5ePFEfjCL0AKgJYDBcegqAEZuMJN1MqQAAaF4ECFnjAobiOCoDyzSYy+guCklAAiBUsjyvBsofAEiQjcxBKZEZY6mYX1NJ4ziDxcBF6N4CkHmkyzbgMukitsQiMpkPxkwcdZJxIud/EUxZZCOMIQKaDzCEklYJD0F3WnQ66DKWytzgmQNyk0HJ8PnFGHqbx+FSuVLtaGFArtagku3rClHGv//PkxLpjfDqGPtZw0qZClacqS00X4d6KrAqELNRzTCRnglrzLHReFfZehxk9W4LCyt0F6uEre8rYU54uoSx0WEJAX8s1YlA1BfLat8rbQQwh3jb9xuTuCyhrzrQ0zhc7R6WRq/d5IdYVgrerhSmdKPMCQ7J0vw8aqKo5ltw45KFHZoyeiuYSXzacXpUESodBkLUI++SfcFSluyqjN7jS3Jza6wpwGxsma1JnBL6KrorIBUb0Dmcr8EhOmsyDWLqxpev5TsGUaWemK11tYCZA1QKhdxWMmE7StbSX9dV0WuPmTEFNRVyI2go5oIJTQGsLN2UBZGf7DhFn0ogMOiAWEhkZDhoUMJJDGwIxMXEAYTFScREcDKOZeKHFiJnoke6qGoDxoySdY6HARB2JkCC408YMOPDJy8zReNWhh4MNPMTMbUzVRKuAYGDgofA35ikBUMBRjQYDzDGjGRYujohUwQtMZ4KqyswY419iKQiR4NGU6hkaLZo0hmRdMQro0MsYCn+zluIGCayBj06G5LMLyAVAOZWqCiQqqAABC3J0OCrwYCgKBYYhQUBSdb0y8GcBIyIp0igg4yzDNJQWWCGUTQEFsRX81yxZ48SBjA5BhPo0Bj8nPQ0mdMZZQQ6LQa8a//PkxPtzjDpEAM7yXGsY5oFHYgQJhUwOSQBBhpFWYTiUw+sVHjJbIWxC2DYTYrBF7jFzBEAIJSzoOMAUwMAM0YAiqrooJjLpMMBIYYAVXEAJSsOlA6JIZWNIxKE4GyJIBHlpUVRGYZZCBhkIs5DggoWVSjRVHDzbARCR/Ds1bUhzEjWU2ICrghQtG5E8SsNDGii8g0S3QCgKbuwugBFJ2KbGEAWcLholIGyFYCGlvD0YgAAIjXKN02kqnfljMfThREjxcZb7A3lZ22aLNjfyOw4ji0GKW1mRaeau28UWsplVTEFNRTMuMTAwVVVVVVVVVVVVVVVVVVVVVVVVVVVVVVVVVVVVVVVVVVVVVVVVVVVVVVVVVVVVVVVVVVVVVVVVVVVVVVVVVVVVVVVVVVVVVVVVVVVVVVVVVVVVVVVVVVVVVVVVVVVVVVVVVVVVVVVVVVVVVVVVVVVVVVVVVVVVVVVVVVVVVVVVVVVVVVVVVVVVVVVVVVVVVVVVVVVVVVVVVVVVVVVVVVVVVVVVVVVVVVVVVVVVVVVVVVVVVf67eKkjabcL3sNJkBKAFSC5UlQsWAQsw8E2a0SRlxkzAUNky1EfwQAHDJt45FjRQ2shhaek37pucudzyUMtJR9K8KGg//PkxERF5DqqPtMTenNCAa5atCdDclBrqwsIb903qZq0OAXGc2jTAUDszfdkDplASTpUvUlw8KxfQi6OxMxEmiM1hkAwEyGPiVDcjLZqtxDyIxWnC2Fhsm4IxdIB+QC6USoSFicR9Fw/gkbLzVG024Tm+jqJx+YiKUmdOFQ7VLpJRjyaD8hAWTE43Qlza4/NKLK8g+dwKVI9GaOhgJUUJmWlZLHtViG3sBYEodED0ZRVyI2gDzcU3OxfSMifScSCSbFuq1GQ2SKnkNzbKIkXaidYJETLsdKbUYpD5VpH/2FVTEFNRTMuMTAwVVVVVVVVVVVVVVVVVVVVVVVVVVVVVVVVVVVVVVVVVVVVVVVVVVVoAJBChAAYUAh4iQADDsEiYBzCYGVAQqHokCBIJpuEbxj+GhlkhZiyKRheUwIAVykzwKChgKBxh0wp7SZJmeYJiUBphOIhg6JRkGU4GGYwTBMxLEowaJkxY9k9HNE7cPHFgx86M+MzvnswgSMdLTNBglQjq98aMgcEoohcBDApeUH22DFReSmsYii+pZEWOfpQFFU1CT5NQnolQBAWEWlzOqOuWQcSUvZbQHOlKYMgdaadqsLz0SMq9ZiKw2sOAjygNeyCZubCpywxV60nVLUq//PkxNBo3DpavO7zBFYaHp6AHCQ5NFgMdUBqpZEYDTgXSxKJIdmDLbRKGmyY9Q5uTRYZXiEBVHBBJoNJYOvWKtzbxdL8Zl9HWYmqB/2UIxwWjSrAspAOyldEbfdQJpy5nMqNZgJjLXHzgp4cY0zSYX7Wh5yY21VlrdR4JUw6ArfG2swM9TJphuEll8Yju7cSfB2F9OM98NsyiD/X4Wyti7zUMjgBDNYdxXUbgpW4rAHbb4kGGlGWXrDdZVB6SUfTaQrj701rq0nVS1ZbTrnZQzx8X6cJS5pbMspmM3HofWVqTEFNRTMuMTAwqqqqqqqqqqqqqqqGAIBTxIBcBAupFK+dEaAFMBYAVbAoBY4oOAZMU0WAICAMI8BgSAUMAoDEsiGAPIDTASALMAkEAwUAVzQSHuM/QNMNAoSKMFAgMcg+MAg7CoDigImLYHmXV+n/aAGIILmBwZgIFTDMcDCEPzD8EBGCZMB5hodRs85Ri6B4sBgIAB5ggDCIgso7rFMIMDxAEiMA4QcwKABjBeoOFQMKEAiMzNLdG4MFhCBwY+lPhYeMRgoKC0UbFI7y/JZWZGqkglMnAnXZG/k+jG4Oy+hjBYa8WBxFJGm+yyVxlslAloChl+YnAEqTogBaCrTG//PkxOtvrDpevPd2zFBDloxcSAIAp6C0+1Vo21uLCAUDkVOZp7w0DzrRon5MBHTIwUCBqVUDxRhjZX5hCJ4hDSgaTFhMbb6dZCy1ti6KRLEmZrBRodAVjrztsRQRSx92GwREIREpuHWULKac+7eN/Zfhrz4NxeFJ9ryo5tRNH+B2vZu4rYxxg0slEAQwp1IoYaRLlgFSulKJa9NA/tEwaMNYXU/rozlOymBbSX4FBTDB0FADksjcBrrRqFVCH0s2csmYjAaDDntIeJZbK1UmksCZIpm2JRalp2uOI0JpsrjFTEFNRTMuMTAwVVVVVVVVVVVVVVVVVVVVVVVVVVVVVVVVVVVVVVVVVVVVVVVVVVVVVVVVVVVVVVVVVVVVVVVVVVVVVVVVVVVVVVVVVVVVVVVVVVVVVVVVVVVVVVVVVVVVVVVVVVVVVVVVmENjVEd+sluwsMWUzDNHJCODFK4fGAB1GKoaNPARimAOzDz9I6m3anyLkL4268LADHjxEU1jXCpE0JhZyGTPErV8KqAUKMihVGdMgeJC3rD3jgR+lYG8Bgo1FI3jEvi5D/yhkqfC5DAiQgcbv+HWhIGoCocp27T9vgkuEGgopnUmY04MNsXdBSsxzyVIWOSvjL/OozZa//PkxJZaXDa6/tZfku/Js3nG8ci6PrOrViIV447CmDP2szl+Ym5PAa92KmiuDoVBWROOpZAE6ud7ASKWAkhW1gFuF1wGZl1wEeQjurF5KIBEq4GaDXUJME1TREZ45c/Kq7lISy8YCPT0V03z5xl3mCLma3Ch6x6j4syn03Lg8DocUEyohy922I8Zy/kLFyL2oU4q1s47lAO5PrKbEswtK7YqjzMhlMkNkscFGIXHSDOPlrSpPzoXaLYDmQDO0pAsCRkc5IaqgvE4b8d4zRruW4q0xHAzJFxy1n7PWRDL3hzqTEFNRTMuMTAwqqqqqqqqqqqqqqqqqqqqqqqqqqqqqqqqqqqqqqqqqqqqqqqqqqqqqqqqqqqqqqqqqqqqqqqqqqqqqqqqqqqqqqqqqqqqqqqqqqqqqqqqqqqqqqqqqqqqqqqqqqqqqqqqqqqqqqqqqqqqqqqqqqqqqqqqqqqqqqqqqqqqqqqqqqqqqqqqqqqqqqqqqqqqqqqqqqqqqqqqqqqqqqqqqqqqqqqqqqqqqqqqqpgzYjSg60UpaDjMvZ8sdjaXuPWhgxgEYoGBAOEs9svJH1KDADDpH0kTBnGyg4cIDY0qpkvAIKN4LhmEvPZj0ndNFYyiIsXDiztr//aC//PkxE1IFDq6/tYZOnMJwUJCTDm7VS+ggMSDFQTKcYCxqsPu/MNLhtnbzLCz1//qRCMOBBz+0Uz3cTh9pD2pCJ3qWxnC/dzzpKtqre/8LFPK49DrhON3Gs7bD37Z4zFjS9p69UjDsQJK4Pf2xbr1c65mdHC4dTqUM/EtcYMl6Ay6KlFm6t6ulSNgzHaAxH8zPHIpJA/pUEGhcVGfLUHvoh58tIiQVxoCU6dGC1YMSqjLwiDwveYhXh8AyyGW3l90Z8dHgE0h01Z5CgO2HFDKJrMldvKfhYathTN2GZs7O+nqTEFNRTMuMTAwqqqqqqqqqqqqqqqqqqqqqqqqqqqqqqqqqqqqqqqqqqqqqqqqqqqqqqqqqqqqqqqqqqqqqqqqqqqqqqqqqqqqqqqqqqqqqqqqqqqqqqqqqqqqqqqqqqqqqqqqqqqqqqqqqok0YHVsaadued2l5FoRZgl/TZSFR0+Ihs6aFkpSpmrSc5pKxsHY8IcaCUxlBmnAwAYMmBu5uEZWAi3LVFMJzmLNlV0bVEAkUGyGbnJE/gyBMVGIoQEEiQBRVHsECDFIjBGwNWAwUuy8zrSp4EVEoC0aELWnmkvzCmCYCwaOzdVMWcyuONIWI8qNaFhZ4uMXGdhxpXBC//PkxJVaPDqu3sb0Quxx4FgxnVm5yWOo0VozfNxf6GX9izOFGES01VKmku6zmHaPJxXGYDFpuOy9559yHBhyBZyLO9Lm6za8FA1np0tNlEYa7BrzOg6sapsZbCcJPlScv2GtJ1OtGW1iaqTYX8fSBGovqz9L9ShYfruSCUQc1mAGlsQau68AwiALcFNu15kcTgt9bs5KnwV3DSQsphqj+RxqzBCQqr3Ll2Evjde6wwEB55ubixmIvorhuZgBEGscdNrGO7zhrfTAbZr0VitC/7tsjhasDwQ3g/kYkcXZnIojTEFNRTMuMTAwVVVVVVVVVVVVVVVVVVVVVVVVVVVVVVVVVVVVVVVVVVVVVVVVVVVVVVVVVVVVVVVVVVVVVVVVVVVVVVVVVVVVVVVVVVVVVVVVVVVVVVVVVVVVVVVVVVVVVVVVVVVVVVVVVVVVVVVVVVVVVVVVVVVVVVVVVVVVVVVVVVVVVVVVVVVVVVVVVVVVVVVVVVVVVVWFETENwXe5HDAVKoLFe+DW2xdsU0EkW8poYd9hEEtyMAlNIHciB6RpymLSxg6DVJ3goNChEVM5Hl8mUmKMiMaYoqYdmcxaKhLOs+TTWzEhFflsRqFMh1pgXIGsE0dKEsbeymgIIL8k//PkxGdOnDqi9saeXtH1uNEYRcAbxlNq+3LatcS2DBMUykW8Qpi6mOcEyGCrFVpubIaHmi2rqd+hiAhF3AykpThOjjTSdVMhol9NFCVc4KceCpIKbo/RXTxXRxnI3FwCRAGyFLkfxzEpQBGjKG8JsWq+pVY3k6kZ1wxXXLuyeYtw3HG4PT0beG5RG6a5bVChqGsqtzebLyVWqFli4gxYr6JJAbWfCcj2YHcSL4+IRpTuMOlbuK0X5hRSiRzfZJSCKgOLE+PxUU8I3XGRXOnyxI2KViTYrrOk1VbDXlXNbS3qTEFNRTMuMTAwqqqqqqqqqqqqqqqqqoUAEECCSjJkAJhaD4QAiM5geEoMGAyqJ827hAzkHWBlzuuRAYDQYMAgBMIhIMkTKMggNMQweQSAUEDClxqwZ1CdIcam8IlQOpiImBQKgyNgsSMcZMsXMaCMSAMKICCSFJdUugOjTdQQhOaHCYHkd8ZuqvsKDGgEPMj4Q+CZIIcWa6JhEhUM0RTjFeNA0xRzRNS7lRYDTzDAkPGTKgSwTMkQJEAwFsZKCAUVXeSIcpTYiMXULDioyarUxCGCgggQGDNwSzUkxN2xUQWIVSBgidzTEEhbxmKIxdB4YJauFAi2C7Y43N5q7EWb//PkxOlvRDparu6yzDqQ0uRlD1vMvt+aMwAGOJxs6MgJhwUJU8vwyQyQcRitsiIuFOhWVhpeBsQQAtR0GVhYhKdAHIBEMLKOskQBhGlrwWDMQZFFTdYdx3HgqI4l32rz7/wfFGxNAdN5GloPort84jxpzvI3NKQvYqol4pQCmDSJhw3iAMWnmhMU0YgkK76RilzMXmZk0Bu6wiGqI7pBUIkIToqoiCAE4REhwqAlVFC/IwOEHCEhnSHZK5jaW6R4EARqS4FhEA7OEFVWOqgMmXnUKTlbIX4VKjin1H25MNSPTEFNRTMuMTAwqqqqqqqqqqqqqqqqqqqqqqqqqqqqqqqqqqqqqqqFAkONwDKVFF7KTBodEV9BgKYGYHGrAgBx0NGhliyfLITAAdgS5zAgEHDyyXEEIEXKGg5opd0vS/qaRg4QhFAKci43wTcL7sJLnqotvEm/Xy4anxIIgBAaApGppi60tE1SZrPmgIDDIRDrIUWnAZAg619vzDkQJC4AIcXYLEKxFvi9opEeMBHPieXlzy+4OgIQg6YdshSFBM/LkIwg7J5U4cQAFgNAuUGJGAH+JVJGBl4zoDYpDi4nQCyCyy9jcAgAVGFBF4WFKVrAqvAkjUADMQDCNQUWuMSi//PkxNlrLDpy9t4zPJAgFpFNSDEiigJqZQlvqymCoC0qnz0wxFDpmEqcKaZeNmyb6my5wK9O43SLaAxKCwsMaeHoUVQOGXwoAt4CCBEZnACAYwxQoQb9oFABMI4weJZgjn2qUFGySDhmGCBY1kh7YGthcweBJBgYOaZ7jy0cDATahqdaHxiBCB4HkMMBhhVBJgqqHxfBQhhagbK3AkMDtZYhDT4qMyZShGxPF928bcMIRHW+m8pQEAM4TvaHCm1fpZ7FKN8mLsiXCy92moQY5CYC12ZtCopuXUzcLUpn5E5FoCiXC4iw91payAYbMUfKEqYyXcIFQTQlby0zxKXzaj1Iz1ymlJWqqp2M9aayFmtufk0OQ/AYkClEaa6oQw8gGDQPhf8WNiSRHsOVtwDgLByWSGHwx2DBqBoOSgRCHOyEuBkSbgBSFQMDHK2QYoEg4JOgAuIiJrh0FmEJGBFEI2QgZcrwzRRMnEACYAYMBQEUVyUBlyevoCLgGSDDqNL0Am5iAuKCjIMyYeb8uYMWY5gbEQbHEaAIYRYbYgI3p9xwjhHOlmNVnXHiIqbFoa0ITDDYBDJNAyMlSCmIhABnoAHgSZMGAQZNqFNWvTSAs0AjlrANuOBToGiYkVAbyDrg//PkxP913DpZ4Nb1oMcIUPBXoEjDqQBUkb1YIgAsZUvCg9ggkLN8MNAqMKBCwY3gAlGFBgwAMBAEtwAtLfSxIhQAyYAGFQUDCxUxsAuMYtoAhBhBgG/lDwGlQq/POsLABnsdM+qKBQGwF5hkcRAFKhroIAQFAwCNGRI0Z0ELBAAwMQDa0Y4GNRzmCS1x0TjTGRK8QgLTDAALAElmvP0JOy3pQNh8mApgogIkig01A4GCisoxhL5UQJBkQMHK7q3w4QXAfKD3maixWRNkZKy1bqmSNM6im9JdSLb9yocfBq0Qj0FPPgpMQU1F0radUzMXEBTymLFEYVcf71fT65cFG2k/6GnwTFDRZywFsRSJYQ8LlOQmc5bEIyw1TFxy/xmGhzAXJHBSYFAEnmCAULkIDXEXqIFBu8SGNV0GKAo0FBiEd4ggRBkvaUGNOC55gHLSBUIQSuoGoNJDER3E26EKhTKgzCDQqGMAwTQMKQHSgqiMe+OUANGtU3OInHtZZMx9Y4RwySACGzHnAuoDkYq9M6LWYDWhvjAkPByAzxQSGm6HuoYAgKizKNh5yZdUNWSbqUSgEWM6dGFgRnJjYIKmbImljgUmVrjPEgsHKCocKKzJjiBCHAIwmEmCMmZDy+Xg//PkxPZyXDpgoH51EOWhAkYNgJ0YIYKCTVF0Zi75hyRoiAwFNWCQcEA5VM2A0evmFFGLAlw1LkBqXBjgpKDNArLWhylI5eJkAIwINiVIigkOIgCI5MsEJUzgsMSIViIWLEQqDMKPBKQsFA4qY8SYYEzo0BEQBgafBykhHHMPmdUG9CF1wxYCii00EwkeFBReEECQYGQpLTgYgGCUEqGzRVNTGgjCGBY4agwWlb0ZDEx0v0zBIBL1Hxf8qWe2FHhLtbkfYknQ96l6ANNx5WqNQmWTuCwZmTD4u1CpIncfqBOVTEFNRTMuMTAwVVWVSKM/h92nbmpc1SIMrjDZdSiWy6amHYvvu1t1onQMQYiXIToVpU4iLLGFtMZQratlgz5JjsZgFuSL69AAYCRyQUSfFHjWUBWKSYYqZkpskGUaZA4RKYI6hUbDuzDNIny57ETBKIlAUmXqfkxhGDhCQoYYsBvCm4OaBYCBmGAFxjADVUzGCkp2VGQzITQDHMIAMYTN+FBrAlUE5wgEGYBmMOmHUlWAdAyZ52sKUijHEThLzTrjpjzjgzFhzAEgxUKIwgyDCQWkgJwpmCZJyGR1DxgExtCRNDOGNMyRM4zNiNHhZhLZhhIREL9mXHGzAkLcGEx8//PkxPRxzDphQM6zrAgIaYsyVlhCTIlhYJmWOjg8BBJWaASZAYZMiMqTEkENlHTRg1hXUMuCM8hMCYMWDMKFORBc4EKCiRKCne1cizM49WBFhqZCKWGDGVNAMOYVoGvAzwMzC6BgMmcWXySWEyEBgUFEKoCkZ4vYSzMIWaICSJAzWBJsu+NDiIILMgIpqY46HAqnhyA0yEzR5FmTPECmjqGphJ7yxKiXUyQ5UQRNZYMlBBKaiD7nMoRGvLNRIf1BpC1WF8EJyCJ+kVVKIoxZhTOWqLtZIl2po4EjlrKGPO6qTEFNRTMuMTAwqqqqqqqqqqqqqqqqqqqqqqqqqqqqqqqqRHkyRD6RCH5gAABJAmAGBUYUwZZm3qpmrecGZhAg5i+gtGF8JEXNAR0bRIGiAJqbqaaUllQ5NTsz1weejYBCmSEgMFjwZhGEwhcdoanmmKkRzYsXsVpdFVdEx5WHGui4EGgwEuGGAl3zaFGhhQ4hNMTcGlk0wJSLaCQgWUQoTDSEZMMhhAqZagqdpZYqkpqp5QNAQNERyaatUwRkro8X0k5bwOSBoBqFk1IIFGkEtgAqPaHmUkeiYIzjBcO2Q3YgecjqXbGBjcXAQgFKLRlAAiIPPQovIjSyprHg4FEk//PkxN5sfDpqoPbyZNA0GAiRJhDiIkCmI1jwRgGpemkaYBZhAmCESEqCgY1Phr4ALSWUuSKEICJScgkE/rCkhoJXLIG1TJAxKfMWWCb9OVIZBlbjW1cvihS+LSUMlXiANAKXRWFZ+v1ucPAg1UBACZAaXABGCBo+18wiW0bmWVIgS4Rf5uaKzWwwWSPu9rdS7rKW2LgslfV5BESEIsNSJZ0wKNcg1rqwrPEfpxpSKz5vLL6V/rzcWStKdahkDOmQsRa1DTlLqeiSdWq+zKV02XjdWKwa/L8xmUx61QuTSSq1TEFNRTMuMTAwVVVVVVVVVVVVVVVVVVVVVVVVVVVVVVVVVVVVVVVVVVVVVVVVVVVVVVVVVVVVVVVVVVVVVVVVVVVVVVVVVVVVVVVVl5WGrbJA5KsEYCwAYEARVACQDSqC0kCafi5hl5i9GAoBWJA2mAMAEMgwmI+RGaBodplND8mJsCaFQcjAyAvMDEF0wuQczClK1MgEQcZAPFgbl/GBcCsYQIOYJAfMKkGMwMALwcBgDQCjbszk0zPyT+BjnkASHMOlEQAzyYzSozQk2JILgAKDNWrMqXMaTGmZilBaotqIAAsBTwICiKoQadNVqaig6Y6tzFYIEzHrOct6aFzV//PkxLRh1Dp+7vafDAnEYlFQ9R9F2X8/3NcHI7W1YexpIMsciQVCUWj8FwJS0C7hekFPAf6qQB+IYbRslzVxlqU10ShKaqzwy4KIx0PgnpBUhMTmgxWdLK0V86SaszIT5QKxX9PPltuZlAkG6M7fvoDPK7UVjSMU+1ExnbAKqjIqWKGrdqd8zqo6ojxVF0Jwd4OcyyaJIAbfTIaukUrZzbNBTIaqUgb7uEjW9VvoDa8fxdRXbmqWDr5+xkML6nk4zw1QfLgsK5TKxh6eQxRKFTGwlT/VTQi1k7aPIqOZHFmVTEFNRTMuMTAwVVVVVVVVVVVVVVVVVVVVVVVVVVVVVVVVVVVVVVVVVVVVVVVVVVVVVVVVVVVVVVVVVVVVVVVVVVVVVVVVVVVVVVVVVVVVVVVVVVVVVVVVVVVVVVVVVVVVVVVVVVVVVYUiI19KlNygYpBISYQDKZhgIZC6mfw5nwyux3FNpoZADXhEDAI0EsjL3NEMCGTHUI0cuBQOLAgoImvxoK6j45Q3tqMtIjDR01XBPbdTjAgy86MrEDEBAUMQErHEHRqmMmUZAohlNGqQcSpCMg8r59GSsHWqwFUrOQPJ/IcdxtmSLWEbMQ9yEuzehiZn+XweS7Jif6cLuyGC//PkxJha3Dqa1t5fJkDBtlcXk80WhxCBlF5K4gJgGZHkcESqlpDUniC8w7TZ+MZ3PU4PpPTn3CUhKC8kLLgc6bOg6hWoYoVQUatE9OVQHUXYm708TqXRyluiroW5XMahiwLR1bEYbODW36gvIMFTKLSvjLRuNSRQKfOdmSKEoYhR+EDeHlFbUNcCVHkoh1g2k0JMTI6D7ASQiS4g1TDE4G6CaLkBv0ZbCatVCklh6hzC5qZ5HRSHtS8TpfSq2hDedhYnFwP1Xn6hUFCTuQ7kyhPlapjePYmKkTT7bQk31J6KTEFNRTMuMTAwqqqqqqqqqqqqqqqqqqqqqqqqqqqqqqqqqqqqqqqqqqqqqqqqqqqqqqqqqqqqqqqqqqqqqqqqqqqqqqqqqqqqqqqqqqqqqqqqqqqqqqqqqqqDREKEH6UcxdUAgZmgc/66DHa87miBR+jgwBe5l1IeN4nAEbcpTSDBIzro0oRazhQSXPNDVGqhIHBoEBARCSLFclDIbureEBCe5wSXZfiRvwVCmeha5QWEsPM8yVQOUkU90kki9WdBgm/Q5g5aJgsJyptphexG1hSEpFJr66Ui0zWlNeZgWsKqyq5XsWftgMNstepMZCcgnQ6F/UylnP+wNp6pEfV5//PkxKZeXDqW1t6wjiEYYtezmteftnZfxQlZaqiNS21g7j8OqyJYJeCgDjq3NLbinRKV1SBYZhr6u40F9G+jEONdX25jDX9bWJxh2lLoBY65LvymXN/7tOo2WCHGeVkjvUFWCnfn5VS8lEFTktmc5ymjjtOVEZY+0QhiYbZprbtTbjGXIeRHxvHKXkpWFjJgQhrzKACRkLQWSPtPLpgYum7NyGn3ZKpvHJ+X6d57IZo85SzBVzsNOpFNsVMqJ7olDKibkzD6XWasTbd6XUh+AXaUcZNEYPaSo40FU0Wqz7sVTEFNRTMuMTAwVVVVVVVVVVVVVVVVVVVVVVVVVVVVVVVVVVVVVVVVVVVVVVVVVVVVVVVVVVVVVVVVVVVVVVVVVVVVVVVVVVVVVVVVVVVVVVXnLuoJSJJSTAYC0TL/2QmM2AazEwWTD7ECA9GpZAZXL5g4BO+vAGKQ0GA0qQ4FhQKl3jNRGOGiyDVeskHQY0ScNFDFRu5B6bhg+YEEYGFJqUM7AGIaSNDoChIZIOgRog4c6UNRVyrFFRV4McAy6CkkuEdBp5QPYBAs6vMxsbIgiUasUiUrrW7t9pZaJiVNVybum040nicnRvMKExVew97xxJvq9FDiWhPxg0dhuVtf//PkxK9gvDqOXubw8i0BeGdbfCOIQxaWytlAIAOpDCuY27ptfRVizkfGAsQtKl68tNDD+XLKly6FhEvEKY22BtVUkFRJSqEDyKXJbhcQqshACkQYXkFRo1qgaW/cQVogRpbTIWypRxlz2yNU6g60IBkaYD70kBp0pQMQYfAUOpFKbAUbLxwgjTHlN4CZAquF4KFs6p1NF2Jrq7WbDywkIcconB92vfiqB9PJtTe1eUdqUzzelonoeRq65GYFnqSCn0lK82Jtne2HousDB0B3IvSwWoSzv5XEFVHefiAKWaacTEFNRTMuMTAwqqqqqqqqqqqqqqqqqqqqqqqqqqqqqqqqqqqqqqqqqqqqqqqqqqqqqqqqqqqqqqqqqqqqqqqqqqqqqsW6oQTG0k26Qg8vIAgfKFzjCPAzrJgolm64sCTOKOJw6RGoaAkgFAc1EiA2kZQFJ/hCAv02m6M1GCISLigkBMZLQHVg4UTTglVAyI2NYYTCQAoBxIHcIxhUN6WZA01NV5AIKBx0ZeOCgGkoRCgKDjkD94qiShfgwrh56G2uw6ypKlocprQ5BwoIDknJk8agIwAVVZa+joSQlNUjIajWIEEgUUZG2ZkiYBiDwiAJeqZSIJBCAXJfl0WlhiLT//PkxLxj/DqCXubyml4IouEEAGIenhPpXqmLuF1mHPq6aW64jWDZ+3rK1oqpIYx3UgVUKoSirR5I5D+oB0xVYEV040AYOCS6cBQBchcRfymSmDgJVLGLtNTZW4wsFpvkT25tkk8IXtEm7MYhiKqBSqPMpfxBlYsDUCsKaKTjAC8CQjckrmRyFcEZbqHBp1sfZm14AxTKYi9GRoNo4Qw8stfdsb8QFQw3ukfx36vLVp65dFLD3rOVYzRx2nNwlqPbbyNu7I1g2WRSKyqKMFnNPnMPxCW/hui1RNFd13IBg3OtTEFNRTMuMTAwVVVVVVVVVVVVVVVVVVVVVVVVVVVVVVVVVVVVVVVVVVVVVVVVVVVVVVVVVVVVVVVVVVVVVVVVVVVVVVVVVVVVVVVVVVVVVVVVVVVVVVVVVVVVVVVVVVVVVVVVVVVVVVVVVVVVVVVVVVVVVVVVVVVVVVVVVVVVVVVVVVVVVVVVVVVVVVVVVVVVVco6VJciSbclcAI74IMHGSFNMtAmKniNBj4NTmA0fjBgGGFgShq67ACzhijQMbmaFoWApIYQoZNaYocmuwlU5hxIW4ALcNMjNBjLFgq1My2MWGIQiqCBi83Wa1Fk5EkQwUYACHHURGjN614k8EWY//PkxG5QhCqSPtPZf9EbxORaiuMA7TeQo+iURDZUReiVCcF/MpzJaony7gLS/Fjq6Aqlo9lWpjrMlKkaqpGY3ThJbs/04p250noJymAxK2E8LbBKw8DFOEQ0mZfTTa1gUZbiTKkzRZFcJs8kOgb+CCHamhsKxwjNZ2tyoaUsdcKZWXjl1tGQy65kun4C28dtb+dXOoyhcEq0sRyGapJ0OcEwXJBoGFLU8lO2nEOqG+N1jseTxXrpaju3rAsxcwFRJvMOeFodg6AjyiOVpGdiaXCT+QIz+1LWcU+77KpnPitGTEFNRTMuMTAwVVVVVVVVVVVVVVVVVVVVVVVVVVVVVVVVVVVVVVVVVVVVVVVVVVVVVVVVVVVVVVVVVVVVVVVVVVVVVVVVVVVVVVVVVVVVVVVVVVVVVVVVVVVVVVXSNpBpdW5JmsgkmIQRCpP2wGwJAqMYKAOExNTypAwqAYIaIZFslJsiZ4jkm2FhMvRULbAV5gOAQI+sNUqWHX0XFMBV0CAS1ltiog06ORclIFBp3KdpKFJxRGVsOEjatWYYaCHqslrgVlnu0jy6M+ialApwi2ISCJgdtPcSDTnQKwrPV9qAuMkM8bKAsFyZWutS9140gmSsXW/LMXKnrr/LDYQF//PkxKNdtDqOPtZwQhZ04IkjY3Zdx+rEFxGGGGrxexpL0Q6wd2iQblrBtoo6n9ASjauUbYDXjDi9lsOhALOC4bNlBYHYOuwwgbIxF3V9jzUeWVOMy2eVyvJIVO56ZEma0lpyElpdKyp33bj0PWG0a87L7Q64EQflgMPMzf5p7Flz0JawiKoE6isC9WpQww97kmF3QChwjaRTQlTulEnadiExV/HZfWlfeGIxDsPYTbWfn5QxZ4gwTitwb1obAmbS5NYEiQqaVSR9XLgzrrwbAbovq5MZcJk0ZpY9et3ozBl9TEFNRTMuMTAwVVVVVVVVVVVVVVVVVVVVVVVVVVVVVVVVVVVVVVVVVVVVVVVVVVVVVVVVVVVVVVVVVVVVVVVVVVVVVVVVVVVVVVVVVVVVVVVVVVVVVVVVVVVVVVWm9FpbI2nYbL2mvMBXTARBiRybDKIGHRLAVRlkAYELQobGegpUhQqElOCGQIbBCK5RlNGKcfiCJoC2TqaeaEpFwZECtJtF0l7FmhNQMSNQnJE9sWYksMZkstZOoMWmhCgymSkzUVJFCUDpOuz9CYoE870xRCp92xoPKvRNUFTFHQIbJkoqtCe7JBKlapUwZ0VSt1opSkKxpIqYUBLmxlyWwhiX//PkxKNdtDplns5wHsC6U8qqpitZs6VLydTKZMjbKlVnngOXOItZjYQlOVE5MdOWPJ0vgnJBKQ7GFD1otHZa3RhyYUFrua0/bdV0uLHlNoZT1UcRqrSW/KIW+jWXdjbJZVR340/7LpdEqGMw79NluQ51Kj/N8/jlNKiz6uCoC8jOlAgqJTBlTfLmf8AFtM+SGZEnMsZdzzpiwlmMIXLbcRs7tZRNpMQppDDMdkDlaXeuRiLDS8qeCXV1wHhZK4EmX3Li1TfOQs5AKmDAxb1orAnla8tFWZhTWYJhqM3InAtpTEFNRTMuMTAwVVVVVVVVVVVVVVVVVVVVVVVVVVVVVVVVVVVVVVVVVVVVVVVVVVVVVVVVVVVVVVVVVVVVVVVVVVVVVVVVVVVVVVVVVVVVVVVVVVVVVVVVVVVVVVVVVVVVVVVVVVVVVVVVVVVVVVVVVVVVVVVVVVVkyOG7tq7bkYIDu2S2IGFBpRtkKbh4YCBayIQi9QMLBwXtMBjUUMSFXLPa80JwViFqlOBkiMcCwmMrqMqC1ylsJkrLTEM0DFgv52HvfVGl4lfQSoCgBlEMyqdYYvIHGlrqy0vzHm+LzDPMEQ0CCaTMaxmRoDQuxbTyEJJSp2QM0OECoPs3msXQ//PkxIhWzDpaPs4enkiTwQsWklRCjuDqnU5SL8icL0nTQLGrD2JMoVLF0xTvct6dVKtQ5Di+kJQ1UncIca6mHqQ43QkKAjq5NNiGLZdVCO4cSFEzEPE1DpU7AqIaNYGVFj5ioUumE5Q4TDIKaDCg0OIS+bogtz9Ql2Ns3RBAEII6lT/EBJSYMo4QKxYAjT8ek2BMhdTJLAQVCGY8mVKmypzlP0gpyJY8T+USTMlhThCj9Uq4OY0kREcNPnhytCYLcpBNhSi4lhekqO4fSEGWaRYy4qRdcuRLTcRyda3rnh8qTEFNRTMuMTAwqqqqqqqqqqqqqqqqqqqqqqqqqqqqqqqqqqqqqqqqqqqqqqqqqqqqqqqqqqqqqqqqqqqqqqqqqqqqqqqqqqqqqqqqqqqqqqqqqqqqqqqqqqqqqqqqqqqqqqqqqqqqqqqqqqqqqqqqqqqqqqqqqqqqqqqqqqqqqqqqqi3GyEpLZJJGePYqXmDUgduNlMlACpuOh2wSIjs0sAFMA1UUAoDcpYzwLgAwpGX9WYhkBlFQKdRpIDSqvURT1Q1Rqh4v0sGpF4TX8HED2vySlJQIrAK6oEmK0I0oDWCLKdFhyg5gUwI0AFBEnMglAMINEcKWH8C5mKAvYb8c//PkxH1URDouXs4eXpKho3UmoThdPEkMUuCZai5KAjxHiHSk1ZDRTKOQkshIjGFqKY/kEghGDuhE+kUxBhXk8LcQYmImqHuYkpeAkxIiRGkdRbiCwIYsBCi3NAcR2lwSJ4JsWUtpnkSXJ4qQLB+GHAXZBUkdDexqBnZTkMlvbWoiT6bFo+DqbC9H8yqRVqaIUL1qeKpWqoyoypbGBVMyeW5l0hTijJy5II7SeqFdYOijMpWIkR5KZD7q2Ih6pipk7nznZ5GmiRpcXtEivIXiOLzbtWpV7EhqaWK1VguMsSVqTEFNRTMuMTAwqqqqqqqqqqqqqqqqqqqqqqqqqqqqqqqqqqqqqqqqqqoB4NjSbo8xJNDhDPQUw0qMQNDNA0vqYuKgYm4kekQbsYFBwDBgDCphgiUowKCwqHmWNBiR8cpCGiBQ5wHFxZnZyfQbGGswYNGUhpnIUleNBIFDQILEgQZEEBcpEh8FIpiBIYcgG1ExkIMIkAwgTMTFzYRs26gOcEjO18wU6FT8FOgCHzMCAMBR4CMuRjDggwMHMtPwMmmBEBhwIZQXEQy0BpIAJATCzOEzjXsSGeouu7yKyE5GwxAU8oq4aS64yzBtme/jTm4pyBdYDGgHNIwhhZSYa0ku//PkxNZqVDn1fN4fkAYaRCU2LdVMU5Qk68FcKJDxC5htOgDc4s+WvXer+IqqJrw83N40u6ZgEclbiMULsIYMrgNY621O4EhcZYk7qhjqr7QXCwkeFkNNa8yh34afl/m7JaIIBuhaBxEIJQXQMMKkthKxAz/V5PVGhIY5M0NmCoE4LiTUR4oUqAlE7clIZxZowilIdkRDlOby6dl6UAxFqMONSGcPtCi6HaLkdLpHErPCEdg/sK1C06OUm50s+kJMd2daOVrAjSao4cj160rMyRRw4TWKQvVjoesp1ryJTyvqTEFNRTMuMTAwqqqqqqqqqqqqqgnYC9Hv4JZqlOcYNozPO0M65PpaMgwFghrTaZrGmIohvUptExliyCowbChwyb8UBnMWGeRBZKc1eYb4Zu+b5Cdo4bl6FnwDAEBgRHC3pCCQ7ChAhVmmOgJGXQBgYHUDOAwShMaPWQaIcZ5QZxQIlAOHCgJJ8w4UwZcFFzHrzUjQoHBwgyBkFRzGgEpjFHgASAxE36o3jQiGmMGEVoihmOVB1YwD4wDExqw7lYyM04TAKjwKFEg4dVCog4hYBKF+maTFvB5cZckMCjBFgUGMgBLhmYDPSIAhhCxuGRkExsFz8qHEQJJweYmaMIDB//PkxOxwBDoN/Nb0QBDVVk0kSDOGA5uNDEywEbKho2hZAGYxMc2KcN6BvYcUUPBRsLBAcBbol4WwSlVKFQaP8PsRQFlrC3EpilDUchYi9ETEUHJo2wN7mxlT9eA3KbSGXIbK27MYdVTV2XXXOnWnvFmvL3aKsG85ZNs60mUwBAK/3Ldl6rjaT0Xf9uDTH2fx3WEOpAjGH4bEsA5MCL6cNa8JmX4kEtUChmw8zT7V53IQzGVswYo/TzO00eBnIaw6MsciUW1owy8DQIcl0vb6NPK29h+4dgnGeicF0zPJTG4HTEFNRTMuMTAwqqqqqqqqqqqqqqqqqqqqqqqqqqqqqqqqqqqqqqqqqqqqqqqqqqqqqqqqqqqqqqqqqqqqqqqqqqqqqqqqqqqqqqqqqqqqqqqqqqqqqqqqqqqqqqqqqqqqqqpK2GbUbjbgAGRSX80MakRYAJZvIGK8DdQWaCA4kBUDqdU2R6lRQA0lOMwA0w2HjBgFDR/igcNDNHC3sqvqzFbqnYyKyNt2dKVzrtsULwRBFY7yz4YARgAHMQYuom+Fz1VGGS1EoGAJCAoQZBdccAYghUDCy0JA0hQOmBdJViqqipJZEgRG9RAASBI6GIiIghCYb5atLqpODKYNbUPF//PkxJ1cFDJGHs5ZX5BG9OdNNggNIQnFUsCgqVt+XWASAOTDhn5aWlOSBoZAownhAwKsBUABq5VeLYCIc1mgdMkaYA5zmBCAkY4Ra9BctNYQyRmAN70RBMowAVD0BCbaPkSjUD1IeZWjQmopYlo9Lc6dju4i71O77L1xyOccGJxN+pPUjk/MRmAIflEQoI1SWY/RbfuQvO88BuGn8BZdZdISZWhIcvrz8rUfbdaeeM33kzkcZIGCI7D8D4CxEI7BZGAjFYBJYwqH5SQikGChY2W2hAHorDly5YOByZDQofWqTEFNRTMuMTAwqqqqqqqqqqqqqqqqqqqqqqqqqqqqqqqqqqqqqqqqqqqqqqqqqqqqqqqqqqqqqqqqqqqqqqqqqqqqqqqqqm9WkZepJys1ArCRBiwF4HnZ20mGQEaZFOQgDo4GpToMCwFfTJVXJssGRVgkRgGQKYKjEgCSYBDKwsiYc2Vsi7E05SXnZpCkWXKdWs3EGgYQyRU6pkvVhUCSCqAFBKv0gChEoFPEmQYCGjRg0JXLDkgQOFkQ4TZeWZh4eDBcSgJRqQcVgT+qiRJN9eKUzMUe1NzDFAw6u8tAjyXGQkoczQgnTAwOGzCgS+r4gIGvZyE01Xv2zOAmtKOP//PkxLljPDpONsc0IiwCkxAkvRvUAYSRDnAWsXITUXKwxGJbyuH4XWlfIlBy9jN2nAUGsZRdFNORTSNMHRwUimAyR+JhyHCXW6a/5c8Kz2YObD86z1c+lhGYISJQt2CGcuK0aUNtPRxyZ93XKTUXRCKyxJA8DI5XGH3e90KRkywSmEASiakq8YCVsf+fVRftSkvUXEszjSG8dSrD78QHGrrluS1STUDZlcDRcIIDgsFAy57fAoQoPTLLSvX2Xza2gHbeNwAXcQctgoI7jEm6KUg4HDTD4QrerOv6H42tB6ZLTEFNRTMuMTAwVVVVVVVVVVVVVVVVVVVVVVVVVVVVVa/64qMlNgOYHYmQEtwrlLjAYsRqHmII3zwIBnRiPnCqAgQYOZYwNNIMQsiBoDtZNEMfGMDZWcyRQx4XIIRCwGXUHhmtqrL+KgyIw9OargRgPRBQRLRRozzgcogDSnViqEQha9R9KoQIAkoyAxacWuLUkxYQADBDEgVOYYqPpegwLZK6BMIMwis7BeRC4xnJagUiaQWGRSIiiFIBOBjGIQbMCZCrEfQQoEPCBtZSzTXbMnO+iyC9jYBwLH2WAELhiQaGB1AmmI7otAO6tJuCGKFSl3EJpQ9QxkqEZcwKBFmj//PkxOBtBDo6Ls4zkKAKJLBwcJzwYohMCCFcALgfIaKhwzExKsveOBLbkSUylVS/6VqXDwIJmII9w67qaqbhcgOQqUwDweuMAtnEQaBtGsOxxLVWJoDChIgBSKLFUVYhcZQMDB1B5NIMwR1bncRfV8/rTgcCuk2TjYFMc5nKkgN4MwAYsBLoUrKMgIx1hwhbwqKXrMoJbJdcxx4aZYytey+mdpuP4BBFK1RKXgxRlbTBRABEKrCysDtYBwLlDgbjIJHJWeW2YsMAoTXNIgmVr9eyJLLL9s3d6a6X/Zsx2i3aTEFNRTMuMTAwVVVVVVVVVVVVVVVVVVVVVVVVVVVVVVVVVVVVVVVVVVVVVVVVVVVVVVVVVVVVVVVVkrjztVik4ssMCjFysw4jNWQTQkQ6RlNZJjZAMeKjyAwocRHjNITHgTJmCsUCigCoAVIAAZtikOpGItjhRZ5LNARQQHw6Ci2hg2NjbsptlQIjIFiA6JMCaCBpgTK7zXjgyjH2noAV8vQ/SChYIsYimbiIRhqwMExGHFhQpbwxCLoKbDBFV16RocexxS5xBGBYjO0aUSmUPl0uWkO+wRRCYjeWWYWW1EARJlIWvWiXNRFSZUXZkFNrrEBmnwMTKJQJ9qHMqDpF//PkxMZmdDpSNt6wXtoqmV+ypoqwzGkv2nuK8DzIop4r+WhRIVsWT/Wsk01kOQsV5kGhpACIy4cOoIvUesDRFv4JfdGlbD8s6bO0gu2ge+6QDlJDI+C3BZmKXj7v3LWVKmhty3JpIdyZCkAnbMzsAOy11x51g6pX4ppPRwXIHZQbexncodtlsPQynor5D5moqNQ5R9ezXaZiDv6brK2xQTBT9OLJndchnxbIMqHbBKkFUA6HBCESG2Z0wSGD3GRsZQmOxNxkkEBDvv49yko2z5JB7VhosoWn676qDxrXSgbVL4oygycuqTMmcsYlaVaCoReoMMhKWAQAGAgRgzTw68kRjMQ0lOzJkIxNKMPWDMWA4wwMDEDQktMIBDphQYYcA0YYJlmmYkg4GPyQ5g52YMIigeYIBgABMoHTBRYGBj7joaQgZECjSKTbpiIYEFBmzyTIBiBQDOYBhZh46YSegJYL6heFIBkz0jNNA2BAZCBpJUFg4QYwcQuwMJBhQ5hUJDmpJmaFGVNGHMF8QUAMwTNMVMQtHTJh/pIJMKFISoAcmOViFmDRTuA0CABhhRA0eGm5kBZjlZkS6FhQZC4MOqmEBgFgtQEC5eZEuOrTDoDBDxQyKph7AaQSPODKAzKB//PkxP95hDocAM70uMHKjGGgaOMakOYBHB5KVNkmKKJjwhmWJNBAxA0t8sBRxYYl2AQruBx8EBwIZVWCLZjQYdPAw8BGDLATIkjDkjOmgoGSBMQDCKQsVMEAMgVMQNMEpGlzORwmZAIrAlYokX+Wk2ZtGlJzOkIgQYBBIEtiJJE/GjI8FtH4BAiKMSQisKCCIIpW46Z4WLIyLQMYORDJTpggYkPWcVRKJL8AUhDjvI0MhYS/io82ASC2/E1ElHl2s5a6hm012y6KhBbBuPvIXIalIhYtAsMJaq2NgYOmbPQ2ohIImwyULJuPOudmTkOozjtx22AGMCcbZOQJtm4OTFmL4Yx4KSMpZRopHMUcWFM58SCMfA0kAM2cEZv8mnrBqwMYoyHWBp3AGZ0AGEiZQomHAZgYMBgdTAeFET2NixEmCYkbmFB4kfCoqDRMwYDAx0HDxdAwgqIgtYxgQtBJkwkaCSAUYMOSRh/MzJTKl03AMMUTTWBswA4MoETDh8NASwKBYFKCguspSJGZAgFCsYCBg5GMZPB4sLMGKFBkhSYoxmVAQOCDQA0DDwOIig7MqCgUcGPgRkZE/pgBiDQcWRC7oPRBripDKOWydSoG0EBgOHEaJM8tkWAFSDFSLAhF//PkxOx2BDogAM7y3GmfIJGAEc4i0JJjjHU2a+oiZDbzeABIwYqdLKCdK42hTnFNepCMeSBzAoAeCoOdUwMssLChw6mcnM+w4SzUsFpl3hGK4BJA0RAQIGJhYYCgsPBCzdQoeKBiQ5VQLRxRn5jCkxjVE3FQlm0q2XqkUAfp+pE2Gs1hQkMBQdbOX9KBAcczJlqhKaIBBSAKpBoAhgKmohBEAzTE9nbYuoahEhPTNh90Jhvy8IQIPIwKyBnjBJXDkytNwKW47idDXFpprqLuOoY80Du81hQFxHKUybaKMBlCy4k7TitCk7TeP4wd3I43Vu1d5GIx52XATEFNRTMuMTAwVVVVVVVVVVVVVVVVVVVVVVVVVVVVVVVVVVVVVVVVVVVVVVVVVVVVVVVVVVVVVVVVVVVVVVVVVVVVVVVVVVVVVVVVVVVVVVVVVVVVVVVVVVVVVVVVVVVVVVVVVVVVVVVVVVVVVVVVVVVVVVVVVVVVVVVVVVVVVVVVVVVVVVVVVVVVVVWGZGVKN7MHJUAhhIk5aMQsQm0DQjWTaI/qlTFy+QIAUyZyj6tqNPwvtuzlIzl4guA0ALmKKJutgZpFYVagmTtyl6zVfMKcBuUXYdJJFKplrLF37eBpKaKsBVtp//PkxFtLjDpi9svZfH1dxEghppHkqyFOBhIaY5gGGvrJotylPw87QDhMl3MwKY6GC9EKRagueaiQ2kdVM6NVT6PCWpFhgUZfT9jucSG8aWyOfTGukdBeqloZXqnisTi4rKcRxPngkw3R4JMvqkUo+nxfGmCqJEKOVRItzRazO0LJ9qiiGw2VzOVdO2yIP0xlOsuCrZpV2tPE7AX1TZIoScyiwum+aHOfCpRR/oYT4fimV6Y5vNMq02uVK3rtDmFLKgSgiJbtC846rsve9pCbLrMS56mp2mFGIedAjODc3TaqTEFNRTMuMTAwqqqqqqqqqqqqqqqqqqqqqqqqqqqqqqqqqqqqqqqqqqqqqqqqqqqqqqqqqqqqqqqqqqqqqqqqqqqqqqqqqqqqqqqqqtnHUI5NScuBQYBPzKTj4LC6RA6YQIGTNk4osBK4PNBSAIKLlBgJjlB2iVjslHojNEJIc01wOhIoDisIrwMITKFrV3MUZcWjJXkrXSJCGVJwgOyCp1tBg3Ia24SXSIYOk8aCdJJxy5hrMXLyIOB2F1Bskv0hiY04DEpQ5qmS4SPAIVbH1IrN6n2wFloNIkwpgjyCgtKVSR7Wi6CzrLSG6tDZgrW9yvER1iKwxJcsKdtKiM3l//PkxLNhpDo+VtZwHNcNM/QlPMtkIM+iqg0aAn4UPch53Fb9XqaLwEwpSqdRpAa+xVC3q+jaB3UthCBBJMszcIty02BmmNiTkL5MZZ80p16jcXPfuq9zWJ6An4Xi978yq6w1+ow2KXPQ/CTSXqsLdFFWiKdJ0F+ZM7UQikE0td3WmQGylikXiTcEyZQ7Slii61FN21QABix5EKUtLxMpXcl8uVlr8vy6TztccaPvq0Ffcvb9pDLliPwvZFJ7UJr9LorI1xFIt14edp/VdQBBLNlDWpLYgRrDDpBOUbHlbUraTEFNRTMuMTAwqqqqqqqqqqqqqqqqqqqqqqqqqqqqqqqqqqqqqqqqqqqqqqqqqqqqqqqqqqqqqqqqqqqqqqqqqqqqqqqqqqqtOYqNsGJSSm0pkY/24O+ZtH5uVAsxCoAM7BAAxoQxJQwZYwZozsIBSwLIENABxirhqkM8gWCAhJVWDjxEQHOGaUnWBATCNMYdTRdQEHLJF/guAFQjLEDAga0dIgiDWs6yjxaYt0m+XxAA5dVpAVAVOjyiiDBw5GlZMj020boWIvKCSBIpD5JFG5x3Mv0L6tKYOYYQoaIADRSLZoGo4p6MOpUrYgIwGwN1BAa1VhXSkScqfLxNebrG//PkxLhi5DoqXuayDK26S7pFHKeWxcv6rCwFuiAkCBixKWyu0wUQmuP21lrLevE7zOkfmfJDOckaiIgOiLZC2T6yFetPHl7JW5us7CSSdqoEhmdpWwCpimipxAy9HuTRbgwZw2YvhmqVLZGJdLAXddVkS9lqyp3fgWYpW/dGlU6TWUxX6pU6iqLWI2/SmKCrKWGsOTCpnZgl8nmgPfYbiDzrllkujiqrjuLStGe+BZE8bkwFAT9NVe1ymzxVrqCautVXy1mGvyprEl5Flk9lfXYGed9Y0sM2ykXic+N1l426TEFNRTMuMTAwqqqqqqqqqqqqqqqqqqqqqqqqqqqqqqqqqqqqqqqqqqqqqqqqqqqqqqqqqqqqqqqqqqqqqqqqqqqqqqqqqqqqqqqqqqqqqqqqqqqqqqqqqqqqqqqqqqqqqqqqqqqqqqqqqqqqqqqqqqqqqqqqqqqqqqqqqqqqqqqqqqqqqqqqqqqqqqqqqqqqqqqqqqqqqqqqqqqqqqqqCcktttkkklgj8PdpGq2DgUWGvlyQAK5RbkBCoaiMAICi9I/RaFNVCVNvcytWFo0aoHiZdQpqrVfRgC0EtlXOizqMNNYc3Zr1x9UX0vUUYy3qg1LATJlBp2mKcyFCenkX//PkxGBM1DpCXsvTfiNJsgujaLrKYU5RAqgcwhTKcRukqE2UqhTpKWk7DKdM0hfXStVbi3Mq2xMy0qmCFGUpwmSul1BURcn6sQ1hYbGNGTyufoUxKY5n9GYvqVSRzItGv1mChrZHYoqpMmIxOkkxulOwPnrcxqY4osJiZjdQ19Ay6PU/VChqNWmXG3zE2IUimZ5d2rnLsyscD+GMRxblqd8kIUiIPqEr3TEwsDKrDmSyE1MoTEpUMMJhDhNQ3yCEJxhZERE6FCxJCw0uOAEK4digINYB2CNAWAUlOPIThMiqTEFNRTMuMTAwqqqqqqqqqqqqqqqqqqqqqqqqqqqqqqqqqqqqqqqqqqqqqqqqqqqqqqqqqqqqqqqqqqqqqqqb4m1VRqr6a6LBroRI8mMmBwQDmDj6rldu0nK0JrVLLVgk0iBNhiy0kmtIJGTL2RFFQBgFpytihUHq7MYtD0DJrTLRIBC7KPKBEaZQFqXt0NAkCLgmIrCRTQwCDhY4wDy86YTPGsgsxeYoUhxWiNiCFLDpEGqraGBpkih6NxW8LWaciOLWTvAIUDFiI0usUjMDU8BgqQ5uSICllC86WjDKeNJ+Q+hSs5LWD0a3UEgJGIODoUNguIIE4ZfZlpLFHwlC//PkxMFlDDnkXN5wfJ7BggahEZ1EorYNEt5ZiKLB4Wu8vkn44CCNMVORDgGLTRj6k3CLgApyXTDCIDTmkLWzDEKBsTa0pawFEARlaks5N9VqKDFX/QEvMqVU5CMudWZKXSTifJYRUqZTO4yjiHMMg05QCFN9HAWw/7xvbKGuI7CiH7jrPHbVjUi5SezB2G1lTlmmcMEfhuClrY2HFuV8Mxfcv85jguMt1W5YqhDsN8X+X8m6jWjykkjK9auFbFxuApcpwiR8vL8P0mPRqINhgZl6EpQdlCWgsNS0HJTxoIpVTEFNRTMuMTAwVVVVVVVVVVVVVVVVVVVVVVVVVVVVVVVVVVVVVVVVVVVVVVVVVVVVVVVVVVVVVVVVVVVVVVVVVVVVVVVVVVVVVVVVVVVVVVVVVVVVVVVVVVVVVVVVVVVVVVVVVVVVVVVVVVVVVQCXG5JbfJW0GJGuA8i8mhvwW2LtvrGJO7Op94mu0kOKvgFHJ63sX1LVHGBM/Uob1oKwjHE8GZrZflHjjMX4gJtH+QUL2yOvKWuIYIyqLpmskJSB0WmjBBkD5MYZqhzQSo3lr2dtaRsVlGBqAMrYAnOvdaiUSvoNAsV2K9KoAstNZwBoiplTIHAUKVECsoRCV4+r//PkxJJZZDn6X1jAAClNdkzFlU3iehjigyllE/nH5gFYN2S+SgCHkJjbjP2mFElGIoIAO0/685Y5CWsCNjnn/dl/26NPSPliRCZjophJLmAbXomoZF7FI/jdl0oYOS9UdAoE/5W192XafN9WWT8qZu2sdlEPL1V1Ps0hD5tZWMlcqdkG5WxBxnbbm8kbmo8re8kOzcqhl6ph4Wr13udaD1nRBur7wyrentJ2QQ47TkJzSmMPZeZZEXwmY3SQHdmNPtUjc5L5Q6chdChh25Ajfy1uDXJbecWQ0mUDwmU0tJJVTEFNRTMuMTAwVVVVVVVVVVVVVVVVVVVVVVVVVVVVVVVVVVVVVVVVVVVVVVVVVVVVVVVVVVVVVVVVVVVVVVVVVVVVVVVVVVVVVVUENNKJttyW226XNxJIApIF+w9AWDjFAcCe+CSES8hqyBiSjcVXpiUgXfmhAtAtRKHmIv4Ak4WMJaOu0N/nxUuvoJ2rEyALiSzqRiACdL1MkT0pS1ZdR+G8MApO+pPi3CxweCkIBXT8F4lksOSTSHlYYUeBHQUBQpONcxkCCRKcrIEHmJRNTF4E41D2byAkARALlTFDhVaacaYsqDDJmy52S7Dogsh03xZ6sx24AEg7QhYyxcIB//PkxLViFDoKX5rQALDFgmjPCZBsDpBrkCgxhBRmgAXNiw8wIm1GGss3dB6HVu08RdOZg2JMsX65lLWjb+M4V6pWjMAlhQZIgwGCAJ4qsHDDQAE6wMQJlMNP7TvLAcriT+QBA1NDFPWlTB1/x4wgJwC4jN15yqGos+ajiSDoIXRFjLXH+SKVWUxeVhrDmBiwNKNmqWRad5dxTDBuNI3GCoAnIrIY9Nz1DHr86yuD4E3L5LblMWoojK6lacgSB2lv1ep9PbF4YcXr/PU2rkstcCGolfeGVtPtwXE7EVgpynCVTEFNRTMuMTAwVVVVVVVVVVVVVVVVVVVVVVVVVVVVVVVVVVVVVVVVVYQ1ImQczqdB7LJqtForEcbwJy0/GLBWYtE4KBQNLJjgNGeCsY1I4GCIBHhf4FJEDDczABDJRoMDE0DB03MvS0L/mVKBEmF0TGysoAV/mhCjI3AMGBDqh5HsxkbAyYm2h+5ysyChaA29PM7MTJQcDFhiRQZUYGXBgUFIrDqa8OMsAQ/KszNy0yMTDgMAGgGDjMwweGW5KCgQdCoCxaCFNXpMREwMNx4OA0ZAgEL5lUCMBCk+nsTmaaorArySZ32Xw69KANXauTAQcMBzDx8ycdFgsGgKaAjA//PkxNdqlDKm/5zYA0LAUUSaQ9IQRVYRhuqRkU1D8Xh6HYeMFAUB5iAEmiChMzgeLsgoPGhgGgYQFgYYLsIKjIEFgZOYOGS7LE6GELpZc/77qbRN+Xkmar+XaHNdEgooIkDhtfftnDXGIFYCCAIICDAAgDBjBVyzUiZ62RUzKpuSIBnRYKu0ueXB5j3DHGtOfP6yoYbpbUgTEbx3wMCLUuvioPA7E404jN3QdR4FiQI/lmXo4pNM9hLsDwCwV070H0vaKPyZkLjPdRZdd6klVp5p6Go/TUdPckGss997W4JVTEFNRTMuMTAwVVVVVVVVVVVVVVVVVVVVVVVVVVVVVVVVVVVVVVVVVVVVVVVVVVVVVVVVVVVVVVVVVVVVVVVVVVVVVVVVVVVVVVVVVVVVVVVVVVVVVVVVVVVVVVVVVVVVVVVVVVVVVVVVVVVVVVVVVVVVVVVVVVVVVVVVVVVVVVVVVVVV2TbKq/1HKCBaFyDJjD5vDZyiB3gqJq7UHl7mRhm/uGrGA4cuJOVUKG5iiYYRgIwCg4l4rvHDHGEApnmTOm7gmhHGgPr0Uyjb5gYODABiQwqCAwQxxQGFzGlASVARYaBJjyNPlCcldK3BlkHwzCGqQY68SksuemHYFp4x//PkxHtTxDqmN9rQAhuAYrIspLIK1fOcf+msOp7DmsQPDksfx3YMUEaxEYvDkzuVQiu/0Zl8RlvzMEP/DTbw5Su9fnex+q9MvlseisO8cmI1YpyekWqtLXgaFRyGrbjQNGXWdq5XwjHHc7Wkl+mvx/KIWLm79bdS3yUazrUl2nxhyhjWUYszUpprNqkistXpMufE4fXL7+UdAu5wWSRpR65ZljXJdK3dlLcZ15b79vnDrkPo0yIyqglr11piD2yvxZfV97MNPtE4Ah5/rstnpTLZ+hfWlu0k1dtU07A2s4hcTEFNRTMuMTAwVVVVgICWpGAAGARKoECIYTTmOTVIZzBsCAqAq2jFAsDfAaDC8Tx0FiUHAIBBjwcRpIhpiKAQjDcwzBwy6OIyc6g4ciMy2B8wdDAwiEMzScg8wMM1jMwwZGMwoAoCCyZ1NZnQ8mSEuYMHhlQEGVjcaMtRqq0mtAiZxHxh8XmFhaTAoyybjGIOHCRoEtMZARvsKFqUIdlbTJMZGg00JYRqCAF3UrW5KAqXlkWCpctjZcpaXWVvYuo2TBoQmkil6XNB2ZjCCQxrGAZcRgGMMXDNl4Lxl8lOkg4fAKQMFCgaYzaOGvUmHhlpw8MJAmiYGHFFRlACMcDN//PkxPNxxDpJQu8zBBdt7AcIYI79GRyoamWy8FCKDgbIMaAwSXhYFVmDDmgMrbNBq+y4MBsFZ+2N1Jcux+2VwCzJMlejAWbp7KCrUZnAzc4acpjMSX4t9hSvnusu5SO8YQrorXVw1i0giKDBoBYxalMNQmROa5MTY6nGqVkpdgBFjAIYNI39QDiRCqBrnIrpjOCVAyhFKVYBrqxlPtELwv9IGWqqvIGDMqa66TbOk01LKOLuRWUARQWEsOavZcTfwQzV5oaX5StbjVE+cHX49dgx25dCaGxUxh6/SP+9jW4ETEFNRTMuMTAwVVVVVVVVVVVVVVVVVYBgYA0gSw0EJhOAxgGAawpgGDByoFRhUJgc/RimEiPRg06hqAA5k4GBgSN5koFRgsG5rWcYUAkwTAIwFBodGw0XUA++QUiOACAGYEjwZCoAJzuY4CyYcAYY7Aa0MwkFwFvaEGwYDhkYdAwYcCIZjLGZTBOaVsCzRnQgWkgtUoWjyXpEREy8kyRUaMKkdVnQcCL1QWw1HkMPQNagxJ+kPwMkilTRhTV9lPw7CYomWXiXlDTns8AqKHcMdGhBCIBTQ7ohEEYK3U5hQsFjAo5dS6F1ixJdVjLH37fkiPfFzU33QByJgChQN0C8//PkxOlvRDpKtO6zJMADhNJK1a9xDodSjPCYcWDWUDRV2MAeSOIrhYhQ6Hn2hgvO3zSsGLQeIQFMXnTGhBKOsHF7sfUtFRWkySHmlPPfb6Kw8v1PluMfizBWhMshtecSNYVMBfsFvvG0vVvqxI/P+rc/zEGtuSqmvVnVd2WSAY1LVkKgRfZAKkhRRV/WlAGFZo8Qv1H9BOJCOzFHBtp+Nwi0ThxcqrXRc10HabuuZ+GxIyrYGBYs1KOomAIN32mJPBc4tC+itdW+TLIBmKu/LmsNwc+y80HJzR12KCQTC3oBTEFNRTMuMTAwVVVVVVVVVVVVVVVVVVVVVVVVVVVVVVVVVVVVVVVVVVVVVVVVVVVVVVVVVVVVVVVVVVVVVVVVVVVVVVVVVVVVVVVVVVVVVVVVVVVVVVVVVVVVVVVVVVVVVVVVVVVVVVVVVVWhobOAm/Vua3JeKFwjskB5MckKB98LEkrGXomhTTBk20EMxTAaDnqVRWFK9QvAg2MR4eCt2zTnHR47KPAxeX6L8l7hQKE8UuQ06RJGGMjjUk0Ez2cmCFZogoPAbUJchiduhP1+RCeEQ0XIrWnacKNZXR51FolsH8vTEiY21KWUk0xFKF4JR9DZV/G+PE3MTSxJ91H2//PkxJRZ7Dp6/t4fWLiE4MPHZBGZCxmmo7MSjifcvlGC/kxlLH3yhgVEHv5FlnJeoI2SQHEYYdFWiHKkikKqbLI1LLUrVa3FfkZhcuguGHWf1hYYSixwsMsceT249D/a1xrLVFjn8f64ZSdIEv6kKUF8OhGMpFjfBEraZFiX1W3xl5QvTQY0vs/A1RjF0bEJWy0aSlUKHhJg0y3FjPsRcCUYWc+F2O96lRZx1KmCvHSQc6VGl3sYDyPgGMsnchyvqf6mZUNSCTJ+1Ol9+WwmDSm0wh0cdxdzxU6sKgfhkpzCTEFNRTMuMTAwqqqqqqqqqqqqqqqqqqqqqqqqqqqqqqqqqqqqqqqqqqqqqqqqqqqqqqqqqqqqqqqqqqqqqqqqqqqqqqqqqqqqqqqqqoBBUMBUYUiUBoNJhGYHCbgBcKmrlmcDCYUEhgUCommKU4cPfYPGQYYQSDBwOOBMjhhoQgRh4QDQwwgrMkUQgTddqBbs0PwP/TxY7WmmGF0o6N4CTgyEXdlSTATBwYzYcRBSjl5YDygqRQh2Bl9GMA6FBfssVVaAa3g47K1tomlZzOVHOWXiwVSpER0YNUCh4KAVBBqqy2FLUH6Vx24F5EAEGu0XuBxks05IKf5yl3Q61uJy//PkxLNhtDpm3ubwlJa7BDtv3E2so8BA18tfaKlSHEFht87DckBIdRFoMEIkmYq2E43+chmzlr7g+JKUl1VmLtZ3Bi9kokCKu0+ZY+GqGMMzf5lUM2fm4rAEP00XeWHIEbInLFoYnq0phylqtRcBEhsStzttXepaLlSZwXnppbKZVE4A+7EH6ikH0ch3Tw490PyGH+SxV02ka0p2kNoFsoAaJ6ZyD3BUCycvBl9PAl5pTJ5CWxg8sLHsUTRUVGUM0ilyRQC3d+YbicVlLcpdA8NQPDbc3FmYEl9MynjEm4yyTEFNRTMuMTAwqqqqqqqqqqqqqqqqqqqqqqqqqqqqqqqqqqqqqqqqqqqqqqqqqqqqqqqqqqqqqqqgBgiZMrsgyPTGYNAwOQwMCBYA8w2uIwECDAwGEBQMSJ833ZjuopMahsFJliJuOZ7qIRGUpagpQQWQlqyVUpgwhC4NnbPECSjAoxOUYAHL8HleA4gbMwZZKFChjM5ylxny5hAQUAmQKGAKiIIPER0Yax0NGDKgFQodQgmMAioEEoysKHQLAQUABhImZRZBOHKCJRZmCKFkUDDAwc267aKIyQ0qLos9gFlRcJGphK/WCrxa7WevccdIvmLIdV1JOqFRNN5j0BIM//PkxMdmpDpaHuawnLATHASGt1WZi4IC6LRG6rSDBMTQoWs3kB223ZgwC+mC8jcU+E91BmmtyjKlKAFMUuSj6/0DymhglltC6spzf6Iw4778U8okj5P87Swyzi3SXzlu4sCxU0qDjoovAtJNYLgACVcuC2RFKLtjdhgzDnXaS+9O1mw6LLYdtui7Mhe19lBoGdm6mEsZW5OqG2qtInX2bPEV4oorRLOpIxqC4ZXa/MZgxvk9VjPm+sGP00piU+XmUFjz/t468kgaKLynZyPxarfpIBhl93ik7ws5gKBi7qxaTEFNRTMuMTAwqqqqqqqqqqqqqqqqqqqqqqqqqqqqqqqqqqqqqqqqqqqqqqqqqqqqqqqqqqqqqqqqqqqqqqqqqqqqqqqqqqqqqqqqqqqqqqqqqqqqqqqqqqqqqqqqqqqqqqqqqqqqqqqqqqqqqqqqqqqqqqqqqqqqqqqqqqqqqqqqqqqqqqqqqqqqqqqqqqqqqqqqghTrcTlu225MFX+qCflRsh5wypimYGBEowWNMpQTNXYIEEkqnPaKxNDQwoxJVLlCc39kkQnIjJOn5IhSlapjOOcko9SZIEBiTwmxmC1OKZCGksAWjWN45RCRcToP8hKpJ8WI/jib3F43IaiW//PkxGxP7DqCX1p4AiimyLCqELFtQBgkhCHBhH+dLKpRJTFN57pgV5ysh1HOIaZS+TmZmY2hmWmNyP0bpcTgfk9Ja3kFG6OFNamT6pHaIahBhFiLEhxPkOZGJyYm5DkOZrmkrrLtOumWucttIZfTpUpksSQUTOio5k1fst7PS2i2kJVKtNFRKaNHgvTpULCxIcqmtDTpNFDW1ifdOnTiGhpbR9HkuU7Vgjk9JyzT9lraC9vJd7TXnjn6qn3uwsO0SLa3MaNRSbNEek6UJYjmdl9UKtgOZKVU4MXUpbUCT4vVTEFNRTMuMTAwVVVVVVVVVVVVVVVVVVVVVVVVVVVVVVVVVVVVVVVVVVVVVVVVVVVVVVVVVVVVVVVVVVVVVVVVVVVVVVVVVVVVVVVVVVVVVVVVVVVVVVVVVVVVVbLGvHqfBoNjsvlaWySwsATe/OMBA0wIrjU6bNkps7GbDDxUMHmoweHTLYBMWDwyaYjGAUDAGYGBpjgLNcI2zNPDFy1Q8MmqaDBuMDRhvOGwgDgg66HFrF9lonTec7YkeYQhiJhFKtyDBMAiKCin3R9fkznDgIP+MzxURzNLSHV29aV48G3ZbZZ1JZUcaQjCwCkDQEMA43Bi6DWLjPFMF6LPf9aS//PkxKRd7DpKX5zIAJU7rixZrJlimi2boYCML+A4g/026JqAYdMNvnXWO79O/L+NlUihJmIm9L5hYZoIdAgHtFYxZN5gjdy3bZZVi67GIPY69WtGPhmCmdLmu1KazKZTml4zQzy0AwOQQsUHvymJMsUvpLEvz5nnfxr9pM85ZKKatZpd16WU2rXPrYSy1D8bRobEgo1YAmhC4sHDqP6AxbZb9YpbfmWFin7+dvPmd/Df4c5rDlNdq7zxq/zHLL/7l39f/pdmWiLJqkRHp+qTjLjhA79w/FLsvL9qqNo4rL6iaZEqealLAgAAAhpJhCwVGWovFpogeQ9RHaQwExDT6RIpW6vcz4SFDERCQMYvVvULYCFQLdC7ph2BpygVACJCBDQwPLAcKirCXbCEBdAgKDg7sEA5dTPFmA0fbcNl8OihtZidRCKGlAkhMCKBgFIBVZXLISgOOgjGChwYFASOUFJsJCo8rKlpcpXRlhQEDrOMSCM0XMSTFiRi/5IKRWBg4ZCiMWYc4aukYtiZ8SaoEuJW8RAB5ILE1iHQtm7WmeEgVMZkWMCiqQNKTEA0zLA2wo44cDBDTMQCrMcZIRBUYphzA0NDFZbNzAIOaa0Es+87XyYAIRIwLEZQCEg52VQI//PkxP92RDZuU5nQAOFy4pZESFmwSGfZCjcw5wWAmNQBzY1gJ5ya8ZlCaAi0JlaC67W3UDStd1GZC6iXIDACJBdNS9oZg5JGmATIxxwwgwdApzGQIA6uY1SUGgcxLxE04ZNm7HmenBi03YwOjuAY9obsqZe8IlxK4M0ZFDZqSY8GKIqF7klqA4A3jbIALiaQOCKkXZF5ZYbghpBjX463N9paCghrTCTDBzAAQ5WjKlMIQIqBYeXUVQcpnaD6Q6xHbXJR0JCBMURMgpLkB0gINMILQiSQvEYEKChBaCB3rXalUlu4ytsfTEFNRTMuMTAwqqqqqqqqqqqqqqqqqqqqqqqqqqqqqqqqqqqqRgKY65JRpg6AiKIiFVwY0d1wZIYiSvVfh+icIB2ZyHwkx8w1tGEvgmmymwmQgMhoZEe1ohahtCAdNSQqTaeGCpyEILlU6T8hLORRfDeDRSVYhLTCThECKt5ctStb4BBcVS9HF9pa28SL9vUxdAKYI7dWMBYoxw0vmgophdYFAr4ISgqKAlwdIgMMpUTMS7KpYwoZ3CGxlXIOnAkZExfoEgHtSUEmGSD0UQAQccIKZQCEAQZjxgNlKsTJARjAwgk01zJGSGEIJsKKKmHYYYwEGYSbYJit//PkxNVqRDpuwdnIAABJUDHDEkDBDS2BoxpArbL5GWSmC+IMALKEUBNUl4KjAUOJBjYgKRyU8VCyQ8w0hjMbYKpocQ9ZwTpLLtLiJBoqoakIBoblDQrw3ASBNAQtdAYKhcEcRJlAQAHHmYIRHAAsLiiEhiw8wJHGGGEClUgKCq3QwFRgqG/C0IaYACRk9TFCRgY4r2VoJFgpenQ5ZeJQ1psBLCPW8lLTJjoMK5hYVAYnHoqxFGBQaHmZr9a8+qxHiZPCr6YadyonQdakcNW2+yFiTQWfTkbd+xUsPHGJW9EbTEFNRTMuMTAwqqqqqqqqqqqqqqqqqqqqqqqqqqqqqqqqqqqqqhAAGZpbUHtyeAMAwhLh1XPmXTmYCBgUBz5oAn9MREwxkmzGQmMfBBs0Sg8GgEKNDTMiYg2BYrAnzLKg4GWbZO5C0VhYmwx3YGlL+Sh1lDhgUYEkYMK8SYY8FZak8CBbDBEFJhxIGfc0Z0oQGgEmFALtJhryosMIQ1RkGBAYKAIFEUAgobMKSUsByceAjS4GCCZcYAWFmpQQTeAx4zRcGGDQGSypg6RmH5tHZrhZggqHImbT1C0Kg5hCm86ECA08NdEAQYQlSdH4HgMs04DVooYIDAJCHYl2zSVa//PkxNprdDpigOay3OlqiYcCsG24h4PDsmHiSgsdePN4iqRQFBlUgc8osLDgYVGQIKMECQtlMA8WMBIEjAA5jCpqLhLlAEwGEmMiiqAiYmFDzROXOBQkUlZRGEsddBd5zAQeo8jMAlkXzEHAgKbiBFzGwAQdLBmwkRA7zAgtfsogMuSwEu8qZ90JzT4rDrCH6iaOy/mJOstUUBL8u4yZiT9Omy2Iu6+zrRWTI8qmfp2p9jTTn/d2giDzLugeNvI/TLspZg7zo1ZU/TbPJFIjKF3Uj+tNyjMvZU7V2ctROleGTEFNRTMuMTAwqqqqqqqqqqqqqqqqqqoTd4K5qGxAAYWAAzBsW5ML0eIwVgMDDKARbwwOARIUmPT4ax3xhQhtMUyRzWuYCCJUFhj9sH4ksWdUeS9WgDQEYiFph5pnZz6AAsEANraSqRxhMLGIRYGERNWAmFssL1FngaEzJYvY2HAEwSGgMTjGYwMIBkxsRTFYaFWDvcYuaJx+9HvcZ0xyCJjuQ36VKDrdDDeMpM1AWaqUtNQlARk1jzZPN+YBNIAwFCcgpkgGBeAoAPEgRCCTEMOOI1wjHuMVBqBeJQxc5lMnEShCieJQmMOF1i5IcU3EVFMcoMdihf2eSRUKXSRE//PkxOhu7DpAIPcyfhpissa+1BhCpWJISQU4wNVkUChpEStwVgNMIEgIRBhqOCsaAFkS12eJ9As4SvDkU+goIjCyMuiy+jUJcZWZWZ1WdO65SBzpJrooQE6Cw5gAjRisplFGWSQil+U/EzgEKXmL4uKFgBo5cKnK+oul0wpqbOVVEinGay/i/Xidpi6trxL+LI0TDbEGv0ounUFSqSYfdmkjVQQlizCeMShpd1VdS+kFkbHNhx033VVgpsbI0yLi7mntoy1uinLM15Oo5kHz7iqtbE9LNdRsHBEIb/1IzNz9TEFNRTMuMTAwVVVVVVVVVVVVVVVVVVVVVVVVVVVVVVVVVVVVVVVVVVVVVVVVVVVVVVVVVVVVVVVVVVVVVVVVVVVVVVVVVVVVVVVVVVVVVVVVVVVVVVVVVVVVVVVVVVVVVVVVVVVVVVVVVVVVVVVVVVVVVVVVVVVVVVVVVVVVVVVVVVVVVVVVVVVVVVVVVVVVVVVVVVVVVVVVVVVVVVVVVVXDB4Q0V4bkc+/ZeyUMFWaZoBc8w/saKmtNmIOiEFAcDAAQKQCI1Iq8QzcsLkg9s9EXYqxt+IDCoR9DmyMu+NwDGJSFxTBGQkuRE1iMnQcmyUd4/UdS6HgBOCQhOolL//PkxF5MTDqPHtZesLBXR8BfFMxn+TsQ8Y8VNnI8cJE40Kx0ZLpwX0WhatNwOJsYzzeGgq4B9utPFA3syTLisMlsKYtq8mznLnQ0IDGtkGQ6K/c7qBOQnjymoeGJ7FhMRiQILkeJ7i7kpG89RJdFEu2fsbQyzpRWqBsjwNP2d63qBtfq5cJQWxOEgJkomRHzkrbW9FPVK8ZERCeQm5Dk+rGFW2eq1pTyDhQEMVjArJhwsrZt9CYmxXQYskPOYzi27a1lUuE7msqI8146nZb3GSkPvZ1VmO+zV1FMU6vFpFyqTEFNRTMuMTAwqqqqqqqqqqqqqqqqqqqqqqqqqqqqqqqqqsEARPfAgCbmMXh400ODWKcVCCgUaAnR0RwnOZAZHFZgYuZ4JmCChz18YJcnKyRhjH2st0UDVMaW5pLHWUYFouaLViAILoGGaeV50YigSK5nDBl67ASoargQsXlFkiZ02yGAmE2ATAgsQAMrkaQJqnCiRGkIFzDUMI9B4LAC2RYOJCWZGSYwFF8oNdYIiNiECnCBc0zQigxvyEw1mTdcAhRsqgtBDBi4FEICVhUHFCk6XjlJaZeaCrW0PGPOUg0qFTtGRUaDTtFpnDLusDLasNfxZK3E1nBMQ1o65VYA//PkxN1sHDpW3ubyRBHJovxIlgUcZllKYsbUsSvUeLmtwaVZS6SBWumUOAp8u7OhUBdb2uqAQI8nEh0HgUCKJi23jAzKSTQQoKzFkKDCUdC0BV6XKCFKVvYYZc/sbYAhPQschgIJIaWrpSxFttWurRZQvNuiVKIS22QkRiFiBFYii6ICfQQMLAoE1nNybmmDFZeiayxkcNq6YIq9xFJNNg1EIdAXO3aMt8yWeiEPqpqCNuhkwEwylVUwkBKEp/4kFB1LVaUNorLmivbSvMumIMufZeKyUfZAyFFVAKyhx1S1TEFNRTMuMTAwVVVVVVVVVVVVVVVVVVVVVVVVVVVVVVVVVVVVVVVVVVVVVVVVVVVVVVVVVVVVVVVVVVVVVVVVVVVVVVVVVVVVVVVVVVVVVVVVVVVVVVVVVVVVVVVVVVVVVVVVVVVVVVVVVVVVVVVVVVVVVVWAAKRtXW25TIgGFk0tfFG4zLbDkI9MyhdQ5MYvUYDCRh8IGCwA9KECjLDjDYEhK/kTy4ZgACJfgADltJew1YBf4AKhrDzc1KdKWoFNPVVTsRGlMHs6f9Xt1kslTNBJEZ0h0KWtAw6iU0h4e3JGig0cE01iF4ojQX4ZWi0hl7DZqQP8xplzOFO2kAYz//PkxItXpDpWV1zAArMsgJpTUqKMvtbR5aYpdNuokwXNRON6C9JfqPtYn2XM8nrsNMIUpbx3ollg70ujN2jfZ9JdH2ct2d9yY5TzckkM1J3VjVPumuxl4HmbrGHRep8InFIPfWCHrfhwo5Qxy0/Mqs3J+ms3ZVnIY9jNQZDcsgaIt2k8Cz16JSWKxaio3JRCaw+czDsUh9OlMZQ+G4rBr5RaYsyOS33diD5zMpuZ0kxF39nLtBbfp6ew3Qw4+biwU+sooIfoHnjt6+/LOX/q3oYv3X5iEH132lrswBL5NIsVAigMRhgzWlGsmDCWYSGAAMp52sGKSWcFGpicCGpxYFQENG0DAaCIZDAGl5InJhsxQIQGl0wxRHE8FGrc3eelm5kBAZINAYYVgMjODQjkLI4gFIwJAj0RteYIDDHBwykJMNA4LMBTjNzs1ZMM3UjOkyDUymmpgtacEx8PAImCjMxACXo3M5ySMufzD0I1AENUIzIWdYrjL8ZgsIn2r0ywkMoJjHgQFEYWGgUWHHuJr4uYSSmXvJoagPextpkalHOvfUTZsvSB4zacY00pXsdXCm4qZloaa6lmjn5lYKBic2+4M35DcmYz9SNL8DfZk2dDNTeDkDCIOXKYMnbEPb1K//PkxP92tDokwZzYAKUWxEEBwYZEVGaFQkMIPGLEgGNDEwlPNlhnY+bygmcJJt5EQlR8BsZ3NDAMKmLvmpnhlSsZY+co6OtqGLMWl8gt0tzV2OIxSZa7I1L1AFPMTUDbEwQIB40/hiIWLAY0zEgcNBw0AmPChj4MDiEzoyNJGjUngBBJNjCg8BBYwQDNRGaWrcp7FHY39388bNNhnl+8tuwXrgprjBHIhyINYkFJdi8opYu5DTLzOFiQIDnc0MEM2ViZcCBQwoWHigxkLCAoBHhhI6YqClqEEpg4mXsEQYDhgoHFTGAgbTVMQU1FMy4xMDBVVVVVVVVVVVVVVVVVVVVVVVVVVVVVVVVVVVVVVVVVVVVVVVVVVVVVVVVVVVVVVVVVVVVVVVVVVVVVVVVVVVVVVVVVVVVVVVVVVVVVVVVVVVVVVVVVVVVVVVVVVVVVVVVVVVVVVVVVVbbdo238KTktAYpmJEjLFQyH/Ir0YSghgsY/zvfx3SHp9jdrtjpeR6crw3TS+3B+VFLIe7EJ1oqjsNsmlm4zK2VM/kUHsLdwUAkKxKA33bVlbc4KpJvkD0WEngfWLS2av0p1G9ZRDteZv4U7W3n6/8PzcYj0DUT7yN+XmcuA2tztlocdtw29//PkxIZWdDqiV8/AAs8rjvpMsjBQ2hwA0VwHCYfBThkhFIoLuOy9r8DKkdOBH3V3faQiorGmgHAdR63ufR3JUqeJF1y07WmusIWpFGlvWw99Fh4HQYUQZEIwAIi1YAiUDl9yyicjU44FSgI7vCICvUky/DNVFy8aKbRmt5y9W0tiXyNxgUxVQMIBSjT1SIBFprfC4TekWEJEbRy38Wggorem4uxgiE93oDexXagkte9rSliCkiduGXXUZcRxWkOW67d3qa4sSCHydCHHHkzbytQdYd0GGJiI/7t0mc1MLkg5TEFNRTMuMTAwVVVVVVVVVVVVVVVVVVVVVVVVVVVVVVVVVVVVVVXZuJqHVCMEHNWBAqI5I0smOEjiAj6vTiUjRNCZ0BhgsfIlhcwsqdUeYUGrxMgHLgClM2LQDJzmSClEpWBLcw4B1goUL+puKKp/KxKLgkIPCqKTrArHXXAQ8WQUdVRhQN9iyTaqQV6W4TxBpR55pc8nuqZytdDGWa0ai7Y3NiRENZXGiwFSiflZQYGctMgEEFblcDIUOPpViSwybowQwDNTJxhUyaMmcBLBYSAgDPFM0mujoZhQItAEB6UBaEq6A78LICSoOaNo4C1mEyBTBsQggeWoGEpd0BgL//PkxNlrRDpzANZxyIVOCAQFEQiPsBAweSspVyaapgEAkQNbBU8Ffp4t6rOHMsfUMEaAFLSCCpxnBAItFldQY8cmQZMYRhsPDLYObMEUgJIBLFTPEdUukNgIUfIW7BH0xE/3bSGBy00YKHlA4IRdBGXrQNLxQ4nyNSfUCjdNHOXp8JatXFlLgQADPzMQxpMAwsRShaJAFPGNoDVMmQDAUFH4epZzSILVjY8hIQ6DUmWI1AAaDiZKCz/PwyaUS1rbJI6yxmr6NcxjDSI/euNB5Rs5jUCRqcf5yYYhdR2oJlEaTEFNRTMuMTAwVVVVVVVVVVVVVVVVVVVVVVVVVVVVVVVVVVVVVVVVVVVVVVVVVVVVVVVVVVVVVVVVVXd5idyyQABlYCQwAqh2QkjwFhgxgUmHcHUY45aJo7DvGDwDEYA4N4jLjCR0Gj5EPHAQwwwhhyYyRgEKEA0hyMBEhgbJtYwMggJFBrLhRmowBh7c1yMFlrVcqZ1GZt8qk6TwwiWLQFh4gIgV3qBLehgu0puoImUpQ91PDNpUz+r5LYtIYA4yjtpWBlJghqcNjTrBQJZItoFQBY4hOHHUAgLNLzmwIquDhU+zIRCoAMAUPR4bODRDZKQPBJQBEHsyEFBITHvA//PkxMVmRDp24PbybCEASSTWDAhAEABWzKudgtSIiy8JjAuMX9LdgZRMekZ4YApbgqkJUKZqAq8BJQCGDljADBA5e5gSTxnqMXUqZEhKEglip7qzqgGgmfDo4KVR4UFioABZqv13GaLrSFgZKdJhxkQEv09QqE5zdYyFQpQ7dWMwyKAr3QpVpld+Rvg4TdnEcpK9kj3RBPV5FjOypkvGCGROnFWuxyKw7bfxnbUHbhhrTSVi0UNt7RvguqeuP9DVE5Uqi1igsU1tpTW4TBEDS75lrtBII3TzsBWY1zG9c7ZwTEFNRTMuMTAwVVVVVVVVVVVVVVVVVVVVVVVVVVVVVVVVVVWRyAFUS6UPNZYgsMXxIQ2Msj1PYY3NsjAMUwlKAaBQDGAASq3mBQgGA4YGbkBmn4zGAQNlUEk5xUAASASepgUDZiCPRiWf4GRdWtdDQn6g+5AZmEYMgGsFLAuK7Tfpup8KrEwc8Ho5R4x44ZJu0iAYUMZIeVQBU2n/lmXDgZKlCnsv1rSMTLDApQMbbG6rcVBkhlY20iZm1g8BQAqPKhQQmaVmYHvMaqeKJXyVTMCMLBEyRUsyYRyIlhoWJ3SplwhgBY8JAo40ZwCjQUhb4yAAi7AY6IA5mnZpk4ED//PkxNxrzDpNgO6xGL3GHBEohGRAxphdYAiMYBhZsGXZeJTcAFREAQnblrEUwDPI0Ffd7VY0FYUulkTuvQrcHKMIlYn/cQ7qBqzuICBXSWAlzS3txyo7So8p0ltUeWzIZAYSNTgJCqWs5GBGWgC0zsgUtUPCoaKEHpImpsPq/iVI4FfqISz1QLwgh3lbhpz/m5LLH8TGZs+sDS1+3BjsOuy6Eqo3ScdmRexxnuZjAMWiUFu7E4m7sBUMzQv7WhqB6evGXUdq3Go7CWbP9K98g2HX2haJrk2qWzE73yrKBo0qTEFNRTMuMTAwqqqqqqqqqqqqqqqqqqqqqqqqqqqqquwABjAawsAiCAADAJAGLxgQAQwCwJTAKAOMDcFMwTgZjBZZnMBwIkwIADi361Ei0QDABAtMAcAkwbguDLsC9AQFxMAewlrBd4WHIcAjAYOMgJE6gaESy2D6piOnsGgAwYBjBQCNtA8aH6IiticJZ8CgwxMNTUtHPHoExgAwYEwMKQqDAENi55gIPmDAUYGOZzwmAJ/Q2/rCFgpt0yyYNJYhQRd4G5O62Jp4GGgkKY3eC1tKwOebV5kCk5AAQNpXDnsUYi6LhoypAlAcypkPqDypbKlLJIKlSokGgqDNXEKC//PkxOBs1DpKFPc01KoChJCoZk5YHGVCGGFGMWDTFhzqs4lj0L5e51QEJhU5GoZh7FYvH+L0ySHQaAhmXshQpL3K1F7HrY43eefEwANVysC1m3YTLlb0j2VNFQv3FoPmZbMOFDsmfV+ZRL5l/QKGBAVWlY0aXKmCr1ibsLqaa4Sx20XlDSk3/aq7zhKLUMvnL8r1UgJMsEAppxcYndmq6looJcWWwJD9A8kB3XSpKaneJ24/VfBx0yCYKzJYoKGJMPCyeAnWchVeG0lWvrFp3zX2v9AarrJ/YZmY5x9GMsEqTEFNRTMuMTAwqqqqqqqqqqqqqqqqqqqqqqqqqqqqqqqqqqqqqqqqqqqqqqqqqqqqqqqqqqqqqqqqqqqqqqqqqqqqqqqqqqqqqqqqqqqqqqqqqqqqhgJBUUcdkltqA5lQEIpl3hYEzcMwgMNGyA7mEgks2zFH6KSJXRYmAdZq3Q6hcq9IMwstMpIzHjAw5lBzygEkE20K0reQjJk4MchFiQynW+C3FomGgZEUGWkJpgsd6qBQHdgFBKdCKiwYhAW5n5ZWpa1NHKsxDb4MRf0DLLkOZQpCL8nlyK2qgTJbdMt9XHb1h5VIssuU2sWYazN4JbJSA5wWEYa0/bHmiLoa//PkxKtfvDqO/t7wflo/0SdzS5Wz9fCapdNLwEhUFKAKcQVbjDYWFNJFSKZQ1S0kYg7kpi6iUEw2/0YRLb+nl7K1Bouio8ywciTAiKmCgfHCZIzxnj8QAqVrCmTOHQbSKO9M3GkSVs8MWKbscd2WRindW44DWGiSVsttROheWDGsSSUwPBLxr7h1/nMhp3JbGG5sDKKK5ZOu+UMrjbsO43FWCV1ok+8fhb7uQrpkzatvG4AWAX2v8t8rxuwQdcqK7d3WUsZLDo8dhr2vs87/M+aDKmE259uFI9j/vui4ZMwxTEFNRTMuMTAwVVVVVVVVVVVVVVVVVVVVVVVVVVVVVVVVVVVVVVVV7AAIWgjCgWC4WEUwQBYLASjcIQZMnDIOF1ONVfMMaCwct7BiAIoDBk07toQnDinAsFMEYSvKFJniptDZy+hzCZrRRhygcLLqpqsKT2LrkrTscvoP2D3hmQmhbsqTBSQKNoIjInii6LSBJDxFIYY2TZFPo7gKyCAI2KNFkhcJIIuuTlPLDK02AMDwhzUGchWpeoxIT3XYQmVrSXSMf9XaoAMpIctAgFUIBw0aG0LAEzkh1mpEl/Es5tXqgLJBl7DVUQ6MVUvQTFwVLF1J1pZF+UcHvAokZ2cP//PkxNhq3DpJ7O6wVDAl7F1JqWOIIANNa2FBA06HFoj3y9C4YIk6DnuAHNVvM1pY0MtkiuWAOkaqGAIhwThJCmxAUmHLZfBKFKFaNkfZKy5upe90A4JQcYcLgQXWUmg5QQIeoNPR7LeHFKAY0aLvgsaE40OTqg0WGIWjLF0KOJEiAijaK4ldnQWIyFHBgkcXyt1pxe9H5Ds873PO8bTmbrcU3FCIBmzJ1MgaA74oxSFpYFdTlNCgdqC5LC/HjdKXqZMzZSrAlgvdxUJihD/MAYo2Hjd1mKXtwY6vJ2LDdGaKTEFNRTMuMTCDFAgUCyMYAgcHgA8Ov1iabNsdIhiSb9qViIPARhxhVPDzBQ9CYCmBjhRihIOJmQPEjEwA0RJDEOjSEiQAY8qIS7zix5fgkvBJAMEmCIFC0SHCJQCDRn4IWCCAaXMDpy04QCaSws4DPANqZlw0kJ4Go6DIlQSALHDRYQmCmQMskWZ4wIkJRDXHCjBsMGkaYhY4slG+ZncnEMlebrKixc9hLPBCglwrAqwxRwKYgPFGUKwMA3JOMGFhAKgSAwRmp+gaNDmiyQAAQEaZJFg5cLIGcaX1j6RUNCIoBaQ8FEBY5PMHLkBCDoBJBI5dxM0MFMNRUqV4oMrk//PkxPdytDo8AN6yXMNkBJiyYGgZCBABltsKL6myYrJngQBlQQu8MFF0UUgiFIsRFMtM0kEAko4QOgog244QWOnwGX0RUWDM5RHkFBhxBflC01Akry9RCauwuujQimRBIqvg9LBlagcbSvkwpjKLhlBLBmWGc4YIEU2A/rWQACj8xgvcMxMBB2JMuik5o0O9d941bi8CQyw5Icw4JISJN0k3zQN+JMGWyWkCo6qypVa2QLMDjjUAGoC/4OQBIiAlYcaPLqEQYWBC4I8UOhhU0SFgFyDCCIAlaBo5FlE4voyuTEFNRTMuMTAwqqqqqqqqqqqqqqqqqqqqqqqqqqqqqqqqqqqqqqqqqqqqqqqqqqqJRVWRssLwywkzKMxMM75oxRozJADCSqLNYNPsvMc+NAiMsQEAgAlkdTFAjQpwKjMWZEnYCWgJabtEYISZoUeAuFgCE8CggQM6KRLUqVnGEAkkSSFISSRSRPEIZQMMplv2ZGXiigtEuYpGBRQMwEyyJCSVmCEY1cx5cAvmiCkCvALrvwRHP+lQyNrYstH9iyO4ACoUr4CiKpGeG5pEEAAIUIzCYS+AQxwB51YeOLRHTP86LssCYrCUWVlp0oSlnCFBqA3VBwmNQLiSdMIUj4JS//PkxNBpBDpS8tZw8BhgUQR4RiSASAlwOSIxryFQgkyKqP6WwocFngFy2IoUrbL9VX+IUAQD+tQWqXYKGJ9lzxUAgBCC0igBseZQpUtulSlswhBwu+gTa+w9fb8Q3FYGZc0dx1irW9Thaqe1ZOlga93bdujwVXvr/aHL5PTPSIAoT7D/IHqArUTtdsoKWqZSnKpJS93Z1TKURKGNLVbEuVZcOqqIUlpR5krXamgyJNNVVNKPNBTqgMmgrxn0YXqiSuQChl7YiYCPS0Uvl8RhdrwBwmExBgK8oEaQBFDQ34ViTEFNRTMuMTAwqqqqqqqqqqqqqqqqqqqqqqqqqqqqqqqqqqqqqqqqqqqqqqqqqqqqqqqqqqp6IaYC3Enf4VIzMTsxIGABEZAVGTscSBI2FSg0sNMUGE8Td+M2FbCh4Z0WGDvJksINdHEcYJ67koQCKIkjONBbR1jmo8VCUzlcvAXFAio82Th1m7PKWXNYRvjGHQEg5gHrLfcFmQEaN0ZWh6VihVMxCVrjSomuawoBEjJhMJpkgLKnlXi/alrNllhjGfuil8W9DGvEaSSxDMtaupsIOIsM2o4gAPTzMzw4jcGcN43BBRk5UOpOKJoIaITjRYJUk2k9B7CweJl6dDBm//PkxMpnZDpi3N5wuBLWVyKZw8sIwlvi3xdBVNH5BxCCWPCyxYFJlalqH0ZFYAqFxXYSkGgu0iuwMIEykvOwFS9hwZAgIUzrt2Zsh6uhkAyWBVZ0bmGrSa/8tbmsp1GxsTVvIROqDgtpHEI54Agi6wIkIu+q1gAsVQ5bi3pe3CAlciEynl9LfYCwSKQXGUVlNmCIPQemDdj8LchlbM2hUmIyZdEGF3VFlmRFoa+yqBSxtwQVlrOkfl2GtEdJDgpqj1NML0VejIPDiENQCnc1NyFoSp2Y41hTVSClTor4WVLKTEFNRTMuMTAwqqqqqqqqqqqqqqqqqqqqqqqqqqqqqqqqqqqqqqqqqqqqqqqqqqqqqgR4KdoqKDL3V7CFKgINJkGphoeZRgEF5hACKE0iCMwZAwqkKZ+5OfXvkcnr0a0IiYMkcYthaEDgYphMaEMcRL4caXoaXr4Y8B6YqBIYggWFwQMLgAMUgDiokB7x4YqbUTGek5gAQYoAmQqR3EEZujoqQcPCy22kLqECQqJBCDSQU5KVqp3KSvB0kHCIzXmtNs/jXFmKLtA4kKwRm6fa6x4aOCA9vWBw0gAQ+RmBCwKJTtWJC5KWVFqzT03gNCTOwgiVoRTLzqHLAO62Jnpd//PkxM5odDJZYO7xBUEAFQtMMJYkhIQzRCL6HmZ1aZTlQCHVN4HIDloTwIAwOSRamgs2AuovtCpLxorAEoI1L0i0lGQumg5AL3E0AwZcQgSldBiXavEObZwUxbSbzu8f9rzxq3w08sMo2SueWi/DS093qXhJlkLhSqWFc65MOQwVy4u6LzTLcJTJqjwQG8SxXAZy/8BQBKlSRGVPTNRulZ3DrB40/cFQ63BxHch9dagjR1oV2hwK6Kp00GMwY7cNQmTzUQdmc7ADlv9Mw3G27S2Stkhb8TkarTDc32lkZd6eTEFNRTMuMTAwqqqqqqqqqqqqqqqqqqqqqqqqqqqqqqqqqu0bEAGYCwB4OAlFgBnFjScqBAwHgTjLoEHAQMwGBFFgBjAJAKGQHTBcBSMDkOkDImGJgKOCQKzAmACBQHwBAkEgYTChJBNOstMz5jWTH6EhNCkAxEEAwPGJAsZhiZ48imfgWYzHRjMFFuSI7GRwqYqqB/Q7HKXEZ9DhhsGAYrsbDAhEUwwE6mCqyJRlrashIiKhAJJAc9aw0REARrBP09LBKJ24mlQnUoTJpe7i/GGZIIEkm+iIFHTjJg1BzR3MkwHegUgK/FQouQsAcmBhDgQQMZLkpllwVolr4ug8//PkxN1sDDpd7Pcy6LDjIC8kZhCQcCQOLMoMECFnFptiBN54/iQA9EYBKq6CyRqgiFBCC3KRxlcsaXeBg02ks0VY23Ru0PBhjD9rDR5sMF15Mly1VERzEt1QzUqbLGmGuxDTFn1h1ubbdZwyWBXahhrEvlUBQA7M6wpgThQW6jX3JdqGINhdimed7ZcuR1Ids0kvp2DShzYOob0lg1bRdSOVL9mbjSgSw9hxb0qdBvoBTQLvIOs1f5+Ew0eS5KymlyWMLSYa+rCGpqWy7GjljgNOhFh4oVKn1fqJUb9Q9a1VTEFNRTMuMTAwVVVVVVVVVVVVVVVVVVVVVVVVVVVVVVVVVVVVVVVVVVVVVVVVVVVVVVVVwAYpBdi1QtsgqYngoaOAiKBcpREo+IgAAIOmX7TmIAfpaKdDIEgIFDBYJzBJ8j6RpTT8zBI+TBUFQSDiCoOGAxSTA3eWUwsBMeKAwLAcwcAMwTBgVB0yRh08pVQ+9wxIELNESC7akjNfD2RQ5S2diocDTHbMY2mcs0gOZ+n8oTGGVmPNiECXFZ8xtS5cxCEBxQHFp9Q1eCasdHQJiQBkB5QEd5OdiTzmAHGOQmbWAJcw9DQxg8sya3OdlEbCKBnoOIr/QTJjFQoGMS5y//PkxMxn5CpZQO6fPcZ2GiqmSHMyrNCOFRLLQKCGQTIS1xurxzqIiPFyxYOTJQg2CiagxVHOmqstdTYLAgYOBRwAgIITQYS2jW4UhMUpRFZfDLXhgACCBERTQbdBowoRCowIcEk0FIfYm5rgOU6irGHnI+Ryi6EdmHW8WhCy/mscg8CYkykRikMgbhlNZLj2E4Q0pk6hKcbBThSDkLuklchxmAMajMc0TqTJxCEmCjUPVj9CEsTktyyr0YitLyGK5RuO8VYjojG+xZ1hbUhuKOkSCrYKHnOfTZeDuR45ZCG1TEFNRTMuMTAwVVVVVVVVVVVVVVVVVVVVVVVVVVVVVVVVVVVVVVVVVVWHAmELgAJRYJOBA0vcBgqHBJdJgufhDxMDDowMAlNQcExQYGLW6a0JZwsrg4CQtDixIEA8wzTY+7jw14IAwCCswHAhTEwVBQFAwYQmYawnMZsDYLBik0sIFQJSYMdkXMvkYN4/MAgDhpiRzBlNDNwhWKAqaeTIpY3NOAEATNpjVAiYClC367C85mk6PK51Lmtu5PqNGFCKOrMaBhLcUGTHCU7lwK/lsSeAGjDPjjACzOkQxO1+VMzNA7NMEMydCwJXjM5cxFAstCnMtyGocmZKoIYUQCA4//PkxNZqXDpitud0yAg4JAsjZECRBoooKwGnNsubR4ZGFg4OSoCR0UHCFoN43YLgkalARABVii0Ay5eKfKgy/M1WSl8EFkyVDFK444Mi6+TNlGHKV7BD6ShzXQQ0g2G3fXy78DF7IZo2cOSps9zdX6e6GIUupTJ0V0xBki02uNCXi1yH1stZawPF1O1LU5ZldllnQIDhhGUtOfq+98RGgr+S7CFO++zPmSQVhF5uG37iwcHlLXW9hxlrtwTG4KhMJgWGlisaRYkjvtInnLaQVA74uvIJu/P06wT7SaQ24nTqTEFNRTMuMTAwqqqqqqqqqqqqqqqqqqqqqqqqqqqqqqqqqqqqqqqqqqqHBAADfQBKhgSDqMrbEoAsuEAGioAGFTAmmAyGQx3GWQWg4OowqcUAwwrE815HQqgCgHCgCMEEAOEBHmizpn5TomT4LgkB6cGAkwSCC7YsIDTaZOOFgAgQsCIEicwuGjJRrMnLg2HEjc7hMeilSpZ5aAvUNA4ywjx6FmCwrD6wAoBkJ4OCowKjKI0YkpmKqCoBlykJc0SoygZFVrzgLVddBEFRaP7DmSVGhQKIRCoF/RGN0zci2zIwpAL1rDLqi6QypzGCTMJVkLXpqf31f9DkARadb8wp//PkxNZqZDpa1u807IEwYgJgZSHQkeEkJeKgFLggKnqBkJddPJ/viKOwKFCgFfMPwI3ktbUGAUEiC6wb8trcStR5XLKIzchp/51MpJp7HfS9L4p0qAwFFlduE5rMS8ZaOGS1Y6HZUMgEJTF19r6kb1zKmSpnbiMMXaaDbVh8orAyYtC/zN1SFkjHhGGLlijA03oES8L0oRx1f0Llr+phIOvZbex9XGh5lqmsftTlh+pZAyOSAhr7WG7Nzd+ypq1FsE9XYo8zhx9ym1oHhoJKsKy2FODCYpcuyp2G1l7+wLJKZzF3eQfGQAAuBqYD4VhjoA2nEgEqYswlxhoAOmAmAQJAYFpgIAkYNJQ5mGBRmCGB3JQIBWEAgkgGBgcgcmBEHgY6pwhl5iLBQB8wcKDEBLEkAAgSYGQZjSon2GyYqCJgACOqLB1SoRBoyuLT1e6ObowyOAAqAEvyg1lUEGNxOa0aZkoNBxPAAhEgethBIYDK5h92GWQGQBBYqzS45UChgogmRyoABmNB1kQ6BQwMhAGMEhgxoawQKBGEV2KYqjKgABQqMPn40KEisFLPAIAeFKswEBQYKDHRBMRAVniPzBkZU2FDgvSfbiCEEClrh0WBkIQuAaJyCqiiN7umWEp8//PkxP90lDo4APcy+AEJ+ej3KKqmAJGNMILmJzBUI2WGnuou1LQFBJFCgaoaq0V0l9Ein+C4gOGh9xF/LISqm2uv8y92WtuWuaHUxWFQM7KzFhXimkBJgChAr8u8r1/jQnRGWiQBBQVBDGYwpcIhUcnCnXahqakU0+0w0fKDHnlJblcCOV8xiQcSyWUwIhOY8QKD0JmtAopv3dfV0HzGFgYfDVCj6hkvNxICgiZqSN2YJfqBJOXxl8liDzs5brAsNO81ptn55J5HALNYk7r1R2A6kP3I3LbNBHXvp7MZj0vqTEFNRTMuMTAwqqqqqqqqqqqqqqqqqqqqqqqqqqqqqqqqqqqqqqqqqqqqqqqqqqqqqqqqqqqqqqqqqqqqqqqqqqqqqqqqqqqqqqqqqqqqqqqqqqqqqqqqqqqqqqqqqqqqqqqqqqqqqqqqqqqqqqqqqqqqqqqqqqqqqqqqqqqqqqqqqqqqqqqqqqqqqqqqqqqqqqqqqqqqqqqqqqqqqqqqqqqqhQRUsml2///5WJOEDFkTqxdkbczFlRoqhIEh7iDIV0ygEUchhYJM1eT211b2NS5W572DIgrBu8wWKrhacghZSv15qCVRuYeaNOKnKjMRSZiiiw2narfX0jKCktu+//PkxF1MHDqq/tYenqyOxI2LMTd1yHUem+g2kwg3zHkORNM/jmEZcc7kJmL6aJ/oyZzYETZUncUkM/Ue9nHpOGze4sDmnHBQqqOtuMkjo5ThPxduZcVydN1cnkqW5MKFOFyvrcFHrathq0mKgV6YjHEqXrDA7w+HJ9CWGvwXbqBd2xnYdWj9TrOo2GPPO4JBglc27K+91FcWXM0ZpjOTBeGrlOVJ0E7eXVzuiuJSwsqhRJOUNbaO1bE7BVFzzTs7m/Q1GuC/HNxRMioH8u4b1pZEdIhUr1R0grz5HSsjHEe1TEFNRVVVwBEYFgOYODPMIECIwPANDA1AXMAkEAyGEQTE/TYMCocEwrQKTFGFfMPIBQy0LMcIThtE64LEJgGMRlAeRAiMoBIAUBmdDZfwRAIYEAhNM8EQzCAg2WZCAYz4AaEAAlyAapOt3AwIvaoYKIgFcUUCGioQKDDrICVQ0MYQKjgq5Hcs60M1wRAUIRR5lvBAUPjpbp7gpMzyFCwdCyUGhrCCQpkIoDR0AQhmOS4gKXSiVSbFHFAG5JpN5Yh9pKxWprDqKojKooJ1RCR8uZY19AfBzAG5hUFIdFNQ18SgEvAl+YiRoCL9VRStUvL7AQBVQChqBoJooh+uu3HW//PkxPlzFDohYPbycOrOEqUK4wre8zdzJTHj1nxBSti6PaeQFJNs8OHZmsMh+aJIEIAzi0DAGS8XurgEJGw0JMA0sHFv3pXcRZWyMwQVvrZGgwoMcZaObD0BZlhjgQGcYw5JhCIaQ7H25pblv3fLvoieCCDSEWi+DusYHEz02OZYHIMoEhW+MQ42iG1Uwbi97Ay88aZWvot4YY5romOSZYa114U7fQ4aBy+zLFRrXKYqaCxsJGcAhu/cBK2JnJ9gARCQBADHBAo5ccGHGUQt1TcGhmCCzVmcf62BABZaWhLVCEx0IFPYwBE0YIA1SfjSFhxgAQYaU1RSX3k+rWLD+OI38Avo05HFMSNqWMuQObdyi5iu2cF/4cJgqbriWEbAs1UKlqD6litisE01Zp6OSTAAQ5ClTKS3g8/MuWzFWOGmRu7Jmtu8hQvh01A1tI0ui7Za2BniQTpXMbXyt9HhH0EpGjyZAGndFXA4pY7DLF/oqI0NRT5cpFRYRpYNGYYkY+GByJq9goEwoMaCEoAzAosqacasIYJMYgExEyRJAYkgpnJjBpzUiYuAAhoxZjBwNZnXVoBTerwUONYkNQ6NuBBCw4y5WjIUKGmJGscDSU3i4tCYsabbUcJsYZCaceiM//PkxP91lDpAwNY0/hUuYgMSGCggasmJJBVWcOOc8KcSsGdzJIDZGBleatiasAbZIZeCcsWZw8ZacdyUYo2dfifteCSKK4yPQ0bmaSYbIwaqMbgIQiCISkoaFiZcCakqrUCjIFDCzkxJQ3xg3o9CSgINImMcGAy024kiEjgMYDl5jTLDBFx5+YQ4BAZkTBpCxi2Zs0Zkz4c6RUMONMCfAjQ4DA+qMmYAgKWcEaNS8KhEZiIIhJCA6apjTbRUEjBgw4Y1CaQ0IyJnRpKYMsHRCMwIaithc5gCBkAC3EAy3ERFhDJCFUxBTUUzLjEwMFVVVVVVVVVVVVVVVVVVVVVV/d2jsaTf0W4KcLUOUNMdi8hy+DjO4fhhibk3CGIaLQgFQCkWYLtjMMOM0x8jCEzPgOg1BJxYhLPE+wp843xcEIHCdbYiZDnOKZDFOzljb3A/S3oeq9JDEA6EHGWtuWrTgXI5cdgNTNIdSVSINLkd2NRdiCKiOCGj/OqwRIR/YxCAKBSpVrQTqvCwIBGJ0HEGIl50tBIKuZiCcBfRBwMOEIUHCjEFiIyKkg4oGBRIyYoWVQhkwZZwxYUBIB5oYuMaKIFFJ5uRfIySEOdGrqsUHiYGJmeAAcQdt0HnA4iBkJNO//PkxOFtPDpyVH6zlAA/EgRkU5pRJkVIWlG4HHTMhg8zPgQGzVGwIgNgsB1YHFDjtSkGcY0osYdeKBDBJwEjMsJBR8CJjMHwNlBoAwiFI4BBTQCDOKQu4Mi4FpRpTplzA4eCg82RJDQoKmDPmkXPKX1RVFVDDjNclRZWxEdaaGIwkIC2KiEIvigkQelpVKGRk5xsQhGAxaDLtggQ0hEvTDnIjQAOXaMoIGHt3ZAESJABURVpIkp5HlFZoCdV9QZBVj0eSjLIhgKEY6Ummqkt6IRF+EClKFbwYCvJOhBIhPWOTEFNRTMuMTAwqqqqqqqqqqqqqqqqqqqqqqqqqqqqqqqqqqqqqqqqqqqqqqqqqqqqqqqqqqqqqqqqqqqqqqqqqqqqqqqqqqqqqqqqqqqqqqqqqqqqqqqqqqqqqqqqqqqqqqqqqqqqqqqqqqqqqqqqqqqqqqqqqqqqqqqqqqqqqqqqqqqqqqqqqqqqqqqqqqqqqqqqqqqqqqqqqqqqqqqqqqqqqqqqqqqqqqqqqqqqdoWTtbboTcvgpmlBAJfoyQwMPhzho435QHiwuElyOBWcGPwydY6sbip0q+ik63KWv47Emo9T1zGRUMlsSu5UpI3jKorWSSeNTMB8r3FWopkf//PkxFFJDDqO8NvZXBuEKCOhFq5EJRC3E/GFrVGHTNhajaguMW6ufInuaztlcHFffMSQJ60v4jJNHbaOjliKlDVXGOZmRahcWgeYio3B6DBRww09Y7wUoLUW0AciuhshGTs0iCHHoDmPN0hyoRTCeRxJwgYmg3z0jTlC5pQbrwfUcuxCkOVjSvoQ4ruhvGWP5XJGKkXNQ2HynhxLldMy+yzHLa5UdE0hqHlsKJMd5EuRlISVhmeLBKLXN+fVElcEpcVFY9iO8Ma0Sl4koTwqXxsFNTAqMWXWt2FuLl16ZHDVoINWaV5FXoXmXuAIEGBQyGF4SmS9QH3xpGFAIgEGioAqNySqjZZoUBjjn00UHLqEQsowYIDFQAIhowgBBQeZ2pgonm1m5uKx5qCewgBSUqBxJBr2sOYesZXTuJLKawNAaCV5IALUpwrWLimdmoKJyoBAoiQxVSMLCi1JhwgY4mnJpIKd0WEDwMHiIOBAiY4EoRAgXNFHy7wsSW8mw0gkICU4ygQmBg4Upco0YcAZAFKlmgUkp4YbHf8jUoxJgyqAeCvAgNLeIczHtTRuzDhoMHjLAzBgkeiqBMMAM+DKzIGIEBwxJJbxyv5vgICYGNJG5mGpKGadgJaI0a1wIXNC//PkxP91LDpJgO70vKDChjPOwkQZQIYQE7AjDCMSAiRcBQNYprlJngBdYxagxYMCnzHGR5WYIARGgQTFQiAAChQVNBKISVhQSyCJN4yQsAzACmnoNpqEAJVdlYqAR5ZCCghMDMYMMYKYkgaBRSlztI6AgU5ooMHobxtcQCpDBcOGCAABHhVkMEwtmDtFyS5RkCo8QQziUgh9pajz1pyIHx+Wv61GCnpe1ymUgYEre81dy1HEtUJK31lvC09sbXYZZQos0+IhQKnpG2/Zk8XGZrBSUQgkbpU01RyhUcL+qMJhoWJMQU1FMy4xMDCqqqqqqqqqqqqqqqqqqqqqqqqqqqqqqqqqqqqqqqqqqqqqqqqqqqqqqqqqqqqqqqqqqqqqqqqqqqqqqqqqqqqqqqqqqqqqqqqqqqqqqqqqqqqqqqqqqqqqqqqqqqqqqqqqqqqqqqqqqqqqqqqqqqqqqqqqqqqqqqqqqqqqqqqqqqr4Cue6yNFvw4EGghdjWnbh33wiw4JC0DUTaYIy5u7L3QDhMYsjqxlQFPAMTDNAYwwEMdFi+TNDCr0ax3mexUipBwGXoYoWwMZJPQQbg5EHRFdL9rnVjELZCW19m92UP5C1NEcRU+B0YIAtPaWkU8bSiUOO//PkxHNRnDqWXN6fFpMIKm5DgomXgklJBjwrZUFLIlAJnj6UsYoIZa+wMYBp7w3A89IICdyGrx6AAs02NrjN8eIkxFQLaw5K9wV7+Y6Q2RrKBqjTPokNEhimM9iNmNQNNpGzAVEdn3NePGhKBcqlhKQ90mn2OAsG6iISjgahMTMvF2UytZFcyQYPTsivSKGssV+qno9btmZjqY1S+WHBEieH85wp2peMyEL8Pg3lO8W8eVFiJom7c6nYNN6ndqJWOppWpk0qsJOCr/B9LMTj29+3LuCxt6cew7xldaIqGRTVTEFNRTMuMTAwVVVVVVVVVVVVVVVVVVVVVVVVVVVVVVVVVVVVVVVVVVVVVVVVVVVVVVVVVVVVVVVVVVVVVVVVVVVVVVVVVVVVVVVVVVVVVVVVVVVVVVVVVVVVVVWHAkRW3WNFOSEoOAkduRaBiAQB7bElocKMgqNd5YFj1yiL/pxhURMZNggakaK8GGAAZMJr6MFLzSRQ6otMlAwUNrWbs/r+qLmBAmIfGKqnyfgZKY0uYMSIhZsgABonBCCz07coPDFUGIwCjBKKNEWMK5MmKBBUzyww4iUiEgJBzRl0O4oJEYVTAwaIxoRpkPLzkzcRUOpkNC2As5m30lJUBCwV//PkxKNdtDqa/t6fFkrhhMNOlHZgS2nXac0dPt0nxlAnjWNKeiablMpdocu3JjZJiqE+PMMEmpbVgmLYhJbTkNsmqhSjIyyo9JLL8V0pDpTqJiNamgKxAGQrEqj0NXRerHkqkSXIlqmnZ2FKSNi5ZDIgn4K+ys6r3Q+Gx4nlcW8fouR3nqG5Dc1O+QphTaXKND4CWcnNqomU4J0co1HSHo9XnYnC/nwZSMM860OaD9V6HFKF1IdKoPtGH6TMzkJTIrxN3ymkPVSnWGGZEMuT8sxdB0iLk+ThvdD2ZqkaChNxTGqP/EX/ntlnYdMFz+P+TpDCFMJwWS5asp2+AqC5jECxk4hsnpEQEYsRAQoDEQBPs1DA0Zo1xEyaIxYAsCzLDQERVCYBADnhjhIVHBUQkuZQGOAxoCKFTblTJDDMlAcSWaZAqhIHQQAaCaorGmbFBRIbF0Z1ob9acYOZpWB3J7SxkqprDxQ6snA5msVmUMmuCmxLmaUBK42KU5EcBATckhY2CCo0EaMkEjP3UaMAIpkjEDosQgZg9cdscGZKAwgGJl4GMAcVhAIFyg0I9MybTKxYwxFNWBzAwAGDoIBwwaC5aCucBKYNHzOAMwEIGAUGAhhgAYgBF4Ag8THMJEjC//PkxP50TDpAAO62vEgLfhAaISAzYFMfGTGQ8AgYkKFni/Zd4RAgqRGTChc0wQOWsPB7pMsYcIwBVNdjrI3o6oA2Ix5MlUIYCMgmlYmgOkrcu5MKSu9k8Mul0RruDOriX6pU09fiaE680qsvU0+Al7uSrl7FswQ15+YPZuxtDo+4MCRYjb9tEFoBtxyOQ4TAMEKLL2pqSD4cxfGZd2BXSb+BYcaqwOEVmtOkX6buuVgCmjVWcqXlxnJL4waRCKeTOFKTCQSHhEB3lcNeRXR9XIJDU2IwSDGTvG8stpVjWoiqTEGkAgiUBCBomUYs2XOaucQAEBQzMiIwPyTCMRwnMIQIBACsSSMTJFAsR4NkBeAgPkIEDwACAWAxaJCAGHDIxY9iLMVBwuFo2qWNVBA2kqDSAyfVNFCzCAZThQVPtnAhEQKEGf24Gdy6jEkFVXlnDAxMlDDENU31BBIYRDAGMF3lzwCPlEEZ+ZGlgBUDREQhwCu9N5GsMBwaIG+hI8ToBECg4fFgEwwFAIGYETG5iZgIQSnIKBRQMAQaCAQoTzAlI9nxBAOYGHGiohgYGnkDSIykLDiUxwvMPBjCgExkIXOYGEq8MKFTDgMyZ/OjSzJQ8wMJCAxmjXnHMGCAqmRA//PkxP10HDpCLMd2FLtobAYDQBgUERLLOF/Q5+dgAAokYmHia3zJBQwgEMHEDGzMxUHCoFSQLTqZM+QkF8rK8y8iI7EEmEe0A46AqCM4L6xpcjArUtSFkb8MQgplj6Riwr1MBR8v0Fw0OA1ClXRdhEAP5EiYGn2SyLjInfWmnmuVKJKB+WWDoGAhZ/GAPfSMzjT6ruZmw9wou76+LdeLpXSh2Hhbg7sGRetIbMbi0BuWoyqCIFgeTUWHR9USgFBK4rsK1qveZprdLTlTC64ws1nQ0AMPTEjkDVGsxnNJexOVTEFNRTMuMTAwVVVVVVVVVdAGAHQlUYHgAWRVuflAO6IjAsxpIw1mB0xTAgFBaAgiCAZMGQjMDhOMPiBNn4NNFjDMaQCIALLfonigMAAM0VjNhQzXxAQAkZfaLI2AgPMzOzNw0zYwX1IQMCEpGCRg1p0NkZj2uIEwBoZEGJEDJsJ6GKGBpCIakHGxARjoSYoRBUbM3JQAyHZVhuiYcFlG1uhCEFuDDRUwEYNQeQSgwYCmgk5DAypAcDQHGUOGYEGWRGgAmYDhAYLBQEbLvGMTGscG6AA1aBIostCwsO1iKEeTUejMf7gAtJogZhwACDjQIwRQzhozyQmiGTNmJRiz//PkxO9wrDpaKO701ICDY0nGTBpGxvHxvjg6XMEPBSIyI8SHGGIGiVGqTDRUyJNXqDoFGqmCgIwQJuqtxfxJQRFUA6LxhCBiACViLoKFzbpumBBhliRkiAQQSfbZS4tes1l4EBMkUsiUYilqCbWE47e5zuT0Yrzh29DzT1qUKp1jsvfeNzbX5ZDl6277/w/DtqKx9mbM4fctnD+5Zy+jX/J4okQ1x+NyCHa860h+OWZNt+3+gBaCdDuQ5EHEYJlLJDnckdBllBj0LCQiYjchwvSaGGSM7f+G7FzC1EH8mKPSTEFNRTMuMTAwqqqqqqqqqqqqqqqqqqqqqqqqqqqqqqqqqqqqqqqqqqqqqqqqqqqqqqqqqqqqqqqqqqqqqqqqqqqqqqqqqqqqqqqqqqqqqqqqqqqqqqqqqqqqqqqqqqqqqqqqqqqqqqqqqqqqqqqqqqqqqqqqqqqqqqqqqqqqqqqqqqqqqqroF4EEWIviKm3LsuIu/CXxCPoCy5SWKupQvtdRvuhiCQgOmSGpFQNdpgAKARgEj0LFhl2tJZGnOARIOBGiPlrDAgEAtIKCDNHB1CATgVCmYRgAWYAIDggJIp1JWiEAzxTQuoCQIGDGOBGbPmUMGhgGoBn0Nm6PmWfG//PkxHlTFCqvHtPZrZjpxxJoAAFZI4oKoNuUguyQte3qNTO5Y1BY5hsyHowjCYJWQqKRIrxSmAI0jx4m+cx+LtjUS89bnBdM10oxFuQyd0TeIYbmMrBlIaS5QK9ZXZXIYjy2LS7YTfLcuCdISPNVnZDHASo+CbtxzKeIkWpyUzxvVj2OrVdEjNJYWrQx1XRJnSCQpL56Bx2zpiuPohzEteeMqPTmYeOQsHtFp4y4Zw3PS+d3behyiwdD9OWYXDhwlnhJihQz8lvQGaJbd9IcG5wnRVoftkA+e29jNCPEEiRqTEFNRTMuMTAwqqqqqqqqqqqqqqqqqqqqqqqqqqqqqqqqqqqqqqqqqqqqqqqqqqqq+1MjVbRAreDAgYOAIJDBaUwaEDFyZM1wEzYfDBoLTTQhXiWAsZMHRnMXAkDGNREXzL7gUPmQSyYtMhpkjGLyMY3BhcdN5CUCpQawdLxQeIBVKxYtPgECmUSChS8iLilqQaAFzZcoUWvlyrUfmqigKNrEBYFK9UINILXJZgEIhmIVhEaADjNeMcYdkkQbwlEC2IKAQiRqBz0wEdxIAjQlq+SFA6FlCF6PLoiwhANQJK0OEg+W1RwHglq1dMAQFRVTF91IT7FEbYqXuTSTHKpG//PkxM9oxDqG7uZw8G7YELgAAIOHWUQCDJzvgsplauUg3Nki9Qwqc4NApe7reP+o+nI0EDWZKFTKcNkWytp7KFWVymnKIw04ctmIFhyLP/qIS+3FJC/cONYcuMO1L2oOikk9q8lsy9W8vtGVYkaXeXevpei0msve9bkKbrsc5mqeCpHmVQEI1Kn7UpkcdUBKpEWFSICWCuVLmCsTTrfOC26NIQnvWwxCc5zts7AuVrS9AtjCmy11AC9CpWQMkdhvEbFps2Yapg2R+Uq0BECM3V/aUpLVkA0QXMb5s8jlTHXeTEFNRTMuMTAwqqqqqqqqqqqqqqqqqqqqqqqqqqqqqqqqqqqqqqqqqqqqqqqqqqqqqqqqqqqqqqqqqqqqqqqqqqqqqqqqqqqqqqqqqqqqqqqqqqqqqqqqqqqqqqqqqqqqqqqqqqqqqqqqqqr3RTa3bZMr/0FS0i76ReZiDscwSgophilXsDDY1CKNRHE8lNUnjBAIzdFMyXjRQxI1xV8ABYDiG+gW1mI2DRx48MdS+i8tQngo8EEBi00sNNImLdBgKtLiui76lChraJzNdV2GBnQnxCQvRTSHiFiODHBSikk1D0hBYwLwYQyFwlzpN4myjOgupsG+cAkRsE7LgYRn//PkxJRZ1DqW9t5e0I9Jwl4KlQHEXkv8E4EsplqClC2pFdExag1Qiwk4QI33sqPC1DfRBMyegpg/S2DBRlTlU5fFWtIgvzKOVYI8vCeHSQYAfFtDOMAjRjnKTo9Z1ahOGbO7o45i5C+d4cGZvmSdm6NhcExMJPqgnp+lsMoX0JAF+FiVi7kWES1pwnLI+Ng5hlCEi2pcWxUFYdyKIoTBDnxcziMoGkLQwn+a70pWAhAwE6kiVsBjJwxDfHpFYGAWyoRxYPsim5XqNLqM+TTjnYpE2gidHawDcLwpRX2V7RxqTEFNRTMuMTAwqqqqqqqqqqqqqqqqquAAAFUMJCOjGQOMWD8qgAcFJgPEHt3WTCpgyAcEAAxJMD7cRMaiQu+kaFRQYBJBwpMmbBOX0Dg2YKCCLhoV0mBwuECNNwSCAGBYjhI0SSgAGDiYWMDBBoyb/MBBCKFMOAkACKZhIQcMoo/lqUEzkEACJUJECMKFg1KQREJgzUEHAkaBQGQCmFA5yQeAUMLhoCHVOFNQKmCSkXXcRA2LEowYIFjQMLAzHngAQYZqHNaL9l40JRCOBC8ShjuqrJlocTLEcxAHFAhns0qoMjiRaILaSSHV/GwGoKmvDl4cHToIgFgoOBwKWhu+//PkxOlvFDpSRObzFBltJGpKNyYij4FQTEfLTiQMsFAhKYIniTzL2auAmUVRIeAW7iMwWPQBqTWEWZGgAajaps2FiavXbZ227JIHkUsZLfao/rAV2tdcyzGb7+PnAdClqkqzOVqaIBWBKPNZU6Wk1yTvg95fphiZih7tsWch7XcgO+3JOJmsth+M2EioPdt7Zu8+zdGVLWYiyFFZkr6vI3ZuTOmq259qDztDBpwOEDBUcsX9RIV6IBSsBgowSWiL0piqIrZBgokusZeTVFzLqWOmSoumjcbImgRDv/D7InIqTEFNRTMuMTAwqqqqqqqqqqqqqqqqqqqqqqqqqqqqqqqqqqqqqqqqqqqqqqqqqqqqqqqqqqqqqqqqqqqqqqqqqqqqqqqqqqqqqqqqqqqqqqqqqqqqqqqqqqqqqqqqqqqqqqqqqqqqqqqqqqqqkAIhm2jm1t+qRhZExQEv+MHQ1xpZbl5CCGUmRkIY+9BQ8JAEw8FMSF0kWlmBDYJNzjhkycYMBCErQY8SCLPOXxKMBNFEA0vQAlBV5X5eldxbIDGhmaZbBdeKwZE4JQSlqUeTIFdrE0UBUiNTXYqocrRXBxo6m+1t8YDFBKPKcj0CATLlU1LmJMpf6eXqpGUBQK1F//PkxJNZtDqC/t4e+GhW4UagYonOiYGQnyYlGqi2nOJkPUNsIkWVBHotCZnchR1MhMCZLJ0HAhRIFW2i2FWacJJrLid5iiKI4T5REqVAnpBSDGMhSgTvN2BEKNwYlS1viBGOZLOT2yrjsR/sRcDKbznU6kOct0EYoro3DGLknoJfDrRJeDFXNTqL4OiduOk61EhjmkwvA4DBIQrzSa2Yfa21tiTZj/V6lL6zJhOGZELNCjHfiyM6NQxLFeuF0mUMFeHmwJGObrchaLP0kYo2JCjzSifOFNHixq2I8VzmpHUGTEFNRTMuMTAwqqqqqqqqqqqqqqqqqqqqqqqqqqqqqqqqqqqqqqqqqqqqqqqqqqqqqqqqqqqqqqqqqqqqqqqqqqqqqqqqqqqqqqqqqqqqqqqqqqqqqqqqqqqqqqqqqqqqqqqqoBWWd3hbrbLrgaCFnzhEoXAMVA9ZB4KSRtCaWRNCsCEvvE1pgBM2QEokcC0oJIAwq6wNG1dWxNwQCKwMERAY2mKp2uJXg4IDQk1XhMEEAgqbN0bkxeQrfZ0mToRBrhSQay6i8YShLSGibTkNVh1frMOWKRJQBZBCw0x6yCl7IYHlDwkBiECP5VkLLGLOWF+OphhORdlQaSFHybaw//PkxJxb7DqDHsvxlDvIOPUTRgSFjEHurByhwkiLqrSFYVK0tEUh6HEFukieGoSKAdZBTEW6lCLSqBOysHaxQjUL2pg0CWE4HIShuOI5lKUasfHukjAJBDeEgZGNqJpFMMv4hRnK4XxPz4DiD9QB8G8eJzl+NidCS8mGb66DkJbI4DZnXlcATy+lrDRnFgS67DwpaObPN0fZ4JmVvxH4KtvJUWa6sEPEytQ4MYnCajEC33QXeRiDI31FhNZeBoLJoMbmsuDkHk1EObc1KHjQwd9BAtV/2IKVCRFAFpqveBgdTEFNRTMuMTAwVVVVVVVVVVVVVVVVVVVVVVVVVVVVVVVVVVVVVVVVVVVVVVVVVVVVVVVVVVVVVVVVVVVVmId3jrSRjqQvyEA5nI8y8aQjGk0aMTRgAiMDGKYWLB4dMaNjBErMslcU2JNAA0gwaxoYcqBSsCASUEOgjLDzHOTT1iwhAKNGQHRMU2tDh16g5IMm1EiAnsKyTXPyS0CFiuWGDgWyGVQCApYLQTJdkKhTEUmoowRBpnCeKkGntWghc6wkSCpEZyJ1GvAdGlYBCwEShJVJKmoAOOsAoqQINk0HVyJdqCkBiQYYFG1FZjSKdBFiIqaBNJPZMBHNwFVkATX4//PkxMNlnDpi/N6wcHk5mZtPVsfRY5aRNpAc4jIXkYaXVWzDLcmEFsH1fJjzNFTLtQrbA9qizxwXGnEVy1hhsRKomlp0oBlgUx2BRpGaJg4rbNIViTOeFoCqacjJFqNDgGRM3dCVPasDCmCqUJiMnaE8TWmauPKaeNKhfmQQ3Dq34JWCvqakRlMWEoS1dKDxdPZRJYhfOENPUqUOh19nMWDZSvVsS5Q5iEbytcC40XkYFFJS8bEmBrnmGmR2H0w3tV5EmtPTB8DPIxJkrfsBVQZ03Nw1yKleJsbgq3vO3jrKTEFNRTMuMTAwqqqqqqqqqqqqqqqqqqqqqqqqqqqqqqqqqspmZZHEw0yGWmsfERx52BgI8mXiqGIoxUBTDYYMJDYohhisQmXiAFB+uYxAE0JZpUJgRZhkhsgQcTCooEiTCKCIQAHRjyCE0af0gWIPEAkICHmdGCIsZAoY8GBlAQMBgUUFmHEhUihGHEAeKRZIgxegEAR4mUEHILeAk0w5sRhEBYCiEgIyqYyUACjjxEIDqUNXY8vwaMh+NGROYKMEZqIFM0RlQFSoiamuj4rppqNaGjODCUCiepYSQRBJBBxVyPaqiOiMBoM6BCEcgVUhYClQ4JXK2hCsQixZ6HTS//PkxN1sDDpa9OawnCVpiyw4ZqgPDE1p9mZiIqXAOAW0LxhwYBUESIiocNorQ16q3PokE71KXQbuBAoLoPy9KpDihKaCk8/yu22c9CpZgOEnqkgomzpYoWC1FRRnDnxMveoCzUu200ZMji2iSdKNQTmSPT3cNlY0pnA8BCW2eB2jv48VeJytE5DimC767WQqwJlslQYZyqJcrIZbDTLnnepcyxZ54uDT03UwF8gwLP5OTNVM3rAW5RUhGuhIRjb6PnG1YrSmokZey7kumtpgtac5E5ibeuFWjz7ISWZs5VDVTEFNRTMuMTAwVVVVVVVVVVVVVVVVVVVVVVVVVVVVVVVVVVVVVVVVVVVVVVVVVVXEEhBg8IBkeF5joDiJ4oBQOCwoBYwsCoyDQc2IEAyFFkwkB4wPBNL5OwOAgwFA8wwIo0FMcwVIwyMBIxbGEw/CAiG0uGYJiGYJiEanwCcUsKY4h4YWByBhvJgZBwGYKHkJQbqxmViZk5aPDxgwoZYVAwVHjMSHDSIw35sFkFPpRgQKAAzeFB4tsGgLMl601Yw/qqSwCYIGOJfZs2doJbppDcm9fEGDWDW0tdRVYV4V7uS5CsiBSls+rSvZkwjCIQAaAcBqDMC3CyUPZBkgAUHd//PkxNBozDpaAO7xBAo2mFwFoggLgpfrCoKrCu4CAJFM5kpfYRKHAMVIAgQhb8sgWhEbA5iUA8RdytkAL0YfHVQr0XQmkoM891na26RfStjvcDDlZU81vwuNK5fWTPOjmue9fpqR13hVvoWhOKzmor9c7pt1WFXU06gZa1Xam0ENlUWiz9S5rL2QA3DUsEiSSLzr2uBMR54lVmUQI3GIPo8cJg5mTaKwVXSmp5pWaejVmuvtPN7DC+HhWEai2Vw2UtRYc8mSnUPQzZn4KazAjT4EftynFztOJuR09S1SW40qTEFNRTMuMTAwqqqqqqqqqqqqqqqqqqqqqqqqqqqqqqqqqqqqqqqqqqqqqqqqqqqqqqqqqqqqqqqqqqqqqqqqqqqqqqqGJVWOwWRtSTDggEhctlmLNVpu6sGYOMp9FYkS+RWVcja5CVwyATDB4Nodsy6wzEgrMUCExEFUnAqHDIQhFBgYgRG5lpKZGacIwYFYBQWAsGgAwaBgAQHjAdAkMBwCQwKRDTCjATHgTkBzNc1JFUWjkZxeYIodRg+QqIL8r6W0vQxKAGnzPgS/cea+5MQVtWAMGEZqj+5cNSKP5Q43jTy1iPj2M6aVAVHGl9BUKXHdNmjYmGvwMhgcHRmR//PkxLtjjDqG/ue05PGGLFhC2V5NvHrSz3co3lqM5hhr0LaYivA7Qnljcgd5LZGdZBfBCQw2H6aVy1s7iQ3NyiIwy2zwQwl2oBDBQCWuvFWxYaTrSlDJy1EkomQpnLefFC+NTTWKSNSBuz+sOfaSM4aDbooRKYdd6cay7iyNxF5ZuWPxEcMeQE3NqDRYlAr2F38rsDSWrAV6A4FdBrMgpNRyPYspW0+sRopPPTEWfVoLIoBWCeaalkNP6IAcYi6jSsT3TUKlmbiMZfaed19rMK49ygLoXYBh2Ww1GrURlNNVh623+DKHDLqAUDkwEgGDFkBUMPEA0OAoRSTMR4GgBAICmGBSmBYJqY4BQxiXAwKClAC5gNgymDyAGYdIYgYE6YLwE5lKh7nZssAZ9RFBiNAsmCaA4YFAHIJAPStBoOhgkB7mRQMqZL49pwsbmEBEYLCQGJBkACkIBAwPDB0cus532dmhRqYOCgJBaRRMNRGAiEGmWGG5EGoSKcJzu+Fgl1uIXOG9hBdicVWRE1SO0lW565C8QjViE4LQF3ggEUCRgCYEACFJwrpnLh2gggNG9MoIB40HB0oQKYBXo0gQ2LE0hARgUF1muMo2ZAWY5Wbc2bNiGRwICRMSrIg5dAWO//PkxP91FDpQAPc1JBFHNm1MeTMiRFg7OmHmIEDwo1T0cWmxOGoZCywKi25lxIDGQIMAlAJEhPsuQ3dW9DmZMQvgoHmUEBUuYsKXrTEjSK4ODPY3AwJIHJk6CypQALxtSBQ26+1BSqPMPbR+BoOnBKWtr1pWVqpQ1VWmhQ0YwYwiBpoITm2dgdDKPIoOIs1B9kTB1YIKQGDRNgDmNIqw9AkUUbGiL8W1rUz6VJbTMNRQh2A3VrvBee2FuTF7kLnbTjRZ32AsFzrye5Oxmdji5pFLIbpLtqY1OtPqZ4fuVfXzhhVMqAQClY8sqaXClUJKIwGQECWYJovxilgjonFqCqAgj8jmYI4BCZpgIAZmAKPMZVQKQ0GoAgLzABAGMIsFwwAQLzA4AsEQKZiLAqmVm/YZ8yVJhahJGA4AiOAOAEAkKgHrtJAEjBzCGMFsC80QxxzB1AnGAHgEBEBAIiyRgAgJAkCQwTQRDA2BZMWcMAHCWpoCQAjVIkokrMBQkwoZN6NjCwErAlHIDcN64ICocYOQBmeZEGOow2OuI7iDJhg6YsfmxFhlwkXIfWMtaT3HQIy88NddjGtY3YqXAq5q7V1+KOGJCGOPnIAnXYoD2ixVXpKFMcjNGONbGO6TP9oO//PkxPxz1DpV4vb1aBBB462YZDhQiDCJmFoKgmNwBpEHBnB5EFSmQOmmUmqWmcQHVpgJuxVOduKmKE4wIBMEu0GCAwZDy4lzJLJjLjGRihQKiEw5mM1SQyyFlL+pOJppQKle+lnX+cas+q+XXdaagaXZSBvX2oF+M1lrLWer5ZishS4toiciCPEQcRbimEu1tYcGSwcfadFXhgOlXmsOoE/KEubgd2J+KPbSReURStet02U3JmCuixJ5MJbS40sHN4+zeuRKIvflmEjft+HQ7uvSUUphDLHgpY3L6TKQwddVTEFNRTMuMTAwVVVVVVVVVVVVVVVVVVVVVVVVVVVVVVVVVVVVVVVVVVVVVVVVVVVVVVVVVVVVVVVVVVVVVVVVVVVVVVVVVVVVVVWGQ4NYNGNJyXLCF9gKGpaJmBAQhPCgBIgMDH3iY0Nm5IRl6OY4hCgMiX1jYXQj2bsz0BNMqjQHI7U7O2czc3CGlDSEwOxrDSBxoocvAUlJh1swGLREACFpOwgT/Z0FFwkIK2sBdy3xbZmQg5himdBUtuS4reGngC6wwBAyEO1DDSOzQMSExARIOr9hvPCBRGosq1OKu3azksvdYZMAvHRzuLEf2bqVJdPPEmu1iijcutyaBaZZ//PkxLViLDqe/t5xRiCigY7E3zUEeNW94VODXgH7M1AdBzFoQdGqkbe0CkaSrHymcV9kikXDWYRLOUACBrCqag8CS3Rc4BWIRCTIXDSwCzFb6911ohHHEk1a/Lqe1KJdYleHXahmKyyXtda0rZJmfKrN4rep2XOXerYrErEzlYZSbXBxQaZAQwVBIpahggNC5l53jAYRhRWay+GcvXc0qBQSN4lCFIxBxpZEmoy8xGSJbigeXwUYb5aSK7I1MRarvQhokGwI/65FjI3hCn/U3fFnUGNIXO3+2Kyl1IMpoS5aTEFNRTMuMTAwqqqqqqqqqqqqqqqqqqqqqqqqqqqqqqqqqqqqqqqqqqqqqqqqqqqqqqqq9IoIAsC5KtwGhYCJ0jjBB4WLC4aU66TDBI5heQTG2NxoxYY0CCILLRmDgJixsa1GHacJ+qcbRAHACwCUAMMBiWYBg+YNgmFhxMzCnONF9MMQsDg4WcjShGYShSYgiuYmgeYkkcYsGwaQg6GFQAgDXSGAQxxW0ueg2iYAHw5Lnsf6HUiy56fSSAEyh+3jsR9+x46X7lA0y/AAdYkTjbA4WtRdELXSBDpuLrY+xdFOFuKqmAQGfw7lERuPXpnJqNuyulHlnDjvfEI3GYeW//PkxMxn/Dp2Nt9w6ENxJBmXQ4NGSTKsFQw6gjFiI4CkQMeBbV9/IdWGa1FozFn9gC25kDtALVBYKAUwJMJn3aC4jsVGVo/MrLhJ7EUUxEJTS4GbyBIhDrsvJF5LD1DOxaQReDm5L7a8lwuiPF6S3zhp/FQbX3tl6UjtuqqNuTEGwN+0h/gdpPhjEQflz25jUUvVABAsoK0NVVWVaJeYOSTugVrJtIW1QVbWaTDQmKGuOyJMlcrjOemWtfJnCVEsfxprEGuNQaHRNUhp+3XZqsZ1bmcIbu3aKNYci+0CMTtJTEFNRTMuMTAwVVVVVVVVVVVVVVVVVVVVVVVVVVVVVVVVVVVVVVVVVVVVVVVVVVVVVVVVVVVVVVVVVVVVVVVVVVVVVVVVVVVVVVVVVVVVVVVVVVVVVVVVVVVVVVVVVVVVVVVVVVVVVVVVVVVVVVVVVVVVVVVVVVVVVVVVVVVVVVVVVVVVVVWYQ1QhrvbdryEdGpnaZTYhnM7GYxkZAsIOGAsNgKAi5qZReoc6AumZK9S9zU4KCojOYHCDLIITINjjAnBR5AAy3sARamtv6/1tpJbk7NWY2NgsNTtrxhFqBOiVG8b51Qj+ASgTwpoAJI4uS6Op8h06GoaS0RYvKqLq//PkxHlTPDqy3uYeXiaiYltBSj9OWEhx8jhN5HLkIaAJQMxNgvS+CZRiVHUroW9zJ5VMTMiTSNJVH6qBJjjMUB9FwFyHqPKZyO4Q4bIKYk14LLWLIxPYuN18F6ywTuLlBSRcn4koOU6maVkEeAhCZEKMpWzbgvXuvBy9rrD6ExJ5DXiijSl9Li6RRonShrAQYhSqhMUj5iQ6fG4J+nMombbEaRpKKNKcpwwobi+wfzLVhOVUvoKMEmMnsSilXBOidCTCElhTro5jSOqOSlHKU5S4rhHYYnJitDVpPRDSEoTITEFNRTMuMTAwqqqqqqqqqqqqqqqqqqqqqqqqqqqqqqqqqqqqqqqqqqqqqqqqqqqqqqqqqqqqqqqqqqqqqqqqqqqqqqqqqqqqqqqqqqqqqqqqqqqqqqqqqqqqqqqqqqqqqqqqqqqqqqqqSClpubXbfYKmjJiFJoIACEYqhkoGYg6bk4CkxkRxgWp3EoCCKaFpTWBWzMyBxYCizBBAcKhSMqVECKrFrjAgR4w8UmSZUyY2vhMpmyYgkUBQIrRmbmA5qjiqu+yl71uwkMYzMRgKGiI8pfhUDcCAYcdOsu+qGULudpaCD8ed0FNc2MKwo8tced2rkgTDT5Yaqq186NlT//PkxJZafDpWPtYfVjVY0jZLFYFYcShd5oSl6p1TIhOuuSUNzcFqjoLqaUvp52JLmMbFpoJDS4Ik01VySz6rveiC3pdleUnXs4uoW56fuHExJZXmGjAXQJokyUMIXI/CxMx3CNEeMIcR+u4Z+oAyDLR6XOcnwcEsRWsh9qsvqZUygdC5AaQz06URyk2LyYKjWEec7ir2RyQ5RPGSE4K8OlNJ5DjqIU4oSiVQzM0p+l0Uk2otILxRmoulEbzm7bDlPyI/RJrGctNJ/GGhKgaW18uE8g0v1Evto3kKkRLjK1n7TEFNRTMuMTAwVVVVVVVVVVVVVVVVVVVVVVVVVVVVVVVVVVVVVVVVVVVVVVVVVVVVVVVVVVVVVVVVVVVVVVVVVVVVVVVVVVVVVVVVVVVVVmoluSSSQAwCgKWCcwckc4Jg9G8EWzO14OyHmDEfJjIskMwUvibJgRoNHmwyZw63UHyckFSye2h3ARpkNgqEyj0+BYFCEePWFArCfRf4dYAeUPQcl8xIz3kDgYMkc67yuOlQgjLrroSaXSm8W/cRVNThpKJq7kcS0YEAACibpzliBYuitJHgSIYiXsZskcougAAxSW4gBWEXQ1hKVaqRxZpPpFFEBDiotCWNkBCCNkaC//PkxLFhJDoln1nIArAMQXsg47CPTkOFIVurdQbTaQ9Z8skFDt8yR2Xrm0pWvtmTtW4vZqiOCQ65aJCJNNosFvGnszt01rjzjoxhsS+V1JoJ0ssWM6jX0UnjhMDN4wWWLmeZ4mfBg7oNchm48Urf1W5bbyQSvZGxQxuLi13ISbhpXzgytfDjOBF3CitO0CTKbO9MQU6U6xd7JO7LwuPKJRL2cszY4zd5oDag5S7XCgSGJp3C8rQ2OrIa+xB+YEeh8YCfpg79KwL4b55WtpOtvEGprFuuBRvFMuNVikXbFjKFAAgUQYQBfgLAk1OzD6FAO2cczMa12tdMcCEwmgzEL6AKXEg0YIARl0CGCx2a8FAJDQQEE31LzCx3NEpUymCDFAKMPG8ygQBIFq4cBrosejB4BDAwAlYbgQBspDGJgucSaD3NwWI6LEzDYHMXicxWETAwnMLgYxomjOAYOGIMycYBUkMnbEyxPhrcXUBMciMxOMzEgtFgGCgMCSKZNAJgMBDoFS0EiI1N+Je5cNNMWoYJCgiAZgQEGNg0YMGAGEIBIZgMEoBzBYQMRjcx6MjP5HMd1GSwO/cAPw3kb7NGUy+AkODgwGBNTEqBF5gwDjwuM3pIoRZjgLAIGCMGiwGB//PkxP95/Do1iZzgAAAQEKwQWJNF2XwY4jJH3i8LjG6ojD5a5HxAEQAUsqqAmA5aYVAsWBw0MLmozGIhABjF4nDg6BBWYtBZhgFLzMKg0IHI8KrUOO5Xn4vSYXq/bV63L6wWCCGrQUtUglhniTMCoDWfTJBpzqUMEecxIGwQAwKGxCBXvfFtmTDgLL+iwAAAHYiBACrgwqD7EOV5fA8Ysbv2IxHX7beGLFFfpJZuXqZsPZatZ4ku0DE1RwBMlKwCiah8X2edbiHVgRdcvwzRCQDg+KA1hjimCg4CAETBFCcAh2oomICASXFgFpDzTsSTlRqCoAYkTEFNRTMuMTAwqqqqqqqqqqqqqqqqqqqqqqqqqqqqqqqqqlE/Imw+KbkEIUsqDIzKHICVQIUwAYFIRi0mmlCUZeABg4emKggECIwMGTAASC4JAoyM3g84ZMTkZZMIkA0ImjDAhMDB8EGhnISYICnQIJg9ocHTmlSxzBYbMnnBbB6x0bEGCEdRneNDFRdHqNtXfpFBZCYyXkCOu1kIA0dwENjAIGFTlFrmDLYdlm7yQ42qK0Zac3Jl0kVSetriyAQAIRM4eRhKvFkNTd4vQ1YGhYBBS1iVCXCE1jaA2ErMaYiomBFKZh7fssg1//PkxMhm1DpyV9zYAPG0wxHx/aSJFsAUBxwwQEU8FAJAG11vGduev9S2Dn4ZE/brtgla8yACTMV3ALzvEg4zNp610LyEBL/sPVUEiQuwRBiZyEL+rTXcqxh8UhLY0VlpITGoq3tnSwQHrrTDhx9LkpuwGvtdVpfDTHFlkrnn7oql6cjLpyKIOS4Ki7viELcdTJHgeEBYLjTpuFGGloONJl44IBwCzaBWdtcvvwvBlsMgQDJgN3k0lYIFch2XOf2DYIxjlE6lvOmq45wPHblFDtNMx6K256AVnzLewxL+UsuqTEFNRTMuMTCBTdcyeqsKRUoLVGCAGOOYMAkKCWbhDKBABQmF7guAaF8LEYCGBgeGHAlGQaGmHh8GPoyGS4HGS5dGjRHA6MjFkEDAMgzFcRRxQDfigDgplTUQujGUWjFggQcxhjOIpieF5hwB5jiG5hkEhmQFJoqR5oKQJgUJQUFo9ggwho3S4zoVMwRiDMUhFRAwYroA5IkMqinOtUFFEhhQZdLLJfCyM0IpKhQRMxtqVBKiEgFEiSb5hxAQPHiJI0BJVpxnwxUIg0iSIBh0ckIY4MZgqSEwUXGjaDYcGV4VAyQSqgNKqQBC4RAi0IIFg4kZ+AAAZhk4KMAZASHz//PkxPdyvDpUoO6xVhhoypwBWggiYNslYXNGQZblTFibTFKEtxIAYNAEBkGGvrrBxUwAcSmECa2jdAYc9HkRCEBA7JZkoqWjFnITHQEViKAEKOVEPkExYAAtuauNP9OoOC08u91PWuWBpYIwQE8c+xiCWntKapDbiqvaWyJprN2nuSvmKwG0NubKYsyyfZiDCp2CMR38G7EnrHl67E60cxqMPsSX+gYuuZcZvIYttZf5uaghQeOw00t76BcjSZbSOxnOSm3lKLWcupWRs5klp/brSYvF5RAkuZw3str03bc3TEFNRTMuMTAwVVVVVVVVVVVVVVVVVVVVVVVVVVVVgUhPSGldy+zgQgKvIwkQ414Ocx6BsMCJEVkwBAQZBgLgmDgEAo6mvrXmmhnmOAcmDoRmKA7AAGzCksDP00DEYODE08TZPBT4VTjFsOzOQ87E7CpsHNhrtKYELjwecXPm+vBlJaaY1HAgQWHjPx4xg1ChABD8wgkMJUQCAA0UBgwj2YMEgJE1CkfgqiPDoat0QlDIT4kBQKsMExDMRCTEqLtAhAMKYKpQFQEOoUBQQDSyWJhGAQ83iStE5gWHAts04TYTDgDFMTTEYhhwhBJb1Mti9OwpMwGghUYKMFiEkGQB//PkxOFtNDpcoO7zCoixQJsjAgp/imIK/BdsBTFnRBIqN2hwYQDPCpQ2Uv+rY1MefcRSJdWF2FGC08cTYNdMFFhwAYOLDrCAp5G9yUX3rEZ5hCJSmGGq1O9Hlp4qAqFQ9jrI4ZaOkwsMnBLy+zPKs9NX4aYW79I1qHVyr9dNmT+LXp84wu2LPszt+IGZI3kgp2ItLWahiJKJrMAa4ra02B56MwEwl2GBqntX4LnX6d2AURpl8WJxiKuRG4co2xRagg6WyWV3ak9HFosloOXnFhyGm3YO5T6uLSRqWNZgWVxdTEFNRTMuMTAwVVVVVVVVVVVVVVVVVVVVVVVVVVVVVVWVACABzAcAwCA5gKFNMX/EIE10wwCLxlamAIAgiBZR0HARDjNXlMDQBMeDUM5CbMUQ2GAPT5MDAnKwqMJAbMCUQOj/dPsV9P4JkOO2yM9RsEYJAkEQCIwsRpkEPxkoLJjeKJkILRzTkXNmQAUwmBHehG2xHoIGpkm2TAo0ZdQPG0gjKDjCCjJGA61MMDKu+zIQno4sNLgGgYI0RUB2U9Vuy98mcJ8ToNFQGJk8V8hqCRTNAACxdACqnYm0YwgSZYCgAUcaHBiwiTEZj5LuDiXGd1CuACFIDLllCzABkLqo//PkxN9sjDpmhO6zJHxdkWGCgggoN8EYDHrTTSSPaor+njQVCREWHgMvIo0uhS5hKWSNSwrInWfBL50kbgSQlojcSDr2ZcPCJOg0NSotaYoTTl5F8meqmCwbW2GhgDWn4cByoDVWZbFV4yuWOzeljwvNm3dtpHnEsYOednyzXcvwY476OejRDqUiqo9EnjStfghm8wttb6cjhtlbplIuUcoWm0x/IRLpTFItUi2DNrjQm7TMEP5GmwrfbuuGOy2BXBfxRxejGG9aSzyRUjJIi8jFF2ruaTDrpw1A8FzMPwGqTEFNRTMuMTAwqqqqqqqqqqqqqqqqqqqqqqqqqqqqqqqqqqqqqqqqqqqqqqqqqqqqqqqqqqqqqqqqqqqqqqqqqqqqqrAAAwlHpZ7kIxK5ZkYDBgY7JIY9CSHBaoUw1/1MEeS6Rh0HRhgB4yDhgaABZMYBoqDOZqpqco2CZwfcd1OmbsKmZ6DCYnicYoCAYxmqayrGYjr4ZqJqYziMYTiEJDqYVhSYhJHdZx4SYb+4jVYACcxgLBAkIA8zNFNJKTEkYLEJEQGHApiQ6w0yCQkAX5rQZjksC3I2UFFlCDBQhNdS1l0/NsBia4lqNbbVs5bkFJA4QEUGnCygMMxEIlq4//PkxLxj9Dpt4u7xJE+1tJaEQVfMRRSbOpk1qJRh2q7spNQMRDScBCkhQ3YMCWqcVMIlSskGJEBmQiJSjECI3IbreY6oLDk40qMuAmO35fQLJRkd1yXncN3nWVWfd3IYZNiv1czGqJmyhqJziu9POlH2oM5fmVx+kjFHZyZW8MMqxpeLod67LmsyeMNLedp8NxZsNWHpE/r0RFub+jgWSy6H4y28tp4/DkNOFN3JRNtchEviNm7Wl9Nq9Vos5nVeWfXy/HPDl+VyR/akXa3CIthukk8OyyjtzG+X732qmWFeTEFNRTMuMTAwqqqqqqqqqqqqqqqqqqqqqqqqqqqqqqqqqqqqqqqqgaZA0KeBwxABQEEUy1FIzsHUwPA4qgYJAIo2YFgyAQBMkzTMiBZDBlSMUWMBhKMlCsM+GIM9pnMelAMny9BxCA4azcRtDoScjkBLDp2PT4KVTxEdOvCUwaJjaiEGCOalvZmTBHe2oZpLRhRRAgvGYC4Z7KZoJbGZz+a2O5gAYmJA+YsDZhUPmKQeYlDI8XTCIwPO4/7DbUBQAwODrjPmX2BwTiHAgpaNCUmC5UDqcsOVsSQSnQ5CMcRjluEx0RyEhLAEkhQJMQiQBRAO1ERJmnFxQughuCRV//PkxNhq3DpcoO8zCk7bpNOm2Zmw8iDCAqAXqMQswDQdojCDgzhDFig7g7LwdYP5HMmIwDdAYOHKgAcVjhkygU5F7LDvYWxaSoqtEty8paYKhM+QuVvaUv2gca4+seWFgBp1WRckFVLVWF3WttMbHPrRgx+IfhxyIcoJN7/VmexleUkf7BuLL4euw3RIfr0mWWW1Tt2f9nMfZ8w68/rv12zylYVwYapVLFjvYlfAFtTRSyH5DMPS5MRfiBbkMUctyl3c6tHVnrs5MTepmHp+WzvYvX/crr/38+37e717+6t1TEFNRTMuMTAwVVVVVVVVVVVVVVVVVVVVVVVVVVVVVVVVVVVVVVVVVVVVVVVVVVVVVVVVVVVVVVVVVVVVVVVVVVVVVVVVVVVVVVVVVVVVVVVVVVVVVVVVVVVVVVVVVVVVVVVVVVVVVVVVVVVVVVVVVVVVVVVVVVVVVVVVVVVVVVVVVVVVVVVVVYYlMtATiTblEIxNURBGIjh4yWE0dk6xNWlYAHBkvRQIbogc1IEEq19XABSnHdG2hq2FxlKxYMZaACZQGDo0GDFCQNzC3BpKCmu0kM4aw4BmBxF7V63HZibnhqQCYtsmEuNh7OH7XakSrCpjfUeaW4z/OUqktpHt//PkxHdSrDqi3tYfElIx52Z9u7hpWJxJEspXU8y4UrcunZ2nLEfrlkXSHHwoD7bGZkiOMdZjxGQwC3vFSGqGNDLiQkBvBfAxS1CPEJEbHQScgAhKZVZflCLUTFxTkRKN7xnkaT4epx2jMNyGQ6uNPXKK+lCfR8mU7VaNdUXTOpXrgr3Bljagx8ZX6PVEuC3nvEXk/s6UJqcCeVjGTdlUwS4XOA+RZCxiHsA1HyRSmVLQnJFbDhSTJJmieHGfRH6/EuvzTsCFMynWo5f0JTbNAX10n1S56dNrfuNBgxYcr6fKTEFNRTMuMTAwqqqqqqqqqqqqqqqqqqqqqqqAAEAnhXeXAcMAAwBAsOHClMQgtCAAnTAsCzEsmzGk0DG0NBoHmMCgAhwNmLIVmVBHmMggmEASmDoEmLAvmy7nm404HzfJG3SzmkLsnK9XmwbLHIiBmxMHH7YYdLNZvN2mfH+cDYByKomhLYcZfRmJGG2B8aFL5mYQGTjyZIF4XM42Mfwh7lm5iwIr/Np0MuDNAukVhDXJiHqrL9EIbAwckshkywyt8VZE97JWdrMHhhUtFRhgCuSvFhBQZASz0OBZkgYVCkGmhP+AhV0plkgAjDUHEklmNEUVTMZ0DRmMtRVIZZry//PkxOVuRDpV5O8zBChoCiAwQFUOU8WBCDRdAv0imZti01qIOF7k1BVVW5JULgqEjJidaG19M20rakYu9AaPCJ9NaLNzhVBZivCCEd2yLAVFbk1WRP+6lLF1ju05iGS94o1pd23VWs1CWVJC5y/12PA8jCZOoI0OwsE9qAV3ramKCYOOMAJkCNrSlbVLU9Fjoci7DTbgoGYQ0UL9IHoIVIGKAjakSsqHnZaa/05CoZmo1ANWpKtw5LXEZZOMvcqGntiEma5BK847PP9ELj7vk8uoal0YszUuju5+LRGimp6nTEFNRTMuMTAwqqqqqqqqqqqqqqqqqqqqZi16GUuzFR4Ma8U5QRzC4MfgwgDDErNMZBALA+AACATBBEMTE8y8V2GlA1MVK4y0wTNFfDblbjDoPTHo+TgFszJ/KSnKDQs4DbwHRazTW8qzY4UzD5ODL0iTG44hgyzJRWjCcSjiJFzRAjxJLhCLQKC8RkcYyh8BijI6ACqRaHTwa7AjlQBlnBcsxjTSJLfJrBQZNeFlCaEkuYglaSjhJVVVisyJAGPV1/ggFCoxSkBJCaIgEmk3y9JMIFgUGm1EZRQWrCsZyVciM5A9BOiQw55GuroRbaWW2DiASwIzQc+gWMGlaQCa//PkxOdunDJIAOdyzQzkGBiNY1zDC/jrejIaCZaRvlLXRqaIhNEA0Dl4oEaWIigQCQBvpdayWiY6vZCQDBgsO/zJm+Kw2PF/2BowIqr2Yi21KFBWeLdl7L1pFETyKaUjJmsqdsSUAjjJ3EeBhrfsTToQ5jxBghuhCy0i9K6KQsADRQE8Z4aPydBe9S9TYeFBgaB4jILhISGOkR5QErenMmcn4XsV+vBqEqUhLX3dBerwQ1SQBKLEkhbtPo0GzFIrDMrrPTI2QOHEXirTjIJbEpmHJXdj0xSOBFtyaYpJm+G1TEFNRTMuMTAwVVVVVVVVVVVVVVVVVVVVVVVVVVVVVVVVVVVVVVVVVVVVVVVVVVVVVVVVVVVVVVVVVVVVVVVVVVVVVVVVVVVVVVVVVVVVVVVVVVVVVVVVVVXplWL30ck8VuFUYWlN36NCyGSIIHGhbmPIEzaHUckjQQZCFhbOGVKxZa0stsNADNpDOmDQmADFO9g/uzwnGFQVYBVjxmEax4pGocdaypHKKFAoBrAqsl8WlWMpkxYEmQ2T9RIWyikt5XpAVQMBFYEhksOZAtAfBgKZSX0rcB31hl/txk0vERU6Esm6tPchry1nhi7M0BMMtcliE1Ih5YKC4FvV4nAD//PkxKZeTDpyHtZw5BKGn9hpwWWugz6D1hZQ69InspmkS1pSpa5eFS19YgptDc1Lm5X2QsttTb8NdiD5tZZ9J2wIpMZeadSGdtiMYb5hzrWo65DSkB0Ny+HVctxSFooda0mM78ORdwHHd2WzNWG5TYcmMww+7xRxpzMoPW0r5dz9RcOKDRKuRua6YQJNS5rwUGXlV6+bX4cfJD9Zr7virmXvw/zkyt5YpKHBp2GyGZpoAoJdBsTU3lmD8wJPsGdLkDsKVub+neNFFDVrMzJlcvHTO071NKc3aswzSZyqJQ0qTEFNRTMuMTAwqqqqqqqqqqqqqqqqqqqqqqqqqqqqqqqqqqqqqqqqqqqqqqqqqqqqqqqqqqqqqqqqqqqqqqqqqqqqqqqqqqqqqqqqqqqqqqqqqqqqqqqqqqqqqqqqqoymtu2SRyCIkZcQagoYxucwadK0AlGUQyI2JgSJJSCgji5B4GgMLAoFqw4MDJBCzQ0aSNHQkv8MAVEXdDkpUnImlwierpaysybpmHmQCyJl8WgK06RmlA4ZAMupOZQaafWIFphEOUGgoFnha5YJTdXLMQIChqymielaS6n2cJUyORcIuNAyaKPrAUxWUqAtRhq+9MMoghAKxVivyyEs6301//PkxKFdNDpmHtYyOkzInWdmcvOE8jWlzx6VthjVprzXZKmCpqhiXBAgqBrdlLF0yFbD/rNYKw1FRW5a8vqvvQP0saT0buvq06NOVK2GuLPtZexiUTf2BWUqVP4+ris+o5iLPssaMspWKzl5bNWMQ1OxmpSu7EH3ZbFmlN9BU/FEhlBnuR5ddVVQVtWkAEgHFI/Q6IBQEizlASGAxlcq2F1PTBrWUQUAqYLqxZQFYZiTEotImtRabVtcqEzThOE430uoNd2GKeKwy5LWXdpnCVNFu5SqUwzJ6zvO9Go1TUFqTEFNRTMuMTAwqqqqqqqqqqqqqqqqqqqqqqqqqqqqqqqqqqqqqqqqqqqqqqqqqqqqqqqqqqqqqqqqqqqqqqqqqqqqqqqqqqqqqqqqqqqqqqqqqqqqqqqqqqqqqqqqqqqqqqqm0ApJG23B3YxUSzgCWDhjONPoM8PzQRTmAXycKCIwajN3NYNW1MZSpmwWHDjVAVWjhI8wX/ASQCGctOBrEfRua2YAagRf5Z7sjjBu6D1zXi8MFtad5HYwQmrt6psWWLIg4GBWFmYIGiW9LeyyMOM0J2ZbD88qFk9yH42uWl4zx0m2Yi+Swz9vU+i8tOS/zIBEEMTQpIyiNMOZLA9B//PkxJ1cHDo1ns4ffgE1qFsBajylZihJLMzkue1dT3yVHlXs4wZygsMFBaY02AS4qzXnatH1FS6KxmlRuMQDDnwHBy7VVVerAwVBbgxKngqaf+AKB3nCXUlU2rJXpj/IAxfprbBmm09p6nnhlwYqyJz36fRTaCYJbyDI6mDCXdqvs4z6Q/InJfZ/0+S5xlAwNjDKn3cVmAKErex1TZyXRgSJUb9OEuqPJVPbFYrDMZlN6MKkTUshph4GOAspowwvTKVSiaYR3H+jU41HMR5BksfowS+hHUuvF6cBNltyP5PVTEFNRTMuMTAwVVVVVVVVVVVVVVVVVVVVVVVVVVVVVVVVVVVVVVVVVVVVVVVVVVVVVVVVVVVVVVVVVVVVVVVVVVVVVVVVVVVVVVVVVVVVVVVVVVVVVVVVVQA4UJcttljSGQxEJxpgCJU5mxmI60F3GkWnMYCYKEL9F7naMEoLjg4M2D1ZmqioSLSQpkTj7hwt54FaXhd4vEikONKOHFyHyQ4GCAGmoaqiSSwq2nUeZ/Ywj0xNkhaIUC09UoIGLASyLogkSaaXLswhE5Dqj4PKAxUQnXiLhQClssOuxbywAQot0vtKRKJmsiZawJxpCnM05cz/qJIVMRUyRmU3XCzZ//PkxKdelDoCPs6w4Ja1puLRnnburDH2SusiarMpmqxQWzEFBmYtEaGsVhSxUykmi0pCIMVZfprKwK6C40XqVnaf51kqmds4ViVKzJjbNG/VNK4iqWKNxdRrz7OqplCn2cN1HPTFfSIMuh6ngVwofcmIrma2mDisK0ZeatClzOnRRmS/DCo9Kyr0VNIZtyZRP1Jew1rMDMBchdUNMuZC+jlvOulSpgzDm7tmfqULCyZpMJbqrl9WI0kekV6GoepZqPwh3X2kr0Mmlr/PC7jquE8amsonq1HZpblezdlu4zcVTEFNRTMuMTAwVVVVVVVVVVVVVVVVVVVVVVVVVVVVVVVVVVVVVVVVVVVVVVVVVVVVVVVVVVVVVVVVVVVVVVVVVVVVVVVVANxuRyU0JxRwzxRKQmiBUprpGhSAchm4yYTUIDLytQFZG4uatwA5IMzOgN0Ue4DMjYJNdwzsQD0I+DLnNggWvHmQw4DBBJBEkgOW4STU4IhKRSuQkoCkESUqyGfsaUVSkTTTEXon0mKlsrKnck+l4jmjUWlLzJ+qPLxRmIAjgkbEu0zVLlNUJQUCIUEDSVJahEdWlmzTWdMhaM3R13tfp/X2gl9Ibjchf6DXYddWEu8IAjA0GEh01FRp//PkxLpjbDmAXs5wHJpa4CHCrBG4RnLgI5qwL3Y6nUpivFkDX3kkVnGJSW7Kn1gKPxCLwLGpqNxSFvawZFULgFCkBS+iYakFOV6qbJyplKzLnZI5zau8+sej8rk0PSmpdrUNJIYGfl+mWpjFuRGYgSWDl7Er2KPdIZ7UZdl0oJkkRdJmLGmNtVdiR3YOYMgFCpBRJAcQAQfS4UKSRQDFzRkRVAj2rAx5tX6f1pTYXTbxmzJV1Iqg0AgWOsJVCEKYjT4YdFNIUCOkHSEIUqF3tcfdsDP2YN0cuERaUzEnclpSTEFNRTMuMTAwqqqqqqqqqqqqqqqqqqqqqqqqqqqqqqqqqqqqqqqqqqqqqqqqqqqqqqqqqqqqqqqqqqqqqqqqqqqqqqqqqqqqqqqqqqqqqqqqqqqqqqqqqqqqqqqqqqqqqqqqqqqqqqqqqqqqqqqqqqqqqqqqqqqqqqqqqqqqqqqqqqqqqqqqqqqqqqqqqqqqqqqqqqqqqqqqqqqqqqqqqqqqqqqqqqqqqqqqqqqqqqqqqqqqqqqqqqqqqqqqqqqqqqqqqqqqqqqqqqqqqqqqqqqqqqqqqqqqqqqqqqqqqqqqqqqqqqqqqqqqqqqqqqqqqqqqqqqqqqqqqqqqqqqq//PkxAAAAANIAAAAAExBTUUzLjEwMKqqqqqqqqqqqqqqqqqqqqqqqqqqqqqqqqqqqqqqqqqqqqqqqqqqqqqqqqqqqqqqqqqqqqqqqqqqqqqqqqqqqqqqqqqqqqqqqqqqqqqqqqqqqqqqqqqqqqqqqqqqqqqqqqqqqqqqqqqqqqqqqqqqqqqqqqqqqqqqqqqqqqqqqqqqqqqqqqqqqqqqqqqqqqqqqqqqqqqqqqqqqqqqqqqqqqqqqqqqqqqqqqqqqqqqqqqqqqqqqqqqqqqqqqqqqqqqqqqqqqqqqqqqqqqqTEFNRTMuMTAwqqqqqqqqqqqqqqqqqqqqqqqqqqqqqqqqqqqqqqqqqqqqqqqqqqqqqqqqqqqqqqqqqqqqqqqqqqqqqqqqqqqqqqqqqqqqqqqqqqqqqqqqqqqqqqqqqqqqqqqqqqqqqqqqqqqqqqqqqqqqqqqqqqqqqqqqqqqqqqqqqqqqqqqqqqqqqqqqqqqqqqqqqqqqqqqqqqqqqqqqqqqqqqqqqqqqqqqqqqqqqqqqqqqqqqqqqqqqqqqqqqqqqqqqqqqqqqqqqqqqqqqqqqqqqqqqqqqqqqqqqqqqqqqqqqqqqqqqqqqqqqqqqqqqqqqqqqqqqqqqqqqqqqqq//PkxAAAAANIAAAAAExBTUUzLjEwMKqqqqqqqqqqqqqqqqqqqqqqqqqqqqqqqqqqqqqqqqqqqqqqqqqqqqqqqqqqqqqqqqqqqqqqqqqqqqqqqqqqqqqqqqqqqqqqqqqqqqqqqqqqqqqqqqqqqqqqqqqqqqqqqqqqqqqqqqqqqqqqqqqqqqqqqqqqqqqqqqqqqqqqqqqqqqqqqqqqqqqqqqqqqqqqqqqqqqqqqqqqqqqqqqqqqqqqqqqqqqqqqqqqqqqqqqqqqqqqqqqqqqqqqqqqqqqqqqqqqqqqqqqqqqqqTEFNRTMuMTAwqqqqqqqqqqqqqqqqqqqqqqqqqqqqqqqqqqqqqqqqqqqqqqqqqqqqqqqqqqqqqqqqqqqqqqqqqqqqqqqqqqqqqqqqqqqqqqqqqqqqqqqqqqqqqqqqqqqqqqqqqqqqqqqqqqqqqqqqqqqqqqqqqqqqqqqqqqqqqqqqqqqqqqqqqqqqqqqqqqqqqqqqqqqqqqqqqqqqqqqqqqqqqqqqqqqqqqqqqqqqqqqqqqqqqqqqqqqqqqqqqqqqqqqqqqqqqqqqqqqqqqqqqqqqqqqqqqqqqqqqqqqqqqqqqqqqqqqqqqqqqqqqqqqqqqqqqqqqqqqqqqqqqqqq//PkxAAAAANIAAAAAExBTUUzLjEwMKqqqqqqqqqqqqqqqqqqqqqqqqqqqqqqqqqqqqqqqqqqqqqqqqqqqqqqqqqqqqqqqqqqqqqqqqqqqqqqqqqqqqqqqqqqqqqqqqqqqqqqqqqqqqqqqqqqqqqqqqqqqqqqqqqqqqqqqqqqqqqqqqqqqqqqqqqqqqqqqqqqqqqqqqqqqqqqqqqqqqqqqqqqqqqqqqqqqqqqqqqqqqqqqqqqqqqqqqqqqqqqqqqqqqqqqqqqqqqqqqqqqqqqqqqqqqqqqqqqqqqqqqqqqqqqTEFNRTMuMTAwqqqqqqqqqqqqqqqqqqqqqqqqqqqqqqqqqqqqqqqqqqqqqqqqqqqqqqqqqqqqqqqqqqqqqqqqqqqqqqqqqqqqqqqqqqqqqqqqqqqqqqqqqqqqqqqqqqqqqqqqqqqqqqqqqqqqqqqqqqqqqqqqqqqqqqqqqqqqqqqqqqqqqqqqqqqqqqqqqqqqqqqqqqqqqqqqqqqqqqqqqqqqqqqqqqqqqqqqqqqqqqqqqqqqqqqqqqqqqqqqqqqqqqqqqqqqqqqqqqqqqqqqqqqqqqqqqqqqqqqqqqqqqqqqqqqqqqqqqqqqqqqqqqqqqqqqqqqqqqqqqqqqqqqq//PkxAAAAANIAAAAAExBTUUzLjEwMKqqqqqqqqqqqqqqqqqqqqqqqqqqqqqqqqqqqqqqqqqqqqqqqqqqqqqqqqqqqqqqqqqqqqqqqqqqqqqqqqqqqqqqqqqqqqqqqqqqqqqqqqqqqqqqqqqqqqqqqqqqqqqqqqqqqqqqqqqqqqqqqqqqqqqqqqqqqqqqqqqqqqqqqqqqqqqqqqqqqqqqqqqqqqqqqqqqqqqqqqqqqqqqqqqqqqqqqqqqqqqqqqqqqqqqqqqqqqqqqqqqqqqqqqqqqqqqqqqqqqqqqqqqqqqqTEFNRTMuMTAwqqqqqqqqqqqqqqqqqqqqqqqqqqqqqqqqqqqqqqqqqqqqqqqqqqqqqqqqqqqqqqqqqqqqqqqqqqqqqqqqqqqqqqqqqqqqqqqqqqqqqqqqqqqqqqqqqqqqqqqqqqqqqqqqqqqqqqqqqqqqqqqqqqqqqqqqqqqqqqqqqqqqqqqqqqqqqqqqqqqqqqqqqqqqqqqqqqqqqqqqqqqqqqqqqqqqqqqqqqqqqqqqqqqqqqqqqqqqqqqqqqqqqqqqqqqqqqqqqqqqqqqqqqqqqqqqqqqqqqqqqqqqqqqqqqqqqqqqqqqqqqqqqqqqqqqqqqqqqqqqqqqqqqqq//PkxAAAAANIAAAAAExBTUUzLjEwMKqqqqqqqqqqqqqqqqqqqqqqqqqqqqqqqqqqqqqqqqqqqqqqqqqqqqqqqqqqqqqqqqqqqqqqqqqqqqqqqqqqqqqqqqqqqqqqqqqqqqqqqqqqqqqqqqqqqqqqqqqqqqqqqqqqqqqqqqqqqqqqqqqqqqqqqqqqqqqqqqqqqqqqqqqqqqqqqqqqqqqqqqqqqqqqqqqqqqqqqqqqqqqqqqqqqqqqqqqqqqqqqqqqqqqqqqqqqqqqqqqqqqqqqqqqqqqqqqqqqqqqqqqqqqqqTEFNRTMuMTAwqqqqqqqqqqqqqqqqqqqqqqqqqqqqqqqqqqqqqqqqqqqqqqqqqqqqqqqqqqqqqqqqqqqqqqqqqqqqqqqqqqqqqqqqqqqqqqqqqqqqqqqqqqqqqqqqqqqqqqqqqqqqqqqqqqqqqqqqqqqqqqqqqqqqqqqqqqqqqqqqqqqqqqqqqqqqqqqqqqqqqqqqqqqqqqqqqqqqqqqqqqqqqqqqqqqqqqqqqqqqqqqqqqqqqqqqqqqqqqqqqqqqqqqqqqqqqqqqqqqqqqqqqqqqqqqqqqqqqqqqqqqqqqqqqqqqqqqqqqqqqqqqqqqqqqqqqqqqqqqqqqqqqqqq\" type=\"audio/mpeg\" />\n",
              "                    Your browser does not support the audio element.\n",
              "                </audio>\n",
              "              "
            ]
          },
          "metadata": {},
          "execution_count": 10
        }
      ]
    },
    {
      "cell_type": "markdown",
      "source": [
        "---"
      ],
      "metadata": {
        "id": "bRQX-f5P4U-1"
      }
    },
    {
      "cell_type": "code",
      "source": [
        "\n",
        "from google.colab import drive\n",
        "drive.mount('/content/drive')"
      ],
      "metadata": {
        "id": "e0yanfblj2TL",
        "colab": {
          "base_uri": "https://localhost:8080/"
        },
        "outputId": "e952dafa-c324-470a-e22f-6d298e5fb5ed"
      },
      "execution_count": null,
      "outputs": [
        {
          "output_type": "stream",
          "name": "stdout",
          "text": [
            "Mounted at /content/drive\n"
          ]
        }
      ]
    },
    {
      "cell_type": "code",
      "source": [
        "!ls /content/drive/MyDrive/shiwan/audios_volc"
      ],
      "metadata": {
        "colab": {
          "base_uri": "https://localhost:8080/"
        },
        "id": "KWMJtiuR4Wum",
        "outputId": "278385a5-94e5-476a-a6dd-a7a24fe20915"
      },
      "execution_count": null,
      "outputs": [
        {
          "output_type": "stream",
          "name": "stdout",
          "text": [
            "audio_in_batch_0.zip   audio_in_batch_24.zip  audio_in_batch_39.zip  audio_in_batch_53.zip\n",
            "audio_in_batch_10.zip  audio_in_batch_25.zip  audio_in_batch_3.zip   audio_in_batch_54.zip\n",
            "audio_in_batch_11.zip  audio_in_batch_26.zip  audio_in_batch_40.zip  audio_in_batch_55.zip\n",
            "audio_in_batch_12.zip  audio_in_batch_27.zip  audio_in_batch_41.zip  audio_in_batch_56.zip\n",
            "audio_in_batch_13.zip  audio_in_batch_28.zip  audio_in_batch_42.zip  audio_in_batch_57.zip\n",
            "audio_in_batch_14.zip  audio_in_batch_29.zip  audio_in_batch_43.zip  audio_in_batch_58.zip\n",
            "audio_in_batch_15.zip  audio_in_batch_2.zip   audio_in_batch_44.zip  audio_in_batch_59.zip\n",
            "audio_in_batch_16.zip  audio_in_batch_30.zip  audio_in_batch_45.zip  audio_in_batch_5.zip\n",
            "audio_in_batch_17.zip  audio_in_batch_31.zip  audio_in_batch_46.zip  audio_in_batch_60.zip\n",
            "audio_in_batch_18.zip  audio_in_batch_32.zip  audio_in_batch_47.zip  audio_in_batch_61.zip\n",
            "audio_in_batch_19.zip  audio_in_batch_33.zip  audio_in_batch_48.zip  audio_in_batch_62.zip\n",
            "audio_in_batch_1.zip   audio_in_batch_34.zip  audio_in_batch_49.zip  audio_in_batch_6.zip\n",
            "audio_in_batch_20.zip  audio_in_batch_35.zip  audio_in_batch_4.zip   audio_in_batch_7.zip\n",
            "audio_in_batch_21.zip  audio_in_batch_36.zip  audio_in_batch_50.zip  audio_in_batch_8.zip\n",
            "audio_in_batch_22.zip  audio_in_batch_37.zip  audio_in_batch_51.zip  audio_in_batch_9.zip\n",
            "audio_in_batch_23.zip  audio_in_batch_38.zip  audio_in_batch_52.zip\n"
          ]
        }
      ]
    },
    {
      "cell_type": "markdown",
      "source": [
        "请帮我实现一段python代码，把\n",
        "\n",
        "/content/drive/MyDrive/shiwan/audios_volc\n",
        "\n",
        "目录下的所有zip 转移到到当前目录下\n",
        "\n",
        "再把这些文件压缩成一个完整的zip all_audios.zip"
      ],
      "metadata": {
        "id": "vtl-yA1O4klN"
      }
    },
    {
      "cell_type": "code",
      "source": [
        "import os\n",
        "import shutil\n",
        "import zipfile\n",
        "\n",
        "# 源目录和目标目录\n",
        "source_dir = '/content/drive/MyDrive/shiwan/audios_volc'\n",
        "target_dir = '.'\n",
        "\n",
        "# 遍历源目录中的所有文件\n",
        "for filename in os.listdir(source_dir):\n",
        "    # 检查是否是zip文件\n",
        "    if filename.endswith('.zip'):\n",
        "        source_file = os.path.join(source_dir, filename)\n",
        "        target_file = os.path.join(target_dir, filename)\n",
        "\n",
        "        # 移动zip文件到当前目录\n",
        "        shutil.copy(source_file, target_file)\n",
        "        print(f'Moved {filename} to current directory.')\n",
        "\n",
        "\n"
      ],
      "metadata": {
        "colab": {
          "base_uri": "https://localhost:8080/",
          "height": 1000
        },
        "id": "gRKW_pIg4jcx",
        "outputId": "682cf229-490f-43fb-9e2f-b047289377b6"
      },
      "execution_count": null,
      "outputs": [
        {
          "output_type": "stream",
          "name": "stdout",
          "text": [
            "Moved audio_in_batch_0.zip to current directory.\n",
            "Moved audio_in_batch_1.zip to current directory.\n",
            "Moved audio_in_batch_2.zip to current directory.\n",
            "Moved audio_in_batch_3.zip to current directory.\n",
            "Moved audio_in_batch_4.zip to current directory.\n",
            "Moved audio_in_batch_5.zip to current directory.\n",
            "Moved audio_in_batch_6.zip to current directory.\n",
            "Moved audio_in_batch_7.zip to current directory.\n",
            "Moved audio_in_batch_8.zip to current directory.\n",
            "Moved audio_in_batch_9.zip to current directory.\n",
            "Moved audio_in_batch_10.zip to current directory.\n",
            "Moved audio_in_batch_11.zip to current directory.\n",
            "Moved audio_in_batch_12.zip to current directory.\n",
            "Moved audio_in_batch_13.zip to current directory.\n",
            "Moved audio_in_batch_14.zip to current directory.\n",
            "Moved audio_in_batch_15.zip to current directory.\n",
            "Moved audio_in_batch_16.zip to current directory.\n",
            "Moved audio_in_batch_17.zip to current directory.\n",
            "Moved audio_in_batch_18.zip to current directory.\n",
            "Moved audio_in_batch_19.zip to current directory.\n",
            "Moved audio_in_batch_20.zip to current directory.\n",
            "Moved audio_in_batch_21.zip to current directory.\n",
            "Moved audio_in_batch_22.zip to current directory.\n",
            "Moved audio_in_batch_23.zip to current directory.\n",
            "Moved audio_in_batch_24.zip to current directory.\n",
            "Moved audio_in_batch_25.zip to current directory.\n",
            "Moved audio_in_batch_26.zip to current directory.\n",
            "Moved audio_in_batch_27.zip to current directory.\n",
            "Moved audio_in_batch_28.zip to current directory.\n",
            "Moved audio_in_batch_29.zip to current directory.\n",
            "Moved audio_in_batch_30.zip to current directory.\n",
            "Moved audio_in_batch_31.zip to current directory.\n",
            "Moved audio_in_batch_32.zip to current directory.\n",
            "Moved audio_in_batch_33.zip to current directory.\n",
            "Moved audio_in_batch_34.zip to current directory.\n",
            "Moved audio_in_batch_35.zip to current directory.\n",
            "Moved audio_in_batch_36.zip to current directory.\n",
            "Moved audio_in_batch_37.zip to current directory.\n",
            "Moved audio_in_batch_38.zip to current directory.\n",
            "Moved audio_in_batch_39.zip to current directory.\n",
            "Moved audio_in_batch_40.zip to current directory.\n",
            "Moved audio_in_batch_41.zip to current directory.\n",
            "Moved audio_in_batch_42.zip to current directory.\n",
            "Moved audio_in_batch_43.zip to current directory.\n",
            "Moved audio_in_batch_44.zip to current directory.\n",
            "Moved audio_in_batch_45.zip to current directory.\n",
            "Moved audio_in_batch_46.zip to current directory.\n",
            "Moved audio_in_batch_47.zip to current directory.\n",
            "Moved audio_in_batch_48.zip to current directory.\n",
            "Moved audio_in_batch_49.zip to current directory.\n",
            "Moved audio_in_batch_50.zip to current directory.\n",
            "Moved audio_in_batch_51.zip to current directory.\n",
            "Moved audio_in_batch_52.zip to current directory.\n",
            "Moved audio_in_batch_53.zip to current directory.\n",
            "Moved audio_in_batch_54.zip to current directory.\n",
            "Moved audio_in_batch_55.zip to current directory.\n",
            "Moved audio_in_batch_56.zip to current directory.\n",
            "Moved audio_in_batch_57.zip to current directory.\n",
            "Moved audio_in_batch_58.zip to current directory.\n",
            "Moved audio_in_batch_59.zip to current directory.\n",
            "Moved audio_in_batch_60.zip to current directory.\n",
            "Moved audio_in_batch_61.zip to current directory.\n",
            "Moved audio_in_batch_62.zip to current directory.\n",
            "Added audio_in_batch_45.zip to all_audios.zip\n",
            "Added audio_in_batch_3.zip to all_audios.zip\n",
            "Added audio_in_batch_57.zip to all_audios.zip\n",
            "Added audio_in_batch_32.zip to all_audios.zip\n",
            "Added audio_in_batch_55.zip to all_audios.zip\n",
            "Added audio_in_batch_39.zip to all_audios.zip\n",
            "Added audio_in_batch_47.zip to all_audios.zip\n",
            "Added audio_in_batch_41.zip to all_audios.zip\n",
            "Added audio_in_batch_25.zip to all_audios.zip\n",
            "Added audio_in_batch_61.zip to all_audios.zip\n",
            "Added audio_in_batch_1.zip to all_audios.zip\n",
            "Added audio_in_batch_28.zip to all_audios.zip\n",
            "Added audio_in_batch_51.zip to all_audios.zip\n",
            "Added audio_in_batch_15.zip to all_audios.zip\n",
            "Added audio_in_batch_10.zip to all_audios.zip\n",
            "Added audio_in_batch_17.zip to all_audios.zip\n",
            "Added audio_in_batch_12.zip to all_audios.zip\n",
            "Added audio_in_batch_19.zip to all_audios.zip\n",
            "Added audio_in_batch_34.zip to all_audios.zip\n",
            "Added audio_in_batch_24.zip to all_audios.zip\n",
            "Added audio_in_batch_0.zip to all_audios.zip\n",
            "Added audio_in_batch_35.zip to all_audios.zip\n",
            "Added audio_in_batch_30.zip to all_audios.zip\n",
            "Added audio_in_batch_8.zip to all_audios.zip\n",
            "Added audio_in_batch_4.zip to all_audios.zip\n",
            "Added audio_in_batch_36.zip to all_audios.zip\n",
            "Added audio_in_batch_16.zip to all_audios.zip\n",
            "Added audio_in_batch_20.zip to all_audios.zip\n",
            "Added audio_in_batch_29.zip to all_audios.zip\n",
            "Added audio_in_batch_2.zip to all_audios.zip\n",
            "Added audio_in_batch_49.zip to all_audios.zip\n",
            "Added audio_in_batch_48.zip to all_audios.zip\n",
            "Added audio_in_batch_50.zip to all_audios.zip\n",
            "Added audio_in_batch_26.zip to all_audios.zip\n",
            "Added audio_in_batch_11.zip to all_audios.zip\n",
            "Added audio_in_batch_56.zip to all_audios.zip\n",
            "Added audio_in_batch_59.zip to all_audios.zip\n",
            "Added audio_in_batch_9.zip to all_audios.zip\n",
            "Added audio_in_batch_22.zip to all_audios.zip\n",
            "Added audio_in_batch_42.zip to all_audios.zip\n",
            "Added audio_in_batch_31.zip to all_audios.zip\n",
            "Added audio_in_batch_52.zip to all_audios.zip\n",
            "Added audio_in_batch_62.zip to all_audios.zip\n",
            "Added audio_in_batch_13.zip to all_audios.zip\n",
            "Added audio_in_batch_23.zip to all_audios.zip\n",
            "Added audio_in_batch_60.zip to all_audios.zip\n",
            "Added audio_in_batch_38.zip to all_audios.zip\n",
            "Added audio_in_batch_21.zip to all_audios.zip\n",
            "Added audio_in_batch_58.zip to all_audios.zip\n",
            "Added audio_in_batch_33.zip to all_audios.zip\n",
            "Added audio_in_batch_46.zip to all_audios.zip\n",
            "Added audio_in_batch_27.zip to all_audios.zip\n",
            "Added audio_in_batch_44.zip to all_audios.zip\n",
            "Added audio_in_batch_5.zip to all_audios.zip\n"
          ]
        },
        {
          "output_type": "error",
          "ename": "RuntimeError",
          "evalue": "File size unexpectedly exceeded ZIP64 limit",
          "traceback": [
            "\u001b[0;31m---------------------------------------------------------------------------\u001b[0m",
            "\u001b[0;31mKeyboardInterrupt\u001b[0m                         Traceback (most recent call last)",
            "\u001b[0;32m/usr/lib/python3.10/zipfile.py\u001b[0m in \u001b[0;36mwrite\u001b[0;34m(self, filename, arcname, compress_type, compresslevel)\u001b[0m\n\u001b[1;32m   1775\u001b[0m             \u001b[0;32mwith\u001b[0m \u001b[0mopen\u001b[0m\u001b[0;34m(\u001b[0m\u001b[0mfilename\u001b[0m\u001b[0;34m,\u001b[0m \u001b[0;34m\"rb\"\u001b[0m\u001b[0;34m)\u001b[0m \u001b[0;32mas\u001b[0m \u001b[0msrc\u001b[0m\u001b[0;34m,\u001b[0m \u001b[0mself\u001b[0m\u001b[0;34m.\u001b[0m\u001b[0mopen\u001b[0m\u001b[0;34m(\u001b[0m\u001b[0mzinfo\u001b[0m\u001b[0;34m,\u001b[0m \u001b[0;34m'w'\u001b[0m\u001b[0;34m)\u001b[0m \u001b[0;32mas\u001b[0m \u001b[0mdest\u001b[0m\u001b[0;34m:\u001b[0m\u001b[0;34m\u001b[0m\u001b[0;34m\u001b[0m\u001b[0m\n\u001b[0;32m-> 1776\u001b[0;31m                 \u001b[0mshutil\u001b[0m\u001b[0;34m.\u001b[0m\u001b[0mcopyfileobj\u001b[0m\u001b[0;34m(\u001b[0m\u001b[0msrc\u001b[0m\u001b[0;34m,\u001b[0m \u001b[0mdest\u001b[0m\u001b[0;34m,\u001b[0m \u001b[0;36m1024\u001b[0m\u001b[0;34m*\u001b[0m\u001b[0;36m8\u001b[0m\u001b[0;34m)\u001b[0m\u001b[0;34m\u001b[0m\u001b[0;34m\u001b[0m\u001b[0m\n\u001b[0m\u001b[1;32m   1777\u001b[0m \u001b[0;34m\u001b[0m\u001b[0m\n",
            "\u001b[0;32m/usr/lib/python3.10/shutil.py\u001b[0m in \u001b[0;36mcopyfileobj\u001b[0;34m(fsrc, fdst, length)\u001b[0m\n\u001b[1;32m    197\u001b[0m             \u001b[0;32mbreak\u001b[0m\u001b[0;34m\u001b[0m\u001b[0;34m\u001b[0m\u001b[0m\n\u001b[0;32m--> 198\u001b[0;31m         \u001b[0mfdst_write\u001b[0m\u001b[0;34m(\u001b[0m\u001b[0mbuf\u001b[0m\u001b[0;34m)\u001b[0m\u001b[0;34m\u001b[0m\u001b[0;34m\u001b[0m\u001b[0m\n\u001b[0m\u001b[1;32m    199\u001b[0m \u001b[0;34m\u001b[0m\u001b[0m\n",
            "\u001b[0;32m/usr/lib/python3.10/zipfile.py\u001b[0m in \u001b[0;36mwrite\u001b[0;34m(self, data)\u001b[0m\n\u001b[1;32m   1140\u001b[0m             \u001b[0mself\u001b[0m\u001b[0;34m.\u001b[0m\u001b[0m_compress_size\u001b[0m \u001b[0;34m+=\u001b[0m \u001b[0mlen\u001b[0m\u001b[0;34m(\u001b[0m\u001b[0mdata\u001b[0m\u001b[0;34m)\u001b[0m\u001b[0;34m\u001b[0m\u001b[0;34m\u001b[0m\u001b[0m\n\u001b[0;32m-> 1141\u001b[0;31m         \u001b[0mself\u001b[0m\u001b[0;34m.\u001b[0m\u001b[0m_fileobj\u001b[0m\u001b[0;34m.\u001b[0m\u001b[0mwrite\u001b[0m\u001b[0;34m(\u001b[0m\u001b[0mdata\u001b[0m\u001b[0;34m)\u001b[0m\u001b[0;34m\u001b[0m\u001b[0;34m\u001b[0m\u001b[0m\n\u001b[0m\u001b[1;32m   1142\u001b[0m         \u001b[0;32mreturn\u001b[0m \u001b[0mnbytes\u001b[0m\u001b[0;34m\u001b[0m\u001b[0;34m\u001b[0m\u001b[0m\n",
            "\u001b[0;31mKeyboardInterrupt\u001b[0m: ",
            "\nDuring handling of the above exception, another exception occurred:\n",
            "\u001b[0;31mRuntimeError\u001b[0m                              Traceback (most recent call last)",
            "\u001b[0;32m<ipython-input-3-189ad3a96cf1>\u001b[0m in \u001b[0;36m<cell line: 21>\u001b[0;34m()\u001b[0m\n\u001b[1;32m     23\u001b[0m         \u001b[0;32mif\u001b[0m \u001b[0mfilename\u001b[0m\u001b[0;34m.\u001b[0m\u001b[0mendswith\u001b[0m\u001b[0;34m(\u001b[0m\u001b[0;34m'.zip'\u001b[0m\u001b[0;34m)\u001b[0m\u001b[0;34m:\u001b[0m\u001b[0;34m\u001b[0m\u001b[0;34m\u001b[0m\u001b[0m\n\u001b[1;32m     24\u001b[0m             \u001b[0;31m# 添加文件到zip\u001b[0m\u001b[0;34m\u001b[0m\u001b[0;34m\u001b[0m\u001b[0m\n\u001b[0;32m---> 25\u001b[0;31m             \u001b[0mzipf\u001b[0m\u001b[0;34m.\u001b[0m\u001b[0mwrite\u001b[0m\u001b[0;34m(\u001b[0m\u001b[0mfilename\u001b[0m\u001b[0;34m)\u001b[0m\u001b[0;34m\u001b[0m\u001b[0;34m\u001b[0m\u001b[0m\n\u001b[0m\u001b[1;32m     26\u001b[0m             \u001b[0mprint\u001b[0m\u001b[0;34m(\u001b[0m\u001b[0;34mf'Added {filename} to all_audios.zip'\u001b[0m\u001b[0;34m)\u001b[0m\u001b[0;34m\u001b[0m\u001b[0;34m\u001b[0m\u001b[0m\n\u001b[1;32m     27\u001b[0m \u001b[0;34m\u001b[0m\u001b[0m\n",
            "\u001b[0;32m/usr/lib/python3.10/zipfile.py\u001b[0m in \u001b[0;36mwrite\u001b[0;34m(self, filename, arcname, compress_type, compresslevel)\u001b[0m\n\u001b[1;32m   1773\u001b[0m                 \u001b[0mself\u001b[0m\u001b[0;34m.\u001b[0m\u001b[0mstart_dir\u001b[0m \u001b[0;34m=\u001b[0m \u001b[0mself\u001b[0m\u001b[0;34m.\u001b[0m\u001b[0mfp\u001b[0m\u001b[0;34m.\u001b[0m\u001b[0mtell\u001b[0m\u001b[0;34m(\u001b[0m\u001b[0;34m)\u001b[0m\u001b[0;34m\u001b[0m\u001b[0;34m\u001b[0m\u001b[0m\n\u001b[1;32m   1774\u001b[0m         \u001b[0;32melse\u001b[0m\u001b[0;34m:\u001b[0m\u001b[0;34m\u001b[0m\u001b[0;34m\u001b[0m\u001b[0m\n\u001b[0;32m-> 1775\u001b[0;31m             \u001b[0;32mwith\u001b[0m \u001b[0mopen\u001b[0m\u001b[0;34m(\u001b[0m\u001b[0mfilename\u001b[0m\u001b[0;34m,\u001b[0m \u001b[0;34m\"rb\"\u001b[0m\u001b[0;34m)\u001b[0m \u001b[0;32mas\u001b[0m \u001b[0msrc\u001b[0m\u001b[0;34m,\u001b[0m \u001b[0mself\u001b[0m\u001b[0;34m.\u001b[0m\u001b[0mopen\u001b[0m\u001b[0;34m(\u001b[0m\u001b[0mzinfo\u001b[0m\u001b[0;34m,\u001b[0m \u001b[0;34m'w'\u001b[0m\u001b[0;34m)\u001b[0m \u001b[0;32mas\u001b[0m \u001b[0mdest\u001b[0m\u001b[0;34m:\u001b[0m\u001b[0;34m\u001b[0m\u001b[0;34m\u001b[0m\u001b[0m\n\u001b[0m\u001b[1;32m   1776\u001b[0m                 \u001b[0mshutil\u001b[0m\u001b[0;34m.\u001b[0m\u001b[0mcopyfileobj\u001b[0m\u001b[0;34m(\u001b[0m\u001b[0msrc\u001b[0m\u001b[0;34m,\u001b[0m \u001b[0mdest\u001b[0m\u001b[0;34m,\u001b[0m \u001b[0;36m1024\u001b[0m\u001b[0;34m*\u001b[0m\u001b[0;36m8\u001b[0m\u001b[0;34m)\u001b[0m\u001b[0;34m\u001b[0m\u001b[0;34m\u001b[0m\u001b[0m\n\u001b[1;32m   1777\u001b[0m \u001b[0;34m\u001b[0m\u001b[0m\n",
            "\u001b[0;32m/usr/lib/python3.10/zipfile.py\u001b[0m in \u001b[0;36mclose\u001b[0;34m(self)\u001b[0m\n\u001b[1;32m   1168\u001b[0m                 \u001b[0;32mif\u001b[0m \u001b[0;32mnot\u001b[0m \u001b[0mself\u001b[0m\u001b[0;34m.\u001b[0m\u001b[0m_zip64\u001b[0m\u001b[0;34m:\u001b[0m\u001b[0;34m\u001b[0m\u001b[0;34m\u001b[0m\u001b[0m\n\u001b[1;32m   1169\u001b[0m                     \u001b[0;32mif\u001b[0m \u001b[0mself\u001b[0m\u001b[0;34m.\u001b[0m\u001b[0m_file_size\u001b[0m \u001b[0;34m>\u001b[0m \u001b[0mZIP64_LIMIT\u001b[0m\u001b[0;34m:\u001b[0m\u001b[0;34m\u001b[0m\u001b[0;34m\u001b[0m\u001b[0m\n\u001b[0;32m-> 1170\u001b[0;31m                         raise RuntimeError(\n\u001b[0m\u001b[1;32m   1171\u001b[0m                             'File size unexpectedly exceeded ZIP64 limit')\n\u001b[1;32m   1172\u001b[0m                     \u001b[0;32mif\u001b[0m \u001b[0mself\u001b[0m\u001b[0;34m.\u001b[0m\u001b[0m_compress_size\u001b[0m \u001b[0;34m>\u001b[0m \u001b[0mZIP64_LIMIT\u001b[0m\u001b[0;34m:\u001b[0m\u001b[0;34m\u001b[0m\u001b[0;34m\u001b[0m\u001b[0m\n",
            "\u001b[0;31mRuntimeError\u001b[0m: File size unexpectedly exceeded ZIP64 limit"
          ]
        }
      ]
    },
    {
      "cell_type": "code",
      "source": [
        "# 创建一个新的zip文件，包含当前目录下的所有zip文件\n",
        "with zipfile.ZipFile('all_audios.zip', 'w') as zipf:\n",
        "    for filename in os.listdir(target_dir):\n",
        "        if filename.endswith('.zip') and filename.startswith('audio_in_batch'):\n",
        "            # 添加文件到zip\n",
        "            zipf.write(filename)\n",
        "            print(f'Added {filename} to all_audios.zip')\n",
        "\n",
        "print('Created all_audios.zip with all zip files in the current directory.')"
      ],
      "metadata": {
        "colab": {
          "base_uri": "https://localhost:8080/"
        },
        "id": "vV8D8xXz5KG0",
        "outputId": "65d73eec-df7c-4115-b507-135e502072b5"
      },
      "execution_count": null,
      "outputs": [
        {
          "output_type": "stream",
          "name": "stdout",
          "text": [
            "Added audio_in_batch_45.zip to all_audios.zip\n",
            "Added audio_in_batch_3.zip to all_audios.zip\n",
            "Added audio_in_batch_57.zip to all_audios.zip\n",
            "Added audio_in_batch_32.zip to all_audios.zip\n",
            "Added audio_in_batch_55.zip to all_audios.zip\n",
            "Added audio_in_batch_39.zip to all_audios.zip\n",
            "Added audio_in_batch_47.zip to all_audios.zip\n",
            "Added audio_in_batch_41.zip to all_audios.zip\n",
            "Added audio_in_batch_25.zip to all_audios.zip\n",
            "Added audio_in_batch_61.zip to all_audios.zip\n",
            "Added audio_in_batch_1.zip to all_audios.zip\n",
            "Added audio_in_batch_28.zip to all_audios.zip\n",
            "Added audio_in_batch_51.zip to all_audios.zip\n",
            "Added audio_in_batch_15.zip to all_audios.zip\n",
            "Added audio_in_batch_10.zip to all_audios.zip\n",
            "Added audio_in_batch_17.zip to all_audios.zip\n",
            "Added audio_in_batch_12.zip to all_audios.zip\n",
            "Added audio_in_batch_19.zip to all_audios.zip\n",
            "Added audio_in_batch_34.zip to all_audios.zip\n",
            "Added audio_in_batch_24.zip to all_audios.zip\n",
            "Added audio_in_batch_0.zip to all_audios.zip\n",
            "Added audio_in_batch_35.zip to all_audios.zip\n",
            "Added audio_in_batch_30.zip to all_audios.zip\n",
            "Added audio_in_batch_8.zip to all_audios.zip\n",
            "Added audio_in_batch_4.zip to all_audios.zip\n",
            "Added audio_in_batch_36.zip to all_audios.zip\n",
            "Added audio_in_batch_16.zip to all_audios.zip\n",
            "Added audio_in_batch_20.zip to all_audios.zip\n",
            "Added audio_in_batch_29.zip to all_audios.zip\n",
            "Added audio_in_batch_2.zip to all_audios.zip\n",
            "Added audio_in_batch_49.zip to all_audios.zip\n",
            "Added audio_in_batch_48.zip to all_audios.zip\n",
            "Added audio_in_batch_50.zip to all_audios.zip\n",
            "Added audio_in_batch_26.zip to all_audios.zip\n",
            "Added audio_in_batch_11.zip to all_audios.zip\n",
            "Added audio_in_batch_56.zip to all_audios.zip\n",
            "Added audio_in_batch_59.zip to all_audios.zip\n",
            "Added audio_in_batch_9.zip to all_audios.zip\n",
            "Added audio_in_batch_22.zip to all_audios.zip\n",
            "Added audio_in_batch_42.zip to all_audios.zip\n",
            "Added audio_in_batch_31.zip to all_audios.zip\n",
            "Added audio_in_batch_52.zip to all_audios.zip\n",
            "Added audio_in_batch_62.zip to all_audios.zip\n",
            "Added audio_in_batch_13.zip to all_audios.zip\n",
            "Added audio_in_batch_23.zip to all_audios.zip\n",
            "Added audio_in_batch_60.zip to all_audios.zip\n",
            "Added audio_in_batch_38.zip to all_audios.zip\n",
            "Added audio_in_batch_21.zip to all_audios.zip\n",
            "Added audio_in_batch_58.zip to all_audios.zip\n",
            "Added audio_in_batch_33.zip to all_audios.zip\n",
            "Added audio_in_batch_46.zip to all_audios.zip\n",
            "Added audio_in_batch_27.zip to all_audios.zip\n",
            "Added audio_in_batch_44.zip to all_audios.zip\n",
            "Added audio_in_batch_5.zip to all_audios.zip\n",
            "Added audio_in_batch_37.zip to all_audios.zip\n",
            "Added audio_in_batch_53.zip to all_audios.zip\n",
            "Added audio_in_batch_43.zip to all_audios.zip\n",
            "Added audio_in_batch_40.zip to all_audios.zip\n",
            "Added audio_in_batch_54.zip to all_audios.zip\n",
            "Added audio_in_batch_6.zip to all_audios.zip\n",
            "Added audio_in_batch_7.zip to all_audios.zip\n",
            "Added audio_in_batch_14.zip to all_audios.zip\n",
            "Added audio_in_batch_18.zip to all_audios.zip\n",
            "Created all_audios.zip with all zip files in the current directory.\n"
          ]
        }
      ]
    },
    {
      "cell_type": "code",
      "source": [
        "import os\n",
        "import shutil\n",
        "import zipfile\n",
        "\n",
        "# 源目录和目标目录\n",
        "source_dir = '/content/drive/MyDrive/shiwan/audios_volc'\n",
        "target_dir = '.'\n",
        "\n",
        "# 文件列表，用于存储需要加入到压缩文件中的文件名\n",
        "zip_files = []\n",
        "\n",
        "# 遍历源目录中的所有文件\n",
        "for filename in os.listdir(source_dir):\n",
        "    # 检查是否是zip文件\n",
        "    if filename.endswith('.zip'):\n",
        "        source_file = os.path.join(source_dir, filename)\n",
        "        target_file = os.path.join(target_dir, filename)\n",
        "\n",
        "        # 复制zip文件到当前目录\n",
        "        shutil.copy(source_file, target_file)\n",
        "        print(f'Copied {filename} to current directory.')\n",
        "\n",
        "        # 添加到文件列表\n",
        "        zip_files.append(filename)\n",
        "\n",
        "# 创建一个新的zip文件，包含当前目录下的所有zip文件\n",
        "with zipfile.ZipFile('all_audios.zip', 'w') as zipf:\n",
        "    for filename in zip_files:\n",
        "        # 添加文件到zip\n",
        "        zipf.write(filename)\n",
        "        print(f'Added {filename} to all_audios.zip')\n",
        "\n",
        "# 拷贝all_audios.zip回原始目录\n",
        "destination_path = os.path.join(source_dir, 'all_audios.zip')\n",
        "shutil.copy('all_audios.zip', destination_path)\n",
        "print(f'Copied all_audios.zip back to {source_dir}')\n",
        "\n",
        "print('Completed all tasks.')\n"
      ],
      "metadata": {
        "colab": {
          "base_uri": "https://localhost:8080/",
          "height": 1000
        },
        "id": "u_Vs-AAX5vEm",
        "outputId": "82ef72a4-46bc-40fd-807c-5bf78977b682"
      },
      "execution_count": null,
      "outputs": [
        {
          "output_type": "stream",
          "name": "stdout",
          "text": [
            "Copied audio_in_batch_0.zip to current directory.\n",
            "Copied audio_in_batch_1.zip to current directory.\n",
            "Copied audio_in_batch_2.zip to current directory.\n",
            "Copied audio_in_batch_3.zip to current directory.\n",
            "Copied audio_in_batch_4.zip to current directory.\n",
            "Copied audio_in_batch_5.zip to current directory.\n",
            "Copied audio_in_batch_6.zip to current directory.\n",
            "Copied audio_in_batch_7.zip to current directory.\n",
            "Copied audio_in_batch_8.zip to current directory.\n",
            "Copied audio_in_batch_9.zip to current directory.\n",
            "Copied audio_in_batch_10.zip to current directory.\n",
            "Copied audio_in_batch_11.zip to current directory.\n",
            "Copied audio_in_batch_12.zip to current directory.\n",
            "Copied audio_in_batch_13.zip to current directory.\n",
            "Copied audio_in_batch_14.zip to current directory.\n",
            "Copied audio_in_batch_15.zip to current directory.\n",
            "Copied audio_in_batch_16.zip to current directory.\n",
            "Copied audio_in_batch_17.zip to current directory.\n",
            "Copied audio_in_batch_18.zip to current directory.\n",
            "Copied audio_in_batch_19.zip to current directory.\n",
            "Copied audio_in_batch_20.zip to current directory.\n",
            "Copied audio_in_batch_21.zip to current directory.\n",
            "Copied audio_in_batch_22.zip to current directory.\n",
            "Copied audio_in_batch_23.zip to current directory.\n",
            "Copied audio_in_batch_24.zip to current directory.\n",
            "Copied audio_in_batch_25.zip to current directory.\n",
            "Copied audio_in_batch_26.zip to current directory.\n",
            "Copied audio_in_batch_27.zip to current directory.\n",
            "Copied audio_in_batch_28.zip to current directory.\n",
            "Copied audio_in_batch_29.zip to current directory.\n",
            "Copied audio_in_batch_30.zip to current directory.\n",
            "Copied audio_in_batch_31.zip to current directory.\n",
            "Copied audio_in_batch_32.zip to current directory.\n",
            "Copied audio_in_batch_33.zip to current directory.\n",
            "Copied audio_in_batch_34.zip to current directory.\n",
            "Copied audio_in_batch_35.zip to current directory.\n",
            "Copied audio_in_batch_36.zip to current directory.\n",
            "Copied audio_in_batch_37.zip to current directory.\n",
            "Copied audio_in_batch_38.zip to current directory.\n",
            "Copied audio_in_batch_39.zip to current directory.\n",
            "Copied audio_in_batch_40.zip to current directory.\n"
          ]
        },
        {
          "output_type": "error",
          "ename": "KeyboardInterrupt",
          "evalue": "",
          "traceback": [
            "\u001b[0;31m---------------------------------------------------------------------------\u001b[0m",
            "\u001b[0;31mKeyboardInterrupt\u001b[0m                         Traceback (most recent call last)",
            "\u001b[0;32m<ipython-input-5-7c377bfee351>\u001b[0m in \u001b[0;36m<cell line: 13>\u001b[0;34m()\u001b[0m\n\u001b[1;32m     18\u001b[0m \u001b[0;34m\u001b[0m\u001b[0m\n\u001b[1;32m     19\u001b[0m         \u001b[0;31m# 复制zip文件到当前目录\u001b[0m\u001b[0;34m\u001b[0m\u001b[0;34m\u001b[0m\u001b[0m\n\u001b[0;32m---> 20\u001b[0;31m         \u001b[0mshutil\u001b[0m\u001b[0;34m.\u001b[0m\u001b[0mcopy\u001b[0m\u001b[0;34m(\u001b[0m\u001b[0msource_file\u001b[0m\u001b[0;34m,\u001b[0m \u001b[0mtarget_file\u001b[0m\u001b[0;34m)\u001b[0m\u001b[0;34m\u001b[0m\u001b[0;34m\u001b[0m\u001b[0m\n\u001b[0m\u001b[1;32m     21\u001b[0m         \u001b[0mprint\u001b[0m\u001b[0;34m(\u001b[0m\u001b[0;34mf'Copied {filename} to current directory.'\u001b[0m\u001b[0;34m)\u001b[0m\u001b[0;34m\u001b[0m\u001b[0;34m\u001b[0m\u001b[0m\n\u001b[1;32m     22\u001b[0m \u001b[0;34m\u001b[0m\u001b[0m\n",
            "\u001b[0;32m/usr/lib/python3.10/shutil.py\u001b[0m in \u001b[0;36mcopy\u001b[0;34m(src, dst, follow_symlinks)\u001b[0m\n\u001b[1;32m    415\u001b[0m     \u001b[0;32mif\u001b[0m \u001b[0mos\u001b[0m\u001b[0;34m.\u001b[0m\u001b[0mpath\u001b[0m\u001b[0;34m.\u001b[0m\u001b[0misdir\u001b[0m\u001b[0;34m(\u001b[0m\u001b[0mdst\u001b[0m\u001b[0;34m)\u001b[0m\u001b[0;34m:\u001b[0m\u001b[0;34m\u001b[0m\u001b[0;34m\u001b[0m\u001b[0m\n\u001b[1;32m    416\u001b[0m         \u001b[0mdst\u001b[0m \u001b[0;34m=\u001b[0m \u001b[0mos\u001b[0m\u001b[0;34m.\u001b[0m\u001b[0mpath\u001b[0m\u001b[0;34m.\u001b[0m\u001b[0mjoin\u001b[0m\u001b[0;34m(\u001b[0m\u001b[0mdst\u001b[0m\u001b[0;34m,\u001b[0m \u001b[0mos\u001b[0m\u001b[0;34m.\u001b[0m\u001b[0mpath\u001b[0m\u001b[0;34m.\u001b[0m\u001b[0mbasename\u001b[0m\u001b[0;34m(\u001b[0m\u001b[0msrc\u001b[0m\u001b[0;34m)\u001b[0m\u001b[0;34m)\u001b[0m\u001b[0;34m\u001b[0m\u001b[0;34m\u001b[0m\u001b[0m\n\u001b[0;32m--> 417\u001b[0;31m     \u001b[0mcopyfile\u001b[0m\u001b[0;34m(\u001b[0m\u001b[0msrc\u001b[0m\u001b[0;34m,\u001b[0m \u001b[0mdst\u001b[0m\u001b[0;34m,\u001b[0m \u001b[0mfollow_symlinks\u001b[0m\u001b[0;34m=\u001b[0m\u001b[0mfollow_symlinks\u001b[0m\u001b[0;34m)\u001b[0m\u001b[0;34m\u001b[0m\u001b[0;34m\u001b[0m\u001b[0m\n\u001b[0m\u001b[1;32m    418\u001b[0m     \u001b[0mcopymode\u001b[0m\u001b[0;34m(\u001b[0m\u001b[0msrc\u001b[0m\u001b[0;34m,\u001b[0m \u001b[0mdst\u001b[0m\u001b[0;34m,\u001b[0m \u001b[0mfollow_symlinks\u001b[0m\u001b[0;34m=\u001b[0m\u001b[0mfollow_symlinks\u001b[0m\u001b[0;34m)\u001b[0m\u001b[0;34m\u001b[0m\u001b[0;34m\u001b[0m\u001b[0m\n\u001b[1;32m    419\u001b[0m     \u001b[0;32mreturn\u001b[0m \u001b[0mdst\u001b[0m\u001b[0;34m\u001b[0m\u001b[0;34m\u001b[0m\u001b[0m\n",
            "\u001b[0;32m/usr/lib/python3.10/shutil.py\u001b[0m in \u001b[0;36mcopyfile\u001b[0;34m(src, dst, follow_symlinks)\u001b[0m\n\u001b[1;32m    265\u001b[0m                     \u001b[0;32melif\u001b[0m \u001b[0m_USE_CP_SENDFILE\u001b[0m\u001b[0;34m:\u001b[0m\u001b[0;34m\u001b[0m\u001b[0;34m\u001b[0m\u001b[0m\n\u001b[1;32m    266\u001b[0m                         \u001b[0;32mtry\u001b[0m\u001b[0;34m:\u001b[0m\u001b[0;34m\u001b[0m\u001b[0;34m\u001b[0m\u001b[0m\n\u001b[0;32m--> 267\u001b[0;31m                             \u001b[0m_fastcopy_sendfile\u001b[0m\u001b[0;34m(\u001b[0m\u001b[0mfsrc\u001b[0m\u001b[0;34m,\u001b[0m \u001b[0mfdst\u001b[0m\u001b[0;34m)\u001b[0m\u001b[0;34m\u001b[0m\u001b[0;34m\u001b[0m\u001b[0m\n\u001b[0m\u001b[1;32m    268\u001b[0m                             \u001b[0;32mreturn\u001b[0m \u001b[0mdst\u001b[0m\u001b[0;34m\u001b[0m\u001b[0;34m\u001b[0m\u001b[0m\n\u001b[1;32m    269\u001b[0m                         \u001b[0;32mexcept\u001b[0m \u001b[0m_GiveupOnFastCopy\u001b[0m\u001b[0;34m:\u001b[0m\u001b[0;34m\u001b[0m\u001b[0;34m\u001b[0m\u001b[0m\n",
            "\u001b[0;32m/usr/lib/python3.10/shutil.py\u001b[0m in \u001b[0;36m_fastcopy_sendfile\u001b[0;34m(fsrc, fdst)\u001b[0m\n\u001b[1;32m    140\u001b[0m     \u001b[0;32mwhile\u001b[0m \u001b[0;32mTrue\u001b[0m\u001b[0;34m:\u001b[0m\u001b[0;34m\u001b[0m\u001b[0;34m\u001b[0m\u001b[0m\n\u001b[1;32m    141\u001b[0m         \u001b[0;32mtry\u001b[0m\u001b[0;34m:\u001b[0m\u001b[0;34m\u001b[0m\u001b[0;34m\u001b[0m\u001b[0m\n\u001b[0;32m--> 142\u001b[0;31m             \u001b[0msent\u001b[0m \u001b[0;34m=\u001b[0m \u001b[0mos\u001b[0m\u001b[0;34m.\u001b[0m\u001b[0msendfile\u001b[0m\u001b[0;34m(\u001b[0m\u001b[0moutfd\u001b[0m\u001b[0;34m,\u001b[0m \u001b[0minfd\u001b[0m\u001b[0;34m,\u001b[0m \u001b[0moffset\u001b[0m\u001b[0;34m,\u001b[0m \u001b[0mblocksize\u001b[0m\u001b[0;34m)\u001b[0m\u001b[0;34m\u001b[0m\u001b[0;34m\u001b[0m\u001b[0m\n\u001b[0m\u001b[1;32m    143\u001b[0m         \u001b[0;32mexcept\u001b[0m \u001b[0mOSError\u001b[0m \u001b[0;32mas\u001b[0m \u001b[0merr\u001b[0m\u001b[0;34m:\u001b[0m\u001b[0;34m\u001b[0m\u001b[0;34m\u001b[0m\u001b[0m\n\u001b[1;32m    144\u001b[0m             \u001b[0;31m# ...in oder to have a more informative exception.\u001b[0m\u001b[0;34m\u001b[0m\u001b[0;34m\u001b[0m\u001b[0m\n",
            "\u001b[0;31mKeyboardInterrupt\u001b[0m: "
          ]
        }
      ]
    },
    {
      "cell_type": "code",
      "source": [
        "# 拷贝all_audios.zip回原始目录\n",
        "destination_path = os.path.join(source_dir, 'all_audios.zip')\n",
        "shutil.copy('all_audios.zip', destination_path)\n",
        "print(f'Copied all_audios.zip back to {source_dir}')\n",
        "\n",
        "print('Completed all tasks.')"
      ],
      "metadata": {
        "colab": {
          "base_uri": "https://localhost:8080/"
        },
        "id": "3ZUPfx9B6KHp",
        "outputId": "fa70e698-e998-4d71-9def-75c73cee648e"
      },
      "execution_count": null,
      "outputs": [
        {
          "output_type": "stream",
          "name": "stdout",
          "text": [
            "Copied all_audios.zip back to /content/drive/MyDrive/shiwan/audios_volc\n",
            "Completed all tasks.\n"
          ]
        }
      ]
    },
    {
      "cell_type": "code",
      "source": [],
      "metadata": {
        "id": "_HdmnJCs6N3G"
      },
      "execution_count": null,
      "outputs": []
    }
  ]
}