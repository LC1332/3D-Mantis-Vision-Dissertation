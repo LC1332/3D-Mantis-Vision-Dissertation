{
  "nbformat": 4,
  "nbformat_minor": 0,
  "metadata": {
    "colab": {
      "provenance": [],
      "authorship_tag": "ABX9TyN41NSfQtGjL20xI6glXUgj",
      "include_colab_link": true
    },
    "kernelspec": {
      "name": "python3",
      "display_name": "Python 3"
    },
    "language_info": {
      "name": "python"
    }
  },
  "cells": [
    {
      "cell_type": "markdown",
      "metadata": {
        "id": "view-in-github",
        "colab_type": "text"
      },
      "source": [
        "<a href=\"https://colab.research.google.com/github/LC1332/3D-Mantis-Vision-Dissertation/blob/main/notebook/LAIONclean.ipynb\" target=\"_parent\"><img src=\"https://colab.research.google.com/assets/colab-badge.svg\" alt=\"Open In Colab\"/></a>"
      ]
    },
    {
      "cell_type": "markdown",
      "source": [
        "## 对于MMC4和LAION的清理工作\n",
        "\n",
        "因为想训一个更好的CLIP，我们不得不在Image Coco Caption之外，去寻找更大的训练集。\n",
        "\n",
        "这里就不可避免要去考虑MC4和LAION的清理工作"
      ],
      "metadata": {
        "id": "jXP5xkpN_HAo"
      }
    },
    {
      "cell_type": "markdown",
      "source": [
        "## Source\n",
        "\n",
        "这里我们可以去考虑Hugging Face上面的LAION 2B\n",
        "\n",
        "https://huggingface.co/datasets/laion/laion2b-multi-vit-l-14-embeddings/tree/main\n",
        "\n",
        "而且居然有一个菩萨大神已经求了所有图片的embedding\n",
        "\n",
        "另一方面是可以去考虑\n",
        "\n",
        "https://github.com/allenai/mmc4\n",
        "\n"
      ],
      "metadata": {
        "id": "lOOQcsb__5xg"
      }
    },
    {
      "cell_type": "markdown",
      "source": [
        "## 另一方面\n",
        "\n",
        "另一方面我们要去考虑的是，要收集哪些数据。其实这里我们希望以CLIP-vit-l-14的词表为例子\n",
        "\n"
      ],
      "metadata": {
        "id": "3jo1DDAiAjWJ"
      }
    },
    {
      "cell_type": "code",
      "execution_count": null,
      "metadata": {
        "id": "4FDlNoc0_GM1"
      },
      "outputs": [],
      "source": []
    }
  ]
}